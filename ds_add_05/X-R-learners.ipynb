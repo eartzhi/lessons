{
 "cells": [
  {
   "cell_type": "markdown",
   "metadata": {
    "id": "nQBgNrO67A6t"
   },
   "source": [
    "# <center> X-learner, R-learner. Принципы работы. Практика"
   ]
  },
  {
   "cell_type": "markdown",
   "metadata": {
    "id": "VCrzkknd7A6x"
   },
   "source": [
    "Итак, давайте поработаем с X- и R- learner`ами c помощью библиотеки [CausalML](https://github.com/uber/causalml).\n",
    "\n",
    "**Примечание:**\n",
    "\n",
    "*В библиотеке scikit-uplift реализации X- и R- learner'ов отсутствуют.*\n"
   ]
  },
  {
   "cell_type": "markdown",
   "metadata": {
    "id": "IkWgKXbP7A6y"
   },
   "source": [
    "\n",
    "Для начала установим библиотеку (если вы не сделали этого ранее):"
   ]
  },
  {
   "cell_type": "code",
   "execution_count": 1,
   "metadata": {},
   "outputs": [],
   "source": [
    "# ! pip uninstall causalml"
   ]
  },
  {
   "cell_type": "code",
   "execution_count": 2,
   "metadata": {
    "executionInfo": {
     "elapsed": 6,
     "status": "ok",
     "timestamp": 1677406807625,
     "user": {
      "displayName": "Андрей Достоевский",
      "userId": "09718989537568551698"
     },
     "user_tz": -180
    },
    "id": "PHw8T1xH7A6y"
   },
   "outputs": [],
   "source": [
    "# ! pip install causalml catboost"
   ]
  },
  {
   "cell_type": "markdown",
   "metadata": {
    "id": "1E5r-mGv7A6z"
   },
   "source": [
    "Импортируем необходимые библиотеки и загрузим семпл данных"
   ]
  },
  {
   "cell_type": "code",
   "execution_count": 3,
   "metadata": {
    "colab": {
     "base_uri": "https://localhost:8080/",
     "height": 206
    },
    "executionInfo": {
     "elapsed": 12203,
     "status": "ok",
     "timestamp": 1677406484987,
     "user": {
      "displayName": "Андрей Достоевский",
      "userId": "09718989537568551698"
     },
     "user_tz": -180
    },
    "id": "x7jkepao7A6z",
    "outputId": "0aed7ff3-f1ad-4780-9059-1655f3474c28"
   },
   "outputs": [
    {
     "data": {
      "text/html": [
       "<div>\n",
       "<style scoped>\n",
       "    .dataframe tbody tr th:only-of-type {\n",
       "        vertical-align: middle;\n",
       "    }\n",
       "\n",
       "    .dataframe tbody tr th {\n",
       "        vertical-align: top;\n",
       "    }\n",
       "\n",
       "    .dataframe thead th {\n",
       "        text-align: right;\n",
       "    }\n",
       "</style>\n",
       "<table border=\"1\" class=\"dataframe\">\n",
       "  <thead>\n",
       "    <tr style=\"text-align: right;\">\n",
       "      <th></th>\n",
       "      <th>recency</th>\n",
       "      <th>history</th>\n",
       "      <th>used_discount</th>\n",
       "      <th>used_bogo</th>\n",
       "      <th>zip_code</th>\n",
       "      <th>is_referral</th>\n",
       "      <th>channel</th>\n",
       "      <th>treatment</th>\n",
       "      <th>target_class</th>\n",
       "    </tr>\n",
       "  </thead>\n",
       "  <tbody>\n",
       "    <tr>\n",
       "      <th>0</th>\n",
       "      <td>10</td>\n",
       "      <td>142.44</td>\n",
       "      <td>1</td>\n",
       "      <td>0</td>\n",
       "      <td>Surburban</td>\n",
       "      <td>0</td>\n",
       "      <td>Phone</td>\n",
       "      <td>Buy One Get One</td>\n",
       "      <td>2</td>\n",
       "    </tr>\n",
       "    <tr>\n",
       "      <th>1</th>\n",
       "      <td>6</td>\n",
       "      <td>329.08</td>\n",
       "      <td>1</td>\n",
       "      <td>1</td>\n",
       "      <td>Rural</td>\n",
       "      <td>1</td>\n",
       "      <td>Web</td>\n",
       "      <td>No Offer</td>\n",
       "      <td>0</td>\n",
       "    </tr>\n",
       "    <tr>\n",
       "      <th>2</th>\n",
       "      <td>7</td>\n",
       "      <td>180.65</td>\n",
       "      <td>0</td>\n",
       "      <td>1</td>\n",
       "      <td>Surburban</td>\n",
       "      <td>1</td>\n",
       "      <td>Web</td>\n",
       "      <td>Buy One Get One</td>\n",
       "      <td>2</td>\n",
       "    </tr>\n",
       "    <tr>\n",
       "      <th>3</th>\n",
       "      <td>9</td>\n",
       "      <td>675.83</td>\n",
       "      <td>1</td>\n",
       "      <td>0</td>\n",
       "      <td>Rural</td>\n",
       "      <td>1</td>\n",
       "      <td>Web</td>\n",
       "      <td>Discount</td>\n",
       "      <td>2</td>\n",
       "    </tr>\n",
       "    <tr>\n",
       "      <th>4</th>\n",
       "      <td>2</td>\n",
       "      <td>45.34</td>\n",
       "      <td>1</td>\n",
       "      <td>0</td>\n",
       "      <td>Urban</td>\n",
       "      <td>0</td>\n",
       "      <td>Web</td>\n",
       "      <td>Buy One Get One</td>\n",
       "      <td>2</td>\n",
       "    </tr>\n",
       "  </tbody>\n",
       "</table>\n",
       "</div>"
      ],
      "text/plain": [
       "   recency  history  used_discount  used_bogo   zip_code  is_referral channel  \\\n",
       "0       10   142.44              1          0  Surburban            0   Phone   \n",
       "1        6   329.08              1          1      Rural            1     Web   \n",
       "2        7   180.65              0          1  Surburban            1     Web   \n",
       "3        9   675.83              1          0      Rural            1     Web   \n",
       "4        2    45.34              1          0      Urban            0     Web   \n",
       "\n",
       "         treatment  target_class  \n",
       "0  Buy One Get One             2  \n",
       "1         No Offer             0  \n",
       "2  Buy One Get One             2  \n",
       "3         Discount             2  \n",
       "4  Buy One Get One             2  "
      ]
     },
     "execution_count": 3,
     "metadata": {},
     "output_type": "execute_result"
    }
   ],
   "source": [
    "import numpy as np \n",
    "import pandas as pd \n",
    "import matplotlib.pyplot as plt\n",
    "import seaborn as sns\n",
    "from sklearn.model_selection import train_test_split\n",
    "from sklearn.linear_model import LogisticRegression, LinearRegression\n",
    "\n",
    "# Импортируем X- и R-learner`ы (BaseXClassifier и BaseRClassifier) из библиотеки CausalML\n",
    "# Нам нужны именно Classifier, так как мы будем решать задачу классификации\n",
    "# Аналогичные реализации (Regressor) есть и для задач регрессии\n",
    "from causalml.inference.meta import BaseXClassifier, BaseRClassifier\n",
    "from catboost import CatBoostClassifier, CatBoostRegressor\n",
    "\n",
    "\n",
    "# Прочитаем файл с данными\n",
    "df = pd.read_csv(\"data/data_x.csv\")\n",
    "df.head()"
   ]
  },
  {
   "cell_type": "markdown",
   "metadata": {
    "id": "h_HQ8J_O7A61"
   },
   "source": [
    "**Справка о признаках:**\n",
    "* **recency** - количество месяцев с последней покупки клиента\n",
    "* **history** - общая стоимость исторических покупок\n",
    "* **used_discount** - указывает, пользовался ли клиент скидкой ранее\n",
    "* **used_bogo** - указывает, пользовался ли клиент промоакцией ранее\n",
    "* **zip_code** - класс почтового индекса:\n",
    "    * Suburban - пригородный\n",
    "    * Urban - городской\n",
    "    * Rural - сельский\n",
    "* **is_referral** - указывает, был ли клиент приобретен по реферальному каналу\n",
    "* **channel** - каналы, которые использует клиент:\n",
    "    * Phone - телефон\n",
    "    * Web - интернет\n",
    "    * Multichannel - многоканальный\n",
    "* **treatment** - вид целевого воздействия:\n",
    "    * **Discount** - было оказано целевое воздействие (предложена скидка)\n",
    "    * **Buy One Get One** - было оказано целевое воздействие (предложена промоакция)\n",
    "    * **No Offer** - целевого воздействие не было\n",
    "* **target_class** - класс клиента (вспомогательный признак):\n",
    "    * **0 - Control Non-Responders(CN)** \n",
    "\n",
    "        Это клиенты, которым не было выдвинуто предложение (целевое воздействие) и они ничего не купили ((y=0, c) в наших терминах)\n",
    "    * **1 - Control Responders(CR)**\n",
    "\n",
    "        Это клиенты, совершившие покупку без предложения (целевого воздействия) (y=1, c)\n",
    "    * **2 - Treatment Non-Responders(CN)**\n",
    "\n",
    "        Это клиенты, которым было выдвинуто предложение, но они не совершили покупку (y=0, t)\n",
    "    * **3 - Treatment Responders(CN)** \n",
    "        \n",
    "        Это клиенты, которым было выдвинуто предложение (совершено целевое воздействие) и они совершили покупку (y=1, t)\n",
    "\n",
    "При построении классификатора нас интересует только факт того, совершил ли клиент покупку (класс 1) или нет (класс 0). Поэтому целевая переменная при классификации - конверсия. "
   ]
  },
  {
   "cell_type": "markdown",
   "metadata": {
    "id": "NG0XVuRM7A62"
   },
   "source": [
    "Посмотрим на распределение целевых влияний в данных:\n",
    "\n",
    "* Discount - было оказано целевое влияние (предложена скидка)\n",
    "* Buy One Get One - было оказано целевое влияние (предложена промоакция)\n",
    "* No Offer - целевого влияния не было"
   ]
  },
  {
   "cell_type": "code",
   "execution_count": 4,
   "metadata": {
    "colab": {
     "base_uri": "https://localhost:8080/"
    },
    "executionInfo": {
     "elapsed": 7,
     "status": "ok",
     "timestamp": 1677406484988,
     "user": {
      "displayName": "Андрей Достоевский",
      "userId": "09718989537568551698"
     },
     "user_tz": -180
    },
    "id": "JYj6Qf6c7A62",
    "outputId": "51df14f4-7b33-469c-c430-221b29ffba95"
   },
   "outputs": [
    {
     "data": {
      "text/plain": [
       "treatment\n",
       "Buy One Get One    21387\n",
       "Discount           21307\n",
       "No Offer           21306\n",
       "Name: count, dtype: int64"
      ]
     },
     "execution_count": 4,
     "metadata": {},
     "output_type": "execute_result"
    }
   ],
   "source": [
    "df['treatment'].value_counts()"
   ]
  },
  {
   "cell_type": "markdown",
   "metadata": {
    "id": "W_AByceG7A63"
   },
   "source": [
    "## Предобработка данных"
   ]
  },
  {
   "cell_type": "markdown",
   "metadata": {
    "id": "Mwi0ZkRA7A63"
   },
   "source": [
    "Подготовим данные:\n",
    "* Преобразуем целевую переменную в признак конверсии, которую будем прогнозировать (купил/не купил)\n",
    "* Создадим две отдельные таблицы:\n",
    "    * В первой будем хранить информацию о пользователях, которым была предложена скидка (df_discount)\n",
    "    * Во второй будем хранить информацию о пользователях, которым была предложена промоакция (df_bogo)\n",
    "    \n",
    "    В каждой из таблиц также сохраним данные о пользователях, на которых не было оказано целевое влияние (контрольная выборка).\n",
    "* Также произведем кодировку категориальных признаков."
   ]
  },
  {
   "cell_type": "code",
   "execution_count": 5,
   "metadata": {
    "colab": {
     "base_uri": "https://localhost:8080/"
    },
    "executionInfo": {
     "elapsed": 5,
     "status": "ok",
     "timestamp": 1677406484988,
     "user": {
      "displayName": "Андрей Достоевский",
      "userId": "09718989537568551698"
     },
     "user_tz": -180
    },
    "id": "Z98lGPta7A64",
    "outputId": "cee11107-1def-4c36-9fcb-00bb683f7af6"
   },
   "outputs": [
    {
     "name": "stdout",
     "output_type": "stream",
     "text": [
      "(42613, 14)\n",
      "(42693, 14)\n"
     ]
    }
   ],
   "source": [
    "# Новый таргет - бинарная переменная (конверсия): 1 - купил, 0 - не купил\n",
    "df['conversion'] = df['target_class'].map({0: 0, 1: 1, 2: 0, 3: 1})\n",
    "\n",
    "# Разделим данные на две таблицы - данные по скидкам и промоакциям\n",
    "\n",
    "# Выделим пользователей, на которых не было целевого воздействия, и тех, которым мы предлагали скидки\n",
    "df_discount = df.copy().loc[\n",
    "    (df['treatment'] == 'No Offer') |  (df['treatment'] == 'Discount')\n",
    "].reset_index(drop=True)\n",
    "\n",
    "# Выделим пользователей, на которых не было целевого воздействия, и тех, которым мы предлагали промоакции\n",
    "df_bogo = df.copy().loc[\n",
    "    (df['treatment'] == 'No Offer') | (df['treatment'] == 'Buy One Get One')\n",
    "].reset_index(drop=True)\n",
    "\n",
    "# Перекодируем столбец с влиянием: 1 - было влияние, 0 - не было\n",
    "df_discount['treatment'] = df_discount['treatment'].apply(lambda x: 0 if x=='No Offer' else 1)\n",
    "df_bogo['treatment'] = df_bogo['treatment'].apply(lambda x: 0 if x=='No Offer' else 1)\n",
    "\n",
    "# Закодируем оставшиеся категориальные признаки\n",
    "df_discount = pd.get_dummies(df_discount)\n",
    "df_bogo = pd.get_dummies(df_bogo)\n",
    "\n",
    "# Выведем размерности полученных таблиц:\n",
    "print(df_discount.shape)\n",
    "print(df_bogo.shape)"
   ]
  },
  {
   "cell_type": "markdown",
   "metadata": {
    "id": "eKImEhtG7A64"
   },
   "source": [
    "Посмотрим на результаты:"
   ]
  },
  {
   "cell_type": "code",
   "execution_count": 6,
   "metadata": {
    "colab": {
     "base_uri": "https://localhost:8080/",
     "height": 270
    },
    "executionInfo": {
     "elapsed": 389,
     "status": "ok",
     "timestamp": 1677406485374,
     "user": {
      "displayName": "Андрей Достоевский",
      "userId": "09718989537568551698"
     },
     "user_tz": -180
    },
    "id": "1_Yg6PmU7A64",
    "outputId": "39eeba82-e076-4efd-c9a4-7efa7d58b995"
   },
   "outputs": [
    {
     "data": {
      "text/html": [
       "<div>\n",
       "<style scoped>\n",
       "    .dataframe tbody tr th:only-of-type {\n",
       "        vertical-align: middle;\n",
       "    }\n",
       "\n",
       "    .dataframe tbody tr th {\n",
       "        vertical-align: top;\n",
       "    }\n",
       "\n",
       "    .dataframe thead th {\n",
       "        text-align: right;\n",
       "    }\n",
       "</style>\n",
       "<table border=\"1\" class=\"dataframe\">\n",
       "  <thead>\n",
       "    <tr style=\"text-align: right;\">\n",
       "      <th></th>\n",
       "      <th>recency</th>\n",
       "      <th>history</th>\n",
       "      <th>used_discount</th>\n",
       "      <th>used_bogo</th>\n",
       "      <th>is_referral</th>\n",
       "      <th>treatment</th>\n",
       "      <th>target_class</th>\n",
       "      <th>conversion</th>\n",
       "      <th>zip_code_Rural</th>\n",
       "      <th>zip_code_Surburban</th>\n",
       "      <th>zip_code_Urban</th>\n",
       "      <th>channel_Multichannel</th>\n",
       "      <th>channel_Phone</th>\n",
       "      <th>channel_Web</th>\n",
       "    </tr>\n",
       "  </thead>\n",
       "  <tbody>\n",
       "    <tr>\n",
       "      <th>0</th>\n",
       "      <td>6</td>\n",
       "      <td>329.08</td>\n",
       "      <td>1</td>\n",
       "      <td>1</td>\n",
       "      <td>1</td>\n",
       "      <td>0</td>\n",
       "      <td>0</td>\n",
       "      <td>0</td>\n",
       "      <td>True</td>\n",
       "      <td>False</td>\n",
       "      <td>False</td>\n",
       "      <td>False</td>\n",
       "      <td>False</td>\n",
       "      <td>True</td>\n",
       "    </tr>\n",
       "    <tr>\n",
       "      <th>1</th>\n",
       "      <td>9</td>\n",
       "      <td>675.83</td>\n",
       "      <td>1</td>\n",
       "      <td>0</td>\n",
       "      <td>1</td>\n",
       "      <td>1</td>\n",
       "      <td>2</td>\n",
       "      <td>0</td>\n",
       "      <td>True</td>\n",
       "      <td>False</td>\n",
       "      <td>False</td>\n",
       "      <td>False</td>\n",
       "      <td>False</td>\n",
       "      <td>True</td>\n",
       "    </tr>\n",
       "    <tr>\n",
       "      <th>2</th>\n",
       "      <td>9</td>\n",
       "      <td>675.07</td>\n",
       "      <td>1</td>\n",
       "      <td>1</td>\n",
       "      <td>1</td>\n",
       "      <td>1</td>\n",
       "      <td>2</td>\n",
       "      <td>0</td>\n",
       "      <td>True</td>\n",
       "      <td>False</td>\n",
       "      <td>False</td>\n",
       "      <td>False</td>\n",
       "      <td>True</td>\n",
       "      <td>False</td>\n",
       "    </tr>\n",
       "    <tr>\n",
       "      <th>3</th>\n",
       "      <td>2</td>\n",
       "      <td>101.64</td>\n",
       "      <td>0</td>\n",
       "      <td>1</td>\n",
       "      <td>0</td>\n",
       "      <td>1</td>\n",
       "      <td>3</td>\n",
       "      <td>1</td>\n",
       "      <td>False</td>\n",
       "      <td>False</td>\n",
       "      <td>True</td>\n",
       "      <td>False</td>\n",
       "      <td>False</td>\n",
       "      <td>True</td>\n",
       "    </tr>\n",
       "    <tr>\n",
       "      <th>4</th>\n",
       "      <td>4</td>\n",
       "      <td>241.42</td>\n",
       "      <td>0</td>\n",
       "      <td>1</td>\n",
       "      <td>1</td>\n",
       "      <td>0</td>\n",
       "      <td>0</td>\n",
       "      <td>0</td>\n",
       "      <td>True</td>\n",
       "      <td>False</td>\n",
       "      <td>False</td>\n",
       "      <td>True</td>\n",
       "      <td>False</td>\n",
       "      <td>False</td>\n",
       "    </tr>\n",
       "  </tbody>\n",
       "</table>\n",
       "</div>"
      ],
      "text/plain": [
       "   recency  history  used_discount  used_bogo  is_referral  treatment  \\\n",
       "0        6   329.08              1          1            1          0   \n",
       "1        9   675.83              1          0            1          1   \n",
       "2        9   675.07              1          1            1          1   \n",
       "3        2   101.64              0          1            0          1   \n",
       "4        4   241.42              0          1            1          0   \n",
       "\n",
       "   target_class  conversion  zip_code_Rural  zip_code_Surburban  \\\n",
       "0             0           0            True               False   \n",
       "1             2           0            True               False   \n",
       "2             2           0            True               False   \n",
       "3             3           1           False               False   \n",
       "4             0           0            True               False   \n",
       "\n",
       "   zip_code_Urban  channel_Multichannel  channel_Phone  channel_Web  \n",
       "0           False                 False          False         True  \n",
       "1           False                 False          False         True  \n",
       "2           False                 False           True        False  \n",
       "3            True                 False          False         True  \n",
       "4           False                  True          False        False  "
      ]
     },
     "execution_count": 6,
     "metadata": {},
     "output_type": "execute_result"
    }
   ],
   "source": [
    "df_discount.head()"
   ]
  },
  {
   "cell_type": "code",
   "execution_count": 7,
   "metadata": {
    "colab": {
     "base_uri": "https://localhost:8080/",
     "height": 270
    },
    "executionInfo": {
     "elapsed": 6,
     "status": "ok",
     "timestamp": 1677406485374,
     "user": {
      "displayName": "Андрей Достоевский",
      "userId": "09718989537568551698"
     },
     "user_tz": -180
    },
    "id": "bzpY_Sl77A65",
    "outputId": "2eec1f2e-c05b-4658-ee7e-facf022d2c4e"
   },
   "outputs": [
    {
     "data": {
      "text/html": [
       "<div>\n",
       "<style scoped>\n",
       "    .dataframe tbody tr th:only-of-type {\n",
       "        vertical-align: middle;\n",
       "    }\n",
       "\n",
       "    .dataframe tbody tr th {\n",
       "        vertical-align: top;\n",
       "    }\n",
       "\n",
       "    .dataframe thead th {\n",
       "        text-align: right;\n",
       "    }\n",
       "</style>\n",
       "<table border=\"1\" class=\"dataframe\">\n",
       "  <thead>\n",
       "    <tr style=\"text-align: right;\">\n",
       "      <th></th>\n",
       "      <th>recency</th>\n",
       "      <th>history</th>\n",
       "      <th>used_discount</th>\n",
       "      <th>used_bogo</th>\n",
       "      <th>is_referral</th>\n",
       "      <th>treatment</th>\n",
       "      <th>target_class</th>\n",
       "      <th>conversion</th>\n",
       "      <th>zip_code_Rural</th>\n",
       "      <th>zip_code_Surburban</th>\n",
       "      <th>zip_code_Urban</th>\n",
       "      <th>channel_Multichannel</th>\n",
       "      <th>channel_Phone</th>\n",
       "      <th>channel_Web</th>\n",
       "    </tr>\n",
       "  </thead>\n",
       "  <tbody>\n",
       "    <tr>\n",
       "      <th>0</th>\n",
       "      <td>10</td>\n",
       "      <td>142.44</td>\n",
       "      <td>1</td>\n",
       "      <td>0</td>\n",
       "      <td>0</td>\n",
       "      <td>1</td>\n",
       "      <td>2</td>\n",
       "      <td>0</td>\n",
       "      <td>False</td>\n",
       "      <td>True</td>\n",
       "      <td>False</td>\n",
       "      <td>False</td>\n",
       "      <td>True</td>\n",
       "      <td>False</td>\n",
       "    </tr>\n",
       "    <tr>\n",
       "      <th>1</th>\n",
       "      <td>6</td>\n",
       "      <td>329.08</td>\n",
       "      <td>1</td>\n",
       "      <td>1</td>\n",
       "      <td>1</td>\n",
       "      <td>0</td>\n",
       "      <td>0</td>\n",
       "      <td>0</td>\n",
       "      <td>True</td>\n",
       "      <td>False</td>\n",
       "      <td>False</td>\n",
       "      <td>False</td>\n",
       "      <td>False</td>\n",
       "      <td>True</td>\n",
       "    </tr>\n",
       "    <tr>\n",
       "      <th>2</th>\n",
       "      <td>7</td>\n",
       "      <td>180.65</td>\n",
       "      <td>0</td>\n",
       "      <td>1</td>\n",
       "      <td>1</td>\n",
       "      <td>1</td>\n",
       "      <td>2</td>\n",
       "      <td>0</td>\n",
       "      <td>False</td>\n",
       "      <td>True</td>\n",
       "      <td>False</td>\n",
       "      <td>False</td>\n",
       "      <td>False</td>\n",
       "      <td>True</td>\n",
       "    </tr>\n",
       "    <tr>\n",
       "      <th>3</th>\n",
       "      <td>2</td>\n",
       "      <td>45.34</td>\n",
       "      <td>1</td>\n",
       "      <td>0</td>\n",
       "      <td>0</td>\n",
       "      <td>1</td>\n",
       "      <td>2</td>\n",
       "      <td>0</td>\n",
       "      <td>False</td>\n",
       "      <td>False</td>\n",
       "      <td>True</td>\n",
       "      <td>False</td>\n",
       "      <td>False</td>\n",
       "      <td>True</td>\n",
       "    </tr>\n",
       "    <tr>\n",
       "      <th>4</th>\n",
       "      <td>6</td>\n",
       "      <td>134.83</td>\n",
       "      <td>0</td>\n",
       "      <td>1</td>\n",
       "      <td>0</td>\n",
       "      <td>1</td>\n",
       "      <td>3</td>\n",
       "      <td>1</td>\n",
       "      <td>False</td>\n",
       "      <td>True</td>\n",
       "      <td>False</td>\n",
       "      <td>False</td>\n",
       "      <td>True</td>\n",
       "      <td>False</td>\n",
       "    </tr>\n",
       "  </tbody>\n",
       "</table>\n",
       "</div>"
      ],
      "text/plain": [
       "   recency  history  used_discount  used_bogo  is_referral  treatment  \\\n",
       "0       10   142.44              1          0            0          1   \n",
       "1        6   329.08              1          1            1          0   \n",
       "2        7   180.65              0          1            1          1   \n",
       "3        2    45.34              1          0            0          1   \n",
       "4        6   134.83              0          1            0          1   \n",
       "\n",
       "   target_class  conversion  zip_code_Rural  zip_code_Surburban  \\\n",
       "0             2           0           False                True   \n",
       "1             0           0            True               False   \n",
       "2             2           0           False                True   \n",
       "3             2           0           False               False   \n",
       "4             3           1           False                True   \n",
       "\n",
       "   zip_code_Urban  channel_Multichannel  channel_Phone  channel_Web  \n",
       "0           False                 False           True        False  \n",
       "1           False                 False          False         True  \n",
       "2           False                 False          False         True  \n",
       "3            True                 False          False         True  \n",
       "4           False                 False           True        False  "
      ]
     },
     "execution_count": 7,
     "metadata": {},
     "output_type": "execute_result"
    }
   ],
   "source": [
    "df_bogo.head()"
   ]
  },
  {
   "cell_type": "code",
   "execution_count": 8,
   "metadata": {
    "executionInfo": {
     "elapsed": 6,
     "status": "ok",
     "timestamp": 1677406485375,
     "user": {
      "displayName": "Андрей Достоевский",
      "userId": "09718989537568551698"
     },
     "user_tz": -180
    },
    "id": "UaQoVdHk7A65"
   },
   "outputs": [],
   "source": [
    "# Определим колонки с факторами, тритментом и таргетом\n",
    "feature_cols = ['recency', 'history', 'used_discount', 'used_bogo', 'is_referral',\n",
    "                'zip_code_Rural', 'zip_code_Surburban', 'zip_code_Urban',\n",
    "                'channel_Multichannel', 'channel_Phone', 'channel_Web']\n",
    "\n",
    "target_col = 'conversion'\n",
    "treatment_col = 'treatment'"
   ]
  },
  {
   "cell_type": "markdown",
   "metadata": {
    "id": "Q9Hq_5So7A65"
   },
   "source": [
    "## Работаем с данными о скидках"
   ]
  },
  {
   "cell_type": "markdown",
   "metadata": {
    "id": "QnEnDfjl7A65"
   },
   "source": [
    "### Обучающая и тестовая выборка"
   ]
  },
  {
   "cell_type": "markdown",
   "metadata": {
    "id": "GnM8mW6m7A66"
   },
   "source": [
    "Мы будем работать с данными о скидках. Оценить uplift-эффект на данных о результатх промоакций вам предстоит самостоятельно."
   ]
  },
  {
   "cell_type": "markdown",
   "metadata": {
    "id": "hdmQzY7O7A66"
   },
   "source": [
    "Разделим данные на тренировочную и тестовую выборки."
   ]
  },
  {
   "cell_type": "code",
   "execution_count": 9,
   "metadata": {
    "colab": {
     "base_uri": "https://localhost:8080/",
     "height": 305
    },
    "executionInfo": {
     "elapsed": 537,
     "status": "ok",
     "timestamp": 1677406485906,
     "user": {
      "displayName": "Андрей Достоевский",
      "userId": "09718989537568551698"
     },
     "user_tz": -180
    },
    "id": "yP22_et77A66",
    "outputId": "f2196c83-1fb3-458a-becc-71ec8ba96082"
   },
   "outputs": [
    {
     "name": "stdout",
     "output_type": "stream",
     "text": [
      "(29829, 14)\n",
      "(12784, 14)\n"
     ]
    },
    {
     "data": {
      "text/html": [
       "<div>\n",
       "<style scoped>\n",
       "    .dataframe tbody tr th:only-of-type {\n",
       "        vertical-align: middle;\n",
       "    }\n",
       "\n",
       "    .dataframe tbody tr th {\n",
       "        vertical-align: top;\n",
       "    }\n",
       "\n",
       "    .dataframe thead th {\n",
       "        text-align: right;\n",
       "    }\n",
       "</style>\n",
       "<table border=\"1\" class=\"dataframe\">\n",
       "  <thead>\n",
       "    <tr style=\"text-align: right;\">\n",
       "      <th></th>\n",
       "      <th>recency</th>\n",
       "      <th>history</th>\n",
       "      <th>used_discount</th>\n",
       "      <th>used_bogo</th>\n",
       "      <th>is_referral</th>\n",
       "      <th>treatment</th>\n",
       "      <th>target_class</th>\n",
       "      <th>conversion</th>\n",
       "      <th>zip_code_Rural</th>\n",
       "      <th>zip_code_Surburban</th>\n",
       "      <th>zip_code_Urban</th>\n",
       "      <th>channel_Multichannel</th>\n",
       "      <th>channel_Phone</th>\n",
       "      <th>channel_Web</th>\n",
       "    </tr>\n",
       "  </thead>\n",
       "  <tbody>\n",
       "    <tr>\n",
       "      <th>28236</th>\n",
       "      <td>1</td>\n",
       "      <td>616.27</td>\n",
       "      <td>1</td>\n",
       "      <td>0</td>\n",
       "      <td>1</td>\n",
       "      <td>1</td>\n",
       "      <td>2</td>\n",
       "      <td>0</td>\n",
       "      <td>False</td>\n",
       "      <td>False</td>\n",
       "      <td>True</td>\n",
       "      <td>True</td>\n",
       "      <td>False</td>\n",
       "      <td>False</td>\n",
       "    </tr>\n",
       "    <tr>\n",
       "      <th>37748</th>\n",
       "      <td>11</td>\n",
       "      <td>158.76</td>\n",
       "      <td>0</td>\n",
       "      <td>1</td>\n",
       "      <td>1</td>\n",
       "      <td>0</td>\n",
       "      <td>0</td>\n",
       "      <td>0</td>\n",
       "      <td>False</td>\n",
       "      <td>False</td>\n",
       "      <td>True</td>\n",
       "      <td>False</td>\n",
       "      <td>False</td>\n",
       "      <td>True</td>\n",
       "    </tr>\n",
       "    <tr>\n",
       "      <th>41505</th>\n",
       "      <td>3</td>\n",
       "      <td>269.60</td>\n",
       "      <td>1</td>\n",
       "      <td>0</td>\n",
       "      <td>1</td>\n",
       "      <td>1</td>\n",
       "      <td>2</td>\n",
       "      <td>0</td>\n",
       "      <td>False</td>\n",
       "      <td>False</td>\n",
       "      <td>True</td>\n",
       "      <td>False</td>\n",
       "      <td>True</td>\n",
       "      <td>False</td>\n",
       "    </tr>\n",
       "    <tr>\n",
       "      <th>1595</th>\n",
       "      <td>3</td>\n",
       "      <td>458.76</td>\n",
       "      <td>1</td>\n",
       "      <td>0</td>\n",
       "      <td>0</td>\n",
       "      <td>1</td>\n",
       "      <td>2</td>\n",
       "      <td>0</td>\n",
       "      <td>True</td>\n",
       "      <td>False</td>\n",
       "      <td>False</td>\n",
       "      <td>True</td>\n",
       "      <td>False</td>\n",
       "      <td>False</td>\n",
       "    </tr>\n",
       "    <tr>\n",
       "      <th>31544</th>\n",
       "      <td>7</td>\n",
       "      <td>209.56</td>\n",
       "      <td>0</td>\n",
       "      <td>1</td>\n",
       "      <td>0</td>\n",
       "      <td>1</td>\n",
       "      <td>2</td>\n",
       "      <td>0</td>\n",
       "      <td>False</td>\n",
       "      <td>False</td>\n",
       "      <td>True</td>\n",
       "      <td>True</td>\n",
       "      <td>False</td>\n",
       "      <td>False</td>\n",
       "    </tr>\n",
       "  </tbody>\n",
       "</table>\n",
       "</div>"
      ],
      "text/plain": [
       "       recency  history  used_discount  used_bogo  is_referral  treatment  \\\n",
       "28236        1   616.27              1          0            1          1   \n",
       "37748       11   158.76              0          1            1          0   \n",
       "41505        3   269.60              1          0            1          1   \n",
       "1595         3   458.76              1          0            0          1   \n",
       "31544        7   209.56              0          1            0          1   \n",
       "\n",
       "       target_class  conversion  zip_code_Rural  zip_code_Surburban  \\\n",
       "28236             2           0           False               False   \n",
       "37748             0           0           False               False   \n",
       "41505             2           0           False               False   \n",
       "1595              2           0            True               False   \n",
       "31544             2           0           False               False   \n",
       "\n",
       "       zip_code_Urban  channel_Multichannel  channel_Phone  channel_Web  \n",
       "28236            True                  True          False        False  \n",
       "37748            True                 False          False         True  \n",
       "41505            True                 False           True        False  \n",
       "1595            False                  True          False        False  \n",
       "31544            True                  True          False        False  "
      ]
     },
     "execution_count": 9,
     "metadata": {},
     "output_type": "execute_result"
    }
   ],
   "source": [
    "df_discount_train, df_discount_test = train_test_split(\n",
    "    df_discount, \n",
    "    stratify=df_discount[[treatment_col, target_col]], \n",
    "    random_state=13, \n",
    "    test_size=0.3\n",
    ")\n",
    "print(df_discount_train.shape)\n",
    "print(df_discount_test.shape)\n",
    "\n",
    "df_discount_train.head()"
   ]
  },
  {
   "cell_type": "markdown",
   "metadata": {
    "id": "lzHNWBSm7A66"
   },
   "source": [
    "### Quni-curve и qini-score"
   ]
  },
  {
   "cell_type": "markdown",
   "metadata": {},
   "source": [
    "* **target_class** - класс клиента (вспомогательный признак):\n",
    "    * **0 - Control Non-Responders(CN)** \n",
    "\n",
    "        Это клиенты, которым не было выдвинуто предложение (целевое воздействие) и они ничего не купили ((y=0, c) в наших терминах)\n",
    "    * **1 - Control Responders(CR)**\n",
    "\n",
    "        Это клиенты, совершившие покупку без предложения (целевого воздействия) (y=1, c)\n",
    "    * **2 - Treatment Non-Responders(CN)**\n",
    "\n",
    "        Это клиенты, которым было выдвинуто предложение, но они не совершили покупку (y=0, t)\n",
    "    * **3 - Treatment Responders(CN)** \n",
    "        \n",
    "        Это клиенты, которым было выдвинуто предложение (совершено целевое воздействие) и они совершили покупку (y=1, t)"
   ]
  },
  {
   "cell_type": "markdown",
   "metadata": {
    "id": "3hCLplFw7A66"
   },
   "source": [
    "Создаем функцию для построения qini-curve и расчета qini-score"
   ]
  },
  {
   "cell_type": "code",
   "execution_count": 10,
   "metadata": {
    "executionInfo": {
     "elapsed": 4,
     "status": "ok",
     "timestamp": 1677406485906,
     "user": {
      "displayName": "Андрей Достоевский",
      "userId": "09718989537568551698"
     },
     "user_tz": -180
    },
    "id": "d4ikK2Sf7A67"
   },
   "outputs": [],
   "source": [
    "# Возьмем функцию для оценки qini-curve с прошлого занятия\n",
    "def qini_df(df, title='train', figsize=(5, 3)):\n",
    "    # Отранжируем выборку по значению uplift в убывающем порядке\n",
    "    ranked = df.sort_values(\"uplift_score\", ascending=False)\n",
    "    \n",
    "    N_c = sum(ranked['target_class'] <= 1)\n",
    "    N_t = sum(ranked['target_class'] >= 2)\n",
    "    \n",
    "    # Посчитаем в отсортированном датафрейме основные показатели, которые используются при расчете qini\n",
    "    ranked['n_c1'] = 0\n",
    "    ranked['n_t1'] = 0\n",
    "    ranked.loc[ranked.target_class == 1,'n_c1'] = 1\n",
    "    ranked.loc[ranked.target_class == 3,'n_t1'] = 1\n",
    "    ranked['n_c1/nc'] = ranked.n_c1.cumsum() / N_c\n",
    "    ranked['n_t1/nt'] = ranked.n_t1.cumsum() / N_t\n",
    "    \n",
    "    # Посчитаем qini curve и рандомную прямую под ней\n",
    "    ranked['uplift'] = round(ranked['n_t1/nt'] - ranked['n_c1/nc'],5)\n",
    "    # Добавим случайную кривую\n",
    "    ranked['random_uplift'] = round(ranked[\"uplift_score\"].rank(pct=True, ascending=False) * ranked['uplift'].iloc[-1],5)\n",
    "    \n",
    "    ranked[\"n\"] = ranked[\"uplift_score\"].rank(pct=True, ascending=False)\n",
    "    \n",
    "    # Немного кода для визуализации\n",
    "    fig = plt.figure(figsize=figsize)\n",
    "    plt.plot(ranked['n'], ranked['uplift'], color='r', label='Model')\n",
    "    plt.plot(ranked['n'], ranked['random_uplift'], color='b', label='RandomModel')\n",
    "    plt.legend()\n",
    "    plt.title('Qini-curve for {} samples'.format(title))\n",
    "    plt.show()\n",
    "    quni_score = (ranked['uplift'] - ranked['random_uplift']).sum()\n",
    "    print('Qini score: {:.3f}'.format(quni_score))"
   ]
  },
  {
   "cell_type": "markdown",
   "metadata": {
    "id": "xZLRQ4S87A67"
   },
   "source": [
    "## Uplift-моделирование с помощью CausalML"
   ]
  },
  {
   "cell_type": "markdown",
   "metadata": {
    "id": "w9-sVqYR7A67"
   },
   "source": [
    "Давайте посмотрим на реализацию S-learner и T-learner из библиотеки [CausalML](https://github.com/uber/causalml) от компании Uber ([документация](https://causalml.readthedocs.io/en/latest/index.html))."
   ]
  },
  {
   "cell_type": "markdown",
   "metadata": {
    "id": "MOabWMqm-Ik4"
   },
   "source": [
    "**Примечание:**\n",
    "\n",
    "Результаты uplift-моделирования могут несколько отличаться в зависимости от версии библиотек. Будьте внимательны."
   ]
  },
  {
   "cell_type": "markdown",
   "metadata": {
    "id": "Z05uh8eq7A67"
   },
   "source": [
    "### X-learner (CausalML)"
   ]
  },
  {
   "cell_type": "markdown",
   "metadata": {
    "id": "HBu0ib2s7A67"
   },
   "source": [
    "Попробуем воспользоваться X-learner`ом."
   ]
  },
  {
   "cell_type": "code",
   "execution_count": 11,
   "metadata": {
    "colab": {
     "base_uri": "https://localhost:8080/",
     "height": 1000
    },
    "executionInfo": {
     "elapsed": 89479,
     "status": "ok",
     "timestamp": 1677406575382,
     "user": {
      "displayName": "Андрей Достоевский",
      "userId": "09718989537568551698"
     },
     "user_tz": -180
    },
    "id": "wEbcSRIA7A67",
    "outputId": "b26b3321-b637-4b1d-de80-0461263c7025"
   },
   "outputs": [
    {
     "name": "stderr",
     "output_type": "stream",
     "text": [
      "c:\\Projects\\DS\\lessons\\.venv\\Lib\\site-packages\\sklearn\\linear_model\\_sag.py:349: ConvergenceWarning: The max_iter was reached which means the coef_ did not converge\n",
      "  warnings.warn(\n",
      "c:\\Projects\\DS\\lessons\\.venv\\Lib\\site-packages\\sklearn\\linear_model\\_sag.py:349: ConvergenceWarning: The max_iter was reached which means the coef_ did not converge\n",
      "  warnings.warn(\n",
      "c:\\Projects\\DS\\lessons\\.venv\\Lib\\site-packages\\sklearn\\linear_model\\_sag.py:349: ConvergenceWarning: The max_iter was reached which means the coef_ did not converge\n",
      "  warnings.warn(\n",
      "c:\\Projects\\DS\\lessons\\.venv\\Lib\\site-packages\\sklearn\\linear_model\\_sag.py:349: ConvergenceWarning: The max_iter was reached which means the coef_ did not converge\n",
      "  warnings.warn(\n",
      "c:\\Projects\\DS\\lessons\\.venv\\Lib\\site-packages\\sklearn\\linear_model\\_sag.py:349: ConvergenceWarning: The max_iter was reached which means the coef_ did not converge\n",
      "  warnings.warn(\n",
      "c:\\Projects\\DS\\lessons\\.venv\\Lib\\site-packages\\sklearn\\linear_model\\_sag.py:349: ConvergenceWarning: The max_iter was reached which means the coef_ did not converge\n",
      "  warnings.warn(\n",
      "c:\\Projects\\DS\\lessons\\.venv\\Lib\\site-packages\\sklearn\\linear_model\\_sag.py:349: ConvergenceWarning: The max_iter was reached which means the coef_ did not converge\n",
      "  warnings.warn(\n",
      "c:\\Projects\\DS\\lessons\\.venv\\Lib\\site-packages\\sklearn\\linear_model\\_sag.py:349: ConvergenceWarning: The max_iter was reached which means the coef_ did not converge\n",
      "  warnings.warn(\n",
      "c:\\Projects\\DS\\lessons\\.venv\\Lib\\site-packages\\sklearn\\linear_model\\_sag.py:349: ConvergenceWarning: The max_iter was reached which means the coef_ did not converge\n",
      "  warnings.warn(\n",
      "c:\\Projects\\DS\\lessons\\.venv\\Lib\\site-packages\\sklearn\\linear_model\\_sag.py:349: ConvergenceWarning: The max_iter was reached which means the coef_ did not converge\n",
      "  warnings.warn(\n",
      "c:\\Projects\\DS\\lessons\\.venv\\Lib\\site-packages\\sklearn\\linear_model\\_sag.py:349: ConvergenceWarning: The max_iter was reached which means the coef_ did not converge\n",
      "  warnings.warn(\n",
      "c:\\Projects\\DS\\lessons\\.venv\\Lib\\site-packages\\sklearn\\linear_model\\_sag.py:349: ConvergenceWarning: The max_iter was reached which means the coef_ did not converge\n",
      "  warnings.warn(\n",
      "c:\\Projects\\DS\\lessons\\.venv\\Lib\\site-packages\\sklearn\\linear_model\\_sag.py:349: ConvergenceWarning: The max_iter was reached which means the coef_ did not converge\n",
      "  warnings.warn(\n",
      "c:\\Projects\\DS\\lessons\\.venv\\Lib\\site-packages\\sklearn\\linear_model\\_sag.py:349: ConvergenceWarning: The max_iter was reached which means the coef_ did not converge\n",
      "  warnings.warn(\n",
      "c:\\Projects\\DS\\lessons\\.venv\\Lib\\site-packages\\sklearn\\linear_model\\_sag.py:349: ConvergenceWarning: The max_iter was reached which means the coef_ did not converge\n",
      "  warnings.warn(\n",
      "c:\\Projects\\DS\\lessons\\.venv\\Lib\\site-packages\\sklearn\\linear_model\\_sag.py:349: ConvergenceWarning: The max_iter was reached which means the coef_ did not converge\n",
      "  warnings.warn(\n",
      "c:\\Projects\\DS\\lessons\\.venv\\Lib\\site-packages\\sklearn\\linear_model\\_sag.py:349: ConvergenceWarning: The max_iter was reached which means the coef_ did not converge\n",
      "  warnings.warn(\n"
     ]
    },
    {
     "data": {
      "image/png": "[encoded data removed]",
      "text/plain": [
       "<Figure size 500x300 with 1 Axes>"
      ]
     },
     "metadata": {},
     "output_type": "display_data"
    },
    {
     "name": "stdout",
     "output_type": "stream",
     "text": [
      "Qini score: 157.890\n"
     ]
    }
   ],
   "source": [
    "# Давайте по данным построим X-learner\n",
    "\n",
    "# Создадим базовый X-learner\n",
    "x_learner = BaseXClassifier(\n",
    "    outcome_learner=CatBoostClassifier(depth=5, random_seed=13, verbose=0),\n",
    "    effect_learner=LinearRegression()\n",
    ")\n",
    "\n",
    "# Для обучения нам нужны датафрем с факторами, колонка с фактом воздействия\n",
    "uplift_vals = x_learner.fit_predict(\n",
    "    X=df_discount[feature_cols],\n",
    "    treatment=df_discount[treatment_col],\n",
    "    y=df_discount[target_col],\n",
    ")\n",
    "\n",
    "# Сделаем предсказание uplift-эффекта на обучающей выборке\n",
    "# uplift_vals = x_learner.estimate_ate(np.array(df_discount_train[feature_cols]))\n",
    "# uplift_vals = x_learner.fit_predict(np.array(df_discount_train[feature_cols].values.copy()))\n",
    "df_discount['uplift_score'] = uplift_vals\n",
    "\n",
    "# # Сделаем предсказание uplift-эффекта на тестовой выборке\n",
    "# uplift_vals = x_learner.predict(np.array(df_discount_test[feature_cols].values.copy()))\n",
    "# df_discount_test['uplift_score'] = uplift_vals\n",
    "\n",
    "# # Мы получили какие-то значения рамках решения задачи классификации, давайте посмотрим на qini score\n",
    "qini_df(df_discount, title='Whole')\n",
    "# qini_df(df_discount_test, title='test')\n"
   ]
  },
  {
   "cell_type": "markdown",
   "metadata": {
    "id": "EDz2D4CJ7A68"
   },
   "source": [
    "Не будем реализовывать X-learner руками, хотя задача не такая тяжелая. Вы можете посмотреть реализацию в исходном коде [СausalML на github]((https://github.com/uber/causalml)). Можно поуправлять параметрами представленных моделей, взять более тяжелые модели или расширить обучающую выборку, чтобы повысить результаты. Но помните, что усложенение используемых моделей приведет к значительному увеличению времени обучения."
   ]
  },
  {
   "cell_type": "markdown",
   "metadata": {
    "id": "qruAgOKq7A68"
   },
   "source": [
    "### R-learner (CausalML)"
   ]
  },
  {
   "cell_type": "markdown",
   "metadata": {
    "id": "pZj9p31w7A68"
   },
   "source": [
    "Теперь давайте посмотрим на R-learner."
   ]
  },
  {
   "cell_type": "code",
   "execution_count": 12,
   "metadata": {
    "colab": {
     "base_uri": "https://localhost:8080/",
     "height": 1000
    },
    "executionInfo": {
     "elapsed": 112082,
     "status": "ok",
     "timestamp": 1677406687743,
     "user": {
      "displayName": "Андрей Достоевский",
      "userId": "09718989537568551698"
     },
     "user_tz": -180
    },
    "id": "Nme0RoN57A68",
    "outputId": "b45aa309-b354-4ae7-9110-738a436de0c2"
   },
   "outputs": [
    {
     "name": "stderr",
     "output_type": "stream",
     "text": [
      "c:\\Projects\\DS\\lessons\\.venv\\Lib\\site-packages\\sklearn\\linear_model\\_sag.py:349: ConvergenceWarning: The max_iter was reached which means the coef_ did not converge\n",
      "  warnings.warn(\n",
      "c:\\Projects\\DS\\lessons\\.venv\\Lib\\site-packages\\sklearn\\linear_model\\_sag.py:349: ConvergenceWarning: The max_iter was reached which means the coef_ did not converge\n",
      "  warnings.warn(\n",
      "c:\\Projects\\DS\\lessons\\.venv\\Lib\\site-packages\\sklearn\\linear_model\\_sag.py:349: ConvergenceWarning: The max_iter was reached which means the coef_ did not converge\n",
      "  warnings.warn(\n",
      "c:\\Projects\\DS\\lessons\\.venv\\Lib\\site-packages\\sklearn\\linear_model\\_sag.py:349: ConvergenceWarning: The max_iter was reached which means the coef_ did not converge\n",
      "  warnings.warn(\n",
      "c:\\Projects\\DS\\lessons\\.venv\\Lib\\site-packages\\sklearn\\linear_model\\_sag.py:349: ConvergenceWarning: The max_iter was reached which means the coef_ did not converge\n",
      "  warnings.warn(\n",
      "c:\\Projects\\DS\\lessons\\.venv\\Lib\\site-packages\\sklearn\\linear_model\\_sag.py:349: ConvergenceWarning: The max_iter was reached which means the coef_ did not converge\n",
      "  warnings.warn(\n",
      "c:\\Projects\\DS\\lessons\\.venv\\Lib\\site-packages\\sklearn\\linear_model\\_sag.py:349: ConvergenceWarning: The max_iter was reached which means the coef_ did not converge\n",
      "  warnings.warn(\n",
      "c:\\Projects\\DS\\lessons\\.venv\\Lib\\site-packages\\sklearn\\linear_model\\_sag.py:349: ConvergenceWarning: The max_iter was reached which means the coef_ did not converge\n",
      "  warnings.warn(\n",
      "c:\\Projects\\DS\\lessons\\.venv\\Lib\\site-packages\\sklearn\\linear_model\\_sag.py:349: ConvergenceWarning: The max_iter was reached which means the coef_ did not converge\n",
      "  warnings.warn(\n",
      "c:\\Projects\\DS\\lessons\\.venv\\Lib\\site-packages\\sklearn\\linear_model\\_sag.py:349: ConvergenceWarning: The max_iter was reached which means the coef_ did not converge\n",
      "  warnings.warn(\n",
      "c:\\Projects\\DS\\lessons\\.venv\\Lib\\site-packages\\sklearn\\linear_model\\_sag.py:349: ConvergenceWarning: The max_iter was reached which means the coef_ did not converge\n",
      "  warnings.warn(\n",
      "c:\\Projects\\DS\\lessons\\.venv\\Lib\\site-packages\\sklearn\\linear_model\\_sag.py:349: ConvergenceWarning: The max_iter was reached which means the coef_ did not converge\n",
      "  warnings.warn(\n",
      "c:\\Projects\\DS\\lessons\\.venv\\Lib\\site-packages\\sklearn\\linear_model\\_sag.py:349: ConvergenceWarning: The max_iter was reached which means the coef_ did not converge\n",
      "  warnings.warn(\n",
      "c:\\Projects\\DS\\lessons\\.venv\\Lib\\site-packages\\sklearn\\linear_model\\_sag.py:349: ConvergenceWarning: The max_iter was reached which means the coef_ did not converge\n",
      "  warnings.warn(\n",
      "c:\\Projects\\DS\\lessons\\.venv\\Lib\\site-packages\\sklearn\\linear_model\\_sag.py:349: ConvergenceWarning: The max_iter was reached which means the coef_ did not converge\n",
      "  warnings.warn(\n",
      "c:\\Projects\\DS\\lessons\\.venv\\Lib\\site-packages\\sklearn\\linear_model\\_sag.py:349: ConvergenceWarning: The max_iter was reached which means the coef_ did not converge\n",
      "  warnings.warn(\n",
      "c:\\Projects\\DS\\lessons\\.venv\\Lib\\site-packages\\sklearn\\linear_model\\_sag.py:349: ConvergenceWarning: The max_iter was reached which means the coef_ did not converge\n",
      "  warnings.warn(\n"
     ]
    },
    {
     "data": {
      "image/png": "[encoded data removed]",
      "text/plain": [
       "<Figure size 500x300 with 1 Axes>"
      ]
     },
     "metadata": {},
     "output_type": "display_data"
    },
    {
     "name": "stdout",
     "output_type": "stream",
     "text": [
      "Qini score: 132.121\n"
     ]
    },
    {
     "data": {
      "image/png": "[encoded data removed]",
      "text/plain": [
       "<Figure size 500x300 with 1 Axes>"
      ]
     },
     "metadata": {},
     "output_type": "display_data"
    },
    {
     "name": "stdout",
     "output_type": "stream",
     "text": [
      "Qini score: 14.500\n"
     ]
    }
   ],
   "source": [
    "# Давайте по данным построим R-learner\n",
    "\n",
    "# Создадим базовый R-learner\n",
    "r_learner = BaseRClassifier(\n",
    "    outcome_learner=CatBoostClassifier(depth=5, random_seed=13, verbose=0),\n",
    "    effect_learner=LinearRegression(),\n",
    "    random_state=42\n",
    ")\n",
    "\n",
    "# Для обучения нам нужны датафрем с факторами, колонка с фактом воздействия\n",
    "r_learner.fit(X=df_discount_train[feature_cols],\n",
    "              treatment=df_discount_train[treatment_col],\n",
    "              y=df_discount_train[target_col])\n",
    "\n",
    "# Сделаем предсказание uplift-эффекта на обучающей выборке\n",
    "uplift_vals = r_learner.predict(np.array(df_discount_train[feature_cols].values.copy()))\n",
    "df_discount_train['uplift_score'] = uplift_vals\n",
    "\n",
    "# Сделаем предсказание uplift-эффекта на тестовой выборке\n",
    "uplift_vals = r_learner.predict(np.array(df_discount_test[feature_cols].values.copy()))\n",
    "df_discount_test['uplift_score'] = uplift_vals\n",
    "\n",
    "# Мы получили какие-то значения рамках решения задачи классификации, давайте посмотрим на qini score\n",
    "qini_df(df_discount_train, title='train')\n",
    "qini_df(df_discount_test, title='test')"
   ]
  },
  {
   "cell_type": "markdown",
   "metadata": {
    "id": "v1lNlILM7A68"
   },
   "source": [
    "Итак, что мы видим? на текущей задаче X- и R- Learner`ы при заданных моделях и их параметрах показатели себя не очень хорошо. Но мы использовали только базовые модели, вы можете использовать более сложные предикторы на каждом этапе и подобрать их параметры. Мы уверены в том, что этим навыком вы уже владеете и сможете сделать это самостоятельно!"
   ]
  },
  {
   "cell_type": "markdown",
   "metadata": {
    "id": "hSibctJw7A69"
   },
   "source": [
    "## Работаем с данными о промоакциях "
   ]
  },
  {
   "cell_type": "markdown",
   "metadata": {
    "id": "sU9duzwk7A69"
   },
   "source": [
    "Теперь вам предстоит самостоятельно провести uplift-моделирование с помощью X- и R- Learner`ов на данных о промоакциях. "
   ]
  },
  {
   "cell_type": "markdown",
   "metadata": {
    "id": "bIbzaHnt7A69"
   },
   "source": [
    "### Обучающая и тестовая выборки"
   ]
  },
  {
   "cell_type": "markdown",
   "metadata": {
    "id": "g3kQkazZ7A69"
   },
   "source": [
    "Разделим данные на тренировочную и тестовую выборки."
   ]
  },
  {
   "cell_type": "code",
   "execution_count": 13,
   "metadata": {
    "colab": {
     "base_uri": "https://localhost:8080/",
     "height": 305
    },
    "executionInfo": {
     "elapsed": 392,
     "status": "ok",
     "timestamp": 1677406688131,
     "user": {
      "displayName": "Андрей Достоевский",
      "userId": "09718989537568551698"
     },
     "user_tz": -180
    },
    "id": "e8PZPv257A69",
    "outputId": "f9a16820-001a-4392-c5b3-9504fbac6ebb"
   },
   "outputs": [
    {
     "name": "stdout",
     "output_type": "stream",
     "text": [
      "(29885, 14)\n",
      "(12808, 14)\n"
     ]
    },
    {
     "data": {
      "text/html": [
       "<div>\n",
       "<style scoped>\n",
       "    .dataframe tbody tr th:only-of-type {\n",
       "        vertical-align: middle;\n",
       "    }\n",
       "\n",
       "    .dataframe tbody tr th {\n",
       "        vertical-align: top;\n",
       "    }\n",
       "\n",
       "    .dataframe thead th {\n",
       "        text-align: right;\n",
       "    }\n",
       "</style>\n",
       "<table border=\"1\" class=\"dataframe\">\n",
       "  <thead>\n",
       "    <tr style=\"text-align: right;\">\n",
       "      <th></th>\n",
       "      <th>recency</th>\n",
       "      <th>history</th>\n",
       "      <th>used_discount</th>\n",
       "      <th>used_bogo</th>\n",
       "      <th>is_referral</th>\n",
       "      <th>treatment</th>\n",
       "      <th>target_class</th>\n",
       "      <th>conversion</th>\n",
       "      <th>zip_code_Rural</th>\n",
       "      <th>zip_code_Surburban</th>\n",
       "      <th>zip_code_Urban</th>\n",
       "      <th>channel_Multichannel</th>\n",
       "      <th>channel_Phone</th>\n",
       "      <th>channel_Web</th>\n",
       "    </tr>\n",
       "  </thead>\n",
       "  <tbody>\n",
       "    <tr>\n",
       "      <th>20518</th>\n",
       "      <td>2</td>\n",
       "      <td>167.94</td>\n",
       "      <td>1</td>\n",
       "      <td>0</td>\n",
       "      <td>1</td>\n",
       "      <td>1</td>\n",
       "      <td>2</td>\n",
       "      <td>0</td>\n",
       "      <td>False</td>\n",
       "      <td>True</td>\n",
       "      <td>False</td>\n",
       "      <td>False</td>\n",
       "      <td>False</td>\n",
       "      <td>True</td>\n",
       "    </tr>\n",
       "    <tr>\n",
       "      <th>34388</th>\n",
       "      <td>11</td>\n",
       "      <td>129.29</td>\n",
       "      <td>1</td>\n",
       "      <td>0</td>\n",
       "      <td>0</td>\n",
       "      <td>1</td>\n",
       "      <td>2</td>\n",
       "      <td>0</td>\n",
       "      <td>False</td>\n",
       "      <td>True</td>\n",
       "      <td>False</td>\n",
       "      <td>False</td>\n",
       "      <td>True</td>\n",
       "      <td>False</td>\n",
       "    </tr>\n",
       "    <tr>\n",
       "      <th>40663</th>\n",
       "      <td>9</td>\n",
       "      <td>129.61</td>\n",
       "      <td>0</td>\n",
       "      <td>1</td>\n",
       "      <td>1</td>\n",
       "      <td>0</td>\n",
       "      <td>0</td>\n",
       "      <td>0</td>\n",
       "      <td>True</td>\n",
       "      <td>False</td>\n",
       "      <td>False</td>\n",
       "      <td>False</td>\n",
       "      <td>False</td>\n",
       "      <td>True</td>\n",
       "    </tr>\n",
       "    <tr>\n",
       "      <th>30626</th>\n",
       "      <td>2</td>\n",
       "      <td>333.87</td>\n",
       "      <td>1</td>\n",
       "      <td>0</td>\n",
       "      <td>1</td>\n",
       "      <td>1</td>\n",
       "      <td>2</td>\n",
       "      <td>0</td>\n",
       "      <td>False</td>\n",
       "      <td>True</td>\n",
       "      <td>False</td>\n",
       "      <td>True</td>\n",
       "      <td>False</td>\n",
       "      <td>False</td>\n",
       "    </tr>\n",
       "    <tr>\n",
       "      <th>16372</th>\n",
       "      <td>4</td>\n",
       "      <td>103.79</td>\n",
       "      <td>1</td>\n",
       "      <td>0</td>\n",
       "      <td>1</td>\n",
       "      <td>1</td>\n",
       "      <td>2</td>\n",
       "      <td>0</td>\n",
       "      <td>False</td>\n",
       "      <td>False</td>\n",
       "      <td>True</td>\n",
       "      <td>False</td>\n",
       "      <td>False</td>\n",
       "      <td>True</td>\n",
       "    </tr>\n",
       "  </tbody>\n",
       "</table>\n",
       "</div>"
      ],
      "text/plain": [
       "       recency  history  used_discount  used_bogo  is_referral  treatment  \\\n",
       "20518        2   167.94              1          0            1          1   \n",
       "34388       11   129.29              1          0            0          1   \n",
       "40663        9   129.61              0          1            1          0   \n",
       "30626        2   333.87              1          0            1          1   \n",
       "16372        4   103.79              1          0            1          1   \n",
       "\n",
       "       target_class  conversion  zip_code_Rural  zip_code_Surburban  \\\n",
       "20518             2           0           False                True   \n",
       "34388             2           0           False                True   \n",
       "40663             0           0            True               False   \n",
       "30626             2           0           False                True   \n",
       "16372             2           0           False               False   \n",
       "\n",
       "       zip_code_Urban  channel_Multichannel  channel_Phone  channel_Web  \n",
       "20518           False                 False          False         True  \n",
       "34388           False                 False           True        False  \n",
       "40663           False                 False          False         True  \n",
       "30626           False                  True          False        False  \n",
       "16372            True                 False          False         True  "
      ]
     },
     "execution_count": 13,
     "metadata": {},
     "output_type": "execute_result"
    }
   ],
   "source": [
    "df_bogo_train, df_bogo_test = train_test_split(\n",
    "    df_bogo, \n",
    "    stratify=df_bogo[[treatment_col, target_col]], \n",
    "    random_state=13, \n",
    "    test_size=0.3\n",
    ")\n",
    "print(df_bogo_train.shape)\n",
    "print(df_bogo_test.shape)\n",
    "\n",
    "df_bogo_train.head()"
   ]
  },
  {
   "cell_type": "markdown",
   "metadata": {
    "id": "RvrGn7on7A69"
   },
   "source": [
    "### X-learner (CausalML)"
   ]
  },
  {
   "cell_type": "markdown",
   "metadata": {
    "id": "FYUMCIN67A69"
   },
   "source": [
    "**Задание №1**"
   ]
  },
  {
   "cell_type": "markdown",
   "metadata": {
    "id": "RGOE-lug7A6-"
   },
   "source": [
    "Давайте проведем uplift-моделирование на датасете с промо-акциями (df_bogo) с помощью X-learner из библиотеки `CausalML` (BaseXClassifier).\n",
    "\n",
    "В качестве `outcome_learner` используйте модель логистической регрессии (`LogisticRegression`) из библиотеки scikit-learn с параметрами по умолчанию. Параметр random_state установите в значение 13. \n",
    "\n",
    "В качестве `effect_learner` возьмите модель линейной регрессии (`LinearRegression`) из библиотеки scikit-learn с параметрами по умолчанию. \n",
    "\n",
    "Рассчитайте qini-score на тестовой выборке для полученного X-learner. Запишите полученный результат с точностью до 3-его знака после запятой. "
   ]
  },
  {
   "cell_type": "code",
   "execution_count": 24,
   "metadata": {
    "executionInfo": {
     "elapsed": 5,
     "status": "ok",
     "timestamp": 1677406688132,
     "user": {
      "displayName": "Андрей Достоевский",
      "userId": "09718989537568551698"
     },
     "user_tz": -180
    },
    "id": "jedbQptl7A6-"
   },
   "outputs": [
    {
     "name": "stderr",
     "output_type": "stream",
     "text": [
      "c:\\Projects\\DS\\lessons\\.venv\\Lib\\site-packages\\sklearn\\linear_model\\_sag.py:349: ConvergenceWarning: The max_iter was reached which means the coef_ did not converge\n",
      "  warnings.warn(\n",
      "c:\\Projects\\DS\\lessons\\.venv\\Lib\\site-packages\\sklearn\\linear_model\\_sag.py:349: ConvergenceWarning: The max_iter was reached which means the coef_ did not converge\n",
      "  warnings.warn(\n",
      "c:\\Projects\\DS\\lessons\\.venv\\Lib\\site-packages\\sklearn\\linear_model\\_sag.py:349: ConvergenceWarning: The max_iter was reached which means the coef_ did not converge\n",
      "  warnings.warn(\n",
      "c:\\Projects\\DS\\lessons\\.venv\\Lib\\site-packages\\sklearn\\linear_model\\_sag.py:349: ConvergenceWarning: The max_iter was reached which means the coef_ did not converge\n",
      "  warnings.warn(\n",
      "c:\\Projects\\DS\\lessons\\.venv\\Lib\\site-packages\\sklearn\\linear_model\\_sag.py:349: ConvergenceWarning: The max_iter was reached which means the coef_ did not converge\n",
      "  warnings.warn(\n",
      "c:\\Projects\\DS\\lessons\\.venv\\Lib\\site-packages\\sklearn\\linear_model\\_sag.py:349: ConvergenceWarning: The max_iter was reached which means the coef_ did not converge\n",
      "  warnings.warn(\n",
      "c:\\Projects\\DS\\lessons\\.venv\\Lib\\site-packages\\sklearn\\linear_model\\_sag.py:349: ConvergenceWarning: The max_iter was reached which means the coef_ did not converge\n",
      "  warnings.warn(\n",
      "c:\\Projects\\DS\\lessons\\.venv\\Lib\\site-packages\\sklearn\\linear_model\\_sag.py:349: ConvergenceWarning: The max_iter was reached which means the coef_ did not converge\n",
      "  warnings.warn(\n",
      "c:\\Projects\\DS\\lessons\\.venv\\Lib\\site-packages\\sklearn\\linear_model\\_sag.py:349: ConvergenceWarning: The max_iter was reached which means the coef_ did not converge\n",
      "  warnings.warn(\n",
      "c:\\Projects\\DS\\lessons\\.venv\\Lib\\site-packages\\sklearn\\linear_model\\_sag.py:349: ConvergenceWarning: The max_iter was reached which means the coef_ did not converge\n",
      "  warnings.warn(\n",
      "c:\\Projects\\DS\\lessons\\.venv\\Lib\\site-packages\\sklearn\\linear_model\\_sag.py:349: ConvergenceWarning: The max_iter was reached which means the coef_ did not converge\n",
      "  warnings.warn(\n",
      "c:\\Projects\\DS\\lessons\\.venv\\Lib\\site-packages\\sklearn\\linear_model\\_sag.py:349: ConvergenceWarning: The max_iter was reached which means the coef_ did not converge\n",
      "  warnings.warn(\n",
      "c:\\Projects\\DS\\lessons\\.venv\\Lib\\site-packages\\sklearn\\linear_model\\_sag.py:349: ConvergenceWarning: The max_iter was reached which means the coef_ did not converge\n",
      "  warnings.warn(\n",
      "c:\\Projects\\DS\\lessons\\.venv\\Lib\\site-packages\\sklearn\\linear_model\\_sag.py:349: ConvergenceWarning: The max_iter was reached which means the coef_ did not converge\n",
      "  warnings.warn(\n",
      "c:\\Projects\\DS\\lessons\\.venv\\Lib\\site-packages\\sklearn\\linear_model\\_sag.py:349: ConvergenceWarning: The max_iter was reached which means the coef_ did not converge\n",
      "  warnings.warn(\n",
      "c:\\Projects\\DS\\lessons\\.venv\\Lib\\site-packages\\sklearn\\linear_model\\_sag.py:349: ConvergenceWarning: The max_iter was reached which means the coef_ did not converge\n",
      "  warnings.warn(\n",
      "c:\\Projects\\DS\\lessons\\.venv\\Lib\\site-packages\\sklearn\\linear_model\\_sag.py:349: ConvergenceWarning: The max_iter was reached which means the coef_ did not converge\n",
      "  warnings.warn(\n",
      "c:\\Projects\\DS\\lessons\\.venv\\Lib\\site-packages\\sklearn\\linear_model\\_logistic.py:469: ConvergenceWarning: lbfgs failed to converge (status=1):\n",
      "STOP: TOTAL NO. of ITERATIONS REACHED LIMIT.\n",
      "\n",
      "Increase the number of iterations (max_iter) or scale the data as shown in:\n",
      "    https://scikit-learn.org/stable/modules/preprocessing.html\n",
      "Please also refer to the documentation for alternative solver options:\n",
      "    https://scikit-learn.org/stable/modules/linear_model.html#logistic-regression\n",
      "  n_iter_i = _check_optimize_result(\n",
      "c:\\Projects\\DS\\lessons\\.venv\\Lib\\site-packages\\sklearn\\linear_model\\_logistic.py:469: ConvergenceWarning: lbfgs failed to converge (status=1):\n",
      "STOP: TOTAL NO. of ITERATIONS REACHED LIMIT.\n",
      "\n",
      "Increase the number of iterations (max_iter) or scale the data as shown in:\n",
      "    https://scikit-learn.org/stable/modules/preprocessing.html\n",
      "Please also refer to the documentation for alternative solver options:\n",
      "    https://scikit-learn.org/stable/modules/linear_model.html#logistic-regression\n",
      "  n_iter_i = _check_optimize_result(\n"
     ]
    },
    {
     "data": {
      "image/png": "[encoded data removed]",
      "text/plain": [
       "<Figure size 500x300 with 1 Axes>"
      ]
     },
     "metadata": {},
     "output_type": "display_data"
    },
    {
     "name": "stdout",
     "output_type": "stream",
     "text": [
      "Qini score: 369.577\n"
     ]
    }
   ],
   "source": [
    "# ваш код здесь\n",
    "\n",
    "# Создадим базовый X-learner\n",
    "x_learner = BaseXClassifier(\n",
    "    outcome_learner=LogisticRegression(random_state=13),\n",
    "    effect_learner=LinearRegression()\n",
    ")\n",
    "\n",
    "# Для обучения нам нужны датафрем с факторами, колонка с фактом воздействия\n",
    "uplift_vals = x_learner.fit_predict(\n",
    "    X=df_bogo[feature_cols],\n",
    "    treatment=df_bogo[treatment_col],\n",
    "    y=df_bogo[target_col],\n",
    ")\n",
    "\n",
    "# Сделаем предсказание uplift-эффекта на обучающей выборке\n",
    "# uplift_vals = x_learner.estimate_ate(np.array(df_discount_train[feature_cols]))\n",
    "# uplift_vals = x_learner.fit_predict(np.array(df_discount_train[feature_cols].values.copy()))\n",
    "df_bogo['uplift_score'] = uplift_vals\n",
    "\n",
    "# # Сделаем предсказание uplift-эффекта на тестовой выборке\n",
    "# uplift_vals = x_learner.predict(np.array(df_discount_test[feature_cols].values.copy()))\n",
    "# df_discount_test['uplift_score'] = uplift_vals\n",
    "\n",
    "# # Мы получили какие-то значения рамках решения задачи классификации, давайте посмотрим на qini score\n",
    "qini_df(df_bogo, title='Whole')\n",
    "# qini_df(df_discount_test, title='test')"
   ]
  },
  {
   "cell_type": "markdown",
   "metadata": {
    "id": "YicgXpeT7A6-"
   },
   "source": [
    "### R-learner (CausalML)"
   ]
  },
  {
   "cell_type": "markdown",
   "metadata": {
    "id": "ZVQ1jfk57A6-"
   },
   "source": [
    "**Задание №2**\n",
    "\n",
    "Давайте проведем uplift-моделирование на датасете с промо-акциями (df_bogo) с помощью R-learner из библиотеки `CausalML` (BaseRClassifier).\n",
    "\n",
    "В качестве `outcome_learner` используйте модель логистической регрессии (`LogisticRegression`) из библиотеки scikit-learn с параметрами по умолчанию. Параметр `random_seed` установите в значение 13. \n",
    "\n",
    "В качестве `effect_learner` возьмите модель линейной регрессии (`LinearRegression`) из библиотеки scikit-learn с параметрами по умолчанию. \n",
    "\n",
    "Параметр `random_state` для BaseRClassifier установите в значение 42. \n",
    "\n",
    "Рассчитайте qini-score на тестовой выборке для полученного R-learner. Запишите полученный результат с точностью до 3-его знака после запятой. "
   ]
  },
  {
   "cell_type": "code",
   "execution_count": 23,
   "metadata": {
    "executionInfo": {
     "elapsed": 3,
     "status": "ok",
     "timestamp": 1677406748541,
     "user": {
      "displayName": "Андрей Достоевский",
      "userId": "09718989537568551698"
     },
     "user_tz": -180
    },
    "id": "WO6EELv27A6-"
   },
   "outputs": [
    {
     "name": "stderr",
     "output_type": "stream",
     "text": [
      "c:\\Projects\\DS\\lessons\\.venv\\Lib\\site-packages\\sklearn\\linear_model\\_sag.py:349: ConvergenceWarning: The max_iter was reached which means the coef_ did not converge\n",
      "  warnings.warn(\n",
      "c:\\Projects\\DS\\lessons\\.venv\\Lib\\site-packages\\sklearn\\linear_model\\_sag.py:349: ConvergenceWarning: The max_iter was reached which means the coef_ did not converge\n",
      "  warnings.warn(\n",
      "c:\\Projects\\DS\\lessons\\.venv\\Lib\\site-packages\\sklearn\\linear_model\\_sag.py:349: ConvergenceWarning: The max_iter was reached which means the coef_ did not converge\n",
      "  warnings.warn(\n",
      "c:\\Projects\\DS\\lessons\\.venv\\Lib\\site-packages\\sklearn\\linear_model\\_sag.py:349: ConvergenceWarning: The max_iter was reached which means the coef_ did not converge\n",
      "  warnings.warn(\n",
      "c:\\Projects\\DS\\lessons\\.venv\\Lib\\site-packages\\sklearn\\linear_model\\_sag.py:349: ConvergenceWarning: The max_iter was reached which means the coef_ did not converge\n",
      "  warnings.warn(\n",
      "c:\\Projects\\DS\\lessons\\.venv\\Lib\\site-packages\\sklearn\\linear_model\\_sag.py:349: ConvergenceWarning: The max_iter was reached which means the coef_ did not converge\n",
      "  warnings.warn(\n",
      "c:\\Projects\\DS\\lessons\\.venv\\Lib\\site-packages\\sklearn\\linear_model\\_sag.py:349: ConvergenceWarning: The max_iter was reached which means the coef_ did not converge\n",
      "  warnings.warn(\n",
      "c:\\Projects\\DS\\lessons\\.venv\\Lib\\site-packages\\sklearn\\linear_model\\_sag.py:349: ConvergenceWarning: The max_iter was reached which means the coef_ did not converge\n",
      "  warnings.warn(\n",
      "c:\\Projects\\DS\\lessons\\.venv\\Lib\\site-packages\\sklearn\\linear_model\\_sag.py:349: ConvergenceWarning: The max_iter was reached which means the coef_ did not converge\n",
      "  warnings.warn(\n",
      "c:\\Projects\\DS\\lessons\\.venv\\Lib\\site-packages\\sklearn\\linear_model\\_sag.py:349: ConvergenceWarning: The max_iter was reached which means the coef_ did not converge\n",
      "  warnings.warn(\n",
      "c:\\Projects\\DS\\lessons\\.venv\\Lib\\site-packages\\sklearn\\linear_model\\_sag.py:349: ConvergenceWarning: The max_iter was reached which means the coef_ did not converge\n",
      "  warnings.warn(\n",
      "c:\\Projects\\DS\\lessons\\.venv\\Lib\\site-packages\\sklearn\\linear_model\\_sag.py:349: ConvergenceWarning: The max_iter was reached which means the coef_ did not converge\n",
      "  warnings.warn(\n",
      "c:\\Projects\\DS\\lessons\\.venv\\Lib\\site-packages\\sklearn\\linear_model\\_sag.py:349: ConvergenceWarning: The max_iter was reached which means the coef_ did not converge\n",
      "  warnings.warn(\n",
      "c:\\Projects\\DS\\lessons\\.venv\\Lib\\site-packages\\sklearn\\linear_model\\_sag.py:349: ConvergenceWarning: The max_iter was reached which means the coef_ did not converge\n",
      "  warnings.warn(\n",
      "c:\\Projects\\DS\\lessons\\.venv\\Lib\\site-packages\\sklearn\\linear_model\\_sag.py:349: ConvergenceWarning: The max_iter was reached which means the coef_ did not converge\n",
      "  warnings.warn(\n",
      "c:\\Projects\\DS\\lessons\\.venv\\Lib\\site-packages\\sklearn\\linear_model\\_sag.py:349: ConvergenceWarning: The max_iter was reached which means the coef_ did not converge\n",
      "  warnings.warn(\n",
      "c:\\Projects\\DS\\lessons\\.venv\\Lib\\site-packages\\sklearn\\linear_model\\_sag.py:349: ConvergenceWarning: The max_iter was reached which means the coef_ did not converge\n",
      "  warnings.warn(\n"
     ]
    },
    {
     "data": {
      "image/png": "[encoded data removed]",
      "text/plain": [
       "<Figure size 500x300 with 1 Axes>"
      ]
     },
     "metadata": {},
     "output_type": "display_data"
    },
    {
     "name": "stdout",
     "output_type": "stream",
     "text": [
      "Qini score: 240.770\n"
     ]
    },
    {
     "data": {
      "image/png": "[encoded data removed]",
      "text/plain": [
       "<Figure size 500x300 with 1 Axes>"
      ]
     },
     "metadata": {},
     "output_type": "display_data"
    },
    {
     "name": "stdout",
     "output_type": "stream",
     "text": [
      "Qini score: 134.827\n"
     ]
    }
   ],
   "source": [
    "# ваш код здесь\n",
    "\n",
    "# Создадим базовый R-learner\n",
    "r_learner = BaseRClassifier(\n",
    "    outcome_learner=LogisticRegression(random_state=13),\n",
    "    effect_learner=LinearRegression(),\n",
    "    random_state=42\n",
    ")\n",
    "\n",
    "# Для обучения нам нужны датафрем с факторами, колонка с фактом воздействия\n",
    "r_learner.fit(X=df_bogo_train[feature_cols],\n",
    "              treatment=df_bogo_train[treatment_col],\n",
    "              y=df_bogo_train[target_col])\n",
    "\n",
    "# Сделаем предсказание uplift-эффекта на обучающей выборке\n",
    "uplift_vals = r_learner.predict(np.array(df_bogo_train[feature_cols].values.copy()))\n",
    "df_bogo_train['uplift_score'] = uplift_vals\n",
    "\n",
    "# Сделаем предсказание uplift-эффекта на тестовой выборке\n",
    "uplift_vals = r_learner.predict(np.array(df_bogo_test[feature_cols].values.copy()))\n",
    "df_bogo_test['uplift_score'] = uplift_vals\n",
    "\n",
    "# Мы получили какие-то значения рамках решения задачи классификации, давайте посмотрим на qini score\n",
    "qini_df(df_bogo_train, title='train')\n",
    "qini_df(df_bogo_test, title='test')"
   ]
  }
 ],
 "metadata": {
  "colab": {
   "provenance": []
  },
  "kernelspec": {
   "display_name": ".venv",
   "language": "python",
   "name": "python3"
  },
  "language_info": {
   "codemirror_mode": {
    "name": "ipython",
    "version": 3
   },
   "file_extension": ".py",
   "mimetype": "text/x-python",
   "name": "python",
   "nbconvert_exporter": "python",
   "pygments_lexer": "ipython3",
   "version": "3.11.7"
  },
  "orig_nbformat": 4
 },
 "nbformat": 4,
 "nbformat_minor": 0
}
