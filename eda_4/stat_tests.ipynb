{
  "cells": [
    {
      "cell_type": "markdown",
      "metadata": {
        "id": "rnOfMuip4hyp"
      },
      "source": [
        "Практикум по статистическим тестам\n",
        "\n",
        "Автор: **Булыгин Олег**\n",
        "* [Я в LinkedIn](https://www.linkedin.com/in/obulygin/)  \n",
        "* [Мой канал в ТГ по Python](https://t.me/pythontalk_ru)\n",
        "* [Чат канала](https://t.me/pythontalk_chat)\n",
        "* [Блог в Телетайпе](https://teletype.in/@pythontalk)"
      ]
    },
    {
      "cell_type": "code",
      "execution_count": null,
      "metadata": {
        "id": "o78Ba5zQ4hyu"
      },
      "outputs": [],
      "source": [
        "import numpy as np\n",
        "import scipy.stats as st\n",
        "import pandas as pd\n",
        "import math\n",
        "import matplotlib.pyplot as plt\n",
        "import seaborn as sns"
      ]
    },
    {
      "cell_type": "markdown",
      "metadata": {
        "id": "HEXbyrkP01Br"
      },
      "source": [
        "Никакие экспериментально полученные данные никогда **не подтвердят** какую-либо гипотезу. Это является фундаментальным ограничением. Данные могут лишь не противоречить гипотезе или, наоборот, показывать очень маловероятные результаты (при условии, что гипотеза верна). Но и в том, и в другом случае никогда нет оснований утверждать, что выдвинутая гипотеза **доказана**."
      ]
    },
    {
      "cell_type": "markdown",
      "source": [
        "1) Нужно сформулировать нулевую и альтернативную гипотезы;   \n",
        "2) Определить пороговый уровень статистической значимости;  \n",
        "3) Сколько у нас выборок (какой вариант теста используем)?  \n",
        "3) Нужен ли односторонний, либо двухсторонний вариант теста?  https://stats.idre.ucla.edu/other/mult-pkg/faq/general/faq-what-are-the-differences-between-one-tailed-and-two-tailed-tests/  \n",
        "4) Выборки связаны или нет?"
      ],
      "metadata": {
        "id": "LbiGagkO2d2w"
      }
    },
    {
      "cell_type": "markdown",
      "metadata": {
        "id": "QdJwu84W4hyw"
      },
      "source": [
        "## Параметрические тесты\n",
        "### Тест Стьюдента для независмых выборок\n",
        "\n",
        "Проверка среднего значения двух выборок или одной выборки с целевым значением\n",
        "\n",
        "Допущения\n",
        "\n",
        "* Наблюдения внутри каждой выборки независимы друг от друга.\n",
        "* Есть распространённое мнение, что данный тест требует нормального распределения, но это не совсем так. Если данных не мало, то требуется нормальное распределение выборочных средних, которое соблюдается почти всегда (кроме распределения Коши).\n",
        "* Одинаковая вариация в выборках.\n",
        "\n",
        "Гипотеза\n",
        "\n",
        "* H0: Средние выборок одинаковы / Средние выборки совпадает с целевым значением\n",
        "* H1: Средние выборок различаются / Средние выборки отличается от целевого значения"
      ]
    },
    {
      "cell_type": "markdown",
      "metadata": {
        "id": "zOkGt22K4hyy"
      },
      "source": [
        "#### Одновыборочный тест"
      ]
    },
    {
      "cell_type": "markdown",
      "metadata": {
        "id": "qshILT9s4hyy"
      },
      "source": [
        "<b>Пример.</b> Тест покажет нам, отличаются ли средние значения выборки и генеральной совокупности (сравниваем с генеральной!). Рассмотрим некоторое количество голосующих из Индии и население всего Мира. Отличается ли средний возраст избирателей Индии от возраста населения? Сейчас выясним!"
      ]
    },
    {
      "cell_type": "code",
      "execution_count": null,
      "metadata": {
        "id": "eaZBDECd4hyz",
        "colab": {
          "base_uri": "https://localhost:8080/"
        },
        "outputId": "5e45cec7-30a4-4cb3-cee6-c74f73c0ef91"
      },
      "outputs": [
        {
          "output_type": "stream",
          "name": "stdout",
          "text": [
            "Средний возраст всего мира 20.05285494883601\n",
            "Средний возраст индусов 18.637370653568478\n"
          ]
        }
      ],
      "source": [
        "np.random.seed(42)\n",
        "\n",
        "population_ages1=st.norm.rvs(loc=20, scale=45, size=15000)\n",
        "population_ages2=st.norm.rvs(loc=20, scale=10, size=10000)\n",
        "population_ages=np.concatenate((population_ages1, population_ages2))  # Сгенерировали всю популяцию.\n",
        "\n",
        "india_ages1=st.norm.rvs(loc=19, scale=65, size=2000)  # Индия 1\n",
        "india_ages2=st.norm.rvs(loc=19, scale=55, size=2000)\n",
        "india_ages=np.concatenate((india_ages1, india_ages2)) #Выборка\n",
        "print('Средний возраст всего мира', population_ages.mean())\n",
        "print('Средний возраст индусов', india_ages.mean())"
      ]
    },
    {
      "cell_type": "code",
      "execution_count": null,
      "metadata": {
        "id": "yrxN8BCm4hy0",
        "colab": {
          "base_uri": "https://localhost:8080/"
        },
        "outputId": "01af1375-7fe0-4853-becf-ab6df830fe65"
      },
      "outputs": [
        {
          "output_type": "stream",
          "name": "stdout",
          "text": [
            "Статистика = -1.494, p = 0.135\n",
            "Не отклоняем нулевую гипотезу, средний возраст в Индии, вероятно, не отличается от среднего по миру\n"
          ]
        }
      ],
      "source": [
        "stat, p = st.ttest_1samp(a=india_ages, popmean=population_ages.mean())\n",
        "print(f\"Статистика = {stat:.3f}, p = {p:.3f}\")\n",
        "\n",
        "if p > 0.05:\n",
        "    print(\"Не отклоняем нулевую гипотезу, средний возраст в Индии, вероятно, не отличается от среднего по миру\")\n",
        "else:\n",
        "    print(\"Отклоняем нулевую гипотезу, средний возраст в Индии, вероятно, отличается от среднего по миру\")"
      ]
    },
    {
      "cell_type": "code",
      "execution_count": null,
      "metadata": {
        "id": "8yXS7luT4hy1",
        "colab": {
          "base_uri": "https://localhost:8080/",
          "height": 1000
        },
        "outputId": "af6420fa-d338-4e3a-a59a-1e4036570a66"
      },
      "outputs": [
        {
          "output_type": "execute_result",
          "data": {
            "text/plain": [
              "(array([  3.,   0.,   1.,   0.,   1.,   0.,   0.,   1.,   2.,   2.,   2.,\n",
              "          2.,   2.,   5.,   4.,   4.,   3.,   5.,   8.,  10.,   9.,  13.,\n",
              "          8.,   8.,  16.,  18.,  15.,  11.,  22.,  18.,  31.,  27.,  34.,\n",
              "         28.,  49.,  49.,  37.,  49.,  61.,  56.,  57.,  56.,  69.,  60.,\n",
              "         65.,  70.,  74.,  74.,  62.,  80.,  67.,  73., 102.,  94.,  72.,\n",
              "         99.,  91.,  98.,  93.,  80., 106.,  99.,  77.,  80.,  92.,  63.,\n",
              "         76.,  93.,  81.,  73.,  73.,  76.,  75.,  55.,  61.,  49.,  52.,\n",
              "         40.,  47.,  48.,  39.,  32.,  37.,  33.,  22.,  25.,  24.,  27.,\n",
              "         13.,  23.,   8.,  23.,  17.,  13.,  15.,  13.,   8.,   6.,   5.,\n",
              "          5.,   8.,   2.,   6.,   4.,   1.,   7.,   4.,   3.,   2.,   4.,\n",
              "          0.,   0.,   1.,   0.,   0.,   1.,   0.,   0.,   2.,   1.]),\n",
              " array([-179.59566651, -176.1990416 , -172.80241669, -169.40579178,\n",
              "        -166.00916687, -162.61254196, -159.21591705, -155.81929214,\n",
              "        -152.42266723, -149.02604232, -145.62941741, -142.23279249,\n",
              "        -138.83616758, -135.43954267, -132.04291776, -128.64629285,\n",
              "        -125.24966794, -121.85304303, -118.45641812, -115.05979321,\n",
              "        -111.6631683 , -108.26654339, -104.86991848, -101.47329357,\n",
              "         -98.07666866,  -94.68004375,  -91.28341884,  -87.88679393,\n",
              "         -84.49016902,  -81.09354411,  -77.69691919,  -74.30029428,\n",
              "         -70.90366937,  -67.50704446,  -64.11041955,  -60.71379464,\n",
              "         -57.31716973,  -53.92054482,  -50.52391991,  -47.127295  ,\n",
              "         -43.73067009,  -40.33404518,  -36.93742027,  -33.54079536,\n",
              "         -30.14417045,  -26.74754554,  -23.35092063,  -19.95429572,\n",
              "         -16.5576708 ,  -13.16104589,   -9.76442098,   -6.36779607,\n",
              "          -2.97117116,    0.42545375,    3.82207866,    7.21870357,\n",
              "          10.61532848,   14.01195339,   17.4085783 ,   20.80520321,\n",
              "          24.20182812,   27.59845303,   30.99507794,   34.39170285,\n",
              "          37.78832776,   41.18495267,   44.58157758,   47.9782025 ,\n",
              "          51.37482741,   54.77145232,   58.16807723,   61.56470214,\n",
              "          64.96132705,   68.35795196,   71.75457687,   75.15120178,\n",
              "          78.54782669,   81.9444516 ,   85.34107651,   88.73770142,\n",
              "          92.13432633,   95.53095124,   98.92757615,  102.32420106,\n",
              "         105.72082597,  109.11745088,  112.5140758 ,  115.91070071,\n",
              "         119.30732562,  122.70395053,  126.10057544,  129.49720035,\n",
              "         132.89382526,  136.29045017,  139.68707508,  143.08369999,\n",
              "         146.4803249 ,  149.87694981,  153.27357472,  156.67019963,\n",
              "         160.06682454,  163.46344945,  166.86007436,  170.25669927,\n",
              "         173.65332419,  177.0499491 ,  180.44657401,  183.84319892,\n",
              "         187.23982383,  190.63644874,  194.03307365,  197.42969856,\n",
              "         200.82632347,  204.22294838,  207.61957329,  211.0161982 ,\n",
              "         214.41282311,  217.80944802,  221.20607293,  224.60269784,\n",
              "         227.99932275]),\n",
              " <BarContainer object of 120 artists>)"
            ]
          },
          "metadata": {},
          "execution_count": 5
        },
        {
          "output_type": "display_data",
          "data": {
            "text/plain": [
              "<Figure size 640x480 with 1 Axes>"
            ],
            "image/png": "[encoded data removed]"
          },
          "metadata": {}
        }
      ],
      "source": [
        "plt.hist(population_ages, bins=120)\n",
        "plt.hist(india_ages, bins=120)"
      ]
    },
    {
      "cell_type": "markdown",
      "metadata": {
        "id": "V3egYRzS4hy2"
      },
      "source": [
        "#### Тест для двух выборок"
      ]
    },
    {
      "cell_type": "markdown",
      "metadata": {
        "id": "fs37Ir_U4hy3"
      },
      "source": [
        "<b>Пример.</b> Такой тест показывает, имеют ли две выборки разные средние значения. Здесь нулевая гипотеза заключается в том, что обе группы имеют равные средние."
      ]
    },
    {
      "cell_type": "code",
      "source": [
        "df = pd.read_csv('https://raw.githubusercontent.com/obulygin/netology_pyda_files/main/apple_samsung.csv')\n",
        "df"
      ],
      "metadata": {
        "id": "Ed5ck7kz21cU",
        "colab": {
          "base_uri": "https://localhost:8080/",
          "height": 423
        },
        "outputId": "3ded20f9-f4f0-466f-9741-c71192e9e8bd"
      },
      "execution_count": null,
      "outputs": [
        {
          "output_type": "execute_result",
          "data": {
            "text/plain": [
              "    Sr No S_Cust_id  Samsung_Score Apple_Cust_id  Apple_Score\n",
              "0       1   S336499             94       A336525           82\n",
              "1       2    S73004             99        A73011           83\n",
              "2       3    S79537             74        A79538           88\n",
              "3       4   S769168             74       A769222           80\n",
              "4       5   S609791             83       A609801           74\n",
              "..    ...       ...            ...           ...          ...\n",
              "95     96   S285617             77       A285629           87\n",
              "96     97   S324135             85       A324151           82\n",
              "97     98   S292076             83       A292091           88\n",
              "98     99   S936528             82       A936566           91\n",
              "99    100   S489010            100       A489031           95\n",
              "\n",
              "[100 rows x 5 columns]"
            ],
            "text/html": [
              "\n",
              "  <div id=\"df-267f05fd-cc3c-49db-92c3-354d3efa3f81\" class=\"colab-df-container\">\n",
              "    <div>\n",
              "<style scoped>\n",
              "    .dataframe tbody tr th:only-of-type {\n",
              "        vertical-align: middle;\n",
              "    }\n",
              "\n",
              "    .dataframe tbody tr th {\n",
              "        vertical-align: top;\n",
              "    }\n",
              "\n",
              "    .dataframe thead th {\n",
              "        text-align: right;\n",
              "    }\n",
              "</style>\n",
              "<table border=\"1\" class=\"dataframe\">\n",
              "  <thead>\n",
              "    <tr style=\"text-align: right;\">\n",
              "      <th></th>\n",
              "      <th>Sr No</th>\n",
              "      <th>S_Cust_id</th>\n",
              "      <th>Samsung_Score</th>\n",
              "      <th>Apple_Cust_id</th>\n",
              "      <th>Apple_Score</th>\n",
              "    </tr>\n",
              "  </thead>\n",
              "  <tbody>\n",
              "    <tr>\n",
              "      <th>0</th>\n",
              "      <td>1</td>\n",
              "      <td>S336499</td>\n",
              "      <td>94</td>\n",
              "      <td>A336525</td>\n",
              "      <td>82</td>\n",
              "    </tr>\n",
              "    <tr>\n",
              "      <th>1</th>\n",
              "      <td>2</td>\n",
              "      <td>S73004</td>\n",
              "      <td>99</td>\n",
              "      <td>A73011</td>\n",
              "      <td>83</td>\n",
              "    </tr>\n",
              "    <tr>\n",
              "      <th>2</th>\n",
              "      <td>3</td>\n",
              "      <td>S79537</td>\n",
              "      <td>74</td>\n",
              "      <td>A79538</td>\n",
              "      <td>88</td>\n",
              "    </tr>\n",
              "    <tr>\n",
              "      <th>3</th>\n",
              "      <td>4</td>\n",
              "      <td>S769168</td>\n",
              "      <td>74</td>\n",
              "      <td>A769222</td>\n",
              "      <td>80</td>\n",
              "    </tr>\n",
              "    <tr>\n",
              "      <th>4</th>\n",
              "      <td>5</td>\n",
              "      <td>S609791</td>\n",
              "      <td>83</td>\n",
              "      <td>A609801</td>\n",
              "      <td>74</td>\n",
              "    </tr>\n",
              "    <tr>\n",
              "      <th>...</th>\n",
              "      <td>...</td>\n",
              "      <td>...</td>\n",
              "      <td>...</td>\n",
              "      <td>...</td>\n",
              "      <td>...</td>\n",
              "    </tr>\n",
              "    <tr>\n",
              "      <th>95</th>\n",
              "      <td>96</td>\n",
              "      <td>S285617</td>\n",
              "      <td>77</td>\n",
              "      <td>A285629</td>\n",
              "      <td>87</td>\n",
              "    </tr>\n",
              "    <tr>\n",
              "      <th>96</th>\n",
              "      <td>97</td>\n",
              "      <td>S324135</td>\n",
              "      <td>85</td>\n",
              "      <td>A324151</td>\n",
              "      <td>82</td>\n",
              "    </tr>\n",
              "    <tr>\n",
              "      <th>97</th>\n",
              "      <td>98</td>\n",
              "      <td>S292076</td>\n",
              "      <td>83</td>\n",
              "      <td>A292091</td>\n",
              "      <td>88</td>\n",
              "    </tr>\n",
              "    <tr>\n",
              "      <th>98</th>\n",
              "      <td>99</td>\n",
              "      <td>S936528</td>\n",
              "      <td>82</td>\n",
              "      <td>A936566</td>\n",
              "      <td>91</td>\n",
              "    </tr>\n",
              "    <tr>\n",
              "      <th>99</th>\n",
              "      <td>100</td>\n",
              "      <td>S489010</td>\n",
              "      <td>100</td>\n",
              "      <td>A489031</td>\n",
              "      <td>95</td>\n",
              "    </tr>\n",
              "  </tbody>\n",
              "</table>\n",
              "<p>100 rows × 5 columns</p>\n",
              "</div>\n",
              "    <div class=\"colab-df-buttons\">\n",
              "\n",
              "  <div class=\"colab-df-container\">\n",
              "    <button class=\"colab-df-convert\" onclick=\"convertToInteractive('df-267f05fd-cc3c-49db-92c3-354d3efa3f81')\"\n",
              "            title=\"Convert this dataframe to an interactive table.\"\n",
              "            style=\"display:none;\">\n",
              "\n",
              "  <svg xmlns=\"http://www.w3.org/2000/svg\" height=\"24px\" viewBox=\"0 -960 960 960\">\n",
              "    <path d=\"M120-120v-720h720v720H120Zm60-500h600v-160H180v160Zm220 220h160v-160H400v160Zm0 220h160v-160H400v160ZM180-400h160v-160H180v160Zm440 0h160v-160H620v160ZM180-180h160v-160H180v160Zm440 0h160v-160H620v160Z\"/>\n",
              "  </svg>\n",
              "    </button>\n",
              "\n",
              "  <style>\n",
              "    .colab-df-container {\n",
              "      display:flex;\n",
              "      gap: 12px;\n",
              "    }\n",
              "\n",
              "    .colab-df-convert {\n",
              "      background-color: #E8F0FE;\n",
              "      border: none;\n",
              "      border-radius: 50%;\n",
              "      cursor: pointer;\n",
              "      display: none;\n",
              "      fill: #1967D2;\n",
              "      height: 32px;\n",
              "      padding: 0 0 0 0;\n",
              "      width: 32px;\n",
              "    }\n",
              "\n",
              "    .colab-df-convert:hover {\n",
              "      background-color: #E2EBFA;\n",
              "      box-shadow: 0px 1px 2px rgba(60, 64, 67, 0.3), 0px 1px 3px 1px rgba(60, 64, 67, 0.15);\n",
              "      fill: #174EA6;\n",
              "    }\n",
              "\n",
              "    .colab-df-buttons div {\n",
              "      margin-bottom: 4px;\n",
              "    }\n",
              "\n",
              "    [theme=dark] .colab-df-convert {\n",
              "      background-color: #3B4455;\n",
              "      fill: #D2E3FC;\n",
              "    }\n",
              "\n",
              "    [theme=dark] .colab-df-convert:hover {\n",
              "      background-color: #434B5C;\n",
              "      box-shadow: 0px 1px 3px 1px rgba(0, 0, 0, 0.15);\n",
              "      filter: drop-shadow(0px 1px 2px rgba(0, 0, 0, 0.3));\n",
              "      fill: #FFFFFF;\n",
              "    }\n",
              "  </style>\n",
              "\n",
              "    <script>\n",
              "      const buttonEl =\n",
              "        document.querySelector('#df-267f05fd-cc3c-49db-92c3-354d3efa3f81 button.colab-df-convert');\n",
              "      buttonEl.style.display =\n",
              "        google.colab.kernel.accessAllowed ? 'block' : 'none';\n",
              "\n",
              "      async function convertToInteractive(key) {\n",
              "        const element = document.querySelector('#df-267f05fd-cc3c-49db-92c3-354d3efa3f81');\n",
              "        const dataTable =\n",
              "          await google.colab.kernel.invokeFunction('convertToInteractive',\n",
              "                                                    [key], {});\n",
              "        if (!dataTable) return;\n",
              "\n",
              "        const docLinkHtml = 'Like what you see? Visit the ' +\n",
              "          '<a target=\"_blank\" href=https://colab.research.google.com/notebooks/data_table.ipynb>data table notebook</a>'\n",
              "          + ' to learn more about interactive tables.';\n",
              "        element.innerHTML = '';\n",
              "        dataTable['output_type'] = 'display_data';\n",
              "        await google.colab.output.renderOutput(dataTable, element);\n",
              "        const docLink = document.createElement('div');\n",
              "        docLink.innerHTML = docLinkHtml;\n",
              "        element.appendChild(docLink);\n",
              "      }\n",
              "    </script>\n",
              "  </div>\n",
              "\n",
              "\n",
              "<div id=\"df-9782221d-447e-415b-8044-bf5384766d6d\">\n",
              "  <button class=\"colab-df-quickchart\" onclick=\"quickchart('df-9782221d-447e-415b-8044-bf5384766d6d')\"\n",
              "            title=\"Suggest charts\"\n",
              "            style=\"display:none;\">\n",
              "\n",
              "<svg xmlns=\"http://www.w3.org/2000/svg\" height=\"24px\"viewBox=\"0 0 24 24\"\n",
              "     width=\"24px\">\n",
              "    <g>\n",
              "        <path d=\"M19 3H5c-1.1 0-2 .9-2 2v14c0 1.1.9 2 2 2h14c1.1 0 2-.9 2-2V5c0-1.1-.9-2-2-2zM9 17H7v-7h2v7zm4 0h-2V7h2v10zm4 0h-2v-4h2v4z\"/>\n",
              "    </g>\n",
              "</svg>\n",
              "  </button>\n",
              "\n",
              "<style>\n",
              "  .colab-df-quickchart {\n",
              "      --bg-color: #E8F0FE;\n",
              "      --fill-color: #1967D2;\n",
              "      --hover-bg-color: #E2EBFA;\n",
              "      --hover-fill-color: #174EA6;\n",
              "      --disabled-fill-color: #AAA;\n",
              "      --disabled-bg-color: #DDD;\n",
              "  }\n",
              "\n",
              "  [theme=dark] .colab-df-quickchart {\n",
              "      --bg-color: #3B4455;\n",
              "      --fill-color: #D2E3FC;\n",
              "      --hover-bg-color: #434B5C;\n",
              "      --hover-fill-color: #FFFFFF;\n",
              "      --disabled-bg-color: #3B4455;\n",
              "      --disabled-fill-color: #666;\n",
              "  }\n",
              "\n",
              "  .colab-df-quickchart {\n",
              "    background-color: var(--bg-color);\n",
              "    border: none;\n",
              "    border-radius: 50%;\n",
              "    cursor: pointer;\n",
              "    display: none;\n",
              "    fill: var(--fill-color);\n",
              "    height: 32px;\n",
              "    padding: 0;\n",
              "    width: 32px;\n",
              "  }\n",
              "\n",
              "  .colab-df-quickchart:hover {\n",
              "    background-color: var(--hover-bg-color);\n",
              "    box-shadow: 0 1px 2px rgba(60, 64, 67, 0.3), 0 1px 3px 1px rgba(60, 64, 67, 0.15);\n",
              "    fill: var(--button-hover-fill-color);\n",
              "  }\n",
              "\n",
              "  .colab-df-quickchart-complete:disabled,\n",
              "  .colab-df-quickchart-complete:disabled:hover {\n",
              "    background-color: var(--disabled-bg-color);\n",
              "    fill: var(--disabled-fill-color);\n",
              "    box-shadow: none;\n",
              "  }\n",
              "\n",
              "  .colab-df-spinner {\n",
              "    border: 2px solid var(--fill-color);\n",
              "    border-color: transparent;\n",
              "    border-bottom-color: var(--fill-color);\n",
              "    animation:\n",
              "      spin 1s steps(1) infinite;\n",
              "  }\n",
              "\n",
              "  @keyframes spin {\n",
              "    0% {\n",
              "      border-color: transparent;\n",
              "      border-bottom-color: var(--fill-color);\n",
              "      border-left-color: var(--fill-color);\n",
              "    }\n",
              "    20% {\n",
              "      border-color: transparent;\n",
              "      border-left-color: var(--fill-color);\n",
              "      border-top-color: var(--fill-color);\n",
              "    }\n",
              "    30% {\n",
              "      border-color: transparent;\n",
              "      border-left-color: var(--fill-color);\n",
              "      border-top-color: var(--fill-color);\n",
              "      border-right-color: var(--fill-color);\n",
              "    }\n",
              "    40% {\n",
              "      border-color: transparent;\n",
              "      border-right-color: var(--fill-color);\n",
              "      border-top-color: var(--fill-color);\n",
              "    }\n",
              "    60% {\n",
              "      border-color: transparent;\n",
              "      border-right-color: var(--fill-color);\n",
              "    }\n",
              "    80% {\n",
              "      border-color: transparent;\n",
              "      border-right-color: var(--fill-color);\n",
              "      border-bottom-color: var(--fill-color);\n",
              "    }\n",
              "    90% {\n",
              "      border-color: transparent;\n",
              "      border-bottom-color: var(--fill-color);\n",
              "    }\n",
              "  }\n",
              "</style>\n",
              "\n",
              "  <script>\n",
              "    async function quickchart(key) {\n",
              "      const quickchartButtonEl =\n",
              "        document.querySelector('#' + key + ' button');\n",
              "      quickchartButtonEl.disabled = true;  // To prevent multiple clicks.\n",
              "      quickchartButtonEl.classList.add('colab-df-spinner');\n",
              "      try {\n",
              "        const charts = await google.colab.kernel.invokeFunction(\n",
              "            'suggestCharts', [key], {});\n",
              "      } catch (error) {\n",
              "        console.error('Error during call to suggestCharts:', error);\n",
              "      }\n",
              "      quickchartButtonEl.classList.remove('colab-df-spinner');\n",
              "      quickchartButtonEl.classList.add('colab-df-quickchart-complete');\n",
              "    }\n",
              "    (() => {\n",
              "      let quickchartButtonEl =\n",
              "        document.querySelector('#df-9782221d-447e-415b-8044-bf5384766d6d button');\n",
              "      quickchartButtonEl.style.display =\n",
              "        google.colab.kernel.accessAllowed ? 'block' : 'none';\n",
              "    })();\n",
              "  </script>\n",
              "</div>\n",
              "    </div>\n",
              "  </div>\n"
            ],
            "application/vnd.google.colaboratory.intrinsic+json": {
              "type": "dataframe",
              "variable_name": "df",
              "summary": "{\n  \"name\": \"df\",\n  \"rows\": 100,\n  \"fields\": [\n    {\n      \"column\": \"Sr No\",\n      \"properties\": {\n        \"dtype\": \"number\",\n        \"std\": 29,\n        \"min\": 1,\n        \"max\": 100,\n        \"num_unique_values\": 100,\n        \"samples\": [\n          84,\n          54,\n          71\n        ],\n        \"semantic_type\": \"\",\n        \"description\": \"\"\n      }\n    },\n    {\n      \"column\": \"S_Cust_id\",\n      \"properties\": {\n        \"dtype\": \"string\",\n        \"num_unique_values\": 100,\n        \"samples\": [\n          \"S642872\",\n          \"S225450\",\n          \"S314974\"\n        ],\n        \"semantic_type\": \"\",\n        \"description\": \"\"\n      }\n    },\n    {\n      \"column\": \"Samsung_Score\",\n      \"properties\": {\n        \"dtype\": \"number\",\n        \"std\": 11,\n        \"min\": 58,\n        \"max\": 100,\n        \"num_unique_values\": 34,\n        \"samples\": [\n          69,\n          67,\n          71\n        ],\n        \"semantic_type\": \"\",\n        \"description\": \"\"\n      }\n    },\n    {\n      \"column\": \"Apple_Cust_id\",\n      \"properties\": {\n        \"dtype\": \"string\",\n        \"num_unique_values\": 100,\n        \"samples\": [\n          \"A642912\",\n          \"A225508\",\n          \"A314997\"\n        ],\n        \"semantic_type\": \"\",\n        \"description\": \"\"\n      }\n    },\n    {\n      \"column\": \"Apple_Score\",\n      \"properties\": {\n        \"dtype\": \"number\",\n        \"std\": 9,\n        \"min\": 62,\n        \"max\": 100,\n        \"num_unique_values\": 31,\n        \"samples\": [\n          91,\n          95,\n          86\n        ],\n        \"semantic_type\": \"\",\n        \"description\": \"\"\n      }\n    }\n  ]\n}"
            }
          },
          "metadata": {},
          "execution_count": 6
        }
      ]
    },
    {
      "cell_type": "code",
      "execution_count": null,
      "metadata": {
        "id": "rLGi5fPp4hy4",
        "colab": {
          "base_uri": "https://localhost:8080/"
        },
        "outputId": "62da8ec1-fd7b-49d7-c174-3be9b3675b74"
      },
      "outputs": [
        {
          "output_type": "stream",
          "name": "stdout",
          "text": [
            "84.9\n",
            "87.81\n",
            "Статистика = -1.90643, p = 0.05804\n",
            "Не отвергаем нулевую гипотезу\n"
          ]
        }
      ],
      "source": [
        "stat, p = st.ttest_ind(df['Samsung_Score'], df['Apple_Score'])\n",
        "print(df['Samsung_Score'].mean())\n",
        "print(df['Apple_Score'].mean())\n",
        "print(f\"Статистика = {stat:.5f}, p = {p:.5f}\")\n",
        "if (p < 0.05):\n",
        "    print('Отвергаем нулевую гипотезу, клиенты по разному относятся к продукции Apple и Samsung')\n",
        "else:\n",
        "    print('Не отвергаем нулевую гипотезу')"
      ]
    },
    {
      "cell_type": "markdown",
      "metadata": {
        "id": "xGeCq9ly4hy5"
      },
      "source": [
        "По умолчанию критерий Стьюдента подразумевает равенство дисперсий двух выборок. Если дисперсии отличаются (можно проверить с помощью F-теста), то нужно использовать поправку Уэлча (Welch). В scipy это реализовано через параметр функции ttest_ind: `equal_var = False`.\n",
        "\n",
        "Существует [мнение](http://daniellakens.blogspot.com/2015/01/always-use-welchs-t-test-instead-of.html), что использование критерия Уэлча всегда предпочтительнее, будем придерживаться этой позиции."
      ]
    },
    {
      "cell_type": "code",
      "execution_count": null,
      "metadata": {
        "id": "qPsURzTq4hy5",
        "colab": {
          "base_uri": "https://localhost:8080/"
        },
        "outputId": "62623510-3ac1-4c0d-fe9f-a229951982bd"
      },
      "outputs": [
        {
          "output_type": "stream",
          "name": "stdout",
          "text": [
            "84.9\n",
            "87.81\n",
            "Статистика = -1.90643, p = 0.05810\n",
            "Не отвергаем нулевую гипотезу\n"
          ]
        }
      ],
      "source": [
        "stat, p = st.ttest_ind(df['Samsung_Score'], df['Apple_Score'], equal_var=False)\n",
        "print(df['Samsung_Score'].mean())\n",
        "print(df['Apple_Score'].mean())\n",
        "print(f\"Статистика = {stat:.5f}, p = {p:.5f}\")\n",
        "if (p < 0.05):\n",
        "    print('Отвергаем нулевую гипотезу, клиенты по разному относятся к продукции Apple и Samsung')\n",
        "else:\n",
        "    print('Не отвергаем нулевую гипотезу')"
      ]
    },
    {
      "cell_type": "code",
      "execution_count": null,
      "metadata": {
        "id": "x-iA1SJx4hy6",
        "colab": {
          "base_uri": "https://localhost:8080/",
          "height": 557
        },
        "outputId": "0d8ed399-1b9b-4be0-d0f7-34d452b44f4b"
      },
      "outputs": [
        {
          "output_type": "execute_result",
          "data": {
            "text/plain": [
              "(array([ 1.,  1.,  0.,  1.,  2.,  2.,  3.,  2.,  0.,  1.,  3.,  5.,  2.,\n",
              "         8.,  4.,  6.,  3., 13.,  2.,  7.,  2.,  7.,  2.,  2., 21.]),\n",
              " array([ 62.  ,  63.52,  65.04,  66.56,  68.08,  69.6 ,  71.12,  72.64,\n",
              "         74.16,  75.68,  77.2 ,  78.72,  80.24,  81.76,  83.28,  84.8 ,\n",
              "         86.32,  87.84,  89.36,  90.88,  92.4 ,  93.92,  95.44,  96.96,\n",
              "         98.48, 100.  ]),\n",
              " <BarContainer object of 25 artists>)"
            ]
          },
          "metadata": {},
          "execution_count": 9
        },
        {
          "output_type": "display_data",
          "data": {
            "text/plain": [
              "<Figure size 640x480 with 1 Axes>"
            ],
            "image/png": "[encoded data removed]"
          },
          "metadata": {}
        }
      ],
      "source": [
        "plt.hist(df['Samsung_Score'], bins=25, alpha=0.5)\n",
        "plt.hist(df['Apple_Score'], bins=25, alpha=0.5)"
      ]
    },
    {
      "cell_type": "markdown",
      "metadata": {
        "id": "ol_74C7w4hy7"
      },
      "source": [
        "### Тест Стьюдента для зависимых выборок\n",
        "Сравнивает средние значения при связанных данных, когда измерения проводились, например, до и после каких-то изменений.\n",
        "\n",
        "Допущения\n",
        "* Одинаковая вариация в выборках.\n",
        "* Наблюдения связаны попарно в двух выборках\n",
        "\n",
        "Гипотеза\n",
        "\n",
        "* H0: Средние выборок одинаковы.\n",
        "* H1: Средние выборок различаются."
      ]
    },
    {
      "cell_type": "markdown",
      "metadata": {
        "id": "M54KWhH74hy7"
      },
      "source": [
        "<b>Пример.</b> Предположим, нас интересует оценка эффективности программы обучения компании. Один из подходов, который вы можете рассмотреть, - это измерение производительности выборки сотрудников до и после завершения программы и анализ различий с использованием парного выборочного t-критерия."
      ]
    },
    {
      "cell_type": "code",
      "execution_count": null,
      "metadata": {
        "id": "3hvo1-tH4hy8",
        "colab": {
          "base_uri": "https://localhost:8080/",
          "height": 300
        },
        "outputId": "f84a1fa7-5ba8-43c1-acf8-83bfa6714946"
      },
      "outputs": [
        {
          "output_type": "execute_result",
          "data": {
            "text/plain": [
              "           вес_до   вес_после  вес_изменение\n",
              "count  100.000000  100.000000     100.000000\n",
              "mean   246.691328  246.800651       0.109323\n",
              "std     28.161039   28.746787       5.153353\n",
              "min    192.332479  189.122861     -12.533319\n",
              "25%    228.405828  225.747076      -2.846210\n",
              "50%    245.169221  244.712994      -0.115017\n",
              "75%    268.328626  266.582395       3.782396\n",
              "max    325.254027  319.269443      11.587162"
            ],
            "text/html": [
              "\n",
              "  <div id=\"df-8161cd83-c533-405f-998a-6d2fd442f9b6\" class=\"colab-df-container\">\n",
              "    <div>\n",
              "<style scoped>\n",
              "    .dataframe tbody tr th:only-of-type {\n",
              "        vertical-align: middle;\n",
              "    }\n",
              "\n",
              "    .dataframe tbody tr th {\n",
              "        vertical-align: top;\n",
              "    }\n",
              "\n",
              "    .dataframe thead th {\n",
              "        text-align: right;\n",
              "    }\n",
              "</style>\n",
              "<table border=\"1\" class=\"dataframe\">\n",
              "  <thead>\n",
              "    <tr style=\"text-align: right;\">\n",
              "      <th></th>\n",
              "      <th>вес_до</th>\n",
              "      <th>вес_после</th>\n",
              "      <th>вес_изменение</th>\n",
              "    </tr>\n",
              "  </thead>\n",
              "  <tbody>\n",
              "    <tr>\n",
              "      <th>count</th>\n",
              "      <td>100.000000</td>\n",
              "      <td>100.000000</td>\n",
              "      <td>100.000000</td>\n",
              "    </tr>\n",
              "    <tr>\n",
              "      <th>mean</th>\n",
              "      <td>246.691328</td>\n",
              "      <td>246.800651</td>\n",
              "      <td>0.109323</td>\n",
              "    </tr>\n",
              "    <tr>\n",
              "      <th>std</th>\n",
              "      <td>28.161039</td>\n",
              "      <td>28.746787</td>\n",
              "      <td>5.153353</td>\n",
              "    </tr>\n",
              "    <tr>\n",
              "      <th>min</th>\n",
              "      <td>192.332479</td>\n",
              "      <td>189.122861</td>\n",
              "      <td>-12.533319</td>\n",
              "    </tr>\n",
              "    <tr>\n",
              "      <th>25%</th>\n",
              "      <td>228.405828</td>\n",
              "      <td>225.747076</td>\n",
              "      <td>-2.846210</td>\n",
              "    </tr>\n",
              "    <tr>\n",
              "      <th>50%</th>\n",
              "      <td>245.169221</td>\n",
              "      <td>244.712994</td>\n",
              "      <td>-0.115017</td>\n",
              "    </tr>\n",
              "    <tr>\n",
              "      <th>75%</th>\n",
              "      <td>268.328626</td>\n",
              "      <td>266.582395</td>\n",
              "      <td>3.782396</td>\n",
              "    </tr>\n",
              "    <tr>\n",
              "      <th>max</th>\n",
              "      <td>325.254027</td>\n",
              "      <td>319.269443</td>\n",
              "      <td>11.587162</td>\n",
              "    </tr>\n",
              "  </tbody>\n",
              "</table>\n",
              "</div>\n",
              "    <div class=\"colab-df-buttons\">\n",
              "\n",
              "  <div class=\"colab-df-container\">\n",
              "    <button class=\"colab-df-convert\" onclick=\"convertToInteractive('df-8161cd83-c533-405f-998a-6d2fd442f9b6')\"\n",
              "            title=\"Convert this dataframe to an interactive table.\"\n",
              "            style=\"display:none;\">\n",
              "\n",
              "  <svg xmlns=\"http://www.w3.org/2000/svg\" height=\"24px\" viewBox=\"0 -960 960 960\">\n",
              "    <path d=\"M120-120v-720h720v720H120Zm60-500h600v-160H180v160Zm220 220h160v-160H400v160Zm0 220h160v-160H400v160ZM180-400h160v-160H180v160Zm440 0h160v-160H620v160ZM180-180h160v-160H180v160Zm440 0h160v-160H620v160Z\"/>\n",
              "  </svg>\n",
              "    </button>\n",
              "\n",
              "  <style>\n",
              "    .colab-df-container {\n",
              "      display:flex;\n",
              "      gap: 12px;\n",
              "    }\n",
              "\n",
              "    .colab-df-convert {\n",
              "      background-color: #E8F0FE;\n",
              "      border: none;\n",
              "      border-radius: 50%;\n",
              "      cursor: pointer;\n",
              "      display: none;\n",
              "      fill: #1967D2;\n",
              "      height: 32px;\n",
              "      padding: 0 0 0 0;\n",
              "      width: 32px;\n",
              "    }\n",
              "\n",
              "    .colab-df-convert:hover {\n",
              "      background-color: #E2EBFA;\n",
              "      box-shadow: 0px 1px 2px rgba(60, 64, 67, 0.3), 0px 1px 3px 1px rgba(60, 64, 67, 0.15);\n",
              "      fill: #174EA6;\n",
              "    }\n",
              "\n",
              "    .colab-df-buttons div {\n",
              "      margin-bottom: 4px;\n",
              "    }\n",
              "\n",
              "    [theme=dark] .colab-df-convert {\n",
              "      background-color: #3B4455;\n",
              "      fill: #D2E3FC;\n",
              "    }\n",
              "\n",
              "    [theme=dark] .colab-df-convert:hover {\n",
              "      background-color: #434B5C;\n",
              "      box-shadow: 0px 1px 3px 1px rgba(0, 0, 0, 0.15);\n",
              "      filter: drop-shadow(0px 1px 2px rgba(0, 0, 0, 0.3));\n",
              "      fill: #FFFFFF;\n",
              "    }\n",
              "  </style>\n",
              "\n",
              "    <script>\n",
              "      const buttonEl =\n",
              "        document.querySelector('#df-8161cd83-c533-405f-998a-6d2fd442f9b6 button.colab-df-convert');\n",
              "      buttonEl.style.display =\n",
              "        google.colab.kernel.accessAllowed ? 'block' : 'none';\n",
              "\n",
              "      async function convertToInteractive(key) {\n",
              "        const element = document.querySelector('#df-8161cd83-c533-405f-998a-6d2fd442f9b6');\n",
              "        const dataTable =\n",
              "          await google.colab.kernel.invokeFunction('convertToInteractive',\n",
              "                                                    [key], {});\n",
              "        if (!dataTable) return;\n",
              "\n",
              "        const docLinkHtml = 'Like what you see? Visit the ' +\n",
              "          '<a target=\"_blank\" href=https://colab.research.google.com/notebooks/data_table.ipynb>data table notebook</a>'\n",
              "          + ' to learn more about interactive tables.';\n",
              "        element.innerHTML = '';\n",
              "        dataTable['output_type'] = 'display_data';\n",
              "        await google.colab.output.renderOutput(dataTable, element);\n",
              "        const docLink = document.createElement('div');\n",
              "        docLink.innerHTML = docLinkHtml;\n",
              "        element.appendChild(docLink);\n",
              "      }\n",
              "    </script>\n",
              "  </div>\n",
              "\n",
              "\n",
              "<div id=\"df-15954315-b788-4ff0-85ea-5a5a3bbf497b\">\n",
              "  <button class=\"colab-df-quickchart\" onclick=\"quickchart('df-15954315-b788-4ff0-85ea-5a5a3bbf497b')\"\n",
              "            title=\"Suggest charts\"\n",
              "            style=\"display:none;\">\n",
              "\n",
              "<svg xmlns=\"http://www.w3.org/2000/svg\" height=\"24px\"viewBox=\"0 0 24 24\"\n",
              "     width=\"24px\">\n",
              "    <g>\n",
              "        <path d=\"M19 3H5c-1.1 0-2 .9-2 2v14c0 1.1.9 2 2 2h14c1.1 0 2-.9 2-2V5c0-1.1-.9-2-2-2zM9 17H7v-7h2v7zm4 0h-2V7h2v10zm4 0h-2v-4h2v4z\"/>\n",
              "    </g>\n",
              "</svg>\n",
              "  </button>\n",
              "\n",
              "<style>\n",
              "  .colab-df-quickchart {\n",
              "      --bg-color: #E8F0FE;\n",
              "      --fill-color: #1967D2;\n",
              "      --hover-bg-color: #E2EBFA;\n",
              "      --hover-fill-color: #174EA6;\n",
              "      --disabled-fill-color: #AAA;\n",
              "      --disabled-bg-color: #DDD;\n",
              "  }\n",
              "\n",
              "  [theme=dark] .colab-df-quickchart {\n",
              "      --bg-color: #3B4455;\n",
              "      --fill-color: #D2E3FC;\n",
              "      --hover-bg-color: #434B5C;\n",
              "      --hover-fill-color: #FFFFFF;\n",
              "      --disabled-bg-color: #3B4455;\n",
              "      --disabled-fill-color: #666;\n",
              "  }\n",
              "\n",
              "  .colab-df-quickchart {\n",
              "    background-color: var(--bg-color);\n",
              "    border: none;\n",
              "    border-radius: 50%;\n",
              "    cursor: pointer;\n",
              "    display: none;\n",
              "    fill: var(--fill-color);\n",
              "    height: 32px;\n",
              "    padding: 0;\n",
              "    width: 32px;\n",
              "  }\n",
              "\n",
              "  .colab-df-quickchart:hover {\n",
              "    background-color: var(--hover-bg-color);\n",
              "    box-shadow: 0 1px 2px rgba(60, 64, 67, 0.3), 0 1px 3px 1px rgba(60, 64, 67, 0.15);\n",
              "    fill: var(--button-hover-fill-color);\n",
              "  }\n",
              "\n",
              "  .colab-df-quickchart-complete:disabled,\n",
              "  .colab-df-quickchart-complete:disabled:hover {\n",
              "    background-color: var(--disabled-bg-color);\n",
              "    fill: var(--disabled-fill-color);\n",
              "    box-shadow: none;\n",
              "  }\n",
              "\n",
              "  .colab-df-spinner {\n",
              "    border: 2px solid var(--fill-color);\n",
              "    border-color: transparent;\n",
              "    border-bottom-color: var(--fill-color);\n",
              "    animation:\n",
              "      spin 1s steps(1) infinite;\n",
              "  }\n",
              "\n",
              "  @keyframes spin {\n",
              "    0% {\n",
              "      border-color: transparent;\n",
              "      border-bottom-color: var(--fill-color);\n",
              "      border-left-color: var(--fill-color);\n",
              "    }\n",
              "    20% {\n",
              "      border-color: transparent;\n",
              "      border-left-color: var(--fill-color);\n",
              "      border-top-color: var(--fill-color);\n",
              "    }\n",
              "    30% {\n",
              "      border-color: transparent;\n",
              "      border-left-color: var(--fill-color);\n",
              "      border-top-color: var(--fill-color);\n",
              "      border-right-color: var(--fill-color);\n",
              "    }\n",
              "    40% {\n",
              "      border-color: transparent;\n",
              "      border-right-color: var(--fill-color);\n",
              "      border-top-color: var(--fill-color);\n",
              "    }\n",
              "    60% {\n",
              "      border-color: transparent;\n",
              "      border-right-color: var(--fill-color);\n",
              "    }\n",
              "    80% {\n",
              "      border-color: transparent;\n",
              "      border-right-color: var(--fill-color);\n",
              "      border-bottom-color: var(--fill-color);\n",
              "    }\n",
              "    90% {\n",
              "      border-color: transparent;\n",
              "      border-bottom-color: var(--fill-color);\n",
              "    }\n",
              "  }\n",
              "</style>\n",
              "\n",
              "  <script>\n",
              "    async function quickchart(key) {\n",
              "      const quickchartButtonEl =\n",
              "        document.querySelector('#' + key + ' button');\n",
              "      quickchartButtonEl.disabled = true;  // To prevent multiple clicks.\n",
              "      quickchartButtonEl.classList.add('colab-df-spinner');\n",
              "      try {\n",
              "        const charts = await google.colab.kernel.invokeFunction(\n",
              "            'suggestCharts', [key], {});\n",
              "      } catch (error) {\n",
              "        console.error('Error during call to suggestCharts:', error);\n",
              "      }\n",
              "      quickchartButtonEl.classList.remove('colab-df-spinner');\n",
              "      quickchartButtonEl.classList.add('colab-df-quickchart-complete');\n",
              "    }\n",
              "    (() => {\n",
              "      let quickchartButtonEl =\n",
              "        document.querySelector('#df-15954315-b788-4ff0-85ea-5a5a3bbf497b button');\n",
              "      quickchartButtonEl.style.display =\n",
              "        google.colab.kernel.accessAllowed ? 'block' : 'none';\n",
              "    })();\n",
              "  </script>\n",
              "</div>\n",
              "    </div>\n",
              "  </div>\n"
            ],
            "application/vnd.google.colaboratory.intrinsic+json": {
              "type": "dataframe",
              "summary": "{\n  \"name\": \"weight_df\",\n  \"rows\": 8,\n  \"fields\": [\n    {\n      \"column\": \"\\u0432\\u0435\\u0441_\\u0434\\u043e\",\n      \"properties\": {\n        \"dtype\": \"number\",\n        \"std\": 96.2323045739475,\n        \"min\": 28.16103934038892,\n        \"max\": 325.25402745042055,\n        \"num_unique_values\": 8,\n        \"samples\": [\n          246.69132792463998,\n          245.16922059768984,\n          100.0\n        ],\n        \"semantic_type\": \"\",\n        \"description\": \"\"\n      }\n    },\n    {\n      \"column\": \"\\u0432\\u0435\\u0441_\\u043f\\u043e\\u0441\\u043b\\u0435\",\n      \"properties\": {\n        \"dtype\": \"number\",\n        \"std\": 94.79438171964509,\n        \"min\": 28.746787048382828,\n        \"max\": 319.26944347778397,\n        \"num_unique_values\": 8,\n        \"samples\": [\n          246.80065129452458,\n          244.71299420550238,\n          100.0\n        ],\n        \"semantic_type\": \"\",\n        \"description\": \"\"\n      }\n    },\n    {\n      \"column\": \"\\u0432\\u0435\\u0441_\\u0438\\u0437\\u043c\\u0435\\u043d\\u0435\\u043d\\u0438\\u0435\",\n      \"properties\": {\n        \"dtype\": \"number\",\n        \"std\": 35.77428127070478,\n        \"min\": -12.533319476988623,\n        \"max\": 100.0,\n        \"num_unique_values\": 8,\n        \"samples\": [\n          0.1093233698845259,\n          -0.11501663228696657,\n          100.0\n        ],\n        \"semantic_type\": \"\",\n        \"description\": \"\"\n      }\n    }\n  ]\n}"
            }
          },
          "metadata": {},
          "execution_count": 10
        }
      ],
      "source": [
        "np.random.seed(54)\n",
        "\n",
        "before = st.norm.rvs(scale = 30, loc = 250, size = 100)\n",
        "after = before + st.norm.rvs(scale = 5, loc = -.273, size = 100)\n",
        "weight_df = pd.DataFrame({\"вес_до\":before,\n",
        "                         \"вес_после\":after,\n",
        "                         \"вес_изменение\":after-before})\n",
        "weight_df.describe()"
      ]
    },
    {
      "cell_type": "code",
      "execution_count": null,
      "metadata": {
        "id": "5_0Noq6K4hy8",
        "colab": {
          "base_uri": "https://localhost:8080/"
        },
        "outputId": "f5acc33a-a1f2-4c05-84d8-5da380f6daa0"
      },
      "outputs": [
        {
          "output_type": "stream",
          "name": "stdout",
          "text": [
            "Статистика = -0.212, p = 0.832\n",
            "Не отклоняем нулевую гипотезу, средние, вероятно, одинаковые\n"
          ]
        }
      ],
      "source": [
        "stat, p = st.ttest_rel(a=before, b=after)\n",
        "\n",
        "print(f\"Статистика = {stat:.3f}, p = {p:.3f}\")\n",
        "if p > 0.05:\n",
        "    print('Не отклоняем нулевую гипотезу, средние, вероятно, одинаковые')\n",
        "else:\n",
        "    print('Отклоняем нулевую гипотезу, средние, вероятно, различаются')"
      ]
    },
    {
      "cell_type": "markdown",
      "metadata": {
        "id": "qeJU0zza4hy9"
      },
      "source": [
        "### А если распределение не нормальное?\n",
        "В этом случае можно использовать непараметрические тесты или преобразования данных. С преобразованиями данных нужно быть аккуратнее, так как после преобразования меняется масштаб данных и единицы измерения, что может затруднять интерпретацию."
      ]
    },
    {
      "cell_type": "markdown",
      "metadata": {
        "id": "cgCZM8tz4hy_"
      },
      "source": [
        "## Непараметрические тесты\n",
        "### Тест Манна-Уитни\n",
        "Критерий Манна-Уитни представляет непараметрическую альтернативу критерия Стьюдента для независимых выборок и используется для оценки различий между двумя независимыми выборками по уровню какого-либо признака, измеренного количественно.\n",
        "\n",
        "Допущения\n",
        "\n",
        "* Наблюдения внутри каждой выборки независимы друг от друга.\n",
        "* Наблюдения можно проранжировать.\n",
        "\n",
        "Гипотеза\n",
        "\n",
        "* H0: Распределения одинаковы.\n",
        "* H1: Распределения различаются."
      ]
    },
    {
      "cell_type": "code",
      "execution_count": null,
      "metadata": {
        "id": "hpeH5bkX4hzA",
        "colab": {
          "base_uri": "https://localhost:8080/"
        },
        "outputId": "599fac1d-2c62-4e9c-e080-094a132abf67"
      },
      "outputs": [
        {
          "output_type": "stream",
          "name": "stdout",
          "text": [
            "Статистика = 40.00000, p = 0.47268\n",
            "Не отклоняем нулевую гипотезу, распределения, вероятно, одинаковые\n"
          ]
        }
      ],
      "source": [
        "data1 = [0.873, 2.817, 0.121, -0.945, -0.055, -1.436, 0.360, -1.478, -1.637, -1.869]\n",
        "data2 = [1.142, -0.432, -0.938, -0.729, -0.846, -0.157, 0.500, 1.183, -1.075, -0.169]\n",
        "\n",
        "stat, p = st.mannwhitneyu(data1, data2)\n",
        "\n",
        "print(f\"Статистика = {stat:.5f}, p = {p:.5f}\")\n",
        "\n",
        "if p > 0.05:\n",
        "    print('Не отклоняем нулевую гипотезу, распределения, вероятно, одинаковые')\n",
        "else:\n",
        "    print('Отклоняем нулевую гипотезу, распределения, вероятно, различаются')"
      ]
    },
    {
      "cell_type": "markdown",
      "metadata": {
        "id": "Z9nyGGrM4hzA"
      },
      "source": [
        "### Тест Вилкоксона\n",
        "Тест Вилкоксона - это непараметрический аналог парного критерия Стьюдента.\n",
        "\n",
        "Допущения\n",
        "\n",
        "* Наблюдения внутри каждой выборки независимы друг от друга.\n",
        "* Наблюдения можно проранжировать.\n",
        "* Наблюдения связаны попарно в двух выборках\n",
        "\n",
        "Гипотеза\n",
        "\n",
        "* H0: Две связанные выборки принадлежат одному распределению.\n",
        "* H1: Две связанные выборки принадлежат разным распределениям."
      ]
    },
    {
      "cell_type": "code",
      "execution_count": null,
      "metadata": {
        "id": "EiTSnnTP4hzA"
      },
      "outputs": [],
      "source": [
        "data1 = [0.873, 2.817, 0.121, -0.945, -0.055, -1.436, 0.360, -1.478, -1.637, -1.869]\n",
        "data2 = [1.142, -0.432, -0.938, -0.729, -0.846, -0.157, 0.500, 1.183, -1.075, -0.169]\n",
        "\n",
        "stat, p = st.wilcoxon(data1, data2)\n",
        "\n",
        "print(f\"Статистика = {stat:.5f}, p = {p:.5f}\")\n",
        "\n",
        "if p > 0.05:\n",
        "    print('Не отклоняем нулевую гипотезу, распределения, вероятно, одинаковые')\n",
        "else:\n",
        "    print('Отклоняем нулевую гипотезу, распределения, вероятно, различаются')"
      ]
    },
    {
      "cell_type": "code",
      "execution_count": null,
      "metadata": {
        "id": "mpzsYAtb4hzB"
      },
      "outputs": [],
      "source": [
        "dif = np.array(data1) - np.array(data2)\n",
        "\n",
        "stat, p = st.wilcoxon(dif)\n",
        "\n",
        "print(f\"Статистика = {stat:.5f}, p = {p:.5f}\")\n",
        "\n",
        "if p > 0.05:\n",
        "    print('Не отклоняем нулевую гипотезу, распределения, вероятно, одинаковые')\n",
        "else:\n",
        "    print('Отклоняем нулевую гипотезу, распределения, вероятно, различаются')"
      ]
    },
    {
      "cell_type": "markdown",
      "metadata": {
        "id": "fcWGQdI74hzB"
      },
      "source": [
        "### Точный критерий Фишера\n",
        "Критерий Стьюдента позволяет работать с численными переменными, но не позволяет работать с категориальными. Для этого существует критерий Фишера (или Хи-квадрат). Одна из его задач сказать, насколько случайно распределены значения между группами. Позволяет проверить гипотезу, есть ли значимый перевес между группами.\n",
        "\n",
        "Допущения\n",
        "\n",
        "* Наблюдения независимы друг от друга.\n",
        "* Встречаются ограничения на минимальное число наблюдений.\n",
        "\n",
        "Гипотеза\n",
        "\n",
        "* H0: Выборки независимы.\n",
        "* H1: Есть некторая зависимость."
      ]
    },
    {
      "cell_type": "markdown",
      "metadata": {
        "id": "105dvCb14hzB"
      },
      "source": [
        "<b>Пример.</b> Мы хотим проверить нет ли дискриминации по половому признаку в сфере Data Science. Вы узнали, что в какой-то компании после серии собеседований 107 мужчин взяли на работу, а отказали 93-м мужчинам. А среди женщин 74 взяли, а отказали 45-и. Относится ли руководство компании предвзято к мужчинам или к женщинам?"
      ]
    },
    {
      "cell_type": "code",
      "execution_count": null,
      "metadata": {
        "id": "-iocwvWN4hzC",
        "colab": {
          "base_uri": "https://localhost:8080/"
        },
        "outputId": "6743e950-a6b2-4641-fc92-05d554e578eb"
      },
      "outputs": [
        {
          "output_type": "stream",
          "name": "stdout",
          "text": [
            "Статистика = 0.69965, p = 0.16076\n",
            "Не отклоняем нулевую гипотезу, выборки, вероятно, независимы\n"
          ]
        }
      ],
      "source": [
        "x = [[107, 93],[74, 45]]\n",
        "\n",
        "oddsratio, p = st.fisher_exact(x) # Точный тест Фишера\n",
        "\n",
        "print(f\"Статистика = {oddsratio:.5f}, p = {p:.5f}\")\n",
        "\n",
        "if p > 0.05:\n",
        "    print('Не отклоняем нулевую гипотезу, выборки, вероятно, независимы')\n",
        "else:\n",
        "    print('Отклоняем нулевую гипотезу, вероятно, есть некоторая зависимость')"
      ]
    },
    {
      "cell_type": "markdown",
      "metadata": {
        "id": "2Not9zV04hzC"
      },
      "source": [
        "### Тест Хи-квадрат\n",
        "Например, вы хотите проверить правда ли эксперт по Data Science таковым является. Вы составили список вопросов, спросили эксперта и случайных прохожих. Количество правильный вопросов по каждому разделу вы записали в таблицу (таблица смежности)\n",
        "\n",
        "Выясните, исходя из полученных данных, действительно ли перед вами носитель экспертности или пока что еще не очень опытный начинаюший?"
      ]
    },
    {
      "cell_type": "code",
      "execution_count": null,
      "metadata": {
        "id": "SXCTO6oW4hzC",
        "colab": {
          "base_uri": "https://localhost:8080/"
        },
        "outputId": "9167e58e-939e-410d-a8f4-fc900af1a255"
      },
      "outputs": [
        {
          "output_type": "stream",
          "name": "stdout",
          "text": [
            "Реальная таблица\n",
            "                    Machine Learning  Data Science  Analytics\n",
            "Эксперт                           22            99         59\n",
            "Случайный прохожий                10            12         31\n"
          ]
        }
      ],
      "source": [
        "contingency_table = pd.DataFrame(\n",
        "    [\n",
        "[22, 99, 59],\n",
        "[10, 12, 31]\n",
        "    ],\n",
        "    columns = ['Machine Learning', 'Data Science', 'Analytics'],\n",
        "    index = ['Эксперт', 'Случайный прохожий'])\n",
        "\n",
        "print('Реальная таблица')\n",
        "print(contingency_table)"
      ]
    },
    {
      "cell_type": "code",
      "execution_count": null,
      "metadata": {
        "id": "ihikbss04hzD",
        "colab": {
          "base_uri": "https://localhost:8080/"
        },
        "outputId": "29e55638-c970-40a4-ff92-b6b0e4191b72"
      },
      "outputs": [
        {
          "output_type": "stream",
          "name": "stdout",
          "text": [
            "p-value = 0.000173, уровень значимости = 0.05\n",
            "0.00017303774198262266\n",
            "На уровене значимости 0.05, мы отвергаем нулевые гипотезы и принимаем H1. Они не независимы.\n",
            "Это правда эксперт!\n"
          ]
        }
      ],
      "source": [
        "chi, pval, dof, exp = st.chi2_contingency(contingency_table.values) #Критерий Пирсона (хи квадрат)\n",
        "significance = 0.05\n",
        "\n",
        "print(f\"p-value = {pval:.6f}, уровень значимости = {significance:.2f}\")\n",
        "\n",
        "print(pval)\n",
        "if pval < significance:\n",
        "    print(f\"На уровене значимости {significance:.2f}, мы отвергаем нулевые гипотезы и принимаем H1. Они не независимы.\")\n",
        "    print('Это правда эксперт!')\n",
        "else:\n",
        "    print(f\"На уровене значимости {significance:.2f}, мы не отвергаем нулевые гипотезы. Они независимы.\")\n",
        "\n",
        "# Возвращает:\n",
        "# chi2 : Посчитанную статистику теста.\n",
        "# p :  p-value теста\n",
        "# dof : Степени свободы\n",
        "# expected : Ожидаемые частоты, основанные на предельных суммах таблицы."
      ]
    },
    {
      "cell_type": "code",
      "source": [],
      "metadata": {
        "id": "kk4gwm41MFcR"
      },
      "execution_count": null,
      "outputs": []
    }
  ],
  "metadata": {
    "kernelspec": {
      "display_name": "Python 3",
      "language": "python",
      "name": "python3"
    },
    "language_info": {
      "codemirror_mode": {
        "name": "ipython",
        "version": 3
      },
      "file_extension": ".py",
      "mimetype": "text/x-python",
      "name": "python",
      "nbconvert_exporter": "python",
      "pygments_lexer": "ipython3",
      "version": "3.7.6"
    },
    "colab": {
      "provenance": []
    }
  },
  "nbformat": 4,
  "nbformat_minor": 0
}