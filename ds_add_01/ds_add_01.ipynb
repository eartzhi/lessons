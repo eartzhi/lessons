{
 "cells": [
  {
   "cell_type": "code",
   "execution_count": 2,
   "id": "49ef2ffa",
   "metadata": {},
   "outputs": [
    {
     "data": {
      "text/plain": [
       "array([[0.15342203],\n",
       "       [0.12999789],\n",
       "       [0.14560384],\n",
       "       [0.24345225]])"
      ]
     },
     "execution_count": 2,
     "metadata": {},
     "output_type": "execute_result"
    }
   ],
   "source": [
    "from scipy.spatial.distance import cdist\n",
    "import numpy as np\n",
    "\n",
    "demo_data = np.array([[5, 4, 4, 3, 5], [3, 4, 2, 5, 3], [2, 1, 2, 2, 5], [2, 0, 3, 1, 3],])\n",
    "misha = np.array([[0, 4, 4, 4, 5]])\n",
    "cdist(demo_data, misha, metric='cosine')"
   ]
  }
 ],
 "metadata": {
  "kernelspec": {
   "display_name": ".venv",
   "language": "python",
   "name": "python3"
  },
  "language_info": {
   "codemirror_mode": {
    "name": "ipython",
    "version": 3
   },
   "file_extension": ".py",
   "mimetype": "text/x-python",
   "name": "python",
   "nbconvert_exporter": "python",
   "pygments_lexer": "ipython3",
   "version": "3.11.7"
  }
 },
 "nbformat": 4,
 "nbformat_minor": 5
}
