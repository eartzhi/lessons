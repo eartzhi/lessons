{
  "cells": [
    {
      "cell_type": "markdown",
      "metadata": {
        "id": "dGXEc9uNECpo"
      },
      "source": [
        "# Новый раздел"
      ]
    },
    {
      "cell_type": "code",
      "execution_count": 1,
      "metadata": {
        "colab": {
          "base_uri": "https://localhost:8080/",
          "height": 1000
        },
        "id": "-lt_nW83ljqd",
        "outputId": "7145d393-fdb8-4a16-9707-d524998c94df"
      },
      "outputs": [
        {
          "name": "stderr",
          "output_type": "stream",
          "text": [
            "\n",
            "[notice] A new release of pip is available: 25.1.1 -> 25.2\n",
            "[notice] To update, run: python.exe -m pip install --upgrade pip\n"
          ]
        },
        {
          "name": "stdout",
          "output_type": "stream",
          "text": [
            "Collecting gdown\n",
            "  Downloading gdown-5.2.0-py3-none-any.whl.metadata (5.8 kB)\n",
            "Requirement already satisfied: beautifulsoup4 in c:\\projects\\ds\\lessons\\.venv\\lib\\site-packages (from gdown) (4.13.4)\n",
            "Requirement already satisfied: filelock in c:\\projects\\ds\\lessons\\.venv\\lib\\site-packages (from gdown) (3.16.1)\n",
            "Requirement already satisfied: requests[socks] in c:\\projects\\ds\\lessons\\.venv\\lib\\site-packages (from gdown) (2.32.3)\n",
            "Requirement already satisfied: tqdm in c:\\projects\\ds\\lessons\\.venv\\lib\\site-packages (from gdown) (4.66.5)\n",
            "Requirement already satisfied: soupsieve>1.2 in c:\\projects\\ds\\lessons\\.venv\\lib\\site-packages (from beautifulsoup4->gdown) (2.7)\n",
            "Requirement already satisfied: typing-extensions>=4.0.0 in c:\\projects\\ds\\lessons\\.venv\\lib\\site-packages (from beautifulsoup4->gdown) (4.13.2)\n",
            "Requirement already satisfied: charset-normalizer<4,>=2 in c:\\projects\\ds\\lessons\\.venv\\lib\\site-packages (from requests[socks]->gdown) (3.3.2)\n",
            "Requirement already satisfied: idna<4,>=2.5 in c:\\projects\\ds\\lessons\\.venv\\lib\\site-packages (from requests[socks]->gdown) (3.8)\n",
            "Requirement already satisfied: urllib3<3,>=1.21.1 in c:\\projects\\ds\\lessons\\.venv\\lib\\site-packages (from requests[socks]->gdown) (2.2.2)\n",
            "Requirement already satisfied: certifi>=2017.4.17 in c:\\projects\\ds\\lessons\\.venv\\lib\\site-packages (from requests[socks]->gdown) (2024.8.30)\n",
            "Requirement already satisfied: PySocks!=1.5.7,>=1.5.6 in c:\\projects\\ds\\lessons\\.venv\\lib\\site-packages (from requests[socks]->gdown) (1.7.1)\n",
            "Requirement already satisfied: colorama in c:\\projects\\ds\\lessons\\.venv\\lib\\site-packages (from tqdm->gdown) (0.4.6)\n",
            "Downloading gdown-5.2.0-py3-none-any.whl (18 kB)\n",
            "Installing collected packages: gdown\n",
            "Successfully installed gdown-5.2.0\n"
          ]
        },
        {
          "name": "stderr",
          "output_type": "stream",
          "text": [
            "Retrieving folder contents\n"
          ]
        },
        {
          "name": "stdout",
          "output_type": "stream",
          "text": [
            "Retrieving folder 1LC0KsXpW51WUNOB4lZTzAQh0bL9VE9Am ml-100k\n",
            "Processing file 1SVqSf7KX311ND5QznHER0qDZ2J2b-Yy2 allbut.pl\n",
            "Processing file 1qzrI_ClGVG2F4Byk0k5FqUiG4_XSJDoA mku.sh\n",
            "Processing file 1sZy_BdLzPvSKuE334Om1w8J2rtCgB701 README\n",
            "Processing file 1J7WjS4G9xoHTxYKStPUs6n9oIQUfiPGd u.data\n",
            "Processing file 15rFXDEKHtfyVSNRq3GvF8S_TFwyiG1e3 u.genre\n",
            "Processing file 1RqA1rsjARwmg4_f_LcS_e32Yf4grji5S u.info\n",
            "Processing file 1Nae-M_cqbQHU65rvL8zAThfZILmNAe6L u.item\n",
            "Processing file 1BiEbD-pYc9OWSKze2ujGEx3msiwnvGbg u.occupation\n",
            "Processing file 1huO0qc8sEzakX53nyPH_Xoq-tGdd2tXP u.user\n",
            "Processing file 1oGCFsfpwqbV4RdCL-PpKZhO6fD8pzBs5 u1.base\n",
            "Processing file 1yyf7jEwNRqt-oemTyJmnCogfDAtAo1yL u1.test\n",
            "Processing file 1h2NZLy2lA3XTRiTpADgIsrM1feTgmY43 u2.base\n",
            "Processing file 1XAfx8NlMeswRHTRMk9n2ABngiTAE-HFk u2.test\n",
            "Processing file 1YVYK98JaJpaiuzdhCR3hc3MPr1n0H-X2 u3.base\n",
            "Processing file 15oNpJnb8792DkPZUF3aP5adekSSOSr6i u3.test\n",
            "Processing file 1jbdi1a6-AUahRuIiFfbngun1zS38UrxC u4.base\n",
            "Processing file 1B34-4zlBw1RueM6H_G5LJBKfoxbChlUN u4.test\n",
            "Processing file 1Dme1rD5426ux_TXfyMt_GT-3ms461m0o u5.base\n",
            "Processing file 1CJ3GDhqbCyLX4zxDK5XKtPgSSYUnM3yn u5.test\n",
            "Processing file 1ShHXbLge_RT-FtCKsX9RQJ7dZTqQXZP8 ua.base\n",
            "Processing file 1VKte_XgdEYDEdMIgYY7B5FTXlaGGtUng ua.test\n",
            "Processing file 1SMFdkmQNsnFPnGaghl7JtqLVfKknlnE5 ub.base\n",
            "Processing file 1EMvbRB2EKQlLRmILb6tl9z0UPyp6pkgd ub.test\n",
            "Retrieving folder 1iFkq9ymD81K25f8UT9A7ljE7a6IHcRm2 mvp\n",
            "Processing file 1Anqu1IvasoYnGCFHFmgTYxfcZfex8ld7 adoption_prediction.csv\n",
            "Processing file 19IdKiJ1MeheL70-CGaT90ahY__wtm1te aug_train.csv\n",
            "Processing file 1jX4MmfBODIPIsXI8ET1dw0tE82FAx3HK cat_train.csv\n",
            "Processing file 1uMdwACRK7zp1a-xByUQqyzmCYLQ0lLZY free_throws.csv\n",
            "Processing file 1FMvxtdrh3dTkmB8iaDBciTC-VHGYy9jk item_prices.csv\n",
            "Processing file 1WI3u8HXJtlNvWVtwROjIhyu-m7YYaqd2 sample_a.csv\n",
            "Processing file 1x_u9NK31xKRmD8Uav40KkidIwBK36YUE sample_b.csv\n",
            "Processing file 1UtXHS91l1jz5zy14XYhcQCjoB1tr7GDz sample_c.csv\n",
            "Retrieving folder 1GDO8-ZzUvkhZuEgg9fyvS7i1kwWZExIH uplift\n",
            "Processing file 1o2dAMZCJhALB9E3daDpCVJqltZUKXni_ criteo-uplift-v2.1.csv\n",
            "Processing file 1yNmumK_YuRsqKUKs_dQVLNRdiXty-_m7 AirPassengers.csv\n",
            "Processing file 13Ie0eqNekXQaky9YGgl46F9fprGMlUjX ambient_temperature_system_failure.csv\n",
            "Processing file 193VpYpv41yfxZd89YGRA4SHe_wLUTDZd anomaly_sample.csv\n",
            "Processing file 1C6Nas2-_6Gi7YefukSUIW-3Ux759Hdhu classifier.pkl\n",
            "Processing file 19X_QCrstLRY2H-IOOA-W-MYplKx4D6yg credit_scoring.csv\n",
            "Processing file 1YJNOe2ndIXp4KEqX5JAHgWhxYyB_G2DI data_bogo_uplift.csv\n",
            "Processing file 1lbjwLYG2qw69juOKcTJTrMeBzaI55xpH data_discount_uplift.csv\n",
            "Processing file 1YCSL2C2-pp-4WAr46_5eIlU61adsf7H_ data.csv\n",
            "Processing file 1LVOw5SCiTLOhI9GG-3Qg1WyVXsFB6o0z gold_clean.csv\n",
            "Processing file 1MeraD3tW8svpOPx-6OSZUxUZjArVfU7O housing.csv\n",
            "Processing file 1Ysoe_GL-xI9jEHgj8RcDh7UH6aentQFa movies.csv\n",
            "Processing file 1kZlNnCTyb1eOmK6Cq-QZ74MJpJaG4ahW ProductsDataset.csv\n",
            "Processing file 1505C2IwBRJnd-5ULjgHhxQclEgyZkV0D ratings.csv\n",
            "Processing file 1zfpRnJkNs1rFlLBRnwcLZkTbJs1Pj7HR tea_demand.csv\n",
            "Processing file 1CEqH-2a1Ty6mRWzWlwBZgV70Rx-o2iYc test.csv\n",
            "Processing file 1IDOMadrYQss_xHzPH0Oe2feXNxZYd3rA tfidf.pkl\n",
            "Processing file 14RCZK_hQWm5yqp-5_Z1WQ0XQhl1-xbM6 train.csv\n",
            "Processing file 1SRKeGEtxQkVK_uUpgf08RyczEGnO5DYI winequality.csv\n",
            "Processing file 1xSOVOQtEJwpG-vhLcS_r8INkeMfARENm отзывы_за_лето.xls\n"
          ]
        },
        {
          "name": "stderr",
          "output_type": "stream",
          "text": [
            "Retrieving folder contents completed\n",
            "Building directory structure\n",
            "Building directory structure completed\n",
            "Downloading...\n",
            "From (original): https://drive.google.com/uc?id=1SVqSf7KX311ND5QznHER0qDZ2J2b-Yy2\n",
            "From (redirected): https://drive.google.com/uc?id=1SVqSf7KX311ND5QznHER0qDZ2J2b-Yy2&confirm=t&uuid=0ab5794e-4db8-461d-b711-4afa34640576\n",
            "To: c:\\Projects\\DS\\lessons\\real_ml_1\\ml-100k\\allbut.pl\n",
            "100%|██████████| 716/716 [00:00<?, ?B/s] \n",
            "Downloading...\n",
            "From (original): https://drive.google.com/uc?id=1qzrI_ClGVG2F4Byk0k5FqUiG4_XSJDoA\n",
            "From (redirected): https://drive.google.com/uc?id=1qzrI_ClGVG2F4Byk0k5FqUiG4_XSJDoA&confirm=t&uuid=8c28d29d-59ee-4b84-bf6e-298706ab98c8\n",
            "To: c:\\Projects\\DS\\lessons\\real_ml_1\\ml-100k\\mku.sh\n",
            "100%|██████████| 643/643 [00:00<00:00, 265kB/s]\n",
            "Downloading...\n",
            "From: https://drive.google.com/uc?id=1sZy_BdLzPvSKuE334Om1w8J2rtCgB701\n",
            "To: c:\\Projects\\DS\\lessons\\real_ml_1\\ml-100k\\README\n",
            "100%|██████████| 6.75k/6.75k [00:00<?, ?B/s]\n",
            "Downloading...\n",
            "From: https://drive.google.com/uc?id=1J7WjS4G9xoHTxYKStPUs6n9oIQUfiPGd\n",
            "To: c:\\Projects\\DS\\lessons\\real_ml_1\\ml-100k\\u.data\n",
            "100%|██████████| 1.98M/1.98M [00:00<00:00, 9.28MB/s]\n",
            "Downloading...\n",
            "From: https://drive.google.com/uc?id=15rFXDEKHtfyVSNRq3GvF8S_TFwyiG1e3\n",
            "To: c:\\Projects\\DS\\lessons\\real_ml_1\\ml-100k\\u.genre\n",
            "100%|██████████| 202/202 [00:00<00:00, 201kB/s]\n",
            "Downloading...\n",
            "From: https://drive.google.com/uc?id=1RqA1rsjARwmg4_f_LcS_e32Yf4grji5S\n",
            "To: c:\\Projects\\DS\\lessons\\real_ml_1\\ml-100k\\u.info\n",
            "100%|██████████| 36.0/36.0 [00:00<00:00, 24.8kB/s]\n",
            "Downloading...\n",
            "From: https://drive.google.com/uc?id=1Nae-M_cqbQHU65rvL8zAThfZILmNAe6L\n",
            "To: c:\\Projects\\DS\\lessons\\real_ml_1\\ml-100k\\u.item\n",
            "100%|██████████| 236k/236k [00:00<00:00, 3.46MB/s]\n",
            "Downloading...\n",
            "From: https://drive.google.com/uc?id=1BiEbD-pYc9OWSKze2ujGEx3msiwnvGbg\n",
            "To: c:\\Projects\\DS\\lessons\\real_ml_1\\ml-100k\\u.occupation\n",
            "100%|██████████| 193/193 [00:00<00:00, 193kB/s]\n",
            "Downloading...\n",
            "From: https://drive.google.com/uc?id=1huO0qc8sEzakX53nyPH_Xoq-tGdd2tXP\n",
            "To: c:\\Projects\\DS\\lessons\\real_ml_1\\ml-100k\\u.user\n",
            "100%|██████████| 22.6k/22.6k [00:00<00:00, 1.83MB/s]\n",
            "Downloading...\n",
            "From: https://drive.google.com/uc?id=1oGCFsfpwqbV4RdCL-PpKZhO6fD8pzBs5\n",
            "To: c:\\Projects\\DS\\lessons\\real_ml_1\\ml-100k\\u1.base\n",
            "100%|██████████| 1.59M/1.59M [00:00<00:00, 8.77MB/s]\n",
            "Downloading...\n",
            "From: https://drive.google.com/uc?id=1yyf7jEwNRqt-oemTyJmnCogfDAtAo1yL\n",
            "To: c:\\Projects\\DS\\lessons\\real_ml_1\\ml-100k\\u1.test\n",
            "100%|██████████| 393k/393k [00:00<00:00, 4.31MB/s]\n",
            "Downloading...\n",
            "From: https://drive.google.com/uc?id=1h2NZLy2lA3XTRiTpADgIsrM1feTgmY43\n",
            "To: c:\\Projects\\DS\\lessons\\real_ml_1\\ml-100k\\u2.base\n",
            "100%|██████████| 1.58M/1.58M [00:00<00:00, 8.07MB/s]\n",
            "Downloading...\n",
            "From: https://drive.google.com/uc?id=1XAfx8NlMeswRHTRMk9n2ABngiTAE-HFk\n",
            "To: c:\\Projects\\DS\\lessons\\real_ml_1\\ml-100k\\u2.test\n",
            "100%|██████████| 395k/395k [00:00<00:00, 5.25MB/s]\n",
            "Downloading...\n",
            "From: https://drive.google.com/uc?id=1YVYK98JaJpaiuzdhCR3hc3MPr1n0H-X2\n",
            "To: c:\\Projects\\DS\\lessons\\real_ml_1\\ml-100k\\u3.base\n",
            "100%|██████████| 1.58M/1.58M [00:00<00:00, 7.97MB/s]\n",
            "Downloading...\n",
            "From: https://drive.google.com/uc?id=15oNpJnb8792DkPZUF3aP5adekSSOSr6i\n",
            "To: c:\\Projects\\DS\\lessons\\real_ml_1\\ml-100k\\u3.test\n",
            "100%|██████████| 397k/397k [00:00<00:00, 4.98MB/s]\n",
            "Downloading...\n",
            "From: https://drive.google.com/uc?id=1jbdi1a6-AUahRuIiFfbngun1zS38UrxC\n",
            "To: c:\\Projects\\DS\\lessons\\real_ml_1\\ml-100k\\u4.base\n",
            "100%|██████████| 1.58M/1.58M [00:00<00:00, 7.82MB/s]\n",
            "Downloading...\n",
            "From: https://drive.google.com/uc?id=1B34-4zlBw1RueM6H_G5LJBKfoxbChlUN\n",
            "To: c:\\Projects\\DS\\lessons\\real_ml_1\\ml-100k\\u4.test\n",
            "100%|██████████| 397k/397k [00:00<00:00, 4.80MB/s]\n",
            "Downloading...\n",
            "From: https://drive.google.com/uc?id=1Dme1rD5426ux_TXfyMt_GT-3ms461m0o\n",
            "To: c:\\Projects\\DS\\lessons\\real_ml_1\\ml-100k\\u5.base\n",
            "100%|██████████| 1.58M/1.58M [00:00<00:00, 7.93MB/s]\n",
            "Downloading...\n",
            "From: https://drive.google.com/uc?id=1CJ3GDhqbCyLX4zxDK5XKtPgSSYUnM3yn\n",
            "To: c:\\Projects\\DS\\lessons\\real_ml_1\\ml-100k\\u5.test\n",
            "100%|██████████| 397k/397k [00:00<00:00, 4.02MB/s]\n",
            "Downloading...\n",
            "From: https://drive.google.com/uc?id=1ShHXbLge_RT-FtCKsX9RQJ7dZTqQXZP8\n",
            "To: c:\\Projects\\DS\\lessons\\real_ml_1\\ml-100k\\ua.base\n",
            "100%|██████████| 1.79M/1.79M [00:00<00:00, 9.26MB/s]\n",
            "Downloading...\n",
            "From: https://drive.google.com/uc?id=1VKte_XgdEYDEdMIgYY7B5FTXlaGGtUng\n",
            "To: c:\\Projects\\DS\\lessons\\real_ml_1\\ml-100k\\ua.test\n",
            "100%|██████████| 187k/187k [00:00<00:00, 2.68MB/s]\n",
            "Downloading...\n",
            "From: https://drive.google.com/uc?id=1SMFdkmQNsnFPnGaghl7JtqLVfKknlnE5\n",
            "To: c:\\Projects\\DS\\lessons\\real_ml_1\\ml-100k\\ub.base\n",
            "100%|██████████| 1.79M/1.79M [00:00<00:00, 8.96MB/s]\n",
            "Downloading...\n",
            "From: https://drive.google.com/uc?id=1EMvbRB2EKQlLRmILb6tl9z0UPyp6pkgd\n",
            "To: c:\\Projects\\DS\\lessons\\real_ml_1\\ml-100k\\ub.test\n",
            "100%|██████████| 187k/187k [00:00<00:00, 3.83MB/s]\n",
            "Downloading...\n",
            "From: https://drive.google.com/uc?id=1Anqu1IvasoYnGCFHFmgTYxfcZfex8ld7\n",
            "To: c:\\Projects\\DS\\lessons\\real_ml_1\\mvp\\adoption_prediction.csv\n",
            "100%|██████████| 6.69M/6.69M [00:00<00:00, 10.6MB/s]\n",
            "Downloading...\n",
            "From: https://drive.google.com/uc?id=19IdKiJ1MeheL70-CGaT90ahY__wtm1te\n",
            "To: c:\\Projects\\DS\\lessons\\real_ml_1\\mvp\\aug_train.csv\n",
            "100%|██████████| 21.5M/21.5M [00:01<00:00, 11.5MB/s]\n",
            "Downloading...\n",
            "From: https://drive.google.com/uc?id=1jX4MmfBODIPIsXI8ET1dw0tE82FAx3HK\n",
            "To: c:\\Projects\\DS\\lessons\\real_ml_1\\mvp\\cat_train.csv\n",
            "100%|██████████| 39.6M/39.6M [00:03<00:00, 11.6MB/s]\n",
            "Downloading...\n",
            "From: https://drive.google.com/uc?id=1uMdwACRK7zp1a-xByUQqyzmCYLQ0lLZY\n",
            "To: c:\\Projects\\DS\\lessons\\real_ml_1\\mvp\\free_throws.csv\n",
            "100%|██████████| 75.7M/75.7M [00:06<00:00, 11.4MB/s]\n",
            "Downloading...\n",
            "From: https://drive.google.com/uc?id=1FMvxtdrh3dTkmB8iaDBciTC-VHGYy9jk\n",
            "To: c:\\Projects\\DS\\lessons\\real_ml_1\\mvp\\item_prices.csv\n",
            "100%|██████████| 10.4k/10.4k [00:00<00:00, 10.4MB/s]\n",
            "Downloading...\n",
            "From: https://drive.google.com/uc?id=1WI3u8HXJtlNvWVtwROjIhyu-m7YYaqd2\n",
            "To: c:\\Projects\\DS\\lessons\\real_ml_1\\mvp\\sample_a.csv\n",
            "100%|██████████| 16.4M/16.4M [00:01<00:00, 11.2MB/s]\n",
            "Downloading...\n",
            "From: https://drive.google.com/uc?id=1x_u9NK31xKRmD8Uav40KkidIwBK36YUE\n",
            "To: c:\\Projects\\DS\\lessons\\real_ml_1\\mvp\\sample_b.csv\n",
            "100%|██████████| 17.8M/17.8M [00:01<00:00, 11.2MB/s]\n",
            "Downloading...\n",
            "From: https://drive.google.com/uc?id=1UtXHS91l1jz5zy14XYhcQCjoB1tr7GDz\n",
            "To: c:\\Projects\\DS\\lessons\\real_ml_1\\mvp\\sample_c.csv\n",
            "100%|██████████| 18.0M/18.0M [00:01<00:00, 11.4MB/s]\n",
            "Downloading...\n",
            "From (original): https://drive.google.com/uc?id=1o2dAMZCJhALB9E3daDpCVJqltZUKXni_\n",
            "From (redirected): https://drive.google.com/uc?id=1o2dAMZCJhALB9E3daDpCVJqltZUKXni_&confirm=t&uuid=90ef321d-b1b4-4383-adf5-053b15b75441\n",
            "To: c:\\Projects\\DS\\lessons\\real_ml_1\\uplift\\criteo-uplift-v2.1.csv\n",
            "100%|██████████| 3.25G/3.25G [05:06<00:00, 10.6MB/s]\n"
          ]
        },
        {
          "ename": "FileURLRetrievalError",
          "evalue": "Failed to retrieve file url:\n\n\tCannot retrieve the public link of the file. You may need to change\n\tthe permission to 'Anyone with the link', or have had many accesses.\n\tCheck FAQ in https://github.com/wkentaro/gdown?tab=readme-ov-file#faq.\n\nYou may still be able to access the file from the browser:\n\n\thttps://drive.google.com/uc?id=1yNmumK_YuRsqKUKs_dQVLNRdiXty-_m7\n\nbut Gdown can't. Please check connections and permissions.",
          "output_type": "error",
          "traceback": [
            "\u001b[1;31m---------------------------------------------------------------------------\u001b[0m",
            "\u001b[1;31mFileURLRetrievalError\u001b[0m                     Traceback (most recent call last)",
            "File \u001b[1;32mc:\\Projects\\DS\\lessons\\.venv\\Lib\\site-packages\\gdown\\download.py:267\u001b[0m, in \u001b[0;36mdownload\u001b[1;34m(url, output, quiet, proxy, speed, use_cookies, verify, id, fuzzy, resume, format, user_agent, log_messages)\u001b[0m\n\u001b[0;32m    266\u001b[0m \u001b[38;5;28;01mtry\u001b[39;00m:\n\u001b[1;32m--> 267\u001b[0m     url \u001b[38;5;241m=\u001b[39m \u001b[43mget_url_from_gdrive_confirmation\u001b[49m\u001b[43m(\u001b[49m\u001b[43mres\u001b[49m\u001b[38;5;241;43m.\u001b[39;49m\u001b[43mtext\u001b[49m\u001b[43m)\u001b[49m\n\u001b[0;32m    268\u001b[0m \u001b[38;5;28;01mexcept\u001b[39;00m FileURLRetrievalError \u001b[38;5;28;01mas\u001b[39;00m e:\n",
            "File \u001b[1;32mc:\\Projects\\DS\\lessons\\.venv\\Lib\\site-packages\\gdown\\download.py:55\u001b[0m, in \u001b[0;36mget_url_from_gdrive_confirmation\u001b[1;34m(contents)\u001b[0m\n\u001b[0;32m     54\u001b[0m \u001b[38;5;28;01mif\u001b[39;00m \u001b[38;5;129;01mnot\u001b[39;00m url:\n\u001b[1;32m---> 55\u001b[0m     \u001b[38;5;28;01mraise\u001b[39;00m FileURLRetrievalError(\n\u001b[0;32m     56\u001b[0m         \u001b[38;5;124m\"\u001b[39m\u001b[38;5;124mCannot retrieve the public link of the file. \u001b[39m\u001b[38;5;124m\"\u001b[39m\n\u001b[0;32m     57\u001b[0m         \u001b[38;5;124m\"\u001b[39m\u001b[38;5;124mYou may need to change the permission to \u001b[39m\u001b[38;5;124m\"\u001b[39m\n\u001b[0;32m     58\u001b[0m         \u001b[38;5;124m\"\u001b[39m\u001b[38;5;124m'\u001b[39m\u001b[38;5;124mAnyone with the link\u001b[39m\u001b[38;5;124m'\u001b[39m\u001b[38;5;124m, or have had many accesses. \u001b[39m\u001b[38;5;124m\"\u001b[39m\n\u001b[0;32m     59\u001b[0m         \u001b[38;5;124m\"\u001b[39m\u001b[38;5;124mCheck FAQ in https://github.com/wkentaro/gdown?tab=readme-ov-file#faq.\u001b[39m\u001b[38;5;124m\"\u001b[39m,\n\u001b[0;32m     60\u001b[0m     )\n\u001b[0;32m     61\u001b[0m \u001b[38;5;28;01mreturn\u001b[39;00m url\n",
            "\u001b[1;31mFileURLRetrievalError\u001b[0m: Cannot retrieve the public link of the file. You may need to change the permission to 'Anyone with the link', or have had many accesses. Check FAQ in https://github.com/wkentaro/gdown?tab=readme-ov-file#faq.",
            "\nDuring handling of the above exception, another exception occurred:\n",
            "\u001b[1;31mFileURLRetrievalError\u001b[0m                     Traceback (most recent call last)",
            "Cell \u001b[1;32mIn[1], line 11\u001b[0m\n\u001b[0;32m      8\u001b[0m url \u001b[38;5;241m=\u001b[39m \u001b[38;5;124mf\u001b[39m\u001b[38;5;124m'\u001b[39m\u001b[38;5;124mhttps://drive.google.com/drive/folders/\u001b[39m\u001b[38;5;132;01m{\u001b[39;00mfolder_id\u001b[38;5;132;01m}\u001b[39;00m\u001b[38;5;124m'\u001b[39m\n\u001b[0;32m     10\u001b[0m \u001b[38;5;66;03m# Скачивание папки\u001b[39;00m\n\u001b[1;32m---> 11\u001b[0m \u001b[43mgdown\u001b[49m\u001b[38;5;241;43m.\u001b[39;49m\u001b[43mdownload_folder\u001b[49m\u001b[43m(\u001b[49m\u001b[43murl\u001b[49m\u001b[43m,\u001b[49m\u001b[43m \u001b[49m\u001b[43moutput\u001b[49m\u001b[38;5;241;43m=\u001b[39;49m\u001b[38;5;124;43m'\u001b[39;49m\u001b[38;5;124;43m./\u001b[39;49m\u001b[38;5;124;43m'\u001b[39;49m\u001b[43m,\u001b[49m\u001b[43m \u001b[49m\u001b[43mquiet\u001b[49m\u001b[38;5;241;43m=\u001b[39;49m\u001b[38;5;28;43;01mFalse\u001b[39;49;00m\u001b[43m)\u001b[49m\n",
            "File \u001b[1;32mc:\\Projects\\DS\\lessons\\.venv\\Lib\\site-packages\\gdown\\download_folder.py:325\u001b[0m, in \u001b[0;36mdownload_folder\u001b[1;34m(url, id, output, quiet, proxy, speed, use_cookies, remaining_ok, verify, user_agent, skip_download, resume)\u001b[0m\n\u001b[0;32m    322\u001b[0m     files\u001b[38;5;241m.\u001b[39mappend(local_path)\n\u001b[0;32m    323\u001b[0m     \u001b[38;5;28;01mcontinue\u001b[39;00m\n\u001b[1;32m--> 325\u001b[0m local_path \u001b[38;5;241m=\u001b[39m \u001b[43mdownload\u001b[49m\u001b[43m(\u001b[49m\n\u001b[0;32m    326\u001b[0m \u001b[43m    \u001b[49m\u001b[43murl\u001b[49m\u001b[38;5;241;43m=\u001b[39;49m\u001b[38;5;124;43m\"\u001b[39;49m\u001b[38;5;124;43mhttps://drive.google.com/uc?id=\u001b[39;49m\u001b[38;5;124;43m\"\u001b[39;49m\u001b[43m \u001b[49m\u001b[38;5;241;43m+\u001b[39;49m\u001b[43m \u001b[49m\u001b[38;5;28;43mid\u001b[39;49m\u001b[43m,\u001b[49m\n\u001b[0;32m    327\u001b[0m \u001b[43m    \u001b[49m\u001b[43moutput\u001b[49m\u001b[38;5;241;43m=\u001b[39;49m\u001b[43mlocal_path\u001b[49m\u001b[43m,\u001b[49m\n\u001b[0;32m    328\u001b[0m \u001b[43m    \u001b[49m\u001b[43mquiet\u001b[49m\u001b[38;5;241;43m=\u001b[39;49m\u001b[43mquiet\u001b[49m\u001b[43m,\u001b[49m\n\u001b[0;32m    329\u001b[0m \u001b[43m    \u001b[49m\u001b[43mproxy\u001b[49m\u001b[38;5;241;43m=\u001b[39;49m\u001b[43mproxy\u001b[49m\u001b[43m,\u001b[49m\n\u001b[0;32m    330\u001b[0m \u001b[43m    \u001b[49m\u001b[43mspeed\u001b[49m\u001b[38;5;241;43m=\u001b[39;49m\u001b[43mspeed\u001b[49m\u001b[43m,\u001b[49m\n\u001b[0;32m    331\u001b[0m \u001b[43m    \u001b[49m\u001b[43muse_cookies\u001b[49m\u001b[38;5;241;43m=\u001b[39;49m\u001b[43muse_cookies\u001b[49m\u001b[43m,\u001b[49m\n\u001b[0;32m    332\u001b[0m \u001b[43m    \u001b[49m\u001b[43mverify\u001b[49m\u001b[38;5;241;43m=\u001b[39;49m\u001b[43mverify\u001b[49m\u001b[43m,\u001b[49m\n\u001b[0;32m    333\u001b[0m \u001b[43m    \u001b[49m\u001b[43mresume\u001b[49m\u001b[38;5;241;43m=\u001b[39;49m\u001b[43mresume\u001b[49m\u001b[43m,\u001b[49m\n\u001b[0;32m    334\u001b[0m \u001b[43m\u001b[49m\u001b[43m)\u001b[49m\n\u001b[0;32m    335\u001b[0m \u001b[38;5;28;01mif\u001b[39;00m local_path \u001b[38;5;129;01mis\u001b[39;00m \u001b[38;5;28;01mNone\u001b[39;00m:\n\u001b[0;32m    336\u001b[0m     \u001b[38;5;28;01mif\u001b[39;00m \u001b[38;5;129;01mnot\u001b[39;00m quiet:\n",
            "File \u001b[1;32mc:\\Projects\\DS\\lessons\\.venv\\Lib\\site-packages\\gdown\\download.py:278\u001b[0m, in \u001b[0;36mdownload\u001b[1;34m(url, output, quiet, proxy, speed, use_cookies, verify, id, fuzzy, resume, format, user_agent, log_messages)\u001b[0m\n\u001b[0;32m    268\u001b[0m     \u001b[38;5;28;01mexcept\u001b[39;00m FileURLRetrievalError \u001b[38;5;28;01mas\u001b[39;00m e:\n\u001b[0;32m    269\u001b[0m         message \u001b[38;5;241m=\u001b[39m (\n\u001b[0;32m    270\u001b[0m             \u001b[38;5;124m\"\u001b[39m\u001b[38;5;124mFailed to retrieve file url:\u001b[39m\u001b[38;5;130;01m\\n\u001b[39;00m\u001b[38;5;130;01m\\n\u001b[39;00m\u001b[38;5;132;01m{}\u001b[39;00m\u001b[38;5;130;01m\\n\u001b[39;00m\u001b[38;5;130;01m\\n\u001b[39;00m\u001b[38;5;124m\"\u001b[39m\n\u001b[0;32m    271\u001b[0m             \u001b[38;5;124m\"\u001b[39m\u001b[38;5;124mYou may still be able to access the file from the browser:\u001b[39m\u001b[38;5;124m\"\u001b[39m\n\u001b[1;32m   (...)\u001b[0m\n\u001b[0;32m    276\u001b[0m             url_origin,\n\u001b[0;32m    277\u001b[0m         )\n\u001b[1;32m--> 278\u001b[0m         \u001b[38;5;28;01mraise\u001b[39;00m FileURLRetrievalError(message)\n\u001b[0;32m    280\u001b[0m filename_from_url \u001b[38;5;241m=\u001b[39m \u001b[38;5;28;01mNone\u001b[39;00m\n\u001b[0;32m    281\u001b[0m last_modified_time \u001b[38;5;241m=\u001b[39m \u001b[38;5;28;01mNone\u001b[39;00m\n",
            "\u001b[1;31mFileURLRetrievalError\u001b[0m: Failed to retrieve file url:\n\n\tCannot retrieve the public link of the file. You may need to change\n\tthe permission to 'Anyone with the link', or have had many accesses.\n\tCheck FAQ in https://github.com/wkentaro/gdown?tab=readme-ov-file#faq.\n\nYou may still be able to access the file from the browser:\n\n\thttps://drive.google.com/uc?id=1yNmumK_YuRsqKUKs_dQVLNRdiXty-_m7\n\nbut Gdown can't. Please check connections and permissions."
          ]
        }
      ],
      "source": [
        "!pip install gdown\n",
        "\n",
        "import gdown\n",
        "import os\n",
        "\n",
        "# ID папки на Google Диске\n",
        "folder_id = '16JdqUEPS8N-BuAxtgs3aFDK_K0ByQhjh'\n",
        "url = f'https://drive.google.com/drive/folders/{folder_id}'\n",
        "\n",
        "# Скачивание папки\n",
        "gdown.download_folder(url, output='./', quiet=False)"
      ]
    },
    {
      "cell_type": "code",
      "execution_count": 2,
      "metadata": {
        "id": "6ZKeRcxskS8A"
      },
      "outputs": [],
      "source": [
        "# импортируем необходимые библиотеки\n",
        "import numpy as np\n",
        "import pandas as pd\n",
        "\n",
        "import matplotlib.pyplot as plt\n",
        "import seaborn as sns\n",
        "\n",
        "from sklearn import preprocessing, model_selection, metrics\n",
        "from sklearn.model_selection import train_test_split\n",
        "\n",
        "import lightgbm as lgb"
      ]
    },
    {
      "cell_type": "code",
      "execution_count": 3,
      "metadata": {
        "id": "aaE1NUYJkAWV"
      },
      "outputs": [
        {
          "name": "stdout",
          "output_type": "stream",
          "text": [
            "Requirement already satisfied: gdown in c:\\projects\\ds\\lessons\\.venv\\lib\\site-packages (5.2.0)\n",
            "Requirement already satisfied: beautifulsoup4 in c:\\projects\\ds\\lessons\\.venv\\lib\\site-packages (from gdown) (4.13.4)\n",
            "Requirement already satisfied: filelock in c:\\projects\\ds\\lessons\\.venv\\lib\\site-packages (from gdown) (3.16.1)\n",
            "Requirement already satisfied: requests[socks] in c:\\projects\\ds\\lessons\\.venv\\lib\\site-packages (from gdown) (2.32.3)\n",
            "Requirement already satisfied: tqdm in c:\\projects\\ds\\lessons\\.venv\\lib\\site-packages (from gdown) (4.66.5)\n",
            "Requirement already satisfied: soupsieve>1.2 in c:\\projects\\ds\\lessons\\.venv\\lib\\site-packages (from beautifulsoup4->gdown) (2.7)\n",
            "Requirement already satisfied: typing-extensions>=4.0.0 in c:\\projects\\ds\\lessons\\.venv\\lib\\site-packages (from beautifulsoup4->gdown) (4.13.2)\n",
            "Requirement already satisfied: charset-normalizer<4,>=2 in c:\\projects\\ds\\lessons\\.venv\\lib\\site-packages (from requests[socks]->gdown) (3.3.2)\n",
            "Requirement already satisfied: idna<4,>=2.5 in c:\\projects\\ds\\lessons\\.venv\\lib\\site-packages (from requests[socks]->gdown) (3.8)\n",
            "Requirement already satisfied: urllib3<3,>=1.21.1 in c:\\projects\\ds\\lessons\\.venv\\lib\\site-packages (from requests[socks]->gdown) (2.2.2)\n",
            "Requirement already satisfied: certifi>=2017.4.17 in c:\\projects\\ds\\lessons\\.venv\\lib\\site-packages (from requests[socks]->gdown) (2024.8.30)\n",
            "Requirement already satisfied: PySocks!=1.5.7,>=1.5.6 in c:\\projects\\ds\\lessons\\.venv\\lib\\site-packages (from requests[socks]->gdown) (1.7.1)\n",
            "Requirement already satisfied: colorama in c:\\projects\\ds\\lessons\\.venv\\lib\\site-packages (from tqdm->gdown) (0.4.6)\n"
          ]
        },
        {
          "name": "stderr",
          "output_type": "stream",
          "text": [
            "\n",
            "[notice] A new release of pip is available: 25.1.1 -> 25.2\n",
            "[notice] To update, run: python.exe -m pip install --upgrade pip\n"
          ]
        }
      ],
      "source": [
        "# Установка gdown\n",
        "!pip install gdown\n",
        "\n",
        "# Импортирование библиотеки\n",
        "import gdown"
      ]
    },
    {
      "cell_type": "code",
      "execution_count": 4,
      "metadata": {
        "id": "-UrgbN5MjsTd"
      },
      "outputs": [
        {
          "ename": "FileURLRetrievalError",
          "evalue": "Failed to retrieve file url:\n\n\tCannot retrieve the public link of the file. You may need to change\n\tthe permission to 'Anyone with the link', or have had many accesses.\n\tCheck FAQ in https://github.com/wkentaro/gdown?tab=readme-ov-file#faq.\n\nYou may still be able to access the file from the browser:\n\n\thttps://drive.google.com/uc?id=1yKI64q6_d8hCqXiR6fUJxPPugexWjXLT\n\nbut Gdown can't. Please check connections and permissions.",
          "output_type": "error",
          "traceback": [
            "\u001b[1;31m---------------------------------------------------------------------------\u001b[0m",
            "\u001b[1;31mFileURLRetrievalError\u001b[0m                     Traceback (most recent call last)",
            "File \u001b[1;32mc:\\Projects\\DS\\lessons\\.venv\\Lib\\site-packages\\gdown\\download.py:267\u001b[0m, in \u001b[0;36mdownload\u001b[1;34m(url, output, quiet, proxy, speed, use_cookies, verify, id, fuzzy, resume, format, user_agent, log_messages)\u001b[0m\n\u001b[0;32m    266\u001b[0m \u001b[38;5;28;01mtry\u001b[39;00m:\n\u001b[1;32m--> 267\u001b[0m     url \u001b[38;5;241m=\u001b[39m \u001b[43mget_url_from_gdrive_confirmation\u001b[49m\u001b[43m(\u001b[49m\u001b[43mres\u001b[49m\u001b[38;5;241;43m.\u001b[39;49m\u001b[43mtext\u001b[49m\u001b[43m)\u001b[49m\n\u001b[0;32m    268\u001b[0m \u001b[38;5;28;01mexcept\u001b[39;00m FileURLRetrievalError \u001b[38;5;28;01mas\u001b[39;00m e:\n",
            "File \u001b[1;32mc:\\Projects\\DS\\lessons\\.venv\\Lib\\site-packages\\gdown\\download.py:55\u001b[0m, in \u001b[0;36mget_url_from_gdrive_confirmation\u001b[1;34m(contents)\u001b[0m\n\u001b[0;32m     54\u001b[0m \u001b[38;5;28;01mif\u001b[39;00m \u001b[38;5;129;01mnot\u001b[39;00m url:\n\u001b[1;32m---> 55\u001b[0m     \u001b[38;5;28;01mraise\u001b[39;00m FileURLRetrievalError(\n\u001b[0;32m     56\u001b[0m         \u001b[38;5;124m\"\u001b[39m\u001b[38;5;124mCannot retrieve the public link of the file. \u001b[39m\u001b[38;5;124m\"\u001b[39m\n\u001b[0;32m     57\u001b[0m         \u001b[38;5;124m\"\u001b[39m\u001b[38;5;124mYou may need to change the permission to \u001b[39m\u001b[38;5;124m\"\u001b[39m\n\u001b[0;32m     58\u001b[0m         \u001b[38;5;124m\"\u001b[39m\u001b[38;5;124m'\u001b[39m\u001b[38;5;124mAnyone with the link\u001b[39m\u001b[38;5;124m'\u001b[39m\u001b[38;5;124m, or have had many accesses. \u001b[39m\u001b[38;5;124m\"\u001b[39m\n\u001b[0;32m     59\u001b[0m         \u001b[38;5;124m\"\u001b[39m\u001b[38;5;124mCheck FAQ in https://github.com/wkentaro/gdown?tab=readme-ov-file#faq.\u001b[39m\u001b[38;5;124m\"\u001b[39m,\n\u001b[0;32m     60\u001b[0m     )\n\u001b[0;32m     61\u001b[0m \u001b[38;5;28;01mreturn\u001b[39;00m url\n",
            "\u001b[1;31mFileURLRetrievalError\u001b[0m: Cannot retrieve the public link of the file. You may need to change the permission to 'Anyone with the link', or have had many accesses. Check FAQ in https://github.com/wkentaro/gdown?tab=readme-ov-file#faq.",
            "\nDuring handling of the above exception, another exception occurred:\n",
            "\u001b[1;31mFileURLRetrievalError\u001b[0m                     Traceback (most recent call last)",
            "Cell \u001b[1;32mIn[4], line 3\u001b[0m\n\u001b[0;32m      1\u001b[0m \u001b[38;5;66;03m# Загрузка файла из Google Drive\u001b[39;00m\n\u001b[0;32m      2\u001b[0m file_id \u001b[38;5;241m=\u001b[39m \u001b[38;5;124m'\u001b[39m\u001b[38;5;124m1yKI64q6_d8hCqXiR6fUJxPPugexWjXLT\u001b[39m\u001b[38;5;124m'\u001b[39m  \u001b[38;5;66;03m# ID файла\u001b[39;00m\n\u001b[1;32m----> 3\u001b[0m \u001b[43mgdown\u001b[49m\u001b[38;5;241;43m.\u001b[39;49m\u001b[43mdownload\u001b[49m\u001b[43m(\u001b[49m\u001b[38;5;124;43mf\u001b[39;49m\u001b[38;5;124;43m'\u001b[39;49m\u001b[38;5;124;43mhttps://drive.google.com/uc?id=\u001b[39;49m\u001b[38;5;132;43;01m{\u001b[39;49;00m\u001b[43mfile_id\u001b[49m\u001b[38;5;132;43;01m}\u001b[39;49;00m\u001b[38;5;124;43m'\u001b[39;49m\u001b[43m,\u001b[49m\u001b[43m \u001b[49m\u001b[38;5;124;43m'\u001b[39;49m\u001b[38;5;124;43mtrain.csv\u001b[39;49m\u001b[38;5;124;43m'\u001b[39;49m\u001b[43m,\u001b[49m\u001b[43m \u001b[49m\u001b[43mquiet\u001b[49m\u001b[38;5;241;43m=\u001b[39;49m\u001b[38;5;28;43;01mFalse\u001b[39;49;00m\u001b[43m)\u001b[49m\n\u001b[0;32m      5\u001b[0m \u001b[38;5;66;03m# Замените 'data.csv' на имя вашего загруженного файла\u001b[39;00m\n\u001b[0;32m      6\u001b[0m data \u001b[38;5;241m=\u001b[39m pd\u001b[38;5;241m.\u001b[39mread_csv(\u001b[38;5;124m'\u001b[39m\u001b[38;5;124mtrain.csv\u001b[39m\u001b[38;5;124m'\u001b[39m, parse_dates\u001b[38;5;241m=\u001b[39m[\u001b[38;5;124m\"\u001b[39m\u001b[38;5;124mactivation_date\u001b[39m\u001b[38;5;124m\"\u001b[39m])  \u001b[38;5;66;03m# Убедитесь, что 'activation_date' существует в вашем файле\u001b[39;00m\n",
            "File \u001b[1;32mc:\\Projects\\DS\\lessons\\.venv\\Lib\\site-packages\\gdown\\download.py:278\u001b[0m, in \u001b[0;36mdownload\u001b[1;34m(url, output, quiet, proxy, speed, use_cookies, verify, id, fuzzy, resume, format, user_agent, log_messages)\u001b[0m\n\u001b[0;32m    268\u001b[0m     \u001b[38;5;28;01mexcept\u001b[39;00m FileURLRetrievalError \u001b[38;5;28;01mas\u001b[39;00m e:\n\u001b[0;32m    269\u001b[0m         message \u001b[38;5;241m=\u001b[39m (\n\u001b[0;32m    270\u001b[0m             \u001b[38;5;124m\"\u001b[39m\u001b[38;5;124mFailed to retrieve file url:\u001b[39m\u001b[38;5;130;01m\\n\u001b[39;00m\u001b[38;5;130;01m\\n\u001b[39;00m\u001b[38;5;132;01m{}\u001b[39;00m\u001b[38;5;130;01m\\n\u001b[39;00m\u001b[38;5;130;01m\\n\u001b[39;00m\u001b[38;5;124m\"\u001b[39m\n\u001b[0;32m    271\u001b[0m             \u001b[38;5;124m\"\u001b[39m\u001b[38;5;124mYou may still be able to access the file from the browser:\u001b[39m\u001b[38;5;124m\"\u001b[39m\n\u001b[1;32m   (...)\u001b[0m\n\u001b[0;32m    276\u001b[0m             url_origin,\n\u001b[0;32m    277\u001b[0m         )\n\u001b[1;32m--> 278\u001b[0m         \u001b[38;5;28;01mraise\u001b[39;00m FileURLRetrievalError(message)\n\u001b[0;32m    280\u001b[0m filename_from_url \u001b[38;5;241m=\u001b[39m \u001b[38;5;28;01mNone\u001b[39;00m\n\u001b[0;32m    281\u001b[0m last_modified_time \u001b[38;5;241m=\u001b[39m \u001b[38;5;28;01mNone\u001b[39;00m\n",
            "\u001b[1;31mFileURLRetrievalError\u001b[0m: Failed to retrieve file url:\n\n\tCannot retrieve the public link of the file. You may need to change\n\tthe permission to 'Anyone with the link', or have had many accesses.\n\tCheck FAQ in https://github.com/wkentaro/gdown?tab=readme-ov-file#faq.\n\nYou may still be able to access the file from the browser:\n\n\thttps://drive.google.com/uc?id=1yKI64q6_d8hCqXiR6fUJxPPugexWjXLT\n\nbut Gdown can't. Please check connections and permissions."
          ]
        }
      ],
      "source": [
        "# Загрузка файла из Google Drive\n",
        "file_id = '1yKI64q6_d8hCqXiR6fUJxPPugexWjXLT'  # ID файла\n",
        "gdown.download(f'https://drive.google.com/uc?id={file_id}', 'train.csv', quiet=False)\n",
        "\n",
        "# Замените 'data.csv' на имя вашего загруженного файла\n",
        "data = pd.read_csv('train.csv', parse_dates=[\"activation_date\"])  # Убедитесь, что 'activation_date' существует в вашем файле\n",
        "print(data.head())"
      ]
    },
    {
      "cell_type": "code",
      "execution_count": null,
      "metadata": {
        "id": "2uiU8bEukS8F"
      },
      "outputs": [],
      "source": [
        "# Вы можете сделать EDA, например, посмотреть deal probability по категориям. Если вам интересно =)"
      ]
    },
    {
      "cell_type": "code",
      "execution_count": null,
      "metadata": {
        "id": "aBzC7ebzkS8G"
      },
      "outputs": [],
      "source": [
        "train, test = train_test_split(data, random_state=13, test_size=0.3)\n",
        "val, test = train_test_split(test, random_state=13, test_size=0.3)"
      ]
    },
    {
      "cell_type": "code",
      "execution_count": null,
      "metadata": {
        "id": "5IJGczc6kS8G"
      },
      "outputs": [],
      "source": [
        "# Давайте обучим простенькую модель\n",
        "\n",
        "# Отделите целевую переменную\n",
        "y_train = train['deal_probability']\n",
        "y_val = val['deal_probability']\n",
        "y_test = test['deal_probability']\n",
        "\n",
        "# Давайте добавим фактор: день недели активации\n",
        "train[\"activation_weekday\"] = train['activation_date'].dt.dayofweek\n",
        "val[\"activation_weekday\"] = val['activation_date'].dt.dayofweek\n",
        "test[\"activation_weekday\"] = test['activation_date'].dt.dayofweek\n",
        "\n",
        "# Давайте заэнкодим категориальные переменные\n",
        "cat_vars = [\"region\", \"city\", \"parent_category_name\", \"category_name\", \"user_type\", \"param_1\", \"param_2\", \"param_3\"]\n",
        "for col in cat_vars:\n",
        "    lbl = preprocessing.LabelEncoder()\n",
        "    lbl.fit(list(train[col].values.astype('str')) + list(val[col].values.astype('str')) + list(test[col].values.astype('str')))\n",
        "    train[col] = lbl.transform(list(train[col].values.astype('str')))\n",
        "    val[col] = lbl.transform(list(val[col].values.astype('str')))\n",
        "    test[col] = lbl.transform(list(test[col].values.astype('str')))\n",
        "\n",
        "cols_to_drop = [\"item_id\", \"user_id\", \"title\", \"description\", \"activation_date\", \"image\", \"deal_probability\"]\n",
        "X_train = train.drop(cols_to_drop, axis=1)\n",
        "X_val = val.drop(cols_to_drop, axis=1)\n",
        "X_test = test.drop(cols_to_drop, axis=1)"
      ]
    },
    {
      "cell_type": "code",
      "execution_count": null,
      "metadata": {
        "id": "uobmm4GodiGI"
      },
      "outputs": [],
      "source": [
        "X_val.head()"
      ]
    },
    {
      "cell_type": "code",
      "execution_count": null,
      "metadata": {
        "id": "GWcgG62tkS8H"
      },
      "outputs": [],
      "source": [
        "params = {\n",
        "    \"objective\" : \"regression\",\n",
        "    \"metric\" : \"rmse\",\n",
        "    \"num_leaves\" : 30,\n",
        "    \"learning_rate\" : 0.1,\n",
        "    \"bagging_fraction\" : 0.7,\n",
        "    \"feature_fraction\" : 0.7,\n",
        "    \"bagging_frequency\" : 5,\n",
        "    \"bagging_seed\" : 2018,\n",
        "    \"verbosity\" : -1\n",
        "}\n",
        "\n",
        "lgtrain = lgb.Dataset(X_train, label=y_train) # Создать lgb Dataset с тренировочной выборкой\n",
        "lgval =  lgb.Dataset(X_val, label=y_val) # Создать lgb Dataset с валидационной выборкой\n",
        "model = lgb.train(params, lgtrain, 1000, valid_sets=[lgval])\n",
        "\n",
        "pred_test_y = model.predict(X_test, num_iteration=model.best_iteration)"
      ]
    },
    {
      "cell_type": "code",
      "execution_count": null,
      "metadata": {
        "id": "s9XlK7GnkS8I"
      },
      "outputs": [],
      "source": [
        "# 0.051787108257140224\n",
        "print(metrics.mean_squared_error(y_test, pred_test_y))"
      ]
    }
  ],
  "metadata": {
    "colab": {
      "provenance": []
    },
    "kernelspec": {
      "display_name": ".venv",
      "language": "python",
      "name": "python3"
    },
    "language_info": {
      "codemirror_mode": {
        "name": "ipython",
        "version": 3
      },
      "file_extension": ".py",
      "mimetype": "text/x-python",
      "name": "python",
      "nbconvert_exporter": "python",
      "pygments_lexer": "ipython3",
      "version": "3.11.7"
    }
  },
  "nbformat": 4,
  "nbformat_minor": 0
}
