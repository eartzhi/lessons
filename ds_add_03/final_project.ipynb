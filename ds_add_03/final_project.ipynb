{
 "cells": [
  {
   "cell_type": "code",
   "execution_count": 88,
   "id": "a0b89fb7",
   "metadata": {},
   "outputs": [],
   "source": [
    "import pandas as pd\n",
    "import seaborn as sns\n",
    "import matplotlib.pyplot as plt\n",
    "import numpy as np\n",
    "import pymc as pm\n",
    "import arviz as az\n",
    "\n",
    "from sklearn.preprocessing import StandardScaler, MinMaxScaler"
   ]
  },
  {
   "cell_type": "markdown",
   "id": "e0737ee5",
   "metadata": {},
   "source": [
    "## 1. Импорт и  первичный анализ данных"
   ]
  },
  {
   "cell_type": "code",
   "execution_count": 67,
   "id": "425fd5a5",
   "metadata": {},
   "outputs": [
    {
     "data": {
      "text/html": [
       "<div>\n",
       "<style scoped>\n",
       "    .dataframe tbody tr th:only-of-type {\n",
       "        vertical-align: middle;\n",
       "    }\n",
       "\n",
       "    .dataframe tbody tr th {\n",
       "        vertical-align: top;\n",
       "    }\n",
       "\n",
       "    .dataframe thead th {\n",
       "        text-align: right;\n",
       "    }\n",
       "</style>\n",
       "<table border=\"1\" class=\"dataframe\">\n",
       "  <thead>\n",
       "    <tr style=\"text-align: right;\">\n",
       "      <th></th>\n",
       "      <th>Unnamed: 0</th>\n",
       "      <th>price_doc</th>\n",
       "      <th>full_sq</th>\n",
       "      <th>life_sq</th>\n",
       "      <th>num_room</th>\n",
       "      <th>kitch_sq</th>\n",
       "    </tr>\n",
       "  </thead>\n",
       "  <tbody>\n",
       "    <tr>\n",
       "      <th>0</th>\n",
       "      <td>8056</td>\n",
       "      <td>2750000</td>\n",
       "      <td>11</td>\n",
       "      <td>11.0</td>\n",
       "      <td>1.0</td>\n",
       "      <td>12.0</td>\n",
       "    </tr>\n",
       "    <tr>\n",
       "      <th>1</th>\n",
       "      <td>8154</td>\n",
       "      <td>7100000</td>\n",
       "      <td>45</td>\n",
       "      <td>27.0</td>\n",
       "      <td>2.0</td>\n",
       "      <td>6.0</td>\n",
       "    </tr>\n",
       "    <tr>\n",
       "      <th>2</th>\n",
       "      <td>8287</td>\n",
       "      <td>11700000</td>\n",
       "      <td>77</td>\n",
       "      <td>50.0</td>\n",
       "      <td>3.0</td>\n",
       "      <td>8.0</td>\n",
       "    </tr>\n",
       "    <tr>\n",
       "      <th>3</th>\n",
       "      <td>8387</td>\n",
       "      <td>10400000</td>\n",
       "      <td>56</td>\n",
       "      <td>29.0</td>\n",
       "      <td>2.0</td>\n",
       "      <td>10.0</td>\n",
       "    </tr>\n",
       "    <tr>\n",
       "      <th>4</th>\n",
       "      <td>8391</td>\n",
       "      <td>6200000</td>\n",
       "      <td>31</td>\n",
       "      <td>21.0</td>\n",
       "      <td>1.0</td>\n",
       "      <td>5.0</td>\n",
       "    </tr>\n",
       "  </tbody>\n",
       "</table>\n",
       "</div>"
      ],
      "text/plain": [
       "   Unnamed: 0  price_doc  full_sq  life_sq  num_room  kitch_sq\n",
       "0        8056    2750000       11     11.0       1.0      12.0\n",
       "1        8154    7100000       45     27.0       2.0       6.0\n",
       "2        8287   11700000       77     50.0       3.0       8.0\n",
       "3        8387   10400000       56     29.0       2.0      10.0\n",
       "4        8391    6200000       31     21.0       1.0       5.0"
      ]
     },
     "execution_count": 67,
     "metadata": {},
     "output_type": "execute_result"
    }
   ],
   "source": [
    "data = pd.read_csv('data/flats.zip')\n",
    "data.head()"
   ]
  },
  {
   "cell_type": "markdown",
   "id": "e62e5e5d",
   "metadata": {},
   "source": [
    "Проверим данные на пропуски"
   ]
  },
  {
   "cell_type": "code",
   "execution_count": 68,
   "id": "06a25321",
   "metadata": {},
   "outputs": [
    {
     "data": {
      "text/plain": [
       "Unnamed: 0    0\n",
       "price_doc     0\n",
       "full_sq       0\n",
       "life_sq       0\n",
       "num_room      0\n",
       "kitch_sq      0\n",
       "dtype: int64"
      ]
     },
     "execution_count": 68,
     "metadata": {},
     "output_type": "execute_result"
    }
   ],
   "source": [
    "data.isna().sum()"
   ]
  },
  {
   "cell_type": "code",
   "execution_count": 69,
   "id": "8989a396",
   "metadata": {},
   "outputs": [
    {
     "data": {
      "text/html": [
       "<div>\n",
       "<style scoped>\n",
       "    .dataframe tbody tr th:only-of-type {\n",
       "        vertical-align: middle;\n",
       "    }\n",
       "\n",
       "    .dataframe tbody tr th {\n",
       "        vertical-align: top;\n",
       "    }\n",
       "\n",
       "    .dataframe thead th {\n",
       "        text-align: right;\n",
       "    }\n",
       "</style>\n",
       "<table border=\"1\" class=\"dataframe\">\n",
       "  <thead>\n",
       "    <tr style=\"text-align: right;\">\n",
       "      <th></th>\n",
       "      <th>Unnamed: 0</th>\n",
       "      <th>price_doc</th>\n",
       "      <th>full_sq</th>\n",
       "      <th>life_sq</th>\n",
       "      <th>num_room</th>\n",
       "      <th>kitch_sq</th>\n",
       "    </tr>\n",
       "  </thead>\n",
       "  <tbody>\n",
       "    <tr>\n",
       "      <th>count</th>\n",
       "      <td>6042.000000</td>\n",
       "      <td>6.042000e+03</td>\n",
       "      <td>6042.000000</td>\n",
       "      <td>6042.000000</td>\n",
       "      <td>6042.000000</td>\n",
       "      <td>6042.000000</td>\n",
       "    </tr>\n",
       "    <tr>\n",
       "      <th>mean</th>\n",
       "      <td>19846.990070</td>\n",
       "      <td>8.750423e+06</td>\n",
       "      <td>53.374545</td>\n",
       "      <td>33.198941</td>\n",
       "      <td>1.997021</td>\n",
       "      <td>7.391096</td>\n",
       "    </tr>\n",
       "    <tr>\n",
       "      <th>std</th>\n",
       "      <td>6081.011373</td>\n",
       "      <td>6.277290e+06</td>\n",
       "      <td>24.011941</td>\n",
       "      <td>20.190005</td>\n",
       "      <td>0.889523</td>\n",
       "      <td>3.806198</td>\n",
       "    </tr>\n",
       "    <tr>\n",
       "      <th>min</th>\n",
       "      <td>8056.000000</td>\n",
       "      <td>5.000000e+05</td>\n",
       "      <td>1.000000</td>\n",
       "      <td>0.000000</td>\n",
       "      <td>0.000000</td>\n",
       "      <td>0.000000</td>\n",
       "    </tr>\n",
       "    <tr>\n",
       "      <th>25%</th>\n",
       "      <td>14573.250000</td>\n",
       "      <td>5.800000e+06</td>\n",
       "      <td>38.000000</td>\n",
       "      <td>20.000000</td>\n",
       "      <td>1.000000</td>\n",
       "      <td>5.000000</td>\n",
       "    </tr>\n",
       "    <tr>\n",
       "      <th>50%</th>\n",
       "      <td>19871.500000</td>\n",
       "      <td>7.400000e+06</td>\n",
       "      <td>46.000000</td>\n",
       "      <td>29.000000</td>\n",
       "      <td>2.000000</td>\n",
       "      <td>7.000000</td>\n",
       "    </tr>\n",
       "    <tr>\n",
       "      <th>75%</th>\n",
       "      <td>25147.750000</td>\n",
       "      <td>1.050000e+07</td>\n",
       "      <td>63.000000</td>\n",
       "      <td>42.000000</td>\n",
       "      <td>3.000000</td>\n",
       "      <td>9.000000</td>\n",
       "    </tr>\n",
       "    <tr>\n",
       "      <th>max</th>\n",
       "      <td>30470.000000</td>\n",
       "      <td>9.512250e+07</td>\n",
       "      <td>637.000000</td>\n",
       "      <td>637.000000</td>\n",
       "      <td>17.000000</td>\n",
       "      <td>96.000000</td>\n",
       "    </tr>\n",
       "  </tbody>\n",
       "</table>\n",
       "</div>"
      ],
      "text/plain": [
       "         Unnamed: 0     price_doc      full_sq      life_sq     num_room  \\\n",
       "count   6042.000000  6.042000e+03  6042.000000  6042.000000  6042.000000   \n",
       "mean   19846.990070  8.750423e+06    53.374545    33.198941     1.997021   \n",
       "std     6081.011373  6.277290e+06    24.011941    20.190005     0.889523   \n",
       "min     8056.000000  5.000000e+05     1.000000     0.000000     0.000000   \n",
       "25%    14573.250000  5.800000e+06    38.000000    20.000000     1.000000   \n",
       "50%    19871.500000  7.400000e+06    46.000000    29.000000     2.000000   \n",
       "75%    25147.750000  1.050000e+07    63.000000    42.000000     3.000000   \n",
       "max    30470.000000  9.512250e+07   637.000000   637.000000    17.000000   \n",
       "\n",
       "          kitch_sq  \n",
       "count  6042.000000  \n",
       "mean      7.391096  \n",
       "std       3.806198  \n",
       "min       0.000000  \n",
       "25%       5.000000  \n",
       "50%       7.000000  \n",
       "75%       9.000000  \n",
       "max      96.000000  "
      ]
     },
     "execution_count": 69,
     "metadata": {},
     "output_type": "execute_result"
    }
   ],
   "source": [
    "data.describe()"
   ]
  },
  {
   "cell_type": "markdown",
   "id": "d39f4fc9",
   "metadata": {},
   "source": [
    "Есть подозрение, что \"Unnamed: 0\" это столбец ранее использовавшийся как индекс. Для подтверждения проверим последние строки."
   ]
  },
  {
   "cell_type": "code",
   "execution_count": 70,
   "id": "178bddf7",
   "metadata": {},
   "outputs": [
    {
     "data": {
      "text/html": [
       "<div>\n",
       "<style scoped>\n",
       "    .dataframe tbody tr th:only-of-type {\n",
       "        vertical-align: middle;\n",
       "    }\n",
       "\n",
       "    .dataframe tbody tr th {\n",
       "        vertical-align: top;\n",
       "    }\n",
       "\n",
       "    .dataframe thead th {\n",
       "        text-align: right;\n",
       "    }\n",
       "</style>\n",
       "<table border=\"1\" class=\"dataframe\">\n",
       "  <thead>\n",
       "    <tr style=\"text-align: right;\">\n",
       "      <th></th>\n",
       "      <th>Unnamed: 0</th>\n",
       "      <th>price_doc</th>\n",
       "      <th>full_sq</th>\n",
       "      <th>life_sq</th>\n",
       "      <th>num_room</th>\n",
       "      <th>kitch_sq</th>\n",
       "    </tr>\n",
       "  </thead>\n",
       "  <tbody>\n",
       "    <tr>\n",
       "      <th>6037</th>\n",
       "      <td>30462</td>\n",
       "      <td>10544070</td>\n",
       "      <td>47</td>\n",
       "      <td>30.0</td>\n",
       "      <td>1.0</td>\n",
       "      <td>10.0</td>\n",
       "    </tr>\n",
       "    <tr>\n",
       "      <th>6038</th>\n",
       "      <td>30463</td>\n",
       "      <td>12000000</td>\n",
       "      <td>56</td>\n",
       "      <td>29.0</td>\n",
       "      <td>2.0</td>\n",
       "      <td>11.0</td>\n",
       "    </tr>\n",
       "    <tr>\n",
       "      <th>6039</th>\n",
       "      <td>30467</td>\n",
       "      <td>25000000</td>\n",
       "      <td>86</td>\n",
       "      <td>59.0</td>\n",
       "      <td>4.0</td>\n",
       "      <td>10.0</td>\n",
       "    </tr>\n",
       "    <tr>\n",
       "      <th>6040</th>\n",
       "      <td>30469</td>\n",
       "      <td>13500000</td>\n",
       "      <td>64</td>\n",
       "      <td>32.0</td>\n",
       "      <td>2.0</td>\n",
       "      <td>11.0</td>\n",
       "    </tr>\n",
       "    <tr>\n",
       "      <th>6041</th>\n",
       "      <td>30470</td>\n",
       "      <td>5600000</td>\n",
       "      <td>43</td>\n",
       "      <td>28.0</td>\n",
       "      <td>2.0</td>\n",
       "      <td>6.0</td>\n",
       "    </tr>\n",
       "  </tbody>\n",
       "</table>\n",
       "</div>"
      ],
      "text/plain": [
       "      Unnamed: 0  price_doc  full_sq  life_sq  num_room  kitch_sq\n",
       "6037       30462   10544070       47     30.0       1.0      10.0\n",
       "6038       30463   12000000       56     29.0       2.0      11.0\n",
       "6039       30467   25000000       86     59.0       4.0      10.0\n",
       "6040       30469   13500000       64     32.0       2.0      11.0\n",
       "6041       30470    5600000       43     28.0       2.0       6.0"
      ]
     },
     "execution_count": 70,
     "metadata": {},
     "output_type": "execute_result"
    }
   ],
   "source": [
    "data.tail()"
   ]
  },
  {
   "cell_type": "markdown",
   "id": "0fe233ce",
   "metadata": {},
   "source": [
    "Удаляем столбец \"Unnamed: 0\"."
   ]
  },
  {
   "cell_type": "code",
   "execution_count": 71,
   "id": "2775fc82",
   "metadata": {},
   "outputs": [
    {
     "data": {
      "text/html": [
       "<div>\n",
       "<style scoped>\n",
       "    .dataframe tbody tr th:only-of-type {\n",
       "        vertical-align: middle;\n",
       "    }\n",
       "\n",
       "    .dataframe tbody tr th {\n",
       "        vertical-align: top;\n",
       "    }\n",
       "\n",
       "    .dataframe thead th {\n",
       "        text-align: right;\n",
       "    }\n",
       "</style>\n",
       "<table border=\"1\" class=\"dataframe\">\n",
       "  <thead>\n",
       "    <tr style=\"text-align: right;\">\n",
       "      <th></th>\n",
       "      <th>price_doc</th>\n",
       "      <th>full_sq</th>\n",
       "      <th>life_sq</th>\n",
       "      <th>num_room</th>\n",
       "      <th>kitch_sq</th>\n",
       "    </tr>\n",
       "  </thead>\n",
       "  <tbody>\n",
       "    <tr>\n",
       "      <th>0</th>\n",
       "      <td>2750000</td>\n",
       "      <td>11</td>\n",
       "      <td>11.0</td>\n",
       "      <td>1.0</td>\n",
       "      <td>12.0</td>\n",
       "    </tr>\n",
       "    <tr>\n",
       "      <th>1</th>\n",
       "      <td>7100000</td>\n",
       "      <td>45</td>\n",
       "      <td>27.0</td>\n",
       "      <td>2.0</td>\n",
       "      <td>6.0</td>\n",
       "    </tr>\n",
       "    <tr>\n",
       "      <th>2</th>\n",
       "      <td>11700000</td>\n",
       "      <td>77</td>\n",
       "      <td>50.0</td>\n",
       "      <td>3.0</td>\n",
       "      <td>8.0</td>\n",
       "    </tr>\n",
       "    <tr>\n",
       "      <th>3</th>\n",
       "      <td>10400000</td>\n",
       "      <td>56</td>\n",
       "      <td>29.0</td>\n",
       "      <td>2.0</td>\n",
       "      <td>10.0</td>\n",
       "    </tr>\n",
       "    <tr>\n",
       "      <th>4</th>\n",
       "      <td>6200000</td>\n",
       "      <td>31</td>\n",
       "      <td>21.0</td>\n",
       "      <td>1.0</td>\n",
       "      <td>5.0</td>\n",
       "    </tr>\n",
       "  </tbody>\n",
       "</table>\n",
       "</div>"
      ],
      "text/plain": [
       "   price_doc  full_sq  life_sq  num_room  kitch_sq\n",
       "0    2750000       11     11.0       1.0      12.0\n",
       "1    7100000       45     27.0       2.0       6.0\n",
       "2   11700000       77     50.0       3.0       8.0\n",
       "3   10400000       56     29.0       2.0      10.0\n",
       "4    6200000       31     21.0       1.0       5.0"
      ]
     },
     "execution_count": 71,
     "metadata": {},
     "output_type": "execute_result"
    }
   ],
   "source": [
    "data.drop('Unnamed: 0', axis=1, inplace=True)\n",
    "data.head()"
   ]
  },
  {
   "cell_type": "markdown",
   "id": "bd154bbe",
   "metadata": {},
   "source": [
    "## 2. Разведывательный анализ данных"
   ]
  },
  {
   "cell_type": "markdown",
   "id": "5945c892",
   "metadata": {},
   "source": [
    "Рассмотрим распределение данных."
   ]
  },
  {
   "cell_type": "code",
   "execution_count": 72,
   "id": "93600638",
   "metadata": {},
   "outputs": [
    {
     "data": {
      "image/png": "[encoded data removed]",
      "text/plain": [
       "<Figure size 1500x1500 with 4 Axes>"
      ]
     },
     "metadata": {},
     "output_type": "display_data"
    }
   ],
   "source": [
    "fig, axes = plt.subplots(nrows=4, figsize=(15, 15))\n",
    "\n",
    "sns.boxplot(x=data.full_sq, ax=axes[0])\n",
    "axes[0].set(xlabel=\"Площадь\")\n",
    "axes[0].grid()\n",
    "\n",
    "sns.boxplot(x=data.life_sq, ax=axes[1])\n",
    "axes[1].set(xlabel=\"Жилая площадь\")\n",
    "axes[1].grid()\n",
    "\n",
    "sns.boxplot(x=data.num_room, ax=axes[2])\n",
    "axes[2].set(xlabel=\"Количество комнат\")\n",
    "axes[2].grid()\n",
    "\n",
    "sns.boxplot(x=data.kitch_sq, ax=axes[3])\n",
    "axes[3].set(xlabel=\"Площадь кухни\")\n",
    "axes[3].grid()"
   ]
  },
  {
   "cell_type": "markdown",
   "id": "ae81d227",
   "metadata": {},
   "source": [
    "Распределение можно считать нормальным. Однако есть выбросы. Предлагаю их удалить."
   ]
  },
  {
   "cell_type": "code",
   "execution_count": 73,
   "id": "ecef03b6",
   "metadata": {},
   "outputs": [],
   "source": [
    "def outliers_iqr_mod(data, feature, left=1.5, right=1.5, log_scale=True):\n",
    "    if log_scale:\n",
    "        x = np.log(data[feature]+1)\n",
    "    else:\n",
    "        x = data[feature]\n",
    "    quartile_1, quartile_3 = x.quantile(0.25), x.quantile(0.75),\n",
    "    iqr = quartile_3 - quartile_1\n",
    "    lower_bound = quartile_1 - (iqr * left)\n",
    "    upper_bound = quartile_3 + (iqr * right)\n",
    "    outliers = data[(x < lower_bound) | (x > upper_bound)]\n",
    "    cleaned = data[(x >= lower_bound) & (x <= upper_bound)]\n",
    "    return outliers, cleaned"
   ]
  },
  {
   "cell_type": "code",
   "execution_count": null,
   "id": "66df2db1",
   "metadata": {},
   "outputs": [
    {
     "name": "stdout",
     "output_type": "stream",
     "text": [
      "<class 'pandas.core.frame.DataFrame'>\n",
      "RangeIndex: 5682 entries, 0 to 5681\n",
      "Data columns (total 6 columns):\n",
      " #   Column     Non-Null Count  Dtype  \n",
      "---  ------     --------------  -----  \n",
      " 0   index      5682 non-null   int64  \n",
      " 1   price_doc  5682 non-null   int64  \n",
      " 2   full_sq    5682 non-null   int64  \n",
      " 3   life_sq    5682 non-null   float64\n",
      " 4   num_room   5682 non-null   float64\n",
      " 5   kitch_sq   5682 non-null   float64\n",
      "dtypes: float64(3), int64(3)\n",
      "memory usage: 266.5 KB\n"
     ]
    }
   ],
   "source": [
    "_, data = outliers_iqr_mod(data, 'full_sq', log_scale=False)\n",
    "_, data = outliers_iqr_mod(data, 'life_sq', log_scale=False)\n",
    "_, data = outliers_iqr_mod(data, 'num_room', log_scale=False)\n",
    "_, data = outliers_iqr_mod(data, 'kitch_sq', log_scale=False)\n",
    "\n",
    "data.reset_index(inplace=True)\n",
    "data.info()"
   ]
  },
  {
   "cell_type": "code",
   "execution_count": 75,
   "id": "c01d35bf",
   "metadata": {},
   "outputs": [
    {
     "data": {
      "image/png": "[encoded data removed]",
      "text/plain": [
       "<Figure size 1500x1500 with 4 Axes>"
      ]
     },
     "metadata": {},
     "output_type": "display_data"
    }
   ],
   "source": [
    "fig, axes = plt.subplots(nrows=4, figsize=(15, 15))\n",
    "\n",
    "sns.boxplot(x=data.full_sq, ax=axes[0])\n",
    "axes[0].set(xlabel=\"Площадь\")\n",
    "axes[0].grid()\n",
    "\n",
    "sns.boxplot(x=data.life_sq, ax=axes[1])\n",
    "axes[1].set(xlabel=\"Жилая площадь\")\n",
    "axes[1].grid()\n",
    "\n",
    "sns.boxplot(x=data.num_room, ax=axes[2])\n",
    "axes[2].set(xlabel=\"Количество комнат\")\n",
    "axes[2].grid()\n",
    "\n",
    "sns.boxplot(x=data.kitch_sq, ax=axes[3])\n",
    "axes[3].set(xlabel=\"Площадь кухни\")\n",
    "axes[3].grid()"
   ]
  },
  {
   "cell_type": "markdown",
   "id": "f41d9a11",
   "metadata": {},
   "source": [
    "## 3. Предобработка данных"
   ]
  },
  {
   "cell_type": "code",
   "execution_count": 90,
   "id": "9f1abbde",
   "metadata": {},
   "outputs": [
    {
     "data": {
      "text/html": [
       "<div>\n",
       "<style scoped>\n",
       "    .dataframe tbody tr th:only-of-type {\n",
       "        vertical-align: middle;\n",
       "    }\n",
       "\n",
       "    .dataframe tbody tr th {\n",
       "        vertical-align: top;\n",
       "    }\n",
       "\n",
       "    .dataframe thead th {\n",
       "        text-align: right;\n",
       "    }\n",
       "</style>\n",
       "<table border=\"1\" class=\"dataframe\">\n",
       "  <thead>\n",
       "    <tr style=\"text-align: right;\">\n",
       "      <th></th>\n",
       "      <th>full_sq</th>\n",
       "      <th>life_sq</th>\n",
       "      <th>num_room</th>\n",
       "      <th>kitch_sq</th>\n",
       "    </tr>\n",
       "  </thead>\n",
       "  <tbody>\n",
       "    <tr>\n",
       "      <th>count</th>\n",
       "      <td>5682.000000</td>\n",
       "      <td>5682.000000</td>\n",
       "      <td>5682.000000</td>\n",
       "      <td>5682.000000</td>\n",
       "    </tr>\n",
       "    <tr>\n",
       "      <th>mean</th>\n",
       "      <td>0.490946</td>\n",
       "      <td>0.433210</td>\n",
       "      <td>0.322011</td>\n",
       "      <td>0.469776</td>\n",
       "    </tr>\n",
       "    <tr>\n",
       "      <th>std</th>\n",
       "      <td>0.161336</td>\n",
       "      <td>0.167866</td>\n",
       "      <td>0.133442</td>\n",
       "      <td>0.162190</td>\n",
       "    </tr>\n",
       "    <tr>\n",
       "      <th>min</th>\n",
       "      <td>0.000000</td>\n",
       "      <td>0.000000</td>\n",
       "      <td>0.000000</td>\n",
       "      <td>0.000000</td>\n",
       "    </tr>\n",
       "    <tr>\n",
       "      <th>25%</th>\n",
       "      <td>0.373737</td>\n",
       "      <td>0.285714</td>\n",
       "      <td>0.166667</td>\n",
       "      <td>0.333333</td>\n",
       "    </tr>\n",
       "    <tr>\n",
       "      <th>50%</th>\n",
       "      <td>0.444444</td>\n",
       "      <td>0.414286</td>\n",
       "      <td>0.333333</td>\n",
       "      <td>0.466667</td>\n",
       "    </tr>\n",
       "    <tr>\n",
       "      <th>75%</th>\n",
       "      <td>0.585859</td>\n",
       "      <td>0.557143</td>\n",
       "      <td>0.458333</td>\n",
       "      <td>0.600000</td>\n",
       "    </tr>\n",
       "    <tr>\n",
       "      <th>max</th>\n",
       "      <td>1.000000</td>\n",
       "      <td>1.000000</td>\n",
       "      <td>1.000000</td>\n",
       "      <td>1.000000</td>\n",
       "    </tr>\n",
       "  </tbody>\n",
       "</table>\n",
       "</div>"
      ],
      "text/plain": [
       "           full_sq      life_sq     num_room     kitch_sq\n",
       "count  5682.000000  5682.000000  5682.000000  5682.000000\n",
       "mean      0.490946     0.433210     0.322011     0.469776\n",
       "std       0.161336     0.167866     0.133442     0.162190\n",
       "min       0.000000     0.000000     0.000000     0.000000\n",
       "25%       0.373737     0.285714     0.166667     0.333333\n",
       "50%       0.444444     0.414286     0.333333     0.466667\n",
       "75%       0.585859     0.557143     0.458333     0.600000\n",
       "max       1.000000     1.000000     1.000000     1.000000"
      ]
     },
     "execution_count": 90,
     "metadata": {},
     "output_type": "execute_result"
    }
   ],
   "source": [
    "s_scaler = MinMaxScaler()\n",
    "\n",
    "# кодируем исходный датасет\n",
    "data_scaled = pd.DataFrame(s_scaler.fit_transform(data[['full_sq', 'life_sq', 'num_room', 'kitch_sq']]), columns=['full_sq', 'life_sq', 'num_room', 'kitch_sq'])\n",
    "\n",
    "data_scaled.describe()"
   ]
  },
  {
   "cell_type": "markdown",
   "id": "9c6a70eb",
   "metadata": {},
   "source": [
    "## 3. Построение байесовской модели"
   ]
  }
 ],
 "metadata": {
  "kernelspec": {
   "display_name": "pymc_env",
   "language": "python",
   "name": "python3"
  },
  "language_info": {
   "codemirror_mode": {
    "name": "ipython",
    "version": 3
   },
   "file_extension": ".py",
   "mimetype": "text/x-python",
   "name": "python",
   "nbconvert_exporter": "python",
   "pygments_lexer": "ipython3",
   "version": "3.13.5"
  }
 },
 "nbformat": 4,
 "nbformat_minor": 5
}
