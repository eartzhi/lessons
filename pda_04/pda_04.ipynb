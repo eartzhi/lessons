{
 "cells": [
  {
   "cell_type": "markdown",
   "id": "483dd689",
   "metadata": {},
   "source": [
    "5. Тесты на среднее и доли. Практика"
   ]
  },
  {
   "cell_type": "code",
   "execution_count": 1,
   "id": "467201af",
   "metadata": {},
   "outputs": [],
   "source": [
    "import numpy as np\n",
    "from scipy import stats"
   ]
  },
  {
   "cell_type": "code",
   "execution_count": 2,
   "id": "bbe77159",
   "metadata": {},
   "outputs": [],
   "source": [
    "np.random.seed(13)\n",
    "random_normal = np.random.normal(5, 2, 100)\n",
    "random_bin = np.random.choice([0, 1], size=(100,), p=[0.8, 0.2])"
   ]
  },
  {
   "cell_type": "code",
   "execution_count": 3,
   "id": "fc63cd38",
   "metadata": {},
   "outputs": [
    {
     "data": {
      "text/plain": [
       "TtestResult(statistic=27.315846581411247, pvalue=6.762242033211871e-48, df=99)"
      ]
     },
     "execution_count": 3,
     "metadata": {},
     "output_type": "execute_result"
    }
   ],
   "source": [
    "stats.ttest_1samp(random_normal, 0.0)"
   ]
  },
  {
   "cell_type": "code",
   "execution_count": 4,
   "id": "3733292e",
   "metadata": {},
   "outputs": [
    {
     "data": {
      "text/plain": [
       "TtestResult(statistic=0.6236095710595042, pvalue=0.5343182132984923, df=99)"
      ]
     },
     "execution_count": 4,
     "metadata": {},
     "output_type": "execute_result"
    }
   ],
   "source": [
    "stats.ttest_1samp(random_normal, 5.0)"
   ]
  },
  {
   "cell_type": "code",
   "execution_count": 5,
   "id": "0a0eb9b9",
   "metadata": {},
   "outputs": [
    {
     "data": {
      "text/plain": [
       "BinomTestResult(k=20, n=80, alternative='two-sided', statistic=0.25, pvalue=8.580559867049611e-06)"
      ]
     },
     "execution_count": 5,
     "metadata": {},
     "output_type": "execute_result"
    }
   ],
   "source": [
    "stats.binomtest(k=sum(random_bin), n=(len(random_bin) - sum(random_bin)), p=0.5)"
   ]
  },
  {
   "cell_type": "code",
   "execution_count": 6,
   "id": "a486a33d",
   "metadata": {},
   "outputs": [
    {
     "data": {
      "text/plain": [
       "BinomTestResult(k=20, n=80, alternative='two-sided', statistic=0.25, pvalue=0.26401278555340046)"
      ]
     },
     "execution_count": 6,
     "metadata": {},
     "output_type": "execute_result"
    }
   ],
   "source": [
    "stats.binomtest(k=sum(random_bin), n=(len(random_bin) - sum(random_bin)), p=0.2)"
   ]
  },
  {
   "cell_type": "code",
   "execution_count": 7,
   "id": "6c50069c",
   "metadata": {},
   "outputs": [],
   "source": [
    "random_normal_5 = np.random.normal(5, 2, 100)\n",
    "random_normal_false = np.random.normal(7, 2, 100)"
   ]
  },
  {
   "cell_type": "code",
   "execution_count": 9,
   "id": "d95343a0",
   "metadata": {},
   "outputs": [
    {
     "name": "stdout",
     "output_type": "stream",
     "text": [
      "TtestResult(statistic=-1.109776693013421, pvalue=0.2684412714449198, df=198.0)\n",
      "TtestResult(statistic=7.56418694452888, pvalue=1.4333446457467145e-12, df=198.0)\n"
     ]
    }
   ],
   "source": [
    "print(stats.ttest_ind(random_normal_5, random_normal))\n",
    "print(stats.ttest_ind(random_normal_false, random_normal))"
   ]
  },
  {
   "cell_type": "code",
   "execution_count": 10,
   "id": "de22b46a",
   "metadata": {},
   "outputs": [],
   "source": [
    "from statsmodels.stats.proportion import proportions_ztest"
   ]
  },
  {
   "cell_type": "code",
   "execution_count": 11,
   "id": "2c261148",
   "metadata": {},
   "outputs": [],
   "source": [
    "random_bin_2 = np.random.choice([0, 1], size=(100,), p=[0.8, 0.2])\n",
    "random_bin_false = np.random.choice([0, 1], size=(100,), p=[0.6, 0.4])"
   ]
  },
  {
   "cell_type": "code",
   "execution_count": 13,
   "id": "6667b7d5",
   "metadata": {},
   "outputs": [
    {
     "name": "stdout",
     "output_type": "stream",
     "text": [
      "(-0.5163595320566151, 0.6056033242983083)\n",
      "(-2.5197631533948477, 0.011743382301172597)\n"
     ]
    }
   ],
   "source": [
    "print(proportions_ztest(count=[sum(random_bin), sum(random_bin_2)], nobs=[len(random_bin), len(random_bin_2)]))\n",
    "print(proportions_ztest(count=[sum(random_bin), sum(random_bin_false)], nobs=[len(random_bin), len(random_bin_false)]))"
   ]
  },
  {
   "cell_type": "code",
   "execution_count": 14,
   "id": "f3fa824c",
   "metadata": {},
   "outputs": [],
   "source": [
    "np.random.seed(13)\n",
    "random_bin = np.random.choice([0, 1], size=(100,), p=[0.7, 0.3])"
   ]
  },
  {
   "cell_type": "code",
   "execution_count": 15,
   "id": "bc4adad2",
   "metadata": {},
   "outputs": [
    {
     "data": {
      "text/plain": [
       "BinomTestResult(k=28, n=72, alternative='two-sided', statistic=0.3888888888888889, pvalue=8.793398454917675e-11)"
      ]
     },
     "execution_count": 15,
     "metadata": {},
     "output_type": "execute_result"
    }
   ],
   "source": [
    "stats.binomtest(k=sum(random_bin), n=(len(random_bin) - sum(random_bin)), p=0.1)"
   ]
  },
  {
   "cell_type": "code",
   "execution_count": 19,
   "id": "59009399",
   "metadata": {},
   "outputs": [],
   "source": [
    "np.random.seed(21)\n",
    "random_normal = np.random.normal(18, 20, 100)"
   ]
  },
  {
   "cell_type": "code",
   "execution_count": 20,
   "id": "a6a5f31b",
   "metadata": {},
   "outputs": [
    {
     "data": {
      "text/plain": [
       "TtestResult(statistic=7.974042103707906, pvalue=2.7279794218267574e-12, df=99)"
      ]
     },
     "execution_count": 20,
     "metadata": {},
     "output_type": "execute_result"
    }
   ],
   "source": [
    "stats.ttest_1samp(random_normal, 3)"
   ]
  },
  {
   "cell_type": "code",
   "execution_count": 21,
   "id": "e3549b17",
   "metadata": {},
   "outputs": [],
   "source": [
    "np.random.seed(21)\n",
    "random_normal = np.random.normal(18, 20, 10)"
   ]
  },
  {
   "cell_type": "code",
   "execution_count": 22,
   "id": "40955f6d",
   "metadata": {},
   "outputs": [
    {
     "data": {
      "text/plain": [
       "TtestResult(statistic=1.6748822466424405, pvalue=0.12827924668031368, df=9)"
      ]
     },
     "execution_count": 22,
     "metadata": {},
     "output_type": "execute_result"
    }
   ],
   "source": [
    "stats.ttest_1samp(random_normal, 7)"
   ]
  },
  {
   "cell_type": "markdown",
   "id": "78586ce7",
   "metadata": {},
   "source": [
    "7. Тесты на нормальность. Практика"
   ]
  },
  {
   "cell_type": "code",
   "execution_count": 1,
   "id": "264783f5",
   "metadata": {},
   "outputs": [],
   "source": [
    "import numpy as np\n",
    "from scipy import stats\n",
    "\n",
    "np.random.seed(13)\n",
    "random_normal = np.random.normal(5, 2, 100)\n",
    "random_uniform = np.random.uniform(0, 1, 100)"
   ]
  },
  {
   "cell_type": "code",
   "execution_count": 3,
   "id": "52e83289",
   "metadata": {},
   "outputs": [
    {
     "name": "stdout",
     "output_type": "stream",
     "text": [
      "ShapiroResult(statistic=0.9897643468746817, pvalue=0.6455599791405382)\n",
      "ShapiroResult(statistic=0.9223205486897722, pvalue=1.8727311444297305e-05)\n"
     ]
    }
   ],
   "source": [
    "print(stats.shapiro(random_normal))\n",
    "print(stats.shapiro(random_uniform))"
   ]
  },
  {
   "cell_type": "code",
   "execution_count": 4,
   "id": "d246f9b4",
   "metadata": {},
   "outputs": [
    {
     "name": "stdout",
     "output_type": "stream",
     "text": [
      "KstestResult(statistic=0.933371471007256, pvalue=4.646377515900967e-118, statistic_location=2.476788109361862, statistic_sign=-1)\n",
      "KstestResult(statistic=0.5039276991503323, pvalue=4.9262358819103416e-24, statistic_location=0.00984544079968852, statistic_sign=-1)\n"
     ]
    }
   ],
   "source": [
    "print(stats.kstest(random_normal, 'norm'))\n",
    "print(stats.kstest(random_uniform, 'norm'))"
   ]
  },
  {
   "cell_type": "code",
   "execution_count": 5,
   "id": "4f963389",
   "metadata": {},
   "outputs": [
    {
     "data": {
      "text/plain": [
       "KstestResult(statistic=0.06562034353090856, pvalue=0.7572142037683822, statistic_location=-0.40053934145643744, statistic_sign=1)"
      ]
     },
     "execution_count": 5,
     "metadata": {},
     "output_type": "execute_result"
    }
   ],
   "source": [
    "stats.kstest((random_normal - np.mean(random_normal)) / np.std(random_normal), 'norm')"
   ]
  },
  {
   "cell_type": "markdown",
   "id": "5eeaa95a",
   "metadata": {},
   "source": [
    "Задание 7.1\n",
    "1 point possible (graded)\n",
    "Чему равно p_value проверки на нормальность данных, сгенерированных следующим образом, тестом Шапиро-Уилка? Ответ округлите до второго знака после запятой."
   ]
  },
  {
   "cell_type": "code",
   "execution_count": 6,
   "id": "30b94769",
   "metadata": {},
   "outputs": [
    {
     "name": "stdout",
     "output_type": "stream",
     "text": [
      "ShapiroResult(statistic=0.9548438589729802, pvalue=0.7258625093629594)\n"
     ]
    }
   ],
   "source": [
    "np.random.seed(2)\n",
    "random_normal = np.random.normal(2, 4, 10)\n",
    "print(stats.shapiro(random_normal))"
   ]
  },
  {
   "cell_type": "markdown",
   "id": "114355d7",
   "metadata": {},
   "source": [
    "Задание 7.2\n",
    "1 point possible (graded)\n",
    "Чему равно p_value проверки на нормальность данных, сгенерированных следующим образом, тестом Колмогорова-Смирнова без нормализации? Ответ округлите до второго знака после запятой."
   ]
  },
  {
   "cell_type": "code",
   "execution_count": 7,
   "id": "0fff934e",
   "metadata": {},
   "outputs": [
    {
     "name": "stdout",
     "output_type": "stream",
     "text": [
      "KstestResult(statistic=0.514185695796664, pvalue=0.005575825333255893, statistic_location=-1.366989462624816, statistic_sign=1)\n"
     ]
    }
   ],
   "source": [
    "np.random.seed(2)\n",
    "random_normal = np.random.normal(2, 4, 10)\n",
    "print(stats.kstest(random_normal, 'norm'))"
   ]
  },
  {
   "cell_type": "markdown",
   "id": "82a7db36",
   "metadata": {},
   "source": [
    "Задание 7.3\n",
    "1 point possible (graded)\n",
    "Чему равно p_value проверки на нормальность данных, сгенерированных следующим образом, тестом Колмогорова-Смирнова с нормализацией? Ответ округлите до второго знака после запятой."
   ]
  },
  {
   "cell_type": "code",
   "execution_count": 8,
   "id": "8060d71e",
   "metadata": {},
   "outputs": [
    {
     "data": {
      "text/plain": [
       "KstestResult(statistic=0.17907654022324243, pvalue=0.8514658527102467, statistic_location=-0.19953160960160207, statistic_sign=1)"
      ]
     },
     "execution_count": 8,
     "metadata": {},
     "output_type": "execute_result"
    }
   ],
   "source": [
    "np.random.seed(2)\n",
    "random_normal = np.random.normal(2, 4, 10)\n",
    "stats.kstest((random_normal - np.mean(random_normal)) / np.std(random_normal), 'norm')"
   ]
  }
 ],
 "metadata": {
  "kernelspec": {
   "display_name": ".venv",
   "language": "python",
   "name": "python3"
  },
  "language_info": {
   "codemirror_mode": {
    "name": "ipython",
    "version": 3
   },
   "file_extension": ".py",
   "mimetype": "text/x-python",
   "name": "python",
   "nbconvert_exporter": "python",
   "pygments_lexer": "ipython3",
   "version": "3.11.7"
  }
 },
 "nbformat": 4,
 "nbformat_minor": 5
}
