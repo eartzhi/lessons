{
 "cells": [
  {
   "cell_type": "code",
   "execution_count": 1,
   "metadata": {},
   "outputs": [
    {
     "name": "stdout",
     "output_type": "stream",
     "text": [
      "8*a**7 + 5*b - cos(c)\n"
     ]
    }
   ],
   "source": [
    "from sympy import symbols, cos, diff\n",
    "\n",
    "a, b, c = symbols('a b c', real=True)\n",
    "f = 5*a*b - a*cos(c) + a**8 + c**2*b\n",
    "\n",
    "print(diff(f, a))"
   ]
  }
 ],
 "metadata": {
  "kernelspec": {
   "display_name": ".venv",
   "language": "python",
   "name": "python3"
  },
  "language_info": {
   "codemirror_mode": {
    "name": "ipython",
    "version": 3
   },
   "file_extension": ".py",
   "mimetype": "text/x-python",
   "name": "python",
   "nbconvert_exporter": "python",
   "pygments_lexer": "ipython3",
   "version": "3.11.7"
  }
 },
 "nbformat": 4,
 "nbformat_minor": 2
}
