{
 "cells": [
  {
   "cell_type": "code",
   "execution_count": 22,
   "id": "09493c23",
   "metadata": {},
   "outputs": [],
   "source": [
    "import requests"
   ]
  },
  {
   "cell_type": "markdown",
   "id": "81a1daca",
   "metadata": {},
   "source": [
    "3. Протокол HTTP. Практика"
   ]
  },
  {
   "cell_type": "code",
   "execution_count": 23,
   "id": "35def5c0",
   "metadata": {},
   "outputs": [
    {
     "data": {
      "text/plain": [
       "{'people': [{'craft': 'ISS', 'name': 'Oleg Kononenko'},\n",
       "  {'craft': 'ISS', 'name': 'Nikolai Chub'},\n",
       "  {'craft': 'ISS', 'name': 'Tracy Caldwell Dyson'},\n",
       "  {'craft': 'ISS', 'name': 'Matthew Dominick'},\n",
       "  {'craft': 'ISS', 'name': 'Michael Barratt'},\n",
       "  {'craft': 'ISS', 'name': 'Jeanette Epps'},\n",
       "  {'craft': 'ISS', 'name': 'Alexander Grebenkin'},\n",
       "  {'craft': 'ISS', 'name': 'Butch Wilmore'},\n",
       "  {'craft': 'ISS', 'name': 'Sunita Williams'},\n",
       "  {'craft': 'Tiangong', 'name': 'Li Guangsu'},\n",
       "  {'craft': 'Tiangong', 'name': 'Li Cong'},\n",
       "  {'craft': 'Tiangong', 'name': 'Ye Guangfu'}],\n",
       " 'number': 12,\n",
       " 'message': 'success'}"
      ]
     },
     "execution_count": 23,
     "metadata": {},
     "output_type": "execute_result"
    }
   ],
   "source": [
    "response = requests.get('http://api.open-notify.org/astros.json')\n",
    "response.json()"
   ]
  },
  {
   "cell_type": "code",
   "execution_count": 24,
   "id": "5b039b64",
   "metadata": {},
   "outputs": [
    {
     "data": {
      "text/plain": [
       "<Response [404]>"
      ]
     },
     "execution_count": 24,
     "metadata": {},
     "output_type": "execute_result"
    }
   ],
   "source": [
    "response = requests.post('https://domain.ru/rest/1/854984lkjdsijd432/crm.deal.list')\n",
    "response"
   ]
  },
  {
   "cell_type": "code",
   "execution_count": 25,
   "id": "e1ae9756",
   "metadata": {},
   "outputs": [
    {
     "data": {
      "text/plain": [
       "b'{\\n  \"args\": {}, \\n  \"data\": \"\", \\n  \"files\": {}, \\n  \"form\": {\\n    \"test\": \"cheers\"\\n  }, \\n  \"headers\": {\\n    \"Accept\": \"*/*\", \\n    \"Accept-Encoding\": \"gzip, deflate\", \\n    \"Content-Length\": \"11\", \\n    \"Content-Type\": \"application/x-www-form-urlencoded\", \\n    \"Host\": \"httpbin.org\", \\n    \"User-Agent\": \"python-requests/2.32.3\", \\n    \"X-Amzn-Trace-Id\": \"Root=1-686f995a-2bd037ee363f171e362e8611\"\\n  }, \\n  \"json\": null, \\n  \"origin\": \"128.204.79.41\", \\n  \"url\": \"http://httpbin.org/post\"\\n}\\n'"
      ]
     },
     "execution_count": 25,
     "metadata": {},
     "output_type": "execute_result"
    }
   ],
   "source": [
    "data = {'test': 'cheers'}\n",
    "response = requests.post('http://httpbin.org/post', data=data)\n",
    "response.content"
   ]
  },
  {
   "cell_type": "code",
   "execution_count": 26,
   "id": "e74dee34",
   "metadata": {},
   "outputs": [
    {
     "data": {
      "text/plain": [
       "{'args': {},\n",
       " 'data': '',\n",
       " 'files': {},\n",
       " 'form': {'name': 'skillFactory student'},\n",
       " 'headers': {'Accept': '*/*',\n",
       "  'Accept-Encoding': 'gzip, deflate',\n",
       "  'Content-Length': '25',\n",
       "  'Content-Type': 'application/x-www-form-urlencoded',\n",
       "  'Host': 'httpbin.org',\n",
       "  'User-Agent': 'python-requests/2.32.3',\n",
       "  'X-Amzn-Trace-Id': 'Root=1-686f995b-0bf060f8048fbdd15e2ce092'},\n",
       " 'json': None,\n",
       " 'origin': '128.204.79.41',\n",
       " 'url': 'https://httpbin.org/put'}"
      ]
     },
     "execution_count": 26,
     "metadata": {},
     "output_type": "execute_result"
    }
   ],
   "source": [
    "data = {'name':'skillFactory student'}\n",
    "response = requests.put('https://httpbin.org/put', data=data)\n",
    "response.json()"
   ]
  },
  {
   "cell_type": "code",
   "execution_count": 27,
   "id": "a9ba034d",
   "metadata": {},
   "outputs": [
    {
     "data": {
      "text/plain": [
       "{'args': {},\n",
       " 'data': '',\n",
       " 'files': {},\n",
       " 'form': {'name': 'skillFactory student'},\n",
       " 'headers': {'Accept': '*/*',\n",
       "  'Accept-Encoding': 'gzip, deflate',\n",
       "  'Content-Length': '25',\n",
       "  'Content-Type': 'application/x-www-form-urlencoded',\n",
       "  'Host': 'httpbin.org',\n",
       "  'User-Agent': 'python-requests/2.32.3',\n",
       "  'X-Amzn-Trace-Id': 'Root=1-686f995c-39aa01f562b2f79b1f0af04e'},\n",
       " 'json': None,\n",
       " 'origin': '128.204.79.41',\n",
       " 'url': 'https://httpbin.org/delete'}"
      ]
     },
     "execution_count": 27,
     "metadata": {},
     "output_type": "execute_result"
    }
   ],
   "source": [
    "data = {'name':'skillFactory student'}\n",
    "response = requests.delete('https://httpbin.org/delete', data=data)\n",
    "response.json()"
   ]
  }
 ],
 "metadata": {
  "kernelspec": {
   "display_name": ".venv",
   "language": "python",
   "name": "python3"
  },
  "language_info": {
   "codemirror_mode": {
    "name": "ipython",
    "version": 3
   },
   "file_extension": ".py",
   "mimetype": "text/x-python",
   "name": "python",
   "nbconvert_exporter": "python",
   "pygments_lexer": "ipython3",
   "version": "3.11.7"
  }
 },
 "nbformat": 4,
 "nbformat_minor": 5
}
