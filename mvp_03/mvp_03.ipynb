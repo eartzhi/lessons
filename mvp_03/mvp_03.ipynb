{
 "cells": [
  {
   "cell_type": "code",
   "execution_count": 1,
   "id": "e5c461d3",
   "metadata": {},
   "outputs": [],
   "source": [
    "import pandas as pd\n",
    "import numpy as np\n",
    "\n",
    "data = pd.read_csv(\"data/free_throws.csv\")"
   ]
  },
  {
   "cell_type": "code",
   "execution_count": 2,
   "id": "62cc5dbf",
   "metadata": {},
   "outputs": [
    {
     "data": {
      "text/html": [
       "<div>\n",
       "<style scoped>\n",
       "    .dataframe tbody tr th:only-of-type {\n",
       "        vertical-align: middle;\n",
       "    }\n",
       "\n",
       "    .dataframe tbody tr th {\n",
       "        vertical-align: top;\n",
       "    }\n",
       "\n",
       "    .dataframe thead th {\n",
       "        text-align: right;\n",
       "    }\n",
       "</style>\n",
       "<table border=\"1\" class=\"dataframe\">\n",
       "  <thead>\n",
       "    <tr style=\"text-align: right;\">\n",
       "      <th></th>\n",
       "      <th>end_result</th>\n",
       "      <th>game</th>\n",
       "      <th>game_id</th>\n",
       "      <th>period</th>\n",
       "      <th>play</th>\n",
       "      <th>player</th>\n",
       "      <th>playoffs</th>\n",
       "      <th>score</th>\n",
       "      <th>season</th>\n",
       "      <th>shot_made</th>\n",
       "      <th>time</th>\n",
       "    </tr>\n",
       "  </thead>\n",
       "  <tbody>\n",
       "    <tr>\n",
       "      <th>0</th>\n",
       "      <td>106 - 114</td>\n",
       "      <td>PHX - LAL</td>\n",
       "      <td>261031013.0</td>\n",
       "      <td>1.0</td>\n",
       "      <td>Andrew Bynum makes free throw 1 of 2</td>\n",
       "      <td>Andrew Bynum</td>\n",
       "      <td>regular</td>\n",
       "      <td>0 - 1</td>\n",
       "      <td>2006 - 2007</td>\n",
       "      <td>1</td>\n",
       "      <td>11:45</td>\n",
       "    </tr>\n",
       "    <tr>\n",
       "      <th>1</th>\n",
       "      <td>106 - 114</td>\n",
       "      <td>PHX - LAL</td>\n",
       "      <td>261031013.0</td>\n",
       "      <td>1.0</td>\n",
       "      <td>Andrew Bynum makes free throw 2 of 2</td>\n",
       "      <td>Andrew Bynum</td>\n",
       "      <td>regular</td>\n",
       "      <td>0 - 2</td>\n",
       "      <td>2006 - 2007</td>\n",
       "      <td>1</td>\n",
       "      <td>11:45</td>\n",
       "    </tr>\n",
       "    <tr>\n",
       "      <th>2</th>\n",
       "      <td>106 - 114</td>\n",
       "      <td>PHX - LAL</td>\n",
       "      <td>261031013.0</td>\n",
       "      <td>1.0</td>\n",
       "      <td>Andrew Bynum makes free throw 1 of 2</td>\n",
       "      <td>Andrew Bynum</td>\n",
       "      <td>regular</td>\n",
       "      <td>18 - 12</td>\n",
       "      <td>2006 - 2007</td>\n",
       "      <td>1</td>\n",
       "      <td>7:26</td>\n",
       "    </tr>\n",
       "    <tr>\n",
       "      <th>3</th>\n",
       "      <td>106 - 114</td>\n",
       "      <td>PHX - LAL</td>\n",
       "      <td>261031013.0</td>\n",
       "      <td>1.0</td>\n",
       "      <td>Andrew Bynum misses free throw 2 of 2</td>\n",
       "      <td>Andrew Bynum</td>\n",
       "      <td>regular</td>\n",
       "      <td>18 - 12</td>\n",
       "      <td>2006 - 2007</td>\n",
       "      <td>0</td>\n",
       "      <td>7:26</td>\n",
       "    </tr>\n",
       "    <tr>\n",
       "      <th>4</th>\n",
       "      <td>106 - 114</td>\n",
       "      <td>PHX - LAL</td>\n",
       "      <td>261031013.0</td>\n",
       "      <td>1.0</td>\n",
       "      <td>Shawn Marion makes free throw 1 of 1</td>\n",
       "      <td>Shawn Marion</td>\n",
       "      <td>regular</td>\n",
       "      <td>21 - 12</td>\n",
       "      <td>2006 - 2007</td>\n",
       "      <td>1</td>\n",
       "      <td>7:18</td>\n",
       "    </tr>\n",
       "  </tbody>\n",
       "</table>\n",
       "</div>"
      ],
      "text/plain": [
       "  end_result       game      game_id  period  \\\n",
       "0  106 - 114  PHX - LAL  261031013.0     1.0   \n",
       "1  106 - 114  PHX - LAL  261031013.0     1.0   \n",
       "2  106 - 114  PHX - LAL  261031013.0     1.0   \n",
       "3  106 - 114  PHX - LAL  261031013.0     1.0   \n",
       "4  106 - 114  PHX - LAL  261031013.0     1.0   \n",
       "\n",
       "                                    play        player playoffs    score  \\\n",
       "0   Andrew Bynum makes free throw 1 of 2  Andrew Bynum  regular    0 - 1   \n",
       "1   Andrew Bynum makes free throw 2 of 2  Andrew Bynum  regular    0 - 2   \n",
       "2   Andrew Bynum makes free throw 1 of 2  Andrew Bynum  regular  18 - 12   \n",
       "3  Andrew Bynum misses free throw 2 of 2  Andrew Bynum  regular  18 - 12   \n",
       "4   Shawn Marion makes free throw 1 of 1  Shawn Marion  regular  21 - 12   \n",
       "\n",
       "        season  shot_made   time  \n",
       "0  2006 - 2007          1  11:45  \n",
       "1  2006 - 2007          1  11:45  \n",
       "2  2006 - 2007          1   7:26  \n",
       "3  2006 - 2007          0   7:26  \n",
       "4  2006 - 2007          1   7:18  "
      ]
     },
     "execution_count": 2,
     "metadata": {},
     "output_type": "execute_result"
    }
   ],
   "source": [
    "data.head()"
   ]
  },
  {
   "cell_type": "code",
   "execution_count": 3,
   "id": "554fcac9",
   "metadata": {},
   "outputs": [],
   "source": [
    "from statsmodels.stats.weightstats import ztest\n",
    "\n",
    "new_df = {\n",
    "    \"player\": [],\n",
    "    \"regular_mean\": [],\n",
    "    \"playoff_mean\": [],\n",
    "    \"p_value\": []\n",
    "}\n",
    "\n",
    "for player, group in data.groupby(\"player\"):\n",
    "    regular_shots = group[group[\"playoffs\"] == \"regular\"][\"shot_made\"].values\n",
    "    playoff_shots = group[group[\"playoffs\"] == \"playoffs\"][\"shot_made\"].values\n",
    "    \n",
    "    if len(regular_shots) < 30 or len(playoff_shots) < 30:\n",
    "        continue\n",
    "        \n",
    "    statistic, p_value = ztest(regular_shots, playoff_shots)\n",
    "\n",
    "    new_df[\"player\"].append(player)\n",
    "    new_df[\"regular_mean\"].append(np.mean(regular_shots))\n",
    "    new_df[\"playoff_mean\"].append(np.mean(playoff_shots))\n",
    "    new_df[\"p_value\"].append(p_value)\n",
    "    \n",
    "new_df = pd.DataFrame(new_df)"
   ]
  },
  {
   "cell_type": "code",
   "execution_count": 6,
   "id": "2dc84b38",
   "metadata": {},
   "outputs": [
    {
     "data": {
      "text/html": [
       "<div>\n",
       "<style scoped>\n",
       "    .dataframe tbody tr th:only-of-type {\n",
       "        vertical-align: middle;\n",
       "    }\n",
       "\n",
       "    .dataframe tbody tr th {\n",
       "        vertical-align: top;\n",
       "    }\n",
       "\n",
       "    .dataframe thead th {\n",
       "        text-align: right;\n",
       "    }\n",
       "</style>\n",
       "<table border=\"1\" class=\"dataframe\">\n",
       "  <thead>\n",
       "    <tr style=\"text-align: right;\">\n",
       "      <th></th>\n",
       "      <th>player</th>\n",
       "      <th>regular_mean</th>\n",
       "      <th>playoff_mean</th>\n",
       "      <th>p_value</th>\n",
       "    </tr>\n",
       "  </thead>\n",
       "  <tbody>\n",
       "    <tr>\n",
       "      <th>246</th>\n",
       "      <td>Thaddeus Young</td>\n",
       "      <td>0.687540</td>\n",
       "      <td>0.680000</td>\n",
       "      <td>0.890658</td>\n",
       "    </tr>\n",
       "    <tr>\n",
       "      <th>212</th>\n",
       "      <td>Ray Allen</td>\n",
       "      <td>0.908102</td>\n",
       "      <td>0.882353</td>\n",
       "      <td>0.121483</td>\n",
       "    </tr>\n",
       "    <tr>\n",
       "      <th>53</th>\n",
       "      <td>Dahntay Jones</td>\n",
       "      <td>0.768903</td>\n",
       "      <td>0.818182</td>\n",
       "      <td>0.356507</td>\n",
       "    </tr>\n",
       "    <tr>\n",
       "      <th>102</th>\n",
       "      <td>JaVale McGee</td>\n",
       "      <td>0.583244</td>\n",
       "      <td>0.460000</td>\n",
       "      <td>0.085569</td>\n",
       "    </tr>\n",
       "    <tr>\n",
       "      <th>220</th>\n",
       "      <td>Ron Artest</td>\n",
       "      <td>0.724084</td>\n",
       "      <td>0.666667</td>\n",
       "      <td>0.248274</td>\n",
       "    </tr>\n",
       "    <tr>\n",
       "      <th>216</th>\n",
       "      <td>Richard Hamilton</td>\n",
       "      <td>0.847518</td>\n",
       "      <td>0.880531</td>\n",
       "      <td>0.194402</td>\n",
       "    </tr>\n",
       "    <tr>\n",
       "      <th>92</th>\n",
       "      <td>Goran Dragic</td>\n",
       "      <td>0.748666</td>\n",
       "      <td>0.756757</td>\n",
       "      <td>0.875230</td>\n",
       "    </tr>\n",
       "    <tr>\n",
       "      <th>167</th>\n",
       "      <td>Marc Gasol</td>\n",
       "      <td>0.763441</td>\n",
       "      <td>0.792049</td>\n",
       "      <td>0.249039</td>\n",
       "    </tr>\n",
       "    <tr>\n",
       "      <th>1</th>\n",
       "      <td>Al Harrington</td>\n",
       "      <td>0.744727</td>\n",
       "      <td>0.660714</td>\n",
       "      <td>0.159277</td>\n",
       "    </tr>\n",
       "    <tr>\n",
       "      <th>37</th>\n",
       "      <td>C.J. Miles</td>\n",
       "      <td>0.799242</td>\n",
       "      <td>0.854167</td>\n",
       "      <td>0.350927</td>\n",
       "    </tr>\n",
       "  </tbody>\n",
       "</table>\n",
       "</div>"
      ],
      "text/plain": [
       "               player  regular_mean  playoff_mean   p_value\n",
       "246    Thaddeus Young      0.687540      0.680000  0.890658\n",
       "212         Ray Allen      0.908102      0.882353  0.121483\n",
       "53      Dahntay Jones      0.768903      0.818182  0.356507\n",
       "102      JaVale McGee      0.583244      0.460000  0.085569\n",
       "220        Ron Artest      0.724084      0.666667  0.248274\n",
       "216  Richard Hamilton      0.847518      0.880531  0.194402\n",
       "92       Goran Dragic      0.748666      0.756757  0.875230\n",
       "167        Marc Gasol      0.763441      0.792049  0.249039\n",
       "1       Al Harrington      0.744727      0.660714  0.159277\n",
       "37         C.J. Miles      0.799242      0.854167  0.350927"
      ]
     },
     "execution_count": 6,
     "metadata": {},
     "output_type": "execute_result"
    }
   ],
   "source": [
    "new_df.sample(10)"
   ]
  },
  {
   "cell_type": "code",
   "execution_count": 7,
   "id": "7a1fabf4",
   "metadata": {},
   "outputs": [
    {
     "data": {
      "text/plain": [
       "(22, 4)"
      ]
     },
     "execution_count": 7,
     "metadata": {},
     "output_type": "execute_result"
    }
   ],
   "source": [
    "new_df[new_df.p_value <= 0.05].shape"
   ]
  },
  {
   "cell_type": "code",
   "execution_count": 8,
   "id": "5bcc9601",
   "metadata": {},
   "outputs": [],
   "source": [
    "from statsmodels.stats.multitest import multipletests"
   ]
  },
  {
   "cell_type": "code",
   "execution_count": 9,
   "id": "b9d74797",
   "metadata": {},
   "outputs": [
    {
     "data": {
      "text/plain": [
       "1"
      ]
     },
     "execution_count": 9,
     "metadata": {},
     "output_type": "execute_result"
    }
   ],
   "source": [
    "multipletests(new_df.p_value, alpha=0.05, method='bonferroni')[0].sum()"
   ]
  },
  {
   "cell_type": "code",
   "execution_count": 10,
   "id": "a3f4741e",
   "metadata": {},
   "outputs": [
    {
     "data": {
      "text/plain": [
       "1"
      ]
     },
     "execution_count": 10,
     "metadata": {},
     "output_type": "execute_result"
    }
   ],
   "source": [
    "multipletests(new_df.p_value, alpha=0.05, method='holm')[0].sum()"
   ]
  }
 ],
 "metadata": {
  "kernelspec": {
   "display_name": ".venv",
   "language": "python",
   "name": "python3"
  },
  "language_info": {
   "codemirror_mode": {
    "name": "ipython",
    "version": 3
   },
   "file_extension": ".py",
   "mimetype": "text/x-python",
   "name": "python",
   "nbconvert_exporter": "python",
   "pygments_lexer": "ipython3",
   "version": "3.11.7"
  }
 },
 "nbformat": 4,
 "nbformat_minor": 5
}
