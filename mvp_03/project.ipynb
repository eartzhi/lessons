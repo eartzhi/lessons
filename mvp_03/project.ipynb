{
 "cells": [
  {
   "cell_type": "code",
   "execution_count": 330,
   "id": "cf4bb3f4",
   "metadata": {},
   "outputs": [],
   "source": [
    "import pandas as pd\n",
    "import numpy as np\n"
   ]
  },
  {
   "cell_type": "markdown",
   "id": "a5a2feb0",
   "metadata": {},
   "source": [
    "## 1. Импорт и  первичный анализ данных"
   ]
  },
  {
   "cell_type": "code",
   "execution_count": 331,
   "id": "e8f100a6",
   "metadata": {},
   "outputs": [
    {
     "data": {
      "text/html": [
       "<div>\n",
       "<style scoped>\n",
       "    .dataframe tbody tr th:only-of-type {\n",
       "        vertical-align: middle;\n",
       "    }\n",
       "\n",
       "    .dataframe tbody tr th {\n",
       "        vertical-align: top;\n",
       "    }\n",
       "\n",
       "    .dataframe thead th {\n",
       "        text-align: right;\n",
       "    }\n",
       "</style>\n",
       "<table border=\"1\" class=\"dataframe\">\n",
       "  <thead>\n",
       "    <tr style=\"text-align: right;\">\n",
       "      <th></th>\n",
       "      <th>user_id</th>\n",
       "      <th>item_id</th>\n",
       "      <th>action_id</th>\n",
       "    </tr>\n",
       "  </thead>\n",
       "  <tbody>\n",
       "    <tr>\n",
       "      <th>0</th>\n",
       "      <td>84636</td>\n",
       "      <td>360</td>\n",
       "      <td>1</td>\n",
       "    </tr>\n",
       "    <tr>\n",
       "      <th>1</th>\n",
       "      <td>21217</td>\n",
       "      <td>9635</td>\n",
       "      <td>1</td>\n",
       "    </tr>\n",
       "    <tr>\n",
       "      <th>2</th>\n",
       "      <td>13445</td>\n",
       "      <td>8590</td>\n",
       "      <td>1</td>\n",
       "    </tr>\n",
       "    <tr>\n",
       "      <th>3</th>\n",
       "      <td>38450</td>\n",
       "      <td>5585</td>\n",
       "      <td>1</td>\n",
       "    </tr>\n",
       "    <tr>\n",
       "      <th>4</th>\n",
       "      <td>14160</td>\n",
       "      <td>2383</td>\n",
       "      <td>0</td>\n",
       "    </tr>\n",
       "  </tbody>\n",
       "</table>\n",
       "</div>"
      ],
      "text/plain": [
       "   user_id  item_id  action_id\n",
       "0    84636      360          1\n",
       "1    21217     9635          1\n",
       "2    13445     8590          1\n",
       "3    38450     5585          1\n",
       "4    14160     2383          0"
      ]
     },
     "metadata": {},
     "output_type": "display_data"
    },
    {
     "data": {
      "text/html": [
       "<div>\n",
       "<style scoped>\n",
       "    .dataframe tbody tr th:only-of-type {\n",
       "        vertical-align: middle;\n",
       "    }\n",
       "\n",
       "    .dataframe tbody tr th {\n",
       "        vertical-align: top;\n",
       "    }\n",
       "\n",
       "    .dataframe thead th {\n",
       "        text-align: right;\n",
       "    }\n",
       "</style>\n",
       "<table border=\"1\" class=\"dataframe\">\n",
       "  <thead>\n",
       "    <tr style=\"text-align: right;\">\n",
       "      <th></th>\n",
       "      <th>user_id</th>\n",
       "      <th>item_id</th>\n",
       "      <th>action_id</th>\n",
       "    </tr>\n",
       "  </thead>\n",
       "  <tbody>\n",
       "    <tr>\n",
       "      <th>0</th>\n",
       "      <td>118375</td>\n",
       "      <td>4105</td>\n",
       "      <td>1</td>\n",
       "    </tr>\n",
       "    <tr>\n",
       "      <th>1</th>\n",
       "      <td>107569</td>\n",
       "      <td>8204</td>\n",
       "      <td>1</td>\n",
       "    </tr>\n",
       "    <tr>\n",
       "      <th>2</th>\n",
       "      <td>175990</td>\n",
       "      <td>880</td>\n",
       "      <td>1</td>\n",
       "    </tr>\n",
       "    <tr>\n",
       "      <th>3</th>\n",
       "      <td>160582</td>\n",
       "      <td>9568</td>\n",
       "      <td>0</td>\n",
       "    </tr>\n",
       "    <tr>\n",
       "      <th>4</th>\n",
       "      <td>123400</td>\n",
       "      <td>4000</td>\n",
       "      <td>1</td>\n",
       "    </tr>\n",
       "  </tbody>\n",
       "</table>\n",
       "</div>"
      ],
      "text/plain": [
       "   user_id  item_id  action_id\n",
       "0   118375     4105          1\n",
       "1   107569     8204          1\n",
       "2   175990      880          1\n",
       "3   160582     9568          0\n",
       "4   123400     4000          1"
      ]
     },
     "metadata": {},
     "output_type": "display_data"
    },
    {
     "data": {
      "text/html": [
       "<div>\n",
       "<style scoped>\n",
       "    .dataframe tbody tr th:only-of-type {\n",
       "        vertical-align: middle;\n",
       "    }\n",
       "\n",
       "    .dataframe tbody tr th {\n",
       "        vertical-align: top;\n",
       "    }\n",
       "\n",
       "    .dataframe thead th {\n",
       "        text-align: right;\n",
       "    }\n",
       "</style>\n",
       "<table border=\"1\" class=\"dataframe\">\n",
       "  <thead>\n",
       "    <tr style=\"text-align: right;\">\n",
       "      <th></th>\n",
       "      <th>user_id</th>\n",
       "      <th>item_id</th>\n",
       "      <th>action_id</th>\n",
       "    </tr>\n",
       "  </thead>\n",
       "  <tbody>\n",
       "    <tr>\n",
       "      <th>0</th>\n",
       "      <td>274623</td>\n",
       "      <td>2863</td>\n",
       "      <td>1</td>\n",
       "    </tr>\n",
       "    <tr>\n",
       "      <th>1</th>\n",
       "      <td>265472</td>\n",
       "      <td>343</td>\n",
       "      <td>1</td>\n",
       "    </tr>\n",
       "    <tr>\n",
       "      <th>2</th>\n",
       "      <td>242779</td>\n",
       "      <td>6009</td>\n",
       "      <td>0</td>\n",
       "    </tr>\n",
       "    <tr>\n",
       "      <th>3</th>\n",
       "      <td>275009</td>\n",
       "      <td>2184</td>\n",
       "      <td>1</td>\n",
       "    </tr>\n",
       "    <tr>\n",
       "      <th>4</th>\n",
       "      <td>268104</td>\n",
       "      <td>3134</td>\n",
       "      <td>2</td>\n",
       "    </tr>\n",
       "  </tbody>\n",
       "</table>\n",
       "</div>"
      ],
      "text/plain": [
       "   user_id  item_id  action_id\n",
       "0   274623     2863          1\n",
       "1   265472      343          1\n",
       "2   242779     6009          0\n",
       "3   275009     2184          1\n",
       "4   268104     3134          2"
      ]
     },
     "metadata": {},
     "output_type": "display_data"
    }
   ],
   "source": [
    "sample_a = pd.read_csv('data/sample_a.zip')\n",
    "sample_b = pd.read_csv('data/sample_b.zip')\n",
    "sample_c = pd.read_csv('data/sample_c.zip')\n",
    "\n",
    "display(sample_a.head(), sample_b.head(), sample_c.head())"
   ]
  },
  {
   "cell_type": "code",
   "execution_count": 332,
   "id": "bf010b08",
   "metadata": {},
   "outputs": [
    {
     "data": {
      "text/plain": [
       "(1188912, 3)"
      ]
     },
     "metadata": {},
     "output_type": "display_data"
    },
    {
     "data": {
      "text/plain": [
       "(1198438, 3)"
      ]
     },
     "metadata": {},
     "output_type": "display_data"
    },
    {
     "data": {
      "text/plain": [
       "(1205510, 3)"
      ]
     },
     "metadata": {},
     "output_type": "display_data"
    }
   ],
   "source": [
    "display(sample_a.shape, sample_b.shape, sample_c.shape)"
   ]
  },
  {
   "cell_type": "code",
   "execution_count": 333,
   "id": "ce219965",
   "metadata": {},
   "outputs": [
    {
     "name": "stdout",
     "output_type": "stream",
     "text": [
      "<class 'pandas.core.frame.DataFrame'>\n",
      "RangeIndex: 1188912 entries, 0 to 1188911\n",
      "Data columns (total 3 columns):\n",
      " #   Column     Non-Null Count    Dtype\n",
      "---  ------     --------------    -----\n",
      " 0   user_id    1188912 non-null  int64\n",
      " 1   item_id    1188912 non-null  int64\n",
      " 2   action_id  1188912 non-null  int64\n",
      "dtypes: int64(3)\n",
      "memory usage: 27.2 MB\n",
      "<class 'pandas.core.frame.DataFrame'>\n",
      "RangeIndex: 1198438 entries, 0 to 1198437\n",
      "Data columns (total 3 columns):\n",
      " #   Column     Non-Null Count    Dtype\n",
      "---  ------     --------------    -----\n",
      " 0   user_id    1198438 non-null  int64\n",
      " 1   item_id    1198438 non-null  int64\n",
      " 2   action_id  1198438 non-null  int64\n",
      "dtypes: int64(3)\n",
      "memory usage: 27.4 MB\n",
      "<class 'pandas.core.frame.DataFrame'>\n",
      "RangeIndex: 1205510 entries, 0 to 1205509\n",
      "Data columns (total 3 columns):\n",
      " #   Column     Non-Null Count    Dtype\n",
      "---  ------     --------------    -----\n",
      " 0   user_id    1205510 non-null  int64\n",
      " 1   item_id    1205510 non-null  int64\n",
      " 2   action_id  1205510 non-null  int64\n",
      "dtypes: int64(3)\n",
      "memory usage: 27.6 MB\n"
     ]
    },
    {
     "data": {
      "text/plain": [
       "None"
      ]
     },
     "metadata": {},
     "output_type": "display_data"
    },
    {
     "data": {
      "text/plain": [
       "None"
      ]
     },
     "metadata": {},
     "output_type": "display_data"
    },
    {
     "data": {
      "text/plain": [
       "None"
      ]
     },
     "metadata": {},
     "output_type": "display_data"
    }
   ],
   "source": [
    "display(sample_a.info(), sample_b.info(), sample_c.info())"
   ]
  },
  {
   "cell_type": "code",
   "execution_count": 334,
   "id": "b51fe723",
   "metadata": {},
   "outputs": [
    {
     "data": {
      "text/plain": [
       "user_id      0\n",
       "item_id      0\n",
       "action_id    0\n",
       "dtype: int64"
      ]
     },
     "metadata": {},
     "output_type": "display_data"
    },
    {
     "data": {
      "text/plain": [
       "user_id      0\n",
       "item_id      0\n",
       "action_id    0\n",
       "dtype: int64"
      ]
     },
     "metadata": {},
     "output_type": "display_data"
    },
    {
     "data": {
      "text/plain": [
       "user_id      0\n",
       "item_id      0\n",
       "action_id    0\n",
       "dtype: int64"
      ]
     },
     "metadata": {},
     "output_type": "display_data"
    }
   ],
   "source": [
    "display(sample_a.isna().sum(), sample_b.isna().sum(), sample_c.isna().sum())"
   ]
  },
  {
   "cell_type": "code",
   "execution_count": 335,
   "id": "06e411e0",
   "metadata": {},
   "outputs": [
    {
     "data": {
      "text/html": [
       "<div>\n",
       "<style scoped>\n",
       "    .dataframe tbody tr th:only-of-type {\n",
       "        vertical-align: middle;\n",
       "    }\n",
       "\n",
       "    .dataframe tbody tr th {\n",
       "        vertical-align: top;\n",
       "    }\n",
       "\n",
       "    .dataframe thead th {\n",
       "        text-align: right;\n",
       "    }\n",
       "</style>\n",
       "<table border=\"1\" class=\"dataframe\">\n",
       "  <thead>\n",
       "    <tr style=\"text-align: right;\">\n",
       "      <th></th>\n",
       "      <th>item_id</th>\n",
       "      <th>item_price</th>\n",
       "    </tr>\n",
       "  </thead>\n",
       "  <tbody>\n",
       "    <tr>\n",
       "      <th>0</th>\n",
       "      <td>338</td>\n",
       "      <td>1501</td>\n",
       "    </tr>\n",
       "    <tr>\n",
       "      <th>1</th>\n",
       "      <td>74</td>\n",
       "      <td>647</td>\n",
       "    </tr>\n",
       "    <tr>\n",
       "      <th>2</th>\n",
       "      <td>7696</td>\n",
       "      <td>825</td>\n",
       "    </tr>\n",
       "    <tr>\n",
       "      <th>3</th>\n",
       "      <td>866</td>\n",
       "      <td>875</td>\n",
       "    </tr>\n",
       "    <tr>\n",
       "      <th>4</th>\n",
       "      <td>5876</td>\n",
       "      <td>804</td>\n",
       "    </tr>\n",
       "  </tbody>\n",
       "</table>\n",
       "</div>"
      ],
      "text/plain": [
       "   item_id  item_price\n",
       "0      338        1501\n",
       "1       74         647\n",
       "2     7696         825\n",
       "3      866         875\n",
       "4     5876         804"
      ]
     },
     "execution_count": 335,
     "metadata": {},
     "output_type": "execute_result"
    }
   ],
   "source": [
    "item_prices = pd.read_csv('data/item_prices.zip')\n",
    "item_prices.head()"
   ]
  },
  {
   "cell_type": "code",
   "execution_count": 336,
   "id": "92523d38",
   "metadata": {},
   "outputs": [
    {
     "data": {
      "text/plain": [
       "(1000, 2)"
      ]
     },
     "execution_count": 336,
     "metadata": {},
     "output_type": "execute_result"
    }
   ],
   "source": [
    "item_prices.shape"
   ]
  },
  {
   "cell_type": "code",
   "execution_count": 337,
   "id": "8a5bc060",
   "metadata": {},
   "outputs": [
    {
     "name": "stdout",
     "output_type": "stream",
     "text": [
      "<class 'pandas.core.frame.DataFrame'>\n",
      "RangeIndex: 1000 entries, 0 to 999\n",
      "Data columns (total 2 columns):\n",
      " #   Column      Non-Null Count  Dtype\n",
      "---  ------      --------------  -----\n",
      " 0   item_id     1000 non-null   int64\n",
      " 1   item_price  1000 non-null   int64\n",
      "dtypes: int64(2)\n",
      "memory usage: 15.8 KB\n"
     ]
    }
   ],
   "source": [
    "item_prices.info()"
   ]
  },
  {
   "cell_type": "code",
   "execution_count": 338,
   "id": "5df0b2ba",
   "metadata": {},
   "outputs": [
    {
     "data": {
      "text/plain": [
       "item_id       0\n",
       "item_price    0\n",
       "dtype: int64"
      ]
     },
     "execution_count": 338,
     "metadata": {},
     "output_type": "execute_result"
    }
   ],
   "source": [
    "item_prices.isna().sum()"
   ]
  },
  {
   "cell_type": "markdown",
   "id": "071b68d0",
   "metadata": {},
   "source": [
    "## 2. Проверка, что нет ситуаций, когда происходит покупка/клик без действия просмотра. Удаление дублей."
   ]
  },
  {
   "cell_type": "markdown",
   "id": "2719fd2c",
   "metadata": {},
   "source": [
    "Первым делом удалим дубликаты при их наличии. "
   ]
  },
  {
   "cell_type": "code",
   "execution_count": 339,
   "id": "4f814742",
   "metadata": {},
   "outputs": [
    {
     "data": {
      "text/plain": [
       "(1188912, 3)"
      ]
     },
     "execution_count": 339,
     "metadata": {},
     "output_type": "execute_result"
    }
   ],
   "source": [
    "sample_a.drop_duplicates(inplace=True)\n",
    "sample_a.shape"
   ]
  },
  {
   "cell_type": "code",
   "execution_count": 340,
   "id": "7e184d07",
   "metadata": {},
   "outputs": [
    {
     "data": {
      "text/plain": [
       "(1198438, 3)"
      ]
     },
     "execution_count": 340,
     "metadata": {},
     "output_type": "execute_result"
    }
   ],
   "source": [
    "sample_b.drop_duplicates(inplace=True)\n",
    "sample_b.shape"
   ]
  },
  {
   "cell_type": "code",
   "execution_count": 341,
   "id": "8325f31d",
   "metadata": {},
   "outputs": [
    {
     "data": {
      "text/plain": [
       "(1205510, 3)"
      ]
     },
     "execution_count": 341,
     "metadata": {},
     "output_type": "execute_result"
    }
   ],
   "source": [
    "sample_c.drop_duplicates(inplace=True)\n",
    "sample_c.shape"
   ]
  },
  {
   "cell_type": "markdown",
   "id": "c19e4a39",
   "metadata": {},
   "source": [
    "Для датафрейма с ценами есть нюанс. Нам нет возможности использовать несолько цен для одного товара"
   ]
  },
  {
   "cell_type": "code",
   "execution_count": 342,
   "id": "8f9d2655",
   "metadata": {},
   "outputs": [
    {
     "data": {
      "text/html": [
       "<div>\n",
       "<style scoped>\n",
       "    .dataframe tbody tr th:only-of-type {\n",
       "        vertical-align: middle;\n",
       "    }\n",
       "\n",
       "    .dataframe tbody tr th {\n",
       "        vertical-align: top;\n",
       "    }\n",
       "\n",
       "    .dataframe thead th {\n",
       "        text-align: right;\n",
       "    }\n",
       "</style>\n",
       "<table border=\"1\" class=\"dataframe\">\n",
       "  <thead>\n",
       "    <tr style=\"text-align: right;\">\n",
       "      <th></th>\n",
       "      <th>item_id</th>\n",
       "      <th>item_price</th>\n",
       "      <th>duplicated</th>\n",
       "    </tr>\n",
       "  </thead>\n",
       "  <tbody>\n",
       "    <tr>\n",
       "      <th>977</th>\n",
       "      <td>338</td>\n",
       "      <td>1047</td>\n",
       "      <td>True</td>\n",
       "    </tr>\n",
       "    <tr>\n",
       "      <th>797</th>\n",
       "      <td>338</td>\n",
       "      <td>1151</td>\n",
       "      <td>True</td>\n",
       "    </tr>\n",
       "    <tr>\n",
       "      <th>910</th>\n",
       "      <td>533</td>\n",
       "      <td>294</td>\n",
       "      <td>True</td>\n",
       "    </tr>\n",
       "    <tr>\n",
       "      <th>851</th>\n",
       "      <td>1173</td>\n",
       "      <td>978</td>\n",
       "      <td>True</td>\n",
       "    </tr>\n",
       "    <tr>\n",
       "      <th>107</th>\n",
       "      <td>1462</td>\n",
       "      <td>870</td>\n",
       "      <td>True</td>\n",
       "    </tr>\n",
       "  </tbody>\n",
       "</table>\n",
       "</div>"
      ],
      "text/plain": [
       "     item_id  item_price  duplicated\n",
       "977      338        1047        True\n",
       "797      338        1151        True\n",
       "910      533         294        True\n",
       "851     1173         978        True\n",
       "107     1462         870        True"
      ]
     },
     "execution_count": 342,
     "metadata": {},
     "output_type": "execute_result"
    }
   ],
   "source": [
    "item_prices['duplicated'] = item_prices.duplicated(subset='item_id')\n",
    "# item_prices[item_prices.duplicated == True]\n",
    "duplicates = item_prices[item_prices['duplicated'] == True].sort_values('item_id')\n",
    "duplicates.head()"
   ]
  },
  {
   "cell_type": "code",
   "execution_count": 343,
   "id": "1142e8fd",
   "metadata": {},
   "outputs": [
    {
     "name": "stderr",
     "output_type": "stream",
     "text": [
      "C:\\Users\\User\\AppData\\Local\\Temp\\ipykernel_25340\\1715058452.py:3: FutureWarning: Setting an item of incompatible dtype is deprecated and will raise an error in a future version of pandas. Value '1135.5' has dtype incompatible with int64, please explicitly cast to a compatible dtype first.\n",
      "  item_prices.loc[item_prices['item_id'] == elem, 'item_price'] = price_mean\n",
      "C:\\Users\\User\\AppData\\Local\\Temp\\ipykernel_25340\\1715058452.py:5: SettingWithCopyWarning: \n",
      "A value is trying to be set on a copy of a slice from a DataFrame.\n",
      "Try using .loc[row_indexer,col_indexer] = value instead\n",
      "\n",
      "See the caveats in the documentation: https://pandas.pydata.org/pandas-docs/stable/user_guide/indexing.html#returning-a-view-versus-a-copy\n",
      "  item_prices[item_prices.item_id == 338].item_price = price_mean\n"
     ]
    },
    {
     "data": {
      "text/html": [
       "<div>\n",
       "<style scoped>\n",
       "    .dataframe tbody tr th:only-of-type {\n",
       "        vertical-align: middle;\n",
       "    }\n",
       "\n",
       "    .dataframe tbody tr th {\n",
       "        vertical-align: top;\n",
       "    }\n",
       "\n",
       "    .dataframe thead th {\n",
       "        text-align: right;\n",
       "    }\n",
       "</style>\n",
       "<table border=\"1\" class=\"dataframe\">\n",
       "  <thead>\n",
       "    <tr style=\"text-align: right;\">\n",
       "      <th></th>\n",
       "      <th>item_id</th>\n",
       "      <th>item_price</th>\n",
       "      <th>duplicated</th>\n",
       "    </tr>\n",
       "  </thead>\n",
       "  <tbody>\n",
       "    <tr>\n",
       "      <th>0</th>\n",
       "      <td>338</td>\n",
       "      <td>1233.0</td>\n",
       "      <td>False</td>\n",
       "    </tr>\n",
       "    <tr>\n",
       "      <th>797</th>\n",
       "      <td>338</td>\n",
       "      <td>1233.0</td>\n",
       "      <td>True</td>\n",
       "    </tr>\n",
       "    <tr>\n",
       "      <th>977</th>\n",
       "      <td>338</td>\n",
       "      <td>1233.0</td>\n",
       "      <td>True</td>\n",
       "    </tr>\n",
       "  </tbody>\n",
       "</table>\n",
       "</div>"
      ],
      "text/plain": [
       "     item_id  item_price  duplicated\n",
       "0        338      1233.0       False\n",
       "797      338      1233.0        True\n",
       "977      338      1233.0        True"
      ]
     },
     "execution_count": 343,
     "metadata": {},
     "output_type": "execute_result"
    }
   ],
   "source": [
    "for elem in set(duplicates.item_id):\n",
    "    price_mean = item_prices.loc[item_prices['item_id'] == elem, 'item_price'].mean()\n",
    "    item_prices.loc[item_prices['item_id'] == elem, 'item_price'] = price_mean\n",
    "\n",
    "item_prices[item_prices.item_id == 338].item_price = price_mean\n",
    "item_prices[item_prices.item_id == 338]\n"
   ]
  },
  {
   "cell_type": "code",
   "execution_count": 344,
   "id": "e374907a",
   "metadata": {},
   "outputs": [
    {
     "data": {
      "text/plain": [
       "(955, 2)"
      ]
     },
     "execution_count": 344,
     "metadata": {},
     "output_type": "execute_result"
    }
   ],
   "source": [
    "item_prices.drop_duplicates(subset='item_id', inplace=True)\n",
    "item_prices.drop('duplicated', axis=1, inplace=True)\n",
    "item_prices.shape"
   ]
  },
  {
   "cell_type": "markdown",
   "id": "78043953",
   "metadata": {},
   "source": [
    "Проверим наборы данных на наличие записей о покупке товара без просмотре. При сведении в сводную таблицу по 'user_id' и 'item_id' у товара, который купили без просмотра сумма по столбцу'action_id' должна быть равна 2."
   ]
  },
  {
   "cell_type": "code",
   "execution_count": 345,
   "id": "7448da53",
   "metadata": {},
   "outputs": [
    {
     "data": {
      "text/plain": [
       "array([1, 3], dtype=int64)"
      ]
     },
     "execution_count": 345,
     "metadata": {},
     "output_type": "execute_result"
    }
   ],
   "source": [
    "df = sample_a.pivot_table(index=['user_id', 'item_id'], aggfunc='sum')\n",
    "df.action_id.unique()"
   ]
  },
  {
   "cell_type": "code",
   "execution_count": 346,
   "id": "285f7f86",
   "metadata": {},
   "outputs": [
    {
     "data": {
      "text/plain": [
       "array([1, 3], dtype=int64)"
      ]
     },
     "execution_count": 346,
     "metadata": {},
     "output_type": "execute_result"
    }
   ],
   "source": [
    "df = sample_b.pivot_table(index=['user_id', 'item_id'], aggfunc='sum')\n",
    "df.action_id.unique()"
   ]
  },
  {
   "cell_type": "code",
   "execution_count": 347,
   "id": "b3030687",
   "metadata": {},
   "outputs": [
    {
     "data": {
      "text/plain": [
       "array([1, 3], dtype=int64)"
      ]
     },
     "execution_count": 347,
     "metadata": {},
     "output_type": "execute_result"
    }
   ],
   "source": [
    "df = sample_c.pivot_table(index=['user_id', 'item_id'], aggfunc='sum')\n",
    "df.action_id.unique()"
   ]
  },
  {
   "cell_type": "markdown",
   "id": "8aa8d70a",
   "metadata": {},
   "source": [
    "В наборах данных отсутствуют данные о товарах купленных без просмотра."
   ]
  },
  {
   "cell_type": "markdown",
   "id": "c126e87d",
   "metadata": {},
   "source": [
    "## 3. Рассчитать метрики по датасетам, провести общее сравнение метрик."
   ]
  },
  {
   "cell_type": "markdown",
   "id": "585184bf",
   "metadata": {},
   "source": [
    "Предлагаю первым делом привести все выборки к единому количеству наблюдений. Наименьшее количество наблюдений в выборке sample_a - 1188912."
   ]
  },
  {
   "cell_type": "code",
   "execution_count": 348,
   "id": "90907204",
   "metadata": {},
   "outputs": [
    {
     "data": {
      "text/plain": [
       "((1188912, 3), (1188912, 3))"
      ]
     },
     "execution_count": 348,
     "metadata": {},
     "output_type": "execute_result"
    }
   ],
   "source": [
    "sample_b = sample_b[:1188912]\n",
    "sample_c = sample_c[:1188912]\n",
    "\n",
    "sample_b.shape, sample_c.shape"
   ]
  },
  {
   "cell_type": "markdown",
   "id": "0a4780de",
   "metadata": {},
   "source": [
    "Расчтиываем следующие метрики по датасетам:"
   ]
  },
  {
   "cell_type": "markdown",
   "id": "7cafcdab",
   "metadata": {},
   "source": [
    "*ctr (отношение кликов к просмотрам товаров)*"
   ]
  },
  {
   "cell_type": "code",
   "execution_count": 349,
   "id": "d67ef4dd",
   "metadata": {},
   "outputs": [
    {
     "name": "stdout",
     "output_type": "stream",
     "text": [
      "Метрика ctr для выборки sample_a:  0.2\n",
      "Метрика ctr для выборки sample_b:  0.16\n",
      "Метрика ctr для выборки sample_c:  0.21\n"
     ]
    }
   ],
   "source": [
    "ctr_a = sample_a[sample_a.action_id == 0].action_id.count() / sample_a[sample_a.action_id == 1].action_id.count()\n",
    "ctr_b = sample_b[sample_b.action_id == 0].action_id.count() / sample_b[sample_b.action_id == 1].action_id.count()\n",
    "ctr_c = sample_c[sample_c.action_id == 0].action_id.count() / sample_c[sample_c.action_id == 1].action_id.count()\n",
    "\n",
    "print('Метрика ctr для выборки sample_a: ', round(ctr_a, 2))\n",
    "print('Метрика ctr для выборки sample_b: ', round(ctr_b, 2))\n",
    "print('Метрика ctr для выборки sample_c: ', round(ctr_c, 2))"
   ]
  },
  {
   "cell_type": "markdown",
   "id": "b2a6958c",
   "metadata": {},
   "source": [
    "*purchase rate (отношение покупок к просмотрам товаров)*"
   ]
  },
  {
   "cell_type": "code",
   "execution_count": 350,
   "id": "8c2b6355",
   "metadata": {},
   "outputs": [
    {
     "name": "stdout",
     "output_type": "stream",
     "text": [
      "Метрика purchase rate для выборки sample_a:  0.05\n",
      "Метрика purchase rate для выборки sample_b:  0.1\n",
      "Метрика purchase rate для выборки sample_c:  0.06\n"
     ]
    }
   ],
   "source": [
    "purchase_rate_a = sample_a[sample_a.action_id == 2].action_id.count() / sample_a[sample_a.action_id == 1].action_id.count()\n",
    "purchase_rate_b = sample_b[sample_b.action_id == 2].action_id.count() / sample_b[sample_b.action_id == 1].action_id.count()\n",
    "purchase_rate_c = sample_c[sample_c.action_id == 2].action_id.count() / sample_c[sample_c.action_id == 1].action_id.count()\n",
    "\n",
    "print('Метрика purchase rate для выборки sample_a: ', round(purchase_rate_a, 2))\n",
    "print('Метрика purchase rate для выборки sample_b: ', round(purchase_rate_b, 2))\n",
    "print('Метрика purchase rate для выборки sample_c: ', round(purchase_rate_c, 2))"
   ]
  },
  {
   "cell_type": "markdown",
   "id": "2f9a6122",
   "metadata": {},
   "source": [
    "*gmv (оборот, сумма произведений количества покупок на стоимость покупки), где считаем 1 сессию за 1 точку (1 сессия на 1 пользователя)*"
   ]
  },
  {
   "cell_type": "code",
   "execution_count": 351,
   "id": "f50f0007",
   "metadata": {},
   "outputs": [
    {
     "data": {
      "text/html": [
       "<div>\n",
       "<style scoped>\n",
       "    .dataframe tbody tr th:only-of-type {\n",
       "        vertical-align: middle;\n",
       "    }\n",
       "\n",
       "    .dataframe tbody tr th {\n",
       "        vertical-align: top;\n",
       "    }\n",
       "\n",
       "    .dataframe thead th {\n",
       "        text-align: right;\n",
       "    }\n",
       "</style>\n",
       "<table border=\"1\" class=\"dataframe\">\n",
       "  <thead>\n",
       "    <tr style=\"text-align: right;\">\n",
       "      <th></th>\n",
       "      <th>user_id</th>\n",
       "      <th>item_id</th>\n",
       "      <th>action_id</th>\n",
       "      <th>item_price</th>\n",
       "    </tr>\n",
       "  </thead>\n",
       "  <tbody>\n",
       "    <tr>\n",
       "      <th>0</th>\n",
       "      <td>84636</td>\n",
       "      <td>360</td>\n",
       "      <td>1</td>\n",
       "      <td>1896.0</td>\n",
       "    </tr>\n",
       "    <tr>\n",
       "      <th>1</th>\n",
       "      <td>21217</td>\n",
       "      <td>9635</td>\n",
       "      <td>1</td>\n",
       "      <td>1699.0</td>\n",
       "    </tr>\n",
       "    <tr>\n",
       "      <th>2</th>\n",
       "      <td>13445</td>\n",
       "      <td>8590</td>\n",
       "      <td>1</td>\n",
       "      <td>846.0</td>\n",
       "    </tr>\n",
       "    <tr>\n",
       "      <th>3</th>\n",
       "      <td>38450</td>\n",
       "      <td>5585</td>\n",
       "      <td>1</td>\n",
       "      <td>1556.0</td>\n",
       "    </tr>\n",
       "    <tr>\n",
       "      <th>4</th>\n",
       "      <td>14160</td>\n",
       "      <td>2383</td>\n",
       "      <td>0</td>\n",
       "      <td>1956.0</td>\n",
       "    </tr>\n",
       "    <tr>\n",
       "      <th>...</th>\n",
       "      <td>...</td>\n",
       "      <td>...</td>\n",
       "      <td>...</td>\n",
       "      <td>...</td>\n",
       "    </tr>\n",
       "    <tr>\n",
       "      <th>1188907</th>\n",
       "      <td>22999</td>\n",
       "      <td>2401</td>\n",
       "      <td>1</td>\n",
       "      <td>1670.0</td>\n",
       "    </tr>\n",
       "    <tr>\n",
       "      <th>1188908</th>\n",
       "      <td>23700</td>\n",
       "      <td>4654</td>\n",
       "      <td>0</td>\n",
       "      <td>1080.0</td>\n",
       "    </tr>\n",
       "    <tr>\n",
       "      <th>1188909</th>\n",
       "      <td>18842</td>\n",
       "      <td>3707</td>\n",
       "      <td>1</td>\n",
       "      <td>656.0</td>\n",
       "    </tr>\n",
       "    <tr>\n",
       "      <th>1188910</th>\n",
       "      <td>32732</td>\n",
       "      <td>9198</td>\n",
       "      <td>1</td>\n",
       "      <td>1307.0</td>\n",
       "    </tr>\n",
       "    <tr>\n",
       "      <th>1188911</th>\n",
       "      <td>89340</td>\n",
       "      <td>1132</td>\n",
       "      <td>1</td>\n",
       "      <td>1666.0</td>\n",
       "    </tr>\n",
       "  </tbody>\n",
       "</table>\n",
       "<p>1188912 rows × 4 columns</p>\n",
       "</div>"
      ],
      "text/plain": [
       "         user_id  item_id  action_id  item_price\n",
       "0          84636      360          1      1896.0\n",
       "1          21217     9635          1      1699.0\n",
       "2          13445     8590          1       846.0\n",
       "3          38450     5585          1      1556.0\n",
       "4          14160     2383          0      1956.0\n",
       "...          ...      ...        ...         ...\n",
       "1188907    22999     2401          1      1670.0\n",
       "1188908    23700     4654          0      1080.0\n",
       "1188909    18842     3707          1       656.0\n",
       "1188910    32732     9198          1      1307.0\n",
       "1188911    89340     1132          1      1666.0\n",
       "\n",
       "[1188912 rows x 4 columns]"
      ]
     },
     "execution_count": 351,
     "metadata": {},
     "output_type": "execute_result"
    }
   ],
   "source": [
    "sample_a_price = sample_a.merge( item_prices, how='left', on='item_id', validate='many_to_one')\n",
    "sample_a_price"
   ]
  },
  {
   "cell_type": "code",
   "execution_count": 352,
   "id": "8bcb094e",
   "metadata": {},
   "outputs": [
    {
     "ename": "IndentationError",
     "evalue": "expected an indented block after 'if' statement on line 12 (1939934693.py, line 13)",
     "output_type": "error",
     "traceback": [
      "\u001b[1;36m  Cell \u001b[1;32mIn[352], line 13\u001b[1;36m\u001b[0m\n\u001b[1;33m    print(\"Отвергаем нулевую гипотезу в пользу альтернативной\")\u001b[0m\n\u001b[1;37m    ^\u001b[0m\n\u001b[1;31mIndentationError\u001b[0m\u001b[1;31m:\u001b[0m expected an indented block after 'if' statement on line 12\n"
     ]
    }
   ],
   "source": [
    "from statsmodels.stats.proportion import proportions_ztest\n",
    "alpha = 0.05 # уровень значимости\n",
    "# вычисляем значение p-value для Z-теста для пропорций\n",
    "_, p_value = proportions_ztest(\n",
    "count=converted_piv['sum'], # число \"успехов\"\n",
    "nobs=converted_piv['count'], # общее число наблюдений\n",
    "alternative='two-sided',\n",
    ")\n",
    "# выводим результат на экран\n",
    "print('p-value: ', round(p_value, 3))\n",
    "# сравниваем полученное p-value с уровнем значимости\n",
    "if (p_value < alpha):\n",
    "print(\"Отвергаем нулевую гипотезу в пользу альтернативной\")\n",
    "else:\n",
    "print(\"У нас нет оснований отвергнуть нулевую гипотезу\")"
   ]
  }
 ],
 "metadata": {
  "kernelspec": {
   "display_name": ".venv",
   "language": "python",
   "name": "python3"
  },
  "language_info": {
   "codemirror_mode": {
    "name": "ipython",
    "version": 3
   },
   "file_extension": ".py",
   "mimetype": "text/x-python",
   "name": "python",
   "nbconvert_exporter": "python",
   "pygments_lexer": "ipython3",
   "version": "3.11.7"
  }
 },
 "nbformat": 4,
 "nbformat_minor": 5
}
