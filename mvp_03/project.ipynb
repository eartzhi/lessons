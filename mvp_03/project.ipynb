{
 "cells": [
  {
   "cell_type": "code",
   "execution_count": 2,
   "id": "cf4bb3f4",
   "metadata": {},
   "outputs": [],
   "source": [
    "import pandas as pd\n",
    "import numpy as np\n"
   ]
  },
  {
   "cell_type": "markdown",
   "id": "a5a2feb0",
   "metadata": {},
   "source": [
    "## 1. Импорт и  первичный анализ данных"
   ]
  },
  {
   "cell_type": "code",
   "execution_count": 8,
   "id": "e8f100a6",
   "metadata": {},
   "outputs": [
    {
     "data": {
      "text/html": [
       "<div>\n",
       "<style scoped>\n",
       "    .dataframe tbody tr th:only-of-type {\n",
       "        vertical-align: middle;\n",
       "    }\n",
       "\n",
       "    .dataframe tbody tr th {\n",
       "        vertical-align: top;\n",
       "    }\n",
       "\n",
       "    .dataframe thead th {\n",
       "        text-align: right;\n",
       "    }\n",
       "</style>\n",
       "<table border=\"1\" class=\"dataframe\">\n",
       "  <thead>\n",
       "    <tr style=\"text-align: right;\">\n",
       "      <th></th>\n",
       "      <th>user_id</th>\n",
       "      <th>item_id</th>\n",
       "      <th>action_id</th>\n",
       "    </tr>\n",
       "  </thead>\n",
       "  <tbody>\n",
       "    <tr>\n",
       "      <th>0</th>\n",
       "      <td>84636</td>\n",
       "      <td>360</td>\n",
       "      <td>1</td>\n",
       "    </tr>\n",
       "    <tr>\n",
       "      <th>1</th>\n",
       "      <td>21217</td>\n",
       "      <td>9635</td>\n",
       "      <td>1</td>\n",
       "    </tr>\n",
       "    <tr>\n",
       "      <th>2</th>\n",
       "      <td>13445</td>\n",
       "      <td>8590</td>\n",
       "      <td>1</td>\n",
       "    </tr>\n",
       "    <tr>\n",
       "      <th>3</th>\n",
       "      <td>38450</td>\n",
       "      <td>5585</td>\n",
       "      <td>1</td>\n",
       "    </tr>\n",
       "    <tr>\n",
       "      <th>4</th>\n",
       "      <td>14160</td>\n",
       "      <td>2383</td>\n",
       "      <td>0</td>\n",
       "    </tr>\n",
       "  </tbody>\n",
       "</table>\n",
       "</div>"
      ],
      "text/plain": [
       "   user_id  item_id  action_id\n",
       "0    84636      360          1\n",
       "1    21217     9635          1\n",
       "2    13445     8590          1\n",
       "3    38450     5585          1\n",
       "4    14160     2383          0"
      ]
     },
     "metadata": {},
     "output_type": "display_data"
    },
    {
     "data": {
      "text/html": [
       "<div>\n",
       "<style scoped>\n",
       "    .dataframe tbody tr th:only-of-type {\n",
       "        vertical-align: middle;\n",
       "    }\n",
       "\n",
       "    .dataframe tbody tr th {\n",
       "        vertical-align: top;\n",
       "    }\n",
       "\n",
       "    .dataframe thead th {\n",
       "        text-align: right;\n",
       "    }\n",
       "</style>\n",
       "<table border=\"1\" class=\"dataframe\">\n",
       "  <thead>\n",
       "    <tr style=\"text-align: right;\">\n",
       "      <th></th>\n",
       "      <th>user_id</th>\n",
       "      <th>item_id</th>\n",
       "      <th>action_id</th>\n",
       "    </tr>\n",
       "  </thead>\n",
       "  <tbody>\n",
       "    <tr>\n",
       "      <th>0</th>\n",
       "      <td>118375</td>\n",
       "      <td>4105</td>\n",
       "      <td>1</td>\n",
       "    </tr>\n",
       "    <tr>\n",
       "      <th>1</th>\n",
       "      <td>107569</td>\n",
       "      <td>8204</td>\n",
       "      <td>1</td>\n",
       "    </tr>\n",
       "    <tr>\n",
       "      <th>2</th>\n",
       "      <td>175990</td>\n",
       "      <td>880</td>\n",
       "      <td>1</td>\n",
       "    </tr>\n",
       "    <tr>\n",
       "      <th>3</th>\n",
       "      <td>160582</td>\n",
       "      <td>9568</td>\n",
       "      <td>0</td>\n",
       "    </tr>\n",
       "    <tr>\n",
       "      <th>4</th>\n",
       "      <td>123400</td>\n",
       "      <td>4000</td>\n",
       "      <td>1</td>\n",
       "    </tr>\n",
       "  </tbody>\n",
       "</table>\n",
       "</div>"
      ],
      "text/plain": [
       "   user_id  item_id  action_id\n",
       "0   118375     4105          1\n",
       "1   107569     8204          1\n",
       "2   175990      880          1\n",
       "3   160582     9568          0\n",
       "4   123400     4000          1"
      ]
     },
     "metadata": {},
     "output_type": "display_data"
    },
    {
     "data": {
      "text/html": [
       "<div>\n",
       "<style scoped>\n",
       "    .dataframe tbody tr th:only-of-type {\n",
       "        vertical-align: middle;\n",
       "    }\n",
       "\n",
       "    .dataframe tbody tr th {\n",
       "        vertical-align: top;\n",
       "    }\n",
       "\n",
       "    .dataframe thead th {\n",
       "        text-align: right;\n",
       "    }\n",
       "</style>\n",
       "<table border=\"1\" class=\"dataframe\">\n",
       "  <thead>\n",
       "    <tr style=\"text-align: right;\">\n",
       "      <th></th>\n",
       "      <th>user_id</th>\n",
       "      <th>item_id</th>\n",
       "      <th>action_id</th>\n",
       "    </tr>\n",
       "  </thead>\n",
       "  <tbody>\n",
       "    <tr>\n",
       "      <th>0</th>\n",
       "      <td>274623</td>\n",
       "      <td>2863</td>\n",
       "      <td>1</td>\n",
       "    </tr>\n",
       "    <tr>\n",
       "      <th>1</th>\n",
       "      <td>265472</td>\n",
       "      <td>343</td>\n",
       "      <td>1</td>\n",
       "    </tr>\n",
       "    <tr>\n",
       "      <th>2</th>\n",
       "      <td>242779</td>\n",
       "      <td>6009</td>\n",
       "      <td>0</td>\n",
       "    </tr>\n",
       "    <tr>\n",
       "      <th>3</th>\n",
       "      <td>275009</td>\n",
       "      <td>2184</td>\n",
       "      <td>1</td>\n",
       "    </tr>\n",
       "    <tr>\n",
       "      <th>4</th>\n",
       "      <td>268104</td>\n",
       "      <td>3134</td>\n",
       "      <td>2</td>\n",
       "    </tr>\n",
       "  </tbody>\n",
       "</table>\n",
       "</div>"
      ],
      "text/plain": [
       "   user_id  item_id  action_id\n",
       "0   274623     2863          1\n",
       "1   265472      343          1\n",
       "2   242779     6009          0\n",
       "3   275009     2184          1\n",
       "4   268104     3134          2"
      ]
     },
     "metadata": {},
     "output_type": "display_data"
    }
   ],
   "source": [
    "sample_a = pd.read_csv('data/sample_a.zip')\n",
    "sample_b = pd.read_csv('data/sample_b.zip')\n",
    "sample_c = pd.read_csv('data/sample_c.zip')\n",
    "\n",
    "display(sample_a.head(), sample_b.head(), sample_c.head())"
   ]
  },
  {
   "cell_type": "code",
   "execution_count": 11,
   "id": "bf010b08",
   "metadata": {},
   "outputs": [
    {
     "data": {
      "text/plain": [
       "(1188912, 3)"
      ]
     },
     "metadata": {},
     "output_type": "display_data"
    },
    {
     "data": {
      "text/plain": [
       "(1198438, 3)"
      ]
     },
     "metadata": {},
     "output_type": "display_data"
    },
    {
     "data": {
      "text/plain": [
       "(1205510, 3)"
      ]
     },
     "metadata": {},
     "output_type": "display_data"
    }
   ],
   "source": [
    "display(sample_a.shape, sample_b.shape, sample_c.shape)"
   ]
  },
  {
   "cell_type": "code",
   "execution_count": 23,
   "id": "ce219965",
   "metadata": {},
   "outputs": [
    {
     "name": "stdout",
     "output_type": "stream",
     "text": [
      "<class 'pandas.core.frame.DataFrame'>\n",
      "RangeIndex: 1188912 entries, 0 to 1188911\n",
      "Data columns (total 3 columns):\n",
      " #   Column     Non-Null Count    Dtype\n",
      "---  ------     --------------    -----\n",
      " 0   user_id    1188912 non-null  int64\n",
      " 1   item_id    1188912 non-null  int64\n",
      " 2   action_id  1188912 non-null  int64\n",
      "dtypes: int64(3)\n",
      "memory usage: 27.2 MB\n",
      "<class 'pandas.core.frame.DataFrame'>\n",
      "RangeIndex: 1198438 entries, 0 to 1198437\n",
      "Data columns (total 3 columns):\n",
      " #   Column     Non-Null Count    Dtype\n",
      "---  ------     --------------    -----\n",
      " 0   user_id    1198438 non-null  int64\n",
      " 1   item_id    1198438 non-null  int64\n",
      " 2   action_id  1198438 non-null  int64\n",
      "dtypes: int64(3)\n",
      "memory usage: 27.4 MB\n",
      "<class 'pandas.core.frame.DataFrame'>\n",
      "RangeIndex: 1205510 entries, 0 to 1205509\n",
      "Data columns (total 3 columns):\n",
      " #   Column     Non-Null Count    Dtype\n",
      "---  ------     --------------    -----\n",
      " 0   user_id    1205510 non-null  int64\n",
      " 1   item_id    1205510 non-null  int64\n",
      " 2   action_id  1205510 non-null  int64\n",
      "dtypes: int64(3)\n",
      "memory usage: 27.6 MB\n"
     ]
    },
    {
     "data": {
      "text/plain": [
       "None"
      ]
     },
     "metadata": {},
     "output_type": "display_data"
    },
    {
     "data": {
      "text/plain": [
       "None"
      ]
     },
     "metadata": {},
     "output_type": "display_data"
    },
    {
     "data": {
      "text/plain": [
       "None"
      ]
     },
     "metadata": {},
     "output_type": "display_data"
    }
   ],
   "source": [
    "display(sample_a.info(), sample_b.info(), sample_c.info())"
   ]
  },
  {
   "cell_type": "code",
   "execution_count": 25,
   "id": "b51fe723",
   "metadata": {},
   "outputs": [
    {
     "data": {
      "text/plain": [
       "user_id      0\n",
       "item_id      0\n",
       "action_id    0\n",
       "dtype: int64"
      ]
     },
     "metadata": {},
     "output_type": "display_data"
    },
    {
     "data": {
      "text/plain": [
       "user_id      0\n",
       "item_id      0\n",
       "action_id    0\n",
       "dtype: int64"
      ]
     },
     "metadata": {},
     "output_type": "display_data"
    },
    {
     "data": {
      "text/plain": [
       "user_id      0\n",
       "item_id      0\n",
       "action_id    0\n",
       "dtype: int64"
      ]
     },
     "metadata": {},
     "output_type": "display_data"
    }
   ],
   "source": [
    "display(sample_a.isna().sum(), sample_b.isna().sum(), sample_c.isna().sum())"
   ]
  },
  {
   "cell_type": "code",
   "execution_count": 9,
   "id": "06e411e0",
   "metadata": {},
   "outputs": [
    {
     "data": {
      "text/html": [
       "<div>\n",
       "<style scoped>\n",
       "    .dataframe tbody tr th:only-of-type {\n",
       "        vertical-align: middle;\n",
       "    }\n",
       "\n",
       "    .dataframe tbody tr th {\n",
       "        vertical-align: top;\n",
       "    }\n",
       "\n",
       "    .dataframe thead th {\n",
       "        text-align: right;\n",
       "    }\n",
       "</style>\n",
       "<table border=\"1\" class=\"dataframe\">\n",
       "  <thead>\n",
       "    <tr style=\"text-align: right;\">\n",
       "      <th></th>\n",
       "      <th>item_id</th>\n",
       "      <th>item_price</th>\n",
       "    </tr>\n",
       "  </thead>\n",
       "  <tbody>\n",
       "    <tr>\n",
       "      <th>0</th>\n",
       "      <td>338</td>\n",
       "      <td>1501</td>\n",
       "    </tr>\n",
       "    <tr>\n",
       "      <th>1</th>\n",
       "      <td>74</td>\n",
       "      <td>647</td>\n",
       "    </tr>\n",
       "    <tr>\n",
       "      <th>2</th>\n",
       "      <td>7696</td>\n",
       "      <td>825</td>\n",
       "    </tr>\n",
       "    <tr>\n",
       "      <th>3</th>\n",
       "      <td>866</td>\n",
       "      <td>875</td>\n",
       "    </tr>\n",
       "    <tr>\n",
       "      <th>4</th>\n",
       "      <td>5876</td>\n",
       "      <td>804</td>\n",
       "    </tr>\n",
       "  </tbody>\n",
       "</table>\n",
       "</div>"
      ],
      "text/plain": [
       "   item_id  item_price\n",
       "0      338        1501\n",
       "1       74         647\n",
       "2     7696         825\n",
       "3      866         875\n",
       "4     5876         804"
      ]
     },
     "execution_count": 9,
     "metadata": {},
     "output_type": "execute_result"
    }
   ],
   "source": [
    "item_prices = pd.read_csv('data/item_prices.zip')\n",
    "item_prices.head()"
   ]
  },
  {
   "cell_type": "code",
   "execution_count": null,
   "id": "92523d38",
   "metadata": {},
   "outputs": [
    {
     "data": {
      "text/plain": [
       "(1000, 2)"
      ]
     },
     "execution_count": 22,
     "metadata": {},
     "output_type": "execute_result"
    }
   ],
   "source": [
    "item_prices.shape"
   ]
  },
  {
   "cell_type": "code",
   "execution_count": 24,
   "id": "8a5bc060",
   "metadata": {},
   "outputs": [
    {
     "name": "stdout",
     "output_type": "stream",
     "text": [
      "<class 'pandas.core.frame.DataFrame'>\n",
      "RangeIndex: 1000 entries, 0 to 999\n",
      "Data columns (total 2 columns):\n",
      " #   Column      Non-Null Count  Dtype\n",
      "---  ------      --------------  -----\n",
      " 0   item_id     1000 non-null   int64\n",
      " 1   item_price  1000 non-null   int64\n",
      "dtypes: int64(2)\n",
      "memory usage: 15.8 KB\n"
     ]
    }
   ],
   "source": [
    "item_prices.info()"
   ]
  },
  {
   "cell_type": "code",
   "execution_count": 26,
   "id": "5df0b2ba",
   "metadata": {},
   "outputs": [
    {
     "data": {
      "text/plain": [
       "item_id       0\n",
       "item_price    0\n",
       "dtype: int64"
      ]
     },
     "execution_count": 26,
     "metadata": {},
     "output_type": "execute_result"
    }
   ],
   "source": [
    "item_prices.isna().sum()"
   ]
  },
  {
   "cell_type": "markdown",
   "id": "071b68d0",
   "metadata": {},
   "source": [
    "## 2. Проверка, что нет ситуаций, когда происходит покупка/клик без действия просмотра. Удаление дублей."
   ]
  },
  {
   "cell_type": "markdown",
   "id": "2719fd2c",
   "metadata": {},
   "source": [
    "Первым делом удалим дубликаты при их наличии. "
   ]
  },
  {
   "cell_type": "code",
   "execution_count": 27,
   "id": "4f814742",
   "metadata": {},
   "outputs": [
    {
     "data": {
      "text/plain": [
       "(1188912, 3)"
      ]
     },
     "execution_count": 27,
     "metadata": {},
     "output_type": "execute_result"
    }
   ],
   "source": [
    "sample_a.drop_duplicates(inplace=True)\n",
    "sample_a.shape"
   ]
  },
  {
   "cell_type": "code",
   "execution_count": 28,
   "id": "7e184d07",
   "metadata": {},
   "outputs": [
    {
     "data": {
      "text/plain": [
       "(1198438, 3)"
      ]
     },
     "execution_count": 28,
     "metadata": {},
     "output_type": "execute_result"
    }
   ],
   "source": [
    "sample_b.drop_duplicates(inplace=True)\n",
    "sample_b.shape"
   ]
  },
  {
   "cell_type": "code",
   "execution_count": 29,
   "id": "8325f31d",
   "metadata": {},
   "outputs": [
    {
     "data": {
      "text/plain": [
       "(1205510, 3)"
      ]
     },
     "execution_count": 29,
     "metadata": {},
     "output_type": "execute_result"
    }
   ],
   "source": [
    "sample_c.drop_duplicates(inplace=True)\n",
    "sample_c.shape"
   ]
  },
  {
   "cell_type": "code",
   "execution_count": 43,
   "id": "e374907a",
   "metadata": {},
   "outputs": [
    {
     "data": {
      "text/plain": [
       "(1000, 2)"
      ]
     },
     "execution_count": 43,
     "metadata": {},
     "output_type": "execute_result"
    }
   ],
   "source": [
    "item_prices.drop_duplicates(inplace=True)\n",
    "item_prices.shape"
   ]
  },
  {
   "cell_type": "markdown",
   "id": "78043953",
   "metadata": {},
   "source": [
    "Проверим наборы данных на наличие записей о покупке товара без просмотре. При сведении в сводную таблицу по 'user_id' и 'item_id' у товара, который купили без просмотра сумма по столбцу'action_id' должна быть равна 2."
   ]
  },
  {
   "cell_type": "code",
   "execution_count": 40,
   "id": "7448da53",
   "metadata": {},
   "outputs": [
    {
     "data": {
      "text/plain": [
       "array([1, 3], dtype=int64)"
      ]
     },
     "execution_count": 40,
     "metadata": {},
     "output_type": "execute_result"
    }
   ],
   "source": [
    "df = sample_a.pivot_table(index=['user_id', 'item_id'], aggfunc='sum')\n",
    "df.action_id.unique()"
   ]
  },
  {
   "cell_type": "code",
   "execution_count": 41,
   "id": "285f7f86",
   "metadata": {},
   "outputs": [
    {
     "data": {
      "text/plain": [
       "array([1, 3], dtype=int64)"
      ]
     },
     "execution_count": 41,
     "metadata": {},
     "output_type": "execute_result"
    }
   ],
   "source": [
    "df = sample_b.pivot_table(index=['user_id', 'item_id'], aggfunc='sum')\n",
    "df.action_id.unique()"
   ]
  },
  {
   "cell_type": "code",
   "execution_count": 42,
   "id": "b3030687",
   "metadata": {},
   "outputs": [
    {
     "data": {
      "text/plain": [
       "array([1, 3], dtype=int64)"
      ]
     },
     "execution_count": 42,
     "metadata": {},
     "output_type": "execute_result"
    }
   ],
   "source": [
    "df = sample_c.pivot_table(index=['user_id', 'item_id'], aggfunc='sum')\n",
    "df.action_id.unique()"
   ]
  },
  {
   "cell_type": "markdown",
   "id": "8aa8d70a",
   "metadata": {},
   "source": [
    "В наборах данных отсутствуют данные о товарах купленных без просмотра."
   ]
  }
 ],
 "metadata": {
  "kernelspec": {
   "display_name": ".venv",
   "language": "python",
   "name": "python3"
  },
  "language_info": {
   "codemirror_mode": {
    "name": "ipython",
    "version": 3
   },
   "file_extension": ".py",
   "mimetype": "text/x-python",
   "name": "python",
   "nbconvert_exporter": "python",
   "pygments_lexer": "ipython3",
   "version": "3.11.7"
  }
 },
 "nbformat": 4,
 "nbformat_minor": 5
}
