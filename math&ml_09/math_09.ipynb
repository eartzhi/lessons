{
 "cells": [
  {
   "cell_type": "markdown",
   "metadata": {},
   "source": [
    "2. Ансамбли моделей. Бутстреппинг. Бэггинг"
   ]
  },
  {
   "cell_type": "code",
   "execution_count": 83,
   "metadata": {},
   "outputs": [],
   "source": [
    "import numpy as np\n",
    "import pandas as pd\n",
    "import seaborn as sns\n",
    "import matplotlib.pyplot as plt\n",
    "import plotly.express as px\n",
    "\n",
    "from sklearn import linear_model\n",
    "from sklearn import ensemble\n",
    "from sklearn import metrics\n",
    "from sklearn import tree\n",
    "\n",
    "from sklearn.model_selection import train_test_split, GridSearchCV"
   ]
  },
  {
   "cell_type": "code",
   "execution_count": 2,
   "metadata": {},
   "outputs": [
    {
     "data": {
      "text/plain": [
       "0.31673469387755115"
      ]
     },
     "execution_count": 2,
     "metadata": {},
     "output_type": "execute_result"
    }
   ],
   "source": [
    "a = np.array([4.4, 3.8, 4.8, 4.0, 3.4, 4.2, 5.2])\n",
    "b = a.mean()\n",
    "np.sum((a - b)**2)/7"
   ]
  },
  {
   "cell_type": "code",
   "execution_count": 3,
   "metadata": {},
   "outputs": [
    {
     "data": {
      "text/html": [
       "<div>\n",
       "<style scoped>\n",
       "    .dataframe tbody tr th:only-of-type {\n",
       "        vertical-align: middle;\n",
       "    }\n",
       "\n",
       "    .dataframe tbody tr th {\n",
       "        vertical-align: top;\n",
       "    }\n",
       "\n",
       "    .dataframe thead th {\n",
       "        text-align: right;\n",
       "    }\n",
       "</style>\n",
       "<table border=\"1\" class=\"dataframe\">\n",
       "  <thead>\n",
       "    <tr style=\"text-align: right;\">\n",
       "      <th></th>\n",
       "      <th>fixed.acidity</th>\n",
       "      <th>volatile.acidity</th>\n",
       "      <th>citric.acid</th>\n",
       "      <th>residual.sugar</th>\n",
       "      <th>chlorides</th>\n",
       "      <th>free.sulfur.dioxide</th>\n",
       "      <th>total.sulfur.dioxide</th>\n",
       "      <th>density</th>\n",
       "      <th>pH</th>\n",
       "      <th>sulphates</th>\n",
       "      <th>alcohol</th>\n",
       "      <th>quality</th>\n",
       "    </tr>\n",
       "  </thead>\n",
       "  <tbody>\n",
       "    <tr>\n",
       "      <th>1</th>\n",
       "      <td>7.4</td>\n",
       "      <td>0.70</td>\n",
       "      <td>0.00</td>\n",
       "      <td>1.9</td>\n",
       "      <td>0.076</td>\n",
       "      <td>11.0</td>\n",
       "      <td>34.0</td>\n",
       "      <td>0.9978</td>\n",
       "      <td>3.51</td>\n",
       "      <td>0.56</td>\n",
       "      <td>9.4</td>\n",
       "      <td>5</td>\n",
       "    </tr>\n",
       "    <tr>\n",
       "      <th>2</th>\n",
       "      <td>7.8</td>\n",
       "      <td>0.88</td>\n",
       "      <td>0.00</td>\n",
       "      <td>2.6</td>\n",
       "      <td>0.098</td>\n",
       "      <td>25.0</td>\n",
       "      <td>67.0</td>\n",
       "      <td>0.9968</td>\n",
       "      <td>3.20</td>\n",
       "      <td>0.68</td>\n",
       "      <td>9.8</td>\n",
       "      <td>5</td>\n",
       "    </tr>\n",
       "    <tr>\n",
       "      <th>3</th>\n",
       "      <td>7.8</td>\n",
       "      <td>0.76</td>\n",
       "      <td>0.04</td>\n",
       "      <td>2.3</td>\n",
       "      <td>0.092</td>\n",
       "      <td>15.0</td>\n",
       "      <td>54.0</td>\n",
       "      <td>0.9970</td>\n",
       "      <td>3.26</td>\n",
       "      <td>0.65</td>\n",
       "      <td>9.8</td>\n",
       "      <td>5</td>\n",
       "    </tr>\n",
       "    <tr>\n",
       "      <th>4</th>\n",
       "      <td>11.2</td>\n",
       "      <td>0.28</td>\n",
       "      <td>0.56</td>\n",
       "      <td>1.9</td>\n",
       "      <td>0.075</td>\n",
       "      <td>17.0</td>\n",
       "      <td>60.0</td>\n",
       "      <td>0.9980</td>\n",
       "      <td>3.16</td>\n",
       "      <td>0.58</td>\n",
       "      <td>9.8</td>\n",
       "      <td>6</td>\n",
       "    </tr>\n",
       "    <tr>\n",
       "      <th>5</th>\n",
       "      <td>7.4</td>\n",
       "      <td>0.70</td>\n",
       "      <td>0.00</td>\n",
       "      <td>1.9</td>\n",
       "      <td>0.076</td>\n",
       "      <td>11.0</td>\n",
       "      <td>34.0</td>\n",
       "      <td>0.9978</td>\n",
       "      <td>3.51</td>\n",
       "      <td>0.56</td>\n",
       "      <td>9.4</td>\n",
       "      <td>5</td>\n",
       "    </tr>\n",
       "  </tbody>\n",
       "</table>\n",
       "</div>"
      ],
      "text/plain": [
       "   fixed.acidity  volatile.acidity  citric.acid  residual.sugar  chlorides  \\\n",
       "1            7.4              0.70         0.00             1.9      0.076   \n",
       "2            7.8              0.88         0.00             2.6      0.098   \n",
       "3            7.8              0.76         0.04             2.3      0.092   \n",
       "4           11.2              0.28         0.56             1.9      0.075   \n",
       "5            7.4              0.70         0.00             1.9      0.076   \n",
       "\n",
       "   free.sulfur.dioxide  total.sulfur.dioxide  density    pH  sulphates  \\\n",
       "1                 11.0                  34.0   0.9978  3.51       0.56   \n",
       "2                 25.0                  67.0   0.9968  3.20       0.68   \n",
       "3                 15.0                  54.0   0.9970  3.26       0.65   \n",
       "4                 17.0                  60.0   0.9980  3.16       0.58   \n",
       "5                 11.0                  34.0   0.9978  3.51       0.56   \n",
       "\n",
       "   alcohol  quality  \n",
       "1      9.4        5  \n",
       "2      9.8        5  \n",
       "3      9.8        5  \n",
       "4      9.8        6  \n",
       "5      9.4        5  "
      ]
     },
     "execution_count": 3,
     "metadata": {},
     "output_type": "execute_result"
    }
   ],
   "source": [
    "data = pd.read_csv('data/wineQualityReds.zip', index_col=0)\n",
    "data.head()"
   ]
  },
  {
   "cell_type": "code",
   "execution_count": 4,
   "metadata": {},
   "outputs": [
    {
     "data": {
      "text/html": [
       "<div>\n",
       "<style scoped>\n",
       "    .dataframe tbody tr th:only-of-type {\n",
       "        vertical-align: middle;\n",
       "    }\n",
       "\n",
       "    .dataframe tbody tr th {\n",
       "        vertical-align: top;\n",
       "    }\n",
       "\n",
       "    .dataframe thead th {\n",
       "        text-align: right;\n",
       "    }\n",
       "</style>\n",
       "<table border=\"1\" class=\"dataframe\">\n",
       "  <thead>\n",
       "    <tr style=\"text-align: right;\">\n",
       "      <th></th>\n",
       "      <th>fixed.acidity</th>\n",
       "      <th>volatile.acidity</th>\n",
       "      <th>citric.acid</th>\n",
       "      <th>residual.sugar</th>\n",
       "      <th>chlorides</th>\n",
       "      <th>free.sulfur.dioxide</th>\n",
       "      <th>total.sulfur.dioxide</th>\n",
       "      <th>density</th>\n",
       "      <th>pH</th>\n",
       "      <th>sulphates</th>\n",
       "      <th>alcohol</th>\n",
       "      <th>quality</th>\n",
       "    </tr>\n",
       "  </thead>\n",
       "  <tbody>\n",
       "    <tr>\n",
       "      <th>1</th>\n",
       "      <td>7.4</td>\n",
       "      <td>0.70</td>\n",
       "      <td>0.00</td>\n",
       "      <td>1.9</td>\n",
       "      <td>0.076</td>\n",
       "      <td>11.0</td>\n",
       "      <td>34.0</td>\n",
       "      <td>0.9978</td>\n",
       "      <td>3.51</td>\n",
       "      <td>0.56</td>\n",
       "      <td>9.4</td>\n",
       "      <td>0</td>\n",
       "    </tr>\n",
       "    <tr>\n",
       "      <th>2</th>\n",
       "      <td>7.8</td>\n",
       "      <td>0.88</td>\n",
       "      <td>0.00</td>\n",
       "      <td>2.6</td>\n",
       "      <td>0.098</td>\n",
       "      <td>25.0</td>\n",
       "      <td>67.0</td>\n",
       "      <td>0.9968</td>\n",
       "      <td>3.20</td>\n",
       "      <td>0.68</td>\n",
       "      <td>9.8</td>\n",
       "      <td>0</td>\n",
       "    </tr>\n",
       "    <tr>\n",
       "      <th>3</th>\n",
       "      <td>7.8</td>\n",
       "      <td>0.76</td>\n",
       "      <td>0.04</td>\n",
       "      <td>2.3</td>\n",
       "      <td>0.092</td>\n",
       "      <td>15.0</td>\n",
       "      <td>54.0</td>\n",
       "      <td>0.9970</td>\n",
       "      <td>3.26</td>\n",
       "      <td>0.65</td>\n",
       "      <td>9.8</td>\n",
       "      <td>0</td>\n",
       "    </tr>\n",
       "    <tr>\n",
       "      <th>4</th>\n",
       "      <td>11.2</td>\n",
       "      <td>0.28</td>\n",
       "      <td>0.56</td>\n",
       "      <td>1.9</td>\n",
       "      <td>0.075</td>\n",
       "      <td>17.0</td>\n",
       "      <td>60.0</td>\n",
       "      <td>0.9980</td>\n",
       "      <td>3.16</td>\n",
       "      <td>0.58</td>\n",
       "      <td>9.8</td>\n",
       "      <td>1</td>\n",
       "    </tr>\n",
       "    <tr>\n",
       "      <th>5</th>\n",
       "      <td>7.4</td>\n",
       "      <td>0.70</td>\n",
       "      <td>0.00</td>\n",
       "      <td>1.9</td>\n",
       "      <td>0.076</td>\n",
       "      <td>11.0</td>\n",
       "      <td>34.0</td>\n",
       "      <td>0.9978</td>\n",
       "      <td>3.51</td>\n",
       "      <td>0.56</td>\n",
       "      <td>9.4</td>\n",
       "      <td>0</td>\n",
       "    </tr>\n",
       "  </tbody>\n",
       "</table>\n",
       "</div>"
      ],
      "text/plain": [
       "   fixed.acidity  volatile.acidity  citric.acid  residual.sugar  chlorides  \\\n",
       "1            7.4              0.70         0.00             1.9      0.076   \n",
       "2            7.8              0.88         0.00             2.6      0.098   \n",
       "3            7.8              0.76         0.04             2.3      0.092   \n",
       "4           11.2              0.28         0.56             1.9      0.075   \n",
       "5            7.4              0.70         0.00             1.9      0.076   \n",
       "\n",
       "   free.sulfur.dioxide  total.sulfur.dioxide  density    pH  sulphates  \\\n",
       "1                 11.0                  34.0   0.9978  3.51       0.56   \n",
       "2                 25.0                  67.0   0.9968  3.20       0.68   \n",
       "3                 15.0                  54.0   0.9970  3.26       0.65   \n",
       "4                 17.0                  60.0   0.9980  3.16       0.58   \n",
       "5                 11.0                  34.0   0.9978  3.51       0.56   \n",
       "\n",
       "   alcohol  quality  \n",
       "1      9.4        0  \n",
       "2      9.8        0  \n",
       "3      9.8        0  \n",
       "4      9.8        1  \n",
       "5      9.4        0  "
      ]
     },
     "execution_count": 4,
     "metadata": {},
     "output_type": "execute_result"
    }
   ],
   "source": [
    "data['quality'] = data['quality'].apply(lambda x: 1 if x >=6 else 0)\n",
    "data.head()"
   ]
  },
  {
   "cell_type": "code",
   "execution_count": 5,
   "metadata": {},
   "outputs": [],
   "source": [
    "X = data.drop('quality', axis=1)\n",
    "y = data['quality']"
   ]
  },
  {
   "cell_type": "code",
   "execution_count": 6,
   "metadata": {},
   "outputs": [],
   "source": [
    "X_train, X_test, y_train, y_test = train_test_split(X, y, random_state = 42, test_size = 0.3)"
   ]
  },
  {
   "cell_type": "code",
   "execution_count": 7,
   "metadata": {},
   "outputs": [
    {
     "name": "stdout",
     "output_type": "stream",
     "text": [
      "f1 metric 0.7542857142857143\n"
     ]
    },
    {
     "name": "stderr",
     "output_type": "stream",
     "text": [
      "c:\\Projects\\DS\\lessons\\.venv\\Lib\\site-packages\\sklearn\\linear_model\\_logistic.py:469: ConvergenceWarning: lbfgs failed to converge (status=1):\n",
      "STOP: TOTAL NO. of ITERATIONS REACHED LIMIT.\n",
      "\n",
      "Increase the number of iterations (max_iter) or scale the data as shown in:\n",
      "    https://scikit-learn.org/stable/modules/preprocessing.html\n",
      "Please also refer to the documentation for alternative solver options:\n",
      "    https://scikit-learn.org/stable/modules/linear_model.html#logistic-regression\n",
      "  n_iter_i = _check_optimize_result(\n"
     ]
    }
   ],
   "source": [
    "lr = linear_model.LogisticRegression()\n",
    "\n",
    "lr.fit(X_train, y_train)\n",
    "\n",
    "y_test_pred = lr.predict(X_test)\n",
    "\n",
    "print(f'f1 metric {metrics.f1_score(y_test_pred, y_test)}')"
   ]
  },
  {
   "cell_type": "code",
   "execution_count": 8,
   "metadata": {},
   "outputs": [
    {
     "name": "stdout",
     "output_type": "stream",
     "text": [
      "f1 metric 0.7927927927927928\n"
     ]
    }
   ],
   "source": [
    "dt = tree.DecisionTreeClassifier(random_state=42, max_depth=10)\n",
    "\n",
    "dt.fit(X_train, y_train)\n",
    "\n",
    "y_test_pred = dt.predict(X_test)\n",
    "\n",
    "print(f'f1 metric {metrics.f1_score(y_test_pred, y_test)}')"
   ]
  },
  {
   "cell_type": "code",
   "execution_count": 9,
   "metadata": {},
   "outputs": [
    {
     "name": "stdout",
     "output_type": "stream",
     "text": [
      "f1 metric 0.8181818181818182\n"
     ]
    }
   ],
   "source": [
    "bc = ensemble.BaggingClassifier(estimator=dt, n_estimators=1500, random_state=42)\n",
    "\n",
    "bc.fit(X_train, y_train)\n",
    "\n",
    "y_test_pred = bc.predict(X_test)\n",
    "\n",
    "print(f'f1 metric {metrics.f1_score(y_test_pred, y_test)}')"
   ]
  },
  {
   "cell_type": "markdown",
   "metadata": {},
   "source": [
    " 3. Случайный лес"
   ]
  },
  {
   "cell_type": "code",
   "execution_count": 10,
   "metadata": {},
   "outputs": [
    {
     "data": {
      "text/html": [
       "<div>\n",
       "<style scoped>\n",
       "    .dataframe tbody tr th:only-of-type {\n",
       "        vertical-align: middle;\n",
       "    }\n",
       "\n",
       "    .dataframe tbody tr th {\n",
       "        vertical-align: top;\n",
       "    }\n",
       "\n",
       "    .dataframe thead th {\n",
       "        text-align: right;\n",
       "    }\n",
       "</style>\n",
       "<table border=\"1\" class=\"dataframe\">\n",
       "  <thead>\n",
       "    <tr style=\"text-align: right;\">\n",
       "      <th></th>\n",
       "      <th>crim_rate</th>\n",
       "      <th>zn</th>\n",
       "      <th>business</th>\n",
       "      <th>river</th>\n",
       "      <th>nit_oxiden</th>\n",
       "      <th>rooms</th>\n",
       "      <th>age</th>\n",
       "      <th>dist</th>\n",
       "      <th>highways_index</th>\n",
       "      <th>tax</th>\n",
       "      <th>pup_per_teaс</th>\n",
       "      <th>lower</th>\n",
       "      <th>target</th>\n",
       "    </tr>\n",
       "  </thead>\n",
       "  <tbody>\n",
       "    <tr>\n",
       "      <th>0</th>\n",
       "      <td>0.00632</td>\n",
       "      <td>18.0</td>\n",
       "      <td>2.31</td>\n",
       "      <td>0</td>\n",
       "      <td>0.538</td>\n",
       "      <td>6.575</td>\n",
       "      <td>65.2</td>\n",
       "      <td>4.0900</td>\n",
       "      <td>1</td>\n",
       "      <td>296</td>\n",
       "      <td>15.3</td>\n",
       "      <td>4.98</td>\n",
       "      <td>24.0</td>\n",
       "    </tr>\n",
       "    <tr>\n",
       "      <th>1</th>\n",
       "      <td>0.02731</td>\n",
       "      <td>0.0</td>\n",
       "      <td>7.07</td>\n",
       "      <td>0</td>\n",
       "      <td>0.469</td>\n",
       "      <td>6.421</td>\n",
       "      <td>78.9</td>\n",
       "      <td>4.9671</td>\n",
       "      <td>2</td>\n",
       "      <td>242</td>\n",
       "      <td>17.8</td>\n",
       "      <td>9.14</td>\n",
       "      <td>21.6</td>\n",
       "    </tr>\n",
       "    <tr>\n",
       "      <th>2</th>\n",
       "      <td>0.02729</td>\n",
       "      <td>0.0</td>\n",
       "      <td>7.07</td>\n",
       "      <td>0</td>\n",
       "      <td>0.469</td>\n",
       "      <td>7.185</td>\n",
       "      <td>61.1</td>\n",
       "      <td>4.9671</td>\n",
       "      <td>2</td>\n",
       "      <td>242</td>\n",
       "      <td>17.8</td>\n",
       "      <td>4.03</td>\n",
       "      <td>34.7</td>\n",
       "    </tr>\n",
       "    <tr>\n",
       "      <th>3</th>\n",
       "      <td>0.03237</td>\n",
       "      <td>0.0</td>\n",
       "      <td>2.18</td>\n",
       "      <td>0</td>\n",
       "      <td>0.458</td>\n",
       "      <td>6.998</td>\n",
       "      <td>45.8</td>\n",
       "      <td>6.0622</td>\n",
       "      <td>3</td>\n",
       "      <td>222</td>\n",
       "      <td>18.7</td>\n",
       "      <td>2.94</td>\n",
       "      <td>33.4</td>\n",
       "    </tr>\n",
       "    <tr>\n",
       "      <th>4</th>\n",
       "      <td>0.06905</td>\n",
       "      <td>0.0</td>\n",
       "      <td>2.18</td>\n",
       "      <td>0</td>\n",
       "      <td>0.458</td>\n",
       "      <td>7.147</td>\n",
       "      <td>54.2</td>\n",
       "      <td>6.0622</td>\n",
       "      <td>3</td>\n",
       "      <td>222</td>\n",
       "      <td>18.7</td>\n",
       "      <td>5.33</td>\n",
       "      <td>36.2</td>\n",
       "    </tr>\n",
       "  </tbody>\n",
       "</table>\n",
       "</div>"
      ],
      "text/plain": [
       "   crim_rate    zn  business  river  nit_oxiden  rooms   age    dist  \\\n",
       "0    0.00632  18.0      2.31      0       0.538  6.575  65.2  4.0900   \n",
       "1    0.02731   0.0      7.07      0       0.469  6.421  78.9  4.9671   \n",
       "2    0.02729   0.0      7.07      0       0.469  7.185  61.1  4.9671   \n",
       "3    0.03237   0.0      2.18      0       0.458  6.998  45.8  6.0622   \n",
       "4    0.06905   0.0      2.18      0       0.458  7.147  54.2  6.0622   \n",
       "\n",
       "   highways_index  tax  pup_per_teaс  lower  target  \n",
       "0               1  296          15.3   4.98    24.0  \n",
       "1               2  242          17.8   9.14    21.6  \n",
       "2               2  242          17.8   4.03    34.7  \n",
       "3               3  222          18.7   2.94    33.4  \n",
       "4               3  222          18.7   5.33    36.2  "
      ]
     },
     "execution_count": 10,
     "metadata": {},
     "output_type": "execute_result"
    }
   ],
   "source": [
    "data = pd.read_csv('data/boston__1_.zip')\n",
    "\n",
    "for col in data.columns:\n",
    "    if type(data[col][0]) is str:\n",
    "        data[col] = data[col].str.replace(',', '.').astype(float)\n",
    "data.head()\n"
   ]
  },
  {
   "cell_type": "markdown",
   "metadata": {},
   "source": [
    "Задание 3.4\n",
    "4 points possible (graded)\n",
    "1. Разбейте набор данных на обучающую и тестовую выборку в соотношении 70/30, при разбиении задайте параметр random_state = 13.\n",
    "\n",
    "Какое получилось среднее значение медианных цен на обучающей выборке? Ответ округлите до двух знаков после точки-разделителя.\n",
    "\n",
    "  нет ответа \n",
    " \n",
    "2. Обучите линейную регрессию с параметрами по умолчанию.\n",
    "\n",
    "В качестве ответа введите ошибку MAE на тестовой выборке. Ответ округлите до двух знаков после точки-разделителя.\n",
    "\n",
    "  нет ответа \n",
    " \n",
    "\n",
    "3. Обучите решающее дерево с параметрами по умолчанию и аргументом random_state = 13.\n",
    "\n",
    "Можно ли, опираясь на результаты, сделать вывод, что алгоритм переобучился?"
   ]
  },
  {
   "cell_type": "code",
   "execution_count": 11,
   "metadata": {},
   "outputs": [
    {
     "data": {
      "text/plain": [
       "0      24.0\n",
       "1      21.6\n",
       "2      34.7\n",
       "3      33.4\n",
       "4      36.2\n",
       "       ... \n",
       "501    22.4\n",
       "502    20.6\n",
       "503    23.9\n",
       "504    22.0\n",
       "505    11.9\n",
       "Name: target, Length: 506, dtype: float64"
      ]
     },
     "execution_count": 11,
     "metadata": {},
     "output_type": "execute_result"
    }
   ],
   "source": [
    "X = data.drop('target', axis=1)\n",
    "y = data['target']\n",
    "y"
   ]
  },
  {
   "cell_type": "code",
   "execution_count": 12,
   "metadata": {},
   "outputs": [],
   "source": [
    "X_train, X_test, y_train, y_test = train_test_split(X, y, random_state = 13, test_size = 0.3)"
   ]
  },
  {
   "cell_type": "code",
   "execution_count": 13,
   "metadata": {},
   "outputs": [
    {
     "data": {
      "text/plain": [
       "475    13.3\n",
       "489     7.0\n",
       "298    22.5\n",
       "100    27.5\n",
       "223    30.1\n",
       "       ... \n",
       "230    24.3\n",
       "16     23.1\n",
       "74     24.1\n",
       "176    23.2\n",
       "338    20.6\n",
       "Name: target, Length: 354, dtype: float64"
      ]
     },
     "execution_count": 13,
     "metadata": {},
     "output_type": "execute_result"
    }
   ],
   "source": [
    "y_train"
   ]
  },
  {
   "cell_type": "code",
   "execution_count": 14,
   "metadata": {},
   "outputs": [
    {
     "name": "stdout",
     "output_type": "stream",
     "text": [
      "median train target = 22.77316384180791\n"
     ]
    }
   ],
   "source": [
    "print(f'median train target = {y_train.mean()}')"
   ]
  },
  {
   "cell_type": "code",
   "execution_count": 15,
   "metadata": {},
   "outputs": [
    {
     "name": "stdout",
     "output_type": "stream",
     "text": [
      "MAE metric 3.7222793958561513\n"
     ]
    }
   ],
   "source": [
    "linr = linear_model.LinearRegression()\n",
    "\n",
    "\n",
    "linr.fit(X_train, y_train)\n",
    "\n",
    "y_test_pred = linr.predict(X_test)\n",
    "\n",
    "print(f'MAE metric {metrics.mean_absolute_error(y_test_pred, y_test)}')"
   ]
  },
  {
   "cell_type": "code",
   "execution_count": 16,
   "metadata": {},
   "outputs": [
    {
     "name": "stdout",
     "output_type": "stream",
     "text": [
      "MAE tests metric 2.8388157894736845\n",
      "MAE train metric 0.0\n"
     ]
    }
   ],
   "source": [
    "trreg = tree.DecisionTreeRegressor(random_state=13)\n",
    "\n",
    "trreg.fit(X_train, y_train)\n",
    "\n",
    "y_test_pred = trreg.predict(X_test)\n",
    "y_train_pred = trreg.predict(X_train)\n",
    "\n",
    "print(f'MAE tests metric {metrics.mean_absolute_error(y_test_pred, y_test)}')\n",
    "print(f'MAE train metric {metrics.mean_absolute_error(y_train_pred, y_train)}')"
   ]
  },
  {
   "cell_type": "code",
   "execution_count": 17,
   "metadata": {},
   "outputs": [
    {
     "name": "stdout",
     "output_type": "stream",
     "text": [
      "MAE tests metric 2.9328947368421057\n",
      "MAE train metric 1.017231638418079\n",
      "\n",
      "MAE tests metric 2.466315789473684\n",
      "MAE train metric 0.9755367231638419\n",
      "\n",
      "MAE tests metric 2.2559736842105265\n",
      "MAE train metric 0.8717740112994352\n",
      "\n",
      "MAE tests metric 2.2365657894736892\n",
      "MAE train metric 0.8478135593220345\n",
      "\n"
     ]
    }
   ],
   "source": [
    "for n in [3, 10, 100, 500]:\n",
    "    rand_tree = ensemble.RandomForestRegressor(n_estimators=n, random_state=13)\n",
    "    \n",
    "    rand_tree.fit(X_train, y_train)\n",
    "\n",
    "    y_test_pred = rand_tree.predict(X_test)\n",
    "    y_train_pred = rand_tree.predict(X_train)\n",
    "\n",
    "    print(f'MAE tests metric {metrics.mean_absolute_error(y_test_pred, y_test)}')\n",
    "    print(f'MAE train metric {metrics.mean_absolute_error(y_train_pred, y_train)}\\n')"
   ]
  },
  {
   "cell_type": "markdown",
   "metadata": {},
   "source": [
    "4. Случайный лес. Практика"
   ]
  },
  {
   "cell_type": "code",
   "execution_count": 18,
   "metadata": {},
   "outputs": [
    {
     "data": {
      "text/html": [
       "<div>\n",
       "<style scoped>\n",
       "    .dataframe tbody tr th:only-of-type {\n",
       "        vertical-align: middle;\n",
       "    }\n",
       "\n",
       "    .dataframe tbody tr th {\n",
       "        vertical-align: top;\n",
       "    }\n",
       "\n",
       "    .dataframe thead th {\n",
       "        text-align: right;\n",
       "    }\n",
       "</style>\n",
       "<table border=\"1\" class=\"dataframe\">\n",
       "  <thead>\n",
       "    <tr style=\"text-align: right;\">\n",
       "      <th></th>\n",
       "      <th>Date</th>\n",
       "      <th>Location</th>\n",
       "      <th>MinTemp</th>\n",
       "      <th>MaxTemp</th>\n",
       "      <th>Rainfall</th>\n",
       "      <th>Evaporation</th>\n",
       "      <th>Sunshine</th>\n",
       "      <th>WindGustDir</th>\n",
       "      <th>WindGustSpeed</th>\n",
       "      <th>WindDir9am</th>\n",
       "      <th>...</th>\n",
       "      <th>Humidity9am</th>\n",
       "      <th>Humidity3pm</th>\n",
       "      <th>Pressure9am</th>\n",
       "      <th>Pressure3pm</th>\n",
       "      <th>Cloud9am</th>\n",
       "      <th>Cloud3pm</th>\n",
       "      <th>Temp9am</th>\n",
       "      <th>Temp3pm</th>\n",
       "      <th>RainToday</th>\n",
       "      <th>RainTomorrow</th>\n",
       "    </tr>\n",
       "  </thead>\n",
       "  <tbody>\n",
       "    <tr>\n",
       "      <th>0</th>\n",
       "      <td>2008-12-01</td>\n",
       "      <td>Albury</td>\n",
       "      <td>13.4</td>\n",
       "      <td>22.9</td>\n",
       "      <td>0.6</td>\n",
       "      <td>NaN</td>\n",
       "      <td>NaN</td>\n",
       "      <td>W</td>\n",
       "      <td>44.0</td>\n",
       "      <td>W</td>\n",
       "      <td>...</td>\n",
       "      <td>71.0</td>\n",
       "      <td>22.0</td>\n",
       "      <td>1007.7</td>\n",
       "      <td>1007.1</td>\n",
       "      <td>8.0</td>\n",
       "      <td>NaN</td>\n",
       "      <td>16.9</td>\n",
       "      <td>21.8</td>\n",
       "      <td>No</td>\n",
       "      <td>No</td>\n",
       "    </tr>\n",
       "    <tr>\n",
       "      <th>1</th>\n",
       "      <td>2008-12-02</td>\n",
       "      <td>Albury</td>\n",
       "      <td>7.4</td>\n",
       "      <td>25.1</td>\n",
       "      <td>0.0</td>\n",
       "      <td>NaN</td>\n",
       "      <td>NaN</td>\n",
       "      <td>WNW</td>\n",
       "      <td>44.0</td>\n",
       "      <td>NNW</td>\n",
       "      <td>...</td>\n",
       "      <td>44.0</td>\n",
       "      <td>25.0</td>\n",
       "      <td>1010.6</td>\n",
       "      <td>1007.8</td>\n",
       "      <td>NaN</td>\n",
       "      <td>NaN</td>\n",
       "      <td>17.2</td>\n",
       "      <td>24.3</td>\n",
       "      <td>No</td>\n",
       "      <td>No</td>\n",
       "    </tr>\n",
       "    <tr>\n",
       "      <th>2</th>\n",
       "      <td>2008-12-03</td>\n",
       "      <td>Albury</td>\n",
       "      <td>12.9</td>\n",
       "      <td>25.7</td>\n",
       "      <td>0.0</td>\n",
       "      <td>NaN</td>\n",
       "      <td>NaN</td>\n",
       "      <td>WSW</td>\n",
       "      <td>46.0</td>\n",
       "      <td>W</td>\n",
       "      <td>...</td>\n",
       "      <td>38.0</td>\n",
       "      <td>30.0</td>\n",
       "      <td>1007.6</td>\n",
       "      <td>1008.7</td>\n",
       "      <td>NaN</td>\n",
       "      <td>2.0</td>\n",
       "      <td>21.0</td>\n",
       "      <td>23.2</td>\n",
       "      <td>No</td>\n",
       "      <td>No</td>\n",
       "    </tr>\n",
       "    <tr>\n",
       "      <th>3</th>\n",
       "      <td>2008-12-04</td>\n",
       "      <td>Albury</td>\n",
       "      <td>9.2</td>\n",
       "      <td>28.0</td>\n",
       "      <td>0.0</td>\n",
       "      <td>NaN</td>\n",
       "      <td>NaN</td>\n",
       "      <td>NE</td>\n",
       "      <td>24.0</td>\n",
       "      <td>SE</td>\n",
       "      <td>...</td>\n",
       "      <td>45.0</td>\n",
       "      <td>16.0</td>\n",
       "      <td>1017.6</td>\n",
       "      <td>1012.8</td>\n",
       "      <td>NaN</td>\n",
       "      <td>NaN</td>\n",
       "      <td>18.1</td>\n",
       "      <td>26.5</td>\n",
       "      <td>No</td>\n",
       "      <td>No</td>\n",
       "    </tr>\n",
       "    <tr>\n",
       "      <th>4</th>\n",
       "      <td>2008-12-05</td>\n",
       "      <td>Albury</td>\n",
       "      <td>17.5</td>\n",
       "      <td>32.3</td>\n",
       "      <td>1.0</td>\n",
       "      <td>NaN</td>\n",
       "      <td>NaN</td>\n",
       "      <td>W</td>\n",
       "      <td>41.0</td>\n",
       "      <td>ENE</td>\n",
       "      <td>...</td>\n",
       "      <td>82.0</td>\n",
       "      <td>33.0</td>\n",
       "      <td>1010.8</td>\n",
       "      <td>1006.0</td>\n",
       "      <td>7.0</td>\n",
       "      <td>8.0</td>\n",
       "      <td>17.8</td>\n",
       "      <td>29.7</td>\n",
       "      <td>No</td>\n",
       "      <td>No</td>\n",
       "    </tr>\n",
       "  </tbody>\n",
       "</table>\n",
       "<p>5 rows × 23 columns</p>\n",
       "</div>"
      ],
      "text/plain": [
       "         Date Location  MinTemp  MaxTemp  Rainfall  Evaporation  Sunshine  \\\n",
       "0  2008-12-01   Albury     13.4     22.9       0.6          NaN       NaN   \n",
       "1  2008-12-02   Albury      7.4     25.1       0.0          NaN       NaN   \n",
       "2  2008-12-03   Albury     12.9     25.7       0.0          NaN       NaN   \n",
       "3  2008-12-04   Albury      9.2     28.0       0.0          NaN       NaN   \n",
       "4  2008-12-05   Albury     17.5     32.3       1.0          NaN       NaN   \n",
       "\n",
       "  WindGustDir  WindGustSpeed WindDir9am  ... Humidity9am  Humidity3pm  \\\n",
       "0           W           44.0          W  ...        71.0         22.0   \n",
       "1         WNW           44.0        NNW  ...        44.0         25.0   \n",
       "2         WSW           46.0          W  ...        38.0         30.0   \n",
       "3          NE           24.0         SE  ...        45.0         16.0   \n",
       "4           W           41.0        ENE  ...        82.0         33.0   \n",
       "\n",
       "   Pressure9am  Pressure3pm  Cloud9am  Cloud3pm  Temp9am  Temp3pm  RainToday  \\\n",
       "0       1007.7       1007.1       8.0       NaN     16.9     21.8         No   \n",
       "1       1010.6       1007.8       NaN       NaN     17.2     24.3         No   \n",
       "2       1007.6       1008.7       NaN       2.0     21.0     23.2         No   \n",
       "3       1017.6       1012.8       NaN       NaN     18.1     26.5         No   \n",
       "4       1010.8       1006.0       7.0       8.0     17.8     29.7         No   \n",
       "\n",
       "   RainTomorrow  \n",
       "0            No  \n",
       "1            No  \n",
       "2            No  \n",
       "3            No  \n",
       "4            No  \n",
       "\n",
       "[5 rows x 23 columns]"
      ]
     },
     "execution_count": 18,
     "metadata": {},
     "output_type": "execute_result"
    }
   ],
   "source": [
    "data = pd.read_csv('data/weatherAUS.zip')\n",
    "data.head()"
   ]
  },
  {
   "cell_type": "markdown",
   "metadata": {},
   "source": [
    "Задание 4.1\n",
    "1 point possible (graded)\n",
    "Сколько суммарно пропусков в данных?"
   ]
  },
  {
   "cell_type": "code",
   "execution_count": 19,
   "metadata": {},
   "outputs": [
    {
     "name": "stdout",
     "output_type": "stream",
     "text": [
      "Кол-во пропусков = 343248\n"
     ]
    }
   ],
   "source": [
    "print(f'Кол-во пропусков = {data.isna().sum().sum()}')"
   ]
  },
  {
   "cell_type": "markdown",
   "metadata": {},
   "source": [
    "Задание 4.2\n",
    "1 point possible (graded)\n",
    "В некоторых признаках пропусков более 40 % — удалите такие признаки. Сколько их было?"
   ]
  },
  {
   "cell_type": "code",
   "execution_count": 20,
   "metadata": {},
   "outputs": [
    {
     "data": {
      "text/plain": [
       "['Evaporation', 'Sunshine', 'Cloud3pm']"
      ]
     },
     "execution_count": 20,
     "metadata": {},
     "output_type": "execute_result"
    }
   ],
   "source": [
    "columns_to_drop = []\n",
    "for col in data.columns:\n",
    "    if data[col].isna().sum()/145460 >=0.4:\n",
    "        columns_to_drop.append(col)\n",
    "        \n",
    "columns_to_drop"
   ]
  },
  {
   "cell_type": "code",
   "execution_count": 21,
   "metadata": {},
   "outputs": [
    {
     "data": {
      "text/plain": [
       "Index(['Date', 'Location', 'MinTemp', 'MaxTemp', 'Rainfall', 'WindGustDir',\n",
       "       'WindGustSpeed', 'WindDir9am', 'WindDir3pm', 'WindSpeed9am',\n",
       "       'WindSpeed3pm', 'Humidity9am', 'Humidity3pm', 'Pressure9am',\n",
       "       'Pressure3pm', 'Cloud9am', 'Temp9am', 'Temp3pm', 'RainToday',\n",
       "       'RainTomorrow'],\n",
       "      dtype='object')"
      ]
     },
     "execution_count": 21,
     "metadata": {},
     "output_type": "execute_result"
    }
   ],
   "source": [
    "data = data.drop(columns_to_drop, axis=1)\n",
    "data.columns"
   ]
  },
  {
   "cell_type": "markdown",
   "metadata": {},
   "source": [
    "Задание 4.3\n",
    "1 point possible (graded)\n",
    "Теперь обработаем признаки RainToday и RainTomorrow таким образом, чтобы вместо yes было значение 1, а вместо no — значение 0. Обратите внимание на то, что в признаках RainToday и RainTomorrow присутствуют пропуски, и их трогать не нужно, они должны остаться пропусками. Поэтому обрабатывайте столбцы таким образом, чтобы не видоизменить пропущенные значения.\n",
    "\n",
    "Вычислите среднее арифметическое для преобразованного признака RainToday и запишите его в ответ, предварительно округлив до двух знаков после точки-разделителя."
   ]
  },
  {
   "cell_type": "code",
   "execution_count": 22,
   "metadata": {},
   "outputs": [],
   "source": [
    "def to_binary(x):\n",
    "    if x == 'Yes':\n",
    "        return 1\n",
    "    elif x == 'No':\n",
    "        return 0\n",
    "    else:\n",
    "        return x\n",
    "    "
   ]
  },
  {
   "cell_type": "code",
   "execution_count": 23,
   "metadata": {},
   "outputs": [],
   "source": [
    "data['RainToday'] = data['RainToday'].apply(to_binary)\n",
    "data['RainTomorrow'] = data['RainTomorrow'].apply(to_binary)"
   ]
  },
  {
   "cell_type": "code",
   "execution_count": 24,
   "metadata": {},
   "outputs": [
    {
     "name": "stdout",
     "output_type": "stream",
     "text": [
      "Среднее арифметическое = 0.22419285648984874\n"
     ]
    }
   ],
   "source": [
    "print(f\"Среднее арифметическое = {data['RainToday'].mean()}\")"
   ]
  },
  {
   "cell_type": "markdown",
   "metadata": {},
   "source": [
    "Задание 4.4\n",
    "1 point possible (graded)\n",
    "Обработайте признак Date таким образом, чтобы выделить в отдельный признак Month (номер месяца). Изначальный признак Date удалите. Определите, какой месяц имеет самую большую часть дождливых дней относительно всех дней месяца. В качестве ответа введите порядковый номер месяца."
   ]
  },
  {
   "cell_type": "code",
   "execution_count": 25,
   "metadata": {},
   "outputs": [
    {
     "name": "stdout",
     "output_type": "stream",
     "text": [
      "Относительное количество дождливых дней \n",
      "        RainToday\n",
      "Month           \n",
      "1       0.189484\n",
      "2       0.206746\n",
      "3       0.217135\n",
      "4       0.216845\n",
      "5       0.222163\n",
      "6       0.263638\n",
      "7       0.270736\n",
      "8       0.253167\n",
      "9       0.229135\n",
      "10      0.196512\n",
      "11      0.210843\n",
      "12      0.213037\n"
     ]
    }
   ],
   "source": [
    "data['Month'] = pd.to_datetime(data['Date'], yearfirst=True).dt.month\n",
    "\n",
    "print(f\"Относительное количество дождливых дней \\n {data[['Month', 'RainToday']].groupby('Month').mean('RainToday')}\")"
   ]
  },
  {
   "cell_type": "code",
   "execution_count": 26,
   "metadata": {},
   "outputs": [
    {
     "data": {
      "text/plain": [
       "Index(['Location', 'MinTemp', 'MaxTemp', 'Rainfall', 'WindGustDir',\n",
       "       'WindGustSpeed', 'WindDir9am', 'WindDir3pm', 'WindSpeed9am',\n",
       "       'WindSpeed3pm', 'Humidity9am', 'Humidity3pm', 'Pressure9am',\n",
       "       'Pressure3pm', 'Cloud9am', 'Temp9am', 'Temp3pm', 'RainToday',\n",
       "       'RainTomorrow', 'Month'],\n",
       "      dtype='object')"
      ]
     },
     "execution_count": 26,
     "metadata": {},
     "output_type": "execute_result"
    }
   ],
   "source": [
    "data = data.drop('Date', axis=1)\n",
    "data.columns"
   ]
  },
  {
   "cell_type": "markdown",
   "metadata": {},
   "source": [
    "Задание 4.5\n",
    "1 point possible (graded)\n",
    "Обработайте оставшиеся категориальные признаки. С помощью метода get_dummies с настройками по умолчанию создайте dummy-переменные для всех категориальных признаков (их пять), которые есть в данных на этот момент.\n",
    "\n",
    "Кодировку признаков важно выполнить именно в следующем порядке: categoricals = ['Month', 'Location', 'WindGustDir', 'WindDir9am', 'WindDir3pm']. Это необходимо для того, чтобы ваши дальнейшие ответы сходились с нашим решением, так как алгоритм случайного леса, который мы будем использовать в дальнейшем, чувствителен к порядку столбцов. Аргумент categoricals передаётся в функцию pd.get_dummies() с использованием ключевого слова columns, а именно columns=categoricals.\n",
    "\n",
    "Сколько теперь признаков в данных, если считать целевую переменную?"
   ]
  },
  {
   "cell_type": "code",
   "execution_count": 27,
   "metadata": {},
   "outputs": [],
   "source": [
    "categoricals = ['Month', 'Location', 'WindGustDir', 'WindDir9am', 'WindDir3pm']\n",
    "\n",
    "data = pd.get_dummies(data, columns=categoricals)"
   ]
  },
  {
   "cell_type": "code",
   "execution_count": 28,
   "metadata": {},
   "outputs": [
    {
     "name": "stdout",
     "output_type": "stream",
     "text": [
      "Кол-во признаков = 124\n"
     ]
    }
   ],
   "source": [
    "print(f'Кол-во признаков = {len(data.columns)}')"
   ]
  },
  {
   "cell_type": "markdown",
   "metadata": {},
   "source": [
    "Задание 4.6\n",
    "1 point possible (graded)\n",
    "Осталось совсем немного. Удалите все строки, где есть пропуски. Далее разбейте данные на обучающую и тестовую выборки в соотношении 70/30, в качестве значения параметра random_state возьмите число 31.\n",
    "\n",
    "Каково среднее значение целевой переменной на тестовой выборке? Ответ округлите до двух знаков после точки-разделителя."
   ]
  },
  {
   "cell_type": "code",
   "execution_count": 29,
   "metadata": {},
   "outputs": [],
   "source": [
    "d_data = data.dropna(axis=0, how='any')\n",
    "\n",
    "X = d_data.drop('RainTomorrow', axis=1)\n",
    "y = d_data['RainTomorrow']\n",
    "\n",
    "X_train, X_test, y_train, y_test = train_test_split(X, y, random_state = 31, test_size = 0.3)"
   ]
  },
  {
   "cell_type": "code",
   "execution_count": 30,
   "metadata": {},
   "outputs": [
    {
     "name": "stdout",
     "output_type": "stream",
     "text": [
      "Среднее в тестовой выборке = 0.22770253002811142\n"
     ]
    }
   ],
   "source": [
    "print(f'Среднее в тестовой выборке = {y_test.mean()}')"
   ]
  },
  {
   "cell_type": "code",
   "execution_count": 31,
   "metadata": {},
   "outputs": [
    {
     "data": {
      "text/plain": [
       "(78257, 124)"
      ]
     },
     "execution_count": 31,
     "metadata": {},
     "output_type": "execute_result"
    }
   ],
   "source": [
    "d_data.shape"
   ]
  },
  {
   "cell_type": "markdown",
   "metadata": {},
   "source": [
    "Задание 4.7\n",
    "1 point possible (graded)\n",
    "Теперь давайте вспомним про бутстреп. Он не понадобится нам для решения этой задачи, но будет полезно реализовать его «вручную».\n",
    "\n",
    "Сделайте оценку стандартного отклонения для среднего значения минимальной температуры для обучающей выборки (то есть для среднего значения по признаку MinTemp). Для этого сгенерируйте 1000 случайных выборок из наших данных — каждая из них должна быть такого же объёма, как и обучающая выборка. Для генерации выборки используйте np.random.randint(): сгенерируйте необходимое количество индексов и по ним извлеките соответствующие элементы выборки. Случайность фиксируйте с помощью np.random.seed(31).\n",
    "\n",
    "Для каждой выборки вычислите среднее значение, а после найдите стандартное отклонение для этих значений. Ответ округлите до двух знаков после точки-разделителя."
   ]
  },
  {
   "cell_type": "code",
   "execution_count": 86,
   "metadata": {},
   "outputs": [
    {
     "data": {
      "text/plain": [
       "(1000, 78257)"
      ]
     },
     "execution_count": 86,
     "metadata": {},
     "output_type": "execute_result"
    }
   ],
   "source": [
    "np.random.seed(31)\n",
    "num = np.random.randint(low=0, high=d_data.shape[0], size=[1000, d_data.shape[0]],)\n",
    "num.shape"
   ]
  },
  {
   "cell_type": "code",
   "execution_count": 88,
   "metadata": {},
   "outputs": [
    {
     "data": {
      "text/plain": [
       "78257"
      ]
     },
     "execution_count": 88,
     "metadata": {},
     "output_type": "execute_result"
    }
   ],
   "source": [
    "num.shape[1]"
   ]
  },
  {
   "cell_type": "code",
   "execution_count": 89,
   "metadata": {},
   "outputs": [],
   "source": [
    "mean =[]\n",
    "for raw in range(num.shape[0]):\n",
    "    sum_of_items = 0\n",
    "    for elem in  num[raw]:\n",
    "        sum_of_items += d_data['MinTemp'].iloc[elem]\n",
    "        # print(sum_of_items)\n",
    "    mean.append(sum_of_items/d_data.shape[0])\n",
    "    "
   ]
  },
  {
   "cell_type": "code",
   "execution_count": 90,
   "metadata": {},
   "outputs": [
    {
     "data": {
      "text/plain": [
       "[12.914969906845396,\n",
       " 12.89535121458776,\n",
       " 12.960677000140443,\n",
       " 12.944413918243674,\n",
       " 12.902895587615394,\n",
       " 12.914019193171203,\n",
       " 12.964183395734485,\n",
       " 12.927400743703295,\n",
       " 12.944514867679551,\n",
       " 12.918257791635083,\n",
       " 12.918846876317783,\n",
       " 12.95851105971347,\n",
       " 12.935221130378189,\n",
       " 12.973580638153768,\n",
       " 12.878479880393954,\n",
       " 12.94232592611523,\n",
       " 12.935023065029116,\n",
       " 12.903935750156547,\n",
       " 12.930155768813094,\n",
       " 12.913285712460228,\n",
       " 12.917586925131223,\n",
       " 12.936122008254852,\n",
       " 12.913919521576222,\n",
       " 12.936266404283211,\n",
       " 12.940954802765287,\n",
       " 12.930695017698081,\n",
       " 12.919710696806657,\n",
       " 12.930542954623936,\n",
       " 12.885357220440163,\n",
       " 12.906293366727594,\n",
       " 12.943092630691103,\n",
       " 12.956363009059759,\n",
       " 12.909125062294816,\n",
       " 12.954976551618254,\n",
       " 12.910416959505186,\n",
       " 12.942614718172171,\n",
       " 12.9532527441635,\n",
       " 12.944785769963064,\n",
       " 12.921141878681686,\n",
       " 12.919619970098717,\n",
       " 12.935264576970837,\n",
       " 12.91754220069766,\n",
       " 12.903828411515946,\n",
       " 12.921373167895595,\n",
       " 12.9415783891538,\n",
       " 12.948511954202232,\n",
       " 12.917114123976082,\n",
       " 12.940897299921954,\n",
       " 12.90476634678057,\n",
       " 12.922541114532926,\n",
       " 12.931147373397808,\n",
       " 12.94060339650114,\n",
       " 12.925017570313289,\n",
       " 12.902951812617331,\n",
       " 12.915681664259836,\n",
       " 12.952073296957526,\n",
       " 12.926625094240714,\n",
       " 12.921049874132564,\n",
       " 12.947921591678577,\n",
       " 12.935768046309038,\n",
       " 12.964746923597884,\n",
       " 12.93727973216439,\n",
       " 12.890660260423848,\n",
       " 12.920845419578937,\n",
       " 12.913939967031743,\n",
       " 12.880457978200141,\n",
       " 12.971731602284674,\n",
       " 12.852233027077249,\n",
       " 12.924493655519463,\n",
       " 12.935608316188848,\n",
       " 12.906934842889507,\n",
       " 12.924438708358405,\n",
       " 12.894230548065906,\n",
       " 12.909577417994527,\n",
       " 12.977892073552365,\n",
       " 12.915745556308048,\n",
       " 12.920509347406474,\n",
       " 12.925983618079036,\n",
       " 12.938353118570836,\n",
       " 12.971918167064938,\n",
       " 12.911241166924267,\n",
       " 12.890368912685224,\n",
       " 12.926885773796435,\n",
       " 12.920768749121555,\n",
       " 12.889315971734275,\n",
       " 12.939788133968827,\n",
       " 12.953149239045661,\n",
       " 12.893238943481032,\n",
       " 12.948978366152533,\n",
       " 12.916459869404733,\n",
       " 12.944449697790487,\n",
       " 12.95716421534158,\n",
       " 12.883758641399442,\n",
       " 12.962956668413048,\n",
       " 12.94407912391228,\n",
       " 12.920997482653382,\n",
       " 12.907235135515181,\n",
       " 12.908530866248254,\n",
       " 12.937189005456377,\n",
       " 12.903745351853477,\n",
       " 12.888201694416939,\n",
       " 12.918310183114466,\n",
       " 12.96023614500938,\n",
       " 12.910388847003864,\n",
       " 12.91885582120434,\n",
       " 12.929782639252682,\n",
       " 12.909390853214424,\n",
       " 12.939099377691399,\n",
       " 12.994688015129624,\n",
       " 12.950790344633752,\n",
       " 12.926759267541492,\n",
       " 12.933391262123495,\n",
       " 12.923265650357123,\n",
       " 12.951019078165848,\n",
       " 12.9352939673128,\n",
       " 12.88465057438954,\n",
       " 12.898264691976335,\n",
       " 12.891510024662306,\n",
       " 12.925127464635784,\n",
       " 12.90419898539425,\n",
       " 12.931948579679705,\n",
       " 12.930465006325104,\n",
       " 12.956628799979374,\n",
       " 12.926677485720077,\n",
       " 12.884681242572723,\n",
       " 12.937799813435161,\n",
       " 12.943350754565264,\n",
       " 12.918744649040933,\n",
       " 12.913625618155454,\n",
       " 12.929192276729303,\n",
       " 12.916006235863902,\n",
       " 12.90072581366529,\n",
       " 12.921085653679558,\n",
       " 12.934927226957416,\n",
       " 12.92704167039372,\n",
       " 12.916462425086497,\n",
       " 12.884970034629568,\n",
       " 12.92743268972725,\n",
       " 12.932961907561005,\n",
       " 12.942205809064953,\n",
       " 12.903657180827366,\n",
       " 12.87923125087853,\n",
       " 12.991346461019447,\n",
       " 12.954117842493162,\n",
       " 12.952677715731458,\n",
       " 12.925002236221596,\n",
       " 12.936285571897642,\n",
       " 12.957504121037001,\n",
       " 12.938662356083192,\n",
       " 12.951508491252948,\n",
       " 12.926777157314968,\n",
       " 12.952332698672373,\n",
       " 12.88700052391475,\n",
       " 12.918091672310307,\n",
       " 12.966105268538373,\n",
       " 12.914198090905519,\n",
       " 12.928144447142119,\n",
       " 12.94916876445578,\n",
       " 12.961124244476338,\n",
       " 12.9051254200902,\n",
       " 12.949775738911512,\n",
       " 12.907618487803107,\n",
       " 12.880092515685535,\n",
       " 12.923640057758508,\n",
       " 12.942009021557324,\n",
       " 12.933324814393508,\n",
       " 12.886434440369541,\n",
       " 12.92218715258703,\n",
       " 12.89716319306908,\n",
       " 12.94697343368652,\n",
       " 12.889258468890928,\n",
       " 12.90933207253013,\n",
       " 12.918952937117542,\n",
       " 12.93910960041899,\n",
       " 12.944286134147578,\n",
       " 12.91358600508579,\n",
       " 12.955849316993989,\n",
       " 12.960698723437062,\n",
       " 12.924827172010165,\n",
       " 12.975866695631053,\n",
       " 12.916234969395667,\n",
       " 12.939061042462688,\n",
       " 12.929341784121549,\n",
       " 12.87564435130403,\n",
       " 12.943642102303771,\n",
       " 12.920873532080234,\n",
       " 12.910951097026441,\n",
       " 12.894760852064339,\n",
       " 12.925041849291443,\n",
       " 12.906449263324593,\n",
       " 12.93651558327052,\n",
       " 12.92740713290807,\n",
       " 12.980574261727325,\n",
       " 12.90668183037941,\n",
       " 12.885698403976656,\n",
       " 12.949071648542484,\n",
       " 12.981770320865879,\n",
       " 12.970961064185966,\n",
       " 12.890609146785549,\n",
       " 12.94912404002217,\n",
       " 12.929771138684075,\n",
       " 12.914967351163455,\n",
       " 12.920318949103612,\n",
       " 12.899583423846947,\n",
       " 12.955786702786758,\n",
       " 12.934905503660884,\n",
       " 12.937289954892092,\n",
       " 12.905062805883246,\n",
       " 12.933303091097267,\n",
       " 12.92427642255642,\n",
       " 12.967956860089197,\n",
       " 12.95968156203286,\n",
       " 12.909826596981764,\n",
       " 12.948349668400233,\n",
       " 12.952056685025111,\n",
       " 12.896391377129138,\n",
       " 12.962715156471566,\n",
       " 12.949699068454017,\n",
       " 12.948560512158718,\n",
       " 12.90105805231483,\n",
       " 12.946243786498393,\n",
       " 12.905518995105803,\n",
       " 12.953315358370377,\n",
       " 12.92393523902005,\n",
       " 12.895820182220035,\n",
       " 12.950061975286502,\n",
       " 12.934384144549435,\n",
       " 12.937647750360842,\n",
       " 12.946242508657386,\n",
       " 12.897454540807948,\n",
       " 12.920148996255907,\n",
       " 12.961791277457536,\n",
       " 12.941340710735256,\n",
       " 12.904869851898258,\n",
       " 12.892150222983254,\n",
       " 12.967136486192897,\n",
       " 12.969220644798547,\n",
       " 12.90749581507092,\n",
       " 12.966836193567303,\n",
       " 12.897554212402618,\n",
       " 12.93468060365204,\n",
       " 12.916434312585336,\n",
       " 12.9977331101372,\n",
       " 12.92719628914989,\n",
       " 12.892785309940296,\n",
       " 12.889428421738621,\n",
       " 12.916431756903588,\n",
       " 12.904762513257527,\n",
       " 12.948840359328877,\n",
       " 12.90441494051662,\n",
       " 12.901353233576552,\n",
       " 12.928098444867409,\n",
       " 12.915771113127324,\n",
       " 12.905368209872618,\n",
       " 12.932340876854528,\n",
       " 12.918735704154331,\n",
       " 12.956198167576018,\n",
       " 12.880302081603022,\n",
       " 12.912586733455187,\n",
       " 12.943736662535137,\n",
       " 12.891518969549022,\n",
       " 12.93417457863196,\n",
       " 12.93899076120981,\n",
       " 12.898478091416807,\n",
       " 12.93861635380843,\n",
       " 12.9212172712983,\n",
       " 12.94795098202082,\n",
       " 12.959704563170252,\n",
       " 12.93217092400685,\n",
       " 12.952764608916706,\n",
       " 12.93241754731213,\n",
       " 12.92579449761684,\n",
       " 12.932269317760595,\n",
       " 12.956093384617391,\n",
       " 12.963775764468297,\n",
       " 12.887078472213279,\n",
       " 12.91465939149213,\n",
       " 12.907578874733206,\n",
       " 12.940636620366124,\n",
       " 12.89912723462432,\n",
       " 12.913140038590818,\n",
       " 12.918388131413105,\n",
       " 12.938471957780088,\n",
       " 12.936796708281666,\n",
       " 12.924797781668161,\n",
       " 12.913347048826312,\n",
       " 12.945612533064008,\n",
       " 12.927399465862424,\n",
       " 12.87428856204558,\n",
       " 12.889811774026683,\n",
       " 12.91031984359219,\n",
       " 12.903162656375795,\n",
       " 12.906810892316239,\n",
       " 12.921265829254759,\n",
       " 12.897933731167775,\n",
       " 12.935147015602436,\n",
       " 12.934367532616914,\n",
       " 12.922189708268961,\n",
       " 12.964470909950505,\n",
       " 12.906163026949558,\n",
       " 12.869745837432932,\n",
       " 12.925121075430752,\n",
       " 12.89947736304726,\n",
       " 12.918909490524646,\n",
       " 12.903465504683346,\n",
       " 12.944682264845246,\n",
       " 12.926519033440998,\n",
       " 12.950734119631663,\n",
       " 12.949801295730866,\n",
       " 12.905715782613726,\n",
       " 12.914958406276678,\n",
       " 12.929958981305099,\n",
       " 12.962127349630128,\n",
       " 12.951445877046279,\n",
       " 12.953886553279622,\n",
       " 12.917738988205377,\n",
       " 12.932020138773566,\n",
       " 12.921637680974422,\n",
       " 12.916523761452703,\n",
       " 12.905317096234294,\n",
       " 12.961391313237067,\n",
       " 12.954457748188489,\n",
       " 12.94417112846143,\n",
       " 12.882525524873095,\n",
       " 12.954079507264684,\n",
       " 12.969560550493759,\n",
       " 12.940800184009142,\n",
       " 12.8888073910321,\n",
       " 12.944309135285103,\n",
       " 12.931532003526726,\n",
       " 12.94075034821165,\n",
       " 12.941580944835529,\n",
       " 12.91354766985703,\n",
       " 12.941793066434848,\n",
       " 12.910639303832124,\n",
       " 12.918030335944348,\n",
       " 12.951062524758166,\n",
       " 12.877341324098845,\n",
       " 12.923830456061431,\n",
       " 12.922233154861654,\n",
       " 12.909967159487422,\n",
       " 12.914485605121472,\n",
       " 12.919257063265857,\n",
       " 12.922377550889987,\n",
       " 12.958343662547753,\n",
       " 12.942385984640325,\n",
       " 12.937729532182475,\n",
       " 12.93933961179183,\n",
       " 12.894934638434941,\n",
       " 12.91510791366915,\n",
       " 12.896151143028726,\n",
       " 12.935242853674339,\n",
       " 12.927284460176104,\n",
       " 12.916541651226186,\n",
       " 12.937191561138262,\n",
       " 12.941223149366744,\n",
       " 12.92605134364964,\n",
       " 12.911753581149265,\n",
       " 12.915065744917456,\n",
       " 12.936680424754147,\n",
       " 12.94805065361568,\n",
       " 12.968321044762703,\n",
       " 12.955073667531272,\n",
       " 12.923550608891297,\n",
       " 12.89901989598389,\n",
       " 12.90858325772795,\n",
       " 12.913781514752735,\n",
       " 12.956842199419953,\n",
       " 12.903995808681806,\n",
       " 12.92233793782031,\n",
       " 12.952093742412707,\n",
       " 12.916020292114519,\n",
       " 12.890647482014497,\n",
       " 12.899863271017354,\n",
       " 12.927542584049933,\n",
       " 12.925544040788656,\n",
       " 12.89520298503658,\n",
       " 12.956982761925326,\n",
       " 12.913096591998201,\n",
       " 12.937770423093186,\n",
       " 12.91361667326899,\n",
       " 12.947553573482159,\n",
       " 12.920644798548153,\n",
       " 12.903350498996849,\n",
       " 12.92852524374821,\n",
       " 12.896593276000885,\n",
       " 12.94498000178908,\n",
       " 12.930512286440793,\n",
       " 12.972518752316072,\n",
       " 12.872858658011452,\n",
       " 12.924203585621662,\n",
       " 12.941157979477854,\n",
       " 12.910948541344366,\n",
       " 12.923191535581433,\n",
       " 12.885000702812636,\n",
       " 12.941426326079345,\n",
       " 12.917211239889046,\n",
       " 12.94456086995412,\n",
       " 12.92174629745582,\n",
       " 12.948032763842217,\n",
       " 12.90145801653517,\n",
       " 12.910876982250622,\n",
       " 12.913793015321321,\n",
       " 12.943415924453989,\n",
       " 12.94069540105027,\n",
       " 12.929221667071333,\n",
       " 12.924521768020764,\n",
       " 12.92985292050548,\n",
       " 12.892695861073111,\n",
       " 12.937160892955212,\n",
       " 12.943299640926709,\n",
       " 12.919939430338388,\n",
       " 12.981192736752016,\n",
       " 12.892506740611049,\n",
       " 12.950629336672865,\n",
       " 12.91295091812855,\n",
       " 12.97504248821172,\n",
       " 12.916679658049684,\n",
       " 12.916610654637559,\n",
       " 12.961397702441904,\n",
       " 12.903940861520452,\n",
       " 12.920543849112649,\n",
       " 12.926322245933353,\n",
       " 12.946411183664013,\n",
       " 12.93047778473491,\n",
       " 12.912631457888716,\n",
       " 12.897156803864073,\n",
       " 12.934364976935125,\n",
       " 12.947579130301385,\n",
       " 12.915726388693539,\n",
       " 12.874935149571188,\n",
       " 12.893162273023394,\n",
       " 12.873478410877016,\n",
       " 12.926628927763533,\n",
       " 12.953043178245968,\n",
       " 12.942385984640453,\n",
       " 12.895187650944926,\n",
       " 12.93687593442113,\n",
       " 12.913166873250953,\n",
       " 12.94768135757824,\n",
       " 12.891756647967684,\n",
       " 12.910595857239478,\n",
       " 12.891838429789024,\n",
       " 12.904474999041556,\n",
       " 12.910243173134576,\n",
       " 12.953979835669529,\n",
       " 12.962761158746106,\n",
       " 12.888945397855734,\n",
       " 12.910975376004762,\n",
       " 12.974936427412182,\n",
       " 12.919167614398646,\n",
       " 12.893356504849535,\n",
       " 12.87403043817174,\n",
       " 12.941272985164291,\n",
       " 12.912066652184468,\n",
       " 12.919964987157758,\n",
       " 12.933557381448342,\n",
       " 12.92106776390608,\n",
       " 12.908822213987127,\n",
       " 12.88001201170492,\n",
       " 12.930204326769463,\n",
       " 12.923711616852131,\n",
       " 12.913726567591452,\n",
       " 12.887542328481683,\n",
       " 12.91232988742212,\n",
       " 12.933639163269715,\n",
       " 12.96149992971882,\n",
       " 12.95995246431617,\n",
       " 12.947206000741177,\n",
       " 12.942692666470746,\n",
       " 12.913993636351906,\n",
       " 12.902100770538043,\n",
       " 12.91609440689034,\n",
       " 12.903093652964001,\n",
       " 12.928101000549425,\n",
       " 12.912368222651041,\n",
       " 12.929235723321893,\n",
       " 12.91543887447766,\n",
       " 12.919450017250925,\n",
       " 12.918149175153376,\n",
       " 12.926968833459142,\n",
       " 12.91125011181114,\n",
       " 12.9273649641566,\n",
       " 12.91724829727681,\n",
       " 12.933628940542127,\n",
       " 12.903687849010298,\n",
       " 12.94004625784272,\n",
       " 12.883965651635016,\n",
       " 12.885062039178871,\n",
       " 12.903836078561657,\n",
       " 12.919234062128554,\n",
       " 12.92234560486597,\n",
       " 12.901818367685939,\n",
       " 12.939191382240578,\n",
       " 12.916369142696558,\n",
       " 12.953825216913517,\n",
       " 12.915524489821864,\n",
       " 12.91833190641105,\n",
       " 12.933890897938928,\n",
       " 12.916077794957758,\n",
       " 12.915533434708696,\n",
       " 12.950079865060047,\n",
       " 12.939887805563748,\n",
       " 12.907424255977004,\n",
       " 12.943989675045133,\n",
       " 12.94862057068377,\n",
       " 12.923044583871093,\n",
       " 12.940057758411323,\n",
       " 12.903305774563202,\n",
       " 12.903802854696664,\n",
       " 12.913582171562824,\n",
       " 12.918303793909688,\n",
       " 12.907725826443558,\n",
       " 12.931126927942543,\n",
       " 12.925771496479397,\n",
       " 12.934473593416639,\n",
       " 12.904246265509677,\n",
       " 12.861218804707509,\n",
       " 12.902590183625692,\n",
       " 12.969023857290635,\n",
       " 12.889893555847898,\n",
       " 12.91084120270378,\n",
       " 12.915262532425164,\n",
       " 12.937803646958217,\n",
       " 12.926815492543822,\n",
       " 12.898538149941764,\n",
       " 12.885832577277386,\n",
       " 12.96486192928428,\n",
       " 12.945267516005025,\n",
       " 12.922782626474262,\n",
       " 12.928499686928955,\n",
       " 12.92469683223237,\n",
       " 12.922010810534529,\n",
       " 12.924832283374018,\n",
       " 12.991812872969911,\n",
       " 12.947266059266285,\n",
       " 12.93125854556147,\n",
       " 12.936888712830665,\n",
       " 12.922101537242664,\n",
       " 12.924102636185793,\n",
       " 12.91343905337535,\n",
       " 12.95359264985888,\n",
       " 12.926217462974446,\n",
       " 12.969959236873452,\n",
       " 12.909556972539153,\n",
       " 12.930655404628272,\n",
       " 12.925745939660361,\n",
       " 12.919470462706263,\n",
       " 12.902398507481882,\n",
       " 12.914594221603236,\n",
       " 12.922935967389368,\n",
       " 12.901279118801016,\n",
       " 12.897425150465825,\n",
       " 12.956494626678754,\n",
       " 12.944297634716234,\n",
       " 12.929316227302339,\n",
       " 12.955992435181594,\n",
       " 12.918532527441629,\n",
       " 12.93566070766816,\n",
       " 12.961268640504853,\n",
       " 12.963093397395767,\n",
       " 12.911409841931217,\n",
       " 12.93045350575669,\n",
       " 12.908431194653522,\n",
       " 12.891011666687913,\n",
       " 12.921375723577341,\n",
       " 12.931212543286753,\n",
       " 12.898310694250931,\n",
       " 12.920693356504778,\n",
       " 12.915760890399557,\n",
       " 12.92940312048772,\n",
       " 12.900939213105497,\n",
       " 12.919355457019817,\n",
       " 12.931066869417485,\n",
       " 12.887434989841225,\n",
       " 12.949371941168435,\n",
       " 12.911221999309939,\n",
       " 12.971177019308023,\n",
       " 12.979666994645818,\n",
       " 12.953798382253387,\n",
       " 12.96701509130165,\n",
       " 12.905343930894349,\n",
       " 12.943299640926734,\n",
       " 12.92246572191626,\n",
       " 12.979677217373444,\n",
       " 12.952856613465803,\n",
       " 12.891535581481557,\n",
       " 12.882943378867022,\n",
       " 12.909527582197043,\n",
       " 12.897589991949626,\n",
       " 12.924934510650838,\n",
       " 12.884538124385053,\n",
       " 12.938045158899497,\n",
       " 12.977476775240394,\n",
       " 12.91802905810342,\n",
       " 12.931477056365496,\n",
       " 12.92546225896706,\n",
       " 12.901704639840439,\n",
       " 12.917592036495169,\n",
       " 12.970327255069828,\n",
       " 12.93061195803563,\n",
       " 12.905150976909432,\n",
       " 12.927251236311202,\n",
       " 12.931984359226558,\n",
       " 12.916949282492237,\n",
       " 12.93325836666371,\n",
       " 12.946352402979832,\n",
       " 12.94184162439141,\n",
       " 12.96709687312312,\n",
       " 12.934568153647442,\n",
       " 12.946512133099855,\n",
       " 12.867800963492032,\n",
       " 12.927542584049888,\n",
       " 12.93017365858647,\n",
       " 12.91701189669917,\n",
       " 12.937416461147244,\n",
       " 12.930507175076906,\n",
       " 12.945129509181243,\n",
       " 12.960861009238696,\n",
       " 12.937784479343675,\n",
       " 12.946492965485518,\n",
       " 12.901081053452023,\n",
       " 12.929626742655573,\n",
       " 12.920753415029939,\n",
       " 12.92740457722624,\n",
       " 12.917979222306034,\n",
       " 12.930490563144302,\n",
       " 12.912012982864379,\n",
       " 12.90872254239227,\n",
       " 12.954420690800974,\n",
       " 12.940460278313825,\n",
       " 12.879633770780988,\n",
       " 12.910116666879496,\n",
       " 12.877386048532351,\n",
       " 12.890349745070692,\n",
       " 12.912148434005891,\n",
       " 12.884412895970952,\n",
       " 12.942088247696766,\n",
       " 12.898765605632779,\n",
       " 12.937521244106026,\n",
       " 12.892302286057475,\n",
       " 12.94119375902479,\n",
       " 12.915220363673555,\n",
       " 12.950285597454457,\n",
       " 12.913344493144372,\n",
       " 12.93299513142588,\n",
       " 12.899318910768246,\n",
       " 12.919602080324966,\n",
       " 12.912010427182278,\n",
       " 12.937619637859859,\n",
       " 12.93306669051972,\n",
       " 12.903142210920421,\n",
       " 12.926088401037642,\n",
       " 12.91459677728503,\n",
       " 12.928493297724119,\n",
       " 12.949120206498959,\n",
       " 12.945750539887761,\n",
       " 12.940025812387415,\n",
       " 12.94304151705281,\n",
       " 12.880095071367311,\n",
       " 12.958650344378222,\n",
       " 12.90548321555905,\n",
       " 12.883319064109385,\n",
       " 12.906886284932959,\n",
       " 12.916250303487274,\n",
       " 12.901450349489458,\n",
       " 12.901590911995031,\n",
       " 12.89450656171336,\n",
       " 12.924970290197653,\n",
       " 12.93877991745157,\n",
       " 12.889897389370791,\n",
       " 12.895877685063484,\n",
       " 12.92437098278752,\n",
       " 12.875898641655137,\n",
       " 12.92653820105543,\n",
       " 12.914378266481025,\n",
       " 12.91869736892537,\n",
       " 12.911660298759172,\n",
       " 12.908679095799698,\n",
       " 12.916776773962793,\n",
       " 12.93671237077839,\n",
       " 12.936220402008745,\n",
       " 12.95576497949067,\n",
       " 12.931943468315943,\n",
       " 12.922509168508773,\n",
       " 12.927524694276482,\n",
       " 12.907238969037703,\n",
       " 12.939404781680983,\n",
       " 12.934583487739072,\n",
       " 12.941522164151399,\n",
       " 12.937696308317449,\n",
       " 12.910643137355162,\n",
       " 12.941692116999109,\n",
       " 12.951909733314473,\n",
       " 12.898590541421203,\n",
       " 12.923613223098538,\n",
       " 12.908091288957928,\n",
       " 12.916632377934246,\n",
       " 12.929814585276668,\n",
       " 12.933153583705012,\n",
       " 12.90170975120439,\n",
       " 12.945262404641108,\n",
       " 12.910828424294072,\n",
       " 12.887022247211005,\n",
       " 12.924692998709382,\n",
       " 12.954865379454855,\n",
       " 12.94906653717881,\n",
       " 12.922956412844693,\n",
       " 12.93600316904565,\n",
       " 12.888896839899214,\n",
       " 12.865333452598446,\n",
       " 12.942746335790838,\n",
       " 12.893806304867397,\n",
       " 12.971808272742322,\n",
       " 12.958918690979779,\n",
       " 12.896608610092306,\n",
       " 12.891467855910564,\n",
       " 12.966441340710672,\n",
       " 12.90780121906024,\n",
       " 12.888326922831178,\n",
       " 12.94832794510394,\n",
       " 12.921884304279342,\n",
       " 12.927142619829606,\n",
       " 12.901014605722217,\n",
       " 12.906991067891571,\n",
       " 12.912485784019422,\n",
       " 12.889827108118016,\n",
       " 12.894474615689228,\n",
       " 12.951121305442381,\n",
       " 12.902601684194341,\n",
       " 12.923848345834775,\n",
       " 12.935962278134987,\n",
       " 12.945618922268999,\n",
       " 12.928571246022717,\n",
       " 12.944930165991426,\n",
       " 12.859457939864672,\n",
       " 12.933096080861695,\n",
       " 12.864315013353568,\n",
       " 12.951642664554004,\n",
       " 12.896158810074652,\n",
       " 12.912887026080796,\n",
       " 12.92712345221514,\n",
       " 12.902141661448718,\n",
       " 12.969835286300265,\n",
       " 12.918214345042632,\n",
       " 12.966161493540449,\n",
       " 12.877553445698076,\n",
       " 12.93651813895252,\n",
       " 12.879252974174776,\n",
       " 12.970632659059033,\n",
       " 12.936887434989734,\n",
       " 12.919540743959116,\n",
       " 12.959842569993658,\n",
       " 12.923533996958785,\n",
       " 12.953521090765092,\n",
       " 12.920837752533352,\n",
       " 12.9376758628623,\n",
       " 12.922670176469927,\n",
       " 12.924040021978868,\n",
       " 12.952691771981893,\n",
       " 12.950568000306736,\n",
       " 12.866999757210142,\n",
       " 12.915133470488284,\n",
       " 12.892607690046814,\n",
       " 12.925947838531895,\n",
       " 12.913146427795613,\n",
       " 12.95092324009364,\n",
       " 12.943132243760784,\n",
       " 12.906463319575211,\n",
       " 12.919110111555486,\n",
       " 12.943252360811119,\n",
       " 12.901022272767872,\n",
       " 12.968167703847511,\n",
       " 12.960139029096482,\n",
       " 12.917138402954238,\n",
       " 12.850745620199874,\n",
       " 12.894621567399621,\n",
       " 12.911970814112443,\n",
       " 12.903758130262968,\n",
       " 12.932892904149167,\n",
       " 12.901520630742226,\n",
       " 12.91522675287842,\n",
       " 12.919889594540972,\n",
       " 12.916539095544017,\n",
       " 12.919446183727816,\n",
       " 12.905326041120764,\n",
       " 12.95738400398699,\n",
       " 12.92870541932363,\n",
       " 12.88222523224759,\n",
       " 12.918483969485132,\n",
       " 12.916879001239572,\n",
       " 12.915394150043937,\n",
       " 12.916339752354352,\n",
       " 12.955234675492239,\n",
       " 12.952937117446393,\n",
       " 12.918453301301978,\n",
       " 12.913671620430005,\n",
       " 12.91468878183429,\n",
       " 12.939839247607116,\n",
       " 12.89221028150842,\n",
       " 12.947852588266604,\n",
       " 12.931230433060316,\n",
       " 12.95363226292843,\n",
       " 12.937666917975342,\n",
       " 12.90433188085411,\n",
       " 12.919239173492379,\n",
       " 12.942300369295937,\n",
       " 12.934423757619008,\n",
       " 12.90181070064018,\n",
       " 12.943865724471863,\n",
       " 12.956858811352364,\n",
       " 12.883067329440154,\n",
       " 12.910055330513607,\n",
       " 12.904628339956767,\n",
       " 12.928761644325672,\n",
       " 12.949398775828364,\n",
       " 12.925963172623513,\n",
       " 12.916328251785885,\n",
       " 12.913690788044462,\n",
       " 12.892306119580274,\n",
       " 12.918476302439228,\n",
       " 12.89383569520941,\n",
       " 12.904854517806744,\n",
       " 12.918630921195643,\n",
       " 12.906600048557861,\n",
       " 12.877365603077015,\n",
       " 12.995444496977731,\n",
       " 12.932986186539203,\n",
       " 12.910339011206684,\n",
       " 12.951913566837597,\n",
       " 12.922148817358076,\n",
       " 12.942120193720609,\n",
       " 12.900460022745579,\n",
       " 12.95473887319983,\n",
       " 12.891398852498895,\n",
       " 12.914112475561158,\n",
       " 12.951982570249237,\n",
       " 12.953289801551236,\n",
       " 12.892313786626074,\n",
       " 12.896669946458404,\n",
       " 12.908487419655836,\n",
       " 12.922405663391064,\n",
       " 12.925818776595074,\n",
       " 12.905898513871099,\n",
       " 12.94520490179783,\n",
       " 12.935843438925659,\n",
       " 12.939489119184232,\n",
       " 12.911211776582299,\n",
       " 12.936240847463997,\n",
       " 12.931094981918553,\n",
       " 12.90922856741246,\n",
       " 12.969228311844356,\n",
       " 12.913556614743818,\n",
       " 12.92619701751918,\n",
       " 12.930329555183574,\n",
       " 12.894106597492817,\n",
       " 12.915018464801836,\n",
       " 12.940490946496578,\n",
       " 12.901581967108385,\n",
       " 12.905612277495823,\n",
       " 12.980604929910486,\n",
       " 12.914339931252327,\n",
       " 12.932606667774204,\n",
       " 12.912582899932277,\n",
       " 12.912119043663893,\n",
       " 12.991740036035086,\n",
       " 12.912111376618274,\n",
       " 12.898253191407926,\n",
       " 12.937365347508804,\n",
       " 12.98214600610819,\n",
       " 12.900840819351611,\n",
       " 12.934456981484061,\n",
       " 12.90912250661278,\n",
       " 12.907684935532888,\n",
       " 12.923480327638353,\n",
       " 12.920804528668317,\n",
       " 12.939178603830987,\n",
       " 12.954666036265287,\n",
       " 12.939279553266731,\n",
       " 12.910147335062689,\n",
       " 12.923854735039743,\n",
       " 12.904798292804623,\n",
       " 12.96275093601842,\n",
       " 12.949332328098176,\n",
       " 12.95577009085458,\n",
       " 12.918690979720694,\n",
       " 12.939549177709395,\n",
       " 12.902284779636243,\n",
       " 12.9060620775139,\n",
       " 12.92511340838522,\n",
       " 12.901102776748363,\n",
       " 12.86992473516738,\n",
       " 12.94542724612493,\n",
       " 12.900913656286205,\n",
       " 12.908417138402868,\n",
       " 12.940139540232874,\n",
       " 12.891405241703682,\n",
       " 12.933020688245076,\n",
       " 12.919669805895916,\n",
       " 12.898423144255478,\n",
       " 12.947935647929171,\n",
       " 12.905646779201831,\n",
       " 12.92364516912227,\n",
       " 12.955702365283493,\n",
       " 12.925178578274236,\n",
       " 12.901731474500503,\n",
       " 12.920399453084118,\n",
       " 12.907523927571894,\n",
       " 12.941557943698296,\n",
       " 12.912392501629153,\n",
       " 12.955330513564299,\n",
       " 12.964284345170427,\n",
       " 12.928775700576299,\n",
       " 12.915826060288532,\n",
       " 12.94207930280986,\n",
       " 12.922602450898854,\n",
       " 12.940312048762358,\n",
       " 12.952073296957348,\n",
       " 12.911703745351828,\n",
       " 12.933621273496245,\n",
       " 12.913426274965783,\n",
       " 12.901832423936533,\n",
       " 12.917169071137442,\n",
       " 12.902867475114125,\n",
       " 12.897596381154399,\n",
       " 12.899330411336875,\n",
       " 12.944088068799013,\n",
       " 12.89163014171248,\n",
       " 12.934882502523623,\n",
       " 12.93808477196942,\n",
       " 12.90730030540395,\n",
       " 12.92712600789709,\n",
       " 12.929994760852047,\n",
       " 12.949920134939962,\n",
       " 12.911252667492914,\n",
       " 12.916165965983815,\n",
       " 12.915348147769613,\n",
       " 12.944422863130507,\n",
       " 12.921485617899972,\n",
       " 12.948800746259156,\n",
       " 12.925386866350587,\n",
       " 12.913030144268271,\n",
       " 12.892529741748245,\n",
       " 12.918767650178145,\n",
       " 12.92961779776872,\n",
       " 12.938708358357834,\n",
       " 12.927080005622432,\n",
       " 12.926752878336607,\n",
       " 12.926823159589581,\n",
       " 12.941932351099561,\n",
       " 12.927849265880383,\n",
       " 12.886343713661406,\n",
       " 12.949346384348912,\n",
       " 12.860999016062424,\n",
       " 12.929927035280995,\n",
       " 12.92373206230752,\n",
       " 12.928897095467606,\n",
       " 12.944563425635863,\n",
       " 12.946987489936992,\n",
       " 12.948471063291379,\n",
       " 12.92780965281056,\n",
       " 12.931870631381294,\n",
       " 12.919350345656028,\n",
       " 12.947461568933132,\n",
       " 12.966511621963413,\n",
       " 12.877782179230046,\n",
       " 12.901091276179738,\n",
       " 12.908617759433684,\n",
       " 12.885607677268581,\n",
       " 12.901270173914142,\n",
       " 12.913532335765392,\n",
       " 12.942019244284825,\n",
       " 12.91384157327763,\n",
       " 12.929556461402777,\n",
       " 12.901599856881836,\n",
       " 12.967146708920552,\n",
       " 12.95968539555564,\n",
       " 12.942752724995811,\n",
       " 12.904269266647134,\n",
       " 12.878591052557487,\n",
       " 12.938533294146287,\n",
       " 12.978541216760231,\n",
       " 12.936414633834636,\n",
       " 12.888053464865841,\n",
       " 12.915463153455827,\n",
       " 12.958061259695716,\n",
       " 12.944807493259441,\n",
       " 12.864867040647995,\n",
       " 12.953260411209238,\n",
       " 12.903677626282708,\n",
       " 12.931152484761803,\n",
       " 12.916591487023403,\n",
       " 12.918255235953366,\n",
       " 12.883109498191759,\n",
       " 12.93005481937712,\n",
       " 12.945356964872069,\n",
       " 12.89832219481949,\n",
       " 12.880210077053908,\n",
       " 12.93217475752956,\n",
       " 12.932965741083871]"
      ]
     },
     "execution_count": 90,
     "metadata": {},
     "output_type": "execute_result"
    }
   ],
   "source": [
    "mean"
   ]
  },
  {
   "cell_type": "code",
   "execution_count": 91,
   "metadata": {},
   "outputs": [
    {
     "data": {
      "text/plain": [
       "0    0.023942\n",
       "dtype: float64"
      ]
     },
     "execution_count": 91,
     "metadata": {},
     "output_type": "execute_result"
    }
   ],
   "source": [
    "pd.DataFrame(mean).std()"
   ]
  },
  {
   "cell_type": "code",
   "execution_count": 92,
   "metadata": {},
   "outputs": [
    {
     "data": {
      "text/plain": [
       "0.02879072820657669"
      ]
     },
     "execution_count": 92,
     "metadata": {},
     "output_type": "execute_result"
    }
   ],
   "source": [
    "def gbs(data, n):     \n",
    "    inds = np.random.randint(0, len(data), (n, len(data))) #определяем индексы случайным образом\n",
    "    numbers = data[inds] #выбираем значения по индексам\n",
    "    return numbers\n",
    "target = X_train['MinTemp'].values #выбираем целевую переменную\n",
    "np.random.seed(31) #задаём параметр генератора случайных чисел\n",
    "mean_values = [np.mean(x) for x in gbs(target, 1000)] #получаем все средние значения\n",
    "np.std(mean_values) #находим для них стандартное отклонение"
   ]
  },
  {
   "cell_type": "markdown",
   "metadata": {},
   "source": [
    "Задание 4.8\n",
    "1 point possible (graded)\n",
    "Теперь можно перейти к обучению прогностических моделей. Начнём с того, что построим простейшую логистическую регрессию (без настройки гиперпараметров). Это будет та модель, с качеством которой мы будем сравнивать результаты, полученные далее.\n",
    "\n",
    "В качестве ответа введите значение метрики roc_auc на тестовой выборке. Ответ округлите до двух знаков после точки-разделителя."
   ]
  },
  {
   "cell_type": "code",
   "execution_count": 41,
   "metadata": {},
   "outputs": [
    {
     "name": "stdout",
     "output_type": "stream",
     "text": [
      "ROG AUC test = 0.7274138237536282\n"
     ]
    },
    {
     "name": "stderr",
     "output_type": "stream",
     "text": [
      "c:\\Projects\\DS\\lessons\\.venv\\Lib\\site-packages\\sklearn\\linear_model\\_logistic.py:469: ConvergenceWarning: lbfgs failed to converge (status=1):\n",
      "STOP: TOTAL NO. of ITERATIONS REACHED LIMIT.\n",
      "\n",
      "Increase the number of iterations (max_iter) or scale the data as shown in:\n",
      "    https://scikit-learn.org/stable/modules/preprocessing.html\n",
      "Please also refer to the documentation for alternative solver options:\n",
      "    https://scikit-learn.org/stable/modules/linear_model.html#logistic-regression\n",
      "  n_iter_i = _check_optimize_result(\n"
     ]
    }
   ],
   "source": [
    "log_reg = linear_model.LogisticRegression()\n",
    "\n",
    "log_reg.fit(X_train, y_train)\n",
    "\n",
    "y_train_pred = log_reg.predict(X_train)\n",
    "y_test_pred = log_reg.predict(X_test)\n",
    "\n",
    "print(f'ROG AUC test = {metrics.roc_auc_score(y_test, y_test_pred)}')\n"
   ]
  },
  {
   "cell_type": "code",
   "execution_count": 40,
   "metadata": {},
   "outputs": [
    {
     "name": "stderr",
     "output_type": "stream",
     "text": [
      "c:\\Projects\\DS\\lessons\\.venv\\Lib\\site-packages\\sklearn\\linear_model\\_logistic.py:469: ConvergenceWarning: lbfgs failed to converge (status=1):\n",
      "STOP: TOTAL NO. of ITERATIONS REACHED LIMIT.\n",
      "\n",
      "Increase the number of iterations (max_iter) or scale the data as shown in:\n",
      "    https://scikit-learn.org/stable/modules/preprocessing.html\n",
      "Please also refer to the documentation for alternative solver options:\n",
      "    https://scikit-learn.org/stable/modules/linear_model.html#logistic-regression\n",
      "  n_iter_i = _check_optimize_result(\n"
     ]
    },
    {
     "data": {
      "text/plain": [
       "0.7274138237536282"
      ]
     },
     "execution_count": 40,
     "metadata": {},
     "output_type": "execute_result"
    }
   ],
   "source": [
    "clf = linear_model.LogisticRegression()\n",
    "clf.fit(X_train, y_train)\n",
    "preds_train = clf.predict(X_train)\n",
    "preds_test = clf.predict(X_test)\n",
    "metrics.roc_auc_score(y_test, preds_test)"
   ]
  },
  {
   "cell_type": "markdown",
   "metadata": {},
   "source": [
    "Задание 4.9\n",
    "4 points possible (graded)\n",
    "Теперь попробуйте обучить на наших данных другой алгоритм — дерево решений. С помощью GridSearchCV сделайте перебор гиперпараметров по следующей сетке:\n",
    "\n",
    "params = {'max_leaf_nodes': list(range(2, 10)), 'min_samples_split': [2, 3, 4], 'max_depth': [5,7,9,11]}\n",
    "Для параметра кросс-валидации cv задайте значение 3. Для решающего дерева определите параметр random_state=42. Остальные параметры оставьте по умолчанию.\n",
    "\n",
    "1. Вычислите значение roc_auc для решающего дерева с гиперпараметрами, определёнными в качестве оптимальных. Ответ округлите до двух знаков после точки-разделителя.\n",
    "\n",
    "  нет ответа \n",
    " \n",
    "2. Какие значения гиперпараметров были выбраны как оптимальные?\n",
    "max_depth:\n",
    "  нет ответа \n",
    " \n",
    "max_leaf_nodes:\n",
    "  нет ответа \n",
    " \n",
    "min_samples_split:"
   ]
  },
  {
   "cell_type": "code",
   "execution_count": 58,
   "metadata": {},
   "outputs": [
    {
     "name": "stdout",
     "output_type": "stream",
     "text": [
      "CPU times: total: 8.53 s\n",
      "Wall time: 26 s\n",
      "ROG AUC на тестовом наборе: 0.703\n",
      "Наилучшие значения гиперпараметров: {'max_depth': 5, 'max_leaf_nodes': 9, 'min_samples_split': 2}\n"
     ]
    }
   ],
   "source": [
    "params = {'max_leaf_nodes': list(range(2, 10)), \n",
    "          'min_samples_split': [2, 3, 4], \n",
    "          'max_depth': [5,7,9,11]}\n",
    "\n",
    "grid_search = GridSearchCV(\n",
    "    estimator=tree.DecisionTreeClassifier(random_state=42), \n",
    "    param_grid=params, \n",
    "    cv=3, \n",
    "    n_jobs = -1\n",
    ")  \n",
    "%time grid_search.fit(X_train, y_train) \n",
    "\n",
    "y_test_pred = grid_search.predict(X_test)\n",
    "\n",
    "grid_tree = tree.DecisionTreeClassifier(random_state=42, **grid_search.best_params_)\n",
    "\n",
    "grid_tree.fit(X_train, y_train)\n",
    "y_test_pred = grid_tree.predict(X_test)\n",
    "\n",
    "print(f'ROG AUC на тестовом наборе: {metrics.roc_auc_score(y_test, y_test_pred):.3f}')\n",
    "print(f\"Наилучшие значения гиперпараметров: {grid_search.best_params_}\")"
   ]
  },
  {
   "cell_type": "markdown",
   "metadata": {},
   "source": [
    "Задание 4.10\n",
    "1 point possible (graded)\n",
    "К сожалению, деревья решений не помогли нам в улучшении качества модели, так что попробуем ещё уменьшить ошибку с помощью ансамблей.\n",
    "\n",
    "Теперь постройте случайный лес, включающий 100 деревьев. Задайте параметр random_state=31. Остальные параметры оставьте по умолчанию.\n",
    "\n",
    "Какой теперь будет метрика roc_auc на тестовой выборке? Ответ округлите до двух знаков после точки-разделителя.\n",
    "\n"
   ]
  },
  {
   "cell_type": "code",
   "execution_count": 59,
   "metadata": {},
   "outputs": [
    {
     "name": "stdout",
     "output_type": "stream",
     "text": [
      "ROG AUC test = 0.7329684570290497\n"
     ]
    }
   ],
   "source": [
    "rand_for = ensemble.RandomForestClassifier(n_estimators=100, random_state=31)\n",
    "\n",
    "rand_for.fit(X_train, y_train)\n",
    "\n",
    "y_train_pred = rand_for.predict(X_train)\n",
    "y_test_pred = rand_for.predict(X_test)\n",
    "\n",
    "print(f'ROG AUC test = {metrics.roc_auc_score(y_test, y_test_pred)}')"
   ]
  },
  {
   "cell_type": "markdown",
   "metadata": {},
   "source": [
    "Задание 4.11\n",
    "1 point possible (graded)\n",
    "Основные параметры, которые отвечают за качество обучения в случайном лесе, следующие:'max_features', 'min_samples_leaf', 'max_depth'.\n",
    "\n",
    "Возьмите случайный лес из 100 деревьев и найдите оптимальную комбинацию этих трёх параметров. Сетка для перебора следующая:\n",
    "\n",
    "{'max_features': [ 4, 5, 6, 7], 'min_samples_leaf': [3, 5, 7, 9, 11], 'max_depth': [5, 10, 15]}\n",
    "Перебор осуществите с помощью GridSearchCV. Для параметра кросс-валидации cv задайте значение 3. Случайности фиксируйте параметром random_state = 31. Остальные значения оставьте по умолчанию.\n",
    "\n",
    "Какое значение roc_auc получилось для оптимальных гиперпараметров?"
   ]
  },
  {
   "cell_type": "code",
   "execution_count": 60,
   "metadata": {},
   "outputs": [
    {
     "name": "stdout",
     "output_type": "stream",
     "text": [
      "CPU times: total: 11 s\n",
      "Wall time: 3min 30s\n",
      "ROG AUC на тестовом наборе: 0.70\n",
      "Наилучшие значения гиперпараметров: {'max_depth': 15, 'max_features': 7, 'min_samples_leaf': 3}\n"
     ]
    }
   ],
   "source": [
    "params = {'max_features': [ 4, 5, 6, 7], \n",
    "          'min_samples_leaf': [3, 5, 7, 9, 11], \n",
    "          'max_depth': [5, 10, 15]}\n",
    "\n",
    "grid_search = GridSearchCV(\n",
    "    estimator=ensemble.RandomForestClassifier(random_state=31, n_estimators=100), \n",
    "    param_grid=params, \n",
    "    cv=3, \n",
    "    n_jobs = -1\n",
    ")  \n",
    "%time grid_search.fit(X_train, y_train) \n",
    "\n",
    "y_test_pred = grid_search.predict(X_test)\n",
    "print(f'ROG AUC на тестовом наборе: {metrics.roc_auc_score(y_test, y_test_pred):.2f}')\n",
    "print(f\"Наилучшие значения гиперпараметров: {grid_search.best_params_}\")"
   ]
  },
  {
   "cell_type": "markdown",
   "metadata": {},
   "source": [
    "Задание 4.12\n",
    "2 points possible (graded)\n",
    "Как мы говорили в предыдущем юните, благодаря случайному лесу можно узнать, какие признаки оказывают большее влияние на целевую переменную по сравнению с другими.\n",
    "\n",
    "Оцените значимость признаков. Отметьте три признака, которые дают наибольший вклад в целевую переменную (в каждой колонке находится как минимум один верный вариант ответа):"
   ]
  },
  {
   "cell_type": "code",
   "execution_count": 65,
   "metadata": {},
   "outputs": [
    {
     "data": {
      "text/plain": [
       "array([3.15668493e-02, 2.99173635e-02, 8.98921442e-02, 5.64654473e-02,\n",
       "       1.61674032e-02, 1.94579644e-02, 6.60466009e-02, 2.45610055e-01,\n",
       "       5.41515648e-02, 6.07512442e-02, 7.70813138e-02, 2.51239836e-02,\n",
       "       4.18834868e-02, 5.63809875e-02, 1.99002976e-03, 1.05162890e-03,\n",
       "       1.35020626e-03, 1.34423317e-03, 1.46757876e-03, 1.68059522e-03,\n",
       "       1.52460833e-03, 1.64392643e-03, 1.50867014e-03, 1.36089197e-03,\n",
       "       1.20624776e-03, 1.50673000e-03, 0.00000000e+00, 0.00000000e+00,\n",
       "       6.99719439e-04, 1.42041754e-03, 0.00000000e+00, 1.17306046e-03,\n",
       "       6.15020418e-04, 1.47106399e-03, 2.92821402e-03, 9.76324114e-04,\n",
       "       6.26653773e-04, 2.33491531e-03, 0.00000000e+00, 1.69637617e-03,\n",
       "       0.00000000e+00, 1.16406692e-03, 2.66744882e-04, 0.00000000e+00,\n",
       "       7.69180087e-04, 1.08362384e-03, 1.52200982e-03, 6.27615784e-04,\n",
       "       1.64604468e-03, 0.00000000e+00, 0.00000000e+00, 0.00000000e+00,\n",
       "       0.00000000e+00, 2.17250906e-03, 8.31293458e-04, 8.78486930e-04,\n",
       "       0.00000000e+00, 1.98801443e-03, 1.74122064e-03, 3.46434435e-03,\n",
       "       4.07823240e-04, 9.01778309e-04, 0.00000000e+00, 9.21449426e-04,\n",
       "       1.42536821e-03, 9.30379658e-04, 0.00000000e+00, 1.26296820e-04,\n",
       "       6.78377763e-04, 0.00000000e+00, 1.01213533e-03, 1.23266443e-03,\n",
       "       0.00000000e+00, 1.31496328e-03, 2.53650835e-03, 1.30544769e-03,\n",
       "       1.04244594e-03, 8.67923591e-04, 2.07551409e-03, 9.12356267e-04,\n",
       "       1.53402589e-03, 1.26624830e-03, 1.75199875e-03, 1.28961567e-03,\n",
       "       1.15238539e-03, 8.64846364e-04, 9.75198894e-04, 9.15066825e-04,\n",
       "       1.86251396e-03, 1.53402337e-03, 1.12472647e-03, 1.33566907e-03,\n",
       "       9.30567723e-04, 6.81580304e-04, 5.60321814e-03, 1.21296249e-03,\n",
       "       3.16541787e-03, 1.78032456e-03, 9.60938966e-04, 1.33966425e-03,\n",
       "       1.23506565e-03, 1.03428152e-03, 1.14532301e-03, 1.07850685e-03,\n",
       "       1.14071101e-03, 9.65864907e-04, 9.50315676e-04, 8.15874665e-04,\n",
       "       1.03749611e-03, 8.33606591e-04, 3.21907501e-03, 1.22574430e-03,\n",
       "       1.88219604e-03, 1.64799801e-03, 1.92547942e-03, 1.46779148e-03,\n",
       "       1.02199815e-03, 9.54230025e-04, 1.13290232e-03, 1.67546394e-03,\n",
       "       1.28673608e-03, 1.87567340e-03, 1.24656515e-03])"
      ]
     },
     "execution_count": 65,
     "metadata": {},
     "output_type": "execute_result"
    }
   ],
   "source": [
    "grid_tree = ensemble.RandomForestClassifier(random_state=42, **grid_search.best_params_)\n",
    "\n",
    "grid_tree.fit(X_train, y_train)\n",
    "grid_tree.feature_importances_\n",
    "\n"
   ]
  },
  {
   "cell_type": "code",
   "execution_count": 85,
   "metadata": {},
   "outputs": [
    {
     "data": {
      "application/vnd.plotly.v1+json": {
       "config": {
        "plotlyServerURL": "https://plot.ly"
       },
       "data": [
        {
         "alignmentgroup": "True",
         "bingroup": "x",
         "histfunc": "sum",
         "hovertemplate": "x=%{x}<br>sum of Распределение=%{y}<extra></extra>",
         "legendgroup": "",
         "marker": {
          "color": "#636efa",
          "pattern": {
           "shape": ""
          }
         },
         "name": "",
         "offsetgroup": "",
         "orientation": "v",
         "showlegend": false,
         "type": "histogram",
         "x": [
          "MinTemp",
          "MaxTemp",
          "Rainfall",
          "WindGustSpeed",
          "WindSpeed9am",
          "WindSpeed3pm",
          "Humidity9am",
          "Humidity3pm",
          "Pressure9am",
          "Pressure3pm",
          "Cloud9am",
          "Temp9am",
          "Temp3pm",
          "RainToday",
          "Month_1",
          "Month_2",
          "Month_3",
          "Month_4",
          "Month_5",
          "Month_6",
          "Month_7",
          "Month_8",
          "Month_9",
          "Month_10",
          "Month_11",
          "Month_12",
          "Location_Adelaide",
          "Location_Albany",
          "Location_Albury",
          "Location_AliceSprings",
          "Location_BadgerysCreek",
          "Location_Ballarat",
          "Location_Bendigo",
          "Location_Brisbane",
          "Location_Cairns",
          "Location_Canberra",
          "Location_Cobar",
          "Location_CoffsHarbour",
          "Location_Dartmoor",
          "Location_Darwin",
          "Location_GoldCoast",
          "Location_Hobart",
          "Location_Katherine",
          "Location_Launceston",
          "Location_Melbourne",
          "Location_MelbourneAirport",
          "Location_Mildura",
          "Location_Moree",
          "Location_MountGambier",
          "Location_MountGinini",
          "Location_Newcastle",
          "Location_Nhil",
          "Location_NorahHead",
          "Location_NorfolkIsland",
          "Location_Nuriootpa",
          "Location_PearceRAAF",
          "Location_Penrith",
          "Location_Perth",
          "Location_PerthAirport",
          "Location_Portland",
          "Location_Richmond",
          "Location_Sale",
          "Location_SalmonGums",
          "Location_Sydney",
          "Location_SydneyAirport",
          "Location_Townsville",
          "Location_Tuggeranong",
          "Location_Uluru",
          "Location_WaggaWagga",
          "Location_Walpole",
          "Location_Watsonia",
          "Location_Williamtown",
          "Location_Witchcliffe",
          "Location_Wollongong",
          "Location_Woomera",
          "WindGustDir_E",
          "WindGustDir_ENE",
          "WindGustDir_ESE",
          "WindGustDir_N",
          "WindGustDir_NE",
          "WindGustDir_NNE",
          "WindGustDir_NNW",
          "WindGustDir_NW",
          "WindGustDir_S",
          "WindGustDir_SE",
          "WindGustDir_SSE",
          "WindGustDir_SSW",
          "WindGustDir_SW",
          "WindGustDir_W",
          "WindGustDir_WNW",
          "WindGustDir_WSW",
          "WindDir9am_E",
          "WindDir9am_ENE",
          "WindDir9am_ESE",
          "WindDir9am_N",
          "WindDir9am_NE",
          "WindDir9am_NNE",
          "WindDir9am_NNW",
          "WindDir9am_NW",
          "WindDir9am_S",
          "WindDir9am_SE",
          "WindDir9am_SSE",
          "WindDir9am_SSW",
          "WindDir9am_SW",
          "WindDir9am_W",
          "WindDir9am_WNW",
          "WindDir9am_WSW",
          "WindDir3pm_E",
          "WindDir3pm_ENE",
          "WindDir3pm_ESE",
          "WindDir3pm_N",
          "WindDir3pm_NE",
          "WindDir3pm_NNE",
          "WindDir3pm_NNW",
          "WindDir3pm_NW",
          "WindDir3pm_S",
          "WindDir3pm_SE",
          "WindDir3pm_SSE",
          "WindDir3pm_SSW",
          "WindDir3pm_SW",
          "WindDir3pm_W",
          "WindDir3pm_WNW",
          "WindDir3pm_WSW"
         ],
         "xaxis": "x",
         "y": [
          0.03156684926582441,
          0.029917363525336985,
          0.08989214422419403,
          0.05646544727179947,
          0.016167403217642637,
          0.019457964377333083,
          0.0660466009221658,
          0.24561005476367553,
          0.054151564808708176,
          0.06075124421343996,
          0.07708131379734397,
          0.025123983578280648,
          0.04188348677086754,
          0.05638098748530522,
          0.001990029758784561,
          0.00105162890391076,
          0.0013502062592540365,
          0.0013442331730976447,
          0.0014675787613864012,
          0.0016805952207867225,
          0.0015246083266123862,
          0.0016439264300609755,
          0.001508670135630366,
          0.001360891972721568,
          0.0012062477597052001,
          0.001506729997103395,
          0,
          0,
          0.0006997194389672465,
          0.001420417541698472,
          0,
          0.0011730604579539778,
          0.0006150204176469737,
          0.001471063994640881,
          0.0029282140158224538,
          0.0009763241136452899,
          0.0006266537730597822,
          0.0023349153106426357,
          0,
          0.0016963761680427879,
          0,
          0.0011640669163285318,
          0.00026674488220679077,
          0,
          0.0007691800874566334,
          0.0010836238436915048,
          0.0015220098195240614,
          0.0006276157839224617,
          0.001646044675820415,
          0,
          0,
          0,
          0,
          0.002172509059869265,
          0.0008312934577568832,
          0.0008784869303062836,
          0,
          0.001988014434491078,
          0.0017412206375900785,
          0.0034643443488303603,
          0.0004078232400366694,
          0.0009017783089072275,
          0,
          0.0009214494261172584,
          0.0014253682128454674,
          0.0009303796575829577,
          0,
          0.00012629681991359158,
          0.0006783777626452277,
          0,
          0.0010121353271841471,
          0.0012326644293484564,
          0,
          0.0013149632784680242,
          0.0025365083541806443,
          0.0013054476860154683,
          0.0010424459383060844,
          0.0008679235906453122,
          0.0020755140906302096,
          0.0009123562669918259,
          0.0015340258912137632,
          0.0012662483044997234,
          0.0017519987454969364,
          0.0012896156650310446,
          0.0011523853858841301,
          0.0008648463640744084,
          0.0009751988944069521,
          0.0009150668247516005,
          0.001862513963611357,
          0.001534023371002417,
          0.0011247264713091793,
          0.0013356690726503376,
          0.0009305677234058666,
          0.000681580304425183,
          0.005603218137939189,
          0.001212962489906994,
          0.0031654178705974984,
          0.0017803245629502832,
          0.0009609389660317004,
          0.001339664249625251,
          0.0012350656494523999,
          0.0010342815191498288,
          0.0011453230055171783,
          0.0010785068450070421,
          0.0011407110118752534,
          0.0009658649071149888,
          0.0009503156763299459,
          0.0008158746652609091,
          0.0010374961140689849,
          0.0008336065912709916,
          0.003219075005867561,
          0.0012257443006907826,
          0.0018821960353236661,
          0.0016479980132913165,
          0.0019254794202549093,
          0.0014677914822528897,
          0.0010219981536164968,
          0.0009542300252898471,
          0.0011329023245220328,
          0.001675463940377621,
          0.001286736080320101,
          0.0018756734015406807,
          0.0012465651520857093
         ],
         "yaxis": "y"
        }
       ],
       "layout": {
        "barmode": "relative",
        "legend": {
         "tracegroupgap": 0
        },
        "template": {
         "data": {
          "bar": [
           {
            "error_x": {
             "color": "#2a3f5f"
            },
            "error_y": {
             "color": "#2a3f5f"
            },
            "marker": {
             "line": {
              "color": "#E5ECF6",
              "width": 0.5
             },
             "pattern": {
              "fillmode": "overlay",
              "size": 10,
              "solidity": 0.2
             }
            },
            "type": "bar"
           }
          ],
          "barpolar": [
           {
            "marker": {
             "line": {
              "color": "#E5ECF6",
              "width": 0.5
             },
             "pattern": {
              "fillmode": "overlay",
              "size": 10,
              "solidity": 0.2
             }
            },
            "type": "barpolar"
           }
          ],
          "carpet": [
           {
            "aaxis": {
             "endlinecolor": "#2a3f5f",
             "gridcolor": "white",
             "linecolor": "white",
             "minorgridcolor": "white",
             "startlinecolor": "#2a3f5f"
            },
            "baxis": {
             "endlinecolor": "#2a3f5f",
             "gridcolor": "white",
             "linecolor": "white",
             "minorgridcolor": "white",
             "startlinecolor": "#2a3f5f"
            },
            "type": "carpet"
           }
          ],
          "choropleth": [
           {
            "colorbar": {
             "outlinewidth": 0,
             "ticks": ""
            },
            "type": "choropleth"
           }
          ],
          "contour": [
           {
            "colorbar": {
             "outlinewidth": 0,
             "ticks": ""
            },
            "colorscale": [
             [
              0,
              "#0d0887"
             ],
             [
              0.1111111111111111,
              "#46039f"
             ],
             [
              0.2222222222222222,
              "#7201a8"
             ],
             [
              0.3333333333333333,
              "#9c179e"
             ],
             [
              0.4444444444444444,
              "#bd3786"
             ],
             [
              0.5555555555555556,
              "#d8576b"
             ],
             [
              0.6666666666666666,
              "#ed7953"
             ],
             [
              0.7777777777777778,
              "#fb9f3a"
             ],
             [
              0.8888888888888888,
              "#fdca26"
             ],
             [
              1,
              "#f0f921"
             ]
            ],
            "type": "contour"
           }
          ],
          "contourcarpet": [
           {
            "colorbar": {
             "outlinewidth": 0,
             "ticks": ""
            },
            "type": "contourcarpet"
           }
          ],
          "heatmap": [
           {
            "colorbar": {
             "outlinewidth": 0,
             "ticks": ""
            },
            "colorscale": [
             [
              0,
              "#0d0887"
             ],
             [
              0.1111111111111111,
              "#46039f"
             ],
             [
              0.2222222222222222,
              "#7201a8"
             ],
             [
              0.3333333333333333,
              "#9c179e"
             ],
             [
              0.4444444444444444,
              "#bd3786"
             ],
             [
              0.5555555555555556,
              "#d8576b"
             ],
             [
              0.6666666666666666,
              "#ed7953"
             ],
             [
              0.7777777777777778,
              "#fb9f3a"
             ],
             [
              0.8888888888888888,
              "#fdca26"
             ],
             [
              1,
              "#f0f921"
             ]
            ],
            "type": "heatmap"
           }
          ],
          "heatmapgl": [
           {
            "colorbar": {
             "outlinewidth": 0,
             "ticks": ""
            },
            "colorscale": [
             [
              0,
              "#0d0887"
             ],
             [
              0.1111111111111111,
              "#46039f"
             ],
             [
              0.2222222222222222,
              "#7201a8"
             ],
             [
              0.3333333333333333,
              "#9c179e"
             ],
             [
              0.4444444444444444,
              "#bd3786"
             ],
             [
              0.5555555555555556,
              "#d8576b"
             ],
             [
              0.6666666666666666,
              "#ed7953"
             ],
             [
              0.7777777777777778,
              "#fb9f3a"
             ],
             [
              0.8888888888888888,
              "#fdca26"
             ],
             [
              1,
              "#f0f921"
             ]
            ],
            "type": "heatmapgl"
           }
          ],
          "histogram": [
           {
            "marker": {
             "pattern": {
              "fillmode": "overlay",
              "size": 10,
              "solidity": 0.2
             }
            },
            "type": "histogram"
           }
          ],
          "histogram2d": [
           {
            "colorbar": {
             "outlinewidth": 0,
             "ticks": ""
            },
            "colorscale": [
             [
              0,
              "#0d0887"
             ],
             [
              0.1111111111111111,
              "#46039f"
             ],
             [
              0.2222222222222222,
              "#7201a8"
             ],
             [
              0.3333333333333333,
              "#9c179e"
             ],
             [
              0.4444444444444444,
              "#bd3786"
             ],
             [
              0.5555555555555556,
              "#d8576b"
             ],
             [
              0.6666666666666666,
              "#ed7953"
             ],
             [
              0.7777777777777778,
              "#fb9f3a"
             ],
             [
              0.8888888888888888,
              "#fdca26"
             ],
             [
              1,
              "#f0f921"
             ]
            ],
            "type": "histogram2d"
           }
          ],
          "histogram2dcontour": [
           {
            "colorbar": {
             "outlinewidth": 0,
             "ticks": ""
            },
            "colorscale": [
             [
              0,
              "#0d0887"
             ],
             [
              0.1111111111111111,
              "#46039f"
             ],
             [
              0.2222222222222222,
              "#7201a8"
             ],
             [
              0.3333333333333333,
              "#9c179e"
             ],
             [
              0.4444444444444444,
              "#bd3786"
             ],
             [
              0.5555555555555556,
              "#d8576b"
             ],
             [
              0.6666666666666666,
              "#ed7953"
             ],
             [
              0.7777777777777778,
              "#fb9f3a"
             ],
             [
              0.8888888888888888,
              "#fdca26"
             ],
             [
              1,
              "#f0f921"
             ]
            ],
            "type": "histogram2dcontour"
           }
          ],
          "mesh3d": [
           {
            "colorbar": {
             "outlinewidth": 0,
             "ticks": ""
            },
            "type": "mesh3d"
           }
          ],
          "parcoords": [
           {
            "line": {
             "colorbar": {
              "outlinewidth": 0,
              "ticks": ""
             }
            },
            "type": "parcoords"
           }
          ],
          "pie": [
           {
            "automargin": true,
            "type": "pie"
           }
          ],
          "scatter": [
           {
            "fillpattern": {
             "fillmode": "overlay",
             "size": 10,
             "solidity": 0.2
            },
            "type": "scatter"
           }
          ],
          "scatter3d": [
           {
            "line": {
             "colorbar": {
              "outlinewidth": 0,
              "ticks": ""
             }
            },
            "marker": {
             "colorbar": {
              "outlinewidth": 0,
              "ticks": ""
             }
            },
            "type": "scatter3d"
           }
          ],
          "scattercarpet": [
           {
            "marker": {
             "colorbar": {
              "outlinewidth": 0,
              "ticks": ""
             }
            },
            "type": "scattercarpet"
           }
          ],
          "scattergeo": [
           {
            "marker": {
             "colorbar": {
              "outlinewidth": 0,
              "ticks": ""
             }
            },
            "type": "scattergeo"
           }
          ],
          "scattergl": [
           {
            "marker": {
             "colorbar": {
              "outlinewidth": 0,
              "ticks": ""
             }
            },
            "type": "scattergl"
           }
          ],
          "scattermapbox": [
           {
            "marker": {
             "colorbar": {
              "outlinewidth": 0,
              "ticks": ""
             }
            },
            "type": "scattermapbox"
           }
          ],
          "scatterpolar": [
           {
            "marker": {
             "colorbar": {
              "outlinewidth": 0,
              "ticks": ""
             }
            },
            "type": "scatterpolar"
           }
          ],
          "scatterpolargl": [
           {
            "marker": {
             "colorbar": {
              "outlinewidth": 0,
              "ticks": ""
             }
            },
            "type": "scatterpolargl"
           }
          ],
          "scatterternary": [
           {
            "marker": {
             "colorbar": {
              "outlinewidth": 0,
              "ticks": ""
             }
            },
            "type": "scatterternary"
           }
          ],
          "surface": [
           {
            "colorbar": {
             "outlinewidth": 0,
             "ticks": ""
            },
            "colorscale": [
             [
              0,
              "#0d0887"
             ],
             [
              0.1111111111111111,
              "#46039f"
             ],
             [
              0.2222222222222222,
              "#7201a8"
             ],
             [
              0.3333333333333333,
              "#9c179e"
             ],
             [
              0.4444444444444444,
              "#bd3786"
             ],
             [
              0.5555555555555556,
              "#d8576b"
             ],
             [
              0.6666666666666666,
              "#ed7953"
             ],
             [
              0.7777777777777778,
              "#fb9f3a"
             ],
             [
              0.8888888888888888,
              "#fdca26"
             ],
             [
              1,
              "#f0f921"
             ]
            ],
            "type": "surface"
           }
          ],
          "table": [
           {
            "cells": {
             "fill": {
              "color": "#EBF0F8"
             },
             "line": {
              "color": "white"
             }
            },
            "header": {
             "fill": {
              "color": "#C8D4E3"
             },
             "line": {
              "color": "white"
             }
            },
            "type": "table"
           }
          ]
         },
         "layout": {
          "annotationdefaults": {
           "arrowcolor": "#2a3f5f",
           "arrowhead": 0,
           "arrowwidth": 1
          },
          "autotypenumbers": "strict",
          "coloraxis": {
           "colorbar": {
            "outlinewidth": 0,
            "ticks": ""
           }
          },
          "colorscale": {
           "diverging": [
            [
             0,
             "#8e0152"
            ],
            [
             0.1,
             "#c51b7d"
            ],
            [
             0.2,
             "#de77ae"
            ],
            [
             0.3,
             "#f1b6da"
            ],
            [
             0.4,
             "#fde0ef"
            ],
            [
             0.5,
             "#f7f7f7"
            ],
            [
             0.6,
             "#e6f5d0"
            ],
            [
             0.7,
             "#b8e186"
            ],
            [
             0.8,
             "#7fbc41"
            ],
            [
             0.9,
             "#4d9221"
            ],
            [
             1,
             "#276419"
            ]
           ],
           "sequential": [
            [
             0,
             "#0d0887"
            ],
            [
             0.1111111111111111,
             "#46039f"
            ],
            [
             0.2222222222222222,
             "#7201a8"
            ],
            [
             0.3333333333333333,
             "#9c179e"
            ],
            [
             0.4444444444444444,
             "#bd3786"
            ],
            [
             0.5555555555555556,
             "#d8576b"
            ],
            [
             0.6666666666666666,
             "#ed7953"
            ],
            [
             0.7777777777777778,
             "#fb9f3a"
            ],
            [
             0.8888888888888888,
             "#fdca26"
            ],
            [
             1,
             "#f0f921"
            ]
           ],
           "sequentialminus": [
            [
             0,
             "#0d0887"
            ],
            [
             0.1111111111111111,
             "#46039f"
            ],
            [
             0.2222222222222222,
             "#7201a8"
            ],
            [
             0.3333333333333333,
             "#9c179e"
            ],
            [
             0.4444444444444444,
             "#bd3786"
            ],
            [
             0.5555555555555556,
             "#d8576b"
            ],
            [
             0.6666666666666666,
             "#ed7953"
            ],
            [
             0.7777777777777778,
             "#fb9f3a"
            ],
            [
             0.8888888888888888,
             "#fdca26"
            ],
            [
             1,
             "#f0f921"
            ]
           ]
          },
          "colorway": [
           "#636efa",
           "#EF553B",
           "#00cc96",
           "#ab63fa",
           "#FFA15A",
           "#19d3f3",
           "#FF6692",
           "#B6E880",
           "#FF97FF",
           "#FECB52"
          ],
          "font": {
           "color": "#2a3f5f"
          },
          "geo": {
           "bgcolor": "white",
           "lakecolor": "white",
           "landcolor": "#E5ECF6",
           "showlakes": true,
           "showland": true,
           "subunitcolor": "white"
          },
          "hoverlabel": {
           "align": "left"
          },
          "hovermode": "closest",
          "mapbox": {
           "style": "light"
          },
          "paper_bgcolor": "white",
          "plot_bgcolor": "#E5ECF6",
          "polar": {
           "angularaxis": {
            "gridcolor": "white",
            "linecolor": "white",
            "ticks": ""
           },
           "bgcolor": "#E5ECF6",
           "radialaxis": {
            "gridcolor": "white",
            "linecolor": "white",
            "ticks": ""
           }
          },
          "scene": {
           "xaxis": {
            "backgroundcolor": "#E5ECF6",
            "gridcolor": "white",
            "gridwidth": 2,
            "linecolor": "white",
            "showbackground": true,
            "ticks": "",
            "zerolinecolor": "white"
           },
           "yaxis": {
            "backgroundcolor": "#E5ECF6",
            "gridcolor": "white",
            "gridwidth": 2,
            "linecolor": "white",
            "showbackground": true,
            "ticks": "",
            "zerolinecolor": "white"
           },
           "zaxis": {
            "backgroundcolor": "#E5ECF6",
            "gridcolor": "white",
            "gridwidth": 2,
            "linecolor": "white",
            "showbackground": true,
            "ticks": "",
            "zerolinecolor": "white"
           }
          },
          "shapedefaults": {
           "line": {
            "color": "#2a3f5f"
           }
          },
          "ternary": {
           "aaxis": {
            "gridcolor": "white",
            "linecolor": "white",
            "ticks": ""
           },
           "baxis": {
            "gridcolor": "white",
            "linecolor": "white",
            "ticks": ""
           },
           "bgcolor": "#E5ECF6",
           "caxis": {
            "gridcolor": "white",
            "linecolor": "white",
            "ticks": ""
           }
          },
          "title": {
           "x": 0.05
          },
          "xaxis": {
           "automargin": true,
           "gridcolor": "white",
           "linecolor": "white",
           "ticks": "",
           "title": {
            "standoff": 15
           },
           "zerolinecolor": "white",
           "zerolinewidth": 2
          },
          "yaxis": {
           "automargin": true,
           "gridcolor": "white",
           "linecolor": "white",
           "ticks": "",
           "title": {
            "standoff": 15
           },
           "zerolinecolor": "white",
           "zerolinewidth": 2
          }
         }
        },
        "title": {
         "text": "Распределение зароботной платы в долларах США"
        },
        "xaxis": {
         "anchor": "y",
         "domain": [
          0,
          1
         ],
         "title": {
          "text": "x"
         }
        },
        "yaxis": {
         "anchor": "x",
         "domain": [
          0,
          1
         ],
         "title": {
          "text": "sum of Распределение"
         }
        }
       }
      }
     },
     "metadata": {},
     "output_type": "display_data"
    }
   ],
   "source": [
    "fig = px.histogram(\n",
    "    x=X.columns,\n",
    "    y = grid_tree.feature_importances_,\n",
    "    labels={'salary_in_usd': \"зарплата (USD)\", 'y': 'Распределение'},\n",
    "    title='Распределение зароботной платы в долларах США',\n",
    "    # marginal='box',\n",
    "    )\n",
    "\n",
    "fig.show()"
   ]
  }
 ],
 "metadata": {
  "kernelspec": {
   "display_name": ".venv",
   "language": "python",
   "name": "python3"
  },
  "language_info": {
   "codemirror_mode": {
    "name": "ipython",
    "version": 3
   },
   "file_extension": ".py",
   "mimetype": "text/x-python",
   "name": "python",
   "nbconvert_exporter": "python",
   "pygments_lexer": "ipython3",
   "version": "3.11.7"
  }
 },
 "nbformat": 4,
 "nbformat_minor": 2
}
