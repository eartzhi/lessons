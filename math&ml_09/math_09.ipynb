{
 "cells": [
  {
   "cell_type": "markdown",
   "metadata": {},
   "source": [
    "2. Ансамбли моделей. Бутстреппинг. Бэггинг"
   ]
  },
  {
   "cell_type": "code",
   "execution_count": 81,
   "metadata": {},
   "outputs": [],
   "source": [
    "import xgboost\n",
    "import catboost\n",
    "import numpy as np\n",
    "import pandas as pd\n",
    "import seaborn as sns\n",
    "import matplotlib.pyplot as plt\n",
    "import plotly.express as px\n",
    "\n",
    "from sklearn import linear_model\n",
    "from sklearn import ensemble\n",
    "from sklearn import metrics\n",
    "from sklearn import tree\n",
    "from sklearn import preprocessing\n",
    "from sklearn import neighbors\n",
    "from sklearn import naive_bayes\n",
    "from catboost.utils import get_confusion_matrix\n",
    "\n",
    "from sklearn.model_selection import train_test_split, GridSearchCV"
   ]
  },
  {
   "cell_type": "code",
   "execution_count": 2,
   "metadata": {},
   "outputs": [
    {
     "data": {
      "text/plain": [
       "0.31673469387755115"
      ]
     },
     "execution_count": 2,
     "metadata": {},
     "output_type": "execute_result"
    }
   ],
   "source": [
    "a = np.array([4.4, 3.8, 4.8, 4.0, 3.4, 4.2, 5.2])\n",
    "b = a.mean()\n",
    "np.sum((a - b)**2)/7"
   ]
  },
  {
   "cell_type": "code",
   "execution_count": 3,
   "metadata": {},
   "outputs": [
    {
     "data": {
      "text/html": [
       "<div>\n",
       "<style scoped>\n",
       "    .dataframe tbody tr th:only-of-type {\n",
       "        vertical-align: middle;\n",
       "    }\n",
       "\n",
       "    .dataframe tbody tr th {\n",
       "        vertical-align: top;\n",
       "    }\n",
       "\n",
       "    .dataframe thead th {\n",
       "        text-align: right;\n",
       "    }\n",
       "</style>\n",
       "<table border=\"1\" class=\"dataframe\">\n",
       "  <thead>\n",
       "    <tr style=\"text-align: right;\">\n",
       "      <th></th>\n",
       "      <th>fixed.acidity</th>\n",
       "      <th>volatile.acidity</th>\n",
       "      <th>citric.acid</th>\n",
       "      <th>residual.sugar</th>\n",
       "      <th>chlorides</th>\n",
       "      <th>free.sulfur.dioxide</th>\n",
       "      <th>total.sulfur.dioxide</th>\n",
       "      <th>density</th>\n",
       "      <th>pH</th>\n",
       "      <th>sulphates</th>\n",
       "      <th>alcohol</th>\n",
       "      <th>quality</th>\n",
       "    </tr>\n",
       "  </thead>\n",
       "  <tbody>\n",
       "    <tr>\n",
       "      <th>1</th>\n",
       "      <td>7.4</td>\n",
       "      <td>0.70</td>\n",
       "      <td>0.00</td>\n",
       "      <td>1.9</td>\n",
       "      <td>0.076</td>\n",
       "      <td>11.0</td>\n",
       "      <td>34.0</td>\n",
       "      <td>0.9978</td>\n",
       "      <td>3.51</td>\n",
       "      <td>0.56</td>\n",
       "      <td>9.4</td>\n",
       "      <td>5</td>\n",
       "    </tr>\n",
       "    <tr>\n",
       "      <th>2</th>\n",
       "      <td>7.8</td>\n",
       "      <td>0.88</td>\n",
       "      <td>0.00</td>\n",
       "      <td>2.6</td>\n",
       "      <td>0.098</td>\n",
       "      <td>25.0</td>\n",
       "      <td>67.0</td>\n",
       "      <td>0.9968</td>\n",
       "      <td>3.20</td>\n",
       "      <td>0.68</td>\n",
       "      <td>9.8</td>\n",
       "      <td>5</td>\n",
       "    </tr>\n",
       "    <tr>\n",
       "      <th>3</th>\n",
       "      <td>7.8</td>\n",
       "      <td>0.76</td>\n",
       "      <td>0.04</td>\n",
       "      <td>2.3</td>\n",
       "      <td>0.092</td>\n",
       "      <td>15.0</td>\n",
       "      <td>54.0</td>\n",
       "      <td>0.9970</td>\n",
       "      <td>3.26</td>\n",
       "      <td>0.65</td>\n",
       "      <td>9.8</td>\n",
       "      <td>5</td>\n",
       "    </tr>\n",
       "    <tr>\n",
       "      <th>4</th>\n",
       "      <td>11.2</td>\n",
       "      <td>0.28</td>\n",
       "      <td>0.56</td>\n",
       "      <td>1.9</td>\n",
       "      <td>0.075</td>\n",
       "      <td>17.0</td>\n",
       "      <td>60.0</td>\n",
       "      <td>0.9980</td>\n",
       "      <td>3.16</td>\n",
       "      <td>0.58</td>\n",
       "      <td>9.8</td>\n",
       "      <td>6</td>\n",
       "    </tr>\n",
       "    <tr>\n",
       "      <th>5</th>\n",
       "      <td>7.4</td>\n",
       "      <td>0.70</td>\n",
       "      <td>0.00</td>\n",
       "      <td>1.9</td>\n",
       "      <td>0.076</td>\n",
       "      <td>11.0</td>\n",
       "      <td>34.0</td>\n",
       "      <td>0.9978</td>\n",
       "      <td>3.51</td>\n",
       "      <td>0.56</td>\n",
       "      <td>9.4</td>\n",
       "      <td>5</td>\n",
       "    </tr>\n",
       "  </tbody>\n",
       "</table>\n",
       "</div>"
      ],
      "text/plain": [
       "   fixed.acidity  volatile.acidity  citric.acid  residual.sugar  chlorides  \\\n",
       "1            7.4              0.70         0.00             1.9      0.076   \n",
       "2            7.8              0.88         0.00             2.6      0.098   \n",
       "3            7.8              0.76         0.04             2.3      0.092   \n",
       "4           11.2              0.28         0.56             1.9      0.075   \n",
       "5            7.4              0.70         0.00             1.9      0.076   \n",
       "\n",
       "   free.sulfur.dioxide  total.sulfur.dioxide  density    pH  sulphates  \\\n",
       "1                 11.0                  34.0   0.9978  3.51       0.56   \n",
       "2                 25.0                  67.0   0.9968  3.20       0.68   \n",
       "3                 15.0                  54.0   0.9970  3.26       0.65   \n",
       "4                 17.0                  60.0   0.9980  3.16       0.58   \n",
       "5                 11.0                  34.0   0.9978  3.51       0.56   \n",
       "\n",
       "   alcohol  quality  \n",
       "1      9.4        5  \n",
       "2      9.8        5  \n",
       "3      9.8        5  \n",
       "4      9.8        6  \n",
       "5      9.4        5  "
      ]
     },
     "execution_count": 3,
     "metadata": {},
     "output_type": "execute_result"
    }
   ],
   "source": [
    "data = pd.read_csv('data/wineQualityReds.zip', index_col=0)\n",
    "data.head()"
   ]
  },
  {
   "cell_type": "code",
   "execution_count": 4,
   "metadata": {},
   "outputs": [
    {
     "data": {
      "text/html": [
       "<div>\n",
       "<style scoped>\n",
       "    .dataframe tbody tr th:only-of-type {\n",
       "        vertical-align: middle;\n",
       "    }\n",
       "\n",
       "    .dataframe tbody tr th {\n",
       "        vertical-align: top;\n",
       "    }\n",
       "\n",
       "    .dataframe thead th {\n",
       "        text-align: right;\n",
       "    }\n",
       "</style>\n",
       "<table border=\"1\" class=\"dataframe\">\n",
       "  <thead>\n",
       "    <tr style=\"text-align: right;\">\n",
       "      <th></th>\n",
       "      <th>fixed.acidity</th>\n",
       "      <th>volatile.acidity</th>\n",
       "      <th>citric.acid</th>\n",
       "      <th>residual.sugar</th>\n",
       "      <th>chlorides</th>\n",
       "      <th>free.sulfur.dioxide</th>\n",
       "      <th>total.sulfur.dioxide</th>\n",
       "      <th>density</th>\n",
       "      <th>pH</th>\n",
       "      <th>sulphates</th>\n",
       "      <th>alcohol</th>\n",
       "      <th>quality</th>\n",
       "    </tr>\n",
       "  </thead>\n",
       "  <tbody>\n",
       "    <tr>\n",
       "      <th>1</th>\n",
       "      <td>7.4</td>\n",
       "      <td>0.70</td>\n",
       "      <td>0.00</td>\n",
       "      <td>1.9</td>\n",
       "      <td>0.076</td>\n",
       "      <td>11.0</td>\n",
       "      <td>34.0</td>\n",
       "      <td>0.9978</td>\n",
       "      <td>3.51</td>\n",
       "      <td>0.56</td>\n",
       "      <td>9.4</td>\n",
       "      <td>0</td>\n",
       "    </tr>\n",
       "    <tr>\n",
       "      <th>2</th>\n",
       "      <td>7.8</td>\n",
       "      <td>0.88</td>\n",
       "      <td>0.00</td>\n",
       "      <td>2.6</td>\n",
       "      <td>0.098</td>\n",
       "      <td>25.0</td>\n",
       "      <td>67.0</td>\n",
       "      <td>0.9968</td>\n",
       "      <td>3.20</td>\n",
       "      <td>0.68</td>\n",
       "      <td>9.8</td>\n",
       "      <td>0</td>\n",
       "    </tr>\n",
       "    <tr>\n",
       "      <th>3</th>\n",
       "      <td>7.8</td>\n",
       "      <td>0.76</td>\n",
       "      <td>0.04</td>\n",
       "      <td>2.3</td>\n",
       "      <td>0.092</td>\n",
       "      <td>15.0</td>\n",
       "      <td>54.0</td>\n",
       "      <td>0.9970</td>\n",
       "      <td>3.26</td>\n",
       "      <td>0.65</td>\n",
       "      <td>9.8</td>\n",
       "      <td>0</td>\n",
       "    </tr>\n",
       "    <tr>\n",
       "      <th>4</th>\n",
       "      <td>11.2</td>\n",
       "      <td>0.28</td>\n",
       "      <td>0.56</td>\n",
       "      <td>1.9</td>\n",
       "      <td>0.075</td>\n",
       "      <td>17.0</td>\n",
       "      <td>60.0</td>\n",
       "      <td>0.9980</td>\n",
       "      <td>3.16</td>\n",
       "      <td>0.58</td>\n",
       "      <td>9.8</td>\n",
       "      <td>1</td>\n",
       "    </tr>\n",
       "    <tr>\n",
       "      <th>5</th>\n",
       "      <td>7.4</td>\n",
       "      <td>0.70</td>\n",
       "      <td>0.00</td>\n",
       "      <td>1.9</td>\n",
       "      <td>0.076</td>\n",
       "      <td>11.0</td>\n",
       "      <td>34.0</td>\n",
       "      <td>0.9978</td>\n",
       "      <td>3.51</td>\n",
       "      <td>0.56</td>\n",
       "      <td>9.4</td>\n",
       "      <td>0</td>\n",
       "    </tr>\n",
       "  </tbody>\n",
       "</table>\n",
       "</div>"
      ],
      "text/plain": [
       "   fixed.acidity  volatile.acidity  citric.acid  residual.sugar  chlorides  \\\n",
       "1            7.4              0.70         0.00             1.9      0.076   \n",
       "2            7.8              0.88         0.00             2.6      0.098   \n",
       "3            7.8              0.76         0.04             2.3      0.092   \n",
       "4           11.2              0.28         0.56             1.9      0.075   \n",
       "5            7.4              0.70         0.00             1.9      0.076   \n",
       "\n",
       "   free.sulfur.dioxide  total.sulfur.dioxide  density    pH  sulphates  \\\n",
       "1                 11.0                  34.0   0.9978  3.51       0.56   \n",
       "2                 25.0                  67.0   0.9968  3.20       0.68   \n",
       "3                 15.0                  54.0   0.9970  3.26       0.65   \n",
       "4                 17.0                  60.0   0.9980  3.16       0.58   \n",
       "5                 11.0                  34.0   0.9978  3.51       0.56   \n",
       "\n",
       "   alcohol  quality  \n",
       "1      9.4        0  \n",
       "2      9.8        0  \n",
       "3      9.8        0  \n",
       "4      9.8        1  \n",
       "5      9.4        0  "
      ]
     },
     "execution_count": 4,
     "metadata": {},
     "output_type": "execute_result"
    }
   ],
   "source": [
    "data['quality'] = data['quality'].apply(lambda x: 1 if x >=6 else 0)\n",
    "data.head()"
   ]
  },
  {
   "cell_type": "code",
   "execution_count": 5,
   "metadata": {},
   "outputs": [],
   "source": [
    "X = data.drop('quality', axis=1)\n",
    "y = data['quality']"
   ]
  },
  {
   "cell_type": "code",
   "execution_count": 6,
   "metadata": {},
   "outputs": [],
   "source": [
    "X_train, X_test, y_train, y_test = train_test_split(X, y, random_state = 42, test_size = 0.3)"
   ]
  },
  {
   "cell_type": "code",
   "execution_count": 7,
   "metadata": {},
   "outputs": [
    {
     "name": "stdout",
     "output_type": "stream",
     "text": [
      "f1 metric 0.7542857142857143\n"
     ]
    },
    {
     "name": "stderr",
     "output_type": "stream",
     "text": [
      "c:\\Projects\\DS\\lessons\\.venv\\Lib\\site-packages\\sklearn\\linear_model\\_logistic.py:469: ConvergenceWarning: lbfgs failed to converge (status=1):\n",
      "STOP: TOTAL NO. of ITERATIONS REACHED LIMIT.\n",
      "\n",
      "Increase the number of iterations (max_iter) or scale the data as shown in:\n",
      "    https://scikit-learn.org/stable/modules/preprocessing.html\n",
      "Please also refer to the documentation for alternative solver options:\n",
      "    https://scikit-learn.org/stable/modules/linear_model.html#logistic-regression\n",
      "  n_iter_i = _check_optimize_result(\n"
     ]
    }
   ],
   "source": [
    "lr = linear_model.LogisticRegression()\n",
    "\n",
    "lr.fit(X_train, y_train)\n",
    "\n",
    "y_test_pred = lr.predict(X_test)\n",
    "\n",
    "print(f'f1 metric {metrics.f1_score(y_test_pred, y_test)}')"
   ]
  },
  {
   "cell_type": "code",
   "execution_count": 8,
   "metadata": {},
   "outputs": [
    {
     "name": "stdout",
     "output_type": "stream",
     "text": [
      "f1 metric 0.7927927927927928\n"
     ]
    }
   ],
   "source": [
    "dt = tree.DecisionTreeClassifier(random_state=42, max_depth=10)\n",
    "\n",
    "dt.fit(X_train, y_train)\n",
    "\n",
    "y_test_pred = dt.predict(X_test)\n",
    "\n",
    "print(f'f1 metric {metrics.f1_score(y_test_pred, y_test)}')"
   ]
  },
  {
   "cell_type": "code",
   "execution_count": 9,
   "metadata": {},
   "outputs": [
    {
     "name": "stdout",
     "output_type": "stream",
     "text": [
      "f1 metric 0.8181818181818182\n"
     ]
    }
   ],
   "source": [
    "bc = ensemble.BaggingClassifier(estimator=dt, n_estimators=1500, random_state=42)\n",
    "\n",
    "bc.fit(X_train, y_train)\n",
    "\n",
    "y_test_pred = bc.predict(X_test)\n",
    "\n",
    "print(f'f1 metric {metrics.f1_score(y_test_pred, y_test)}')"
   ]
  },
  {
   "cell_type": "markdown",
   "metadata": {},
   "source": [
    " 3. Случайный лес"
   ]
  },
  {
   "cell_type": "code",
   "execution_count": 10,
   "metadata": {},
   "outputs": [
    {
     "data": {
      "text/html": [
       "<div>\n",
       "<style scoped>\n",
       "    .dataframe tbody tr th:only-of-type {\n",
       "        vertical-align: middle;\n",
       "    }\n",
       "\n",
       "    .dataframe tbody tr th {\n",
       "        vertical-align: top;\n",
       "    }\n",
       "\n",
       "    .dataframe thead th {\n",
       "        text-align: right;\n",
       "    }\n",
       "</style>\n",
       "<table border=\"1\" class=\"dataframe\">\n",
       "  <thead>\n",
       "    <tr style=\"text-align: right;\">\n",
       "      <th></th>\n",
       "      <th>crim_rate</th>\n",
       "      <th>zn</th>\n",
       "      <th>business</th>\n",
       "      <th>river</th>\n",
       "      <th>nit_oxiden</th>\n",
       "      <th>rooms</th>\n",
       "      <th>age</th>\n",
       "      <th>dist</th>\n",
       "      <th>highways_index</th>\n",
       "      <th>tax</th>\n",
       "      <th>pup_per_teaс</th>\n",
       "      <th>lower</th>\n",
       "      <th>target</th>\n",
       "    </tr>\n",
       "  </thead>\n",
       "  <tbody>\n",
       "    <tr>\n",
       "      <th>0</th>\n",
       "      <td>0.00632</td>\n",
       "      <td>18.0</td>\n",
       "      <td>2.31</td>\n",
       "      <td>0</td>\n",
       "      <td>0.538</td>\n",
       "      <td>6.575</td>\n",
       "      <td>65.2</td>\n",
       "      <td>4.0900</td>\n",
       "      <td>1</td>\n",
       "      <td>296</td>\n",
       "      <td>15.3</td>\n",
       "      <td>4.98</td>\n",
       "      <td>24.0</td>\n",
       "    </tr>\n",
       "    <tr>\n",
       "      <th>1</th>\n",
       "      <td>0.02731</td>\n",
       "      <td>0.0</td>\n",
       "      <td>7.07</td>\n",
       "      <td>0</td>\n",
       "      <td>0.469</td>\n",
       "      <td>6.421</td>\n",
       "      <td>78.9</td>\n",
       "      <td>4.9671</td>\n",
       "      <td>2</td>\n",
       "      <td>242</td>\n",
       "      <td>17.8</td>\n",
       "      <td>9.14</td>\n",
       "      <td>21.6</td>\n",
       "    </tr>\n",
       "    <tr>\n",
       "      <th>2</th>\n",
       "      <td>0.02729</td>\n",
       "      <td>0.0</td>\n",
       "      <td>7.07</td>\n",
       "      <td>0</td>\n",
       "      <td>0.469</td>\n",
       "      <td>7.185</td>\n",
       "      <td>61.1</td>\n",
       "      <td>4.9671</td>\n",
       "      <td>2</td>\n",
       "      <td>242</td>\n",
       "      <td>17.8</td>\n",
       "      <td>4.03</td>\n",
       "      <td>34.7</td>\n",
       "    </tr>\n",
       "    <tr>\n",
       "      <th>3</th>\n",
       "      <td>0.03237</td>\n",
       "      <td>0.0</td>\n",
       "      <td>2.18</td>\n",
       "      <td>0</td>\n",
       "      <td>0.458</td>\n",
       "      <td>6.998</td>\n",
       "      <td>45.8</td>\n",
       "      <td>6.0622</td>\n",
       "      <td>3</td>\n",
       "      <td>222</td>\n",
       "      <td>18.7</td>\n",
       "      <td>2.94</td>\n",
       "      <td>33.4</td>\n",
       "    </tr>\n",
       "    <tr>\n",
       "      <th>4</th>\n",
       "      <td>0.06905</td>\n",
       "      <td>0.0</td>\n",
       "      <td>2.18</td>\n",
       "      <td>0</td>\n",
       "      <td>0.458</td>\n",
       "      <td>7.147</td>\n",
       "      <td>54.2</td>\n",
       "      <td>6.0622</td>\n",
       "      <td>3</td>\n",
       "      <td>222</td>\n",
       "      <td>18.7</td>\n",
       "      <td>5.33</td>\n",
       "      <td>36.2</td>\n",
       "    </tr>\n",
       "  </tbody>\n",
       "</table>\n",
       "</div>"
      ],
      "text/plain": [
       "   crim_rate    zn  business  river  nit_oxiden  rooms   age    dist  \\\n",
       "0    0.00632  18.0      2.31      0       0.538  6.575  65.2  4.0900   \n",
       "1    0.02731   0.0      7.07      0       0.469  6.421  78.9  4.9671   \n",
       "2    0.02729   0.0      7.07      0       0.469  7.185  61.1  4.9671   \n",
       "3    0.03237   0.0      2.18      0       0.458  6.998  45.8  6.0622   \n",
       "4    0.06905   0.0      2.18      0       0.458  7.147  54.2  6.0622   \n",
       "\n",
       "   highways_index  tax  pup_per_teaс  lower  target  \n",
       "0               1  296          15.3   4.98    24.0  \n",
       "1               2  242          17.8   9.14    21.6  \n",
       "2               2  242          17.8   4.03    34.7  \n",
       "3               3  222          18.7   2.94    33.4  \n",
       "4               3  222          18.7   5.33    36.2  "
      ]
     },
     "execution_count": 10,
     "metadata": {},
     "output_type": "execute_result"
    }
   ],
   "source": [
    "data = pd.read_csv('data/boston__1_.zip')\n",
    "\n",
    "for col in data.columns:\n",
    "    if type(data[col][0]) is str:\n",
    "        data[col] = data[col].str.replace(',', '.').astype(float)\n",
    "data.head()\n"
   ]
  },
  {
   "cell_type": "markdown",
   "metadata": {},
   "source": [
    "Задание 3.4\n",
    "4 points possible (graded)\n",
    "1. Разбейте набор данных на обучающую и тестовую выборку в соотношении 70/30, при разбиении задайте параметр random_state = 13.\n",
    "\n",
    "Какое получилось среднее значение медианных цен на обучающей выборке? Ответ округлите до двух знаков после точки-разделителя.\n",
    "\n",
    "  нет ответа \n",
    " \n",
    "2. Обучите линейную регрессию с параметрами по умолчанию.\n",
    "\n",
    "В качестве ответа введите ошибку MAE на тестовой выборке. Ответ округлите до двух знаков после точки-разделителя.\n",
    "\n",
    "  нет ответа \n",
    " \n",
    "\n",
    "3. Обучите решающее дерево с параметрами по умолчанию и аргументом random_state = 13.\n",
    "\n",
    "Можно ли, опираясь на результаты, сделать вывод, что алгоритм переобучился?"
   ]
  },
  {
   "cell_type": "code",
   "execution_count": 11,
   "metadata": {},
   "outputs": [
    {
     "data": {
      "text/plain": [
       "0      24.0\n",
       "1      21.6\n",
       "2      34.7\n",
       "3      33.4\n",
       "4      36.2\n",
       "       ... \n",
       "501    22.4\n",
       "502    20.6\n",
       "503    23.9\n",
       "504    22.0\n",
       "505    11.9\n",
       "Name: target, Length: 506, dtype: float64"
      ]
     },
     "execution_count": 11,
     "metadata": {},
     "output_type": "execute_result"
    }
   ],
   "source": [
    "X = data.drop('target', axis=1)\n",
    "y = data['target']\n",
    "y"
   ]
  },
  {
   "cell_type": "code",
   "execution_count": 12,
   "metadata": {},
   "outputs": [],
   "source": [
    "X_train, X_test, y_train, y_test = train_test_split(X, y, random_state = 13, test_size = 0.3)"
   ]
  },
  {
   "cell_type": "code",
   "execution_count": 13,
   "metadata": {},
   "outputs": [
    {
     "data": {
      "text/plain": [
       "475    13.3\n",
       "489     7.0\n",
       "298    22.5\n",
       "100    27.5\n",
       "223    30.1\n",
       "       ... \n",
       "230    24.3\n",
       "16     23.1\n",
       "74     24.1\n",
       "176    23.2\n",
       "338    20.6\n",
       "Name: target, Length: 354, dtype: float64"
      ]
     },
     "execution_count": 13,
     "metadata": {},
     "output_type": "execute_result"
    }
   ],
   "source": [
    "y_train"
   ]
  },
  {
   "cell_type": "code",
   "execution_count": 14,
   "metadata": {},
   "outputs": [
    {
     "name": "stdout",
     "output_type": "stream",
     "text": [
      "median train target = 22.77316384180791\n"
     ]
    }
   ],
   "source": [
    "print(f'median train target = {y_train.mean()}')"
   ]
  },
  {
   "cell_type": "code",
   "execution_count": 15,
   "metadata": {},
   "outputs": [
    {
     "name": "stdout",
     "output_type": "stream",
     "text": [
      "MAE metric 3.7222793958561513\n"
     ]
    }
   ],
   "source": [
    "linr = linear_model.LinearRegression()\n",
    "\n",
    "\n",
    "linr.fit(X_train, y_train)\n",
    "\n",
    "y_test_pred = linr.predict(X_test)\n",
    "\n",
    "print(f'MAE metric {metrics.mean_absolute_error(y_test_pred, y_test)}')"
   ]
  },
  {
   "cell_type": "code",
   "execution_count": 16,
   "metadata": {},
   "outputs": [
    {
     "name": "stdout",
     "output_type": "stream",
     "text": [
      "MAE tests metric 2.8388157894736845\n",
      "MAE train metric 0.0\n"
     ]
    }
   ],
   "source": [
    "trreg = tree.DecisionTreeRegressor(random_state=13)\n",
    "\n",
    "trreg.fit(X_train, y_train)\n",
    "\n",
    "y_test_pred = trreg.predict(X_test)\n",
    "y_train_pred = trreg.predict(X_train)\n",
    "\n",
    "print(f'MAE tests metric {metrics.mean_absolute_error(y_test_pred, y_test)}')\n",
    "print(f'MAE train metric {metrics.mean_absolute_error(y_train_pred, y_train)}')"
   ]
  },
  {
   "cell_type": "code",
   "execution_count": 17,
   "metadata": {},
   "outputs": [
    {
     "name": "stdout",
     "output_type": "stream",
     "text": [
      "MAE tests metric 2.9328947368421057\n",
      "MAE train metric 1.017231638418079\n",
      "\n",
      "MAE tests metric 2.466315789473684\n",
      "MAE train metric 0.9755367231638419\n",
      "\n",
      "MAE tests metric 2.2559736842105265\n",
      "MAE train metric 0.8717740112994352\n",
      "\n",
      "MAE tests metric 2.2365657894736892\n",
      "MAE train metric 0.8478135593220345\n",
      "\n"
     ]
    }
   ],
   "source": [
    "for n in [3, 10, 100, 500]:\n",
    "    rand_tree = ensemble.RandomForestRegressor(n_estimators=n, random_state=13)\n",
    "    \n",
    "    rand_tree.fit(X_train, y_train)\n",
    "\n",
    "    y_test_pred = rand_tree.predict(X_test)\n",
    "    y_train_pred = rand_tree.predict(X_train)\n",
    "\n",
    "    print(f'MAE tests metric {metrics.mean_absolute_error(y_test_pred, y_test)}')\n",
    "    print(f'MAE train metric {metrics.mean_absolute_error(y_train_pred, y_train)}\\n')"
   ]
  },
  {
   "cell_type": "markdown",
   "metadata": {},
   "source": [
    "4. Случайный лес. Практика"
   ]
  },
  {
   "cell_type": "code",
   "execution_count": 18,
   "metadata": {},
   "outputs": [
    {
     "data": {
      "text/html": [
       "<div>\n",
       "<style scoped>\n",
       "    .dataframe tbody tr th:only-of-type {\n",
       "        vertical-align: middle;\n",
       "    }\n",
       "\n",
       "    .dataframe tbody tr th {\n",
       "        vertical-align: top;\n",
       "    }\n",
       "\n",
       "    .dataframe thead th {\n",
       "        text-align: right;\n",
       "    }\n",
       "</style>\n",
       "<table border=\"1\" class=\"dataframe\">\n",
       "  <thead>\n",
       "    <tr style=\"text-align: right;\">\n",
       "      <th></th>\n",
       "      <th>Date</th>\n",
       "      <th>Location</th>\n",
       "      <th>MinTemp</th>\n",
       "      <th>MaxTemp</th>\n",
       "      <th>Rainfall</th>\n",
       "      <th>Evaporation</th>\n",
       "      <th>Sunshine</th>\n",
       "      <th>WindGustDir</th>\n",
       "      <th>WindGustSpeed</th>\n",
       "      <th>WindDir9am</th>\n",
       "      <th>...</th>\n",
       "      <th>Humidity9am</th>\n",
       "      <th>Humidity3pm</th>\n",
       "      <th>Pressure9am</th>\n",
       "      <th>Pressure3pm</th>\n",
       "      <th>Cloud9am</th>\n",
       "      <th>Cloud3pm</th>\n",
       "      <th>Temp9am</th>\n",
       "      <th>Temp3pm</th>\n",
       "      <th>RainToday</th>\n",
       "      <th>RainTomorrow</th>\n",
       "    </tr>\n",
       "  </thead>\n",
       "  <tbody>\n",
       "    <tr>\n",
       "      <th>0</th>\n",
       "      <td>2008-12-01</td>\n",
       "      <td>Albury</td>\n",
       "      <td>13.4</td>\n",
       "      <td>22.9</td>\n",
       "      <td>0.6</td>\n",
       "      <td>NaN</td>\n",
       "      <td>NaN</td>\n",
       "      <td>W</td>\n",
       "      <td>44.0</td>\n",
       "      <td>W</td>\n",
       "      <td>...</td>\n",
       "      <td>71.0</td>\n",
       "      <td>22.0</td>\n",
       "      <td>1007.7</td>\n",
       "      <td>1007.1</td>\n",
       "      <td>8.0</td>\n",
       "      <td>NaN</td>\n",
       "      <td>16.9</td>\n",
       "      <td>21.8</td>\n",
       "      <td>No</td>\n",
       "      <td>No</td>\n",
       "    </tr>\n",
       "    <tr>\n",
       "      <th>1</th>\n",
       "      <td>2008-12-02</td>\n",
       "      <td>Albury</td>\n",
       "      <td>7.4</td>\n",
       "      <td>25.1</td>\n",
       "      <td>0.0</td>\n",
       "      <td>NaN</td>\n",
       "      <td>NaN</td>\n",
       "      <td>WNW</td>\n",
       "      <td>44.0</td>\n",
       "      <td>NNW</td>\n",
       "      <td>...</td>\n",
       "      <td>44.0</td>\n",
       "      <td>25.0</td>\n",
       "      <td>1010.6</td>\n",
       "      <td>1007.8</td>\n",
       "      <td>NaN</td>\n",
       "      <td>NaN</td>\n",
       "      <td>17.2</td>\n",
       "      <td>24.3</td>\n",
       "      <td>No</td>\n",
       "      <td>No</td>\n",
       "    </tr>\n",
       "    <tr>\n",
       "      <th>2</th>\n",
       "      <td>2008-12-03</td>\n",
       "      <td>Albury</td>\n",
       "      <td>12.9</td>\n",
       "      <td>25.7</td>\n",
       "      <td>0.0</td>\n",
       "      <td>NaN</td>\n",
       "      <td>NaN</td>\n",
       "      <td>WSW</td>\n",
       "      <td>46.0</td>\n",
       "      <td>W</td>\n",
       "      <td>...</td>\n",
       "      <td>38.0</td>\n",
       "      <td>30.0</td>\n",
       "      <td>1007.6</td>\n",
       "      <td>1008.7</td>\n",
       "      <td>NaN</td>\n",
       "      <td>2.0</td>\n",
       "      <td>21.0</td>\n",
       "      <td>23.2</td>\n",
       "      <td>No</td>\n",
       "      <td>No</td>\n",
       "    </tr>\n",
       "    <tr>\n",
       "      <th>3</th>\n",
       "      <td>2008-12-04</td>\n",
       "      <td>Albury</td>\n",
       "      <td>9.2</td>\n",
       "      <td>28.0</td>\n",
       "      <td>0.0</td>\n",
       "      <td>NaN</td>\n",
       "      <td>NaN</td>\n",
       "      <td>NE</td>\n",
       "      <td>24.0</td>\n",
       "      <td>SE</td>\n",
       "      <td>...</td>\n",
       "      <td>45.0</td>\n",
       "      <td>16.0</td>\n",
       "      <td>1017.6</td>\n",
       "      <td>1012.8</td>\n",
       "      <td>NaN</td>\n",
       "      <td>NaN</td>\n",
       "      <td>18.1</td>\n",
       "      <td>26.5</td>\n",
       "      <td>No</td>\n",
       "      <td>No</td>\n",
       "    </tr>\n",
       "    <tr>\n",
       "      <th>4</th>\n",
       "      <td>2008-12-05</td>\n",
       "      <td>Albury</td>\n",
       "      <td>17.5</td>\n",
       "      <td>32.3</td>\n",
       "      <td>1.0</td>\n",
       "      <td>NaN</td>\n",
       "      <td>NaN</td>\n",
       "      <td>W</td>\n",
       "      <td>41.0</td>\n",
       "      <td>ENE</td>\n",
       "      <td>...</td>\n",
       "      <td>82.0</td>\n",
       "      <td>33.0</td>\n",
       "      <td>1010.8</td>\n",
       "      <td>1006.0</td>\n",
       "      <td>7.0</td>\n",
       "      <td>8.0</td>\n",
       "      <td>17.8</td>\n",
       "      <td>29.7</td>\n",
       "      <td>No</td>\n",
       "      <td>No</td>\n",
       "    </tr>\n",
       "  </tbody>\n",
       "</table>\n",
       "<p>5 rows × 23 columns</p>\n",
       "</div>"
      ],
      "text/plain": [
       "         Date Location  MinTemp  MaxTemp  Rainfall  Evaporation  Sunshine  \\\n",
       "0  2008-12-01   Albury     13.4     22.9       0.6          NaN       NaN   \n",
       "1  2008-12-02   Albury      7.4     25.1       0.0          NaN       NaN   \n",
       "2  2008-12-03   Albury     12.9     25.7       0.0          NaN       NaN   \n",
       "3  2008-12-04   Albury      9.2     28.0       0.0          NaN       NaN   \n",
       "4  2008-12-05   Albury     17.5     32.3       1.0          NaN       NaN   \n",
       "\n",
       "  WindGustDir  WindGustSpeed WindDir9am  ... Humidity9am  Humidity3pm  \\\n",
       "0           W           44.0          W  ...        71.0         22.0   \n",
       "1         WNW           44.0        NNW  ...        44.0         25.0   \n",
       "2         WSW           46.0          W  ...        38.0         30.0   \n",
       "3          NE           24.0         SE  ...        45.0         16.0   \n",
       "4           W           41.0        ENE  ...        82.0         33.0   \n",
       "\n",
       "   Pressure9am  Pressure3pm  Cloud9am  Cloud3pm  Temp9am  Temp3pm  RainToday  \\\n",
       "0       1007.7       1007.1       8.0       NaN     16.9     21.8         No   \n",
       "1       1010.6       1007.8       NaN       NaN     17.2     24.3         No   \n",
       "2       1007.6       1008.7       NaN       2.0     21.0     23.2         No   \n",
       "3       1017.6       1012.8       NaN       NaN     18.1     26.5         No   \n",
       "4       1010.8       1006.0       7.0       8.0     17.8     29.7         No   \n",
       "\n",
       "   RainTomorrow  \n",
       "0            No  \n",
       "1            No  \n",
       "2            No  \n",
       "3            No  \n",
       "4            No  \n",
       "\n",
       "[5 rows x 23 columns]"
      ]
     },
     "execution_count": 18,
     "metadata": {},
     "output_type": "execute_result"
    }
   ],
   "source": [
    "data = pd.read_csv('data/weatherAUS.zip')\n",
    "data.head()"
   ]
  },
  {
   "cell_type": "markdown",
   "metadata": {},
   "source": [
    "Задание 4.1\n",
    "1 point possible (graded)\n",
    "Сколько суммарно пропусков в данных?"
   ]
  },
  {
   "cell_type": "code",
   "execution_count": 19,
   "metadata": {},
   "outputs": [
    {
     "name": "stdout",
     "output_type": "stream",
     "text": [
      "Кол-во пропусков = 343248\n"
     ]
    }
   ],
   "source": [
    "print(f'Кол-во пропусков = {data.isna().sum().sum()}')"
   ]
  },
  {
   "cell_type": "markdown",
   "metadata": {},
   "source": [
    "Задание 4.2\n",
    "1 point possible (graded)\n",
    "В некоторых признаках пропусков более 40 % — удалите такие признаки. Сколько их было?"
   ]
  },
  {
   "cell_type": "code",
   "execution_count": 20,
   "metadata": {},
   "outputs": [
    {
     "data": {
      "text/plain": [
       "['Evaporation', 'Sunshine', 'Cloud3pm']"
      ]
     },
     "execution_count": 20,
     "metadata": {},
     "output_type": "execute_result"
    }
   ],
   "source": [
    "columns_to_drop = []\n",
    "for col in data.columns:\n",
    "    if data[col].isna().sum()/145460 >=0.4:\n",
    "        columns_to_drop.append(col)\n",
    "        \n",
    "columns_to_drop"
   ]
  },
  {
   "cell_type": "code",
   "execution_count": 21,
   "metadata": {},
   "outputs": [
    {
     "data": {
      "text/plain": [
       "Index(['Date', 'Location', 'MinTemp', 'MaxTemp', 'Rainfall', 'WindGustDir',\n",
       "       'WindGustSpeed', 'WindDir9am', 'WindDir3pm', 'WindSpeed9am',\n",
       "       'WindSpeed3pm', 'Humidity9am', 'Humidity3pm', 'Pressure9am',\n",
       "       'Pressure3pm', 'Cloud9am', 'Temp9am', 'Temp3pm', 'RainToday',\n",
       "       'RainTomorrow'],\n",
       "      dtype='object')"
      ]
     },
     "execution_count": 21,
     "metadata": {},
     "output_type": "execute_result"
    }
   ],
   "source": [
    "data = data.drop(columns_to_drop, axis=1)\n",
    "data.columns"
   ]
  },
  {
   "cell_type": "markdown",
   "metadata": {},
   "source": [
    "Задание 4.3\n",
    "1 point possible (graded)\n",
    "Теперь обработаем признаки RainToday и RainTomorrow таким образом, чтобы вместо yes было значение 1, а вместо no — значение 0. Обратите внимание на то, что в признаках RainToday и RainTomorrow присутствуют пропуски, и их трогать не нужно, они должны остаться пропусками. Поэтому обрабатывайте столбцы таким образом, чтобы не видоизменить пропущенные значения.\n",
    "\n",
    "Вычислите среднее арифметическое для преобразованного признака RainToday и запишите его в ответ, предварительно округлив до двух знаков после точки-разделителя."
   ]
  },
  {
   "cell_type": "code",
   "execution_count": 22,
   "metadata": {},
   "outputs": [],
   "source": [
    "def to_binary(x):\n",
    "    if x == 'Yes':\n",
    "        return 1\n",
    "    elif x == 'No':\n",
    "        return 0\n",
    "    else:\n",
    "        return x\n",
    "    "
   ]
  },
  {
   "cell_type": "code",
   "execution_count": 23,
   "metadata": {},
   "outputs": [],
   "source": [
    "data['RainToday'] = data['RainToday'].apply(to_binary)\n",
    "data['RainTomorrow'] = data['RainTomorrow'].apply(to_binary)"
   ]
  },
  {
   "cell_type": "code",
   "execution_count": 24,
   "metadata": {},
   "outputs": [
    {
     "name": "stdout",
     "output_type": "stream",
     "text": [
      "Среднее арифметическое = 0.22419285648984874\n"
     ]
    }
   ],
   "source": [
    "print(f\"Среднее арифметическое = {data['RainToday'].mean()}\")"
   ]
  },
  {
   "cell_type": "markdown",
   "metadata": {},
   "source": [
    "Задание 4.4\n",
    "1 point possible (graded)\n",
    "Обработайте признак Date таким образом, чтобы выделить в отдельный признак Month (номер месяца). Изначальный признак Date удалите. Определите, какой месяц имеет самую большую часть дождливых дней относительно всех дней месяца. В качестве ответа введите порядковый номер месяца."
   ]
  },
  {
   "cell_type": "code",
   "execution_count": 25,
   "metadata": {},
   "outputs": [
    {
     "name": "stdout",
     "output_type": "stream",
     "text": [
      "Относительное количество дождливых дней \n",
      "        RainToday\n",
      "Month           \n",
      "1       0.189484\n",
      "2       0.206746\n",
      "3       0.217135\n",
      "4       0.216845\n",
      "5       0.222163\n",
      "6       0.263638\n",
      "7       0.270736\n",
      "8       0.253167\n",
      "9       0.229135\n",
      "10      0.196512\n",
      "11      0.210843\n",
      "12      0.213037\n"
     ]
    }
   ],
   "source": [
    "data['Month'] = pd.to_datetime(data['Date'], yearfirst=True).dt.month\n",
    "\n",
    "print(f\"Относительное количество дождливых дней \\n {data[['Month', 'RainToday']].groupby('Month').mean('RainToday')}\")"
   ]
  },
  {
   "cell_type": "code",
   "execution_count": 26,
   "metadata": {},
   "outputs": [
    {
     "data": {
      "text/plain": [
       "Index(['Location', 'MinTemp', 'MaxTemp', 'Rainfall', 'WindGustDir',\n",
       "       'WindGustSpeed', 'WindDir9am', 'WindDir3pm', 'WindSpeed9am',\n",
       "       'WindSpeed3pm', 'Humidity9am', 'Humidity3pm', 'Pressure9am',\n",
       "       'Pressure3pm', 'Cloud9am', 'Temp9am', 'Temp3pm', 'RainToday',\n",
       "       'RainTomorrow', 'Month'],\n",
       "      dtype='object')"
      ]
     },
     "execution_count": 26,
     "metadata": {},
     "output_type": "execute_result"
    }
   ],
   "source": [
    "data = data.drop('Date', axis=1)\n",
    "data.columns"
   ]
  },
  {
   "cell_type": "markdown",
   "metadata": {},
   "source": [
    "Задание 4.5\n",
    "1 point possible (graded)\n",
    "Обработайте оставшиеся категориальные признаки. С помощью метода get_dummies с настройками по умолчанию создайте dummy-переменные для всех категориальных признаков (их пять), которые есть в данных на этот момент.\n",
    "\n",
    "Кодировку признаков важно выполнить именно в следующем порядке: categoricals = ['Month', 'Location', 'WindGustDir', 'WindDir9am', 'WindDir3pm']. Это необходимо для того, чтобы ваши дальнейшие ответы сходились с нашим решением, так как алгоритм случайного леса, который мы будем использовать в дальнейшем, чувствителен к порядку столбцов. Аргумент categoricals передаётся в функцию pd.get_dummies() с использованием ключевого слова columns, а именно columns=categoricals.\n",
    "\n",
    "Сколько теперь признаков в данных, если считать целевую переменную?"
   ]
  },
  {
   "cell_type": "code",
   "execution_count": 27,
   "metadata": {},
   "outputs": [],
   "source": [
    "categoricals = ['Month', 'Location', 'WindGustDir', 'WindDir9am', 'WindDir3pm']\n",
    "\n",
    "data = pd.get_dummies(data, columns=categoricals)"
   ]
  },
  {
   "cell_type": "code",
   "execution_count": 28,
   "metadata": {},
   "outputs": [
    {
     "name": "stdout",
     "output_type": "stream",
     "text": [
      "Кол-во признаков = 124\n"
     ]
    }
   ],
   "source": [
    "print(f'Кол-во признаков = {len(data.columns)}')"
   ]
  },
  {
   "cell_type": "markdown",
   "metadata": {},
   "source": [
    "Задание 4.6\n",
    "1 point possible (graded)\n",
    "Осталось совсем немного. Удалите все строки, где есть пропуски. Далее разбейте данные на обучающую и тестовую выборки в соотношении 70/30, в качестве значения параметра random_state возьмите число 31.\n",
    "\n",
    "Каково среднее значение целевой переменной на тестовой выборке? Ответ округлите до двух знаков после точки-разделителя."
   ]
  },
  {
   "cell_type": "code",
   "execution_count": 29,
   "metadata": {},
   "outputs": [],
   "source": [
    "d_data = data.dropna(axis=0, how='any')\n",
    "\n",
    "X = d_data.drop('RainTomorrow', axis=1)\n",
    "y = d_data['RainTomorrow']\n",
    "\n",
    "X_train, X_test, y_train, y_test = train_test_split(X, y, random_state = 31, test_size = 0.3)"
   ]
  },
  {
   "cell_type": "code",
   "execution_count": 30,
   "metadata": {},
   "outputs": [
    {
     "name": "stdout",
     "output_type": "stream",
     "text": [
      "Среднее в тестовой выборке = 0.22770253002811142\n"
     ]
    }
   ],
   "source": [
    "print(f'Среднее в тестовой выборке = {y_test.mean()}')"
   ]
  },
  {
   "cell_type": "code",
   "execution_count": 31,
   "metadata": {},
   "outputs": [
    {
     "data": {
      "text/plain": [
       "(78257, 124)"
      ]
     },
     "execution_count": 31,
     "metadata": {},
     "output_type": "execute_result"
    }
   ],
   "source": [
    "d_data.shape"
   ]
  },
  {
   "cell_type": "markdown",
   "metadata": {},
   "source": [
    "Задание 4.7\n",
    "1 point possible (graded)\n",
    "Теперь давайте вспомним про бутстреп. Он не понадобится нам для решения этой задачи, но будет полезно реализовать его «вручную».\n",
    "\n",
    "Сделайте оценку стандартного отклонения для среднего значения минимальной температуры для обучающей выборки (то есть для среднего значения по признаку MinTemp). Для этого сгенерируйте 1000 случайных выборок из наших данных — каждая из них должна быть такого же объёма, как и обучающая выборка. Для генерации выборки используйте np.random.randint(): сгенерируйте необходимое количество индексов и по ним извлеките соответствующие элементы выборки. Случайность фиксируйте с помощью np.random.seed(31).\n",
    "\n",
    "Для каждой выборки вычислите среднее значение, а после найдите стандартное отклонение для этих значений. Ответ округлите до двух знаков после точки-разделителя."
   ]
  },
  {
   "cell_type": "code",
   "execution_count": 32,
   "metadata": {},
   "outputs": [
    {
     "data": {
      "text/plain": [
       "(1000, 78257)"
      ]
     },
     "execution_count": 32,
     "metadata": {},
     "output_type": "execute_result"
    }
   ],
   "source": [
    "np.random.seed(31)\n",
    "num = np.random.randint(low=0, high=d_data.shape[0], size=[1000, d_data.shape[0]],)\n",
    "num.shape"
   ]
  },
  {
   "cell_type": "code",
   "execution_count": 33,
   "metadata": {},
   "outputs": [
    {
     "data": {
      "text/plain": [
       "78257"
      ]
     },
     "execution_count": 33,
     "metadata": {},
     "output_type": "execute_result"
    }
   ],
   "source": [
    "num.shape[1]"
   ]
  },
  {
   "cell_type": "code",
   "execution_count": 34,
   "metadata": {},
   "outputs": [],
   "source": [
    "# mean =[]\n",
    "# for raw in range(num.shape[0]):\n",
    "#     sum_of_items = 0\n",
    "#     for elem in  num[raw]:\n",
    "#         sum_of_items += d_data['MinTemp'].iloc[elem]\n",
    "#         # print(sum_of_items)\n",
    "#     mean.append(sum_of_items/d_data.shape[0])\n",
    "    "
   ]
  },
  {
   "cell_type": "code",
   "execution_count": 35,
   "metadata": {},
   "outputs": [],
   "source": [
    "# pd.DataFrame(mean).std()"
   ]
  },
  {
   "cell_type": "code",
   "execution_count": 36,
   "metadata": {},
   "outputs": [
    {
     "data": {
      "text/plain": [
       "0.02879072820657669"
      ]
     },
     "execution_count": 36,
     "metadata": {},
     "output_type": "execute_result"
    }
   ],
   "source": [
    "def gbs(data, n):     \n",
    "    inds = np.random.randint(0, len(data), (n, len(data))) #определяем индексы случайным образом\n",
    "    numbers = data[inds] #выбираем значения по индексам\n",
    "    return numbers\n",
    "target = X_train['MinTemp'].values #выбираем целевую переменную\n",
    "np.random.seed(31) #задаём параметр генератора случайных чисел\n",
    "mean_values = [np.mean(x) for x in gbs(target, 1000)] #получаем все средние значения\n",
    "np.std(mean_values) #находим для них стандартное отклонение"
   ]
  },
  {
   "cell_type": "markdown",
   "metadata": {},
   "source": [
    "Задание 4.8\n",
    "1 point possible (graded)\n",
    "Теперь можно перейти к обучению прогностических моделей. Начнём с того, что построим простейшую логистическую регрессию (без настройки гиперпараметров). Это будет та модель, с качеством которой мы будем сравнивать результаты, полученные далее.\n",
    "\n",
    "В качестве ответа введите значение метрики roc_auc на тестовой выборке. Ответ округлите до двух знаков после точки-разделителя."
   ]
  },
  {
   "cell_type": "code",
   "execution_count": 37,
   "metadata": {},
   "outputs": [
    {
     "name": "stdout",
     "output_type": "stream",
     "text": [
      "ROG AUC test = 0.7274138237536282\n"
     ]
    },
    {
     "name": "stderr",
     "output_type": "stream",
     "text": [
      "c:\\Projects\\DS\\lessons\\.venv\\Lib\\site-packages\\sklearn\\linear_model\\_logistic.py:469: ConvergenceWarning: lbfgs failed to converge (status=1):\n",
      "STOP: TOTAL NO. of ITERATIONS REACHED LIMIT.\n",
      "\n",
      "Increase the number of iterations (max_iter) or scale the data as shown in:\n",
      "    https://scikit-learn.org/stable/modules/preprocessing.html\n",
      "Please also refer to the documentation for alternative solver options:\n",
      "    https://scikit-learn.org/stable/modules/linear_model.html#logistic-regression\n",
      "  n_iter_i = _check_optimize_result(\n"
     ]
    }
   ],
   "source": [
    "log_reg = linear_model.LogisticRegression()\n",
    "\n",
    "log_reg.fit(X_train, y_train)\n",
    "\n",
    "y_train_pred = log_reg.predict(X_train)\n",
    "y_test_pred = log_reg.predict(X_test)\n",
    "\n",
    "print(f'ROG AUC test = {metrics.roc_auc_score(y_test, y_test_pred)}')\n"
   ]
  },
  {
   "cell_type": "code",
   "execution_count": 38,
   "metadata": {},
   "outputs": [
    {
     "name": "stderr",
     "output_type": "stream",
     "text": [
      "c:\\Projects\\DS\\lessons\\.venv\\Lib\\site-packages\\sklearn\\linear_model\\_logistic.py:469: ConvergenceWarning: lbfgs failed to converge (status=1):\n",
      "STOP: TOTAL NO. of ITERATIONS REACHED LIMIT.\n",
      "\n",
      "Increase the number of iterations (max_iter) or scale the data as shown in:\n",
      "    https://scikit-learn.org/stable/modules/preprocessing.html\n",
      "Please also refer to the documentation for alternative solver options:\n",
      "    https://scikit-learn.org/stable/modules/linear_model.html#logistic-regression\n",
      "  n_iter_i = _check_optimize_result(\n"
     ]
    },
    {
     "data": {
      "text/plain": [
       "0.7274138237536282"
      ]
     },
     "execution_count": 38,
     "metadata": {},
     "output_type": "execute_result"
    }
   ],
   "source": [
    "clf = linear_model.LogisticRegression()\n",
    "clf.fit(X_train, y_train)\n",
    "preds_train = clf.predict(X_train)\n",
    "preds_test = clf.predict(X_test)\n",
    "metrics.roc_auc_score(y_test, preds_test)"
   ]
  },
  {
   "cell_type": "markdown",
   "metadata": {},
   "source": [
    "Задание 4.9\n",
    "4 points possible (graded)\n",
    "Теперь попробуйте обучить на наших данных другой алгоритм — дерево решений. С помощью GridSearchCV сделайте перебор гиперпараметров по следующей сетке:\n",
    "\n",
    "params = {'max_leaf_nodes': list(range(2, 10)), 'min_samples_split': [2, 3, 4], 'max_depth': [5,7,9,11]}\n",
    "Для параметра кросс-валидации cv задайте значение 3. Для решающего дерева определите параметр random_state=42. Остальные параметры оставьте по умолчанию.\n",
    "\n",
    "1. Вычислите значение roc_auc для решающего дерева с гиперпараметрами, определёнными в качестве оптимальных. Ответ округлите до двух знаков после точки-разделителя.\n",
    "\n",
    "  нет ответа \n",
    " \n",
    "2. Какие значения гиперпараметров были выбраны как оптимальные?\n",
    "max_depth:\n",
    "  нет ответа \n",
    " \n",
    "max_leaf_nodes:\n",
    "  нет ответа \n",
    " \n",
    "min_samples_split:"
   ]
  },
  {
   "cell_type": "code",
   "execution_count": 39,
   "metadata": {},
   "outputs": [
    {
     "name": "stdout",
     "output_type": "stream",
     "text": [
      "CPU times: total: 7.75 s\n",
      "Wall time: 42 s\n",
      "ROG AUC на тестовом наборе: 0.703\n",
      "Наилучшие значения гиперпараметров: {'max_depth': 5, 'max_leaf_nodes': 9, 'min_samples_split': 2}\n"
     ]
    }
   ],
   "source": [
    "params = {'max_leaf_nodes': list(range(2, 10)), \n",
    "          'min_samples_split': [2, 3, 4], \n",
    "          'max_depth': [5,7,9,11]}\n",
    "\n",
    "grid_search = GridSearchCV(\n",
    "    estimator=tree.DecisionTreeClassifier(random_state=42), \n",
    "    param_grid=params, \n",
    "    cv=3, \n",
    "    n_jobs = -1\n",
    ")  \n",
    "%time grid_search.fit(X_train, y_train) \n",
    "\n",
    "y_test_pred = grid_search.predict(X_test)\n",
    "\n",
    "grid_tree = tree.DecisionTreeClassifier(random_state=42, **grid_search.best_params_)\n",
    "\n",
    "grid_tree.fit(X_train, y_train)\n",
    "y_test_pred = grid_tree.predict(X_test)\n",
    "\n",
    "print(f'ROG AUC на тестовом наборе: {metrics.roc_auc_score(y_test, y_test_pred):.3f}')\n",
    "print(f\"Наилучшие значения гиперпараметров: {grid_search.best_params_}\")"
   ]
  },
  {
   "cell_type": "markdown",
   "metadata": {},
   "source": [
    "Задание 4.10\n",
    "1 point possible (graded)\n",
    "К сожалению, деревья решений не помогли нам в улучшении качества модели, так что попробуем ещё уменьшить ошибку с помощью ансамблей.\n",
    "\n",
    "Теперь постройте случайный лес, включающий 100 деревьев. Задайте параметр random_state=31. Остальные параметры оставьте по умолчанию.\n",
    "\n",
    "Какой теперь будет метрика roc_auc на тестовой выборке? Ответ округлите до двух знаков после точки-разделителя.\n",
    "\n"
   ]
  },
  {
   "cell_type": "code",
   "execution_count": 40,
   "metadata": {},
   "outputs": [
    {
     "name": "stdout",
     "output_type": "stream",
     "text": [
      "ROG AUC test = 0.7329684570290497\n"
     ]
    }
   ],
   "source": [
    "rand_for = ensemble.RandomForestClassifier(n_estimators=100, random_state=31)\n",
    "\n",
    "rand_for.fit(X_train, y_train)\n",
    "\n",
    "y_train_pred = rand_for.predict(X_train)\n",
    "y_test_pred = rand_for.predict(X_test)\n",
    "\n",
    "print(f'ROG AUC test = {metrics.roc_auc_score(y_test, y_test_pred)}')"
   ]
  },
  {
   "cell_type": "markdown",
   "metadata": {},
   "source": [
    "Задание 4.11\n",
    "1 point possible (graded)\n",
    "Основные параметры, которые отвечают за качество обучения в случайном лесе, следующие:'max_features', 'min_samples_leaf', 'max_depth'.\n",
    "\n",
    "Возьмите случайный лес из 100 деревьев и найдите оптимальную комбинацию этих трёх параметров. Сетка для перебора следующая:\n",
    "\n",
    "{'max_features': [ 4, 5, 6, 7], 'min_samples_leaf': [3, 5, 7, 9, 11], 'max_depth': [5, 10, 15]}\n",
    "Перебор осуществите с помощью GridSearchCV. Для параметра кросс-валидации cv задайте значение 3. Случайности фиксируйте параметром random_state = 31. Остальные значения оставьте по умолчанию.\n",
    "\n",
    "Какое значение roc_auc получилось для оптимальных гиперпараметров?"
   ]
  },
  {
   "cell_type": "code",
   "execution_count": 41,
   "metadata": {},
   "outputs": [
    {
     "name": "stdout",
     "output_type": "stream",
     "text": [
      "CPU times: total: 14.7 s\n",
      "Wall time: 3min 19s\n",
      "ROG AUC на тестовом наборе: 0.70\n",
      "Наилучшие значения гиперпараметров: {'max_depth': 15, 'max_features': 7, 'min_samples_leaf': 3}\n"
     ]
    }
   ],
   "source": [
    "params = {'max_features': [ 4, 5, 6, 7], \n",
    "          'min_samples_leaf': [3, 5, 7, 9, 11], \n",
    "          'max_depth': [5, 10, 15]}\n",
    "\n",
    "grid_search = GridSearchCV(\n",
    "    estimator=ensemble.RandomForestClassifier(random_state=31, n_estimators=100), \n",
    "    param_grid=params, \n",
    "    cv=3, \n",
    "    n_jobs = -1\n",
    ")  \n",
    "%time grid_search.fit(X_train, y_train) \n",
    "\n",
    "y_test_pred = grid_search.predict(X_test)\n",
    "print(f'ROG AUC на тестовом наборе: {metrics.roc_auc_score(y_test, y_test_pred):.2f}')\n",
    "print(f\"Наилучшие значения гиперпараметров: {grid_search.best_params_}\")"
   ]
  },
  {
   "cell_type": "markdown",
   "metadata": {},
   "source": [
    "Задание 4.12\n",
    "2 points possible (graded)\n",
    "Как мы говорили в предыдущем юните, благодаря случайному лесу можно узнать, какие признаки оказывают большее влияние на целевую переменную по сравнению с другими.\n",
    "\n",
    "Оцените значимость признаков. Отметьте три признака, которые дают наибольший вклад в целевую переменную (в каждой колонке находится как минимум один верный вариант ответа):"
   ]
  },
  {
   "cell_type": "code",
   "execution_count": 42,
   "metadata": {},
   "outputs": [
    {
     "data": {
      "text/plain": [
       "array([3.15668493e-02, 2.99173635e-02, 8.98921442e-02, 5.64654473e-02,\n",
       "       1.61674032e-02, 1.94579644e-02, 6.60466009e-02, 2.45610055e-01,\n",
       "       5.41515648e-02, 6.07512442e-02, 7.70813138e-02, 2.51239836e-02,\n",
       "       4.18834868e-02, 5.63809875e-02, 1.99002976e-03, 1.05162890e-03,\n",
       "       1.35020626e-03, 1.34423317e-03, 1.46757876e-03, 1.68059522e-03,\n",
       "       1.52460833e-03, 1.64392643e-03, 1.50867014e-03, 1.36089197e-03,\n",
       "       1.20624776e-03, 1.50673000e-03, 0.00000000e+00, 0.00000000e+00,\n",
       "       6.99719439e-04, 1.42041754e-03, 0.00000000e+00, 1.17306046e-03,\n",
       "       6.15020418e-04, 1.47106399e-03, 2.92821402e-03, 9.76324114e-04,\n",
       "       6.26653773e-04, 2.33491531e-03, 0.00000000e+00, 1.69637617e-03,\n",
       "       0.00000000e+00, 1.16406692e-03, 2.66744882e-04, 0.00000000e+00,\n",
       "       7.69180087e-04, 1.08362384e-03, 1.52200982e-03, 6.27615784e-04,\n",
       "       1.64604468e-03, 0.00000000e+00, 0.00000000e+00, 0.00000000e+00,\n",
       "       0.00000000e+00, 2.17250906e-03, 8.31293458e-04, 8.78486930e-04,\n",
       "       0.00000000e+00, 1.98801443e-03, 1.74122064e-03, 3.46434435e-03,\n",
       "       4.07823240e-04, 9.01778309e-04, 0.00000000e+00, 9.21449426e-04,\n",
       "       1.42536821e-03, 9.30379658e-04, 0.00000000e+00, 1.26296820e-04,\n",
       "       6.78377763e-04, 0.00000000e+00, 1.01213533e-03, 1.23266443e-03,\n",
       "       0.00000000e+00, 1.31496328e-03, 2.53650835e-03, 1.30544769e-03,\n",
       "       1.04244594e-03, 8.67923591e-04, 2.07551409e-03, 9.12356267e-04,\n",
       "       1.53402589e-03, 1.26624830e-03, 1.75199875e-03, 1.28961567e-03,\n",
       "       1.15238539e-03, 8.64846364e-04, 9.75198894e-04, 9.15066825e-04,\n",
       "       1.86251396e-03, 1.53402337e-03, 1.12472647e-03, 1.33566907e-03,\n",
       "       9.30567723e-04, 6.81580304e-04, 5.60321814e-03, 1.21296249e-03,\n",
       "       3.16541787e-03, 1.78032456e-03, 9.60938966e-04, 1.33966425e-03,\n",
       "       1.23506565e-03, 1.03428152e-03, 1.14532301e-03, 1.07850685e-03,\n",
       "       1.14071101e-03, 9.65864907e-04, 9.50315676e-04, 8.15874665e-04,\n",
       "       1.03749611e-03, 8.33606591e-04, 3.21907501e-03, 1.22574430e-03,\n",
       "       1.88219604e-03, 1.64799801e-03, 1.92547942e-03, 1.46779148e-03,\n",
       "       1.02199815e-03, 9.54230025e-04, 1.13290232e-03, 1.67546394e-03,\n",
       "       1.28673608e-03, 1.87567340e-03, 1.24656515e-03])"
      ]
     },
     "execution_count": 42,
     "metadata": {},
     "output_type": "execute_result"
    }
   ],
   "source": [
    "grid_tree = ensemble.RandomForestClassifier(random_state=42, **grid_search.best_params_)\n",
    "\n",
    "grid_tree.fit(X_train, y_train)\n",
    "grid_tree.feature_importances_\n",
    "\n"
   ]
  },
  {
   "cell_type": "code",
   "execution_count": 43,
   "metadata": {},
   "outputs": [
    {
     "data": {
      "application/vnd.plotly.v1+json": {
       "config": {
        "plotlyServerURL": "https://plot.ly"
       },
       "data": [
        {
         "alignmentgroup": "True",
         "bingroup": "x",
         "histfunc": "sum",
         "hovertemplate": "x=%{x}<br>sum of Распределение=%{y}<extra></extra>",
         "legendgroup": "",
         "marker": {
          "color": "#636efa",
          "pattern": {
           "shape": ""
          }
         },
         "name": "",
         "offsetgroup": "",
         "orientation": "v",
         "showlegend": false,
         "type": "histogram",
         "x": [
          "MinTemp",
          "MaxTemp",
          "Rainfall",
          "WindGustSpeed",
          "WindSpeed9am",
          "WindSpeed3pm",
          "Humidity9am",
          "Humidity3pm",
          "Pressure9am",
          "Pressure3pm",
          "Cloud9am",
          "Temp9am",
          "Temp3pm",
          "RainToday",
          "Month_1",
          "Month_2",
          "Month_3",
          "Month_4",
          "Month_5",
          "Month_6",
          "Month_7",
          "Month_8",
          "Month_9",
          "Month_10",
          "Month_11",
          "Month_12",
          "Location_Adelaide",
          "Location_Albany",
          "Location_Albury",
          "Location_AliceSprings",
          "Location_BadgerysCreek",
          "Location_Ballarat",
          "Location_Bendigo",
          "Location_Brisbane",
          "Location_Cairns",
          "Location_Canberra",
          "Location_Cobar",
          "Location_CoffsHarbour",
          "Location_Dartmoor",
          "Location_Darwin",
          "Location_GoldCoast",
          "Location_Hobart",
          "Location_Katherine",
          "Location_Launceston",
          "Location_Melbourne",
          "Location_MelbourneAirport",
          "Location_Mildura",
          "Location_Moree",
          "Location_MountGambier",
          "Location_MountGinini",
          "Location_Newcastle",
          "Location_Nhil",
          "Location_NorahHead",
          "Location_NorfolkIsland",
          "Location_Nuriootpa",
          "Location_PearceRAAF",
          "Location_Penrith",
          "Location_Perth",
          "Location_PerthAirport",
          "Location_Portland",
          "Location_Richmond",
          "Location_Sale",
          "Location_SalmonGums",
          "Location_Sydney",
          "Location_SydneyAirport",
          "Location_Townsville",
          "Location_Tuggeranong",
          "Location_Uluru",
          "Location_WaggaWagga",
          "Location_Walpole",
          "Location_Watsonia",
          "Location_Williamtown",
          "Location_Witchcliffe",
          "Location_Wollongong",
          "Location_Woomera",
          "WindGustDir_E",
          "WindGustDir_ENE",
          "WindGustDir_ESE",
          "WindGustDir_N",
          "WindGustDir_NE",
          "WindGustDir_NNE",
          "WindGustDir_NNW",
          "WindGustDir_NW",
          "WindGustDir_S",
          "WindGustDir_SE",
          "WindGustDir_SSE",
          "WindGustDir_SSW",
          "WindGustDir_SW",
          "WindGustDir_W",
          "WindGustDir_WNW",
          "WindGustDir_WSW",
          "WindDir9am_E",
          "WindDir9am_ENE",
          "WindDir9am_ESE",
          "WindDir9am_N",
          "WindDir9am_NE",
          "WindDir9am_NNE",
          "WindDir9am_NNW",
          "WindDir9am_NW",
          "WindDir9am_S",
          "WindDir9am_SE",
          "WindDir9am_SSE",
          "WindDir9am_SSW",
          "WindDir9am_SW",
          "WindDir9am_W",
          "WindDir9am_WNW",
          "WindDir9am_WSW",
          "WindDir3pm_E",
          "WindDir3pm_ENE",
          "WindDir3pm_ESE",
          "WindDir3pm_N",
          "WindDir3pm_NE",
          "WindDir3pm_NNE",
          "WindDir3pm_NNW",
          "WindDir3pm_NW",
          "WindDir3pm_S",
          "WindDir3pm_SE",
          "WindDir3pm_SSE",
          "WindDir3pm_SSW",
          "WindDir3pm_SW",
          "WindDir3pm_W",
          "WindDir3pm_WNW",
          "WindDir3pm_WSW"
         ],
         "xaxis": "x",
         "y": [
          0.03156684926582441,
          0.029917363525336985,
          0.08989214422419403,
          0.05646544727179947,
          0.016167403217642637,
          0.019457964377333083,
          0.0660466009221658,
          0.24561005476367553,
          0.054151564808708176,
          0.06075124421343996,
          0.07708131379734397,
          0.025123983578280648,
          0.04188348677086754,
          0.05638098748530522,
          0.001990029758784561,
          0.00105162890391076,
          0.0013502062592540365,
          0.0013442331730976447,
          0.0014675787613864012,
          0.0016805952207867225,
          0.0015246083266123862,
          0.0016439264300609755,
          0.001508670135630366,
          0.001360891972721568,
          0.0012062477597052001,
          0.001506729997103395,
          0,
          0,
          0.0006997194389672465,
          0.001420417541698472,
          0,
          0.0011730604579539778,
          0.0006150204176469737,
          0.001471063994640881,
          0.0029282140158224538,
          0.0009763241136452899,
          0.0006266537730597822,
          0.0023349153106426357,
          0,
          0.0016963761680427879,
          0,
          0.0011640669163285318,
          0.00026674488220679077,
          0,
          0.0007691800874566334,
          0.0010836238436915048,
          0.0015220098195240614,
          0.0006276157839224617,
          0.001646044675820415,
          0,
          0,
          0,
          0,
          0.002172509059869265,
          0.0008312934577568832,
          0.0008784869303062836,
          0,
          0.001988014434491078,
          0.0017412206375900785,
          0.0034643443488303603,
          0.0004078232400366694,
          0.0009017783089072275,
          0,
          0.0009214494261172584,
          0.0014253682128454674,
          0.0009303796575829577,
          0,
          0.00012629681991359158,
          0.0006783777626452277,
          0,
          0.0010121353271841471,
          0.0012326644293484564,
          0,
          0.0013149632784680242,
          0.0025365083541806443,
          0.0013054476860154683,
          0.0010424459383060844,
          0.0008679235906453122,
          0.0020755140906302096,
          0.0009123562669918259,
          0.0015340258912137632,
          0.0012662483044997234,
          0.0017519987454969364,
          0.0012896156650310446,
          0.0011523853858841301,
          0.0008648463640744084,
          0.0009751988944069521,
          0.0009150668247516005,
          0.001862513963611357,
          0.001534023371002417,
          0.0011247264713091793,
          0.0013356690726503376,
          0.0009305677234058666,
          0.000681580304425183,
          0.005603218137939189,
          0.001212962489906994,
          0.0031654178705974984,
          0.0017803245629502832,
          0.0009609389660317004,
          0.001339664249625251,
          0.0012350656494523999,
          0.0010342815191498288,
          0.0011453230055171783,
          0.0010785068450070421,
          0.0011407110118752534,
          0.0009658649071149888,
          0.0009503156763299459,
          0.0008158746652609091,
          0.0010374961140689849,
          0.0008336065912709916,
          0.003219075005867561,
          0.0012257443006907826,
          0.0018821960353236661,
          0.0016479980132913165,
          0.0019254794202549093,
          0.0014677914822528897,
          0.0010219981536164968,
          0.0009542300252898471,
          0.0011329023245220328,
          0.001675463940377621,
          0.001286736080320101,
          0.0018756734015406807,
          0.0012465651520857093
         ],
         "yaxis": "y"
        }
       ],
       "layout": {
        "barmode": "relative",
        "legend": {
         "tracegroupgap": 0
        },
        "template": {
         "data": {
          "bar": [
           {
            "error_x": {
             "color": "#2a3f5f"
            },
            "error_y": {
             "color": "#2a3f5f"
            },
            "marker": {
             "line": {
              "color": "#E5ECF6",
              "width": 0.5
             },
             "pattern": {
              "fillmode": "overlay",
              "size": 10,
              "solidity": 0.2
             }
            },
            "type": "bar"
           }
          ],
          "barpolar": [
           {
            "marker": {
             "line": {
              "color": "#E5ECF6",
              "width": 0.5
             },
             "pattern": {
              "fillmode": "overlay",
              "size": 10,
              "solidity": 0.2
             }
            },
            "type": "barpolar"
           }
          ],
          "carpet": [
           {
            "aaxis": {
             "endlinecolor": "#2a3f5f",
             "gridcolor": "white",
             "linecolor": "white",
             "minorgridcolor": "white",
             "startlinecolor": "#2a3f5f"
            },
            "baxis": {
             "endlinecolor": "#2a3f5f",
             "gridcolor": "white",
             "linecolor": "white",
             "minorgridcolor": "white",
             "startlinecolor": "#2a3f5f"
            },
            "type": "carpet"
           }
          ],
          "choropleth": [
           {
            "colorbar": {
             "outlinewidth": 0,
             "ticks": ""
            },
            "type": "choropleth"
           }
          ],
          "contour": [
           {
            "colorbar": {
             "outlinewidth": 0,
             "ticks": ""
            },
            "colorscale": [
             [
              0,
              "#0d0887"
             ],
             [
              0.1111111111111111,
              "#46039f"
             ],
             [
              0.2222222222222222,
              "#7201a8"
             ],
             [
              0.3333333333333333,
              "#9c179e"
             ],
             [
              0.4444444444444444,
              "#bd3786"
             ],
             [
              0.5555555555555556,
              "#d8576b"
             ],
             [
              0.6666666666666666,
              "#ed7953"
             ],
             [
              0.7777777777777778,
              "#fb9f3a"
             ],
             [
              0.8888888888888888,
              "#fdca26"
             ],
             [
              1,
              "#f0f921"
             ]
            ],
            "type": "contour"
           }
          ],
          "contourcarpet": [
           {
            "colorbar": {
             "outlinewidth": 0,
             "ticks": ""
            },
            "type": "contourcarpet"
           }
          ],
          "heatmap": [
           {
            "colorbar": {
             "outlinewidth": 0,
             "ticks": ""
            },
            "colorscale": [
             [
              0,
              "#0d0887"
             ],
             [
              0.1111111111111111,
              "#46039f"
             ],
             [
              0.2222222222222222,
              "#7201a8"
             ],
             [
              0.3333333333333333,
              "#9c179e"
             ],
             [
              0.4444444444444444,
              "#bd3786"
             ],
             [
              0.5555555555555556,
              "#d8576b"
             ],
             [
              0.6666666666666666,
              "#ed7953"
             ],
             [
              0.7777777777777778,
              "#fb9f3a"
             ],
             [
              0.8888888888888888,
              "#fdca26"
             ],
             [
              1,
              "#f0f921"
             ]
            ],
            "type": "heatmap"
           }
          ],
          "heatmapgl": [
           {
            "colorbar": {
             "outlinewidth": 0,
             "ticks": ""
            },
            "colorscale": [
             [
              0,
              "#0d0887"
             ],
             [
              0.1111111111111111,
              "#46039f"
             ],
             [
              0.2222222222222222,
              "#7201a8"
             ],
             [
              0.3333333333333333,
              "#9c179e"
             ],
             [
              0.4444444444444444,
              "#bd3786"
             ],
             [
              0.5555555555555556,
              "#d8576b"
             ],
             [
              0.6666666666666666,
              "#ed7953"
             ],
             [
              0.7777777777777778,
              "#fb9f3a"
             ],
             [
              0.8888888888888888,
              "#fdca26"
             ],
             [
              1,
              "#f0f921"
             ]
            ],
            "type": "heatmapgl"
           }
          ],
          "histogram": [
           {
            "marker": {
             "pattern": {
              "fillmode": "overlay",
              "size": 10,
              "solidity": 0.2
             }
            },
            "type": "histogram"
           }
          ],
          "histogram2d": [
           {
            "colorbar": {
             "outlinewidth": 0,
             "ticks": ""
            },
            "colorscale": [
             [
              0,
              "#0d0887"
             ],
             [
              0.1111111111111111,
              "#46039f"
             ],
             [
              0.2222222222222222,
              "#7201a8"
             ],
             [
              0.3333333333333333,
              "#9c179e"
             ],
             [
              0.4444444444444444,
              "#bd3786"
             ],
             [
              0.5555555555555556,
              "#d8576b"
             ],
             [
              0.6666666666666666,
              "#ed7953"
             ],
             [
              0.7777777777777778,
              "#fb9f3a"
             ],
             [
              0.8888888888888888,
              "#fdca26"
             ],
             [
              1,
              "#f0f921"
             ]
            ],
            "type": "histogram2d"
           }
          ],
          "histogram2dcontour": [
           {
            "colorbar": {
             "outlinewidth": 0,
             "ticks": ""
            },
            "colorscale": [
             [
              0,
              "#0d0887"
             ],
             [
              0.1111111111111111,
              "#46039f"
             ],
             [
              0.2222222222222222,
              "#7201a8"
             ],
             [
              0.3333333333333333,
              "#9c179e"
             ],
             [
              0.4444444444444444,
              "#bd3786"
             ],
             [
              0.5555555555555556,
              "#d8576b"
             ],
             [
              0.6666666666666666,
              "#ed7953"
             ],
             [
              0.7777777777777778,
              "#fb9f3a"
             ],
             [
              0.8888888888888888,
              "#fdca26"
             ],
             [
              1,
              "#f0f921"
             ]
            ],
            "type": "histogram2dcontour"
           }
          ],
          "mesh3d": [
           {
            "colorbar": {
             "outlinewidth": 0,
             "ticks": ""
            },
            "type": "mesh3d"
           }
          ],
          "parcoords": [
           {
            "line": {
             "colorbar": {
              "outlinewidth": 0,
              "ticks": ""
             }
            },
            "type": "parcoords"
           }
          ],
          "pie": [
           {
            "automargin": true,
            "type": "pie"
           }
          ],
          "scatter": [
           {
            "fillpattern": {
             "fillmode": "overlay",
             "size": 10,
             "solidity": 0.2
            },
            "type": "scatter"
           }
          ],
          "scatter3d": [
           {
            "line": {
             "colorbar": {
              "outlinewidth": 0,
              "ticks": ""
             }
            },
            "marker": {
             "colorbar": {
              "outlinewidth": 0,
              "ticks": ""
             }
            },
            "type": "scatter3d"
           }
          ],
          "scattercarpet": [
           {
            "marker": {
             "colorbar": {
              "outlinewidth": 0,
              "ticks": ""
             }
            },
            "type": "scattercarpet"
           }
          ],
          "scattergeo": [
           {
            "marker": {
             "colorbar": {
              "outlinewidth": 0,
              "ticks": ""
             }
            },
            "type": "scattergeo"
           }
          ],
          "scattergl": [
           {
            "marker": {
             "colorbar": {
              "outlinewidth": 0,
              "ticks": ""
             }
            },
            "type": "scattergl"
           }
          ],
          "scattermapbox": [
           {
            "marker": {
             "colorbar": {
              "outlinewidth": 0,
              "ticks": ""
             }
            },
            "type": "scattermapbox"
           }
          ],
          "scatterpolar": [
           {
            "marker": {
             "colorbar": {
              "outlinewidth": 0,
              "ticks": ""
             }
            },
            "type": "scatterpolar"
           }
          ],
          "scatterpolargl": [
           {
            "marker": {
             "colorbar": {
              "outlinewidth": 0,
              "ticks": ""
             }
            },
            "type": "scatterpolargl"
           }
          ],
          "scatterternary": [
           {
            "marker": {
             "colorbar": {
              "outlinewidth": 0,
              "ticks": ""
             }
            },
            "type": "scatterternary"
           }
          ],
          "surface": [
           {
            "colorbar": {
             "outlinewidth": 0,
             "ticks": ""
            },
            "colorscale": [
             [
              0,
              "#0d0887"
             ],
             [
              0.1111111111111111,
              "#46039f"
             ],
             [
              0.2222222222222222,
              "#7201a8"
             ],
             [
              0.3333333333333333,
              "#9c179e"
             ],
             [
              0.4444444444444444,
              "#bd3786"
             ],
             [
              0.5555555555555556,
              "#d8576b"
             ],
             [
              0.6666666666666666,
              "#ed7953"
             ],
             [
              0.7777777777777778,
              "#fb9f3a"
             ],
             [
              0.8888888888888888,
              "#fdca26"
             ],
             [
              1,
              "#f0f921"
             ]
            ],
            "type": "surface"
           }
          ],
          "table": [
           {
            "cells": {
             "fill": {
              "color": "#EBF0F8"
             },
             "line": {
              "color": "white"
             }
            },
            "header": {
             "fill": {
              "color": "#C8D4E3"
             },
             "line": {
              "color": "white"
             }
            },
            "type": "table"
           }
          ]
         },
         "layout": {
          "annotationdefaults": {
           "arrowcolor": "#2a3f5f",
           "arrowhead": 0,
           "arrowwidth": 1
          },
          "autotypenumbers": "strict",
          "coloraxis": {
           "colorbar": {
            "outlinewidth": 0,
            "ticks": ""
           }
          },
          "colorscale": {
           "diverging": [
            [
             0,
             "#8e0152"
            ],
            [
             0.1,
             "#c51b7d"
            ],
            [
             0.2,
             "#de77ae"
            ],
            [
             0.3,
             "#f1b6da"
            ],
            [
             0.4,
             "#fde0ef"
            ],
            [
             0.5,
             "#f7f7f7"
            ],
            [
             0.6,
             "#e6f5d0"
            ],
            [
             0.7,
             "#b8e186"
            ],
            [
             0.8,
             "#7fbc41"
            ],
            [
             0.9,
             "#4d9221"
            ],
            [
             1,
             "#276419"
            ]
           ],
           "sequential": [
            [
             0,
             "#0d0887"
            ],
            [
             0.1111111111111111,
             "#46039f"
            ],
            [
             0.2222222222222222,
             "#7201a8"
            ],
            [
             0.3333333333333333,
             "#9c179e"
            ],
            [
             0.4444444444444444,
             "#bd3786"
            ],
            [
             0.5555555555555556,
             "#d8576b"
            ],
            [
             0.6666666666666666,
             "#ed7953"
            ],
            [
             0.7777777777777778,
             "#fb9f3a"
            ],
            [
             0.8888888888888888,
             "#fdca26"
            ],
            [
             1,
             "#f0f921"
            ]
           ],
           "sequentialminus": [
            [
             0,
             "#0d0887"
            ],
            [
             0.1111111111111111,
             "#46039f"
            ],
            [
             0.2222222222222222,
             "#7201a8"
            ],
            [
             0.3333333333333333,
             "#9c179e"
            ],
            [
             0.4444444444444444,
             "#bd3786"
            ],
            [
             0.5555555555555556,
             "#d8576b"
            ],
            [
             0.6666666666666666,
             "#ed7953"
            ],
            [
             0.7777777777777778,
             "#fb9f3a"
            ],
            [
             0.8888888888888888,
             "#fdca26"
            ],
            [
             1,
             "#f0f921"
            ]
           ]
          },
          "colorway": [
           "#636efa",
           "#EF553B",
           "#00cc96",
           "#ab63fa",
           "#FFA15A",
           "#19d3f3",
           "#FF6692",
           "#B6E880",
           "#FF97FF",
           "#FECB52"
          ],
          "font": {
           "color": "#2a3f5f"
          },
          "geo": {
           "bgcolor": "white",
           "lakecolor": "white",
           "landcolor": "#E5ECF6",
           "showlakes": true,
           "showland": true,
           "subunitcolor": "white"
          },
          "hoverlabel": {
           "align": "left"
          },
          "hovermode": "closest",
          "mapbox": {
           "style": "light"
          },
          "paper_bgcolor": "white",
          "plot_bgcolor": "#E5ECF6",
          "polar": {
           "angularaxis": {
            "gridcolor": "white",
            "linecolor": "white",
            "ticks": ""
           },
           "bgcolor": "#E5ECF6",
           "radialaxis": {
            "gridcolor": "white",
            "linecolor": "white",
            "ticks": ""
           }
          },
          "scene": {
           "xaxis": {
            "backgroundcolor": "#E5ECF6",
            "gridcolor": "white",
            "gridwidth": 2,
            "linecolor": "white",
            "showbackground": true,
            "ticks": "",
            "zerolinecolor": "white"
           },
           "yaxis": {
            "backgroundcolor": "#E5ECF6",
            "gridcolor": "white",
            "gridwidth": 2,
            "linecolor": "white",
            "showbackground": true,
            "ticks": "",
            "zerolinecolor": "white"
           },
           "zaxis": {
            "backgroundcolor": "#E5ECF6",
            "gridcolor": "white",
            "gridwidth": 2,
            "linecolor": "white",
            "showbackground": true,
            "ticks": "",
            "zerolinecolor": "white"
           }
          },
          "shapedefaults": {
           "line": {
            "color": "#2a3f5f"
           }
          },
          "ternary": {
           "aaxis": {
            "gridcolor": "white",
            "linecolor": "white",
            "ticks": ""
           },
           "baxis": {
            "gridcolor": "white",
            "linecolor": "white",
            "ticks": ""
           },
           "bgcolor": "#E5ECF6",
           "caxis": {
            "gridcolor": "white",
            "linecolor": "white",
            "ticks": ""
           }
          },
          "title": {
           "x": 0.05
          },
          "xaxis": {
           "automargin": true,
           "gridcolor": "white",
           "linecolor": "white",
           "ticks": "",
           "title": {
            "standoff": 15
           },
           "zerolinecolor": "white",
           "zerolinewidth": 2
          },
          "yaxis": {
           "automargin": true,
           "gridcolor": "white",
           "linecolor": "white",
           "ticks": "",
           "title": {
            "standoff": 15
           },
           "zerolinecolor": "white",
           "zerolinewidth": 2
          }
         }
        },
        "title": {
         "text": "Распределение зароботной платы в долларах США"
        },
        "xaxis": {
         "anchor": "y",
         "domain": [
          0,
          1
         ],
         "title": {
          "text": "x"
         }
        },
        "yaxis": {
         "anchor": "x",
         "domain": [
          0,
          1
         ],
         "title": {
          "text": "sum of Распределение"
         }
        }
       }
      }
     },
     "metadata": {},
     "output_type": "display_data"
    }
   ],
   "source": [
    "fig = px.histogram(\n",
    "    x=X.columns,\n",
    "    y = grid_tree.feature_importances_,\n",
    "    labels={'salary_in_usd': \"зарплата (USD)\", 'y': 'Распределение'},\n",
    "    title='Распределение зароботной платы в долларах США',\n",
    "    # marginal='box',\n",
    "    )\n",
    "\n",
    "fig.show()"
   ]
  },
  {
   "cell_type": "markdown",
   "metadata": {},
   "source": [
    "6. Бустинг. Практика"
   ]
  },
  {
   "cell_type": "code",
   "execution_count": 44,
   "metadata": {},
   "outputs": [
    {
     "data": {
      "text/html": [
       "<div>\n",
       "<style scoped>\n",
       "    .dataframe tbody tr th:only-of-type {\n",
       "        vertical-align: middle;\n",
       "    }\n",
       "\n",
       "    .dataframe tbody tr th {\n",
       "        vertical-align: top;\n",
       "    }\n",
       "\n",
       "    .dataframe thead th {\n",
       "        text-align: right;\n",
       "    }\n",
       "</style>\n",
       "<table border=\"1\" class=\"dataframe\">\n",
       "  <thead>\n",
       "    <tr style=\"text-align: right;\">\n",
       "      <th></th>\n",
       "      <th>id</th>\n",
       "      <th>Gender</th>\n",
       "      <th>Customer Type</th>\n",
       "      <th>Age</th>\n",
       "      <th>Type of Travel</th>\n",
       "      <th>Class</th>\n",
       "      <th>Flight Distance</th>\n",
       "      <th>Inflight wifi service</th>\n",
       "      <th>Departure/Arrival time convenient</th>\n",
       "      <th>Ease of Online booking</th>\n",
       "      <th>...</th>\n",
       "      <th>Inflight entertainment</th>\n",
       "      <th>On-board service</th>\n",
       "      <th>Leg room service</th>\n",
       "      <th>Baggage handling</th>\n",
       "      <th>Checkin service</th>\n",
       "      <th>Inflight service</th>\n",
       "      <th>Cleanliness</th>\n",
       "      <th>Departure Delay in Minutes</th>\n",
       "      <th>Arrival Delay in Minutes</th>\n",
       "      <th>satisfaction</th>\n",
       "    </tr>\n",
       "  </thead>\n",
       "  <tbody>\n",
       "    <tr>\n",
       "      <th>0</th>\n",
       "      <td>70172</td>\n",
       "      <td>Male</td>\n",
       "      <td>Loyal Customer</td>\n",
       "      <td>13</td>\n",
       "      <td>Personal Travel</td>\n",
       "      <td>Eco Plus</td>\n",
       "      <td>460</td>\n",
       "      <td>3</td>\n",
       "      <td>4</td>\n",
       "      <td>3</td>\n",
       "      <td>...</td>\n",
       "      <td>5</td>\n",
       "      <td>4</td>\n",
       "      <td>3</td>\n",
       "      <td>4</td>\n",
       "      <td>4</td>\n",
       "      <td>5</td>\n",
       "      <td>5</td>\n",
       "      <td>25</td>\n",
       "      <td>18.0</td>\n",
       "      <td>neutral or dissatisfied</td>\n",
       "    </tr>\n",
       "    <tr>\n",
       "      <th>1</th>\n",
       "      <td>5047</td>\n",
       "      <td>Male</td>\n",
       "      <td>disloyal Customer</td>\n",
       "      <td>25</td>\n",
       "      <td>Business travel</td>\n",
       "      <td>Business</td>\n",
       "      <td>235</td>\n",
       "      <td>3</td>\n",
       "      <td>2</td>\n",
       "      <td>3</td>\n",
       "      <td>...</td>\n",
       "      <td>1</td>\n",
       "      <td>1</td>\n",
       "      <td>5</td>\n",
       "      <td>3</td>\n",
       "      <td>1</td>\n",
       "      <td>4</td>\n",
       "      <td>1</td>\n",
       "      <td>1</td>\n",
       "      <td>6.0</td>\n",
       "      <td>neutral or dissatisfied</td>\n",
       "    </tr>\n",
       "    <tr>\n",
       "      <th>2</th>\n",
       "      <td>110028</td>\n",
       "      <td>Female</td>\n",
       "      <td>Loyal Customer</td>\n",
       "      <td>26</td>\n",
       "      <td>Business travel</td>\n",
       "      <td>Business</td>\n",
       "      <td>1142</td>\n",
       "      <td>2</td>\n",
       "      <td>2</td>\n",
       "      <td>2</td>\n",
       "      <td>...</td>\n",
       "      <td>5</td>\n",
       "      <td>4</td>\n",
       "      <td>3</td>\n",
       "      <td>4</td>\n",
       "      <td>4</td>\n",
       "      <td>4</td>\n",
       "      <td>5</td>\n",
       "      <td>0</td>\n",
       "      <td>0.0</td>\n",
       "      <td>satisfied</td>\n",
       "    </tr>\n",
       "    <tr>\n",
       "      <th>3</th>\n",
       "      <td>24026</td>\n",
       "      <td>Female</td>\n",
       "      <td>Loyal Customer</td>\n",
       "      <td>25</td>\n",
       "      <td>Business travel</td>\n",
       "      <td>Business</td>\n",
       "      <td>562</td>\n",
       "      <td>2</td>\n",
       "      <td>5</td>\n",
       "      <td>5</td>\n",
       "      <td>...</td>\n",
       "      <td>2</td>\n",
       "      <td>2</td>\n",
       "      <td>5</td>\n",
       "      <td>3</td>\n",
       "      <td>1</td>\n",
       "      <td>4</td>\n",
       "      <td>2</td>\n",
       "      <td>11</td>\n",
       "      <td>9.0</td>\n",
       "      <td>neutral or dissatisfied</td>\n",
       "    </tr>\n",
       "    <tr>\n",
       "      <th>4</th>\n",
       "      <td>119299</td>\n",
       "      <td>Male</td>\n",
       "      <td>Loyal Customer</td>\n",
       "      <td>61</td>\n",
       "      <td>Business travel</td>\n",
       "      <td>Business</td>\n",
       "      <td>214</td>\n",
       "      <td>3</td>\n",
       "      <td>3</td>\n",
       "      <td>3</td>\n",
       "      <td>...</td>\n",
       "      <td>3</td>\n",
       "      <td>3</td>\n",
       "      <td>4</td>\n",
       "      <td>4</td>\n",
       "      <td>3</td>\n",
       "      <td>3</td>\n",
       "      <td>3</td>\n",
       "      <td>0</td>\n",
       "      <td>0.0</td>\n",
       "      <td>satisfied</td>\n",
       "    </tr>\n",
       "  </tbody>\n",
       "</table>\n",
       "<p>5 rows × 24 columns</p>\n",
       "</div>"
      ],
      "text/plain": [
       "       id  Gender      Customer Type  Age   Type of Travel     Class  \\\n",
       "0   70172    Male     Loyal Customer   13  Personal Travel  Eco Plus   \n",
       "1    5047    Male  disloyal Customer   25  Business travel  Business   \n",
       "2  110028  Female     Loyal Customer   26  Business travel  Business   \n",
       "3   24026  Female     Loyal Customer   25  Business travel  Business   \n",
       "4  119299    Male     Loyal Customer   61  Business travel  Business   \n",
       "\n",
       "   Flight Distance  Inflight wifi service  Departure/Arrival time convenient  \\\n",
       "0              460                      3                                  4   \n",
       "1              235                      3                                  2   \n",
       "2             1142                      2                                  2   \n",
       "3              562                      2                                  5   \n",
       "4              214                      3                                  3   \n",
       "\n",
       "   Ease of Online booking  ...  Inflight entertainment  On-board service  \\\n",
       "0                       3  ...                       5                 4   \n",
       "1                       3  ...                       1                 1   \n",
       "2                       2  ...                       5                 4   \n",
       "3                       5  ...                       2                 2   \n",
       "4                       3  ...                       3                 3   \n",
       "\n",
       "   Leg room service  Baggage handling  Checkin service  Inflight service  \\\n",
       "0                 3                 4                4                 5   \n",
       "1                 5                 3                1                 4   \n",
       "2                 3                 4                4                 4   \n",
       "3                 5                 3                1                 4   \n",
       "4                 4                 4                3                 3   \n",
       "\n",
       "   Cleanliness  Departure Delay in Minutes  Arrival Delay in Minutes  \\\n",
       "0            5                          25                      18.0   \n",
       "1            1                           1                       6.0   \n",
       "2            5                           0                       0.0   \n",
       "3            2                          11                       9.0   \n",
       "4            3                           0                       0.0   \n",
       "\n",
       "              satisfaction  \n",
       "0  neutral or dissatisfied  \n",
       "1  neutral or dissatisfied  \n",
       "2                satisfied  \n",
       "3  neutral or dissatisfied  \n",
       "4                satisfied  \n",
       "\n",
       "[5 rows x 24 columns]"
      ]
     },
     "execution_count": 44,
     "metadata": {},
     "output_type": "execute_result"
    }
   ],
   "source": [
    "air_data = pd.read_csv('data/AirPass.zip', index_col=0)\n",
    "air_data.head()"
   ]
  },
  {
   "cell_type": "code",
   "execution_count": 45,
   "metadata": {},
   "outputs": [
    {
     "name": "stdout",
     "output_type": "stream",
     "text": [
      "Requirement already satisfied: xgboost in c:\\projects\\ds\\lessons\\.venv\\lib\\site-packages (2.1.2)\n",
      "Requirement already satisfied: numpy in c:\\projects\\ds\\lessons\\.venv\\lib\\site-packages (from xgboost) (1.26.4)\n",
      "Requirement already satisfied: scipy in c:\\projects\\ds\\lessons\\.venv\\lib\\site-packages (from xgboost) (1.13.1)\n"
     ]
    },
    {
     "name": "stderr",
     "output_type": "stream",
     "text": [
      "\n",
      "[notice] A new release of pip is available: 24.2 -> 24.3.1\n",
      "[notice] To update, run: python.exe -m pip install --upgrade pip\n"
     ]
    },
    {
     "name": "stdout",
     "output_type": "stream",
     "text": [
      "Requirement already satisfied: catboost in c:\\projects\\ds\\lessons\\.venv\\lib\\site-packages (1.2.7)\n",
      "Requirement already satisfied: graphviz in c:\\projects\\ds\\lessons\\.venv\\lib\\site-packages (from catboost) (0.20.3)\n",
      "Requirement already satisfied: matplotlib in c:\\projects\\ds\\lessons\\.venv\\lib\\site-packages (from catboost) (3.8.4)\n",
      "Requirement already satisfied: numpy<2.0,>=1.16.0 in c:\\projects\\ds\\lessons\\.venv\\lib\\site-packages (from catboost) (1.26.4)\n",
      "Requirement already satisfied: pandas>=0.24 in c:\\projects\\ds\\lessons\\.venv\\lib\\site-packages (from catboost) (2.2.2)\n",
      "Requirement already satisfied: scipy in c:\\projects\\ds\\lessons\\.venv\\lib\\site-packages (from catboost) (1.13.1)\n",
      "Requirement already satisfied: plotly in c:\\projects\\ds\\lessons\\.venv\\lib\\site-packages (from catboost) (5.21.0)\n",
      "Requirement already satisfied: six in c:\\projects\\ds\\lessons\\.venv\\lib\\site-packages (from catboost) (1.16.0)\n",
      "Requirement already satisfied: python-dateutil>=2.8.2 in c:\\projects\\ds\\lessons\\.venv\\lib\\site-packages (from pandas>=0.24->catboost) (2.9.0.post0)\n",
      "Requirement already satisfied: pytz>=2020.1 in c:\\projects\\ds\\lessons\\.venv\\lib\\site-packages (from pandas>=0.24->catboost) (2024.1)\n",
      "Requirement already satisfied: tzdata>=2022.7 in c:\\projects\\ds\\lessons\\.venv\\lib\\site-packages (from pandas>=0.24->catboost) (2024.1)\n",
      "Requirement already satisfied: contourpy>=1.0.1 in c:\\projects\\ds\\lessons\\.venv\\lib\\site-packages (from matplotlib->catboost) (1.2.1)\n",
      "Requirement already satisfied: cycler>=0.10 in c:\\projects\\ds\\lessons\\.venv\\lib\\site-packages (from matplotlib->catboost) (0.12.1)\n",
      "Requirement already satisfied: fonttools>=4.22.0 in c:\\projects\\ds\\lessons\\.venv\\lib\\site-packages (from matplotlib->catboost) (4.51.0)\n",
      "Requirement already satisfied: kiwisolver>=1.3.1 in c:\\projects\\ds\\lessons\\.venv\\lib\\site-packages (from matplotlib->catboost) (1.4.5)\n",
      "Requirement already satisfied: packaging>=20.0 in c:\\projects\\ds\\lessons\\.venv\\lib\\site-packages (from matplotlib->catboost) (24.0)\n",
      "Requirement already satisfied: pillow>=8 in c:\\projects\\ds\\lessons\\.venv\\lib\\site-packages (from matplotlib->catboost) (10.3.0)\n",
      "Requirement already satisfied: pyparsing>=2.3.1 in c:\\projects\\ds\\lessons\\.venv\\lib\\site-packages (from matplotlib->catboost) (3.1.2)\n",
      "Requirement already satisfied: tenacity>=6.2.0 in c:\\projects\\ds\\lessons\\.venv\\lib\\site-packages (from plotly->catboost) (8.2.3)\n"
     ]
    },
    {
     "name": "stderr",
     "output_type": "stream",
     "text": [
      "\n",
      "[notice] A new release of pip is available: 24.2 -> 24.3.1\n",
      "[notice] To update, run: python.exe -m pip install --upgrade pip\n"
     ]
    }
   ],
   "source": [
    "!pip install xgboost\n",
    "!pip install catboost"
   ]
  },
  {
   "cell_type": "markdown",
   "metadata": {},
   "source": [
    "Задание 6.1\n",
    "1/1 point (graded)\n",
    "Для начала сделаем небольшую предобработку данных. Сколько всего в данных пропущенных значений?"
   ]
  },
  {
   "cell_type": "code",
   "execution_count": 46,
   "metadata": {},
   "outputs": [
    {
     "name": "stdout",
     "output_type": "stream",
     "text": [
      "Nan values count in data is 310\n"
     ]
    }
   ],
   "source": [
    "print(f'Nan values count in data is {air_data.isna().sum().sum()}')"
   ]
  },
  {
   "cell_type": "markdown",
   "metadata": {},
   "source": [
    "Задание 6.2\n",
    "1 point possible (graded)\n",
    "Теперь давайте избавимся от найденных пропусков. Заполните их все медианными значениями. После этого вычислите среднее арифметическое для признака, отражающего задержку при прибытии в минутах. Ответ округлите до двух знаков после точки-разделителя."
   ]
  },
  {
   "cell_type": "code",
   "execution_count": 47,
   "metadata": {},
   "outputs": [
    {
     "data": {
      "text/plain": [
       "id                                     0\n",
       "Gender                                 0\n",
       "Customer Type                          0\n",
       "Age                                    0\n",
       "Type of Travel                         0\n",
       "Class                                  0\n",
       "Flight Distance                        0\n",
       "Inflight wifi service                  0\n",
       "Departure/Arrival time convenient      0\n",
       "Ease of Online booking                 0\n",
       "Gate location                          0\n",
       "Food and drink                         0\n",
       "Online boarding                        0\n",
       "Seat comfort                           0\n",
       "Inflight entertainment                 0\n",
       "On-board service                       0\n",
       "Leg room service                       0\n",
       "Baggage handling                       0\n",
       "Checkin service                        0\n",
       "Inflight service                       0\n",
       "Cleanliness                            0\n",
       "Departure Delay in Minutes             0\n",
       "Arrival Delay in Minutes             310\n",
       "satisfaction                           0\n",
       "dtype: int64"
      ]
     },
     "execution_count": 47,
     "metadata": {},
     "output_type": "execute_result"
    }
   ],
   "source": [
    "air_data.isna().sum()"
   ]
  },
  {
   "cell_type": "code",
   "execution_count": 48,
   "metadata": {},
   "outputs": [],
   "source": [
    "air_data['Arrival Delay in Minutes'] = air_data['Arrival Delay in Minutes'].fillna(air_data['Arrival Delay in Minutes'].median())"
   ]
  },
  {
   "cell_type": "code",
   "execution_count": 49,
   "metadata": {},
   "outputs": [
    {
     "name": "stdout",
     "output_type": "stream",
     "text": [
      "Mead value of rrival Delay in Minutes 15.13\n"
     ]
    }
   ],
   "source": [
    "print(f\"Mead value of rrival Delay in Minutes {round(air_data['Arrival Delay in Minutes'].mean(), 2)}\")"
   ]
  },
  {
   "cell_type": "markdown",
   "metadata": {},
   "source": [
    "Задание 6.3\n",
    "3 points possible (graded)\n",
    "Проведём небольшой разведывательный анализ. Посмотрим, в каких категориях пассажиров превалировали удовлетворённые полетом клиенты.\n",
    "\n",
    "Совет: для ответов на вопросы попробуйте использовать как вычисления, так и визуализации.\n",
    "\n"
   ]
  },
  {
   "cell_type": "code",
   "execution_count": 50,
   "metadata": {},
   "outputs": [
    {
     "data": {
      "text/plain": [
       "<Axes: xlabel='satisfaction', ylabel='Age'>"
      ]
     },
     "execution_count": 50,
     "metadata": {},
     "output_type": "execute_result"
    },
    {
     "data": {
      "image/png": "[encoded data removed]",
      "text/plain": [
       "<Figure size 640x480 with 1 Axes>"
      ]
     },
     "metadata": {},
     "output_type": "display_data"
    }
   ],
   "source": [
    "gender_data = pd.pivot_table(air_data[['Type of Travel', 'satisfaction', 'Age']], index=['Type of Travel', 'satisfaction'], aggfunc='count',).reset_index()\n",
    "sns.barplot(\n",
    "    x= gender_data['satisfaction'],\n",
    "    y= gender_data['Age'],\n",
    "    hue=gender_data['Type of Travel']\n",
    "    ,\n",
    ")"
   ]
  },
  {
   "cell_type": "code",
   "execution_count": 51,
   "metadata": {},
   "outputs": [
    {
     "data": {
      "text/plain": [
       "<Axes: xlabel='satisfaction', ylabel='Age'>"
      ]
     },
     "execution_count": 51,
     "metadata": {},
     "output_type": "execute_result"
    },
    {
     "data": {
      "image/png": "[encoded data removed]",
      "text/plain": [
       "<Figure size 640x480 with 1 Axes>"
      ]
     },
     "metadata": {},
     "output_type": "display_data"
    }
   ],
   "source": [
    "gender_data = pd.pivot_table(air_data[['Gender', 'satisfaction', 'Age']], index=['Gender', 'satisfaction'], aggfunc='count',).reset_index()\n",
    "sns.barplot(\n",
    "    x= gender_data['satisfaction'],\n",
    "    y= gender_data['Age'],\n",
    "    hue=gender_data['Gender']\n",
    "    ,\n",
    ")"
   ]
  },
  {
   "cell_type": "code",
   "execution_count": 52,
   "metadata": {},
   "outputs": [
    {
     "data": {
      "text/plain": [
       "<Axes: xlabel='satisfaction', ylabel='Age'>"
      ]
     },
     "execution_count": 52,
     "metadata": {},
     "output_type": "execute_result"
    },
    {
     "data": {
      "image/png": "[encoded data removed]",
      "text/plain": [
       "<Figure size 640x480 with 1 Axes>"
      ]
     },
     "metadata": {},
     "output_type": "display_data"
    }
   ],
   "source": [
    "gender_data = pd.pivot_table(air_data[['Class', 'satisfaction', 'Age']], index=['Class', 'satisfaction'], aggfunc='count',).reset_index()\n",
    "sns.barplot(\n",
    "    x= gender_data['satisfaction'],\n",
    "    y= gender_data['Age'],\n",
    "    hue=gender_data['Class']\n",
    "    ,\n",
    ")"
   ]
  },
  {
   "cell_type": "code",
   "execution_count": 53,
   "metadata": {},
   "outputs": [],
   "source": [
    "air_data['satisfaction'] = air_data['satisfaction'].map({'neutral or dissatisfied':0 , 'satisfied':1})\n",
    "air_data['Customer Type'] = air_data['Customer Type'].map({'Loyal Customer':1, 'disloyal Customer':0})\n",
    "air_data['Type of Travel'] = air_data['Type of Travel'].map({'Personal Travel':0, 'Business travel':1})\n",
    "air_data['Gender'] = air_data['Gender'].map({'Male': 0, 'Female': 1})"
   ]
  },
  {
   "cell_type": "markdown",
   "metadata": {},
   "source": [
    "Задание 6.4\n",
    "1 point possible (graded)\n",
    "Для остальных категориальных признаков создайте dummy-переменные. Сделайте это с помощью функции get_dummies() из библиотеки Pandas, параметры не меняйте. Сколько теперь признаков в данных (включая целевую переменную)?"
   ]
  },
  {
   "cell_type": "code",
   "execution_count": 54,
   "metadata": {},
   "outputs": [
    {
     "name": "stdout",
     "output_type": "stream",
     "text": [
      "columns count is 26\n"
     ]
    }
   ],
   "source": [
    "# categoricals = list(air_data.columns)\n",
    "\n",
    "# for i in ['satisfaction', 'Customer Type', 'Type of Travel', 'Gender']:\n",
    "#     categoricals.remove(i)\n",
    "# categoricals\n",
    "data = pd.get_dummies(air_data, columns=['Class'])\n",
    "\n",
    "print(f'columns count is {len(data.columns)}')"
   ]
  },
  {
   "cell_type": "markdown",
   "metadata": {},
   "source": [
    "Задание 6.5\n",
    "1 point possible (graded)\n",
    "Мы практически добрались до обучения модели. Разбейте данные на обучающую и тестовую выборки в соотношении 80/20, параметр random_state = 26. Сколько наблюдений попало в тестовую выборку?"
   ]
  },
  {
   "cell_type": "code",
   "execution_count": 55,
   "metadata": {},
   "outputs": [],
   "source": [
    "X = data.drop('satisfaction', axis=1)\n",
    "y = data['satisfaction']\n",
    "\n",
    "X_train, X_test, y_train, y_test = train_test_split(X, y, random_state = 26, test_size = 0.2)"
   ]
  },
  {
   "cell_type": "code",
   "execution_count": 56,
   "metadata": {},
   "outputs": [
    {
     "name": "stdout",
     "output_type": "stream",
     "text": [
      "Test data count is 20781\n"
     ]
    }
   ],
   "source": [
    "print(f'Test data count is {X_test.shape[0]}')"
   ]
  },
  {
   "cell_type": "markdown",
   "metadata": {},
   "source": [
    "Задание 6.6\n",
    "1 point possible (graded)\n",
    "Теперь нам необходимо реализовать масштабирование данных. Для этого обучите на обучающей выборке метод StandardScaler() и с помощью него преобразуйте и обучающую, и тестовую выборки. Не забудьте, что целевую переменную обрабатывать не нужно.\n",
    "\n",
    "Примечание. Отметим, что если бы дальше мы работали только с деревьями, масштабирование бы не требовалось. Однако мы реализуем его, чтобы можно было обучать и другие модели и сравнивать полученные результаты.\n",
    "\n",
    "В качестве ответа введите самое первое значение из матрицы преобразованных признаков тестовой выборки. Округлите значение до двух знаков после точки-разделителя."
   ]
  },
  {
   "cell_type": "code",
   "execution_count": 57,
   "metadata": {},
   "outputs": [],
   "source": [
    "s_s =preprocessing.StandardScaler()\n",
    "\n",
    "s_s.fit(X_train)\n",
    "X_train = s_s.transform(X_train)\n",
    "X_test = s_s.transform(X_test)"
   ]
  },
  {
   "cell_type": "code",
   "execution_count": 58,
   "metadata": {},
   "outputs": [
    {
     "name": "stdout",
     "output_type": "stream",
     "text": [
      "First value of X_test is 0.9408251379303\n"
     ]
    }
   ],
   "source": [
    "print(f'First value of X_test is {X_test[0][0]}')"
   ]
  },
  {
   "cell_type": "markdown",
   "metadata": {},
   "source": [
    "Задание 6.7\n",
    "1 point possible (graded)\n",
    "Перейдём к обучению моделей. В качестве первой модели возьмём самую простую — логистическую регрессию. Мы делаем это для того, чтобы потом сравнивать с ней полученные результаты: так вы сможете выяснить, насколько ансамбли смогут улучшить точность прогноза.\n",
    "\n",
    "Обучите логистическую регрессию с параметрами по умолчанию на наших данных. В качестве ответа введите значение метрики f1_score. Ответ округлите до трёх знаков после точки-разделителя."
   ]
  },
  {
   "cell_type": "code",
   "execution_count": 59,
   "metadata": {},
   "outputs": [
    {
     "name": "stdout",
     "output_type": "stream",
     "text": [
      "F1 train score  = : 0.854\n",
      "F1 test score  = : 0.855\n"
     ]
    }
   ],
   "source": [
    "lr_r = linear_model.LogisticRegression()\n",
    "\n",
    "lr_r.fit(X_train, y_train)\n",
    "\n",
    "y_train_pred = lr_r.predict(X_train)\n",
    "y_test_pred = lr_r.predict(X_test)\n",
    "\n",
    "print(f'F1 train score  = : {metrics.f1_score(y_train, y_train_pred):.3f}')\n",
    "print(f'F1 test score  = : {metrics.f1_score(y_test, y_test_pred):.3f}')"
   ]
  },
  {
   "cell_type": "markdown",
   "metadata": {},
   "source": [
    "Задание 6.8\n",
    "1 point possible (graded)\n",
    "Теперь перейдём к бустингу. Начнём с обучения первой модели — AdaBoost. В качестве базовой модели для неё возьмите решающее дерево с параметром random_state = 26.\n",
    "\n",
    "Обучите AdaBoost, зафиксировав random_state со значением 26 и задав темп обучения 0.01. В качестве ответа введите значение метрики f1_score. Ответ округлите до трёх знаков после точки-разделителя."
   ]
  },
  {
   "cell_type": "code",
   "execution_count": 60,
   "metadata": {},
   "outputs": [
    {
     "name": "stderr",
     "output_type": "stream",
     "text": [
      "c:\\Projects\\DS\\lessons\\.venv\\Lib\\site-packages\\sklearn\\ensemble\\_weight_boosting.py:527: FutureWarning:\n",
      "\n",
      "The SAMME.R algorithm (the default) is deprecated and will be removed in 1.6. Use the SAMME algorithm to circumvent this warning.\n",
      "\n"
     ]
    },
    {
     "name": "stdout",
     "output_type": "stream",
     "text": [
      "F1 train score  = : 1.0000\n",
      "F1 test score  = : 0.9405\n"
     ]
    }
   ],
   "source": [
    "ad_b = ensemble.AdaBoostClassifier(estimator=tree.DecisionTreeClassifier(random_state=26), random_state=26, learning_rate=0.01)\n",
    "\n",
    "ad_b.fit(X_train, y_train)\n",
    "\n",
    "y_train_pred = ad_b.predict(X_train)\n",
    "y_test_pred = ad_b.predict(X_test)\n",
    "\n",
    "print(f'F1 train score  = : {metrics.f1_score(y_train, y_train_pred):.4f}')\n",
    "print(f'F1 test score  = : {metrics.f1_score(y_test, y_test_pred):.4f}')"
   ]
  },
  {
   "cell_type": "markdown",
   "metadata": {},
   "source": [
    "Задание 6.9\n",
    "1 point possible (graded)\n",
    "Перейдем к следующему алгоритму — градиентному бустингу.\n",
    "\n",
    "Будем настраивать количество деревьев и темп обучения, делая перебор по следующей сетке:\n",
    "\n",
    "params = {\"n_estimators\":2**np.arange(8), \"learning_rate\":0.1**np.arange(3)}\n",
    "Используйте для поиска оптимальных параметров GridSearchCV, а для ускорения работы алгоритма задайте параметр кросс-валидации, равный 3.\n",
    "\n",
    "Какое наибольшее значение метрики f1_score получилось? Ответ округлите до трёх знаков после точки-разделителя.\n",
    "\n",
    "Примечание. Необходимо указать лучший результат в методе GridSearchCV на тренировочных данных."
   ]
  },
  {
   "cell_type": "code",
   "execution_count": 61,
   "metadata": {},
   "outputs": [
    {
     "name": "stdout",
     "output_type": "stream",
     "text": [
      "CPU times: total: 33.9 s\n",
      "Wall time: 3min 22s\n",
      "F1 test data: 0.9506\n",
      "F1 train data: 0.9613\n",
      "Наилучшие значения гиперпараметров: {'learning_rate': 1.0, 'n_estimators': 128}\n"
     ]
    }
   ],
   "source": [
    "params = {\"n_estimators\":2**np.arange(8), \n",
    "          \"learning_rate\":0.1**np.arange(3)}\n",
    "\n",
    "grid_search = GridSearchCV(\n",
    "    estimator=ensemble.GradientBoostingClassifier(), \n",
    "    param_grid=params, \n",
    "    scoring='f1',\n",
    "    cv=3, \n",
    "    n_jobs = -1\n",
    ")  \n",
    "%time grid_search.fit(X_train, y_train) \n",
    "\n",
    "y_test_pred = grid_search.predict(X_test)\n",
    "y_train_pred = grid_search.predict(X_train)\n",
    "\n",
    "print(f'F1 test data: {metrics.f1_score(y_test, y_test_pred):.4f}')\n",
    "print(f'F1 train data: {metrics.f1_score(y_train, y_train_pred):.4f}')\n",
    "print(f\"Наилучшие значения гиперпараметров: {grid_search.best_params_}\")"
   ]
  },
  {
   "cell_type": "code",
   "execution_count": 62,
   "metadata": {},
   "outputs": [
    {
     "data": {
      "text/plain": [
       "0.9491404957574865"
      ]
     },
     "execution_count": 62,
     "metadata": {},
     "output_type": "execute_result"
    }
   ],
   "source": [
    "grid_search.best_score_"
   ]
  },
  {
   "cell_type": "markdown",
   "metadata": {},
   "source": [
    "Задание 6.10\n",
    "1 point possible (graded)\n",
    "Обучите алгоритм XGBoost. Так как он достаточно мощный «из коробки», определите его с параметрами по умолчанию, только задайте random_state = 26. Какое значение метрики f1_score получилось? Ответ округлите до трёх знаков после точки-разделителя.\n",
    "\n",
    "Подсказка. Для того чтобы обучить алгоритм XGBoost для решения задачи классификации, вам понадобится XGBClassifier из библиотеки xgboost, установленной ранее. Вся дальнейшая последовательность действий (обучение модели, предсказание, оценка качества) идентична другим алгоритмам, например логистической регрессии."
   ]
  },
  {
   "cell_type": "code",
   "execution_count": 63,
   "metadata": {},
   "outputs": [
    {
     "name": "stdout",
     "output_type": "stream",
     "text": [
      "F1 train score  = : 0.9761\n",
      "F1 test score  = : 0.9574\n"
     ]
    }
   ],
   "source": [
    "xg_b = xgboost.XGBClassifier(random_state=26)\n",
    "\n",
    "xg_b.fit(X_train, y_train)\n",
    "\n",
    "y_train_pred = xg_b.predict(X_train)\n",
    "y_test_pred = xg_b.predict(X_test)\n",
    "\n",
    "print(f'F1 train score  = : {metrics.f1_score(y_train, y_train_pred):.4f}')\n",
    "print(f'F1 test score  = : {metrics.f1_score(y_test, y_test_pred):.4f}')"
   ]
  },
  {
   "cell_type": "markdown",
   "metadata": {},
   "source": [
    "Задание 6.11\n",
    "1 point possible (graded)\n",
    "Обучите алгоритм CatBoost. Как и XGBoost, будем обучать его с настройками по умолчанию и заданным random_state = 26. Какое значение метрики f1_score получилось? Ответ округлите до трёх знаков после точки-разделителя.\n",
    "\n",
    "Подсказка. Для того чтобы обучить алгоритм CatBoost, вам понадобится CatBoostClassifier() из библиотеки catboost, установленной ранее. Вся дальнейшая последовательность действий (обучение модели, предсказание, оценка качества) идентична другим алгоритмам, например логистической регрессии."
   ]
  },
  {
   "cell_type": "code",
   "execution_count": 64,
   "metadata": {},
   "outputs": [
    {
     "name": "stdout",
     "output_type": "stream",
     "text": [
      "Learning rate set to 0.068023\n",
      "0:\tlearn: 0.6018089\ttotal: 227ms\tremaining: 3m 47s\n",
      "1:\tlearn: 0.5020769\ttotal: 273ms\tremaining: 2m 16s\n",
      "2:\tlearn: 0.4472481\ttotal: 304ms\tremaining: 1m 40s\n",
      "3:\tlearn: 0.4028675\ttotal: 338ms\tremaining: 1m 24s\n",
      "4:\tlearn: 0.3674724\ttotal: 373ms\tremaining: 1m 14s\n",
      "5:\tlearn: 0.3397844\ttotal: 407ms\tremaining: 1m 7s\n",
      "6:\tlearn: 0.3121211\ttotal: 438ms\tremaining: 1m 2s\n",
      "7:\tlearn: 0.2917499\ttotal: 469ms\tremaining: 58.2s\n",
      "8:\tlearn: 0.2749039\ttotal: 501ms\tremaining: 55.2s\n",
      "9:\tlearn: 0.2575191\ttotal: 532ms\tremaining: 52.6s\n",
      "10:\tlearn: 0.2473690\ttotal: 563ms\tremaining: 50.6s\n",
      "11:\tlearn: 0.2377531\ttotal: 594ms\tremaining: 48.9s\n",
      "12:\tlearn: 0.2279309\ttotal: 624ms\tremaining: 47.4s\n",
      "13:\tlearn: 0.2212512\ttotal: 659ms\tremaining: 46.4s\n",
      "14:\tlearn: 0.2100359\ttotal: 694ms\tremaining: 45.5s\n",
      "15:\tlearn: 0.2025733\ttotal: 726ms\tremaining: 44.7s\n",
      "16:\tlearn: 0.1942303\ttotal: 758ms\tremaining: 43.8s\n",
      "17:\tlearn: 0.1877939\ttotal: 792ms\tremaining: 43.2s\n",
      "18:\tlearn: 0.1832381\ttotal: 824ms\tremaining: 42.6s\n",
      "19:\tlearn: 0.1797364\ttotal: 855ms\tremaining: 41.9s\n",
      "20:\tlearn: 0.1766271\ttotal: 887ms\tremaining: 41.4s\n",
      "21:\tlearn: 0.1724834\ttotal: 918ms\tremaining: 40.8s\n",
      "22:\tlearn: 0.1681076\ttotal: 947ms\tremaining: 40.2s\n",
      "23:\tlearn: 0.1659676\ttotal: 976ms\tremaining: 39.7s\n",
      "24:\tlearn: 0.1636305\ttotal: 1s\tremaining: 39.2s\n",
      "25:\tlearn: 0.1615296\ttotal: 1.03s\tremaining: 38.8s\n",
      "26:\tlearn: 0.1591234\ttotal: 1.06s\tremaining: 38.3s\n",
      "27:\tlearn: 0.1572189\ttotal: 1.09s\tremaining: 37.9s\n",
      "28:\tlearn: 0.1557160\ttotal: 1.12s\tremaining: 37.6s\n",
      "29:\tlearn: 0.1541993\ttotal: 1.15s\tremaining: 37.3s\n",
      "30:\tlearn: 0.1527118\ttotal: 1.18s\tremaining: 37s\n",
      "31:\tlearn: 0.1511750\ttotal: 1.22s\tremaining: 36.8s\n",
      "32:\tlearn: 0.1495155\ttotal: 1.24s\tremaining: 36.5s\n",
      "33:\tlearn: 0.1482199\ttotal: 1.28s\tremaining: 36.3s\n",
      "34:\tlearn: 0.1447921\ttotal: 1.3s\tremaining: 36s\n",
      "35:\tlearn: 0.1437619\ttotal: 1.33s\tremaining: 35.7s\n",
      "36:\tlearn: 0.1428307\ttotal: 1.37s\tremaining: 35.6s\n",
      "37:\tlearn: 0.1418335\ttotal: 1.4s\tremaining: 35.4s\n",
      "38:\tlearn: 0.1405886\ttotal: 1.43s\tremaining: 35.2s\n",
      "39:\tlearn: 0.1393059\ttotal: 1.46s\tremaining: 35s\n",
      "40:\tlearn: 0.1385384\ttotal: 1.49s\tremaining: 34.8s\n",
      "41:\tlearn: 0.1375509\ttotal: 1.51s\tremaining: 34.5s\n",
      "42:\tlearn: 0.1359836\ttotal: 1.54s\tremaining: 34.4s\n",
      "43:\tlearn: 0.1347066\ttotal: 1.57s\tremaining: 34.2s\n",
      "44:\tlearn: 0.1327072\ttotal: 1.6s\tremaining: 34.1s\n",
      "45:\tlearn: 0.1316580\ttotal: 1.68s\tremaining: 34.7s\n",
      "46:\tlearn: 0.1304422\ttotal: 1.71s\tremaining: 34.6s\n",
      "47:\tlearn: 0.1299835\ttotal: 1.74s\tremaining: 34.5s\n",
      "48:\tlearn: 0.1295421\ttotal: 1.76s\tremaining: 34.3s\n",
      "49:\tlearn: 0.1290791\ttotal: 1.79s\tremaining: 34.1s\n",
      "50:\tlearn: 0.1285284\ttotal: 1.83s\tremaining: 34s\n",
      "51:\tlearn: 0.1280241\ttotal: 1.86s\tremaining: 33.9s\n",
      "52:\tlearn: 0.1272418\ttotal: 1.89s\tremaining: 33.7s\n",
      "53:\tlearn: 0.1265525\ttotal: 1.92s\tremaining: 33.6s\n",
      "54:\tlearn: 0.1258799\ttotal: 1.95s\tremaining: 33.5s\n",
      "55:\tlearn: 0.1248607\ttotal: 1.98s\tremaining: 33.5s\n",
      "56:\tlearn: 0.1242196\ttotal: 2.02s\tremaining: 33.5s\n",
      "57:\tlearn: 0.1240465\ttotal: 2.05s\tremaining: 33.4s\n",
      "58:\tlearn: 0.1227505\ttotal: 2.09s\tremaining: 33.3s\n",
      "59:\tlearn: 0.1219311\ttotal: 2.12s\tremaining: 33.2s\n",
      "60:\tlearn: 0.1214669\ttotal: 2.15s\tremaining: 33s\n",
      "61:\tlearn: 0.1209629\ttotal: 2.17s\tremaining: 32.9s\n",
      "62:\tlearn: 0.1204270\ttotal: 2.2s\tremaining: 32.8s\n",
      "63:\tlearn: 0.1197952\ttotal: 2.23s\tremaining: 32.7s\n",
      "64:\tlearn: 0.1188689\ttotal: 2.26s\tremaining: 32.5s\n",
      "65:\tlearn: 0.1179641\ttotal: 2.29s\tremaining: 32.4s\n",
      "66:\tlearn: 0.1175382\ttotal: 2.32s\tremaining: 32.3s\n",
      "67:\tlearn: 0.1170936\ttotal: 2.35s\tremaining: 32.2s\n",
      "68:\tlearn: 0.1167482\ttotal: 2.38s\tremaining: 32.1s\n",
      "69:\tlearn: 0.1164256\ttotal: 2.41s\tremaining: 32s\n",
      "70:\tlearn: 0.1161023\ttotal: 2.44s\tremaining: 31.9s\n",
      "71:\tlearn: 0.1154266\ttotal: 2.47s\tremaining: 31.9s\n",
      "72:\tlearn: 0.1143862\ttotal: 2.5s\tremaining: 31.8s\n",
      "73:\tlearn: 0.1141025\ttotal: 2.54s\tremaining: 31.7s\n",
      "74:\tlearn: 0.1138526\ttotal: 2.57s\tremaining: 31.7s\n",
      "75:\tlearn: 0.1134943\ttotal: 2.59s\tremaining: 31.5s\n",
      "76:\tlearn: 0.1132630\ttotal: 2.62s\tremaining: 31.5s\n",
      "77:\tlearn: 0.1129337\ttotal: 2.65s\tremaining: 31.4s\n",
      "78:\tlearn: 0.1123692\ttotal: 2.68s\tremaining: 31.3s\n",
      "79:\tlearn: 0.1120446\ttotal: 2.71s\tremaining: 31.2s\n",
      "80:\tlearn: 0.1117098\ttotal: 2.74s\tremaining: 31.1s\n",
      "81:\tlearn: 0.1108359\ttotal: 2.77s\tremaining: 31s\n",
      "82:\tlearn: 0.1102779\ttotal: 2.8s\tremaining: 30.9s\n",
      "83:\tlearn: 0.1099572\ttotal: 2.83s\tremaining: 30.8s\n",
      "84:\tlearn: 0.1098577\ttotal: 2.86s\tremaining: 30.8s\n",
      "85:\tlearn: 0.1092686\ttotal: 2.89s\tremaining: 30.7s\n",
      "86:\tlearn: 0.1090128\ttotal: 2.92s\tremaining: 30.7s\n",
      "87:\tlearn: 0.1087985\ttotal: 2.95s\tremaining: 30.6s\n",
      "88:\tlearn: 0.1081520\ttotal: 2.98s\tremaining: 30.5s\n",
      "89:\tlearn: 0.1079692\ttotal: 3.01s\tremaining: 30.4s\n",
      "90:\tlearn: 0.1077513\ttotal: 3.04s\tremaining: 30.4s\n",
      "91:\tlearn: 0.1075283\ttotal: 3.07s\tremaining: 30.3s\n",
      "92:\tlearn: 0.1071405\ttotal: 3.1s\tremaining: 30.2s\n",
      "93:\tlearn: 0.1070247\ttotal: 3.13s\tremaining: 30.1s\n",
      "94:\tlearn: 0.1068192\ttotal: 3.16s\tremaining: 30.1s\n",
      "95:\tlearn: 0.1064461\ttotal: 3.21s\tremaining: 30.2s\n",
      "96:\tlearn: 0.1059301\ttotal: 3.25s\tremaining: 30.2s\n",
      "97:\tlearn: 0.1056716\ttotal: 3.28s\tremaining: 30.2s\n",
      "98:\tlearn: 0.1054190\ttotal: 3.31s\tremaining: 30.1s\n",
      "99:\tlearn: 0.1051352\ttotal: 3.34s\tremaining: 30s\n",
      "100:\tlearn: 0.1047668\ttotal: 3.37s\tremaining: 30s\n",
      "101:\tlearn: 0.1044767\ttotal: 3.4s\tremaining: 29.9s\n",
      "102:\tlearn: 0.1041726\ttotal: 3.42s\tremaining: 29.8s\n",
      "103:\tlearn: 0.1039212\ttotal: 3.46s\tremaining: 29.8s\n",
      "104:\tlearn: 0.1034243\ttotal: 3.49s\tremaining: 29.7s\n",
      "105:\tlearn: 0.1032076\ttotal: 3.52s\tremaining: 29.7s\n",
      "106:\tlearn: 0.1030340\ttotal: 3.54s\tremaining: 29.6s\n",
      "107:\tlearn: 0.1025610\ttotal: 3.57s\tremaining: 29.5s\n",
      "108:\tlearn: 0.1022940\ttotal: 3.6s\tremaining: 29.4s\n",
      "109:\tlearn: 0.1021190\ttotal: 3.63s\tremaining: 29.4s\n",
      "110:\tlearn: 0.1017958\ttotal: 3.66s\tremaining: 29.3s\n",
      "111:\tlearn: 0.1015856\ttotal: 3.69s\tremaining: 29.2s\n",
      "112:\tlearn: 0.1011751\ttotal: 3.72s\tremaining: 29.2s\n",
      "113:\tlearn: 0.1008759\ttotal: 3.75s\tremaining: 29.1s\n",
      "114:\tlearn: 0.1006959\ttotal: 3.77s\tremaining: 29.1s\n",
      "115:\tlearn: 0.1005649\ttotal: 3.81s\tremaining: 29s\n",
      "116:\tlearn: 0.1003042\ttotal: 3.83s\tremaining: 28.9s\n",
      "117:\tlearn: 0.1000930\ttotal: 3.87s\tremaining: 28.9s\n",
      "118:\tlearn: 0.0999173\ttotal: 3.9s\tremaining: 28.8s\n",
      "119:\tlearn: 0.0995889\ttotal: 3.93s\tremaining: 28.8s\n",
      "120:\tlearn: 0.0992166\ttotal: 3.96s\tremaining: 28.8s\n",
      "121:\tlearn: 0.0991356\ttotal: 3.99s\tremaining: 28.7s\n",
      "122:\tlearn: 0.0990490\ttotal: 4.02s\tremaining: 28.7s\n",
      "123:\tlearn: 0.0988977\ttotal: 4.05s\tremaining: 28.6s\n",
      "124:\tlearn: 0.0987813\ttotal: 4.08s\tremaining: 28.6s\n",
      "125:\tlearn: 0.0982176\ttotal: 4.11s\tremaining: 28.5s\n",
      "126:\tlearn: 0.0979958\ttotal: 4.14s\tremaining: 28.4s\n",
      "127:\tlearn: 0.0975458\ttotal: 4.17s\tremaining: 28.4s\n",
      "128:\tlearn: 0.0973966\ttotal: 4.2s\tremaining: 28.4s\n",
      "129:\tlearn: 0.0971498\ttotal: 4.23s\tremaining: 28.3s\n",
      "130:\tlearn: 0.0969599\ttotal: 4.26s\tremaining: 28.3s\n",
      "131:\tlearn: 0.0968171\ttotal: 4.29s\tremaining: 28.2s\n",
      "132:\tlearn: 0.0966654\ttotal: 4.32s\tremaining: 28.2s\n",
      "133:\tlearn: 0.0965935\ttotal: 4.35s\tremaining: 28.1s\n",
      "134:\tlearn: 0.0965290\ttotal: 4.39s\tremaining: 28.1s\n",
      "135:\tlearn: 0.0963292\ttotal: 4.42s\tremaining: 28.1s\n",
      "136:\tlearn: 0.0962325\ttotal: 4.46s\tremaining: 28.1s\n",
      "137:\tlearn: 0.0960270\ttotal: 4.49s\tremaining: 28s\n",
      "138:\tlearn: 0.0957716\ttotal: 4.53s\tremaining: 28s\n",
      "139:\tlearn: 0.0956518\ttotal: 4.56s\tremaining: 28s\n",
      "140:\tlearn: 0.0954566\ttotal: 4.59s\tremaining: 28s\n",
      "141:\tlearn: 0.0952810\ttotal: 4.62s\tremaining: 27.9s\n",
      "142:\tlearn: 0.0951754\ttotal: 4.65s\tremaining: 27.9s\n",
      "143:\tlearn: 0.0950736\ttotal: 4.75s\tremaining: 28.2s\n",
      "144:\tlearn: 0.0948308\ttotal: 4.79s\tremaining: 28.3s\n",
      "145:\tlearn: 0.0947879\ttotal: 4.83s\tremaining: 28.2s\n",
      "146:\tlearn: 0.0942155\ttotal: 4.86s\tremaining: 28.2s\n",
      "147:\tlearn: 0.0940961\ttotal: 4.9s\tremaining: 28.2s\n",
      "148:\tlearn: 0.0939182\ttotal: 4.93s\tremaining: 28.2s\n",
      "149:\tlearn: 0.0937727\ttotal: 4.96s\tremaining: 28.1s\n",
      "150:\tlearn: 0.0935927\ttotal: 4.99s\tremaining: 28.1s\n",
      "151:\tlearn: 0.0935436\ttotal: 5.02s\tremaining: 28s\n",
      "152:\tlearn: 0.0931701\ttotal: 5.05s\tremaining: 28s\n",
      "153:\tlearn: 0.0929398\ttotal: 5.08s\tremaining: 27.9s\n",
      "154:\tlearn: 0.0928262\ttotal: 5.11s\tremaining: 27.8s\n",
      "155:\tlearn: 0.0926361\ttotal: 5.14s\tremaining: 27.8s\n",
      "156:\tlearn: 0.0923513\ttotal: 5.17s\tremaining: 27.7s\n",
      "157:\tlearn: 0.0922529\ttotal: 5.2s\tremaining: 27.7s\n",
      "158:\tlearn: 0.0921441\ttotal: 5.22s\tremaining: 27.6s\n",
      "159:\tlearn: 0.0920108\ttotal: 5.25s\tremaining: 27.6s\n",
      "160:\tlearn: 0.0918072\ttotal: 5.28s\tremaining: 27.5s\n",
      "161:\tlearn: 0.0917629\ttotal: 5.31s\tremaining: 27.5s\n",
      "162:\tlearn: 0.0916563\ttotal: 5.34s\tremaining: 27.4s\n",
      "163:\tlearn: 0.0915352\ttotal: 5.37s\tremaining: 27.4s\n",
      "164:\tlearn: 0.0913331\ttotal: 5.41s\tremaining: 27.4s\n",
      "165:\tlearn: 0.0911234\ttotal: 5.44s\tremaining: 27.4s\n",
      "166:\tlearn: 0.0909359\ttotal: 5.48s\tremaining: 27.3s\n",
      "167:\tlearn: 0.0907373\ttotal: 5.51s\tremaining: 27.3s\n",
      "168:\tlearn: 0.0905480\ttotal: 5.54s\tremaining: 27.2s\n",
      "169:\tlearn: 0.0903470\ttotal: 5.57s\tremaining: 27.2s\n",
      "170:\tlearn: 0.0903090\ttotal: 5.6s\tremaining: 27.1s\n",
      "171:\tlearn: 0.0901972\ttotal: 5.63s\tremaining: 27.1s\n",
      "172:\tlearn: 0.0900302\ttotal: 5.66s\tremaining: 27.1s\n",
      "173:\tlearn: 0.0898935\ttotal: 5.69s\tremaining: 27s\n",
      "174:\tlearn: 0.0897223\ttotal: 5.72s\tremaining: 27s\n",
      "175:\tlearn: 0.0896837\ttotal: 5.75s\tremaining: 26.9s\n",
      "176:\tlearn: 0.0892261\ttotal: 5.78s\tremaining: 26.9s\n",
      "177:\tlearn: 0.0890884\ttotal: 5.81s\tremaining: 26.8s\n",
      "178:\tlearn: 0.0889683\ttotal: 5.84s\tremaining: 26.8s\n",
      "179:\tlearn: 0.0888734\ttotal: 5.87s\tremaining: 26.7s\n",
      "180:\tlearn: 0.0887797\ttotal: 5.9s\tremaining: 26.7s\n",
      "181:\tlearn: 0.0886890\ttotal: 5.93s\tremaining: 26.7s\n",
      "182:\tlearn: 0.0886168\ttotal: 5.97s\tremaining: 26.6s\n",
      "183:\tlearn: 0.0885335\ttotal: 6s\tremaining: 26.6s\n",
      "184:\tlearn: 0.0884627\ttotal: 6.03s\tremaining: 26.5s\n",
      "185:\tlearn: 0.0883685\ttotal: 6.05s\tremaining: 26.5s\n",
      "186:\tlearn: 0.0882691\ttotal: 6.08s\tremaining: 26.5s\n",
      "187:\tlearn: 0.0880897\ttotal: 6.12s\tremaining: 26.4s\n",
      "188:\tlearn: 0.0880303\ttotal: 6.15s\tremaining: 26.4s\n",
      "189:\tlearn: 0.0879232\ttotal: 6.17s\tremaining: 26.3s\n",
      "190:\tlearn: 0.0876440\ttotal: 6.21s\tremaining: 26.3s\n",
      "191:\tlearn: 0.0875253\ttotal: 6.23s\tremaining: 26.2s\n",
      "192:\tlearn: 0.0874791\ttotal: 6.26s\tremaining: 26.2s\n",
      "193:\tlearn: 0.0872907\ttotal: 6.29s\tremaining: 26.1s\n",
      "194:\tlearn: 0.0872521\ttotal: 6.32s\tremaining: 26.1s\n",
      "195:\tlearn: 0.0870327\ttotal: 6.35s\tremaining: 26s\n",
      "196:\tlearn: 0.0868900\ttotal: 6.38s\tremaining: 26s\n",
      "197:\tlearn: 0.0868130\ttotal: 6.41s\tremaining: 25.9s\n",
      "198:\tlearn: 0.0867343\ttotal: 6.43s\tremaining: 25.9s\n",
      "199:\tlearn: 0.0866017\ttotal: 6.46s\tremaining: 25.9s\n",
      "200:\tlearn: 0.0865260\ttotal: 6.49s\tremaining: 25.8s\n",
      "201:\tlearn: 0.0864278\ttotal: 6.52s\tremaining: 25.8s\n",
      "202:\tlearn: 0.0863128\ttotal: 6.55s\tremaining: 25.7s\n",
      "203:\tlearn: 0.0862005\ttotal: 6.59s\tremaining: 25.7s\n",
      "204:\tlearn: 0.0861285\ttotal: 6.61s\tremaining: 25.6s\n",
      "205:\tlearn: 0.0860501\ttotal: 6.64s\tremaining: 25.6s\n",
      "206:\tlearn: 0.0858724\ttotal: 6.67s\tremaining: 25.5s\n",
      "207:\tlearn: 0.0857588\ttotal: 6.7s\tremaining: 25.5s\n",
      "208:\tlearn: 0.0856918\ttotal: 6.72s\tremaining: 25.4s\n",
      "209:\tlearn: 0.0855529\ttotal: 6.75s\tremaining: 25.4s\n",
      "210:\tlearn: 0.0854904\ttotal: 6.78s\tremaining: 25.4s\n",
      "211:\tlearn: 0.0854200\ttotal: 6.81s\tremaining: 25.3s\n",
      "212:\tlearn: 0.0853753\ttotal: 6.84s\tremaining: 25.3s\n",
      "213:\tlearn: 0.0853244\ttotal: 6.87s\tremaining: 25.3s\n",
      "214:\tlearn: 0.0852699\ttotal: 6.91s\tremaining: 25.2s\n",
      "215:\tlearn: 0.0852531\ttotal: 6.94s\tremaining: 25.2s\n",
      "216:\tlearn: 0.0852272\ttotal: 6.97s\tremaining: 25.1s\n",
      "217:\tlearn: 0.0851339\ttotal: 7s\tremaining: 25.1s\n",
      "218:\tlearn: 0.0850793\ttotal: 7.03s\tremaining: 25.1s\n",
      "219:\tlearn: 0.0850413\ttotal: 7.05s\tremaining: 25s\n",
      "220:\tlearn: 0.0849352\ttotal: 7.08s\tremaining: 25s\n",
      "221:\tlearn: 0.0848262\ttotal: 7.11s\tremaining: 24.9s\n",
      "222:\tlearn: 0.0846502\ttotal: 7.14s\tremaining: 24.9s\n",
      "223:\tlearn: 0.0846197\ttotal: 7.17s\tremaining: 24.8s\n",
      "224:\tlearn: 0.0843216\ttotal: 7.2s\tremaining: 24.8s\n",
      "225:\tlearn: 0.0841928\ttotal: 7.22s\tremaining: 24.7s\n",
      "226:\tlearn: 0.0841318\ttotal: 7.25s\tremaining: 24.7s\n",
      "227:\tlearn: 0.0840858\ttotal: 7.28s\tremaining: 24.7s\n",
      "228:\tlearn: 0.0839087\ttotal: 7.31s\tremaining: 24.6s\n",
      "229:\tlearn: 0.0838526\ttotal: 7.34s\tremaining: 24.6s\n",
      "230:\tlearn: 0.0837752\ttotal: 7.37s\tremaining: 24.5s\n",
      "231:\tlearn: 0.0836685\ttotal: 7.4s\tremaining: 24.5s\n",
      "232:\tlearn: 0.0836083\ttotal: 7.43s\tremaining: 24.5s\n",
      "233:\tlearn: 0.0835118\ttotal: 7.46s\tremaining: 24.4s\n",
      "234:\tlearn: 0.0834419\ttotal: 7.49s\tremaining: 24.4s\n",
      "235:\tlearn: 0.0833728\ttotal: 7.51s\tremaining: 24.3s\n",
      "236:\tlearn: 0.0832125\ttotal: 7.54s\tremaining: 24.3s\n",
      "237:\tlearn: 0.0831310\ttotal: 7.57s\tremaining: 24.2s\n",
      "238:\tlearn: 0.0830954\ttotal: 7.6s\tremaining: 24.2s\n",
      "239:\tlearn: 0.0830330\ttotal: 7.63s\tremaining: 24.1s\n",
      "240:\tlearn: 0.0829694\ttotal: 7.65s\tremaining: 24.1s\n",
      "241:\tlearn: 0.0829021\ttotal: 7.68s\tremaining: 24.1s\n",
      "242:\tlearn: 0.0828268\ttotal: 7.71s\tremaining: 24s\n",
      "243:\tlearn: 0.0827828\ttotal: 7.74s\tremaining: 24s\n",
      "244:\tlearn: 0.0827387\ttotal: 7.77s\tremaining: 23.9s\n",
      "245:\tlearn: 0.0826597\ttotal: 7.8s\tremaining: 23.9s\n",
      "246:\tlearn: 0.0825863\ttotal: 7.83s\tremaining: 23.9s\n",
      "247:\tlearn: 0.0825107\ttotal: 7.86s\tremaining: 23.8s\n",
      "248:\tlearn: 0.0824741\ttotal: 7.89s\tremaining: 23.8s\n",
      "249:\tlearn: 0.0824306\ttotal: 7.92s\tremaining: 23.8s\n",
      "250:\tlearn: 0.0824052\ttotal: 7.95s\tremaining: 23.7s\n",
      "251:\tlearn: 0.0823486\ttotal: 7.98s\tremaining: 23.7s\n",
      "252:\tlearn: 0.0822370\ttotal: 8.01s\tremaining: 23.6s\n",
      "253:\tlearn: 0.0821948\ttotal: 8.04s\tremaining: 23.6s\n",
      "254:\tlearn: 0.0821169\ttotal: 8.07s\tremaining: 23.6s\n",
      "255:\tlearn: 0.0820326\ttotal: 8.1s\tremaining: 23.5s\n",
      "256:\tlearn: 0.0819758\ttotal: 8.13s\tremaining: 23.5s\n",
      "257:\tlearn: 0.0818549\ttotal: 8.16s\tremaining: 23.5s\n",
      "258:\tlearn: 0.0817909\ttotal: 8.19s\tremaining: 23.4s\n",
      "259:\tlearn: 0.0817125\ttotal: 8.21s\tremaining: 23.4s\n",
      "260:\tlearn: 0.0816450\ttotal: 8.24s\tremaining: 23.3s\n",
      "261:\tlearn: 0.0815432\ttotal: 8.27s\tremaining: 23.3s\n",
      "262:\tlearn: 0.0814952\ttotal: 8.3s\tremaining: 23.3s\n",
      "263:\tlearn: 0.0814396\ttotal: 8.33s\tremaining: 23.2s\n",
      "264:\tlearn: 0.0814124\ttotal: 8.36s\tremaining: 23.2s\n",
      "265:\tlearn: 0.0814046\ttotal: 8.39s\tremaining: 23.1s\n",
      "266:\tlearn: 0.0812999\ttotal: 8.42s\tremaining: 23.1s\n",
      "267:\tlearn: 0.0812328\ttotal: 8.45s\tremaining: 23.1s\n",
      "268:\tlearn: 0.0812006\ttotal: 8.48s\tremaining: 23s\n",
      "269:\tlearn: 0.0810944\ttotal: 8.51s\tremaining: 23s\n",
      "270:\tlearn: 0.0810518\ttotal: 8.53s\tremaining: 23s\n",
      "271:\tlearn: 0.0809828\ttotal: 8.57s\tremaining: 22.9s\n",
      "272:\tlearn: 0.0809609\ttotal: 8.59s\tremaining: 22.9s\n",
      "273:\tlearn: 0.0808535\ttotal: 8.62s\tremaining: 22.8s\n",
      "274:\tlearn: 0.0807957\ttotal: 8.65s\tremaining: 22.8s\n",
      "275:\tlearn: 0.0807570\ttotal: 8.68s\tremaining: 22.8s\n",
      "276:\tlearn: 0.0806411\ttotal: 8.71s\tremaining: 22.7s\n",
      "277:\tlearn: 0.0805663\ttotal: 8.74s\tremaining: 22.7s\n",
      "278:\tlearn: 0.0804394\ttotal: 8.77s\tremaining: 22.7s\n",
      "279:\tlearn: 0.0803810\ttotal: 8.8s\tremaining: 22.6s\n",
      "280:\tlearn: 0.0802957\ttotal: 8.83s\tremaining: 22.6s\n",
      "281:\tlearn: 0.0802669\ttotal: 8.86s\tremaining: 22.6s\n",
      "282:\tlearn: 0.0802461\ttotal: 8.88s\tremaining: 22.5s\n",
      "283:\tlearn: 0.0801863\ttotal: 8.91s\tremaining: 22.5s\n",
      "284:\tlearn: 0.0801505\ttotal: 8.94s\tremaining: 22.4s\n",
      "285:\tlearn: 0.0801227\ttotal: 8.97s\tremaining: 22.4s\n",
      "286:\tlearn: 0.0801064\ttotal: 9s\tremaining: 22.4s\n",
      "287:\tlearn: 0.0800772\ttotal: 9.03s\tremaining: 22.3s\n",
      "288:\tlearn: 0.0799060\ttotal: 9.05s\tremaining: 22.3s\n",
      "289:\tlearn: 0.0797596\ttotal: 9.08s\tremaining: 22.2s\n",
      "290:\tlearn: 0.0797414\ttotal: 9.11s\tremaining: 22.2s\n",
      "291:\tlearn: 0.0797116\ttotal: 9.13s\tremaining: 22.1s\n",
      "292:\tlearn: 0.0796778\ttotal: 9.16s\tremaining: 22.1s\n",
      "293:\tlearn: 0.0796389\ttotal: 9.19s\tremaining: 22.1s\n",
      "294:\tlearn: 0.0795363\ttotal: 9.22s\tremaining: 22s\n",
      "295:\tlearn: 0.0794907\ttotal: 9.25s\tremaining: 22s\n",
      "296:\tlearn: 0.0794598\ttotal: 9.29s\tremaining: 22s\n",
      "297:\tlearn: 0.0793929\ttotal: 9.32s\tremaining: 22s\n",
      "298:\tlearn: 0.0793129\ttotal: 9.35s\tremaining: 21.9s\n",
      "299:\tlearn: 0.0792352\ttotal: 9.38s\tremaining: 21.9s\n",
      "300:\tlearn: 0.0790518\ttotal: 9.41s\tremaining: 21.8s\n",
      "301:\tlearn: 0.0789589\ttotal: 9.44s\tremaining: 21.8s\n",
      "302:\tlearn: 0.0788836\ttotal: 9.47s\tremaining: 21.8s\n",
      "303:\tlearn: 0.0788376\ttotal: 9.5s\tremaining: 21.7s\n",
      "304:\tlearn: 0.0787730\ttotal: 9.53s\tremaining: 21.7s\n",
      "305:\tlearn: 0.0787222\ttotal: 9.55s\tremaining: 21.7s\n",
      "306:\tlearn: 0.0786856\ttotal: 9.59s\tremaining: 21.6s\n",
      "307:\tlearn: 0.0786316\ttotal: 9.62s\tremaining: 21.6s\n",
      "308:\tlearn: 0.0785581\ttotal: 9.65s\tremaining: 21.6s\n",
      "309:\tlearn: 0.0785204\ttotal: 9.68s\tremaining: 21.5s\n",
      "310:\tlearn: 0.0784843\ttotal: 9.71s\tremaining: 21.5s\n",
      "311:\tlearn: 0.0784497\ttotal: 9.73s\tremaining: 21.5s\n",
      "312:\tlearn: 0.0784329\ttotal: 9.77s\tremaining: 21.4s\n",
      "313:\tlearn: 0.0783942\ttotal: 9.79s\tremaining: 21.4s\n",
      "314:\tlearn: 0.0783722\ttotal: 9.82s\tremaining: 21.4s\n",
      "315:\tlearn: 0.0782869\ttotal: 9.85s\tremaining: 21.3s\n",
      "316:\tlearn: 0.0782372\ttotal: 9.88s\tremaining: 21.3s\n",
      "317:\tlearn: 0.0782102\ttotal: 9.91s\tremaining: 21.3s\n",
      "318:\tlearn: 0.0781663\ttotal: 9.94s\tremaining: 21.2s\n",
      "319:\tlearn: 0.0781421\ttotal: 9.97s\tremaining: 21.2s\n",
      "320:\tlearn: 0.0781030\ttotal: 10s\tremaining: 21.2s\n",
      "321:\tlearn: 0.0780621\ttotal: 10s\tremaining: 21.1s\n",
      "322:\tlearn: 0.0779984\ttotal: 10.1s\tremaining: 21.1s\n",
      "323:\tlearn: 0.0779709\ttotal: 10.1s\tremaining: 21s\n",
      "324:\tlearn: 0.0778795\ttotal: 10.1s\tremaining: 21s\n",
      "325:\tlearn: 0.0777916\ttotal: 10.1s\tremaining: 21s\n",
      "326:\tlearn: 0.0777346\ttotal: 10.2s\tremaining: 20.9s\n",
      "327:\tlearn: 0.0776857\ttotal: 10.2s\tremaining: 20.9s\n",
      "328:\tlearn: 0.0776199\ttotal: 10.2s\tremaining: 20.9s\n",
      "329:\tlearn: 0.0775604\ttotal: 10.3s\tremaining: 20.8s\n",
      "330:\tlearn: 0.0774901\ttotal: 10.3s\tremaining: 20.8s\n",
      "331:\tlearn: 0.0774522\ttotal: 10.3s\tremaining: 20.7s\n",
      "332:\tlearn: 0.0774075\ttotal: 10.3s\tremaining: 20.7s\n",
      "333:\tlearn: 0.0773755\ttotal: 10.4s\tremaining: 20.7s\n",
      "334:\tlearn: 0.0773002\ttotal: 10.4s\tremaining: 20.6s\n",
      "335:\tlearn: 0.0772729\ttotal: 10.4s\tremaining: 20.6s\n",
      "336:\tlearn: 0.0771826\ttotal: 10.4s\tremaining: 20.6s\n",
      "337:\tlearn: 0.0770572\ttotal: 10.5s\tremaining: 20.5s\n",
      "338:\tlearn: 0.0769374\ttotal: 10.5s\tremaining: 20.5s\n",
      "339:\tlearn: 0.0768570\ttotal: 10.5s\tremaining: 20.4s\n",
      "340:\tlearn: 0.0767573\ttotal: 10.6s\tremaining: 20.4s\n",
      "341:\tlearn: 0.0766922\ttotal: 10.6s\tremaining: 20.4s\n",
      "342:\tlearn: 0.0765942\ttotal: 10.6s\tremaining: 20.3s\n",
      "343:\tlearn: 0.0765617\ttotal: 10.6s\tremaining: 20.3s\n",
      "344:\tlearn: 0.0765474\ttotal: 10.7s\tremaining: 20.3s\n",
      "345:\tlearn: 0.0765119\ttotal: 10.7s\tremaining: 20.2s\n",
      "346:\tlearn: 0.0764884\ttotal: 10.7s\tremaining: 20.2s\n",
      "347:\tlearn: 0.0764502\ttotal: 10.8s\tremaining: 20.1s\n",
      "348:\tlearn: 0.0764071\ttotal: 10.8s\tremaining: 20.1s\n",
      "349:\tlearn: 0.0763573\ttotal: 10.8s\tremaining: 20.1s\n",
      "350:\tlearn: 0.0763169\ttotal: 10.8s\tremaining: 20s\n",
      "351:\tlearn: 0.0762890\ttotal: 10.9s\tremaining: 20s\n",
      "352:\tlearn: 0.0761801\ttotal: 10.9s\tremaining: 20s\n",
      "353:\tlearn: 0.0761180\ttotal: 10.9s\tremaining: 19.9s\n",
      "354:\tlearn: 0.0761164\ttotal: 11s\tremaining: 19.9s\n",
      "355:\tlearn: 0.0760402\ttotal: 11s\tremaining: 19.9s\n",
      "356:\tlearn: 0.0760137\ttotal: 11s\tremaining: 19.8s\n",
      "357:\tlearn: 0.0759866\ttotal: 11s\tremaining: 19.8s\n",
      "358:\tlearn: 0.0759568\ttotal: 11.1s\tremaining: 19.8s\n",
      "359:\tlearn: 0.0758941\ttotal: 11.1s\tremaining: 19.7s\n",
      "360:\tlearn: 0.0758551\ttotal: 11.1s\tremaining: 19.7s\n",
      "361:\tlearn: 0.0758037\ttotal: 11.2s\tremaining: 19.7s\n",
      "362:\tlearn: 0.0757446\ttotal: 11.2s\tremaining: 19.6s\n",
      "363:\tlearn: 0.0757073\ttotal: 11.2s\tremaining: 19.6s\n",
      "364:\tlearn: 0.0756662\ttotal: 11.2s\tremaining: 19.6s\n",
      "365:\tlearn: 0.0756248\ttotal: 11.3s\tremaining: 19.5s\n",
      "366:\tlearn: 0.0755769\ttotal: 11.3s\tremaining: 19.5s\n",
      "367:\tlearn: 0.0755215\ttotal: 11.3s\tremaining: 19.5s\n",
      "368:\tlearn: 0.0754488\ttotal: 11.4s\tremaining: 19.4s\n",
      "369:\tlearn: 0.0754109\ttotal: 11.4s\tremaining: 19.4s\n",
      "370:\tlearn: 0.0753724\ttotal: 11.4s\tremaining: 19.4s\n",
      "371:\tlearn: 0.0753150\ttotal: 11.5s\tremaining: 19.3s\n",
      "372:\tlearn: 0.0752672\ttotal: 11.5s\tremaining: 19.3s\n",
      "373:\tlearn: 0.0751864\ttotal: 11.5s\tremaining: 19.3s\n",
      "374:\tlearn: 0.0751494\ttotal: 11.5s\tremaining: 19.2s\n",
      "375:\tlearn: 0.0751094\ttotal: 11.6s\tremaining: 19.2s\n",
      "376:\tlearn: 0.0750542\ttotal: 11.6s\tremaining: 19.2s\n",
      "377:\tlearn: 0.0750267\ttotal: 11.6s\tremaining: 19.1s\n",
      "378:\tlearn: 0.0749981\ttotal: 11.6s\tremaining: 19.1s\n",
      "379:\tlearn: 0.0748584\ttotal: 11.7s\tremaining: 19.1s\n",
      "380:\tlearn: 0.0747983\ttotal: 11.7s\tremaining: 19s\n",
      "381:\tlearn: 0.0747708\ttotal: 11.7s\tremaining: 19s\n",
      "382:\tlearn: 0.0747135\ttotal: 11.8s\tremaining: 19s\n",
      "383:\tlearn: 0.0746755\ttotal: 11.8s\tremaining: 18.9s\n",
      "384:\tlearn: 0.0746497\ttotal: 11.8s\tremaining: 18.9s\n",
      "385:\tlearn: 0.0746128\ttotal: 11.8s\tremaining: 18.8s\n",
      "386:\tlearn: 0.0745697\ttotal: 11.9s\tremaining: 18.8s\n",
      "387:\tlearn: 0.0745268\ttotal: 11.9s\tremaining: 18.8s\n",
      "388:\tlearn: 0.0744957\ttotal: 11.9s\tremaining: 18.7s\n",
      "389:\tlearn: 0.0744477\ttotal: 12s\tremaining: 18.7s\n",
      "390:\tlearn: 0.0744316\ttotal: 12s\tremaining: 18.7s\n",
      "391:\tlearn: 0.0743748\ttotal: 12s\tremaining: 18.6s\n",
      "392:\tlearn: 0.0743176\ttotal: 12.1s\tremaining: 18.6s\n",
      "393:\tlearn: 0.0742526\ttotal: 12.1s\tremaining: 18.6s\n",
      "394:\tlearn: 0.0741742\ttotal: 12.1s\tremaining: 18.5s\n",
      "395:\tlearn: 0.0740395\ttotal: 12.1s\tremaining: 18.5s\n",
      "396:\tlearn: 0.0739603\ttotal: 12.2s\tremaining: 18.5s\n",
      "397:\tlearn: 0.0739178\ttotal: 12.2s\tremaining: 18.4s\n",
      "398:\tlearn: 0.0738758\ttotal: 12.2s\tremaining: 18.4s\n",
      "399:\tlearn: 0.0738590\ttotal: 12.3s\tremaining: 18.4s\n",
      "400:\tlearn: 0.0738204\ttotal: 12.3s\tremaining: 18.3s\n",
      "401:\tlearn: 0.0737839\ttotal: 12.3s\tremaining: 18.3s\n",
      "402:\tlearn: 0.0737601\ttotal: 12.3s\tremaining: 18.3s\n",
      "403:\tlearn: 0.0737231\ttotal: 12.4s\tremaining: 18.2s\n",
      "404:\tlearn: 0.0736750\ttotal: 12.4s\tremaining: 18.2s\n",
      "405:\tlearn: 0.0736597\ttotal: 12.4s\tremaining: 18.2s\n",
      "406:\tlearn: 0.0736208\ttotal: 12.4s\tremaining: 18.1s\n",
      "407:\tlearn: 0.0735895\ttotal: 12.5s\tremaining: 18.1s\n",
      "408:\tlearn: 0.0735300\ttotal: 12.5s\tremaining: 18.1s\n",
      "409:\tlearn: 0.0734920\ttotal: 12.5s\tremaining: 18s\n",
      "410:\tlearn: 0.0734640\ttotal: 12.6s\tremaining: 18s\n",
      "411:\tlearn: 0.0734051\ttotal: 12.6s\tremaining: 18s\n",
      "412:\tlearn: 0.0732830\ttotal: 12.6s\tremaining: 17.9s\n",
      "413:\tlearn: 0.0732364\ttotal: 12.7s\tremaining: 17.9s\n",
      "414:\tlearn: 0.0731641\ttotal: 12.7s\tremaining: 17.9s\n",
      "415:\tlearn: 0.0731131\ttotal: 12.7s\tremaining: 17.8s\n",
      "416:\tlearn: 0.0730704\ttotal: 12.7s\tremaining: 17.8s\n",
      "417:\tlearn: 0.0730304\ttotal: 12.8s\tremaining: 17.8s\n",
      "418:\tlearn: 0.0729904\ttotal: 12.8s\tremaining: 17.8s\n",
      "419:\tlearn: 0.0729643\ttotal: 12.8s\tremaining: 17.7s\n",
      "420:\tlearn: 0.0729333\ttotal: 12.9s\tremaining: 17.7s\n",
      "421:\tlearn: 0.0728912\ttotal: 12.9s\tremaining: 17.7s\n",
      "422:\tlearn: 0.0728484\ttotal: 12.9s\tremaining: 17.7s\n",
      "423:\tlearn: 0.0728057\ttotal: 13s\tremaining: 17.6s\n",
      "424:\tlearn: 0.0727915\ttotal: 13s\tremaining: 17.6s\n",
      "425:\tlearn: 0.0727854\ttotal: 13s\tremaining: 17.6s\n",
      "426:\tlearn: 0.0727548\ttotal: 13.1s\tremaining: 17.5s\n",
      "427:\tlearn: 0.0727227\ttotal: 13.1s\tremaining: 17.5s\n",
      "428:\tlearn: 0.0727130\ttotal: 13.1s\tremaining: 17.5s\n",
      "429:\tlearn: 0.0726797\ttotal: 13.2s\tremaining: 17.4s\n",
      "430:\tlearn: 0.0726444\ttotal: 13.2s\tremaining: 17.4s\n",
      "431:\tlearn: 0.0726137\ttotal: 13.2s\tremaining: 17.4s\n",
      "432:\tlearn: 0.0725988\ttotal: 13.2s\tremaining: 17.3s\n",
      "433:\tlearn: 0.0725869\ttotal: 13.3s\tremaining: 17.3s\n",
      "434:\tlearn: 0.0725695\ttotal: 13.3s\tremaining: 17.3s\n",
      "435:\tlearn: 0.0725597\ttotal: 13.3s\tremaining: 17.3s\n",
      "436:\tlearn: 0.0725164\ttotal: 13.4s\tremaining: 17.2s\n",
      "437:\tlearn: 0.0724920\ttotal: 13.4s\tremaining: 17.2s\n",
      "438:\tlearn: 0.0724541\ttotal: 13.4s\tremaining: 17.2s\n",
      "439:\tlearn: 0.0724487\ttotal: 13.5s\tremaining: 17.2s\n",
      "440:\tlearn: 0.0723911\ttotal: 13.5s\tremaining: 17.1s\n",
      "441:\tlearn: 0.0722640\ttotal: 13.6s\tremaining: 17.1s\n",
      "442:\tlearn: 0.0722447\ttotal: 13.6s\tremaining: 17.1s\n",
      "443:\tlearn: 0.0721884\ttotal: 13.6s\tremaining: 17.1s\n",
      "444:\tlearn: 0.0721518\ttotal: 13.7s\tremaining: 17.1s\n",
      "445:\tlearn: 0.0721295\ttotal: 13.7s\tremaining: 17s\n",
      "446:\tlearn: 0.0720870\ttotal: 13.7s\tremaining: 17s\n",
      "447:\tlearn: 0.0720287\ttotal: 13.8s\tremaining: 17s\n",
      "448:\tlearn: 0.0720125\ttotal: 13.8s\tremaining: 16.9s\n",
      "449:\tlearn: 0.0719742\ttotal: 13.8s\tremaining: 16.9s\n",
      "450:\tlearn: 0.0719466\ttotal: 13.9s\tremaining: 16.9s\n",
      "451:\tlearn: 0.0719114\ttotal: 13.9s\tremaining: 16.8s\n",
      "452:\tlearn: 0.0718611\ttotal: 13.9s\tremaining: 16.8s\n",
      "453:\tlearn: 0.0717746\ttotal: 14s\tremaining: 16.8s\n",
      "454:\tlearn: 0.0717205\ttotal: 14s\tremaining: 16.7s\n",
      "455:\tlearn: 0.0716623\ttotal: 14s\tremaining: 16.7s\n",
      "456:\tlearn: 0.0716416\ttotal: 14s\tremaining: 16.7s\n",
      "457:\tlearn: 0.0716129\ttotal: 14.1s\tremaining: 16.7s\n",
      "458:\tlearn: 0.0715709\ttotal: 14.1s\tremaining: 16.6s\n",
      "459:\tlearn: 0.0715350\ttotal: 14.1s\tremaining: 16.6s\n",
      "460:\tlearn: 0.0714831\ttotal: 14.2s\tremaining: 16.6s\n",
      "461:\tlearn: 0.0714644\ttotal: 14.2s\tremaining: 16.5s\n",
      "462:\tlearn: 0.0714441\ttotal: 14.2s\tremaining: 16.5s\n",
      "463:\tlearn: 0.0714062\ttotal: 14.3s\tremaining: 16.5s\n",
      "464:\tlearn: 0.0713921\ttotal: 14.3s\tremaining: 16.4s\n",
      "465:\tlearn: 0.0713802\ttotal: 14.3s\tremaining: 16.4s\n",
      "466:\tlearn: 0.0713229\ttotal: 14.4s\tremaining: 16.4s\n",
      "467:\tlearn: 0.0712864\ttotal: 14.4s\tremaining: 16.4s\n",
      "468:\tlearn: 0.0712152\ttotal: 14.4s\tremaining: 16.3s\n",
      "469:\tlearn: 0.0711842\ttotal: 14.5s\tremaining: 16.3s\n",
      "470:\tlearn: 0.0711525\ttotal: 14.5s\tremaining: 16.3s\n",
      "471:\tlearn: 0.0711019\ttotal: 14.5s\tremaining: 16.2s\n",
      "472:\tlearn: 0.0710777\ttotal: 14.5s\tremaining: 16.2s\n",
      "473:\tlearn: 0.0710521\ttotal: 14.6s\tremaining: 16.2s\n",
      "474:\tlearn: 0.0710284\ttotal: 14.6s\tremaining: 16.1s\n",
      "475:\tlearn: 0.0709826\ttotal: 14.6s\tremaining: 16.1s\n",
      "476:\tlearn: 0.0708767\ttotal: 14.7s\tremaining: 16.1s\n",
      "477:\tlearn: 0.0708544\ttotal: 14.7s\tremaining: 16.1s\n",
      "478:\tlearn: 0.0708182\ttotal: 14.7s\tremaining: 16s\n",
      "479:\tlearn: 0.0707901\ttotal: 14.8s\tremaining: 16s\n",
      "480:\tlearn: 0.0707534\ttotal: 14.8s\tremaining: 16s\n",
      "481:\tlearn: 0.0707249\ttotal: 14.8s\tremaining: 15.9s\n",
      "482:\tlearn: 0.0707028\ttotal: 14.9s\tremaining: 15.9s\n",
      "483:\tlearn: 0.0706630\ttotal: 14.9s\tremaining: 15.9s\n",
      "484:\tlearn: 0.0706431\ttotal: 14.9s\tremaining: 15.8s\n",
      "485:\tlearn: 0.0706036\ttotal: 14.9s\tremaining: 15.8s\n",
      "486:\tlearn: 0.0705531\ttotal: 15s\tremaining: 15.8s\n",
      "487:\tlearn: 0.0705405\ttotal: 15s\tremaining: 15.7s\n",
      "488:\tlearn: 0.0705107\ttotal: 15s\tremaining: 15.7s\n",
      "489:\tlearn: 0.0704713\ttotal: 15.1s\tremaining: 15.7s\n",
      "490:\tlearn: 0.0704666\ttotal: 15.1s\tremaining: 15.6s\n",
      "491:\tlearn: 0.0704336\ttotal: 15.1s\tremaining: 15.6s\n",
      "492:\tlearn: 0.0704118\ttotal: 15.1s\tremaining: 15.6s\n",
      "493:\tlearn: 0.0703860\ttotal: 15.2s\tremaining: 15.5s\n",
      "494:\tlearn: 0.0703610\ttotal: 15.2s\tremaining: 15.5s\n",
      "495:\tlearn: 0.0703527\ttotal: 15.2s\tremaining: 15.5s\n",
      "496:\tlearn: 0.0703403\ttotal: 15.2s\tremaining: 15.4s\n",
      "497:\tlearn: 0.0703281\ttotal: 15.3s\tremaining: 15.4s\n",
      "498:\tlearn: 0.0703235\ttotal: 15.3s\tremaining: 15.4s\n",
      "499:\tlearn: 0.0703118\ttotal: 15.3s\tremaining: 15.3s\n",
      "500:\tlearn: 0.0702975\ttotal: 15.4s\tremaining: 15.3s\n",
      "501:\tlearn: 0.0702540\ttotal: 15.4s\tremaining: 15.3s\n",
      "502:\tlearn: 0.0702412\ttotal: 15.4s\tremaining: 15.2s\n",
      "503:\tlearn: 0.0702146\ttotal: 15.4s\tremaining: 15.2s\n",
      "504:\tlearn: 0.0702094\ttotal: 15.5s\tremaining: 15.2s\n",
      "505:\tlearn: 0.0701877\ttotal: 15.5s\tremaining: 15.1s\n",
      "506:\tlearn: 0.0701592\ttotal: 15.5s\tremaining: 15.1s\n",
      "507:\tlearn: 0.0701192\ttotal: 15.5s\tremaining: 15.1s\n",
      "508:\tlearn: 0.0700758\ttotal: 15.6s\tremaining: 15s\n",
      "509:\tlearn: 0.0700365\ttotal: 15.6s\tremaining: 15s\n",
      "510:\tlearn: 0.0700006\ttotal: 15.6s\tremaining: 15s\n",
      "511:\tlearn: 0.0699806\ttotal: 15.7s\tremaining: 14.9s\n",
      "512:\tlearn: 0.0699556\ttotal: 15.7s\tremaining: 14.9s\n",
      "513:\tlearn: 0.0698960\ttotal: 15.7s\tremaining: 14.8s\n",
      "514:\tlearn: 0.0698621\ttotal: 15.7s\tremaining: 14.8s\n",
      "515:\tlearn: 0.0698328\ttotal: 15.8s\tremaining: 14.8s\n",
      "516:\tlearn: 0.0697949\ttotal: 15.8s\tremaining: 14.8s\n",
      "517:\tlearn: 0.0697820\ttotal: 15.8s\tremaining: 14.7s\n",
      "518:\tlearn: 0.0697333\ttotal: 15.9s\tremaining: 14.7s\n",
      "519:\tlearn: 0.0696883\ttotal: 15.9s\tremaining: 14.7s\n",
      "520:\tlearn: 0.0696481\ttotal: 15.9s\tremaining: 14.6s\n",
      "521:\tlearn: 0.0696152\ttotal: 15.9s\tremaining: 14.6s\n",
      "522:\tlearn: 0.0695585\ttotal: 16s\tremaining: 14.6s\n",
      "523:\tlearn: 0.0695046\ttotal: 16s\tremaining: 14.5s\n",
      "524:\tlearn: 0.0694861\ttotal: 16s\tremaining: 14.5s\n",
      "525:\tlearn: 0.0694643\ttotal: 16.1s\tremaining: 14.5s\n",
      "526:\tlearn: 0.0694615\ttotal: 16.1s\tremaining: 14.4s\n",
      "527:\tlearn: 0.0694207\ttotal: 16.1s\tremaining: 14.4s\n",
      "528:\tlearn: 0.0694025\ttotal: 16.1s\tremaining: 14.4s\n",
      "529:\tlearn: 0.0693718\ttotal: 16.2s\tremaining: 14.3s\n",
      "530:\tlearn: 0.0693458\ttotal: 16.2s\tremaining: 14.3s\n",
      "531:\tlearn: 0.0693305\ttotal: 16.2s\tremaining: 14.3s\n",
      "532:\tlearn: 0.0693118\ttotal: 16.2s\tremaining: 14.2s\n",
      "533:\tlearn: 0.0692856\ttotal: 16.3s\tremaining: 14.2s\n",
      "534:\tlearn: 0.0692677\ttotal: 16.3s\tremaining: 14.2s\n",
      "535:\tlearn: 0.0692553\ttotal: 16.3s\tremaining: 14.1s\n",
      "536:\tlearn: 0.0692400\ttotal: 16.4s\tremaining: 14.1s\n",
      "537:\tlearn: 0.0691951\ttotal: 16.4s\tremaining: 14.1s\n",
      "538:\tlearn: 0.0691589\ttotal: 16.4s\tremaining: 14s\n",
      "539:\tlearn: 0.0691244\ttotal: 16.4s\tremaining: 14s\n",
      "540:\tlearn: 0.0690483\ttotal: 16.5s\tremaining: 14s\n",
      "541:\tlearn: 0.0690028\ttotal: 16.5s\tremaining: 13.9s\n",
      "542:\tlearn: 0.0689813\ttotal: 16.5s\tremaining: 13.9s\n",
      "543:\tlearn: 0.0689599\ttotal: 16.6s\tremaining: 13.9s\n",
      "544:\tlearn: 0.0689180\ttotal: 16.6s\tremaining: 13.9s\n",
      "545:\tlearn: 0.0688568\ttotal: 16.6s\tremaining: 13.8s\n",
      "546:\tlearn: 0.0688194\ttotal: 16.6s\tremaining: 13.8s\n",
      "547:\tlearn: 0.0688006\ttotal: 16.7s\tremaining: 13.7s\n",
      "548:\tlearn: 0.0687149\ttotal: 16.7s\tremaining: 13.7s\n",
      "549:\tlearn: 0.0687069\ttotal: 16.7s\tremaining: 13.7s\n",
      "550:\tlearn: 0.0686620\ttotal: 16.7s\tremaining: 13.6s\n",
      "551:\tlearn: 0.0686002\ttotal: 16.8s\tremaining: 13.7s\n",
      "552:\tlearn: 0.0685446\ttotal: 16.9s\tremaining: 13.6s\n",
      "553:\tlearn: 0.0685116\ttotal: 16.9s\tremaining: 13.6s\n",
      "554:\tlearn: 0.0684891\ttotal: 16.9s\tremaining: 13.6s\n",
      "555:\tlearn: 0.0684869\ttotal: 16.9s\tremaining: 13.5s\n",
      "556:\tlearn: 0.0684674\ttotal: 17s\tremaining: 13.5s\n",
      "557:\tlearn: 0.0684454\ttotal: 17s\tremaining: 13.5s\n",
      "558:\tlearn: 0.0684012\ttotal: 17s\tremaining: 13.4s\n",
      "559:\tlearn: 0.0683722\ttotal: 17.1s\tremaining: 13.4s\n",
      "560:\tlearn: 0.0683408\ttotal: 17.1s\tremaining: 13.4s\n",
      "561:\tlearn: 0.0682996\ttotal: 17.1s\tremaining: 13.3s\n",
      "562:\tlearn: 0.0682769\ttotal: 17.1s\tremaining: 13.3s\n",
      "563:\tlearn: 0.0682221\ttotal: 17.2s\tremaining: 13.3s\n",
      "564:\tlearn: 0.0682122\ttotal: 17.2s\tremaining: 13.2s\n",
      "565:\tlearn: 0.0681860\ttotal: 17.2s\tremaining: 13.2s\n",
      "566:\tlearn: 0.0681500\ttotal: 17.3s\tremaining: 13.2s\n",
      "567:\tlearn: 0.0681478\ttotal: 17.3s\tremaining: 13.1s\n",
      "568:\tlearn: 0.0681214\ttotal: 17.3s\tremaining: 13.1s\n",
      "569:\tlearn: 0.0680982\ttotal: 17.3s\tremaining: 13.1s\n",
      "570:\tlearn: 0.0680900\ttotal: 17.4s\tremaining: 13.1s\n",
      "571:\tlearn: 0.0680793\ttotal: 17.4s\tremaining: 13s\n",
      "572:\tlearn: 0.0680598\ttotal: 17.4s\tremaining: 13s\n",
      "573:\tlearn: 0.0680442\ttotal: 17.5s\tremaining: 13s\n",
      "574:\tlearn: 0.0680154\ttotal: 17.5s\tremaining: 12.9s\n",
      "575:\tlearn: 0.0679677\ttotal: 17.5s\tremaining: 12.9s\n",
      "576:\tlearn: 0.0679420\ttotal: 17.5s\tremaining: 12.9s\n",
      "577:\tlearn: 0.0679126\ttotal: 17.6s\tremaining: 12.8s\n",
      "578:\tlearn: 0.0678773\ttotal: 17.6s\tremaining: 12.8s\n",
      "579:\tlearn: 0.0678427\ttotal: 17.6s\tremaining: 12.8s\n",
      "580:\tlearn: 0.0677818\ttotal: 17.7s\tremaining: 12.7s\n",
      "581:\tlearn: 0.0677530\ttotal: 17.7s\tremaining: 12.7s\n",
      "582:\tlearn: 0.0677349\ttotal: 17.7s\tremaining: 12.7s\n",
      "583:\tlearn: 0.0676858\ttotal: 17.8s\tremaining: 12.6s\n",
      "584:\tlearn: 0.0676143\ttotal: 17.8s\tremaining: 12.6s\n",
      "585:\tlearn: 0.0675733\ttotal: 17.8s\tremaining: 12.6s\n",
      "586:\tlearn: 0.0675588\ttotal: 17.8s\tremaining: 12.6s\n",
      "587:\tlearn: 0.0675128\ttotal: 17.9s\tremaining: 12.5s\n",
      "588:\tlearn: 0.0674864\ttotal: 17.9s\tremaining: 12.5s\n",
      "589:\tlearn: 0.0674766\ttotal: 17.9s\tremaining: 12.5s\n",
      "590:\tlearn: 0.0674491\ttotal: 18s\tremaining: 12.4s\n",
      "591:\tlearn: 0.0674012\ttotal: 18s\tremaining: 12.4s\n",
      "592:\tlearn: 0.0673611\ttotal: 18s\tremaining: 12.4s\n",
      "593:\tlearn: 0.0673004\ttotal: 18.1s\tremaining: 12.3s\n",
      "594:\tlearn: 0.0672828\ttotal: 18.1s\tremaining: 12.3s\n",
      "595:\tlearn: 0.0672653\ttotal: 18.1s\tremaining: 12.3s\n",
      "596:\tlearn: 0.0672232\ttotal: 18.1s\tremaining: 12.2s\n",
      "597:\tlearn: 0.0671980\ttotal: 18.2s\tremaining: 12.2s\n",
      "598:\tlearn: 0.0671687\ttotal: 18.2s\tremaining: 12.2s\n",
      "599:\tlearn: 0.0671422\ttotal: 18.2s\tremaining: 12.2s\n",
      "600:\tlearn: 0.0671143\ttotal: 18.3s\tremaining: 12.1s\n",
      "601:\tlearn: 0.0671057\ttotal: 18.3s\tremaining: 12.1s\n",
      "602:\tlearn: 0.0670758\ttotal: 18.3s\tremaining: 12.1s\n",
      "603:\tlearn: 0.0670720\ttotal: 18.3s\tremaining: 12s\n",
      "604:\tlearn: 0.0670470\ttotal: 18.4s\tremaining: 12s\n",
      "605:\tlearn: 0.0670218\ttotal: 18.4s\tremaining: 12s\n",
      "606:\tlearn: 0.0669997\ttotal: 18.4s\tremaining: 11.9s\n",
      "607:\tlearn: 0.0669700\ttotal: 18.4s\tremaining: 11.9s\n",
      "608:\tlearn: 0.0669500\ttotal: 18.5s\tremaining: 11.9s\n",
      "609:\tlearn: 0.0669284\ttotal: 18.5s\tremaining: 11.8s\n",
      "610:\tlearn: 0.0668954\ttotal: 18.5s\tremaining: 11.8s\n",
      "611:\tlearn: 0.0668765\ttotal: 18.5s\tremaining: 11.8s\n",
      "612:\tlearn: 0.0668567\ttotal: 18.6s\tremaining: 11.7s\n",
      "613:\tlearn: 0.0668405\ttotal: 18.6s\tremaining: 11.7s\n",
      "614:\tlearn: 0.0668080\ttotal: 18.6s\tremaining: 11.7s\n",
      "615:\tlearn: 0.0667950\ttotal: 18.7s\tremaining: 11.6s\n",
      "616:\tlearn: 0.0667778\ttotal: 18.7s\tremaining: 11.6s\n",
      "617:\tlearn: 0.0667570\ttotal: 18.7s\tremaining: 11.6s\n",
      "618:\tlearn: 0.0667552\ttotal: 18.7s\tremaining: 11.5s\n",
      "619:\tlearn: 0.0667163\ttotal: 18.8s\tremaining: 11.5s\n",
      "620:\tlearn: 0.0666642\ttotal: 18.8s\tremaining: 11.5s\n",
      "621:\tlearn: 0.0666461\ttotal: 18.8s\tremaining: 11.4s\n",
      "622:\tlearn: 0.0666124\ttotal: 18.9s\tremaining: 11.4s\n",
      "623:\tlearn: 0.0665716\ttotal: 18.9s\tremaining: 11.4s\n",
      "624:\tlearn: 0.0665224\ttotal: 18.9s\tremaining: 11.3s\n",
      "625:\tlearn: 0.0664945\ttotal: 18.9s\tremaining: 11.3s\n",
      "626:\tlearn: 0.0664608\ttotal: 19s\tremaining: 11.3s\n",
      "627:\tlearn: 0.0664143\ttotal: 19s\tremaining: 11.3s\n",
      "628:\tlearn: 0.0663864\ttotal: 19s\tremaining: 11.2s\n",
      "629:\tlearn: 0.0663433\ttotal: 19.1s\tremaining: 11.2s\n",
      "630:\tlearn: 0.0663165\ttotal: 19.1s\tremaining: 11.2s\n",
      "631:\tlearn: 0.0663020\ttotal: 19.1s\tremaining: 11.1s\n",
      "632:\tlearn: 0.0662866\ttotal: 19.1s\tremaining: 11.1s\n",
      "633:\tlearn: 0.0662389\ttotal: 19.2s\tremaining: 11.1s\n",
      "634:\tlearn: 0.0662110\ttotal: 19.2s\tremaining: 11s\n",
      "635:\tlearn: 0.0661796\ttotal: 19.2s\tremaining: 11s\n",
      "636:\tlearn: 0.0661498\ttotal: 19.2s\tremaining: 11s\n",
      "637:\tlearn: 0.0661135\ttotal: 19.3s\tremaining: 10.9s\n",
      "638:\tlearn: 0.0660801\ttotal: 19.3s\tremaining: 10.9s\n",
      "639:\tlearn: 0.0660559\ttotal: 19.3s\tremaining: 10.9s\n",
      "640:\tlearn: 0.0660073\ttotal: 19.4s\tremaining: 10.8s\n",
      "641:\tlearn: 0.0659774\ttotal: 19.4s\tremaining: 10.8s\n",
      "642:\tlearn: 0.0659525\ttotal: 19.4s\tremaining: 10.8s\n",
      "643:\tlearn: 0.0659296\ttotal: 19.4s\tremaining: 10.7s\n",
      "644:\tlearn: 0.0658738\ttotal: 19.5s\tremaining: 10.7s\n",
      "645:\tlearn: 0.0658697\ttotal: 19.5s\tremaining: 10.7s\n",
      "646:\tlearn: 0.0658238\ttotal: 19.5s\tremaining: 10.6s\n",
      "647:\tlearn: 0.0658018\ttotal: 19.5s\tremaining: 10.6s\n",
      "648:\tlearn: 0.0657736\ttotal: 19.6s\tremaining: 10.6s\n",
      "649:\tlearn: 0.0657461\ttotal: 19.6s\tremaining: 10.6s\n",
      "650:\tlearn: 0.0657186\ttotal: 19.6s\tremaining: 10.5s\n",
      "651:\tlearn: 0.0656844\ttotal: 19.7s\tremaining: 10.5s\n",
      "652:\tlearn: 0.0656189\ttotal: 19.7s\tremaining: 10.5s\n",
      "653:\tlearn: 0.0655836\ttotal: 19.7s\tremaining: 10.4s\n",
      "654:\tlearn: 0.0655711\ttotal: 19.8s\tremaining: 10.4s\n",
      "655:\tlearn: 0.0655520\ttotal: 19.8s\tremaining: 10.4s\n",
      "656:\tlearn: 0.0655272\ttotal: 19.8s\tremaining: 10.3s\n",
      "657:\tlearn: 0.0654720\ttotal: 19.8s\tremaining: 10.3s\n",
      "658:\tlearn: 0.0654171\ttotal: 19.9s\tremaining: 10.3s\n",
      "659:\tlearn: 0.0653719\ttotal: 19.9s\tremaining: 10.3s\n",
      "660:\tlearn: 0.0653442\ttotal: 19.9s\tremaining: 10.2s\n",
      "661:\tlearn: 0.0653150\ttotal: 20s\tremaining: 10.2s\n",
      "662:\tlearn: 0.0652852\ttotal: 20s\tremaining: 10.2s\n",
      "663:\tlearn: 0.0652476\ttotal: 20s\tremaining: 10.1s\n",
      "664:\tlearn: 0.0652189\ttotal: 20.1s\tremaining: 10.1s\n",
      "665:\tlearn: 0.0651674\ttotal: 20.1s\tremaining: 10.1s\n",
      "666:\tlearn: 0.0651504\ttotal: 20.1s\tremaining: 10s\n",
      "667:\tlearn: 0.0651227\ttotal: 20.1s\tremaining: 10s\n",
      "668:\tlearn: 0.0650976\ttotal: 20.2s\tremaining: 9.98s\n",
      "669:\tlearn: 0.0650479\ttotal: 20.2s\tremaining: 9.95s\n",
      "670:\tlearn: 0.0650221\ttotal: 20.2s\tremaining: 9.92s\n",
      "671:\tlearn: 0.0649921\ttotal: 20.3s\tremaining: 9.89s\n",
      "672:\tlearn: 0.0649558\ttotal: 20.3s\tremaining: 9.86s\n",
      "673:\tlearn: 0.0649350\ttotal: 20.3s\tremaining: 9.83s\n",
      "674:\tlearn: 0.0648787\ttotal: 20.3s\tremaining: 9.79s\n",
      "675:\tlearn: 0.0648600\ttotal: 20.4s\tremaining: 9.77s\n",
      "676:\tlearn: 0.0648457\ttotal: 20.4s\tremaining: 9.73s\n",
      "677:\tlearn: 0.0648333\ttotal: 20.4s\tremaining: 9.7s\n",
      "678:\tlearn: 0.0648284\ttotal: 20.5s\tremaining: 9.67s\n",
      "679:\tlearn: 0.0648233\ttotal: 20.5s\tremaining: 9.63s\n",
      "680:\tlearn: 0.0647762\ttotal: 20.5s\tremaining: 9.6s\n",
      "681:\tlearn: 0.0647527\ttotal: 20.5s\tremaining: 9.57s\n",
      "682:\tlearn: 0.0647379\ttotal: 20.6s\tremaining: 9.54s\n",
      "683:\tlearn: 0.0647138\ttotal: 20.6s\tremaining: 9.51s\n",
      "684:\tlearn: 0.0646793\ttotal: 20.6s\tremaining: 9.48s\n",
      "685:\tlearn: 0.0646712\ttotal: 20.6s\tremaining: 9.44s\n",
      "686:\tlearn: 0.0646328\ttotal: 20.7s\tremaining: 9.41s\n",
      "687:\tlearn: 0.0646214\ttotal: 20.7s\tremaining: 9.38s\n",
      "688:\tlearn: 0.0645853\ttotal: 20.7s\tremaining: 9.35s\n",
      "689:\tlearn: 0.0645476\ttotal: 20.7s\tremaining: 9.32s\n",
      "690:\tlearn: 0.0645279\ttotal: 20.8s\tremaining: 9.29s\n",
      "691:\tlearn: 0.0644330\ttotal: 20.8s\tremaining: 9.26s\n",
      "692:\tlearn: 0.0644251\ttotal: 20.8s\tremaining: 9.22s\n",
      "693:\tlearn: 0.0644039\ttotal: 20.9s\tremaining: 9.19s\n",
      "694:\tlearn: 0.0643979\ttotal: 20.9s\tremaining: 9.16s\n",
      "695:\tlearn: 0.0643669\ttotal: 20.9s\tremaining: 9.13s\n",
      "696:\tlearn: 0.0643552\ttotal: 20.9s\tremaining: 9.1s\n",
      "697:\tlearn: 0.0643309\ttotal: 21s\tremaining: 9.07s\n",
      "698:\tlearn: 0.0643193\ttotal: 21s\tremaining: 9.04s\n",
      "699:\tlearn: 0.0642932\ttotal: 21s\tremaining: 9.01s\n",
      "700:\tlearn: 0.0642735\ttotal: 21s\tremaining: 8.98s\n",
      "701:\tlearn: 0.0642495\ttotal: 21.1s\tremaining: 8.95s\n",
      "702:\tlearn: 0.0642247\ttotal: 21.1s\tremaining: 8.92s\n",
      "703:\tlearn: 0.0641797\ttotal: 21.1s\tremaining: 8.88s\n",
      "704:\tlearn: 0.0641577\ttotal: 21.2s\tremaining: 8.85s\n",
      "705:\tlearn: 0.0641399\ttotal: 21.2s\tremaining: 8.82s\n",
      "706:\tlearn: 0.0641130\ttotal: 21.2s\tremaining: 8.79s\n",
      "707:\tlearn: 0.0640916\ttotal: 21.2s\tremaining: 8.76s\n",
      "708:\tlearn: 0.0640727\ttotal: 21.3s\tremaining: 8.73s\n",
      "709:\tlearn: 0.0640489\ttotal: 21.3s\tremaining: 8.7s\n",
      "710:\tlearn: 0.0640389\ttotal: 21.3s\tremaining: 8.67s\n",
      "711:\tlearn: 0.0640237\ttotal: 21.4s\tremaining: 8.64s\n",
      "712:\tlearn: 0.0640051\ttotal: 21.4s\tremaining: 8.61s\n",
      "713:\tlearn: 0.0639739\ttotal: 21.4s\tremaining: 8.58s\n",
      "714:\tlearn: 0.0639553\ttotal: 21.4s\tremaining: 8.55s\n",
      "715:\tlearn: 0.0639432\ttotal: 21.5s\tremaining: 8.52s\n",
      "716:\tlearn: 0.0639319\ttotal: 21.5s\tremaining: 8.48s\n",
      "717:\tlearn: 0.0639090\ttotal: 21.5s\tremaining: 8.45s\n",
      "718:\tlearn: 0.0638828\ttotal: 21.6s\tremaining: 8.42s\n",
      "719:\tlearn: 0.0638338\ttotal: 21.6s\tremaining: 8.39s\n",
      "720:\tlearn: 0.0637963\ttotal: 21.6s\tremaining: 8.36s\n",
      "721:\tlearn: 0.0637666\ttotal: 21.6s\tremaining: 8.33s\n",
      "722:\tlearn: 0.0637267\ttotal: 21.7s\tremaining: 8.3s\n",
      "723:\tlearn: 0.0636849\ttotal: 21.7s\tremaining: 8.27s\n",
      "724:\tlearn: 0.0636684\ttotal: 21.7s\tremaining: 8.24s\n",
      "725:\tlearn: 0.0636541\ttotal: 21.7s\tremaining: 8.21s\n",
      "726:\tlearn: 0.0636355\ttotal: 21.8s\tremaining: 8.18s\n",
      "727:\tlearn: 0.0635971\ttotal: 21.8s\tremaining: 8.14s\n",
      "728:\tlearn: 0.0635850\ttotal: 21.8s\tremaining: 8.11s\n",
      "729:\tlearn: 0.0635508\ttotal: 21.9s\tremaining: 8.08s\n",
      "730:\tlearn: 0.0635425\ttotal: 21.9s\tremaining: 8.05s\n",
      "731:\tlearn: 0.0635012\ttotal: 21.9s\tremaining: 8.02s\n",
      "732:\tlearn: 0.0634768\ttotal: 21.9s\tremaining: 7.99s\n",
      "733:\tlearn: 0.0634399\ttotal: 22s\tremaining: 7.96s\n",
      "734:\tlearn: 0.0634116\ttotal: 22s\tremaining: 7.93s\n",
      "735:\tlearn: 0.0634091\ttotal: 22s\tremaining: 7.9s\n",
      "736:\tlearn: 0.0633810\ttotal: 22.1s\tremaining: 7.87s\n",
      "737:\tlearn: 0.0633442\ttotal: 22.1s\tremaining: 7.84s\n",
      "738:\tlearn: 0.0633054\ttotal: 22.1s\tremaining: 7.81s\n",
      "739:\tlearn: 0.0632734\ttotal: 22.1s\tremaining: 7.78s\n",
      "740:\tlearn: 0.0631503\ttotal: 22.2s\tremaining: 7.75s\n",
      "741:\tlearn: 0.0631255\ttotal: 22.2s\tremaining: 7.72s\n",
      "742:\tlearn: 0.0630939\ttotal: 22.2s\tremaining: 7.69s\n",
      "743:\tlearn: 0.0630524\ttotal: 22.3s\tremaining: 7.66s\n",
      "744:\tlearn: 0.0630170\ttotal: 22.3s\tremaining: 7.63s\n",
      "745:\tlearn: 0.0630074\ttotal: 22.3s\tremaining: 7.59s\n",
      "746:\tlearn: 0.0629961\ttotal: 22.3s\tremaining: 7.56s\n",
      "747:\tlearn: 0.0629882\ttotal: 22.4s\tremaining: 7.53s\n",
      "748:\tlearn: 0.0629693\ttotal: 22.4s\tremaining: 7.5s\n",
      "749:\tlearn: 0.0629402\ttotal: 22.4s\tremaining: 7.47s\n",
      "750:\tlearn: 0.0629148\ttotal: 22.4s\tremaining: 7.44s\n",
      "751:\tlearn: 0.0629092\ttotal: 22.5s\tremaining: 7.41s\n",
      "752:\tlearn: 0.0628852\ttotal: 22.5s\tremaining: 7.38s\n",
      "753:\tlearn: 0.0628584\ttotal: 22.5s\tremaining: 7.35s\n",
      "754:\tlearn: 0.0628452\ttotal: 22.5s\tremaining: 7.32s\n",
      "755:\tlearn: 0.0628370\ttotal: 22.6s\tremaining: 7.29s\n",
      "756:\tlearn: 0.0628306\ttotal: 22.6s\tremaining: 7.25s\n",
      "757:\tlearn: 0.0627909\ttotal: 22.6s\tremaining: 7.22s\n",
      "758:\tlearn: 0.0627300\ttotal: 22.7s\tremaining: 7.2s\n",
      "759:\tlearn: 0.0626959\ttotal: 22.7s\tremaining: 7.17s\n",
      "760:\tlearn: 0.0626833\ttotal: 22.7s\tremaining: 7.13s\n",
      "761:\tlearn: 0.0626625\ttotal: 22.7s\tremaining: 7.1s\n",
      "762:\tlearn: 0.0626490\ttotal: 22.8s\tremaining: 7.07s\n",
      "763:\tlearn: 0.0626216\ttotal: 22.8s\tremaining: 7.04s\n",
      "764:\tlearn: 0.0626105\ttotal: 22.8s\tremaining: 7.01s\n",
      "765:\tlearn: 0.0626028\ttotal: 22.9s\tremaining: 6.98s\n",
      "766:\tlearn: 0.0625930\ttotal: 22.9s\tremaining: 6.95s\n",
      "767:\tlearn: 0.0625623\ttotal: 22.9s\tremaining: 6.92s\n",
      "768:\tlearn: 0.0625324\ttotal: 22.9s\tremaining: 6.89s\n",
      "769:\tlearn: 0.0625176\ttotal: 23s\tremaining: 6.86s\n",
      "770:\tlearn: 0.0625029\ttotal: 23s\tremaining: 6.83s\n",
      "771:\tlearn: 0.0624933\ttotal: 23s\tremaining: 6.8s\n",
      "772:\tlearn: 0.0624753\ttotal: 23.1s\tremaining: 6.77s\n",
      "773:\tlearn: 0.0624371\ttotal: 23.1s\tremaining: 6.74s\n",
      "774:\tlearn: 0.0624105\ttotal: 23.1s\tremaining: 6.71s\n",
      "775:\tlearn: 0.0624089\ttotal: 23.1s\tremaining: 6.68s\n",
      "776:\tlearn: 0.0623730\ttotal: 23.2s\tremaining: 6.65s\n",
      "777:\tlearn: 0.0623622\ttotal: 23.2s\tremaining: 6.62s\n",
      "778:\tlearn: 0.0623435\ttotal: 23.2s\tremaining: 6.59s\n",
      "779:\tlearn: 0.0623148\ttotal: 23.3s\tremaining: 6.56s\n",
      "780:\tlearn: 0.0622982\ttotal: 23.3s\tremaining: 6.53s\n",
      "781:\tlearn: 0.0622740\ttotal: 23.3s\tremaining: 6.5s\n",
      "782:\tlearn: 0.0622536\ttotal: 23.3s\tremaining: 6.47s\n",
      "783:\tlearn: 0.0622453\ttotal: 23.4s\tremaining: 6.44s\n",
      "784:\tlearn: 0.0622307\ttotal: 23.4s\tremaining: 6.41s\n",
      "785:\tlearn: 0.0622013\ttotal: 23.4s\tremaining: 6.38s\n",
      "786:\tlearn: 0.0621882\ttotal: 23.4s\tremaining: 6.34s\n",
      "787:\tlearn: 0.0621685\ttotal: 23.5s\tremaining: 6.31s\n",
      "788:\tlearn: 0.0621356\ttotal: 23.5s\tremaining: 6.28s\n",
      "789:\tlearn: 0.0621299\ttotal: 23.5s\tremaining: 6.25s\n",
      "790:\tlearn: 0.0621107\ttotal: 23.6s\tremaining: 6.22s\n",
      "791:\tlearn: 0.0620842\ttotal: 23.6s\tremaining: 6.19s\n",
      "792:\tlearn: 0.0620451\ttotal: 23.6s\tremaining: 6.16s\n",
      "793:\tlearn: 0.0620235\ttotal: 23.6s\tremaining: 6.13s\n",
      "794:\tlearn: 0.0620002\ttotal: 23.7s\tremaining: 6.11s\n",
      "795:\tlearn: 0.0619736\ttotal: 23.7s\tremaining: 6.08s\n",
      "796:\tlearn: 0.0619639\ttotal: 23.7s\tremaining: 6.05s\n",
      "797:\tlearn: 0.0619408\ttotal: 23.8s\tremaining: 6.02s\n",
      "798:\tlearn: 0.0619286\ttotal: 23.8s\tremaining: 5.99s\n",
      "799:\tlearn: 0.0619047\ttotal: 23.8s\tremaining: 5.96s\n",
      "800:\tlearn: 0.0618620\ttotal: 23.9s\tremaining: 5.93s\n",
      "801:\tlearn: 0.0618373\ttotal: 23.9s\tremaining: 5.9s\n",
      "802:\tlearn: 0.0618292\ttotal: 23.9s\tremaining: 5.87s\n",
      "803:\tlearn: 0.0618246\ttotal: 23.9s\tremaining: 5.83s\n",
      "804:\tlearn: 0.0618042\ttotal: 24s\tremaining: 5.8s\n",
      "805:\tlearn: 0.0617966\ttotal: 24s\tremaining: 5.77s\n",
      "806:\tlearn: 0.0617728\ttotal: 24s\tremaining: 5.74s\n",
      "807:\tlearn: 0.0617658\ttotal: 24s\tremaining: 5.71s\n",
      "808:\tlearn: 0.0617341\ttotal: 24.1s\tremaining: 5.68s\n",
      "809:\tlearn: 0.0617060\ttotal: 24.1s\tremaining: 5.65s\n",
      "810:\tlearn: 0.0616884\ttotal: 24.1s\tremaining: 5.62s\n",
      "811:\tlearn: 0.0616796\ttotal: 24.2s\tremaining: 5.59s\n",
      "812:\tlearn: 0.0616536\ttotal: 24.2s\tremaining: 5.56s\n",
      "813:\tlearn: 0.0616238\ttotal: 24.2s\tremaining: 5.53s\n",
      "814:\tlearn: 0.0616130\ttotal: 24.2s\tremaining: 5.5s\n",
      "815:\tlearn: 0.0615898\ttotal: 24.3s\tremaining: 5.47s\n",
      "816:\tlearn: 0.0615709\ttotal: 24.3s\tremaining: 5.44s\n",
      "817:\tlearn: 0.0615478\ttotal: 24.3s\tremaining: 5.41s\n",
      "818:\tlearn: 0.0615125\ttotal: 24.4s\tremaining: 5.38s\n",
      "819:\tlearn: 0.0614939\ttotal: 24.4s\tremaining: 5.35s\n",
      "820:\tlearn: 0.0614586\ttotal: 24.4s\tremaining: 5.32s\n",
      "821:\tlearn: 0.0614316\ttotal: 24.4s\tremaining: 5.29s\n",
      "822:\tlearn: 0.0613817\ttotal: 24.5s\tremaining: 5.26s\n",
      "823:\tlearn: 0.0613804\ttotal: 24.5s\tremaining: 5.23s\n",
      "824:\tlearn: 0.0613632\ttotal: 24.5s\tremaining: 5.2s\n",
      "825:\tlearn: 0.0613422\ttotal: 24.5s\tremaining: 5.17s\n",
      "826:\tlearn: 0.0613149\ttotal: 24.6s\tremaining: 5.14s\n",
      "827:\tlearn: 0.0612460\ttotal: 24.6s\tremaining: 5.11s\n",
      "828:\tlearn: 0.0612274\ttotal: 24.6s\tremaining: 5.08s\n",
      "829:\tlearn: 0.0612230\ttotal: 24.7s\tremaining: 5.05s\n",
      "830:\tlearn: 0.0611963\ttotal: 24.7s\tremaining: 5.02s\n",
      "831:\tlearn: 0.0611608\ttotal: 24.7s\tremaining: 4.99s\n",
      "832:\tlearn: 0.0611334\ttotal: 24.7s\tremaining: 4.96s\n",
      "833:\tlearn: 0.0611155\ttotal: 24.8s\tremaining: 4.93s\n",
      "834:\tlearn: 0.0610935\ttotal: 24.8s\tremaining: 4.9s\n",
      "835:\tlearn: 0.0610747\ttotal: 24.8s\tremaining: 4.87s\n",
      "836:\tlearn: 0.0610520\ttotal: 24.9s\tremaining: 4.84s\n",
      "837:\tlearn: 0.0610182\ttotal: 24.9s\tremaining: 4.81s\n",
      "838:\tlearn: 0.0609777\ttotal: 24.9s\tremaining: 4.78s\n",
      "839:\tlearn: 0.0609475\ttotal: 24.9s\tremaining: 4.75s\n",
      "840:\tlearn: 0.0609153\ttotal: 25s\tremaining: 4.72s\n",
      "841:\tlearn: 0.0608761\ttotal: 25s\tremaining: 4.69s\n",
      "842:\tlearn: 0.0608449\ttotal: 25s\tremaining: 4.66s\n",
      "843:\tlearn: 0.0608159\ttotal: 25.1s\tremaining: 4.63s\n",
      "844:\tlearn: 0.0607951\ttotal: 25.1s\tremaining: 4.6s\n",
      "845:\tlearn: 0.0607639\ttotal: 25.1s\tremaining: 4.57s\n",
      "846:\tlearn: 0.0607209\ttotal: 25.1s\tremaining: 4.54s\n",
      "847:\tlearn: 0.0606842\ttotal: 25.2s\tremaining: 4.51s\n",
      "848:\tlearn: 0.0606615\ttotal: 25.2s\tremaining: 4.48s\n",
      "849:\tlearn: 0.0606473\ttotal: 25.2s\tremaining: 4.45s\n",
      "850:\tlearn: 0.0606218\ttotal: 25.3s\tremaining: 4.42s\n",
      "851:\tlearn: 0.0605823\ttotal: 25.3s\tremaining: 4.39s\n",
      "852:\tlearn: 0.0605644\ttotal: 25.3s\tremaining: 4.36s\n",
      "853:\tlearn: 0.0605578\ttotal: 25.3s\tremaining: 4.33s\n",
      "854:\tlearn: 0.0605441\ttotal: 25.4s\tremaining: 4.3s\n",
      "855:\tlearn: 0.0604935\ttotal: 25.4s\tremaining: 4.27s\n",
      "856:\tlearn: 0.0604499\ttotal: 25.4s\tremaining: 4.24s\n",
      "857:\tlearn: 0.0604287\ttotal: 25.4s\tremaining: 4.21s\n",
      "858:\tlearn: 0.0604205\ttotal: 25.5s\tremaining: 4.18s\n",
      "859:\tlearn: 0.0603855\ttotal: 25.5s\tremaining: 4.15s\n",
      "860:\tlearn: 0.0603648\ttotal: 25.5s\tremaining: 4.12s\n",
      "861:\tlearn: 0.0603448\ttotal: 25.6s\tremaining: 4.09s\n",
      "862:\tlearn: 0.0602961\ttotal: 25.6s\tremaining: 4.06s\n",
      "863:\tlearn: 0.0602874\ttotal: 25.6s\tremaining: 4.03s\n",
      "864:\tlearn: 0.0602667\ttotal: 25.6s\tremaining: 4s\n",
      "865:\tlearn: 0.0602447\ttotal: 25.7s\tremaining: 3.97s\n",
      "866:\tlearn: 0.0602254\ttotal: 25.7s\tremaining: 3.94s\n",
      "867:\tlearn: 0.0602056\ttotal: 25.7s\tremaining: 3.91s\n",
      "868:\tlearn: 0.0601973\ttotal: 25.8s\tremaining: 3.88s\n",
      "869:\tlearn: 0.0601810\ttotal: 25.8s\tremaining: 3.85s\n",
      "870:\tlearn: 0.0601772\ttotal: 25.8s\tremaining: 3.82s\n",
      "871:\tlearn: 0.0601741\ttotal: 25.8s\tremaining: 3.79s\n",
      "872:\tlearn: 0.0601461\ttotal: 25.9s\tremaining: 3.76s\n",
      "873:\tlearn: 0.0601171\ttotal: 25.9s\tremaining: 3.73s\n",
      "874:\tlearn: 0.0600839\ttotal: 25.9s\tremaining: 3.7s\n",
      "875:\tlearn: 0.0600590\ttotal: 26s\tremaining: 3.67s\n",
      "876:\tlearn: 0.0600333\ttotal: 26s\tremaining: 3.65s\n",
      "877:\tlearn: 0.0600212\ttotal: 26s\tremaining: 3.62s\n",
      "878:\tlearn: 0.0599892\ttotal: 26s\tremaining: 3.58s\n",
      "879:\tlearn: 0.0599708\ttotal: 26.1s\tremaining: 3.56s\n",
      "880:\tlearn: 0.0599453\ttotal: 26.1s\tremaining: 3.52s\n",
      "881:\tlearn: 0.0599359\ttotal: 26.1s\tremaining: 3.5s\n",
      "882:\tlearn: 0.0599105\ttotal: 26.2s\tremaining: 3.47s\n",
      "883:\tlearn: 0.0598915\ttotal: 26.2s\tremaining: 3.44s\n",
      "884:\tlearn: 0.0598770\ttotal: 26.2s\tremaining: 3.41s\n",
      "885:\tlearn: 0.0598539\ttotal: 26.3s\tremaining: 3.38s\n",
      "886:\tlearn: 0.0598312\ttotal: 26.3s\tremaining: 3.35s\n",
      "887:\tlearn: 0.0598105\ttotal: 26.3s\tremaining: 3.32s\n",
      "888:\tlearn: 0.0597889\ttotal: 26.3s\tremaining: 3.29s\n",
      "889:\tlearn: 0.0597794\ttotal: 26.4s\tremaining: 3.26s\n",
      "890:\tlearn: 0.0597604\ttotal: 26.4s\tremaining: 3.23s\n",
      "891:\tlearn: 0.0597187\ttotal: 26.4s\tremaining: 3.2s\n",
      "892:\tlearn: 0.0597143\ttotal: 26.5s\tremaining: 3.17s\n",
      "893:\tlearn: 0.0597028\ttotal: 26.5s\tremaining: 3.14s\n",
      "894:\tlearn: 0.0596805\ttotal: 26.5s\tremaining: 3.11s\n",
      "895:\tlearn: 0.0596612\ttotal: 26.6s\tremaining: 3.08s\n",
      "896:\tlearn: 0.0596351\ttotal: 26.6s\tremaining: 3.05s\n",
      "897:\tlearn: 0.0596013\ttotal: 26.6s\tremaining: 3.02s\n",
      "898:\tlearn: 0.0595735\ttotal: 26.7s\tremaining: 3s\n",
      "899:\tlearn: 0.0595593\ttotal: 26.7s\tremaining: 2.96s\n",
      "900:\tlearn: 0.0595273\ttotal: 26.7s\tremaining: 2.94s\n",
      "901:\tlearn: 0.0595158\ttotal: 26.7s\tremaining: 2.91s\n",
      "902:\tlearn: 0.0594982\ttotal: 26.8s\tremaining: 2.88s\n",
      "903:\tlearn: 0.0594787\ttotal: 26.8s\tremaining: 2.85s\n",
      "904:\tlearn: 0.0594632\ttotal: 26.8s\tremaining: 2.82s\n",
      "905:\tlearn: 0.0594246\ttotal: 26.9s\tremaining: 2.79s\n",
      "906:\tlearn: 0.0593763\ttotal: 26.9s\tremaining: 2.76s\n",
      "907:\tlearn: 0.0593378\ttotal: 26.9s\tremaining: 2.73s\n",
      "908:\tlearn: 0.0593367\ttotal: 27s\tremaining: 2.7s\n",
      "909:\tlearn: 0.0593304\ttotal: 27s\tremaining: 2.67s\n",
      "910:\tlearn: 0.0593185\ttotal: 27s\tremaining: 2.64s\n",
      "911:\tlearn: 0.0593021\ttotal: 27s\tremaining: 2.61s\n",
      "912:\tlearn: 0.0592799\ttotal: 27.1s\tremaining: 2.58s\n",
      "913:\tlearn: 0.0592351\ttotal: 27.1s\tremaining: 2.55s\n",
      "914:\tlearn: 0.0592079\ttotal: 27.1s\tremaining: 2.52s\n",
      "915:\tlearn: 0.0591762\ttotal: 27.2s\tremaining: 2.49s\n",
      "916:\tlearn: 0.0591485\ttotal: 27.2s\tremaining: 2.46s\n",
      "917:\tlearn: 0.0591191\ttotal: 27.2s\tremaining: 2.43s\n",
      "918:\tlearn: 0.0590883\ttotal: 27.2s\tremaining: 2.4s\n",
      "919:\tlearn: 0.0590638\ttotal: 27.3s\tremaining: 2.37s\n",
      "920:\tlearn: 0.0590329\ttotal: 27.3s\tremaining: 2.34s\n",
      "921:\tlearn: 0.0589576\ttotal: 27.3s\tremaining: 2.31s\n",
      "922:\tlearn: 0.0589333\ttotal: 27.4s\tremaining: 2.28s\n",
      "923:\tlearn: 0.0589196\ttotal: 27.4s\tremaining: 2.25s\n",
      "924:\tlearn: 0.0588905\ttotal: 27.4s\tremaining: 2.22s\n",
      "925:\tlearn: 0.0588698\ttotal: 27.4s\tremaining: 2.19s\n",
      "926:\tlearn: 0.0588520\ttotal: 27.5s\tremaining: 2.16s\n",
      "927:\tlearn: 0.0588332\ttotal: 27.5s\tremaining: 2.13s\n",
      "928:\tlearn: 0.0588014\ttotal: 27.5s\tremaining: 2.1s\n",
      "929:\tlearn: 0.0587933\ttotal: 27.5s\tremaining: 2.07s\n",
      "930:\tlearn: 0.0587666\ttotal: 27.6s\tremaining: 2.04s\n",
      "931:\tlearn: 0.0587480\ttotal: 27.6s\tremaining: 2.01s\n",
      "932:\tlearn: 0.0587200\ttotal: 27.6s\tremaining: 1.99s\n",
      "933:\tlearn: 0.0586931\ttotal: 27.7s\tremaining: 1.96s\n",
      "934:\tlearn: 0.0586619\ttotal: 27.7s\tremaining: 1.93s\n",
      "935:\tlearn: 0.0586224\ttotal: 27.7s\tremaining: 1.9s\n",
      "936:\tlearn: 0.0585776\ttotal: 27.8s\tremaining: 1.87s\n",
      "937:\tlearn: 0.0585463\ttotal: 27.8s\tremaining: 1.84s\n",
      "938:\tlearn: 0.0585125\ttotal: 27.8s\tremaining: 1.81s\n",
      "939:\tlearn: 0.0584910\ttotal: 27.8s\tremaining: 1.78s\n",
      "940:\tlearn: 0.0584684\ttotal: 27.9s\tremaining: 1.75s\n",
      "941:\tlearn: 0.0584495\ttotal: 27.9s\tremaining: 1.72s\n",
      "942:\tlearn: 0.0584443\ttotal: 27.9s\tremaining: 1.69s\n",
      "943:\tlearn: 0.0584374\ttotal: 28s\tremaining: 1.66s\n",
      "944:\tlearn: 0.0584100\ttotal: 28s\tremaining: 1.63s\n",
      "945:\tlearn: 0.0583821\ttotal: 28s\tremaining: 1.6s\n",
      "946:\tlearn: 0.0583653\ttotal: 28s\tremaining: 1.57s\n",
      "947:\tlearn: 0.0583275\ttotal: 28.1s\tremaining: 1.54s\n",
      "948:\tlearn: 0.0583181\ttotal: 28.1s\tremaining: 1.51s\n",
      "949:\tlearn: 0.0582993\ttotal: 28.2s\tremaining: 1.48s\n",
      "950:\tlearn: 0.0582789\ttotal: 28.2s\tremaining: 1.45s\n",
      "951:\tlearn: 0.0582646\ttotal: 28.2s\tremaining: 1.42s\n",
      "952:\tlearn: 0.0582430\ttotal: 28.3s\tremaining: 1.39s\n",
      "953:\tlearn: 0.0582158\ttotal: 28.3s\tremaining: 1.36s\n",
      "954:\tlearn: 0.0581972\ttotal: 28.3s\tremaining: 1.33s\n",
      "955:\tlearn: 0.0581906\ttotal: 28.4s\tremaining: 1.3s\n",
      "956:\tlearn: 0.0581625\ttotal: 28.4s\tremaining: 1.27s\n",
      "957:\tlearn: 0.0581465\ttotal: 28.4s\tremaining: 1.25s\n",
      "958:\tlearn: 0.0581165\ttotal: 28.4s\tremaining: 1.22s\n",
      "959:\tlearn: 0.0581050\ttotal: 28.5s\tremaining: 1.19s\n",
      "960:\tlearn: 0.0580962\ttotal: 28.5s\tremaining: 1.16s\n",
      "961:\tlearn: 0.0580872\ttotal: 28.5s\tremaining: 1.13s\n",
      "962:\tlearn: 0.0580182\ttotal: 28.6s\tremaining: 1.1s\n",
      "963:\tlearn: 0.0579987\ttotal: 28.6s\tremaining: 1.07s\n",
      "964:\tlearn: 0.0579797\ttotal: 28.6s\tremaining: 1.04s\n",
      "965:\tlearn: 0.0579551\ttotal: 28.7s\tremaining: 1.01s\n",
      "966:\tlearn: 0.0579340\ttotal: 28.7s\tremaining: 979ms\n",
      "967:\tlearn: 0.0579111\ttotal: 28.7s\tremaining: 949ms\n",
      "968:\tlearn: 0.0578857\ttotal: 28.7s\tremaining: 920ms\n",
      "969:\tlearn: 0.0578677\ttotal: 28.8s\tremaining: 890ms\n",
      "970:\tlearn: 0.0578412\ttotal: 28.8s\tremaining: 860ms\n",
      "971:\tlearn: 0.0578344\ttotal: 28.8s\tremaining: 831ms\n",
      "972:\tlearn: 0.0578051\ttotal: 28.9s\tremaining: 801ms\n",
      "973:\tlearn: 0.0577881\ttotal: 28.9s\tremaining: 771ms\n",
      "974:\tlearn: 0.0577764\ttotal: 28.9s\tremaining: 741ms\n",
      "975:\tlearn: 0.0577717\ttotal: 28.9s\tremaining: 712ms\n",
      "976:\tlearn: 0.0577560\ttotal: 29s\tremaining: 682ms\n",
      "977:\tlearn: 0.0577428\ttotal: 29s\tremaining: 652ms\n",
      "978:\tlearn: 0.0577212\ttotal: 29s\tremaining: 623ms\n",
      "979:\tlearn: 0.0576884\ttotal: 29.1s\tremaining: 593ms\n",
      "980:\tlearn: 0.0576655\ttotal: 29.1s\tremaining: 564ms\n",
      "981:\tlearn: 0.0576513\ttotal: 29.1s\tremaining: 534ms\n",
      "982:\tlearn: 0.0576211\ttotal: 29.2s\tremaining: 504ms\n",
      "983:\tlearn: 0.0576022\ttotal: 29.2s\tremaining: 475ms\n",
      "984:\tlearn: 0.0575876\ttotal: 29.2s\tremaining: 445ms\n",
      "985:\tlearn: 0.0575862\ttotal: 29.3s\tremaining: 416ms\n",
      "986:\tlearn: 0.0575806\ttotal: 29.3s\tremaining: 386ms\n",
      "987:\tlearn: 0.0575491\ttotal: 29.4s\tremaining: 357ms\n",
      "988:\tlearn: 0.0575177\ttotal: 29.4s\tremaining: 327ms\n",
      "989:\tlearn: 0.0574953\ttotal: 29.4s\tremaining: 297ms\n",
      "990:\tlearn: 0.0574835\ttotal: 29.5s\tremaining: 268ms\n",
      "991:\tlearn: 0.0574610\ttotal: 29.5s\tremaining: 238ms\n",
      "992:\tlearn: 0.0574531\ttotal: 29.5s\tremaining: 208ms\n",
      "993:\tlearn: 0.0574340\ttotal: 29.6s\tremaining: 178ms\n",
      "994:\tlearn: 0.0574075\ttotal: 29.6s\tremaining: 149ms\n",
      "995:\tlearn: 0.0573903\ttotal: 29.6s\tremaining: 119ms\n",
      "996:\tlearn: 0.0573620\ttotal: 29.7s\tremaining: 89.2ms\n",
      "997:\tlearn: 0.0573341\ttotal: 29.7s\tremaining: 59.5ms\n",
      "998:\tlearn: 0.0573131\ttotal: 29.7s\tremaining: 29.8ms\n",
      "999:\tlearn: 0.0573084\ttotal: 29.8s\tremaining: 0us\n",
      "F1 train score  = : 0.9744\n",
      "F1 test score  = : 0.9602\n"
     ]
    }
   ],
   "source": [
    "cat_b = catboost.CatBoostClassifier(random_state=26)\n",
    "\n",
    "cat_b.fit(X_train, y_train)\n",
    "\n",
    "y_train_pred = cat_b.predict(X_train)\n",
    "y_test_pred = cat_b.predict(X_test)\n",
    "\n",
    "print(f'F1 train score  = : {metrics.f1_score(y_train, y_train_pred):.4f}')\n",
    "print(f'F1 test score  = : {metrics.f1_score(y_test, y_test_pred):.4f}')"
   ]
  },
  {
   "cell_type": "markdown",
   "metadata": {},
   "source": [
    "Задание 6.12\n",
    "4 points possible (graded)\n",
    "Выведите матрицу ошибок для алгоритма, который получил наилучшие показатели качества модели на обучающей выборке (будем считать, что оцениваем по f1_score). Матрица ошибок выводится в следующем формате:\n",
    "\n",
    "Матрица ошибок\n",
    "Значения в матрице ошибок переведите в проценты от общего числа наблюдений в обучающей выборке и округлите до целых.\n",
    "\n",
    "Подсказка. Для того чтобы построить матрицу ошибок в CatBoost, необходимо использовать следующий шаблон:\n",
    "\n",
    "get_confusion_matrix(модель, Pool(признаки обучающей выборки, целевая переменная обучающей выборки))\n",
    "\n",
    "Более подробно построение матрицы ошибок можно изучить в документации.\n",
    "\n",
    "Заполните соответствующие значения (в процентах от общего числа наблюдений в обучающей выборке, округленных до целого):"
   ]
  },
  {
   "cell_type": "code",
   "execution_count": 65,
   "metadata": {},
   "outputs": [
    {
     "data": {
      "text/plain": [
       "array([[0.56134884, 0.00655655],\n",
       "       [0.01532668, 0.41676792]])"
      ]
     },
     "execution_count": 65,
     "metadata": {},
     "output_type": "execute_result"
    }
   ],
   "source": [
    "cm = get_confusion_matrix(cat_b, catboost.Pool(X_train, y_train))\n",
    "cm/X_train.shape[0]"
   ]
  },
  {
   "cell_type": "markdown",
   "metadata": {},
   "source": [
    "Задание 6.13\n",
    "1 point possible (graded)\n",
    "Оцените важность признаков для модели из предыдущего задания. Отметьте признак, который оказывает наибольшее влияние на значение целевой переменной:"
   ]
  },
  {
   "cell_type": "code",
   "execution_count": 66,
   "metadata": {},
   "outputs": [
    {
     "data": {
      "text/plain": [
       "([0,\n",
       "  1,\n",
       "  2,\n",
       "  3,\n",
       "  4,\n",
       "  5,\n",
       "  6,\n",
       "  7,\n",
       "  8,\n",
       "  9,\n",
       "  10,\n",
       "  11,\n",
       "  12,\n",
       "  13,\n",
       "  14,\n",
       "  15,\n",
       "  16,\n",
       "  17,\n",
       "  18,\n",
       "  19,\n",
       "  20,\n",
       "  21,\n",
       "  22,\n",
       "  23,\n",
       "  24],\n",
       " [Text(0, 0, 'id'),\n",
       "  Text(1, 0, 'Gender'),\n",
       "  Text(2, 0, 'Customer Type'),\n",
       "  Text(3, 0, 'Age'),\n",
       "  Text(4, 0, 'Type of Travel'),\n",
       "  Text(5, 0, 'Flight Distance'),\n",
       "  Text(6, 0, 'Inflight wifi service'),\n",
       "  Text(7, 0, 'Departure/Arrival time convenient'),\n",
       "  Text(8, 0, 'Ease of Online booking'),\n",
       "  Text(9, 0, 'Gate location'),\n",
       "  Text(10, 0, 'Food and drink'),\n",
       "  Text(11, 0, 'Online boarding'),\n",
       "  Text(12, 0, 'Seat comfort'),\n",
       "  Text(13, 0, 'Inflight entertainment'),\n",
       "  Text(14, 0, 'On-board service'),\n",
       "  Text(15, 0, 'Leg room service'),\n",
       "  Text(16, 0, 'Baggage handling'),\n",
       "  Text(17, 0, 'Checkin service'),\n",
       "  Text(18, 0, 'Inflight service'),\n",
       "  Text(19, 0, 'Cleanliness'),\n",
       "  Text(20, 0, 'Departure Delay in Minutes'),\n",
       "  Text(21, 0, 'Arrival Delay in Minutes'),\n",
       "  Text(22, 0, 'Class_Business'),\n",
       "  Text(23, 0, 'Class_Eco'),\n",
       "  Text(24, 0, 'Class_Eco Plus')])"
      ]
     },
     "execution_count": 66,
     "metadata": {},
     "output_type": "execute_result"
    },
    {
     "data": {
      "image/png": "[encoded data removed]",
      "text/plain": [
       "<Figure size 640x480 with 1 Axes>"
      ]
     },
     "metadata": {},
     "output_type": "display_data"
    }
   ],
   "source": [
    "sns.barplot(\n",
    "    y = cat_b.feature_importances_,\n",
    "    x = X.columns)\n",
    "\n",
    "plt.xticks(rotation=90)"
   ]
  },
  {
   "cell_type": "markdown",
   "metadata": {},
   "source": [
    "7. Стекинг"
   ]
  },
  {
   "cell_type": "markdown",
   "metadata": {},
   "source": [
    "Задание 7.5\n",
    "1 point possible (graded)\n",
    "Для начала обучите на наших данных случайный лес с десятью решающими деревьями. Воспользуйтесь параметрами по умолчанию. В качестве значения random_state возьмите число 42.\n",
    "\n",
    "Оцените значение -меры и введите его в качестве ответа, предварительно округлив до двух знаков после точки-разделителя."
   ]
  },
  {
   "cell_type": "code",
   "execution_count": 75,
   "metadata": {},
   "outputs": [
    {
     "data": {
      "text/html": [
       "<div>\n",
       "<style scoped>\n",
       "    .dataframe tbody tr th:only-of-type {\n",
       "        vertical-align: middle;\n",
       "    }\n",
       "\n",
       "    .dataframe tbody tr th {\n",
       "        vertical-align: top;\n",
       "    }\n",
       "\n",
       "    .dataframe thead th {\n",
       "        text-align: right;\n",
       "    }\n",
       "</style>\n",
       "<table border=\"1\" class=\"dataframe\">\n",
       "  <thead>\n",
       "    <tr style=\"text-align: right;\">\n",
       "      <th></th>\n",
       "      <th>MFCCs_ 1</th>\n",
       "      <th>MFCCs_ 2</th>\n",
       "      <th>MFCCs_ 3</th>\n",
       "      <th>MFCCs_ 4</th>\n",
       "      <th>MFCCs_ 5</th>\n",
       "      <th>MFCCs_ 6</th>\n",
       "      <th>MFCCs_ 7</th>\n",
       "      <th>MFCCs_ 8</th>\n",
       "      <th>MFCCs_ 9</th>\n",
       "      <th>MFCCs_10</th>\n",
       "      <th>...</th>\n",
       "      <th>MFCCs_17</th>\n",
       "      <th>MFCCs_18</th>\n",
       "      <th>MFCCs_19</th>\n",
       "      <th>MFCCs_20</th>\n",
       "      <th>MFCCs_21</th>\n",
       "      <th>MFCCs_22</th>\n",
       "      <th>Family</th>\n",
       "      <th>Genus</th>\n",
       "      <th>Species</th>\n",
       "      <th>RecordID</th>\n",
       "    </tr>\n",
       "  </thead>\n",
       "  <tbody>\n",
       "    <tr>\n",
       "      <th>0</th>\n",
       "      <td>1.0</td>\n",
       "      <td>0.152936</td>\n",
       "      <td>-0.105586</td>\n",
       "      <td>0.200722</td>\n",
       "      <td>0.317201</td>\n",
       "      <td>0.260764</td>\n",
       "      <td>0.100945</td>\n",
       "      <td>-0.150063</td>\n",
       "      <td>-0.171128</td>\n",
       "      <td>0.124676</td>\n",
       "      <td>...</td>\n",
       "      <td>-0.108351</td>\n",
       "      <td>-0.077623</td>\n",
       "      <td>-0.009568</td>\n",
       "      <td>0.057684</td>\n",
       "      <td>0.118680</td>\n",
       "      <td>0.014038</td>\n",
       "      <td>Leptodactylidae</td>\n",
       "      <td>Adenomera</td>\n",
       "      <td>AdenomeraAndre</td>\n",
       "      <td>1</td>\n",
       "    </tr>\n",
       "    <tr>\n",
       "      <th>1</th>\n",
       "      <td>1.0</td>\n",
       "      <td>0.171534</td>\n",
       "      <td>-0.098975</td>\n",
       "      <td>0.268425</td>\n",
       "      <td>0.338672</td>\n",
       "      <td>0.268353</td>\n",
       "      <td>0.060835</td>\n",
       "      <td>-0.222475</td>\n",
       "      <td>-0.207693</td>\n",
       "      <td>0.170883</td>\n",
       "      <td>...</td>\n",
       "      <td>-0.090974</td>\n",
       "      <td>-0.056510</td>\n",
       "      <td>-0.035303</td>\n",
       "      <td>0.020140</td>\n",
       "      <td>0.082263</td>\n",
       "      <td>0.029056</td>\n",
       "      <td>Leptodactylidae</td>\n",
       "      <td>Adenomera</td>\n",
       "      <td>AdenomeraAndre</td>\n",
       "      <td>1</td>\n",
       "    </tr>\n",
       "    <tr>\n",
       "      <th>2</th>\n",
       "      <td>1.0</td>\n",
       "      <td>0.152317</td>\n",
       "      <td>-0.082973</td>\n",
       "      <td>0.287128</td>\n",
       "      <td>0.276014</td>\n",
       "      <td>0.189867</td>\n",
       "      <td>0.008714</td>\n",
       "      <td>-0.242234</td>\n",
       "      <td>-0.219153</td>\n",
       "      <td>0.232538</td>\n",
       "      <td>...</td>\n",
       "      <td>-0.050691</td>\n",
       "      <td>-0.023590</td>\n",
       "      <td>-0.066722</td>\n",
       "      <td>-0.025083</td>\n",
       "      <td>0.099108</td>\n",
       "      <td>0.077162</td>\n",
       "      <td>Leptodactylidae</td>\n",
       "      <td>Adenomera</td>\n",
       "      <td>AdenomeraAndre</td>\n",
       "      <td>1</td>\n",
       "    </tr>\n",
       "    <tr>\n",
       "      <th>3</th>\n",
       "      <td>1.0</td>\n",
       "      <td>0.224392</td>\n",
       "      <td>0.118985</td>\n",
       "      <td>0.329432</td>\n",
       "      <td>0.372088</td>\n",
       "      <td>0.361005</td>\n",
       "      <td>0.015501</td>\n",
       "      <td>-0.194347</td>\n",
       "      <td>-0.098181</td>\n",
       "      <td>0.270375</td>\n",
       "      <td>...</td>\n",
       "      <td>-0.136009</td>\n",
       "      <td>-0.177037</td>\n",
       "      <td>-0.130498</td>\n",
       "      <td>-0.054766</td>\n",
       "      <td>-0.018691</td>\n",
       "      <td>0.023954</td>\n",
       "      <td>Leptodactylidae</td>\n",
       "      <td>Adenomera</td>\n",
       "      <td>AdenomeraAndre</td>\n",
       "      <td>1</td>\n",
       "    </tr>\n",
       "    <tr>\n",
       "      <th>4</th>\n",
       "      <td>1.0</td>\n",
       "      <td>0.087817</td>\n",
       "      <td>-0.068345</td>\n",
       "      <td>0.306967</td>\n",
       "      <td>0.330923</td>\n",
       "      <td>0.249144</td>\n",
       "      <td>0.006884</td>\n",
       "      <td>-0.265423</td>\n",
       "      <td>-0.172700</td>\n",
       "      <td>0.266434</td>\n",
       "      <td>...</td>\n",
       "      <td>-0.048885</td>\n",
       "      <td>-0.053074</td>\n",
       "      <td>-0.088550</td>\n",
       "      <td>-0.031346</td>\n",
       "      <td>0.108610</td>\n",
       "      <td>0.079244</td>\n",
       "      <td>Leptodactylidae</td>\n",
       "      <td>Adenomera</td>\n",
       "      <td>AdenomeraAndre</td>\n",
       "      <td>1</td>\n",
       "    </tr>\n",
       "  </tbody>\n",
       "</table>\n",
       "<p>5 rows × 26 columns</p>\n",
       "</div>"
      ],
      "text/plain": [
       "   MFCCs_ 1  MFCCs_ 2  MFCCs_ 3  MFCCs_ 4  MFCCs_ 5  MFCCs_ 6  MFCCs_ 7  \\\n",
       "0       1.0  0.152936 -0.105586  0.200722  0.317201  0.260764  0.100945   \n",
       "1       1.0  0.171534 -0.098975  0.268425  0.338672  0.268353  0.060835   \n",
       "2       1.0  0.152317 -0.082973  0.287128  0.276014  0.189867  0.008714   \n",
       "3       1.0  0.224392  0.118985  0.329432  0.372088  0.361005  0.015501   \n",
       "4       1.0  0.087817 -0.068345  0.306967  0.330923  0.249144  0.006884   \n",
       "\n",
       "   MFCCs_ 8  MFCCs_ 9  MFCCs_10  ...  MFCCs_17  MFCCs_18  MFCCs_19  MFCCs_20  \\\n",
       "0 -0.150063 -0.171128  0.124676  ... -0.108351 -0.077623 -0.009568  0.057684   \n",
       "1 -0.222475 -0.207693  0.170883  ... -0.090974 -0.056510 -0.035303  0.020140   \n",
       "2 -0.242234 -0.219153  0.232538  ... -0.050691 -0.023590 -0.066722 -0.025083   \n",
       "3 -0.194347 -0.098181  0.270375  ... -0.136009 -0.177037 -0.130498 -0.054766   \n",
       "4 -0.265423 -0.172700  0.266434  ... -0.048885 -0.053074 -0.088550 -0.031346   \n",
       "\n",
       "   MFCCs_21  MFCCs_22           Family      Genus         Species  RecordID  \n",
       "0  0.118680  0.014038  Leptodactylidae  Adenomera  AdenomeraAndre         1  \n",
       "1  0.082263  0.029056  Leptodactylidae  Adenomera  AdenomeraAndre         1  \n",
       "2  0.099108  0.077162  Leptodactylidae  Adenomera  AdenomeraAndre         1  \n",
       "3 -0.018691  0.023954  Leptodactylidae  Adenomera  AdenomeraAndre         1  \n",
       "4  0.108610  0.079244  Leptodactylidae  Adenomera  AdenomeraAndre         1  \n",
       "\n",
       "[5 rows x 26 columns]"
      ]
     },
     "execution_count": 75,
     "metadata": {},
     "output_type": "execute_result"
    }
   ],
   "source": [
    "data = pd.read_csv('data/Frogs_MFCCs.zip')\n",
    "data.head()"
   ]
  },
  {
   "cell_type": "code",
   "execution_count": 76,
   "metadata": {},
   "outputs": [],
   "source": [
    "data['Family'] = data['Family'].apply(lambda x: 1 if x == 'Dendrobatidae' else 0)"
   ]
  },
  {
   "cell_type": "code",
   "execution_count": 77,
   "metadata": {},
   "outputs": [
    {
     "data": {
      "text/html": [
       "<div>\n",
       "<style scoped>\n",
       "    .dataframe tbody tr th:only-of-type {\n",
       "        vertical-align: middle;\n",
       "    }\n",
       "\n",
       "    .dataframe tbody tr th {\n",
       "        vertical-align: top;\n",
       "    }\n",
       "\n",
       "    .dataframe thead th {\n",
       "        text-align: right;\n",
       "    }\n",
       "</style>\n",
       "<table border=\"1\" class=\"dataframe\">\n",
       "  <thead>\n",
       "    <tr style=\"text-align: right;\">\n",
       "      <th></th>\n",
       "      <th>MFCCs_ 1</th>\n",
       "      <th>MFCCs_ 2</th>\n",
       "      <th>MFCCs_ 3</th>\n",
       "      <th>MFCCs_ 4</th>\n",
       "      <th>MFCCs_ 5</th>\n",
       "      <th>MFCCs_ 6</th>\n",
       "      <th>MFCCs_ 7</th>\n",
       "      <th>MFCCs_ 8</th>\n",
       "      <th>MFCCs_ 9</th>\n",
       "      <th>MFCCs_10</th>\n",
       "      <th>...</th>\n",
       "      <th>MFCCs_14</th>\n",
       "      <th>MFCCs_15</th>\n",
       "      <th>MFCCs_16</th>\n",
       "      <th>MFCCs_17</th>\n",
       "      <th>MFCCs_18</th>\n",
       "      <th>MFCCs_19</th>\n",
       "      <th>MFCCs_20</th>\n",
       "      <th>MFCCs_21</th>\n",
       "      <th>MFCCs_22</th>\n",
       "      <th>Family</th>\n",
       "    </tr>\n",
       "  </thead>\n",
       "  <tbody>\n",
       "    <tr>\n",
       "      <th>0</th>\n",
       "      <td>1.0</td>\n",
       "      <td>0.152936</td>\n",
       "      <td>-0.105586</td>\n",
       "      <td>0.200722</td>\n",
       "      <td>0.317201</td>\n",
       "      <td>0.260764</td>\n",
       "      <td>0.100945</td>\n",
       "      <td>-0.150063</td>\n",
       "      <td>-0.171128</td>\n",
       "      <td>0.124676</td>\n",
       "      <td>...</td>\n",
       "      <td>0.082245</td>\n",
       "      <td>0.135752</td>\n",
       "      <td>-0.024017</td>\n",
       "      <td>-0.108351</td>\n",
       "      <td>-0.077623</td>\n",
       "      <td>-0.009568</td>\n",
       "      <td>0.057684</td>\n",
       "      <td>0.118680</td>\n",
       "      <td>0.014038</td>\n",
       "      <td>0</td>\n",
       "    </tr>\n",
       "    <tr>\n",
       "      <th>1</th>\n",
       "      <td>1.0</td>\n",
       "      <td>0.171534</td>\n",
       "      <td>-0.098975</td>\n",
       "      <td>0.268425</td>\n",
       "      <td>0.338672</td>\n",
       "      <td>0.268353</td>\n",
       "      <td>0.060835</td>\n",
       "      <td>-0.222475</td>\n",
       "      <td>-0.207693</td>\n",
       "      <td>0.170883</td>\n",
       "      <td>...</td>\n",
       "      <td>0.022786</td>\n",
       "      <td>0.163320</td>\n",
       "      <td>0.012022</td>\n",
       "      <td>-0.090974</td>\n",
       "      <td>-0.056510</td>\n",
       "      <td>-0.035303</td>\n",
       "      <td>0.020140</td>\n",
       "      <td>0.082263</td>\n",
       "      <td>0.029056</td>\n",
       "      <td>0</td>\n",
       "    </tr>\n",
       "    <tr>\n",
       "      <th>2</th>\n",
       "      <td>1.0</td>\n",
       "      <td>0.152317</td>\n",
       "      <td>-0.082973</td>\n",
       "      <td>0.287128</td>\n",
       "      <td>0.276014</td>\n",
       "      <td>0.189867</td>\n",
       "      <td>0.008714</td>\n",
       "      <td>-0.242234</td>\n",
       "      <td>-0.219153</td>\n",
       "      <td>0.232538</td>\n",
       "      <td>...</td>\n",
       "      <td>0.050791</td>\n",
       "      <td>0.207338</td>\n",
       "      <td>0.083536</td>\n",
       "      <td>-0.050691</td>\n",
       "      <td>-0.023590</td>\n",
       "      <td>-0.066722</td>\n",
       "      <td>-0.025083</td>\n",
       "      <td>0.099108</td>\n",
       "      <td>0.077162</td>\n",
       "      <td>0</td>\n",
       "    </tr>\n",
       "    <tr>\n",
       "      <th>3</th>\n",
       "      <td>1.0</td>\n",
       "      <td>0.224392</td>\n",
       "      <td>0.118985</td>\n",
       "      <td>0.329432</td>\n",
       "      <td>0.372088</td>\n",
       "      <td>0.361005</td>\n",
       "      <td>0.015501</td>\n",
       "      <td>-0.194347</td>\n",
       "      <td>-0.098181</td>\n",
       "      <td>0.270375</td>\n",
       "      <td>...</td>\n",
       "      <td>-0.011567</td>\n",
       "      <td>0.100413</td>\n",
       "      <td>-0.050224</td>\n",
       "      <td>-0.136009</td>\n",
       "      <td>-0.177037</td>\n",
       "      <td>-0.130498</td>\n",
       "      <td>-0.054766</td>\n",
       "      <td>-0.018691</td>\n",
       "      <td>0.023954</td>\n",
       "      <td>0</td>\n",
       "    </tr>\n",
       "    <tr>\n",
       "      <th>4</th>\n",
       "      <td>1.0</td>\n",
       "      <td>0.087817</td>\n",
       "      <td>-0.068345</td>\n",
       "      <td>0.306967</td>\n",
       "      <td>0.330923</td>\n",
       "      <td>0.249144</td>\n",
       "      <td>0.006884</td>\n",
       "      <td>-0.265423</td>\n",
       "      <td>-0.172700</td>\n",
       "      <td>0.266434</td>\n",
       "      <td>...</td>\n",
       "      <td>0.037439</td>\n",
       "      <td>0.219153</td>\n",
       "      <td>0.062837</td>\n",
       "      <td>-0.048885</td>\n",
       "      <td>-0.053074</td>\n",
       "      <td>-0.088550</td>\n",
       "      <td>-0.031346</td>\n",
       "      <td>0.108610</td>\n",
       "      <td>0.079244</td>\n",
       "      <td>0</td>\n",
       "    </tr>\n",
       "  </tbody>\n",
       "</table>\n",
       "<p>5 rows × 23 columns</p>\n",
       "</div>"
      ],
      "text/plain": [
       "   MFCCs_ 1  MFCCs_ 2  MFCCs_ 3  MFCCs_ 4  MFCCs_ 5  MFCCs_ 6  MFCCs_ 7  \\\n",
       "0       1.0  0.152936 -0.105586  0.200722  0.317201  0.260764  0.100945   \n",
       "1       1.0  0.171534 -0.098975  0.268425  0.338672  0.268353  0.060835   \n",
       "2       1.0  0.152317 -0.082973  0.287128  0.276014  0.189867  0.008714   \n",
       "3       1.0  0.224392  0.118985  0.329432  0.372088  0.361005  0.015501   \n",
       "4       1.0  0.087817 -0.068345  0.306967  0.330923  0.249144  0.006884   \n",
       "\n",
       "   MFCCs_ 8  MFCCs_ 9  MFCCs_10  ...  MFCCs_14  MFCCs_15  MFCCs_16  MFCCs_17  \\\n",
       "0 -0.150063 -0.171128  0.124676  ...  0.082245  0.135752 -0.024017 -0.108351   \n",
       "1 -0.222475 -0.207693  0.170883  ...  0.022786  0.163320  0.012022 -0.090974   \n",
       "2 -0.242234 -0.219153  0.232538  ...  0.050791  0.207338  0.083536 -0.050691   \n",
       "3 -0.194347 -0.098181  0.270375  ... -0.011567  0.100413 -0.050224 -0.136009   \n",
       "4 -0.265423 -0.172700  0.266434  ...  0.037439  0.219153  0.062837 -0.048885   \n",
       "\n",
       "   MFCCs_18  MFCCs_19  MFCCs_20  MFCCs_21  MFCCs_22  Family  \n",
       "0 -0.077623 -0.009568  0.057684  0.118680  0.014038       0  \n",
       "1 -0.056510 -0.035303  0.020140  0.082263  0.029056       0  \n",
       "2 -0.023590 -0.066722 -0.025083  0.099108  0.077162       0  \n",
       "3 -0.177037 -0.130498 -0.054766 -0.018691  0.023954       0  \n",
       "4 -0.053074 -0.088550 -0.031346  0.108610  0.079244       0  \n",
       "\n",
       "[5 rows x 23 columns]"
      ]
     },
     "execution_count": 77,
     "metadata": {},
     "output_type": "execute_result"
    }
   ],
   "source": [
    "data = data.drop([ 'Genus', 'Species', 'RecordID'], axis=1)\n",
    "data.head()"
   ]
  },
  {
   "cell_type": "code",
   "execution_count": 78,
   "metadata": {},
   "outputs": [],
   "source": [
    "X = data.drop('Family', axis=1)\n",
    "y = data['Family']\n",
    "\n",
    "X_train, X_test, y_train, y_test = train_test_split(X, y, random_state = 31, test_size = 0.2)"
   ]
  },
  {
   "cell_type": "code",
   "execution_count": 79,
   "metadata": {},
   "outputs": [
    {
     "name": "stdout",
     "output_type": "stream",
     "text": [
      "F1 train = 0.9988826815642458\n",
      "F1 test = 0.9726775956284153\n"
     ]
    }
   ],
   "source": [
    "rand_for = ensemble.RandomForestClassifier(n_estimators=10, random_state=42)\n",
    "\n",
    "rand_for.fit(X_train, y_train)\n",
    "\n",
    "y_train_pred = rand_for.predict(X_train)\n",
    "y_test_pred = rand_for.predict(X_test)\n",
    "\n",
    "print(f'F1 train = {metrics.f1_score(y_train, y_train_pred)}')\n",
    "print(f'F1 test = {metrics.f1_score(y_test, y_test_pred)}')"
   ]
  },
  {
   "cell_type": "markdown",
   "metadata": {},
   "source": [
    "Теперь попробуем улучшить качество нашего предсказания за счёт использования стекинга.\n",
    "\n",
    "В качестве базовых моделей выберите следующие:\n",
    "\n",
    "случайный лес с десятью деревьями, random_state = 31;\n",
    "KNN, количество соседей = 11;\n",
    "наивный байесовский классификатор с параметрами по умолчанию, в качестве метода возьмите GaussianNB().\n",
    "В качестве метамодели выберите логистическую регрессию.\n",
    "\n",
    "Обучите модели и сделайте предсказание целевой метки для тестового набора данных.\n",
    "\n",
    "Рассчитайте -меру для тестового набора данных и введите её в качестве ответа, предварительно округлив до двух знаков после точки-разделителя."
   ]
  },
  {
   "cell_type": "code",
   "execution_count": 84,
   "metadata": {},
   "outputs": [
    {
     "name": "stdout",
     "output_type": "stream",
     "text": [
      "F1 train = 0.9988851727982163\n",
      "F1 test = 0.989247311827957\n"
     ]
    }
   ],
   "source": [
    "rand_for = ensemble.RandomForestClassifier(n_estimators=10, random_state=31)\n",
    "knn = neighbors.KNeighborsClassifier(n_neighbors=11)\n",
    "bayes = naive_bayes.GaussianNB()\n",
    "\n",
    "stack = ensemble.StackingClassifier(estimators=[('rf', rand_for), ('knn', knn), ('bayes', bayes)], final_estimator=linear_model.LogisticRegression())\n",
    "\n",
    "stack.fit(X_train, y_train)\n",
    "\n",
    "y_train_pred = stack.predict(X_train)\n",
    "y_test_pred = stack.predict(X_test)\n",
    "\n",
    "print(f'F1 train = {metrics.f1_score(y_train, y_train_pred)}')\n",
    "print(f'F1 test = {metrics.f1_score(y_test, y_test_pred)}')"
   ]
  }
 ],
 "metadata": {
  "kernelspec": {
   "display_name": ".venv",
   "language": "python",
   "name": "python3"
  },
  "language_info": {
   "codemirror_mode": {
    "name": "ipython",
    "version": 3
   },
   "file_extension": ".py",
   "mimetype": "text/x-python",
   "name": "python",
   "nbconvert_exporter": "python",
   "pygments_lexer": "ipython3",
   "version": "3.11.7"
  }
 },
 "nbformat": 4,
 "nbformat_minor": 2
}
