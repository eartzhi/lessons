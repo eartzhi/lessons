{
 "cells": [
  {
   "cell_type": "markdown",
   "metadata": {},
   "source": [
    "4. K-Means и EM-алгоритм: практика"
   ]
  },
  {
   "cell_type": "code",
   "execution_count": 65,
   "metadata": {},
   "outputs": [],
   "source": [
    "import numpy as np\n",
    "import pandas as pd\n",
    "import seaborn as sns\n",
    "import matplotlib.pyplot as plt\n",
    "\n",
    "from sklearn import preprocessing\n",
    "from sklearn import cluster\n",
    "from sklearn import metrics\n",
    "from sklearn import mixture\n",
    "\n",
    "from sklearn.model_selection import GridSearchCV"
   ]
  },
  {
   "cell_type": "markdown",
   "metadata": {},
   "source": [
    "Задание 4.1\n",
    "2 points possible (graded)\n",
    "Мы будем реализовывать алгоритм только на признаках, которые заключают в себе ключевые слова, встречающиеся в сообщениях подростка. Удалите все остальные признаки. Какова размерность вашего текущего набора данных?"
   ]
  },
  {
   "cell_type": "code",
   "execution_count": 19,
   "metadata": {},
   "outputs": [
    {
     "name": "stdout",
     "output_type": "stream",
     "text": [
      "Columns count - 36\n",
      "Rows count - 30000\n"
     ]
    }
   ],
   "source": [
    "data = pd.read_csv('data/snsdata.zip')\n",
    "data = data.drop(['gradyear', 'gender', 'age', 'friends'], axis=1) \n",
    "print(f'Columns count - {data.shape[1]}')\n",
    "print(f'Rows count - {data.shape[0]}')"
   ]
  },
  {
   "cell_type": "markdown",
   "metadata": {},
   "source": [
    "Задание 4.2\n",
    "1 point possible (graded)\n",
    "Теперь нормализуйте данные с помощью StandardScaler(). Для получившейся матрицы нормализованных признаков выведите самое первое значение в самой первой строке (X_norm[0][0]). Ответ округлите до двух знаков после точки-разделителя."
   ]
  },
  {
   "cell_type": "code",
   "execution_count": 20,
   "metadata": {},
   "outputs": [
    {
     "name": "stdout",
     "output_type": "stream",
     "text": [
      "Zero element is - -0.3322172643985876\n"
     ]
    }
   ],
   "source": [
    "s_sc = preprocessing.StandardScaler()\n",
    "X = data.values\n",
    "scaled_data = s_sc.fit_transform(X)\n",
    "print(f'Zero element is - {scaled_data[0][0]}')"
   ]
  },
  {
   "cell_type": "markdown",
   "metadata": {},
   "source": [
    "Задание 4.3\n",
    "1 point possible (graded)\n",
    "Реализуйте алгоритм k-means c девятью кластерами. В качестве значения параметра random_state возьмите число 42. Выведите получившееся значение инерции (model.inertia_). Ответ округлите до двух знаков после точки-разделителя."
   ]
  },
  {
   "cell_type": "code",
   "execution_count": 21,
   "metadata": {},
   "outputs": [
    {
     "name": "stdout",
     "output_type": "stream",
     "text": [
      "Inertia is - 856276.696246784\n"
     ]
    }
   ],
   "source": [
    "k_m = cluster.KMeans(n_clusters=9, random_state=42)\n",
    "\n",
    "k_m.fit(scaled_data)\n",
    "\n",
    "print(f'Inertia is - {k_m.inertia_}')"
   ]
  },
  {
   "cell_type": "markdown",
   "metadata": {},
   "source": [
    "Задание 4.4\n",
    "2 points possible (graded)\n",
    "Сколько подростков относится к наиболее многочисленному кластеру?"
   ]
  },
  {
   "cell_type": "code",
   "execution_count": 22,
   "metadata": {},
   "outputs": [
    {
     "name": "stdout",
     "output_type": "stream",
     "text": [
      "0 count is 2201\n",
      "1 count is 19599\n",
      "2 count is 4284\n",
      "3 count is 902\n",
      "4 count is 941\n",
      "5 count is 851\n",
      "6 count is 1\n",
      "7 count is 467\n",
      "8 count is 754\n"
     ]
    }
   ],
   "source": [
    "y = k_m.predict(scaled_data)\n",
    "\n",
    "for elem in set(y):\n",
    "    print(f'{elem} count is {list(y).count(elem)}')"
   ]
  },
  {
   "cell_type": "code",
   "execution_count": 23,
   "metadata": {},
   "outputs": [
    {
     "data": {
      "text/plain": [
       "label\n",
       "1    19599\n",
       "2     4284\n",
       "0     2201\n",
       "4      941\n",
       "3      902\n",
       "5      851\n",
       "8      754\n",
       "7      467\n",
       "6        1\n",
       "Name: count, dtype: int64"
      ]
     },
     "execution_count": 23,
     "metadata": {},
     "output_type": "execute_result"
    }
   ],
   "source": [
    "data.loc[:, 'label'] = k_m.labels_\n",
    "data.label.value_counts()"
   ]
  },
  {
   "cell_type": "markdown",
   "metadata": {},
   "source": [
    "Задание 4.5\n",
    "2 points possible (graded)\n",
    "1. Мы выделили девять кластеров, но, возможно, это далеко не оптимальное количество. Давайте попробуем применить разные методы для нахождения числа кластеров. Будем выбирать количество кластеров из диапазона от 3 до 9.\n",
    "\n",
    "Для начала примените метод локтя. Каким в этом случае будет оптимальное число кластеров? Если оно не идентифицируется однозначно, запишите количество кластеров, при котором достигается наименьшая инерция.\n",
    "\n",
    "  нет ответа \n",
    " \n",
    "2. Теперь попробуйте подобрать оптимальное количество кластеров с помощью коэффициента силуэта. Каким оно будет?\n",
    "\n",
    "Если невозможно однозначно определить количество кластеров, при котором достигается максимальное значение коэффициента силуэта, выберите наименьшее количество кластеров из подходящих.\n",
    "\n",
    "Внимание: программа может выполняться несколько минут — будьте готовы подождать."
   ]
  },
  {
   "cell_type": "code",
   "execution_count": 24,
   "metadata": {},
   "outputs": [],
   "source": [
    "inert_list = []\n",
    "for i  in range(3, 10):\n",
    "    k_m = cluster.KMeans(n_clusters=i, random_state=42)\n",
    "    k_m.fit(scaled_data)\n",
    "    inert_list.append(k_m.inertia_)"
   ]
  },
  {
   "cell_type": "code",
   "execution_count": 25,
   "metadata": {},
   "outputs": [
    {
     "data": {
      "text/plain": [
       "<Axes: >"
      ]
     },
     "execution_count": 25,
     "metadata": {},
     "output_type": "execute_result"
    },
    {
     "data": {
      "image/png": "[encoded data removed]",
      "text/plain": [
       "<Figure size 640x480 with 1 Axes>"
      ]
     },
     "metadata": {},
     "output_type": "display_data"
    }
   ],
   "source": [
    "sns.lineplot(\n",
    "    y= inert_list, \n",
    "    x= range(3, 10))"
   ]
  },
  {
   "cell_type": "code",
   "execution_count": 70,
   "metadata": {},
   "outputs": [],
   "source": [
    "def get_silhouette(cluster_num, X):\n",
    "    k_means =  cluster.KMeans(n_clusters=cluster_num, random_state=42)\n",
    "    k_means.fit(X)\n",
    "# подсчитаем метрику силуэта, передав данные и то, к каким кластерам относятся объекты\n",
    "    silhouette = metrics.silhouette_score(X, k_means.labels_, metric='euclidean')\n",
    "    return silhouette\n",
    "\n",
    "silhouette = []\n",
    "for clust_num in range(3, 10):\n",
    "    silhouette.append(get_silhouette(clust_num, scaled_data))"
   ]
  },
  {
   "cell_type": "code",
   "execution_count": 27,
   "metadata": {},
   "outputs": [
    {
     "data": {
      "text/plain": [
       "<Axes: >"
      ]
     },
     "execution_count": 27,
     "metadata": {},
     "output_type": "execute_result"
    },
    {
     "data": {
      "image/png": "[encoded data removed]",
      "text/plain": [
       "<Figure size 640x480 with 1 Axes>"
      ]
     },
     "metadata": {},
     "output_type": "display_data"
    }
   ],
   "source": [
    "sns.lineplot(\n",
    "    y= silhouette, \n",
    "    x= range(3, 10))"
   ]
  },
  {
   "cell_type": "markdown",
   "metadata": {},
   "source": [
    "Задание 4.6\n",
    "2 points possible (graded)\n",
    "Мы будем использовать результаты, полученные в предыдущем задании с помощью коэффициента силуэта.\n",
    "\n",
    "Реализуйте сегментацию подростков на выбранном количестве кластеров.\n",
    "\n",
    "Для каждого кластера составьте топ-10 самых частых слов, назовём их ключевыми. Для этого сгруппируйте данные по кластерам, в каждом кластере вычислите среднее по каждому признаку, отсортируйте данные по убыванию и выделите первые 10 строк.\n",
    "\n",
    "Найдите среди ключевых слов те, которые характерны для каждого кластера, то есть встречаются в каждом из них.\n",
    "\n",
    "Отметьте эти слова:"
   ]
  },
  {
   "cell_type": "code",
   "execution_count": 29,
   "metadata": {},
   "outputs": [
    {
     "ename": "ValueError",
     "evalue": "Shape of passed values is (30000, 36), indices imply (30000, 37)",
     "output_type": "error",
     "traceback": [
      "\u001b[1;31m---------------------------------------------------------------------------\u001b[0m",
      "\u001b[1;31mValueError\u001b[0m                                Traceback (most recent call last)",
      "Cell \u001b[1;32mIn[29], line 4\u001b[0m\n\u001b[0;32m      2\u001b[0m k_m\u001b[38;5;241m.\u001b[39mfit(scaled_data)\n\u001b[0;32m      3\u001b[0m y \u001b[38;5;241m=\u001b[39m k_m\u001b[38;5;241m.\u001b[39mpredict(scaled_data)\n\u001b[1;32m----> 4\u001b[0m df \u001b[38;5;241m=\u001b[39m \u001b[43mpd\u001b[49m\u001b[38;5;241;43m.\u001b[39;49m\u001b[43mDataFrame\u001b[49m\u001b[43m(\u001b[49m\u001b[43mscaled_data\u001b[49m\u001b[43m,\u001b[49m\u001b[43m \u001b[49m\u001b[43mcolumns\u001b[49m\u001b[38;5;241;43m=\u001b[39;49m\u001b[43mdata\u001b[49m\u001b[38;5;241;43m.\u001b[39;49m\u001b[43mcolumns\u001b[49m\u001b[43m)\u001b[49m\n\u001b[0;32m      5\u001b[0m df[\u001b[38;5;124m'\u001b[39m\u001b[38;5;124my\u001b[39m\u001b[38;5;124m'\u001b[39m]\u001b[38;5;241m=\u001b[39my\n\u001b[0;32m      6\u001b[0m data[\u001b[38;5;124m'\u001b[39m\u001b[38;5;124my\u001b[39m\u001b[38;5;124m'\u001b[39m]\u001b[38;5;241m=\u001b[39my\n",
      "File \u001b[1;32mc:\\Projects\\DS\\lessons\\.venv\\Lib\\site-packages\\pandas\\core\\frame.py:827\u001b[0m, in \u001b[0;36mDataFrame.__init__\u001b[1;34m(self, data, index, columns, dtype, copy)\u001b[0m\n\u001b[0;32m    816\u001b[0m         mgr \u001b[38;5;241m=\u001b[39m dict_to_mgr(\n\u001b[0;32m    817\u001b[0m             \u001b[38;5;66;03m# error: Item \"ndarray\" of \"Union[ndarray, Series, Index]\" has no\u001b[39;00m\n\u001b[0;32m    818\u001b[0m             \u001b[38;5;66;03m# attribute \"name\"\u001b[39;00m\n\u001b[1;32m   (...)\u001b[0m\n\u001b[0;32m    824\u001b[0m             copy\u001b[38;5;241m=\u001b[39m_copy,\n\u001b[0;32m    825\u001b[0m         )\n\u001b[0;32m    826\u001b[0m     \u001b[38;5;28;01melse\u001b[39;00m:\n\u001b[1;32m--> 827\u001b[0m         mgr \u001b[38;5;241m=\u001b[39m \u001b[43mndarray_to_mgr\u001b[49m\u001b[43m(\u001b[49m\n\u001b[0;32m    828\u001b[0m \u001b[43m            \u001b[49m\u001b[43mdata\u001b[49m\u001b[43m,\u001b[49m\n\u001b[0;32m    829\u001b[0m \u001b[43m            \u001b[49m\u001b[43mindex\u001b[49m\u001b[43m,\u001b[49m\n\u001b[0;32m    830\u001b[0m \u001b[43m            \u001b[49m\u001b[43mcolumns\u001b[49m\u001b[43m,\u001b[49m\n\u001b[0;32m    831\u001b[0m \u001b[43m            \u001b[49m\u001b[43mdtype\u001b[49m\u001b[38;5;241;43m=\u001b[39;49m\u001b[43mdtype\u001b[49m\u001b[43m,\u001b[49m\n\u001b[0;32m    832\u001b[0m \u001b[43m            \u001b[49m\u001b[43mcopy\u001b[49m\u001b[38;5;241;43m=\u001b[39;49m\u001b[43mcopy\u001b[49m\u001b[43m,\u001b[49m\n\u001b[0;32m    833\u001b[0m \u001b[43m            \u001b[49m\u001b[43mtyp\u001b[49m\u001b[38;5;241;43m=\u001b[39;49m\u001b[43mmanager\u001b[49m\u001b[43m,\u001b[49m\n\u001b[0;32m    834\u001b[0m \u001b[43m        \u001b[49m\u001b[43m)\u001b[49m\n\u001b[0;32m    836\u001b[0m \u001b[38;5;66;03m# For data is list-like, or Iterable (will consume into list)\u001b[39;00m\n\u001b[0;32m    837\u001b[0m \u001b[38;5;28;01melif\u001b[39;00m is_list_like(data):\n",
      "File \u001b[1;32mc:\\Projects\\DS\\lessons\\.venv\\Lib\\site-packages\\pandas\\core\\internals\\construction.py:336\u001b[0m, in \u001b[0;36mndarray_to_mgr\u001b[1;34m(values, index, columns, dtype, copy, typ)\u001b[0m\n\u001b[0;32m    331\u001b[0m \u001b[38;5;66;03m# _prep_ndarraylike ensures that values.ndim == 2 at this point\u001b[39;00m\n\u001b[0;32m    332\u001b[0m index, columns \u001b[38;5;241m=\u001b[39m _get_axes(\n\u001b[0;32m    333\u001b[0m     values\u001b[38;5;241m.\u001b[39mshape[\u001b[38;5;241m0\u001b[39m], values\u001b[38;5;241m.\u001b[39mshape[\u001b[38;5;241m1\u001b[39m], index\u001b[38;5;241m=\u001b[39mindex, columns\u001b[38;5;241m=\u001b[39mcolumns\n\u001b[0;32m    334\u001b[0m )\n\u001b[1;32m--> 336\u001b[0m \u001b[43m_check_values_indices_shape_match\u001b[49m\u001b[43m(\u001b[49m\u001b[43mvalues\u001b[49m\u001b[43m,\u001b[49m\u001b[43m \u001b[49m\u001b[43mindex\u001b[49m\u001b[43m,\u001b[49m\u001b[43m \u001b[49m\u001b[43mcolumns\u001b[49m\u001b[43m)\u001b[49m\n\u001b[0;32m    338\u001b[0m \u001b[38;5;28;01mif\u001b[39;00m typ \u001b[38;5;241m==\u001b[39m \u001b[38;5;124m\"\u001b[39m\u001b[38;5;124marray\u001b[39m\u001b[38;5;124m\"\u001b[39m:\n\u001b[0;32m    339\u001b[0m     \u001b[38;5;28;01mif\u001b[39;00m \u001b[38;5;28missubclass\u001b[39m(values\u001b[38;5;241m.\u001b[39mdtype\u001b[38;5;241m.\u001b[39mtype, \u001b[38;5;28mstr\u001b[39m):\n",
      "File \u001b[1;32mc:\\Projects\\DS\\lessons\\.venv\\Lib\\site-packages\\pandas\\core\\internals\\construction.py:420\u001b[0m, in \u001b[0;36m_check_values_indices_shape_match\u001b[1;34m(values, index, columns)\u001b[0m\n\u001b[0;32m    418\u001b[0m passed \u001b[38;5;241m=\u001b[39m values\u001b[38;5;241m.\u001b[39mshape\n\u001b[0;32m    419\u001b[0m implied \u001b[38;5;241m=\u001b[39m (\u001b[38;5;28mlen\u001b[39m(index), \u001b[38;5;28mlen\u001b[39m(columns))\n\u001b[1;32m--> 420\u001b[0m \u001b[38;5;28;01mraise\u001b[39;00m \u001b[38;5;167;01mValueError\u001b[39;00m(\u001b[38;5;124mf\u001b[39m\u001b[38;5;124m\"\u001b[39m\u001b[38;5;124mShape of passed values is \u001b[39m\u001b[38;5;132;01m{\u001b[39;00mpassed\u001b[38;5;132;01m}\u001b[39;00m\u001b[38;5;124m, indices imply \u001b[39m\u001b[38;5;132;01m{\u001b[39;00mimplied\u001b[38;5;132;01m}\u001b[39;00m\u001b[38;5;124m\"\u001b[39m)\n",
      "\u001b[1;31mValueError\u001b[0m: Shape of passed values is (30000, 36), indices imply (30000, 37)"
     ]
    }
   ],
   "source": [
    "k_m = cluster.KMeans(n_clusters=3, random_state=42)\n",
    "k_m.fit(scaled_data)\n",
    "y = k_m.predict(scaled_data)\n",
    "df = pd.DataFrame(scaled_data, columns=data.columns)\n",
    "df['y']=y\n",
    "data['y']=y"
   ]
  },
  {
   "cell_type": "code",
   "execution_count": null,
   "metadata": {},
   "outputs": [],
   "source": [
    "pop_df = data.groupby(by='y').mean()"
   ]
  },
  {
   "cell_type": "code",
   "execution_count": null,
   "metadata": {},
   "outputs": [
    {
     "data": {
      "text/plain": [
       "music       0.579956\n",
       "god         0.329563\n",
       "dance       0.251528\n",
       "band        0.243406\n",
       "hair        0.203843\n",
       "shopping    0.190568\n",
       "cute        0.180480\n",
       "rock        0.164279\n",
       "soccer      0.150830\n",
       "football    0.149345\n",
       "Name: 0, dtype: float64"
      ]
     },
     "execution_count": 110,
     "metadata": {},
     "output_type": "execute_result"
    }
   ],
   "source": [
    "pop_df.iloc[0].nlargest(10)"
   ]
  },
  {
   "cell_type": "code",
   "execution_count": null,
   "metadata": {},
   "outputs": [
    {
     "data": {
      "text/plain": [
       "hair      3.232804\n",
       "sex       2.431217\n",
       "music     2.262787\n",
       "kissed    1.567901\n",
       "die       1.209877\n",
       "rock      1.113757\n",
       "god       1.003527\n",
       "band      0.972663\n",
       "dance     0.967372\n",
       "drugs     0.951499\n",
       "Name: 1, dtype: float64"
      ]
     },
     "execution_count": 111,
     "metadata": {},
     "output_type": "execute_result"
    }
   ],
   "source": [
    "pop_df.iloc[1].nlargest(10)"
   ]
  },
  {
   "cell_type": "code",
   "execution_count": null,
   "metadata": {},
   "outputs": [
    {
     "data": {
      "text/plain": [
       "music         1.053973\n",
       "dance         0.988602\n",
       "shopping      0.935132\n",
       "god           0.884009\n",
       "cute          0.794670\n",
       "hair          0.727958\n",
       "church        0.667784\n",
       "basketball    0.666946\n",
       "mall          0.658900\n",
       "football      0.596044\n",
       "Name: 2, dtype: float64"
      ]
     },
     "execution_count": 112,
     "metadata": {},
     "output_type": "execute_result"
    }
   ],
   "source": [
    "pop_df.iloc[2].nlargest(10)"
   ]
  },
  {
   "cell_type": "code",
   "execution_count": null,
   "metadata": {},
   "outputs": [
    {
     "name": "stdout",
     "output_type": "stream",
     "text": [
      "[{'soccer', 'rock', 'god', 'dance', 'hair', 'music', 'shopping', 'football', 'cute', 'band'}]\n",
      "[{'soccer', 'rock', 'god', 'dance', 'hair', 'music', 'shopping', 'football', 'cute', 'band'}, {'die', 'band', 'sex', 'rock', 'kissed', 'god', 'dance', 'hair', 'drugs', 'music'}]\n",
      "[{'soccer', 'rock', 'god', 'dance', 'hair', 'music', 'shopping', 'football', 'cute', 'band'}, {'die', 'band', 'sex', 'rock', 'kissed', 'god', 'dance', 'hair', 'drugs', 'music'}, {'dance', 'god', 'hair', 'basketball', 'church', 'shopping', 'mall', 'football', 'cute', 'music'}]\n"
     ]
    },
    {
     "data": {
      "text/plain": [
       "{'dance', 'god', 'hair', 'music'}"
      ]
     },
     "execution_count": 108,
     "metadata": {},
     "output_type": "execute_result"
    }
   ],
   "source": [
    "top_list = []\n",
    "for label, group in data.groupby('y'):\n",
    "    # print(group)\n",
    "    means = group.iloc[:,:-1].mean().sort_values(ascending=False)\n",
    "    top_5 = set(means.head(10).index)\n",
    "    top_list.append(top_5)\n",
    "    print(top_list)\n",
    "\n",
    "set.intersection(*top_list)"
   ]
  },
  {
   "cell_type": "markdown",
   "metadata": {},
   "source": [
    "Задание 4.7\n",
    "1 point possible (graded)\n",
    "Итак, с k-means мы потренировались — теперь перейдём к EM-алгоритму.\n",
    "\n",
    "Реализуйте EM-алгоритм (GaussianMixture) для такого же количества кластеров, как и в предыдущем задании. В качестве значения параметра random_state возьмите число 42.\n",
    "\n",
    "Сколько подростков алгоритм отнёс к самому многочисленному кластеру?"
   ]
  },
  {
   "cell_type": "code",
   "execution_count": null,
   "metadata": {},
   "outputs": [
    {
     "name": "stdout",
     "output_type": "stream",
     "text": [
      "0 count is 20670\n",
      "1 count is 2874\n",
      "2 count is 6456\n"
     ]
    }
   ],
   "source": [
    "g_m = mixture.GaussianMixture(n_components=3, random_state=42)\n",
    "y = g_m.fit_predict(scaled_data)\n",
    "\n",
    "for elem in set(y):\n",
    "    print(f'{elem} count is {list(y).count(elem)}')"
   ]
  },
  {
   "cell_type": "code",
   "execution_count": null,
   "metadata": {},
   "outputs": [
    {
     "data": {
      "text/plain": [
       "(array([0, 1, 2], dtype=int64), array([20670,  2874,  6456], dtype=int64))"
      ]
     },
     "execution_count": 122,
     "metadata": {},
     "output_type": "execute_result"
    }
   ],
   "source": [
    "g_m = mixture.GaussianMixture(n_components=3, random_state=42)\n",
    "predictions = g_m.fit_predict(scaled_data)\n",
    "np.unique(predictions, return_counts=True)"
   ]
  },
  {
   "cell_type": "code",
   "execution_count": null,
   "metadata": {},
   "outputs": [
    {
     "data": {
      "text/plain": [
       "array([0, 2, 0, ..., 0, 0, 0], dtype=int64)"
      ]
     },
     "execution_count": 124,
     "metadata": {},
     "output_type": "execute_result"
    }
   ],
   "source": [
    "predictions"
   ]
  },
  {
   "cell_type": "markdown",
   "metadata": {},
   "source": [
    "Задание 4.8\n",
    "2 points possible (graded)\n",
    "В одном из кластеров оказался всего один человек. Давайте узнаем, что это за подросток и чем он(а) интересуется.\n",
    "\n",
    "Отметьте три слова, которые чаще всего встречаются в сообщениях этого подростка:\n",
    "\n"
   ]
  },
  {
   "cell_type": "code",
   "execution_count": null,
   "metadata": {},
   "outputs": [],
   "source": [
    "data['y']=y\n",
    "pop_df = data.groupby(by='y').mean()"
   ]
  },
  {
   "cell_type": "code",
   "execution_count": null,
   "metadata": {},
   "outputs": [
    {
     "data": {
      "text/plain": [
       "hair     1.609255\n",
       "music    1.584899\n",
       "sex      1.322199\n",
       "Name: 1, dtype: float64"
      ]
     },
     "execution_count": 131,
     "metadata": {},
     "output_type": "execute_result"
    }
   ],
   "source": [
    "pop_df.iloc[1].nlargest(3)"
   ]
  },
  {
   "cell_type": "markdown",
   "metadata": {},
   "source": [
    "7. Итоговая практика по алгоритмам кластеризации"
   ]
  },
  {
   "cell_type": "markdown",
   "metadata": {},
   "source": [
    "Задание 7.2\n",
    "1 point possible (graded)\n",
    "Теперь приступим к анализу данных. По традиции начнём его с проверки данных на наличие пропущенных значений. Сколько всего пропусков в данных?"
   ]
  },
  {
   "cell_type": "code",
   "execution_count": 41,
   "metadata": {},
   "outputs": [
    {
     "data": {
      "text/html": [
       "<div>\n",
       "<style scoped>\n",
       "    .dataframe tbody tr th:only-of-type {\n",
       "        vertical-align: middle;\n",
       "    }\n",
       "\n",
       "    .dataframe tbody tr th {\n",
       "        vertical-align: top;\n",
       "    }\n",
       "\n",
       "    .dataframe thead th {\n",
       "        text-align: right;\n",
       "    }\n",
       "</style>\n",
       "<table border=\"1\" class=\"dataframe\">\n",
       "  <thead>\n",
       "    <tr style=\"text-align: right;\">\n",
       "      <th></th>\n",
       "      <th>CUST_ID</th>\n",
       "      <th>BALANCE</th>\n",
       "      <th>BALANCE_FREQUENCY</th>\n",
       "      <th>PURCHASES</th>\n",
       "      <th>ONEOFF_PURCHASES</th>\n",
       "      <th>INSTALLMENTS_PURCHASES</th>\n",
       "      <th>CASH_ADVANCE</th>\n",
       "      <th>PURCHASES_FREQUENCY</th>\n",
       "      <th>ONEOFF_PURCHASES_FREQUENCY</th>\n",
       "      <th>PURCHASES_INSTALLMENTS_FREQUENCY</th>\n",
       "      <th>CASH_ADVANCE_FREQUENCY</th>\n",
       "      <th>CASH_ADVANCE_TRX</th>\n",
       "      <th>PURCHASES_TRX</th>\n",
       "      <th>CREDIT_LIMIT</th>\n",
       "      <th>PAYMENTS</th>\n",
       "      <th>MINIMUM_PAYMENTS</th>\n",
       "      <th>PRC_FULL_PAYMENT</th>\n",
       "      <th>TENURE</th>\n",
       "    </tr>\n",
       "  </thead>\n",
       "  <tbody>\n",
       "    <tr>\n",
       "      <th>0</th>\n",
       "      <td>C10001</td>\n",
       "      <td>40.900749</td>\n",
       "      <td>0.818182</td>\n",
       "      <td>95.40</td>\n",
       "      <td>0.00</td>\n",
       "      <td>95.4</td>\n",
       "      <td>0.000000</td>\n",
       "      <td>0.166667</td>\n",
       "      <td>0.000000</td>\n",
       "      <td>0.083333</td>\n",
       "      <td>0.000000</td>\n",
       "      <td>0</td>\n",
       "      <td>2</td>\n",
       "      <td>1000.0</td>\n",
       "      <td>201.802084</td>\n",
       "      <td>139.509787</td>\n",
       "      <td>0.000000</td>\n",
       "      <td>12</td>\n",
       "    </tr>\n",
       "    <tr>\n",
       "      <th>1</th>\n",
       "      <td>C10002</td>\n",
       "      <td>3202.467416</td>\n",
       "      <td>0.909091</td>\n",
       "      <td>0.00</td>\n",
       "      <td>0.00</td>\n",
       "      <td>0.0</td>\n",
       "      <td>6442.945483</td>\n",
       "      <td>0.000000</td>\n",
       "      <td>0.000000</td>\n",
       "      <td>0.000000</td>\n",
       "      <td>0.250000</td>\n",
       "      <td>4</td>\n",
       "      <td>0</td>\n",
       "      <td>7000.0</td>\n",
       "      <td>4103.032597</td>\n",
       "      <td>1072.340217</td>\n",
       "      <td>0.222222</td>\n",
       "      <td>12</td>\n",
       "    </tr>\n",
       "    <tr>\n",
       "      <th>2</th>\n",
       "      <td>C10003</td>\n",
       "      <td>2495.148862</td>\n",
       "      <td>1.000000</td>\n",
       "      <td>773.17</td>\n",
       "      <td>773.17</td>\n",
       "      <td>0.0</td>\n",
       "      <td>0.000000</td>\n",
       "      <td>1.000000</td>\n",
       "      <td>1.000000</td>\n",
       "      <td>0.000000</td>\n",
       "      <td>0.000000</td>\n",
       "      <td>0</td>\n",
       "      <td>12</td>\n",
       "      <td>7500.0</td>\n",
       "      <td>622.066742</td>\n",
       "      <td>627.284787</td>\n",
       "      <td>0.000000</td>\n",
       "      <td>12</td>\n",
       "    </tr>\n",
       "    <tr>\n",
       "      <th>3</th>\n",
       "      <td>C10004</td>\n",
       "      <td>1666.670542</td>\n",
       "      <td>0.636364</td>\n",
       "      <td>1499.00</td>\n",
       "      <td>1499.00</td>\n",
       "      <td>0.0</td>\n",
       "      <td>205.788017</td>\n",
       "      <td>0.083333</td>\n",
       "      <td>0.083333</td>\n",
       "      <td>0.000000</td>\n",
       "      <td>0.083333</td>\n",
       "      <td>1</td>\n",
       "      <td>1</td>\n",
       "      <td>7500.0</td>\n",
       "      <td>0.000000</td>\n",
       "      <td>NaN</td>\n",
       "      <td>0.000000</td>\n",
       "      <td>12</td>\n",
       "    </tr>\n",
       "    <tr>\n",
       "      <th>4</th>\n",
       "      <td>C10005</td>\n",
       "      <td>817.714335</td>\n",
       "      <td>1.000000</td>\n",
       "      <td>16.00</td>\n",
       "      <td>16.00</td>\n",
       "      <td>0.0</td>\n",
       "      <td>0.000000</td>\n",
       "      <td>0.083333</td>\n",
       "      <td>0.083333</td>\n",
       "      <td>0.000000</td>\n",
       "      <td>0.000000</td>\n",
       "      <td>0</td>\n",
       "      <td>1</td>\n",
       "      <td>1200.0</td>\n",
       "      <td>678.334763</td>\n",
       "      <td>244.791237</td>\n",
       "      <td>0.000000</td>\n",
       "      <td>12</td>\n",
       "    </tr>\n",
       "  </tbody>\n",
       "</table>\n",
       "</div>"
      ],
      "text/plain": [
       "  CUST_ID      BALANCE  BALANCE_FREQUENCY  PURCHASES  ONEOFF_PURCHASES  \\\n",
       "0  C10001    40.900749           0.818182      95.40              0.00   \n",
       "1  C10002  3202.467416           0.909091       0.00              0.00   \n",
       "2  C10003  2495.148862           1.000000     773.17            773.17   \n",
       "3  C10004  1666.670542           0.636364    1499.00           1499.00   \n",
       "4  C10005   817.714335           1.000000      16.00             16.00   \n",
       "\n",
       "   INSTALLMENTS_PURCHASES  CASH_ADVANCE  PURCHASES_FREQUENCY  \\\n",
       "0                    95.4      0.000000             0.166667   \n",
       "1                     0.0   6442.945483             0.000000   \n",
       "2                     0.0      0.000000             1.000000   \n",
       "3                     0.0    205.788017             0.083333   \n",
       "4                     0.0      0.000000             0.083333   \n",
       "\n",
       "   ONEOFF_PURCHASES_FREQUENCY  PURCHASES_INSTALLMENTS_FREQUENCY  \\\n",
       "0                    0.000000                          0.083333   \n",
       "1                    0.000000                          0.000000   \n",
       "2                    1.000000                          0.000000   \n",
       "3                    0.083333                          0.000000   \n",
       "4                    0.083333                          0.000000   \n",
       "\n",
       "   CASH_ADVANCE_FREQUENCY  CASH_ADVANCE_TRX  PURCHASES_TRX  CREDIT_LIMIT  \\\n",
       "0                0.000000                 0              2        1000.0   \n",
       "1                0.250000                 4              0        7000.0   \n",
       "2                0.000000                 0             12        7500.0   \n",
       "3                0.083333                 1              1        7500.0   \n",
       "4                0.000000                 0              1        1200.0   \n",
       "\n",
       "      PAYMENTS  MINIMUM_PAYMENTS  PRC_FULL_PAYMENT  TENURE  \n",
       "0   201.802084        139.509787          0.000000      12  \n",
       "1  4103.032597       1072.340217          0.222222      12  \n",
       "2   622.066742        627.284787          0.000000      12  \n",
       "3     0.000000               NaN          0.000000      12  \n",
       "4   678.334763        244.791237          0.000000      12  "
      ]
     },
     "execution_count": 41,
     "metadata": {},
     "output_type": "execute_result"
    }
   ],
   "source": [
    "data = pd.read_csv('data/CC_GENERAL (1).zip')\n",
    "data.head()"
   ]
  },
  {
   "cell_type": "code",
   "execution_count": 42,
   "metadata": {},
   "outputs": [
    {
     "name": "stdout",
     "output_type": "stream",
     "text": [
      "Nan items in dataset 314\n"
     ]
    }
   ],
   "source": [
    "print(f'Nan items in dataset {data.isna().sum().sum()}')"
   ]
  },
  {
   "cell_type": "markdown",
   "metadata": {},
   "source": [
    "Задание 7.3\n",
    "1 point possible (graded)\n",
    "Заполните все пропуски средними арифметическими для признаков. Каким будет среднее арифметическое для признака MINIMUM_PAYMENTS (если считать после заполнения пропущенных значений)? Округлите результат до двух знаков после точки-разделителя."
   ]
  },
  {
   "cell_type": "code",
   "execution_count": 43,
   "metadata": {},
   "outputs": [
    {
     "name": "stdout",
     "output_type": "stream",
     "text": [
      "Min MINIMUM_PAYMENTS value 864.2065423050827\n"
     ]
    }
   ],
   "source": [
    "data['MINIMUM_PAYMENTS'] = data['MINIMUM_PAYMENTS'].fillna(data['MINIMUM_PAYMENTS'].mean())\n",
    "data['CREDIT_LIMIT'] = data['CREDIT_LIMIT'].fillna(data['CREDIT_LIMIT'].mean())\n",
    "print(f\"Min MINIMUM_PAYMENTS value {data['MINIMUM_PAYMENTS'].mean()}\")"
   ]
  },
  {
   "cell_type": "markdown",
   "metadata": {},
   "source": [
    "Задание 7.4\n",
    "1 point possible (graded)\n",
    "Теперь нормализуйте данные с помощью StandardScaler(). Для получившейся матрицы нормализованных признаков выведите самое первое значение в самой первой строке (X_norm[0][0]). Округлите до двух знаков после точки-разделителя.\n",
    "\n",
    "Не забудьте предварительно удалить признак CUST_ID — он не поможет при кластеризации, так как не несёт никакой содержательной информации."
   ]
  },
  {
   "cell_type": "code",
   "execution_count": 44,
   "metadata": {},
   "outputs": [
    {
     "name": "stdout",
     "output_type": "stream",
     "text": [
      "First normalized value is -0.7319893664465486\n"
     ]
    }
   ],
   "source": [
    "data = data.drop(['CUST_ID'], axis=1)\n",
    "\n",
    "st_sc = preprocessing.StandardScaler()\n",
    "X_norm = st_sc.fit_transform(data)\n",
    "\n",
    "print(f\"First normalized value is {X_norm[0][0]}\")"
   ]
  },
  {
   "cell_type": "markdown",
   "metadata": {},
   "source": [
    "Задание 7.5\n",
    "1 point possible (graded)\n",
    "Теперь можем приступать к кластеризации. Начнём с самого простого и популярного метода — k-means. Для того чтобы его применить, необходимо узнать число кластеров. Наилучший способ сделать это — применить коэффициент силуэта. Найдите с его помощью оптимальное количество кластеров, перебрав диапазон от 2 до 9 включительно. В этом и следующем заданиях для параметра random_state возьмём значение 42."
   ]
  },
  {
   "cell_type": "code",
   "execution_count": 71,
   "metadata": {},
   "outputs": [
    {
     "data": {
      "text/plain": [
       "<Axes: >"
      ]
     },
     "execution_count": 71,
     "metadata": {},
     "output_type": "execute_result"
    },
    {
     "data": {
      "image/png": "[encoded data removed]",
      "text/plain": [
       "<Figure size 640x480 with 1 Axes>"
      ]
     },
     "metadata": {},
     "output_type": "display_data"
    }
   ],
   "source": [
    "silhouette = []\n",
    "for clust_num in range(2, 10):\n",
    "    silhouette.append(get_silhouette(clust_num, X_norm))\n",
    "    \n",
    "sns.lineplot(\n",
    "    x=range(2, 10),\n",
    "    y=silhouette\n",
    ")"
   ]
  },
  {
   "cell_type": "markdown",
   "metadata": {},
   "source": [
    "Задание 7.6\n",
    "1 point possible (graded)\n",
    "Теперь реализуем непосредственно кластеризацию k-means с оптимальным количеством кластеров, которое мы определили в предыдущем задании.\n",
    "\n",
    "Сколько человек оказалось в самой малочисленной группе?"
   ]
  },
  {
   "cell_type": "code",
   "execution_count": 53,
   "metadata": {},
   "outputs": [
    {
     "name": "stdout",
     "output_type": "stream",
     "text": [
      "group 0 has 3892 members\n",
      "group 1 has 4479 members\n",
      "group 2 has 579 members\n"
     ]
    }
   ],
   "source": [
    "km = cluster.KMeans(n_clusters=3)\n",
    "y = km.fit_predict(X_norm)\n",
    "\n",
    "for i in set(y):\n",
    "    print(f'group {i} has {list(y).count(i)} members')"
   ]
  },
  {
   "cell_type": "markdown",
   "metadata": {},
   "source": [
    "Задание 7.7\n",
    "1 point possible (graded)\n",
    "Попробуем применить DBSCAN. Для начала реализуйте его с параметрами по умолчанию.\n",
    "\n",
    "Сколько кластеров было выделено?"
   ]
  },
  {
   "cell_type": "code",
   "execution_count": 63,
   "metadata": {},
   "outputs": [
    {
     "name": "stdout",
     "output_type": "stream",
     "text": [
      "Dataset has 38 clusters\n"
     ]
    }
   ],
   "source": [
    "dbs = cluster.DBSCAN()\n",
    "y = dbs.fit(X_norm)\n",
    "print(f'Dataset has {len(set(y.labels_))-1} clusters')"
   ]
  },
  {
   "cell_type": "markdown",
   "metadata": {},
   "source": [
    "Задание 7.8\n",
    "3 points possible (graded)\n",
    "В предыдущем задании получилось очень много кластеров. Возможно, это случилось потому, что мы взяли параметры по умолчанию, а результат алгоритма DBSCAN, как вы помните, очень чувствителен к ним.\n",
    "\n",
    "Давайте попробуем с помощью цикла перебрать параметр eps по значениям, заданным как np.arange(0.1,3,0.2), а параметр min_samples — по значениям, заданным как range(1,20,4). Найдите комбинацию, которая даёт максимальное значение коэффициента силуэта."
   ]
  },
  {
   "cell_type": "code",
   "execution_count": null,
   "metadata": {},
   "outputs": [
    {
     "name": "stderr",
     "output_type": "stream",
     "text": [
      "c:\\Projects\\DS\\lessons\\.venv\\Lib\\site-packages\\sklearn\\model_selection\\_search.py:1052: UserWarning: One or more of the test scores are non-finite: [nan nan nan nan nan nan nan nan nan nan nan nan nan nan nan nan nan nan\n",
      " nan nan nan nan nan nan nan nan nan nan nan nan nan nan nan nan nan nan\n",
      " nan nan nan nan nan nan nan nan nan nan nan nan nan nan nan nan nan nan\n",
      " nan nan nan nan nan nan nan nan nan nan nan nan nan nan nan nan nan nan\n",
      " nan nan nan]\n",
      "  warnings.warn(\n"
     ]
    },
    {
     "name": "stdout",
     "output_type": "stream",
     "text": [
      "CPU times: total: 2.11 s\n",
      "Wall time: 27.6 s\n"
     ]
    },
    {
     "data": {
      "text/html": [
       "<style>#sk-container-id-1 {\n",
       "  /* Definition of color scheme common for light and dark mode */\n",
       "  --sklearn-color-text: black;\n",
       "  --sklearn-color-line: gray;\n",
       "  /* Definition of color scheme for unfitted estimators */\n",
       "  --sklearn-color-unfitted-level-0: #fff5e6;\n",
       "  --sklearn-color-unfitted-level-1: #f6e4d2;\n",
       "  --sklearn-color-unfitted-level-2: #ffe0b3;\n",
       "  --sklearn-color-unfitted-level-3: chocolate;\n",
       "  /* Definition of color scheme for fitted estimators */\n",
       "  --sklearn-color-fitted-level-0: #f0f8ff;\n",
       "  --sklearn-color-fitted-level-1: #d4ebff;\n",
       "  --sklearn-color-fitted-level-2: #b3dbfd;\n",
       "  --sklearn-color-fitted-level-3: cornflowerblue;\n",
       "\n",
       "  /* Specific color for light theme */\n",
       "  --sklearn-color-text-on-default-background: var(--sg-text-color, var(--theme-code-foreground, var(--jp-content-font-color1, black)));\n",
       "  --sklearn-color-background: var(--sg-background-color, var(--theme-background, var(--jp-layout-color0, white)));\n",
       "  --sklearn-color-border-box: var(--sg-text-color, var(--theme-code-foreground, var(--jp-content-font-color1, black)));\n",
       "  --sklearn-color-icon: #696969;\n",
       "\n",
       "  @media (prefers-color-scheme: dark) {\n",
       "    /* Redefinition of color scheme for dark theme */\n",
       "    --sklearn-color-text-on-default-background: var(--sg-text-color, var(--theme-code-foreground, var(--jp-content-font-color1, white)));\n",
       "    --sklearn-color-background: var(--sg-background-color, var(--theme-background, var(--jp-layout-color0, #111)));\n",
       "    --sklearn-color-border-box: var(--sg-text-color, var(--theme-code-foreground, var(--jp-content-font-color1, white)));\n",
       "    --sklearn-color-icon: #878787;\n",
       "  }\n",
       "}\n",
       "\n",
       "#sk-container-id-1 {\n",
       "  color: var(--sklearn-color-text);\n",
       "}\n",
       "\n",
       "#sk-container-id-1 pre {\n",
       "  padding: 0;\n",
       "}\n",
       "\n",
       "#sk-container-id-1 input.sk-hidden--visually {\n",
       "  border: 0;\n",
       "  clip: rect(1px 1px 1px 1px);\n",
       "  clip: rect(1px, 1px, 1px, 1px);\n",
       "  height: 1px;\n",
       "  margin: -1px;\n",
       "  overflow: hidden;\n",
       "  padding: 0;\n",
       "  position: absolute;\n",
       "  width: 1px;\n",
       "}\n",
       "\n",
       "#sk-container-id-1 div.sk-dashed-wrapped {\n",
       "  border: 1px dashed var(--sklearn-color-line);\n",
       "  margin: 0 0.4em 0.5em 0.4em;\n",
       "  box-sizing: border-box;\n",
       "  padding-bottom: 0.4em;\n",
       "  background-color: var(--sklearn-color-background);\n",
       "}\n",
       "\n",
       "#sk-container-id-1 div.sk-container {\n",
       "  /* jupyter's `normalize.less` sets `[hidden] { display: none; }`\n",
       "     but bootstrap.min.css set `[hidden] { display: none !important; }`\n",
       "     so we also need the `!important` here to be able to override the\n",
       "     default hidden behavior on the sphinx rendered scikit-learn.org.\n",
       "     See: https://github.com/scikit-learn/scikit-learn/issues/21755 */\n",
       "  display: inline-block !important;\n",
       "  position: relative;\n",
       "}\n",
       "\n",
       "#sk-container-id-1 div.sk-text-repr-fallback {\n",
       "  display: none;\n",
       "}\n",
       "\n",
       "div.sk-parallel-item,\n",
       "div.sk-serial,\n",
       "div.sk-item {\n",
       "  /* draw centered vertical line to link estimators */\n",
       "  background-image: linear-gradient(var(--sklearn-color-text-on-default-background), var(--sklearn-color-text-on-default-background));\n",
       "  background-size: 2px 100%;\n",
       "  background-repeat: no-repeat;\n",
       "  background-position: center center;\n",
       "}\n",
       "\n",
       "/* Parallel-specific style estimator block */\n",
       "\n",
       "#sk-container-id-1 div.sk-parallel-item::after {\n",
       "  content: \"\";\n",
       "  width: 100%;\n",
       "  border-bottom: 2px solid var(--sklearn-color-text-on-default-background);\n",
       "  flex-grow: 1;\n",
       "}\n",
       "\n",
       "#sk-container-id-1 div.sk-parallel {\n",
       "  display: flex;\n",
       "  align-items: stretch;\n",
       "  justify-content: center;\n",
       "  background-color: var(--sklearn-color-background);\n",
       "  position: relative;\n",
       "}\n",
       "\n",
       "#sk-container-id-1 div.sk-parallel-item {\n",
       "  display: flex;\n",
       "  flex-direction: column;\n",
       "}\n",
       "\n",
       "#sk-container-id-1 div.sk-parallel-item:first-child::after {\n",
       "  align-self: flex-end;\n",
       "  width: 50%;\n",
       "}\n",
       "\n",
       "#sk-container-id-1 div.sk-parallel-item:last-child::after {\n",
       "  align-self: flex-start;\n",
       "  width: 50%;\n",
       "}\n",
       "\n",
       "#sk-container-id-1 div.sk-parallel-item:only-child::after {\n",
       "  width: 0;\n",
       "}\n",
       "\n",
       "/* Serial-specific style estimator block */\n",
       "\n",
       "#sk-container-id-1 div.sk-serial {\n",
       "  display: flex;\n",
       "  flex-direction: column;\n",
       "  align-items: center;\n",
       "  background-color: var(--sklearn-color-background);\n",
       "  padding-right: 1em;\n",
       "  padding-left: 1em;\n",
       "}\n",
       "\n",
       "\n",
       "/* Toggleable style: style used for estimator/Pipeline/ColumnTransformer box that is\n",
       "clickable and can be expanded/collapsed.\n",
       "- Pipeline and ColumnTransformer use this feature and define the default style\n",
       "- Estimators will overwrite some part of the style using the `sk-estimator` class\n",
       "*/\n",
       "\n",
       "/* Pipeline and ColumnTransformer style (default) */\n",
       "\n",
       "#sk-container-id-1 div.sk-toggleable {\n",
       "  /* Default theme specific background. It is overwritten whether we have a\n",
       "  specific estimator or a Pipeline/ColumnTransformer */\n",
       "  background-color: var(--sklearn-color-background);\n",
       "}\n",
       "\n",
       "/* Toggleable label */\n",
       "#sk-container-id-1 label.sk-toggleable__label {\n",
       "  cursor: pointer;\n",
       "  display: block;\n",
       "  width: 100%;\n",
       "  margin-bottom: 0;\n",
       "  padding: 0.5em;\n",
       "  box-sizing: border-box;\n",
       "  text-align: center;\n",
       "}\n",
       "\n",
       "#sk-container-id-1 label.sk-toggleable__label-arrow:before {\n",
       "  /* Arrow on the left of the label */\n",
       "  content: \"▸\";\n",
       "  float: left;\n",
       "  margin-right: 0.25em;\n",
       "  color: var(--sklearn-color-icon);\n",
       "}\n",
       "\n",
       "#sk-container-id-1 label.sk-toggleable__label-arrow:hover:before {\n",
       "  color: var(--sklearn-color-text);\n",
       "}\n",
       "\n",
       "/* Toggleable content - dropdown */\n",
       "\n",
       "#sk-container-id-1 div.sk-toggleable__content {\n",
       "  max-height: 0;\n",
       "  max-width: 0;\n",
       "  overflow: hidden;\n",
       "  text-align: left;\n",
       "  /* unfitted */\n",
       "  background-color: var(--sklearn-color-unfitted-level-0);\n",
       "}\n",
       "\n",
       "#sk-container-id-1 div.sk-toggleable__content.fitted {\n",
       "  /* fitted */\n",
       "  background-color: var(--sklearn-color-fitted-level-0);\n",
       "}\n",
       "\n",
       "#sk-container-id-1 div.sk-toggleable__content pre {\n",
       "  margin: 0.2em;\n",
       "  border-radius: 0.25em;\n",
       "  color: var(--sklearn-color-text);\n",
       "  /* unfitted */\n",
       "  background-color: var(--sklearn-color-unfitted-level-0);\n",
       "}\n",
       "\n",
       "#sk-container-id-1 div.sk-toggleable__content.fitted pre {\n",
       "  /* unfitted */\n",
       "  background-color: var(--sklearn-color-fitted-level-0);\n",
       "}\n",
       "\n",
       "#sk-container-id-1 input.sk-toggleable__control:checked~div.sk-toggleable__content {\n",
       "  /* Expand drop-down */\n",
       "  max-height: 200px;\n",
       "  max-width: 100%;\n",
       "  overflow: auto;\n",
       "}\n",
       "\n",
       "#sk-container-id-1 input.sk-toggleable__control:checked~label.sk-toggleable__label-arrow:before {\n",
       "  content: \"▾\";\n",
       "}\n",
       "\n",
       "/* Pipeline/ColumnTransformer-specific style */\n",
       "\n",
       "#sk-container-id-1 div.sk-label input.sk-toggleable__control:checked~label.sk-toggleable__label {\n",
       "  color: var(--sklearn-color-text);\n",
       "  background-color: var(--sklearn-color-unfitted-level-2);\n",
       "}\n",
       "\n",
       "#sk-container-id-1 div.sk-label.fitted input.sk-toggleable__control:checked~label.sk-toggleable__label {\n",
       "  background-color: var(--sklearn-color-fitted-level-2);\n",
       "}\n",
       "\n",
       "/* Estimator-specific style */\n",
       "\n",
       "/* Colorize estimator box */\n",
       "#sk-container-id-1 div.sk-estimator input.sk-toggleable__control:checked~label.sk-toggleable__label {\n",
       "  /* unfitted */\n",
       "  background-color: var(--sklearn-color-unfitted-level-2);\n",
       "}\n",
       "\n",
       "#sk-container-id-1 div.sk-estimator.fitted input.sk-toggleable__control:checked~label.sk-toggleable__label {\n",
       "  /* fitted */\n",
       "  background-color: var(--sklearn-color-fitted-level-2);\n",
       "}\n",
       "\n",
       "#sk-container-id-1 div.sk-label label.sk-toggleable__label,\n",
       "#sk-container-id-1 div.sk-label label {\n",
       "  /* The background is the default theme color */\n",
       "  color: var(--sklearn-color-text-on-default-background);\n",
       "}\n",
       "\n",
       "/* On hover, darken the color of the background */\n",
       "#sk-container-id-1 div.sk-label:hover label.sk-toggleable__label {\n",
       "  color: var(--sklearn-color-text);\n",
       "  background-color: var(--sklearn-color-unfitted-level-2);\n",
       "}\n",
       "\n",
       "/* Label box, darken color on hover, fitted */\n",
       "#sk-container-id-1 div.sk-label.fitted:hover label.sk-toggleable__label.fitted {\n",
       "  color: var(--sklearn-color-text);\n",
       "  background-color: var(--sklearn-color-fitted-level-2);\n",
       "}\n",
       "\n",
       "/* Estimator label */\n",
       "\n",
       "#sk-container-id-1 div.sk-label label {\n",
       "  font-family: monospace;\n",
       "  font-weight: bold;\n",
       "  display: inline-block;\n",
       "  line-height: 1.2em;\n",
       "}\n",
       "\n",
       "#sk-container-id-1 div.sk-label-container {\n",
       "  text-align: center;\n",
       "}\n",
       "\n",
       "/* Estimator-specific */\n",
       "#sk-container-id-1 div.sk-estimator {\n",
       "  font-family: monospace;\n",
       "  border: 1px dotted var(--sklearn-color-border-box);\n",
       "  border-radius: 0.25em;\n",
       "  box-sizing: border-box;\n",
       "  margin-bottom: 0.5em;\n",
       "  /* unfitted */\n",
       "  background-color: var(--sklearn-color-unfitted-level-0);\n",
       "}\n",
       "\n",
       "#sk-container-id-1 div.sk-estimator.fitted {\n",
       "  /* fitted */\n",
       "  background-color: var(--sklearn-color-fitted-level-0);\n",
       "}\n",
       "\n",
       "/* on hover */\n",
       "#sk-container-id-1 div.sk-estimator:hover {\n",
       "  /* unfitted */\n",
       "  background-color: var(--sklearn-color-unfitted-level-2);\n",
       "}\n",
       "\n",
       "#sk-container-id-1 div.sk-estimator.fitted:hover {\n",
       "  /* fitted */\n",
       "  background-color: var(--sklearn-color-fitted-level-2);\n",
       "}\n",
       "\n",
       "/* Specification for estimator info (e.g. \"i\" and \"?\") */\n",
       "\n",
       "/* Common style for \"i\" and \"?\" */\n",
       "\n",
       ".sk-estimator-doc-link,\n",
       "a:link.sk-estimator-doc-link,\n",
       "a:visited.sk-estimator-doc-link {\n",
       "  float: right;\n",
       "  font-size: smaller;\n",
       "  line-height: 1em;\n",
       "  font-family: monospace;\n",
       "  background-color: var(--sklearn-color-background);\n",
       "  border-radius: 1em;\n",
       "  height: 1em;\n",
       "  width: 1em;\n",
       "  text-decoration: none !important;\n",
       "  margin-left: 1ex;\n",
       "  /* unfitted */\n",
       "  border: var(--sklearn-color-unfitted-level-1) 1pt solid;\n",
       "  color: var(--sklearn-color-unfitted-level-1);\n",
       "}\n",
       "\n",
       ".sk-estimator-doc-link.fitted,\n",
       "a:link.sk-estimator-doc-link.fitted,\n",
       "a:visited.sk-estimator-doc-link.fitted {\n",
       "  /* fitted */\n",
       "  border: var(--sklearn-color-fitted-level-1) 1pt solid;\n",
       "  color: var(--sklearn-color-fitted-level-1);\n",
       "}\n",
       "\n",
       "/* On hover */\n",
       "div.sk-estimator:hover .sk-estimator-doc-link:hover,\n",
       ".sk-estimator-doc-link:hover,\n",
       "div.sk-label-container:hover .sk-estimator-doc-link:hover,\n",
       ".sk-estimator-doc-link:hover {\n",
       "  /* unfitted */\n",
       "  background-color: var(--sklearn-color-unfitted-level-3);\n",
       "  color: var(--sklearn-color-background);\n",
       "  text-decoration: none;\n",
       "}\n",
       "\n",
       "div.sk-estimator.fitted:hover .sk-estimator-doc-link.fitted:hover,\n",
       ".sk-estimator-doc-link.fitted:hover,\n",
       "div.sk-label-container:hover .sk-estimator-doc-link.fitted:hover,\n",
       ".sk-estimator-doc-link.fitted:hover {\n",
       "  /* fitted */\n",
       "  background-color: var(--sklearn-color-fitted-level-3);\n",
       "  color: var(--sklearn-color-background);\n",
       "  text-decoration: none;\n",
       "}\n",
       "\n",
       "/* Span, style for the box shown on hovering the info icon */\n",
       ".sk-estimator-doc-link span {\n",
       "  display: none;\n",
       "  z-index: 9999;\n",
       "  position: relative;\n",
       "  font-weight: normal;\n",
       "  right: .2ex;\n",
       "  padding: .5ex;\n",
       "  margin: .5ex;\n",
       "  width: min-content;\n",
       "  min-width: 20ex;\n",
       "  max-width: 50ex;\n",
       "  color: var(--sklearn-color-text);\n",
       "  box-shadow: 2pt 2pt 4pt #999;\n",
       "  /* unfitted */\n",
       "  background: var(--sklearn-color-unfitted-level-0);\n",
       "  border: .5pt solid var(--sklearn-color-unfitted-level-3);\n",
       "}\n",
       "\n",
       ".sk-estimator-doc-link.fitted span {\n",
       "  /* fitted */\n",
       "  background: var(--sklearn-color-fitted-level-0);\n",
       "  border: var(--sklearn-color-fitted-level-3);\n",
       "}\n",
       "\n",
       ".sk-estimator-doc-link:hover span {\n",
       "  display: block;\n",
       "}\n",
       "\n",
       "/* \"?\"-specific style due to the `<a>` HTML tag */\n",
       "\n",
       "#sk-container-id-1 a.estimator_doc_link {\n",
       "  float: right;\n",
       "  font-size: 1rem;\n",
       "  line-height: 1em;\n",
       "  font-family: monospace;\n",
       "  background-color: var(--sklearn-color-background);\n",
       "  border-radius: 1rem;\n",
       "  height: 1rem;\n",
       "  width: 1rem;\n",
       "  text-decoration: none;\n",
       "  /* unfitted */\n",
       "  color: var(--sklearn-color-unfitted-level-1);\n",
       "  border: var(--sklearn-color-unfitted-level-1) 1pt solid;\n",
       "}\n",
       "\n",
       "#sk-container-id-1 a.estimator_doc_link.fitted {\n",
       "  /* fitted */\n",
       "  border: var(--sklearn-color-fitted-level-1) 1pt solid;\n",
       "  color: var(--sklearn-color-fitted-level-1);\n",
       "}\n",
       "\n",
       "/* On hover */\n",
       "#sk-container-id-1 a.estimator_doc_link:hover {\n",
       "  /* unfitted */\n",
       "  background-color: var(--sklearn-color-unfitted-level-3);\n",
       "  color: var(--sklearn-color-background);\n",
       "  text-decoration: none;\n",
       "}\n",
       "\n",
       "#sk-container-id-1 a.estimator_doc_link.fitted:hover {\n",
       "  /* fitted */\n",
       "  background-color: var(--sklearn-color-fitted-level-3);\n",
       "}\n",
       "</style><div id=\"sk-container-id-1\" class=\"sk-top-container\"><div class=\"sk-text-repr-fallback\"><pre>GridSearchCV(cv=3, estimator=DBSCAN(), n_jobs=-1,\n",
       "             param_grid={&#x27;eps&#x27;: array([0.1, 0.3, 0.5, 0.7, 0.9, 1.1, 1.3, 1.5, 1.7, 1.9, 2.1, 2.3, 2.5,\n",
       "       2.7, 2.9]),\n",
       "                         &#x27;min_samples&#x27;: range(1, 20, 4)},\n",
       "             scoring=&lt;function silhouette_score at 0x000001764F7677E0&gt;)</pre><b>In a Jupyter environment, please rerun this cell to show the HTML representation or trust the notebook. <br />On GitHub, the HTML representation is unable to render, please try loading this page with nbviewer.org.</b></div><div class=\"sk-container\" hidden><div class=\"sk-item sk-dashed-wrapped\"><div class=\"sk-label-container\"><div class=\"sk-label fitted sk-toggleable\"><input class=\"sk-toggleable__control sk-hidden--visually\" id=\"sk-estimator-id-1\" type=\"checkbox\" ><label for=\"sk-estimator-id-1\" class=\"sk-toggleable__label fitted sk-toggleable__label-arrow fitted\">&nbsp;&nbsp;GridSearchCV<a class=\"sk-estimator-doc-link fitted\" rel=\"noreferrer\" target=\"_blank\" href=\"https://scikit-learn.org/1.5/modules/generated/sklearn.model_selection.GridSearchCV.html\">?<span>Documentation for GridSearchCV</span></a><span class=\"sk-estimator-doc-link fitted\">i<span>Fitted</span></span></label><div class=\"sk-toggleable__content fitted\"><pre>GridSearchCV(cv=3, estimator=DBSCAN(), n_jobs=-1,\n",
       "             param_grid={&#x27;eps&#x27;: array([0.1, 0.3, 0.5, 0.7, 0.9, 1.1, 1.3, 1.5, 1.7, 1.9, 2.1, 2.3, 2.5,\n",
       "       2.7, 2.9]),\n",
       "                         &#x27;min_samples&#x27;: range(1, 20, 4)},\n",
       "             scoring=&lt;function silhouette_score at 0x000001764F7677E0&gt;)</pre></div> </div></div><div class=\"sk-parallel\"><div class=\"sk-parallel-item\"><div class=\"sk-item\"><div class=\"sk-label-container\"><div class=\"sk-label fitted sk-toggleable\"><input class=\"sk-toggleable__control sk-hidden--visually\" id=\"sk-estimator-id-2\" type=\"checkbox\" ><label for=\"sk-estimator-id-2\" class=\"sk-toggleable__label fitted sk-toggleable__label-arrow fitted\">best_estimator_: DBSCAN</label><div class=\"sk-toggleable__content fitted\"><pre>DBSCAN(eps=0.1, min_samples=1)</pre></div> </div></div><div class=\"sk-serial\"><div class=\"sk-item\"><div class=\"sk-estimator fitted sk-toggleable\"><input class=\"sk-toggleable__control sk-hidden--visually\" id=\"sk-estimator-id-3\" type=\"checkbox\" ><label for=\"sk-estimator-id-3\" class=\"sk-toggleable__label fitted sk-toggleable__label-arrow fitted\">&nbsp;DBSCAN<a class=\"sk-estimator-doc-link fitted\" rel=\"noreferrer\" target=\"_blank\" href=\"https://scikit-learn.org/1.5/modules/generated/sklearn.cluster.DBSCAN.html\">?<span>Documentation for DBSCAN</span></a></label><div class=\"sk-toggleable__content fitted\"><pre>DBSCAN(eps=0.1, min_samples=1)</pre></div> </div></div></div></div></div></div></div></div></div>"
      ],
      "text/plain": [
       "GridSearchCV(cv=3, estimator=DBSCAN(), n_jobs=-1,\n",
       "             param_grid={'eps': array([0.1, 0.3, 0.5, 0.7, 0.9, 1.1, 1.3, 1.5, 1.7, 1.9, 2.1, 2.3, 2.5,\n",
       "       2.7, 2.9]),\n",
       "                         'min_samples': range(1, 20, 4)},\n",
       "             scoring=<function silhouette_score at 0x000001764F7677E0>)"
      ]
     },
     "execution_count": 67,
     "metadata": {},
     "output_type": "execute_result"
    }
   ],
   "source": [
    "params = {\"eps\":np.arange(0.1,3,0.2), \n",
    "          \"min_samples\":range(1,20,4)}\n",
    "\n",
    "grid_search = GridSearchCV(\n",
    "    estimator=cluster.DBSCAN(), \n",
    "    param_grid=params, \n",
    "    scoring=metrics.silhouette_score(),\n",
    "    cv=3, \n",
    "    n_jobs = -1\n",
    ")  \n",
    "%time grid_search.fit(X_norm) \n",
    "\n",
    "# y_test_pred = grid_search.predict(X_test)\n",
    "# y_train_pred = grid_search.predict(X_train)\n",
    "\n",
    "# print(f'F1 test data: {metrics.f1_score(y_test, y_test_pred):.4f}')\n",
    "# print(f'F1 train data: {metrics.f1_score(y_train, y_train_pred):.4f}')\n",
    "# print(f\"Наилучшие значения гиперпараметров: {grid_search.best_params_}\")"
   ]
  },
  {
   "cell_type": "code",
   "execution_count": 73,
   "metadata": {},
   "outputs": [
    {
     "name": "stdout",
     "output_type": "stream",
     "text": [
      "0.1 1 0.016088101678116043\n",
      "0.1 5 -0.37480763495802677\n",
      "0.1 9 -0.25356488418531886\n",
      "0.1 13 -0.2436145630317598\n",
      "0.1 17 -0.2501812991771469\n",
      "0.30000000000000004 1 0.022678660017728367\n",
      "0.30000000000000004 5 -0.42447460395317227\n",
      "0.30000000000000004 9 -0.40420939636920766\n",
      "0.30000000000000004 13 -0.35198371916868315\n",
      "0.30000000000000004 17 -0.35259593550295876\n",
      "0.5000000000000001 1 -0.14501241385518446\n",
      "0.5000000000000001 5 -0.4437013266683457\n",
      "0.5000000000000001 9 -0.31765746320613075\n",
      "0.5000000000000001 13 -0.13380219141974145\n",
      "0.5000000000000001 17 -0.18647706862226324\n",
      "0.7000000000000001 1 -0.2612758090201566\n",
      "0.7000000000000001 5 -0.43883698908601104\n",
      "0.7000000000000001 9 -0.3260020902287138\n",
      "0.7000000000000001 13 -0.270490209893498\n",
      "0.7000000000000001 17 -0.2664710582213962\n",
      "0.9000000000000001 1 -0.36335889649837005\n",
      "0.9000000000000001 5 -0.35917534461115475\n",
      "0.9000000000000001 9 -0.08109625986258492\n",
      "0.9000000000000001 13 0.06343609339685843\n",
      "0.9000000000000001 17 -0.0409176997396811\n",
      "1.1000000000000003 1 -0.39662819413636086\n",
      "1.1000000000000003 5 -0.17994185293679058\n",
      "1.1000000000000003 9 -0.1213488079054028\n",
      "1.1000000000000003 13 0.11481198989436553\n",
      "1.1000000000000003 17 -0.03385908720755913\n",
      "1.3000000000000003 1 -0.3993047504322948\n",
      "1.3000000000000003 5 -0.01993699528256738\n",
      "1.3000000000000003 9 0.17202105190019748\n",
      "1.3000000000000003 13 0.1328000862195638\n",
      "1.3000000000000003 17 0.25284257299749274\n",
      "1.5000000000000004 1 -0.36011831503354125\n",
      "1.5000000000000004 5 0.0006108002564730606\n",
      "1.5000000000000004 9 0.34017784034858156\n",
      "1.5000000000000004 13 0.32502824526451146\n",
      "1.5000000000000004 17 0.31460365998121037\n",
      "1.7000000000000004 1 -0.3034925734818829\n",
      "1.7000000000000004 5 0.3989012470191399\n",
      "1.7000000000000004 9 0.33832266083207063\n",
      "1.7000000000000004 13 0.3836772723783637\n",
      "1.7000000000000004 17 0.37205220691963853\n",
      "1.9000000000000004 1 -0.24930714283326794\n",
      "1.9000000000000004 5 0.4615929634856809\n",
      "1.9000000000000004 9 0.4429586946642464\n",
      "1.9000000000000004 13 0.42994274943032856\n",
      "1.9000000000000004 17 0.4210121916619263\n",
      "2.1000000000000005 1 -0.16545159976732626\n",
      "2.1000000000000005 5 0.3984617548562999\n",
      "2.1000000000000005 9 0.4868837359042326\n",
      "2.1000000000000005 13 0.4745456826687933\n",
      "2.1000000000000005 17 0.4674387961495498\n",
      "2.3000000000000007 1 -0.11767111430757225\n",
      "2.3000000000000007 5 0.5383407820202382\n",
      "2.3000000000000007 9 0.5247523156388073\n",
      "2.3000000000000007 13 0.5167980357211629\n",
      "2.3000000000000007 17 0.5050056031200334\n",
      "2.5000000000000004 1 -0.032320237843266104\n",
      "2.5000000000000004 5 0.5677103324342029\n",
      "2.5000000000000004 9 0.5549578396278291\n",
      "2.5000000000000004 13 0.5480161731057316\n",
      "2.5000000000000004 17 0.5440274991275202\n",
      "2.7000000000000006 1 0.04667075229912745\n",
      "2.7000000000000006 5 0.5921820322333877\n",
      "2.7000000000000006 9 0.5797916921786391\n",
      "2.7000000000000006 13 0.5731613052711626\n",
      "2.7000000000000006 17 0.5703824045750898\n",
      "2.900000000000001 1 0.1064980390575189\n",
      "2.900000000000001 5 0.6173453608696496\n",
      "2.900000000000001 9 0.603811143781068\n",
      "2.900000000000001 13 0.5953985556350827\n",
      "2.900000000000001 17 0.5919235588636445\n"
     ]
    },
    {
     "data": {
      "text/plain": [
       "[{'eps': 0.1, 'min_samples': 1, 'sil': 0.016088101678116043},\n",
       " {'eps': 0.1, 'min_samples': 5, 'sil': -0.37480763495802677},\n",
       " {'eps': 0.1, 'min_samples': 9, 'sil': -0.25356488418531886},\n",
       " {'eps': 0.1, 'min_samples': 13, 'sil': -0.2436145630317598},\n",
       " {'eps': 0.1, 'min_samples': 17, 'sil': -0.2501812991771469},\n",
       " {'eps': 0.30000000000000004, 'min_samples': 1, 'sil': 0.022678660017728367},\n",
       " {'eps': 0.30000000000000004, 'min_samples': 5, 'sil': -0.42447460395317227},\n",
       " {'eps': 0.30000000000000004, 'min_samples': 9, 'sil': -0.40420939636920766},\n",
       " {'eps': 0.30000000000000004, 'min_samples': 13, 'sil': -0.35198371916868315},\n",
       " {'eps': 0.30000000000000004, 'min_samples': 17, 'sil': -0.35259593550295876},\n",
       " {'eps': 0.5000000000000001, 'min_samples': 1, 'sil': -0.14501241385518446},\n",
       " {'eps': 0.5000000000000001, 'min_samples': 5, 'sil': -0.4437013266683457},\n",
       " {'eps': 0.5000000000000001, 'min_samples': 9, 'sil': -0.31765746320613075},\n",
       " {'eps': 0.5000000000000001, 'min_samples': 13, 'sil': -0.13380219141974145},\n",
       " {'eps': 0.5000000000000001, 'min_samples': 17, 'sil': -0.18647706862226324},\n",
       " {'eps': 0.7000000000000001, 'min_samples': 1, 'sil': -0.2612758090201566},\n",
       " {'eps': 0.7000000000000001, 'min_samples': 5, 'sil': -0.43883698908601104},\n",
       " {'eps': 0.7000000000000001, 'min_samples': 9, 'sil': -0.3260020902287138},\n",
       " {'eps': 0.7000000000000001, 'min_samples': 13, 'sil': -0.270490209893498},\n",
       " {'eps': 0.7000000000000001, 'min_samples': 17, 'sil': -0.2664710582213962},\n",
       " {'eps': 0.9000000000000001, 'min_samples': 1, 'sil': -0.36335889649837005},\n",
       " {'eps': 0.9000000000000001, 'min_samples': 5, 'sil': -0.35917534461115475},\n",
       " {'eps': 0.9000000000000001, 'min_samples': 9, 'sil': -0.08109625986258492},\n",
       " {'eps': 0.9000000000000001, 'min_samples': 13, 'sil': 0.06343609339685843},\n",
       " {'eps': 0.9000000000000001, 'min_samples': 17, 'sil': -0.0409176997396811},\n",
       " {'eps': 1.1000000000000003, 'min_samples': 1, 'sil': -0.39662819413636086},\n",
       " {'eps': 1.1000000000000003, 'min_samples': 5, 'sil': -0.17994185293679058},\n",
       " {'eps': 1.1000000000000003, 'min_samples': 9, 'sil': -0.1213488079054028},\n",
       " {'eps': 1.1000000000000003, 'min_samples': 13, 'sil': 0.11481198989436553},\n",
       " {'eps': 1.1000000000000003, 'min_samples': 17, 'sil': -0.03385908720755913},\n",
       " {'eps': 1.3000000000000003, 'min_samples': 1, 'sil': -0.3993047504322948},\n",
       " {'eps': 1.3000000000000003, 'min_samples': 5, 'sil': -0.01993699528256738},\n",
       " {'eps': 1.3000000000000003, 'min_samples': 9, 'sil': 0.17202105190019748},\n",
       " {'eps': 1.3000000000000003, 'min_samples': 13, 'sil': 0.1328000862195638},\n",
       " {'eps': 1.3000000000000003, 'min_samples': 17, 'sil': 0.25284257299749274},\n",
       " {'eps': 1.5000000000000004, 'min_samples': 1, 'sil': -0.36011831503354125},\n",
       " {'eps': 1.5000000000000004, 'min_samples': 5, 'sil': 0.0006108002564730606},\n",
       " {'eps': 1.5000000000000004, 'min_samples': 9, 'sil': 0.34017784034858156},\n",
       " {'eps': 1.5000000000000004, 'min_samples': 13, 'sil': 0.32502824526451146},\n",
       " {'eps': 1.5000000000000004, 'min_samples': 17, 'sil': 0.31460365998121037},\n",
       " {'eps': 1.7000000000000004, 'min_samples': 1, 'sil': -0.3034925734818829},\n",
       " {'eps': 1.7000000000000004, 'min_samples': 5, 'sil': 0.3989012470191399},\n",
       " {'eps': 1.7000000000000004, 'min_samples': 9, 'sil': 0.33832266083207063},\n",
       " {'eps': 1.7000000000000004, 'min_samples': 13, 'sil': 0.3836772723783637},\n",
       " {'eps': 1.7000000000000004, 'min_samples': 17, 'sil': 0.37205220691963853},\n",
       " {'eps': 1.9000000000000004, 'min_samples': 1, 'sil': -0.24930714283326794},\n",
       " {'eps': 1.9000000000000004, 'min_samples': 5, 'sil': 0.4615929634856809},\n",
       " {'eps': 1.9000000000000004, 'min_samples': 9, 'sil': 0.4429586946642464},\n",
       " {'eps': 1.9000000000000004, 'min_samples': 13, 'sil': 0.42994274943032856},\n",
       " {'eps': 1.9000000000000004, 'min_samples': 17, 'sil': 0.4210121916619263},\n",
       " {'eps': 2.1000000000000005, 'min_samples': 1, 'sil': -0.16545159976732626},\n",
       " {'eps': 2.1000000000000005, 'min_samples': 5, 'sil': 0.3984617548562999},\n",
       " {'eps': 2.1000000000000005, 'min_samples': 9, 'sil': 0.4868837359042326},\n",
       " {'eps': 2.1000000000000005, 'min_samples': 13, 'sil': 0.4745456826687933},\n",
       " {'eps': 2.1000000000000005, 'min_samples': 17, 'sil': 0.4674387961495498},\n",
       " {'eps': 2.3000000000000007, 'min_samples': 1, 'sil': -0.11767111430757225},\n",
       " {'eps': 2.3000000000000007, 'min_samples': 5, 'sil': 0.5383407820202382},\n",
       " {'eps': 2.3000000000000007, 'min_samples': 9, 'sil': 0.5247523156388073},\n",
       " {'eps': 2.3000000000000007, 'min_samples': 13, 'sil': 0.5167980357211629},\n",
       " {'eps': 2.3000000000000007, 'min_samples': 17, 'sil': 0.5050056031200334},\n",
       " {'eps': 2.5000000000000004, 'min_samples': 1, 'sil': -0.032320237843266104},\n",
       " {'eps': 2.5000000000000004, 'min_samples': 5, 'sil': 0.5677103324342029},\n",
       " {'eps': 2.5000000000000004, 'min_samples': 9, 'sil': 0.5549578396278291},\n",
       " {'eps': 2.5000000000000004, 'min_samples': 13, 'sil': 0.5480161731057316},\n",
       " {'eps': 2.5000000000000004, 'min_samples': 17, 'sil': 0.5440274991275202},\n",
       " {'eps': 2.7000000000000006, 'min_samples': 1, 'sil': 0.04667075229912745},\n",
       " {'eps': 2.7000000000000006, 'min_samples': 5, 'sil': 0.5921820322333877},\n",
       " {'eps': 2.7000000000000006, 'min_samples': 9, 'sil': 0.5797916921786391},\n",
       " {'eps': 2.7000000000000006, 'min_samples': 13, 'sil': 0.5731613052711626},\n",
       " {'eps': 2.7000000000000006, 'min_samples': 17, 'sil': 0.5703824045750898},\n",
       " {'eps': 2.900000000000001, 'min_samples': 1, 'sil': 0.1064980390575189},\n",
       " {'eps': 2.900000000000001, 'min_samples': 5, 'sil': 0.6173453608696496},\n",
       " {'eps': 2.900000000000001, 'min_samples': 9, 'sil': 0.603811143781068},\n",
       " {'eps': 2.900000000000001, 'min_samples': 13, 'sil': 0.5953985556350827},\n",
       " {'eps': 2.900000000000001, 'min_samples': 17, 'sil': 0.5919235588636445}]"
      ]
     },
     "execution_count": 73,
     "metadata": {},
     "output_type": "execute_result"
    }
   ],
   "source": [
    "result = []\n",
    "for eps in np.arange(0.1,3,0.2):\n",
    "    for min_samples in range(1,20,4):\n",
    "        dbs = cluster.DBSCAN(eps=eps, min_samples=min_samples)\n",
    "        y = dbs.fit(X_norm)\n",
    "        sil = metrics.silhouette_score(X_norm, dbs.labels_, metric='euclidean')\n",
    "        print(eps, min_samples, sil)\n",
    "        result.append({'eps':eps, 'min_samples': min_samples, 'sil': sil})\n",
    "           \n",
    "result\n"
   ]
  },
  {
   "cell_type": "code",
   "execution_count": 78,
   "metadata": {},
   "outputs": [
    {
     "data": {
      "text/plain": [
       "eps            2.900000\n",
       "min_samples    5.000000\n",
       "sil            0.617345\n",
       "Name: 71, dtype: float64"
      ]
     },
     "execution_count": 78,
     "metadata": {},
     "output_type": "execute_result"
    }
   ],
   "source": [
    "r = pd.DataFrame(result)\n",
    "r.sort_values('sil', ascending=False).iloc[0]"
   ]
  },
  {
   "cell_type": "markdown",
   "metadata": {},
   "source": [
    "Задание 7.9\n",
    "1 point possible (graded)\n",
    "Теперь давайте реализуем агломеративную иерархическую кластеризацию. Переберите количество кластеров в диапазоне от 3 до 9 включительно и найдите то их число, которое будет давать максимальный коэффициент силуэта.\n"
   ]
  },
  {
   "cell_type": "code",
   "execution_count": 79,
   "metadata": {},
   "outputs": [
    {
     "name": "stdout",
     "output_type": "stream",
     "text": [
      "3 0.1731098007232828\n",
      "4 0.1547093352037027\n",
      "5 0.15806867978666445\n",
      "6 0.17335577924064002\n",
      "7 0.156415467090623\n",
      "8 0.15203451293262077\n",
      "9 0.15371895842035113\n"
     ]
    }
   ],
   "source": [
    "for n_clusters in range(3, 10):\n",
    "    agl = cluster.AgglomerativeClustering(n_clusters=n_clusters)\n",
    "    y = agl.fit(X_norm)\n",
    "    sil = metrics.silhouette_score(X_norm, agl.labels_, metric='euclidean')\n",
    "    print(n_clusters, sil)"
   ]
  },
  {
   "cell_type": "markdown",
   "metadata": {},
   "source": [
    "Задание 7.10\n",
    "0/1 point (graded)\n",
    "Сколько будет наблюдений в самом многочисленном классе, если мы обучим на наших данных модель агломеративной иерархической кластеризации с количеством кластеров, полученным в предыдущем задании?"
   ]
  },
  {
   "cell_type": "code",
   "execution_count": 87,
   "metadata": {},
   "outputs": [
    {
     "name": "stdout",
     "output_type": "stream",
     "text": [
      "group 0 has 3946 members\n",
      "group 1 has 2931 members\n",
      "group 2 has 864 members\n",
      "group 3 has 464 members\n",
      "group 4 has 23 members\n",
      "group 5 has 722 members\n"
     ]
    }
   ],
   "source": [
    "agl = cluster.AgglomerativeClustering(n_clusters=6)\n",
    "y = agl.fit(X_norm)\n",
    "\n",
    "for i in set(y.labels_):\n",
    "    print(f'group {i} has {list(y.labels_).count(i)} members')"
   ]
  },
  {
   "cell_type": "code",
   "execution_count": 90,
   "metadata": {},
   "outputs": [
    {
     "data": {
      "image/png": "[encoded data removed]",
      "text/plain": [
       "<Figure size 1000x600 with 1 Axes>"
      ]
     },
     "metadata": {},
     "output_type": "display_data"
    }
   ],
   "source": [
    "kmeans = cluster.KMeans(n_clusters=3, random_state=42)\n",
    "kmeans.fit(X_norm)\n",
    "data['cluster'] = kmeans.labels_\n",
    "plt.figure(figsize=(10,6))\n",
    "sns.scatterplot(data=data, x='CREDIT_LIMIT', y='PURCHASES', hue='cluster')\n",
    "plt.show()"
   ]
  }
 ],
 "metadata": {
  "kernelspec": {
   "display_name": ".venv",
   "language": "python",
   "name": "python3"
  },
  "language_info": {
   "codemirror_mode": {
    "name": "ipython",
    "version": 3
   },
   "file_extension": ".py",
   "mimetype": "text/x-python",
   "name": "python",
   "nbconvert_exporter": "python",
   "pygments_lexer": "ipython3",
   "version": "3.11.7"
  }
 },
 "nbformat": 4,
 "nbformat_minor": 2
}
