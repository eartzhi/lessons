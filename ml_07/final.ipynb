{
 "cells": [
  {
   "cell_type": "markdown",
   "metadata": {},
   "source": [
    "## ML-7. Оптимизация гиперпараметров модели"
   ]
  },
  {
   "cell_type": "code",
   "execution_count": 79,
   "metadata": {},
   "outputs": [],
   "source": [
    "import numpy as np\n",
    "import pandas as pd\n",
    "import hyperopt\n",
    "import optuna\n",
    "\n",
    "from sklearn import linear_model\n",
    "from sklearn import ensemble\n",
    "from sklearn import metrics\n",
    "from sklearn.model_selection import GridSearchCV, RandomizedSearchCV, \\\n",
    "train_test_split, cross_val_score\n",
    "from hyperopt import hp, fmin, tpe, Trials"
   ]
  },
  {
   "cell_type": "markdown",
   "metadata": {},
   "source": [
    "### Разведывательный анализ"
   ]
  },
  {
   "cell_type": "code",
   "execution_count": 80,
   "metadata": {},
   "outputs": [],
   "source": [
    "data = pd.read_csv('data/_train_sem09__1_.zip')"
   ]
  },
  {
   "cell_type": "code",
   "execution_count": 81,
   "metadata": {},
   "outputs": [
    {
     "data": {
      "text/html": [
       "<div>\n",
       "<style scoped>\n",
       "    .dataframe tbody tr th:only-of-type {\n",
       "        vertical-align: middle;\n",
       "    }\n",
       "\n",
       "    .dataframe tbody tr th {\n",
       "        vertical-align: top;\n",
       "    }\n",
       "\n",
       "    .dataframe thead th {\n",
       "        text-align: right;\n",
       "    }\n",
       "</style>\n",
       "<table border=\"1\" class=\"dataframe\">\n",
       "  <thead>\n",
       "    <tr style=\"text-align: right;\">\n",
       "      <th></th>\n",
       "      <th>Activity</th>\n",
       "      <th>D1</th>\n",
       "      <th>D2</th>\n",
       "      <th>D3</th>\n",
       "      <th>D4</th>\n",
       "      <th>D5</th>\n",
       "      <th>D6</th>\n",
       "      <th>D7</th>\n",
       "      <th>D8</th>\n",
       "      <th>D9</th>\n",
       "      <th>...</th>\n",
       "      <th>D1767</th>\n",
       "      <th>D1768</th>\n",
       "      <th>D1769</th>\n",
       "      <th>D1770</th>\n",
       "      <th>D1771</th>\n",
       "      <th>D1772</th>\n",
       "      <th>D1773</th>\n",
       "      <th>D1774</th>\n",
       "      <th>D1775</th>\n",
       "      <th>D1776</th>\n",
       "    </tr>\n",
       "  </thead>\n",
       "  <tbody>\n",
       "    <tr>\n",
       "      <th>0</th>\n",
       "      <td>1</td>\n",
       "      <td>0.000000</td>\n",
       "      <td>0.497009</td>\n",
       "      <td>0.10</td>\n",
       "      <td>0.0</td>\n",
       "      <td>0.132956</td>\n",
       "      <td>0.678031</td>\n",
       "      <td>0.273166</td>\n",
       "      <td>0.585445</td>\n",
       "      <td>0.743663</td>\n",
       "      <td>...</td>\n",
       "      <td>0</td>\n",
       "      <td>0</td>\n",
       "      <td>0</td>\n",
       "      <td>0</td>\n",
       "      <td>0</td>\n",
       "      <td>0</td>\n",
       "      <td>0</td>\n",
       "      <td>0</td>\n",
       "      <td>0</td>\n",
       "      <td>0</td>\n",
       "    </tr>\n",
       "    <tr>\n",
       "      <th>1</th>\n",
       "      <td>1</td>\n",
       "      <td>0.366667</td>\n",
       "      <td>0.606291</td>\n",
       "      <td>0.05</td>\n",
       "      <td>0.0</td>\n",
       "      <td>0.111209</td>\n",
       "      <td>0.803455</td>\n",
       "      <td>0.106105</td>\n",
       "      <td>0.411754</td>\n",
       "      <td>0.836582</td>\n",
       "      <td>...</td>\n",
       "      <td>1</td>\n",
       "      <td>1</td>\n",
       "      <td>1</td>\n",
       "      <td>1</td>\n",
       "      <td>0</td>\n",
       "      <td>1</td>\n",
       "      <td>0</td>\n",
       "      <td>0</td>\n",
       "      <td>1</td>\n",
       "      <td>0</td>\n",
       "    </tr>\n",
       "    <tr>\n",
       "      <th>2</th>\n",
       "      <td>1</td>\n",
       "      <td>0.033300</td>\n",
       "      <td>0.480124</td>\n",
       "      <td>0.00</td>\n",
       "      <td>0.0</td>\n",
       "      <td>0.209791</td>\n",
       "      <td>0.610350</td>\n",
       "      <td>0.356453</td>\n",
       "      <td>0.517720</td>\n",
       "      <td>0.679051</td>\n",
       "      <td>...</td>\n",
       "      <td>0</td>\n",
       "      <td>0</td>\n",
       "      <td>0</td>\n",
       "      <td>0</td>\n",
       "      <td>0</td>\n",
       "      <td>0</td>\n",
       "      <td>0</td>\n",
       "      <td>0</td>\n",
       "      <td>0</td>\n",
       "      <td>0</td>\n",
       "    </tr>\n",
       "  </tbody>\n",
       "</table>\n",
       "<p>3 rows × 1777 columns</p>\n",
       "</div>"
      ],
      "text/plain": [
       "   Activity        D1        D2    D3   D4        D5        D6        D7  \\\n",
       "0         1  0.000000  0.497009  0.10  0.0  0.132956  0.678031  0.273166   \n",
       "1         1  0.366667  0.606291  0.05  0.0  0.111209  0.803455  0.106105   \n",
       "2         1  0.033300  0.480124  0.00  0.0  0.209791  0.610350  0.356453   \n",
       "\n",
       "         D8        D9  ...  D1767  D1768  D1769  D1770  D1771  D1772  D1773  \\\n",
       "0  0.585445  0.743663  ...      0      0      0      0      0      0      0   \n",
       "1  0.411754  0.836582  ...      1      1      1      1      0      1      0   \n",
       "2  0.517720  0.679051  ...      0      0      0      0      0      0      0   \n",
       "\n",
       "   D1774  D1775  D1776  \n",
       "0      0      0      0  \n",
       "1      0      1      0  \n",
       "2      0      0      0  \n",
       "\n",
       "[3 rows x 1777 columns]"
      ]
     },
     "execution_count": 81,
     "metadata": {},
     "output_type": "execute_result"
    }
   ],
   "source": [
    "data.head(3)"
   ]
  },
  {
   "cell_type": "code",
   "execution_count": 82,
   "metadata": {},
   "outputs": [
    {
     "name": "stdout",
     "output_type": "stream",
     "text": [
      "<class 'pandas.core.frame.DataFrame'>\n",
      "RangeIndex: 3751 entries, 0 to 3750\n",
      "Columns: 1777 entries, Activity to D1776\n",
      "dtypes: float64(942), int64(835)\n",
      "memory usage: 50.9 MB\n"
     ]
    }
   ],
   "source": [
    "data.info()"
   ]
  },
  {
   "cell_type": "code",
   "execution_count": 83,
   "metadata": {},
   "outputs": [
    {
     "data": {
      "text/html": [
       "<div>\n",
       "<style scoped>\n",
       "    .dataframe tbody tr th:only-of-type {\n",
       "        vertical-align: middle;\n",
       "    }\n",
       "\n",
       "    .dataframe tbody tr th {\n",
       "        vertical-align: top;\n",
       "    }\n",
       "\n",
       "    .dataframe thead th {\n",
       "        text-align: right;\n",
       "    }\n",
       "</style>\n",
       "<table border=\"1\" class=\"dataframe\">\n",
       "  <thead>\n",
       "    <tr style=\"text-align: right;\">\n",
       "      <th></th>\n",
       "      <th>Activity</th>\n",
       "      <th>D1</th>\n",
       "      <th>D2</th>\n",
       "      <th>D3</th>\n",
       "      <th>D4</th>\n",
       "      <th>D5</th>\n",
       "      <th>D6</th>\n",
       "      <th>D7</th>\n",
       "      <th>D8</th>\n",
       "      <th>D9</th>\n",
       "      <th>...</th>\n",
       "      <th>D1767</th>\n",
       "      <th>D1768</th>\n",
       "      <th>D1769</th>\n",
       "      <th>D1770</th>\n",
       "      <th>D1771</th>\n",
       "      <th>D1772</th>\n",
       "      <th>D1773</th>\n",
       "      <th>D1774</th>\n",
       "      <th>D1775</th>\n",
       "      <th>D1776</th>\n",
       "    </tr>\n",
       "  </thead>\n",
       "  <tbody>\n",
       "    <tr>\n",
       "      <th>count</th>\n",
       "      <td>3751.000000</td>\n",
       "      <td>3751.000000</td>\n",
       "      <td>3751.000000</td>\n",
       "      <td>3751.000000</td>\n",
       "      <td>3751.000000</td>\n",
       "      <td>3751.000000</td>\n",
       "      <td>3751.000000</td>\n",
       "      <td>3751.000000</td>\n",
       "      <td>3751.000000</td>\n",
       "      <td>3751.000000</td>\n",
       "      <td>...</td>\n",
       "      <td>3751.000000</td>\n",
       "      <td>3751.000000</td>\n",
       "      <td>3751.000000</td>\n",
       "      <td>3751.000000</td>\n",
       "      <td>3751.000000</td>\n",
       "      <td>3751.000000</td>\n",
       "      <td>3751.000000</td>\n",
       "      <td>3751.000000</td>\n",
       "      <td>3751.000000</td>\n",
       "      <td>3751.000000</td>\n",
       "    </tr>\n",
       "    <tr>\n",
       "      <th>mean</th>\n",
       "      <td>0.542255</td>\n",
       "      <td>0.076948</td>\n",
       "      <td>0.592436</td>\n",
       "      <td>0.068142</td>\n",
       "      <td>0.038990</td>\n",
       "      <td>0.212112</td>\n",
       "      <td>0.686653</td>\n",
       "      <td>0.274713</td>\n",
       "      <td>0.455133</td>\n",
       "      <td>0.749517</td>\n",
       "      <td>...</td>\n",
       "      <td>0.026926</td>\n",
       "      <td>0.014663</td>\n",
       "      <td>0.013863</td>\n",
       "      <td>0.021861</td>\n",
       "      <td>0.015196</td>\n",
       "      <td>0.016796</td>\n",
       "      <td>0.012263</td>\n",
       "      <td>0.011730</td>\n",
       "      <td>0.020261</td>\n",
       "      <td>0.011197</td>\n",
       "    </tr>\n",
       "    <tr>\n",
       "      <th>std</th>\n",
       "      <td>0.498278</td>\n",
       "      <td>0.079989</td>\n",
       "      <td>0.105860</td>\n",
       "      <td>0.078414</td>\n",
       "      <td>0.115885</td>\n",
       "      <td>0.102592</td>\n",
       "      <td>0.078702</td>\n",
       "      <td>0.090017</td>\n",
       "      <td>0.162731</td>\n",
       "      <td>0.071702</td>\n",
       "      <td>...</td>\n",
       "      <td>0.161889</td>\n",
       "      <td>0.120215</td>\n",
       "      <td>0.116938</td>\n",
       "      <td>0.146249</td>\n",
       "      <td>0.122348</td>\n",
       "      <td>0.128522</td>\n",
       "      <td>0.110074</td>\n",
       "      <td>0.107683</td>\n",
       "      <td>0.140911</td>\n",
       "      <td>0.105236</td>\n",
       "    </tr>\n",
       "    <tr>\n",
       "      <th>min</th>\n",
       "      <td>0.000000</td>\n",
       "      <td>0.000000</td>\n",
       "      <td>0.282128</td>\n",
       "      <td>0.000000</td>\n",
       "      <td>0.000000</td>\n",
       "      <td>0.002630</td>\n",
       "      <td>0.137873</td>\n",
       "      <td>0.006130</td>\n",
       "      <td>0.000000</td>\n",
       "      <td>0.275590</td>\n",
       "      <td>...</td>\n",
       "      <td>0.000000</td>\n",
       "      <td>0.000000</td>\n",
       "      <td>0.000000</td>\n",
       "      <td>0.000000</td>\n",
       "      <td>0.000000</td>\n",
       "      <td>0.000000</td>\n",
       "      <td>0.000000</td>\n",
       "      <td>0.000000</td>\n",
       "      <td>0.000000</td>\n",
       "      <td>0.000000</td>\n",
       "    </tr>\n",
       "    <tr>\n",
       "      <th>25%</th>\n",
       "      <td>0.000000</td>\n",
       "      <td>0.033300</td>\n",
       "      <td>0.517811</td>\n",
       "      <td>0.000000</td>\n",
       "      <td>0.000000</td>\n",
       "      <td>0.138118</td>\n",
       "      <td>0.625627</td>\n",
       "      <td>0.207374</td>\n",
       "      <td>0.378062</td>\n",
       "      <td>0.707339</td>\n",
       "      <td>...</td>\n",
       "      <td>0.000000</td>\n",
       "      <td>0.000000</td>\n",
       "      <td>0.000000</td>\n",
       "      <td>0.000000</td>\n",
       "      <td>0.000000</td>\n",
       "      <td>0.000000</td>\n",
       "      <td>0.000000</td>\n",
       "      <td>0.000000</td>\n",
       "      <td>0.000000</td>\n",
       "      <td>0.000000</td>\n",
       "    </tr>\n",
       "    <tr>\n",
       "      <th>50%</th>\n",
       "      <td>1.000000</td>\n",
       "      <td>0.066700</td>\n",
       "      <td>0.585989</td>\n",
       "      <td>0.050000</td>\n",
       "      <td>0.000000</td>\n",
       "      <td>0.190926</td>\n",
       "      <td>0.674037</td>\n",
       "      <td>0.277845</td>\n",
       "      <td>0.499942</td>\n",
       "      <td>0.738961</td>\n",
       "      <td>...</td>\n",
       "      <td>0.000000</td>\n",
       "      <td>0.000000</td>\n",
       "      <td>0.000000</td>\n",
       "      <td>0.000000</td>\n",
       "      <td>0.000000</td>\n",
       "      <td>0.000000</td>\n",
       "      <td>0.000000</td>\n",
       "      <td>0.000000</td>\n",
       "      <td>0.000000</td>\n",
       "      <td>0.000000</td>\n",
       "    </tr>\n",
       "    <tr>\n",
       "      <th>75%</th>\n",
       "      <td>1.000000</td>\n",
       "      <td>0.100000</td>\n",
       "      <td>0.668395</td>\n",
       "      <td>0.100000</td>\n",
       "      <td>0.000000</td>\n",
       "      <td>0.261726</td>\n",
       "      <td>0.740663</td>\n",
       "      <td>0.335816</td>\n",
       "      <td>0.569962</td>\n",
       "      <td>0.788177</td>\n",
       "      <td>...</td>\n",
       "      <td>0.000000</td>\n",
       "      <td>0.000000</td>\n",
       "      <td>0.000000</td>\n",
       "      <td>0.000000</td>\n",
       "      <td>0.000000</td>\n",
       "      <td>0.000000</td>\n",
       "      <td>0.000000</td>\n",
       "      <td>0.000000</td>\n",
       "      <td>0.000000</td>\n",
       "      <td>0.000000</td>\n",
       "    </tr>\n",
       "    <tr>\n",
       "      <th>max</th>\n",
       "      <td>1.000000</td>\n",
       "      <td>1.000000</td>\n",
       "      <td>0.964381</td>\n",
       "      <td>0.950000</td>\n",
       "      <td>1.000000</td>\n",
       "      <td>1.000000</td>\n",
       "      <td>0.994735</td>\n",
       "      <td>0.790831</td>\n",
       "      <td>0.989870</td>\n",
       "      <td>1.000000</td>\n",
       "      <td>...</td>\n",
       "      <td>1.000000</td>\n",
       "      <td>1.000000</td>\n",
       "      <td>1.000000</td>\n",
       "      <td>1.000000</td>\n",
       "      <td>1.000000</td>\n",
       "      <td>1.000000</td>\n",
       "      <td>1.000000</td>\n",
       "      <td>1.000000</td>\n",
       "      <td>1.000000</td>\n",
       "      <td>1.000000</td>\n",
       "    </tr>\n",
       "  </tbody>\n",
       "</table>\n",
       "<p>8 rows × 1777 columns</p>\n",
       "</div>"
      ],
      "text/plain": [
       "          Activity           D1           D2           D3           D4  \\\n",
       "count  3751.000000  3751.000000  3751.000000  3751.000000  3751.000000   \n",
       "mean      0.542255     0.076948     0.592436     0.068142     0.038990   \n",
       "std       0.498278     0.079989     0.105860     0.078414     0.115885   \n",
       "min       0.000000     0.000000     0.282128     0.000000     0.000000   \n",
       "25%       0.000000     0.033300     0.517811     0.000000     0.000000   \n",
       "50%       1.000000     0.066700     0.585989     0.050000     0.000000   \n",
       "75%       1.000000     0.100000     0.668395     0.100000     0.000000   \n",
       "max       1.000000     1.000000     0.964381     0.950000     1.000000   \n",
       "\n",
       "                D5           D6           D7           D8           D9  ...  \\\n",
       "count  3751.000000  3751.000000  3751.000000  3751.000000  3751.000000  ...   \n",
       "mean      0.212112     0.686653     0.274713     0.455133     0.749517  ...   \n",
       "std       0.102592     0.078702     0.090017     0.162731     0.071702  ...   \n",
       "min       0.002630     0.137873     0.006130     0.000000     0.275590  ...   \n",
       "25%       0.138118     0.625627     0.207374     0.378062     0.707339  ...   \n",
       "50%       0.190926     0.674037     0.277845     0.499942     0.738961  ...   \n",
       "75%       0.261726     0.740663     0.335816     0.569962     0.788177  ...   \n",
       "max       1.000000     0.994735     0.790831     0.989870     1.000000  ...   \n",
       "\n",
       "             D1767        D1768        D1769        D1770        D1771  \\\n",
       "count  3751.000000  3751.000000  3751.000000  3751.000000  3751.000000   \n",
       "mean      0.026926     0.014663     0.013863     0.021861     0.015196   \n",
       "std       0.161889     0.120215     0.116938     0.146249     0.122348   \n",
       "min       0.000000     0.000000     0.000000     0.000000     0.000000   \n",
       "25%       0.000000     0.000000     0.000000     0.000000     0.000000   \n",
       "50%       0.000000     0.000000     0.000000     0.000000     0.000000   \n",
       "75%       0.000000     0.000000     0.000000     0.000000     0.000000   \n",
       "max       1.000000     1.000000     1.000000     1.000000     1.000000   \n",
       "\n",
       "             D1772        D1773        D1774        D1775        D1776  \n",
       "count  3751.000000  3751.000000  3751.000000  3751.000000  3751.000000  \n",
       "mean      0.016796     0.012263     0.011730     0.020261     0.011197  \n",
       "std       0.128522     0.110074     0.107683     0.140911     0.105236  \n",
       "min       0.000000     0.000000     0.000000     0.000000     0.000000  \n",
       "25%       0.000000     0.000000     0.000000     0.000000     0.000000  \n",
       "50%       0.000000     0.000000     0.000000     0.000000     0.000000  \n",
       "75%       0.000000     0.000000     0.000000     0.000000     0.000000  \n",
       "max       1.000000     1.000000     1.000000     1.000000     1.000000  \n",
       "\n",
       "[8 rows x 1777 columns]"
      ]
     },
     "execution_count": 83,
     "metadata": {},
     "output_type": "execute_result"
    }
   ],
   "source": [
    "data.describe(include='all')"
   ]
  },
  {
   "cell_type": "code",
   "execution_count": 84,
   "metadata": {},
   "outputs": [
    {
     "data": {
      "text/plain": [
       "Activity\n",
       "1    0.542255\n",
       "0    0.457745\n",
       "Name: proportion, dtype: float64"
      ]
     },
     "execution_count": 84,
     "metadata": {},
     "output_type": "execute_result"
    }
   ],
   "source": [
    "data['Activity'].value_counts(normalize=True)"
   ]
  },
  {
   "cell_type": "markdown",
   "metadata": {},
   "source": [
    "**Вывод:** В целом данные почти сбалансированы."
   ]
  },
  {
   "cell_type": "markdown",
   "metadata": {},
   "source": [
    "### Разбиение на выборки"
   ]
  },
  {
   "cell_type": "code",
   "execution_count": 85,
   "metadata": {},
   "outputs": [],
   "source": [
    "X = data.drop(['Activity'], axis=1)\n",
    "y = data['Activity']"
   ]
  },
  {
   "cell_type": "code",
   "execution_count": 86,
   "metadata": {},
   "outputs": [],
   "source": [
    "X_train, X_test, y_train, y_test = train_test_split(X, y, stratify=y, random_state = 42, test_size = 0.2)"
   ]
  },
  {
   "cell_type": "markdown",
   "metadata": {},
   "source": [
    "### Обучение базовых моделей"
   ]
  },
  {
   "cell_type": "markdown",
   "metadata": {},
   "source": [
    "<center> *Логистическая регрессия*"
   ]
  },
  {
   "cell_type": "code",
   "execution_count": 87,
   "metadata": {},
   "outputs": [
    {
     "name": "stdout",
     "output_type": "stream",
     "text": [
      "f1_score на тестовом наборе: 0.78\n"
     ]
    }
   ],
   "source": [
    "\n",
    "log_simpl = linear_model.LogisticRegression(max_iter = 1000, random_state=42)\n",
    "\n",
    "log_simpl.fit(X_train, y_train)\n",
    "\n",
    "y_test_pred = log_simpl.predict(X_test)\n",
    "print(f'f1_score на тестовом наборе: {metrics.f1_score(y_test, y_test_pred):.2f}')"
   ]
  },
  {
   "cell_type": "markdown",
   "metadata": {},
   "source": [
    "<center> *Случайный лес*"
   ]
  },
  {
   "cell_type": "code",
   "execution_count": 88,
   "metadata": {},
   "outputs": [
    {
     "name": "stdout",
     "output_type": "stream",
     "text": [
      "f1_score на тестовом наборе: 0.80\n"
     ]
    }
   ],
   "source": [
    "rf_simpl = ensemble.RandomForestClassifier(random_state=42)\n",
    "\n",
    "\n",
    "rf_simpl.fit(X_train, y_train)\n",
    "\n",
    "y_train_pred = rf_simpl.predict(X_train)\n",
    "\n",
    "y_test_pred = rf_simpl.predict(X_test)\n",
    "print(f'f1_score на тестовом наборе: {metrics.f1_score(y_test, y_test_pred):.2f}')"
   ]
  },
  {
   "cell_type": "markdown",
   "metadata": {},
   "source": [
    "### GridSearchCV"
   ]
  },
  {
   "cell_type": "markdown",
   "metadata": {},
   "source": [
    "<center> *Логистическая регрессия*"
   ]
  },
  {
   "cell_type": "code",
   "execution_count": 89,
   "metadata": {},
   "outputs": [
    {
     "name": "stdout",
     "output_type": "stream",
     "text": [
      "CPU times: total: 17.9 s\n",
      "Wall time: 38min 21s\n",
      "f1_score на тестовом наборе: 0.78\n",
      "Наилучшие значения гиперпараметров: {'C': 0.1, 'penalty': 'l2', 'solver': 'newton-cg'}\n"
     ]
    }
   ],
   "source": [
    "param_grid = {'penalty': [None, 'l2'] ,\n",
    "              'solver': ['lbfgs', 'newton-cg', 'saga'],\n",
    "              'C': [0.001, 0.01, 0.1, 0.3, 0.5, 0.7, 0.9, 1, 5]\n",
    "              }\n",
    "grid_search = GridSearchCV(\n",
    "    estimator=linear_model.LogisticRegression(\n",
    "        random_state=42,\n",
    "        max_iter=1000\n",
    "    ), \n",
    "    param_grid=param_grid, \n",
    "    cv=10, \n",
    "    n_jobs = -1\n",
    ")  \n",
    "%time grid_search.fit(X_train, y_train) \n",
    "\n",
    "y_test_pred = grid_search.predict(X_test)\n",
    "print(f'f1_score на тестовом наборе: {metrics.f1_score(y_test, y_test_pred):.2f}')\n",
    "print(f\"Наилучшие значения гиперпараметров: {grid_search.best_params_}\")"
   ]
  },
  {
   "cell_type": "markdown",
   "metadata": {},
   "source": [
    "<center> *Случайный лес*"
   ]
  },
  {
   "cell_type": "code",
   "execution_count": 90,
   "metadata": {},
   "outputs": [
    {
     "name": "stdout",
     "output_type": "stream",
     "text": [
      "CPU times: total: 9.3 s\n",
      "Wall time: 7min 32s\n",
      "f1_score на тестовом наборе: 0.81\n",
      "Наилучшие значения гиперпараметров: {'max_depth': 15, 'min_samples_leaf': 2, 'n_estimators': 200}\n"
     ]
    }
   ],
   "source": [
    "param_grid = {'n_estimators': [100, 200, 300, 400],\n",
    "              'min_samples_leaf': [2, 5, 10, 20],\n",
    "              'max_depth': [3, 5, 10, 15, 20]\n",
    "              }\n",
    "\n",
    "grid_search = GridSearchCV(\n",
    "    estimator=ensemble.RandomForestClassifier(random_state=42), \n",
    "    param_grid=param_grid, \n",
    "    cv=10, \n",
    "    n_jobs = -1\n",
    ")  \n",
    "%time grid_search.fit(X_train, y_train) \n",
    "\n",
    "y_test_pred = grid_search.predict(X_test)\n",
    "print(f'f1_score на тестовом наборе: {metrics.f1_score(y_test, y_test_pred):.2f}')\n",
    "print(f\"Наилучшие значения гиперпараметров: {grid_search.best_params_}\")"
   ]
  },
  {
   "cell_type": "markdown",
   "metadata": {},
   "source": [
    "**Результаты по этапу GridSearchCV:**\n",
    "1. Логистическая регрессия (f1=0.78, время=38min 21s)\n",
    "2. Случайный лес (f1=0.81, время=7min 32s)\n",
    "\n",
    "*Лучший результат: метод GridSearchCV, алгоритм случайный лес (f1=0.81, время=7min 32s)*"
   ]
  },
  {
   "cell_type": "markdown",
   "metadata": {},
   "source": [
    "### RandomizedSearchCV"
   ]
  },
  {
   "cell_type": "markdown",
   "metadata": {},
   "source": [
    "<center> *Логистическая регрессия*"
   ]
  },
  {
   "cell_type": "code",
   "execution_count": 109,
   "metadata": {},
   "outputs": [
    {
     "name": "stdout",
     "output_type": "stream",
     "text": [
      "CPU times: total: 4.78 s\n",
      "Wall time: 8min 18s\n",
      "f1_score на тестовом наборе: 0.77\n",
      "Наилучшие значения гиперпараметров: {'solver': 'lbfgs', 'penalty': 'l2', 'C': 0.5357894736842106}\n"
     ]
    }
   ],
   "source": [
    "param_distributions = {'penalty': [None, 'l2'] ,\n",
    "              'solver': ['lbfgs', 'newton-cg', 'sag', 'saga'],\n",
    "               'C': list(np.linspace(0.01, 10, 20, dtype=float))}\n",
    "            \n",
    "random_search = RandomizedSearchCV(\n",
    "    estimator=linear_model.LogisticRegression(\n",
    "        random_state=42,\n",
    "        max_iter=1000\n",
    "    ), \n",
    "    param_distributions=param_distributions, \n",
    "    cv=10, \n",
    "    n_iter = 10, \n",
    "    n_jobs = -1\n",
    ")  \n",
    "%time random_search.fit(X_train, y_train) \n",
    "\n",
    "y_test_pred = random_search.predict(X_test)\n",
    "\n",
    "print(f'f1_score на тестовом наборе: {metrics.f1_score(y_test, y_test_pred):.2f}')\n",
    "print(f\"Наилучшие значения гиперпараметров: {random_search.best_params_}\")"
   ]
  },
  {
   "cell_type": "markdown",
   "metadata": {},
   "source": [
    "<center> *Случайный лес*"
   ]
  },
  {
   "cell_type": "code",
   "execution_count": 92,
   "metadata": {},
   "outputs": [
    {
     "name": "stdout",
     "output_type": "stream",
     "text": [
      "CPU times: total: 2.61 s\n",
      "Wall time: 1min 19s\n",
      "f1_score на тестовом наборе: 0.79\n",
      "Наилучшие значения гиперпараметров: {'n_estimators': 300, 'min_samples_leaf': 11, 'max_depth': 20}\n"
     ]
    }
   ],
   "source": [
    "param_distributions = {'n_estimators': list(np.linspace(100, 500, 5, dtype=int)),\n",
    "              'min_samples_leaf': list(np.linspace(2, 20, 5, dtype=int)),\n",
    "              'max_depth': list(np.linspace(2, 20, 5, dtype=int))}\n",
    "            \n",
    "random_search = RandomizedSearchCV(\n",
    "    estimator=ensemble.RandomForestClassifier(random_state=42),\n",
    "    param_distributions=param_distributions, \n",
    "    cv=10, \n",
    "    n_iter = 10, \n",
    "    n_jobs = -1\n",
    ")  \n",
    "%time random_search.fit(X_train, y_train) \n",
    "\n",
    "y_test_pred = random_search.predict(X_test)\n",
    "\n",
    "print(f'f1_score на тестовом наборе: {metrics.f1_score(y_test, y_test_pred):.2f}')\n",
    "print(f\"Наилучшие значения гиперпараметров: {random_search.best_params_}\")"
   ]
  },
  {
   "cell_type": "markdown",
   "metadata": {},
   "source": [
    "**Результаты по этапу RandomizedSearchCV:**\n",
    "1. Логистическая регрессия (f1=0.77, время=8min 18s)\n",
    "2. Случайный лес (f1=0.79, время=1min 19s)\n",
    "\n",
    "*Лучший результат: метод GridSearchCV, алгоритм случайный лес (f1=0.81, время=7min 32s)*"
   ]
  },
  {
   "cell_type": "markdown",
   "metadata": {},
   "source": [
    "### Hyperopt"
   ]
  },
  {
   "cell_type": "markdown",
   "metadata": {},
   "source": [
    "<center> *Логистическая регрессия*"
   ]
  },
  {
   "cell_type": "code",
   "execution_count": 93,
   "metadata": {},
   "outputs": [],
   "source": [
    "def hyperopt_lr(params, cv=10, X=X_train, y=y_train):\n",
    "    params = {'penalty': params['penalty'], \n",
    "              'solver': params['solver'], \n",
    "              'C': float(params['C'])\n",
    "              }\n",
    "  \n",
    "    model = linear_model.LogisticRegression(random_state=42, max_iter=1000, **params)\n",
    "    \n",
    "    score = cross_val_score(model, X, y, cv=cv, scoring=\"f1\", n_jobs=-1).mean()\n",
    "\n",
    "    # метрику необходимо минимизировать, поэтому ставим знак минус\n",
    "    return -score"
   ]
  },
  {
   "cell_type": "code",
   "execution_count": 94,
   "metadata": {},
   "outputs": [],
   "source": [
    "space={'penalty': hp.choice('penalty', [None, 'l2']),\n",
    "       'solver': hp.choice('solver', ['lbfgs', 'newton-cg', 'sag', 'saga']),\n",
    "       'C': hp.uniform('С', 0.001, 10)}"
   ]
  },
  {
   "cell_type": "code",
   "execution_count": 95,
   "metadata": {},
   "outputs": [
    {
     "name": "stdout",
     "output_type": "stream",
     "text": [
      "100%|██████████| 20/20 [19:37<00:00, 58.87s/trial, best loss: -0.7784555979100054] \n",
      "Наилучшие значения гиперпараметров {'penalty': 1, 'solver': 3, 'С': 0.643804346232183}\n",
      "CPU times: total: 6 s\n",
      "Wall time: 19min 37s\n"
     ]
    }
   ],
   "source": [
    "%%time\n",
    "\n",
    "trials = Trials() # используется для логирования результатов\n",
    "\n",
    "best=fmin(hyperopt_lr, # наша функция \n",
    "          space=space, # пространство гиперпараметров\n",
    "          algo=tpe.suggest, # алгоритм оптимизации, установлен по умолчанию, задавать необязательно\n",
    "          max_evals=20, # максимальное количество итераций\n",
    "          trials=trials, # логирование результатов\n",
    "          rstate=np.random.default_rng(42)# фиксируем для повторяемости результата\n",
    "         )\n",
    "\n",
    "print(f\"Наилучшие значения гиперпараметров {best}\")"
   ]
  },
  {
   "cell_type": "code",
   "execution_count": 96,
   "metadata": {},
   "outputs": [
    {
     "name": "stdout",
     "output_type": "stream",
     "text": [
      "f1_score на тестовом наборе: 0.77\n"
     ]
    }
   ],
   "source": [
    "model = linear_model.LogisticRegression(random_state=42, \n",
    "                                        max_iter=1000,\n",
    "                                        penalty=[None, 'l2'][best['penalty']],\n",
    "                                        solver=['lbfgs', 'newton-cg', 'sag', 'saga'][best['solver']],\n",
    "                                        C=best['С']\n",
    "                                        )\n",
    "\n",
    "model.fit(X_train, y_train)\n",
    "\n",
    "y_test_pred = model.predict(X_test)\n",
    "print(f'f1_score на тестовом наборе: {metrics.f1_score(y_test, y_test_pred):.2f}')"
   ]
  },
  {
   "cell_type": "markdown",
   "metadata": {},
   "source": [
    "<center> *Случайный лес*"
   ]
  },
  {
   "cell_type": "code",
   "execution_count": 97,
   "metadata": {},
   "outputs": [],
   "source": [
    "def hyperopt_rf(params, cv=10, X=X_train, y=y_train):\n",
    "    params = {'n_estimators': int(params['n_estimators']), \n",
    "              'max_depth': int(params['max_depth']), \n",
    "             'min_samples_leaf': int(params['min_samples_leaf'])\n",
    "              }\n",
    "  \n",
    "    model = ensemble.RandomForestClassifier(**params, random_state=42)\n",
    "\n",
    "    score = cross_val_score(model, X, y, cv=cv, scoring=\"f1\", n_jobs=-1).mean()\n",
    "\n",
    "    # метрику необходимо минимизировать, поэтому ставим знак минус\n",
    "    return -score"
   ]
  },
  {
   "cell_type": "code",
   "execution_count": 98,
   "metadata": {},
   "outputs": [],
   "source": [
    "space={'n_estimators': hp.quniform('n_estimators', 100, 500, 10),\n",
    "       'max_depth' : hp.quniform('max_depth', 2, 20, 1),\n",
    "       'min_samples_leaf': hp.quniform('min_samples_leaf', 2, 20, 1)\n",
    "      }"
   ]
  },
  {
   "cell_type": "code",
   "execution_count": 99,
   "metadata": {},
   "outputs": [
    {
     "name": "stdout",
     "output_type": "stream",
     "text": [
      "100%|██████████| 20/20 [02:30<00:00,  7.52s/trial, best loss: -0.8197052715279278]\n",
      "Наилучшие значения гиперпараметров {'max_depth': 13.0, 'min_samples_leaf': 3.0, 'n_estimators': 160.0}\n",
      "CPU times: total: 766 ms\n",
      "Wall time: 2min 30s\n"
     ]
    }
   ],
   "source": [
    "%%time\n",
    "\n",
    "trials = Trials() # используется для логирования результатов\n",
    "\n",
    "best=fmin(hyperopt_rf, # наша функция \n",
    "          space=space, # пространство гиперпараметров\n",
    "          algo=tpe.suggest, # алгоритм оптимизации, установлен по умолчанию, задавать необязательно\n",
    "          max_evals=20, # максимальное количество итераций\n",
    "          trials=trials, # логирование результатов\n",
    "          rstate=np.random.default_rng(42)# фиксируем для повторяемости результата\n",
    "         )\n",
    "\n",
    "print(f\"Наилучшие значения гиперпараметров {best}\")"
   ]
  },
  {
   "cell_type": "code",
   "execution_count": 100,
   "metadata": {},
   "outputs": [
    {
     "name": "stdout",
     "output_type": "stream",
     "text": [
      "f1_score на тестовом наборе: 0.78\n"
     ]
    }
   ],
   "source": [
    "model = ensemble.RandomForestClassifier(\n",
    "                                        random_state=42, \n",
    "                                        n_estimators=int(best['n_estimators']),\n",
    "                                        max_depth=int(best['max_depth']),\n",
    "                                        min_samples_leaf=int(best['min_samples_leaf'])\n",
    "                                        )\n",
    "\n",
    "model.fit(X_train, y_train)\n",
    "\n",
    "y_test_pred = model.predict(X_test)\n",
    "print(f'f1_score на тестовом наборе: {metrics.f1_score(y_test, y_test_pred):.2f}')"
   ]
  },
  {
   "cell_type": "markdown",
   "metadata": {},
   "source": [
    "**Результаты по этапу Hyperopt:**\n",
    "1. Логистическая регрессия (f1=0.77, время=19min 37s)\n",
    "2. Случайный лес (f1=0.78, время=2min 30s)\n",
    "\n",
    "*Лучший результат: метод GridSearchCV, алгоритм случайный лес (f1=0.81, время=7min 32s)*"
   ]
  },
  {
   "cell_type": "markdown",
   "metadata": {},
   "source": [
    "### Optuna"
   ]
  },
  {
   "cell_type": "markdown",
   "metadata": {},
   "source": [
    "<center> *Логистическая регрессия*"
   ]
  },
  {
   "cell_type": "code",
   "execution_count": 101,
   "metadata": {},
   "outputs": [],
   "source": [
    "def optuna_lr(trial,):\n",
    "  # задаем пространства поиска гиперпараметров\n",
    "  penalty = trial.suggest_categorical('penalty', [None, 'l2'])\n",
    "  solver = trial.suggest_categorical('solver', ['lbfgs', 'newton-cg', 'sag', 'saga'])\n",
    "  С = trial.suggest_float('C', 0.01, 9.51, step=0.5, log=False)\n",
    "\n",
    "  \n",
    "  model = linear_model.LogisticRegression(random_state=42, \n",
    "                                          max_iter=1000, \n",
    "                                          C=С,\n",
    "                                          penalty=penalty,\n",
    "                                          solver=solver)\n",
    "  \n",
    "  # обучаем модель\n",
    "  score = cross_val_score(model, X_train, y_train, cv=10, scoring=\"f1\", n_jobs=-1).mean()\n",
    "\n",
    "  return score"
   ]
  },
  {
   "cell_type": "code",
   "execution_count": 102,
   "metadata": {},
   "outputs": [
    {
     "name": "stderr",
     "output_type": "stream",
     "text": [
      "[I 2024-09-12 14:31:16,510] A new study created in memory with name: LogisticRegression\n",
      "[I 2024-09-12 14:31:24,652] Trial 0 finished with value: 0.7661796382476469 and parameters: {'penalty': 'l2', 'solver': 'lbfgs', 'C': 9.01}. Best is trial 0 with value: 0.7661796382476469.\n",
      "[I 2024-09-12 14:34:13,994] Trial 1 finished with value: 0.7739884788543067 and parameters: {'penalty': 'l2', 'solver': 'saga', 'C': 4.51}. Best is trial 1 with value: 0.7739884788543067.\n",
      "[I 2024-09-12 14:34:20,240] Trial 2 finished with value: 0.772455070828275 and parameters: {'penalty': 'l2', 'solver': 'newton-cg', 'C': 5.01}. Best is trial 1 with value: 0.7739884788543067.\n",
      "[I 2024-09-12 14:36:59,010] Trial 3 finished with value: 0.7739233542671953 and parameters: {'penalty': 'l2', 'solver': 'saga', 'C': 7.01}. Best is trial 1 with value: 0.7739884788543067.\n",
      "[I 2024-09-12 14:39:18,018] Trial 4 finished with value: 0.7659153272207446 and parameters: {'penalty': None, 'solver': 'sag', 'C': 5.01}. Best is trial 1 with value: 0.7739884788543067.\n",
      "[I 2024-09-12 14:39:57,008] Trial 5 finished with value: 0.7233933943347579 and parameters: {'penalty': None, 'solver': 'newton-cg', 'C': 3.01}. Best is trial 1 with value: 0.7739884788543067.\n",
      "[I 2024-09-12 14:40:35,646] Trial 6 finished with value: 0.7233933943347579 and parameters: {'penalty': None, 'solver': 'newton-cg', 'C': 9.01}. Best is trial 1 with value: 0.7739884788543067.\n",
      "[I 2024-09-12 14:41:16,557] Trial 7 finished with value: 0.7233933943347579 and parameters: {'penalty': None, 'solver': 'newton-cg', 'C': 2.01}. Best is trial 1 with value: 0.7739884788543067.\n",
      "[I 2024-09-12 14:41:23,592] Trial 8 finished with value: 0.7719031384004499 and parameters: {'penalty': 'l2', 'solver': 'lbfgs', 'C': 5.01}. Best is trial 1 with value: 0.7739884788543067.\n",
      "[I 2024-09-12 14:43:38,077] Trial 9 finished with value: 0.7747050705919221 and parameters: {'penalty': 'l2', 'solver': 'sag', 'C': 4.01}. Best is trial 9 with value: 0.7747050705919221.\n",
      "[I 2024-09-12 14:43:50,601] Trial 10 finished with value: 0.7851657891346248 and parameters: {'penalty': 'l2', 'solver': 'sag', 'C': 0.01}. Best is trial 10 with value: 0.7851657891346248.\n",
      "[I 2024-09-12 14:44:03,112] Trial 11 finished with value: 0.7851657891346248 and parameters: {'penalty': 'l2', 'solver': 'sag', 'C': 0.01}. Best is trial 10 with value: 0.7851657891346248.\n",
      "[I 2024-09-12 14:44:15,976] Trial 12 finished with value: 0.7851657891346248 and parameters: {'penalty': 'l2', 'solver': 'sag', 'C': 0.01}. Best is trial 10 with value: 0.7851657891346248.\n",
      "[I 2024-09-12 14:44:28,401] Trial 13 finished with value: 0.7851657891346248 and parameters: {'penalty': 'l2', 'solver': 'sag', 'C': 0.01}. Best is trial 10 with value: 0.7851657891346248.\n",
      "[I 2024-09-12 14:45:41,440] Trial 14 finished with value: 0.7743854354449617 and parameters: {'penalty': 'l2', 'solver': 'sag', 'C': 1.51}. Best is trial 10 with value: 0.7851657891346248.\n",
      "[I 2024-09-12 14:46:54,640] Trial 15 finished with value: 0.7743854354449617 and parameters: {'penalty': 'l2', 'solver': 'sag', 'C': 1.51}. Best is trial 10 with value: 0.7851657891346248.\n",
      "[I 2024-09-12 14:48:01,669] Trial 16 finished with value: 0.7790011057802907 and parameters: {'penalty': 'l2', 'solver': 'sag', 'C': 0.51}. Best is trial 10 with value: 0.7851657891346248.\n",
      "[I 2024-09-12 14:49:38,813] Trial 17 finished with value: 0.7733516799599183 and parameters: {'penalty': 'l2', 'solver': 'sag', 'C': 2.51}. Best is trial 10 with value: 0.7851657891346248.\n",
      "[I 2024-09-12 14:52:15,582] Trial 18 finished with value: 0.7707289076351549 and parameters: {'penalty': None, 'solver': 'saga', 'C': 7.01}. Best is trial 10 with value: 0.7851657891346248.\n",
      "[I 2024-09-12 14:52:19,556] Trial 19 finished with value: 0.7781914956557024 and parameters: {'penalty': 'l2', 'solver': 'lbfgs', 'C': 1.01}. Best is trial 10 with value: 0.7851657891346248.\n"
     ]
    },
    {
     "name": "stdout",
     "output_type": "stream",
     "text": [
      "CPU times: total: 4.55 s\n",
      "Wall time: 21min 3s\n"
     ]
    }
   ],
   "source": [
    "%%time\n",
    "# cоздаем объект исследования\n",
    "# можем напрямую указать, что нам необходимо максимизировать метрику direction=\"maximize\"\n",
    "study = optuna.create_study(study_name=\"LogisticRegression\", direction=\"maximize\")\n",
    "# ищем лучшую комбинацию гиперпараметров n_trials раз\n",
    "study.optimize(optuna_lr, n_trials=20)"
   ]
  },
  {
   "cell_type": "code",
   "execution_count": 103,
   "metadata": {},
   "outputs": [
    {
     "name": "stdout",
     "output_type": "stream",
     "text": [
      "Наилучшие значения гиперпараметров {'penalty': 'l2', 'solver': 'sag', 'C': 0.01}\n",
      "f1_score на обучающем наборе: 0.79\n"
     ]
    }
   ],
   "source": [
    "# выводим результаты на обучающей выборке\n",
    "print(\"Наилучшие значения гиперпараметров {}\".format(study.best_params))\n",
    "print(\"f1_score на обучающем наборе: {:.2f}\".format(study.best_value))"
   ]
  },
  {
   "cell_type": "code",
   "execution_count": 104,
   "metadata": {},
   "outputs": [
    {
     "name": "stdout",
     "output_type": "stream",
     "text": [
      "f1_score на тестовом наборе: 0.78\n"
     ]
    }
   ],
   "source": [
    "model = linear_model.LogisticRegression(**study.best_params, random_state=42, max_iter=1000)\n",
    "model.fit(X_train, y_train)\n",
    "\n",
    "y_test_pred = model.predict(X_test)\n",
    "print(f'f1_score на тестовом наборе: {metrics.f1_score(y_test, y_test_pred):.2f}')"
   ]
  },
  {
   "cell_type": "markdown",
   "metadata": {},
   "source": [
    "<center> *Случайный лес*"
   ]
  },
  {
   "cell_type": "code",
   "execution_count": 105,
   "metadata": {},
   "outputs": [],
   "source": [
    "def optuna_rf(trial,):\n",
    "  # задаем пространства поиска гиперпараметров\n",
    "  n_estimators = trial.suggest_int('n_estimators', 100, 500,step=10,log=False)\n",
    "  max_depth = trial.suggest_int('max_depth', 2, 20, step=1,log=False)\n",
    "  min_samples_leaf = trial.suggest_int('min_samples_leaf', 2, 20, step=1, log=False)\n",
    "  \n",
    "\n",
    "  \n",
    "  model = ensemble.RandomForestClassifier(random_state=42, \n",
    "                                          n_estimators=n_estimators,\n",
    "                                          max_depth=max_depth,\n",
    "                                          min_samples_leaf=min_samples_leaf)\n",
    "  \n",
    "  # обучаем модель\n",
    "  score = cross_val_score(model, X_train, y_train, cv=10, scoring=\"f1\", n_jobs=-1).mean()\n",
    "\n",
    "  return score"
   ]
  },
  {
   "cell_type": "code",
   "execution_count": 106,
   "metadata": {},
   "outputs": [
    {
     "name": "stderr",
     "output_type": "stream",
     "text": [
      "[I 2024-09-12 14:52:22,764] A new study created in memory with name: RandomForestClassifier\n",
      "[I 2024-09-12 14:52:37,617] Trial 0 finished with value: 0.8068744943887489 and parameters: {'n_estimators': 460, 'max_depth': 9, 'min_samples_leaf': 3}. Best is trial 0 with value: 0.8068744943887489.\n",
      "[I 2024-09-12 14:52:50,402] Trial 1 finished with value: 0.809525662734025 and parameters: {'n_estimators': 410, 'max_depth': 9, 'min_samples_leaf': 2}. Best is trial 1 with value: 0.809525662734025.\n",
      "[I 2024-09-12 14:52:55,408] Trial 2 finished with value: 0.7518623865535313 and parameters: {'n_estimators': 390, 'max_depth': 3, 'min_samples_leaf': 7}. Best is trial 1 with value: 0.809525662734025.\n",
      "[I 2024-09-12 14:53:02,905] Trial 3 finished with value: 0.8147106559202737 and parameters: {'n_estimators': 210, 'max_depth': 17, 'min_samples_leaf': 8}. Best is trial 3 with value: 0.8147106559202737.\n",
      "[I 2024-09-12 14:53:10,991] Trial 4 finished with value: 0.7954341671389766 and parameters: {'n_estimators': 260, 'max_depth': 10, 'min_samples_leaf': 17}. Best is trial 3 with value: 0.8147106559202737.\n",
      "[I 2024-09-12 14:53:23,310] Trial 5 finished with value: 0.8071813795613266 and parameters: {'n_estimators': 360, 'max_depth': 10, 'min_samples_leaf': 6}. Best is trial 3 with value: 0.8147106559202737.\n",
      "[I 2024-09-12 14:53:38,292] Trial 6 finished with value: 0.8135067959424248 and parameters: {'n_estimators': 380, 'max_depth': 16, 'min_samples_leaf': 6}. Best is trial 3 with value: 0.8147106559202737.\n",
      "[I 2024-09-12 14:53:42,489] Trial 7 finished with value: 0.7592732125913149 and parameters: {'n_estimators': 220, 'max_depth': 4, 'min_samples_leaf': 8}. Best is trial 3 with value: 0.8147106559202737.\n",
      "[I 2024-09-12 14:53:45,184] Trial 8 finished with value: 0.7356879462040449 and parameters: {'n_estimators': 220, 'max_depth': 2, 'min_samples_leaf': 15}. Best is trial 3 with value: 0.8147106559202737.\n",
      "[I 2024-09-12 14:53:54,247] Trial 9 finished with value: 0.7833703600180888 and parameters: {'n_estimators': 360, 'max_depth': 7, 'min_samples_leaf': 13}. Best is trial 3 with value: 0.8147106559202737.\n",
      "[I 2024-09-12 14:53:57,831] Trial 10 finished with value: 0.7981579230532445 and parameters: {'n_estimators': 100, 'max_depth': 20, 'min_samples_leaf': 11}. Best is trial 3 with value: 0.8147106559202737.\n",
      "[I 2024-09-12 14:54:02,921] Trial 11 finished with value: 0.8027796224370041 and parameters: {'n_estimators': 140, 'max_depth': 16, 'min_samples_leaf': 10}. Best is trial 3 with value: 0.8147106559202737.\n",
      "[I 2024-09-12 14:54:15,127] Trial 12 finished with value: 0.8147479344554555 and parameters: {'n_estimators': 300, 'max_depth': 15, 'min_samples_leaf': 5}. Best is trial 12 with value: 0.8147479344554555.\n",
      "[I 2024-09-12 14:54:26,588] Trial 13 finished with value: 0.816302456557566 and parameters: {'n_estimators': 280, 'max_depth': 15, 'min_samples_leaf': 4}. Best is trial 13 with value: 0.816302456557566.\n",
      "[I 2024-09-12 14:54:34,699] Trial 14 finished with value: 0.792505435547191 and parameters: {'n_estimators': 300, 'max_depth': 13, 'min_samples_leaf': 20}. Best is trial 13 with value: 0.816302456557566.\n",
      "[I 2024-09-12 14:54:46,584] Trial 15 finished with value: 0.8167218032953363 and parameters: {'n_estimators': 300, 'max_depth': 13, 'min_samples_leaf': 4}. Best is trial 15 with value: 0.8167218032953363.\n",
      "[I 2024-09-12 14:54:59,990] Trial 16 finished with value: 0.8173472339691162 and parameters: {'n_estimators': 320, 'max_depth': 19, 'min_samples_leaf': 4}. Best is trial 16 with value: 0.8173472339691162.\n",
      "[I 2024-09-12 14:55:23,161] Trial 17 finished with value: 0.824662068664782 and parameters: {'n_estimators': 480, 'max_depth': 19, 'min_samples_leaf': 2}. Best is trial 17 with value: 0.824662068664782.\n",
      "[I 2024-09-12 14:55:47,364] Trial 18 finished with value: 0.8222266402548467 and parameters: {'n_estimators': 500, 'max_depth': 20, 'min_samples_leaf': 2}. Best is trial 17 with value: 0.824662068664782.\n",
      "[I 2024-09-12 14:56:11,548] Trial 19 finished with value: 0.8216294294359173 and parameters: {'n_estimators': 490, 'max_depth': 18, 'min_samples_leaf': 2}. Best is trial 17 with value: 0.824662068664782.\n"
     ]
    },
    {
     "name": "stdout",
     "output_type": "stream",
     "text": [
      "CPU times: total: 1.28 s\n",
      "Wall time: 3min 48s\n"
     ]
    }
   ],
   "source": [
    "%%time\n",
    "# cоздаем объект исследования\n",
    "# можем напрямую указать, что нам необходимо максимизировать метрику direction=\"maximize\"\n",
    "study = optuna.create_study(study_name=\"RandomForestClassifier\", direction=\"maximize\")\n",
    "# ищем лучшую комбинацию гиперпараметров n_trials раз\n",
    "study.optimize(optuna_rf, n_trials=20)"
   ]
  },
  {
   "cell_type": "code",
   "execution_count": 107,
   "metadata": {},
   "outputs": [
    {
     "name": "stdout",
     "output_type": "stream",
     "text": [
      "Наилучшие значения гиперпараметров {'n_estimators': 480, 'max_depth': 19, 'min_samples_leaf': 2}\n",
      "f1_score на обучающем наборе: 0.82\n"
     ]
    }
   ],
   "source": [
    "# выводим результаты на обучающей выборке\n",
    "print(\"Наилучшие значения гиперпараметров {}\".format(study.best_params))\n",
    "print(\"f1_score на обучающем наборе: {:.2f}\".format(study.best_value))"
   ]
  },
  {
   "cell_type": "code",
   "execution_count": 108,
   "metadata": {},
   "outputs": [
    {
     "name": "stdout",
     "output_type": "stream",
     "text": [
      "f1_score на тестовом наборе: 0.80\n"
     ]
    }
   ],
   "source": [
    "model = ensemble.RandomForestClassifier(**study.best_params, random_state=42)\n",
    "model.fit(X_train, y_train)\n",
    "\n",
    "y_test_pred = model.predict(X_test)\n",
    "print(f'f1_score на тестовом наборе: {metrics.f1_score(y_test, y_test_pred):.2f}')"
   ]
  },
  {
   "cell_type": "markdown",
   "metadata": {},
   "source": [
    "**Результаты по этапу Optuna:**\n",
    "1. Логистическая регрессия (f1=0.78, время=21min 3s)\n",
    "2. Случайный лес (f1=0.80, время=3min 48s)\n",
    "\n",
    "*Лучший результат: метод GridSearchCV, алгоритм случайный лес (f1=0.81, время=7min 32s)*"
   ]
  },
  {
   "cell_type": "markdown",
   "metadata": {},
   "source": [
    "### Общий вывод"
   ]
  },
  {
   "cell_type": "markdown",
   "metadata": {},
   "source": [
    "***Лучший результат показал метод GridSearchCV, алгоритм случайный лес (f1=0.81, время=7min 32s)***"
   ]
  }
 ],
 "metadata": {
  "kernelspec": {
   "display_name": ".venv",
   "language": "python",
   "name": "python3"
  },
  "language_info": {
   "codemirror_mode": {
    "name": "ipython",
    "version": 3
   },
   "file_extension": ".py",
   "mimetype": "text/x-python",
   "name": "python",
   "nbconvert_exporter": "python",
   "pygments_lexer": "ipython3",
   "version": "3.11.7"
  }
 },
 "nbformat": 4,
 "nbformat_minor": 2
}
