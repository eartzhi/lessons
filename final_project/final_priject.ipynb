{
 "cells": [
  {
   "cell_type": "code",
   "execution_count": 2,
   "id": "a7d3884d",
   "metadata": {},
   "outputs": [],
   "source": [
    "import numpy as np \n",
    "import pandas as pd \n",
    "import matplotlib.pyplot as plt\n",
    "import seaborn as sns"
   ]
  },
  {
   "cell_type": "markdown",
   "id": "7688167d",
   "metadata": {},
   "source": [
    "## 0. Задания модулей"
   ]
  },
  {
   "cell_type": "markdown",
   "id": "33c4980f",
   "metadata": {},
   "source": [
    "**Задание 2.1**\n",
    "\n",
    "Сколько записей событий находится в датасете? Ответ введите без пробелов и знаков препинания."
   ]
  },
  {
   "cell_type": "code",
   "execution_count": 3,
   "id": "569d960e",
   "metadata": {},
   "outputs": [
    {
     "data": {
      "text/html": [
       "<div>\n",
       "<style scoped>\n",
       "    .dataframe tbody tr th:only-of-type {\n",
       "        vertical-align: middle;\n",
       "    }\n",
       "\n",
       "    .dataframe tbody tr th {\n",
       "        vertical-align: top;\n",
       "    }\n",
       "\n",
       "    .dataframe thead th {\n",
       "        text-align: right;\n",
       "    }\n",
       "</style>\n",
       "<table border=\"1\" class=\"dataframe\">\n",
       "  <thead>\n",
       "    <tr style=\"text-align: right;\">\n",
       "      <th></th>\n",
       "      <th>timestamp</th>\n",
       "      <th>visitorid</th>\n",
       "      <th>event</th>\n",
       "      <th>itemid</th>\n",
       "      <th>transactionid</th>\n",
       "    </tr>\n",
       "  </thead>\n",
       "  <tbody>\n",
       "    <tr>\n",
       "      <th>988096</th>\n",
       "      <td>1440173905041</td>\n",
       "      <td>1032492</td>\n",
       "      <td>view</td>\n",
       "      <td>78268</td>\n",
       "      <td>NaN</td>\n",
       "    </tr>\n",
       "    <tr>\n",
       "      <th>445945</th>\n",
       "      <td>1434959217322</td>\n",
       "      <td>557809</td>\n",
       "      <td>view</td>\n",
       "      <td>335076</td>\n",
       "      <td>NaN</td>\n",
       "    </tr>\n",
       "    <tr>\n",
       "      <th>2360074</th>\n",
       "      <td>1436903709519</td>\n",
       "      <td>952246</td>\n",
       "      <td>addtocart</td>\n",
       "      <td>280058</td>\n",
       "      <td>NaN</td>\n",
       "    </tr>\n",
       "    <tr>\n",
       "      <th>1130412</th>\n",
       "      <td>1440947530384</td>\n",
       "      <td>994820</td>\n",
       "      <td>view</td>\n",
       "      <td>301947</td>\n",
       "      <td>NaN</td>\n",
       "    </tr>\n",
       "    <tr>\n",
       "      <th>10552</th>\n",
       "      <td>1433190434796</td>\n",
       "      <td>417972</td>\n",
       "      <td>view</td>\n",
       "      <td>445749</td>\n",
       "      <td>NaN</td>\n",
       "    </tr>\n",
       "  </tbody>\n",
       "</table>\n",
       "</div>"
      ],
      "text/plain": [
       "             timestamp  visitorid      event  itemid  transactionid\n",
       "988096   1440173905041    1032492       view   78268            NaN\n",
       "445945   1434959217322     557809       view  335076            NaN\n",
       "2360074  1436903709519     952246  addtocart  280058            NaN\n",
       "1130412  1440947530384     994820       view  301947            NaN\n",
       "10552    1433190434796     417972       view  445749            NaN"
      ]
     },
     "execution_count": 3,
     "metadata": {},
     "output_type": "execute_result"
    }
   ],
   "source": [
    "events = pd.read_csv('data\\events.csv.zip')\n",
    "events.sample(5)"
   ]
  },
  {
   "cell_type": "code",
   "execution_count": 4,
   "id": "860fab62",
   "metadata": {},
   "outputs": [
    {
     "name": "stdout",
     "output_type": "stream",
     "text": [
      "В датасете 2756101 записей\n"
     ]
    }
   ],
   "source": [
    "print('В датасете', len(events.index), 'записей')"
   ]
  },
  {
   "cell_type": "markdown",
   "id": "9a7a9cc0",
   "metadata": {},
   "source": [
    "**Задание 2.2**\n",
    "\n",
    "Какие типы событий содержатся в датасете? Выберите все верные варианты."
   ]
  },
  {
   "cell_type": "code",
   "execution_count": 5,
   "id": "28f6f9a7",
   "metadata": {},
   "outputs": [
    {
     "data": {
      "text/plain": [
       "array(['view', 'addtocart', 'transaction'], dtype=object)"
      ]
     },
     "execution_count": 5,
     "metadata": {},
     "output_type": "execute_result"
    }
   ],
   "source": [
    "events.event.unique()"
   ]
  },
  {
   "cell_type": "markdown",
   "id": "1adc3ff8",
   "metadata": {},
   "source": [
    "Типы событий:  \n",
    "\n",
    "view (просмотр карточки товара)  \n",
    "addtocart (добавление в корзину)  \n",
    "transaction (покупка)"
   ]
  },
  {
   "cell_type": "markdown",
   "id": "574c3da9",
   "metadata": {},
   "source": [
    "**Задание 2.3**\n",
    "\n",
    "Сколько уникальных признаков товара есть в датасете? Ответ вводите без пробелов и знаков препинания."
   ]
  },
  {
   "cell_type": "code",
   "execution_count": 6,
   "id": "c8e5977f",
   "metadata": {},
   "outputs": [
    {
     "data": {
      "text/html": [
       "<div>\n",
       "<style scoped>\n",
       "    .dataframe tbody tr th:only-of-type {\n",
       "        vertical-align: middle;\n",
       "    }\n",
       "\n",
       "    .dataframe tbody tr th {\n",
       "        vertical-align: top;\n",
       "    }\n",
       "\n",
       "    .dataframe thead th {\n",
       "        text-align: right;\n",
       "    }\n",
       "</style>\n",
       "<table border=\"1\" class=\"dataframe\">\n",
       "  <thead>\n",
       "    <tr style=\"text-align: right;\">\n",
       "      <th></th>\n",
       "      <th>timestamp</th>\n",
       "      <th>itemid</th>\n",
       "      <th>property</th>\n",
       "      <th>value</th>\n",
       "    </tr>\n",
       "  </thead>\n",
       "  <tbody>\n",
       "    <tr>\n",
       "      <th>4112593</th>\n",
       "      <td>1435460400000</td>\n",
       "      <td>272994</td>\n",
       "      <td>486</td>\n",
       "      <td>1154859 86628</td>\n",
       "    </tr>\n",
       "    <tr>\n",
       "      <th>8964761</th>\n",
       "      <td>1435460400000</td>\n",
       "      <td>18223</td>\n",
       "      <td>678</td>\n",
       "      <td>223745</td>\n",
       "    </tr>\n",
       "    <tr>\n",
       "      <th>8308599</th>\n",
       "      <td>1433041200000</td>\n",
       "      <td>192377</td>\n",
       "      <td>0</td>\n",
       "      <td>1008741 561431 508431</td>\n",
       "    </tr>\n",
       "    <tr>\n",
       "      <th>2336433</th>\n",
       "      <td>1435460400000</td>\n",
       "      <td>88992</td>\n",
       "      <td>810</td>\n",
       "      <td>1241026 1160361 n240.000 424566</td>\n",
       "    </tr>\n",
       "    <tr>\n",
       "      <th>1043436</th>\n",
       "      <td>1440903600000</td>\n",
       "      <td>139080</td>\n",
       "      <td>790</td>\n",
       "      <td>n37080.000</td>\n",
       "    </tr>\n",
       "  </tbody>\n",
       "</table>\n",
       "</div>"
      ],
      "text/plain": [
       "             timestamp  itemid property                            value\n",
       "4112593  1435460400000  272994      486                    1154859 86628\n",
       "8964761  1435460400000   18223      678                           223745\n",
       "8308599  1433041200000  192377        0            1008741 561431 508431\n",
       "2336433  1435460400000   88992      810  1241026 1160361 n240.000 424566\n",
       "1043436  1440903600000  139080      790                       n37080.000"
      ]
     },
     "execution_count": 6,
     "metadata": {},
     "output_type": "execute_result"
    }
   ],
   "source": [
    "item_properties_1 = pd.read_csv('data\\item_properties_part1.csv')\n",
    "item_properties_2 = pd.read_csv('data\\item_properties_part2.csv')\n",
    "item_properties =pd.concat([item_properties_1, item_properties_2], axis=0)\n",
    "item_properties.sample(5)"
   ]
  },
  {
   "cell_type": "code",
   "execution_count": 7,
   "id": "ebdddf56",
   "metadata": {},
   "outputs": [
    {
     "name": "stdout",
     "output_type": "stream",
     "text": [
      "В датасете 1104 признаков товара\n"
     ]
    }
   ],
   "source": [
    "print('В датасете', item_properties.property.nunique(), 'признаков товара')"
   ]
  },
  {
   "cell_type": "markdown",
   "id": "5b407098",
   "metadata": {},
   "source": [
    "events — датасет с событиями. Колонки:\n",
    "\n",
    "timestamp — время события  \n",
    "visitorid — идентификатор пользователя  \n",
    "event — тип события  \n",
    "itemid — идентификатор объекта  \n",
    "transactionid — идентификатор транзакции, если она проходила  \n",
    "category_tree — файл с деревом категорий (можно восстановить дерево).  \n",
    "\n",
    "category_id — идентификатор категорий  \n",
    "parent_id — идентификатор родительской категории  \n",
    "item_properties — файл с свойствами товаров.  \n",
    "\n",
    "timestamp — момент записи значения свойства  \n",
    "item_id — идентификатор объекта  \n",
    "property — свойство, кажется, они все, кроме категории, захешированы  \n",
    "value — значение свойства  "
   ]
  },
  {
   "cell_type": "markdown",
   "id": "d5b858db",
   "metadata": {},
   "source": [
    "**Задание 4.1**\n",
    "\n",
    "Какой процент продаж обеспечивают топовые товары (точка отсечения — 1 июля)? Для расчёта используйте топ-3 товаров по числу транзакций.\n",
    "\n",
    "Ответ введите без знака процента."
   ]
  },
  {
   "cell_type": "code",
   "execution_count": 8,
   "id": "35654e8d",
   "metadata": {},
   "outputs": [
    {
     "data": {
      "text/plain": [
       "Timestamp('2015-09-18 02:59:47.788000')"
      ]
     },
     "execution_count": 8,
     "metadata": {},
     "output_type": "execute_result"
    }
   ],
   "source": [
    "events['datetime']=pd.to_datetime(events.timestamp, unit='ms')\n",
    "events.datetime.max()"
   ]
  },
  {
   "cell_type": "code",
   "execution_count": 9,
   "id": "17f17b15",
   "metadata": {},
   "outputs": [],
   "source": [
    "top_products = events[(events.datetime<='2015-07-01') & (events.event=='transaction')].itemid.value_counts(normalize=True).iloc[:3].index"
   ]
  },
  {
   "cell_type": "code",
   "execution_count": 10,
   "id": "f359a7d7",
   "metadata": {},
   "outputs": [
    {
     "name": "stdout",
     "output_type": "stream",
     "text": [
      "Процент продаж топ трех товаров 0.6014215418261345\n"
     ]
    }
   ],
   "source": [
    "persent_3 = events[(events.datetime>='2015-07-01') & (events.event=='transaction')].itemid.value_counts(normalize=True).loc[[top_products[0],top_products[2]]].sum()*100\n",
    "print('Процент продаж топ трех товаров', persent_3)"
   ]
  },
  {
   "cell_type": "markdown",
   "id": "e4a5b99d",
   "metadata": {},
   "source": [
    "**Задание 2.1**\n",
    "\n",
    "Серёга: Твой выход! Какой тип валидации в данном случае нужно использовать?"
   ]
  },
  {
   "cell_type": "code",
   "execution_count": 11,
   "id": "fb710fe3",
   "metadata": {},
   "outputs": [
    {
     "data": {
      "text/plain": [
       "itemid\n",
       "187946    1.237981e-03\n",
       "461686    1.080512e-03\n",
       "5411      8.468485e-04\n",
       "370653    6.726894e-04\n",
       "219512    6.530965e-04\n",
       "              ...     \n",
       "357730    3.628314e-07\n",
       "62768     3.628314e-07\n",
       "404071    3.628314e-07\n",
       "145333    3.628314e-07\n",
       "177353    3.628314e-07\n",
       "Name: proportion, Length: 235061, dtype: float64"
      ]
     },
     "execution_count": 11,
     "metadata": {},
     "output_type": "execute_result"
    }
   ],
   "source": [
    "events.itemid.value_counts(normalize=True)"
   ]
  },
  {
   "cell_type": "markdown",
   "id": "afd2b463",
   "metadata": {},
   "source": [
    "## 1. Постановка задачи"
   ]
  },
  {
   "cell_type": "markdown",
   "id": "4ba7d846",
   "metadata": {},
   "source": [
    "### 1.1. Уточнение бизнес-постановки задачи"
   ]
  },
  {
   "cell_type": "markdown",
   "id": "7bdc9d2b",
   "metadata": {},
   "source": [
    "Повысить прибыль от продаж в интернет-магазине Заказчика на 20%. С этой целью построить рекомендательную систему товаров для выдачи топ трех товаров, рекомендуемых пользователю. "
   ]
  },
  {
   "cell_type": "markdown",
   "id": "500884f1",
   "metadata": {},
   "source": [
    "### 1.2. Выбор технических метрик качества"
   ]
  },
  {
   "cell_type": "markdown",
   "id": "a70c091a",
   "metadata": {},
   "source": [
    "В соответствии с поставленой выше задачей в качестве метрики была выбрана метрика Precision@3."
   ]
  },
  {
   "cell_type": "markdown",
   "id": "de234c22",
   "metadata": {},
   "source": [
    "### 1.3. Импорт и первичный анализ данных"
   ]
  },
  {
   "cell_type": "markdown",
   "id": "759aec55",
   "metadata": {},
   "source": [
    "**Датасет events**"
   ]
  },
  {
   "cell_type": "code",
   "execution_count": 12,
   "id": "b4e9cafd",
   "metadata": {},
   "outputs": [
    {
     "data": {
      "text/html": [
       "<div>\n",
       "<style scoped>\n",
       "    .dataframe tbody tr th:only-of-type {\n",
       "        vertical-align: middle;\n",
       "    }\n",
       "\n",
       "    .dataframe tbody tr th {\n",
       "        vertical-align: top;\n",
       "    }\n",
       "\n",
       "    .dataframe thead th {\n",
       "        text-align: right;\n",
       "    }\n",
       "</style>\n",
       "<table border=\"1\" class=\"dataframe\">\n",
       "  <thead>\n",
       "    <tr style=\"text-align: right;\">\n",
       "      <th></th>\n",
       "      <th>timestamp</th>\n",
       "      <th>visitorid</th>\n",
       "      <th>event</th>\n",
       "      <th>itemid</th>\n",
       "      <th>transactionid</th>\n",
       "    </tr>\n",
       "  </thead>\n",
       "  <tbody>\n",
       "    <tr>\n",
       "      <th>2178476</th>\n",
       "      <td>1436309891769</td>\n",
       "      <td>676380</td>\n",
       "      <td>view</td>\n",
       "      <td>364437</td>\n",
       "      <td>NaN</td>\n",
       "    </tr>\n",
       "    <tr>\n",
       "      <th>2631417</th>\n",
       "      <td>1437963753909</td>\n",
       "      <td>824815</td>\n",
       "      <td>view</td>\n",
       "      <td>81615</td>\n",
       "      <td>NaN</td>\n",
       "    </tr>\n",
       "    <tr>\n",
       "      <th>1532967</th>\n",
       "      <td>1430955835806</td>\n",
       "      <td>864733</td>\n",
       "      <td>view</td>\n",
       "      <td>91755</td>\n",
       "      <td>NaN</td>\n",
       "    </tr>\n",
       "    <tr>\n",
       "      <th>671876</th>\n",
       "      <td>1438723004778</td>\n",
       "      <td>129131</td>\n",
       "      <td>view</td>\n",
       "      <td>337480</td>\n",
       "      <td>NaN</td>\n",
       "    </tr>\n",
       "    <tr>\n",
       "      <th>1394429</th>\n",
       "      <td>1442198448476</td>\n",
       "      <td>908373</td>\n",
       "      <td>view</td>\n",
       "      <td>105815</td>\n",
       "      <td>NaN</td>\n",
       "    </tr>\n",
       "  </tbody>\n",
       "</table>\n",
       "</div>"
      ],
      "text/plain": [
       "             timestamp  visitorid event  itemid  transactionid\n",
       "2178476  1436309891769     676380  view  364437            NaN\n",
       "2631417  1437963753909     824815  view   81615            NaN\n",
       "1532967  1430955835806     864733  view   91755            NaN\n",
       "671876   1438723004778     129131  view  337480            NaN\n",
       "1394429  1442198448476     908373  view  105815            NaN"
      ]
     },
     "execution_count": 12,
     "metadata": {},
     "output_type": "execute_result"
    }
   ],
   "source": [
    "events = pd.read_csv('data\\events.csv.zip')\n",
    "events.sample(5)"
   ]
  },
  {
   "cell_type": "code",
   "execution_count": 13,
   "id": "333bad40",
   "metadata": {},
   "outputs": [
    {
     "name": "stdout",
     "output_type": "stream",
     "text": [
      "<class 'pandas.core.frame.DataFrame'>\n",
      "RangeIndex: 2756101 entries, 0 to 2756100\n",
      "Data columns (total 5 columns):\n",
      " #   Column         Dtype  \n",
      "---  ------         -----  \n",
      " 0   timestamp      int64  \n",
      " 1   visitorid      int64  \n",
      " 2   event          object \n",
      " 3   itemid         int64  \n",
      " 4   transactionid  float64\n",
      "dtypes: float64(1), int64(3), object(1)\n",
      "memory usage: 105.1+ MB\n"
     ]
    }
   ],
   "source": [
    "events.info()"
   ]
  },
  {
   "cell_type": "code",
   "execution_count": 15,
   "id": "b99fa00e",
   "metadata": {},
   "outputs": [
    {
     "data": {
      "text/html": [
       "<div>\n",
       "<style scoped>\n",
       "    .dataframe tbody tr th:only-of-type {\n",
       "        vertical-align: middle;\n",
       "    }\n",
       "\n",
       "    .dataframe tbody tr th {\n",
       "        vertical-align: top;\n",
       "    }\n",
       "\n",
       "    .dataframe thead th {\n",
       "        text-align: right;\n",
       "    }\n",
       "</style>\n",
       "<table border=\"1\" class=\"dataframe\">\n",
       "  <thead>\n",
       "    <tr style=\"text-align: right;\">\n",
       "      <th></th>\n",
       "      <th>timestamp</th>\n",
       "      <th>visitorid</th>\n",
       "      <th>event</th>\n",
       "      <th>itemid</th>\n",
       "      <th>transactionid</th>\n",
       "    </tr>\n",
       "  </thead>\n",
       "  <tbody>\n",
       "    <tr>\n",
       "      <th>count</th>\n",
       "      <td>2.756101e+06</td>\n",
       "      <td>2.756101e+06</td>\n",
       "      <td>2756101</td>\n",
       "      <td>2.756101e+06</td>\n",
       "      <td>22457.000000</td>\n",
       "    </tr>\n",
       "    <tr>\n",
       "      <th>unique</th>\n",
       "      <td>NaN</td>\n",
       "      <td>NaN</td>\n",
       "      <td>3</td>\n",
       "      <td>NaN</td>\n",
       "      <td>NaN</td>\n",
       "    </tr>\n",
       "    <tr>\n",
       "      <th>top</th>\n",
       "      <td>NaN</td>\n",
       "      <td>NaN</td>\n",
       "      <td>view</td>\n",
       "      <td>NaN</td>\n",
       "      <td>NaN</td>\n",
       "    </tr>\n",
       "    <tr>\n",
       "      <th>freq</th>\n",
       "      <td>NaN</td>\n",
       "      <td>NaN</td>\n",
       "      <td>2664312</td>\n",
       "      <td>NaN</td>\n",
       "      <td>NaN</td>\n",
       "    </tr>\n",
       "    <tr>\n",
       "      <th>mean</th>\n",
       "      <td>1.436424e+12</td>\n",
       "      <td>7.019229e+05</td>\n",
       "      <td>NaN</td>\n",
       "      <td>2.349225e+05</td>\n",
       "      <td>8826.497796</td>\n",
       "    </tr>\n",
       "    <tr>\n",
       "      <th>std</th>\n",
       "      <td>3.366312e+09</td>\n",
       "      <td>4.056875e+05</td>\n",
       "      <td>NaN</td>\n",
       "      <td>1.341954e+05</td>\n",
       "      <td>5098.996290</td>\n",
       "    </tr>\n",
       "    <tr>\n",
       "      <th>min</th>\n",
       "      <td>1.430622e+12</td>\n",
       "      <td>0.000000e+00</td>\n",
       "      <td>NaN</td>\n",
       "      <td>3.000000e+00</td>\n",
       "      <td>0.000000</td>\n",
       "    </tr>\n",
       "    <tr>\n",
       "      <th>25%</th>\n",
       "      <td>1.433478e+12</td>\n",
       "      <td>3.505660e+05</td>\n",
       "      <td>NaN</td>\n",
       "      <td>1.181200e+05</td>\n",
       "      <td>4411.000000</td>\n",
       "    </tr>\n",
       "    <tr>\n",
       "      <th>50%</th>\n",
       "      <td>1.436453e+12</td>\n",
       "      <td>7.020600e+05</td>\n",
       "      <td>NaN</td>\n",
       "      <td>2.360670e+05</td>\n",
       "      <td>8813.000000</td>\n",
       "    </tr>\n",
       "    <tr>\n",
       "      <th>75%</th>\n",
       "      <td>1.439225e+12</td>\n",
       "      <td>1.053437e+06</td>\n",
       "      <td>NaN</td>\n",
       "      <td>3.507150e+05</td>\n",
       "      <td>13224.000000</td>\n",
       "    </tr>\n",
       "    <tr>\n",
       "      <th>max</th>\n",
       "      <td>1.442545e+12</td>\n",
       "      <td>1.407579e+06</td>\n",
       "      <td>NaN</td>\n",
       "      <td>4.668670e+05</td>\n",
       "      <td>17671.000000</td>\n",
       "    </tr>\n",
       "  </tbody>\n",
       "</table>\n",
       "</div>"
      ],
      "text/plain": [
       "           timestamp     visitorid    event        itemid  transactionid\n",
       "count   2.756101e+06  2.756101e+06  2756101  2.756101e+06   22457.000000\n",
       "unique           NaN           NaN        3           NaN            NaN\n",
       "top              NaN           NaN     view           NaN            NaN\n",
       "freq             NaN           NaN  2664312           NaN            NaN\n",
       "mean    1.436424e+12  7.019229e+05      NaN  2.349225e+05    8826.497796\n",
       "std     3.366312e+09  4.056875e+05      NaN  1.341954e+05    5098.996290\n",
       "min     1.430622e+12  0.000000e+00      NaN  3.000000e+00       0.000000\n",
       "25%     1.433478e+12  3.505660e+05      NaN  1.181200e+05    4411.000000\n",
       "50%     1.436453e+12  7.020600e+05      NaN  2.360670e+05    8813.000000\n",
       "75%     1.439225e+12  1.053437e+06      NaN  3.507150e+05   13224.000000\n",
       "max     1.442545e+12  1.407579e+06      NaN  4.668670e+05   17671.000000"
      ]
     },
     "execution_count": 15,
     "metadata": {},
     "output_type": "execute_result"
    }
   ],
   "source": [
    "events.describe(include='all')"
   ]
  },
  {
   "cell_type": "markdown",
   "id": "3c6332eb",
   "metadata": {},
   "source": [
    "Проверим на пропуски."
   ]
  },
  {
   "cell_type": "code",
   "execution_count": 16,
   "id": "89aee8b6",
   "metadata": {},
   "outputs": [
    {
     "data": {
      "text/plain": [
       "timestamp              0\n",
       "visitorid              0\n",
       "event                  0\n",
       "itemid                 0\n",
       "transactionid    2733644\n",
       "dtype: int64"
      ]
     },
     "execution_count": 16,
     "metadata": {},
     "output_type": "execute_result"
    }
   ],
   "source": [
    "events.isna().sum()"
   ]
  },
  {
   "cell_type": "markdown",
   "id": "2ba4b70e",
   "metadata": {},
   "source": [
    "Проверим есть ли пропуски transactionid при условии события \"transaction\"."
   ]
  },
  {
   "cell_type": "code",
   "execution_count": 17,
   "id": "7480bb05",
   "metadata": {},
   "outputs": [
    {
     "data": {
      "text/plain": [
       "0"
      ]
     },
     "execution_count": 17,
     "metadata": {},
     "output_type": "execute_result"
    }
   ],
   "source": [
    "events[events.event=='transaction'].transactionid.isna().sum()"
   ]
  },
  {
   "cell_type": "markdown",
   "id": "39779a78",
   "metadata": {},
   "source": [
    "Проверим на дублирование строк."
   ]
  },
  {
   "cell_type": "code",
   "execution_count": 22,
   "id": "883f2567",
   "metadata": {},
   "outputs": [
    {
     "data": {
      "text/plain": [
       "460"
      ]
     },
     "execution_count": 22,
     "metadata": {},
     "output_type": "execute_result"
    }
   ],
   "source": [
    "events.duplicated().sum()"
   ]
  },
  {
   "cell_type": "code",
   "execution_count": 25,
   "id": "d799b44e",
   "metadata": {},
   "outputs": [
    {
     "data": {
      "text/html": [
       "<div>\n",
       "<style scoped>\n",
       "    .dataframe tbody tr th:only-of-type {\n",
       "        vertical-align: middle;\n",
       "    }\n",
       "\n",
       "    .dataframe tbody tr th {\n",
       "        vertical-align: top;\n",
       "    }\n",
       "\n",
       "    .dataframe thead th {\n",
       "        text-align: right;\n",
       "    }\n",
       "</style>\n",
       "<table border=\"1\" class=\"dataframe\">\n",
       "  <thead>\n",
       "    <tr style=\"text-align: right;\">\n",
       "      <th></th>\n",
       "      <th>timestamp</th>\n",
       "      <th>visitorid</th>\n",
       "      <th>event</th>\n",
       "      <th>itemid</th>\n",
       "      <th>transactionid</th>\n",
       "      <th>duplicate</th>\n",
       "    </tr>\n",
       "  </thead>\n",
       "  <tbody>\n",
       "    <tr>\n",
       "      <th>13734</th>\n",
       "      <td>1433180781440</td>\n",
       "      <td>1045411</td>\n",
       "      <td>addtocart</td>\n",
       "      <td>379647</td>\n",
       "      <td>NaN</td>\n",
       "      <td>True</td>\n",
       "    </tr>\n",
       "    <tr>\n",
       "      <th>22404</th>\n",
       "      <td>1433180781440</td>\n",
       "      <td>1045411</td>\n",
       "      <td>addtocart</td>\n",
       "      <td>379647</td>\n",
       "      <td>NaN</td>\n",
       "      <td>True</td>\n",
       "    </tr>\n",
       "    <tr>\n",
       "      <th>24476</th>\n",
       "      <td>1433274223925</td>\n",
       "      <td>366538</td>\n",
       "      <td>addtocart</td>\n",
       "      <td>252068</td>\n",
       "      <td>NaN</td>\n",
       "      <td>True</td>\n",
       "    </tr>\n",
       "    <tr>\n",
       "      <th>25508</th>\n",
       "      <td>1433265100661</td>\n",
       "      <td>198153</td>\n",
       "      <td>addtocart</td>\n",
       "      <td>48715</td>\n",
       "      <td>NaN</td>\n",
       "      <td>True</td>\n",
       "    </tr>\n",
       "    <tr>\n",
       "      <th>27095</th>\n",
       "      <td>1433270868154</td>\n",
       "      <td>1268755</td>\n",
       "      <td>view</td>\n",
       "      <td>60980</td>\n",
       "      <td>NaN</td>\n",
       "      <td>True</td>\n",
       "    </tr>\n",
       "    <tr>\n",
       "      <th>34465</th>\n",
       "      <td>1433274223925</td>\n",
       "      <td>366538</td>\n",
       "      <td>addtocart</td>\n",
       "      <td>252068</td>\n",
       "      <td>NaN</td>\n",
       "      <td>True</td>\n",
       "    </tr>\n",
       "    <tr>\n",
       "      <th>34578</th>\n",
       "      <td>1433277134682</td>\n",
       "      <td>555487</td>\n",
       "      <td>addtocart</td>\n",
       "      <td>397642</td>\n",
       "      <td>NaN</td>\n",
       "      <td>True</td>\n",
       "    </tr>\n",
       "    <tr>\n",
       "      <th>39738</th>\n",
       "      <td>1433265100661</td>\n",
       "      <td>198153</td>\n",
       "      <td>addtocart</td>\n",
       "      <td>48715</td>\n",
       "      <td>NaN</td>\n",
       "      <td>True</td>\n",
       "    </tr>\n",
       "    <tr>\n",
       "      <th>41774</th>\n",
       "      <td>1433270868154</td>\n",
       "      <td>1268755</td>\n",
       "      <td>view</td>\n",
       "      <td>60980</td>\n",
       "      <td>NaN</td>\n",
       "      <td>True</td>\n",
       "    </tr>\n",
       "    <tr>\n",
       "      <th>42469</th>\n",
       "      <td>1433277134682</td>\n",
       "      <td>555487</td>\n",
       "      <td>addtocart</td>\n",
       "      <td>397642</td>\n",
       "      <td>NaN</td>\n",
       "      <td>True</td>\n",
       "    </tr>\n",
       "    <tr>\n",
       "      <th>71466</th>\n",
       "      <td>1433463640728</td>\n",
       "      <td>497546</td>\n",
       "      <td>addtocart</td>\n",
       "      <td>278319</td>\n",
       "      <td>NaN</td>\n",
       "      <td>True</td>\n",
       "    </tr>\n",
       "    <tr>\n",
       "      <th>75063</th>\n",
       "      <td>1433463640728</td>\n",
       "      <td>497546</td>\n",
       "      <td>addtocart</td>\n",
       "      <td>278319</td>\n",
       "      <td>NaN</td>\n",
       "      <td>True</td>\n",
       "    </tr>\n",
       "    <tr>\n",
       "      <th>82954</th>\n",
       "      <td>1433475871737</td>\n",
       "      <td>1159733</td>\n",
       "      <td>addtocart</td>\n",
       "      <td>104116</td>\n",
       "      <td>NaN</td>\n",
       "      <td>True</td>\n",
       "    </tr>\n",
       "    <tr>\n",
       "      <th>83143</th>\n",
       "      <td>1433463912411</td>\n",
       "      <td>263168</td>\n",
       "      <td>addtocart</td>\n",
       "      <td>436219</td>\n",
       "      <td>NaN</td>\n",
       "      <td>True</td>\n",
       "    </tr>\n",
       "    <tr>\n",
       "      <th>87304</th>\n",
       "      <td>1433463912411</td>\n",
       "      <td>263168</td>\n",
       "      <td>addtocart</td>\n",
       "      <td>436219</td>\n",
       "      <td>NaN</td>\n",
       "      <td>True</td>\n",
       "    </tr>\n",
       "    <tr>\n",
       "      <th>89928</th>\n",
       "      <td>1433475871737</td>\n",
       "      <td>1159733</td>\n",
       "      <td>addtocart</td>\n",
       "      <td>104116</td>\n",
       "      <td>NaN</td>\n",
       "      <td>True</td>\n",
       "    </tr>\n",
       "    <tr>\n",
       "      <th>94054</th>\n",
       "      <td>1433549575965</td>\n",
       "      <td>952199</td>\n",
       "      <td>addtocart</td>\n",
       "      <td>61273</td>\n",
       "      <td>NaN</td>\n",
       "      <td>True</td>\n",
       "    </tr>\n",
       "    <tr>\n",
       "      <th>103932</th>\n",
       "      <td>1433549575965</td>\n",
       "      <td>952199</td>\n",
       "      <td>addtocart</td>\n",
       "      <td>61273</td>\n",
       "      <td>NaN</td>\n",
       "      <td>True</td>\n",
       "    </tr>\n",
       "    <tr>\n",
       "      <th>113491</th>\n",
       "      <td>1433611737367</td>\n",
       "      <td>10162</td>\n",
       "      <td>addtocart</td>\n",
       "      <td>146661</td>\n",
       "      <td>NaN</td>\n",
       "      <td>True</td>\n",
       "    </tr>\n",
       "    <tr>\n",
       "      <th>113571</th>\n",
       "      <td>1433608617930</td>\n",
       "      <td>135091</td>\n",
       "      <td>addtocart</td>\n",
       "      <td>49911</td>\n",
       "      <td>NaN</td>\n",
       "      <td>True</td>\n",
       "    </tr>\n",
       "  </tbody>\n",
       "</table>\n",
       "</div>"
      ],
      "text/plain": [
       "            timestamp  visitorid      event  itemid  transactionid  duplicate\n",
       "13734   1433180781440    1045411  addtocart  379647            NaN       True\n",
       "22404   1433180781440    1045411  addtocart  379647            NaN       True\n",
       "24476   1433274223925     366538  addtocart  252068            NaN       True\n",
       "25508   1433265100661     198153  addtocart   48715            NaN       True\n",
       "27095   1433270868154    1268755       view   60980            NaN       True\n",
       "34465   1433274223925     366538  addtocart  252068            NaN       True\n",
       "34578   1433277134682     555487  addtocart  397642            NaN       True\n",
       "39738   1433265100661     198153  addtocart   48715            NaN       True\n",
       "41774   1433270868154    1268755       view   60980            NaN       True\n",
       "42469   1433277134682     555487  addtocart  397642            NaN       True\n",
       "71466   1433463640728     497546  addtocart  278319            NaN       True\n",
       "75063   1433463640728     497546  addtocart  278319            NaN       True\n",
       "82954   1433475871737    1159733  addtocart  104116            NaN       True\n",
       "83143   1433463912411     263168  addtocart  436219            NaN       True\n",
       "87304   1433463912411     263168  addtocart  436219            NaN       True\n",
       "89928   1433475871737    1159733  addtocart  104116            NaN       True\n",
       "94054   1433549575965     952199  addtocart   61273            NaN       True\n",
       "103932  1433549575965     952199  addtocart   61273            NaN       True\n",
       "113491  1433611737367      10162  addtocart  146661            NaN       True\n",
       "113571  1433608617930     135091  addtocart   49911            NaN       True"
      ]
     },
     "execution_count": 25,
     "metadata": {},
     "output_type": "execute_result"
    }
   ],
   "source": [
    "events['duplicate'] = events.duplicated(keep=False)\n",
    "events[events['duplicate']==True].head(20)"
   ]
  },
  {
   "cell_type": "markdown",
   "id": "a3e3ae5a",
   "metadata": {},
   "source": [
    "Удаляем дублирующиеся строки."
   ]
  },
  {
   "cell_type": "code",
   "execution_count": 28,
   "id": "7807ab54",
   "metadata": {},
   "outputs": [],
   "source": [
    "events.drop_duplicates(inplace=True)"
   ]
  },
  {
   "cell_type": "code",
   "execution_count": 29,
   "id": "f3fe303d",
   "metadata": {},
   "outputs": [
    {
     "data": {
      "text/html": [
       "<div>\n",
       "<style scoped>\n",
       "    .dataframe tbody tr th:only-of-type {\n",
       "        vertical-align: middle;\n",
       "    }\n",
       "\n",
       "    .dataframe tbody tr th {\n",
       "        vertical-align: top;\n",
       "    }\n",
       "\n",
       "    .dataframe thead th {\n",
       "        text-align: right;\n",
       "    }\n",
       "</style>\n",
       "<table border=\"1\" class=\"dataframe\">\n",
       "  <thead>\n",
       "    <tr style=\"text-align: right;\">\n",
       "      <th></th>\n",
       "      <th>timestamp</th>\n",
       "      <th>visitorid</th>\n",
       "      <th>event</th>\n",
       "      <th>itemid</th>\n",
       "      <th>transactionid</th>\n",
       "      <th>duplicate</th>\n",
       "    </tr>\n",
       "  </thead>\n",
       "  <tbody>\n",
       "    <tr>\n",
       "      <th>13734</th>\n",
       "      <td>1433180781440</td>\n",
       "      <td>1045411</td>\n",
       "      <td>addtocart</td>\n",
       "      <td>379647</td>\n",
       "      <td>NaN</td>\n",
       "      <td>True</td>\n",
       "    </tr>\n",
       "    <tr>\n",
       "      <th>24476</th>\n",
       "      <td>1433274223925</td>\n",
       "      <td>366538</td>\n",
       "      <td>addtocart</td>\n",
       "      <td>252068</td>\n",
       "      <td>NaN</td>\n",
       "      <td>True</td>\n",
       "    </tr>\n",
       "    <tr>\n",
       "      <th>25508</th>\n",
       "      <td>1433265100661</td>\n",
       "      <td>198153</td>\n",
       "      <td>addtocart</td>\n",
       "      <td>48715</td>\n",
       "      <td>NaN</td>\n",
       "      <td>True</td>\n",
       "    </tr>\n",
       "    <tr>\n",
       "      <th>27095</th>\n",
       "      <td>1433270868154</td>\n",
       "      <td>1268755</td>\n",
       "      <td>view</td>\n",
       "      <td>60980</td>\n",
       "      <td>NaN</td>\n",
       "      <td>True</td>\n",
       "    </tr>\n",
       "    <tr>\n",
       "      <th>34578</th>\n",
       "      <td>1433277134682</td>\n",
       "      <td>555487</td>\n",
       "      <td>addtocart</td>\n",
       "      <td>397642</td>\n",
       "      <td>NaN</td>\n",
       "      <td>True</td>\n",
       "    </tr>\n",
       "    <tr>\n",
       "      <th>71466</th>\n",
       "      <td>1433463640728</td>\n",
       "      <td>497546</td>\n",
       "      <td>addtocart</td>\n",
       "      <td>278319</td>\n",
       "      <td>NaN</td>\n",
       "      <td>True</td>\n",
       "    </tr>\n",
       "    <tr>\n",
       "      <th>82954</th>\n",
       "      <td>1433475871737</td>\n",
       "      <td>1159733</td>\n",
       "      <td>addtocart</td>\n",
       "      <td>104116</td>\n",
       "      <td>NaN</td>\n",
       "      <td>True</td>\n",
       "    </tr>\n",
       "    <tr>\n",
       "      <th>83143</th>\n",
       "      <td>1433463912411</td>\n",
       "      <td>263168</td>\n",
       "      <td>addtocart</td>\n",
       "      <td>436219</td>\n",
       "      <td>NaN</td>\n",
       "      <td>True</td>\n",
       "    </tr>\n",
       "    <tr>\n",
       "      <th>94054</th>\n",
       "      <td>1433549575965</td>\n",
       "      <td>952199</td>\n",
       "      <td>addtocart</td>\n",
       "      <td>61273</td>\n",
       "      <td>NaN</td>\n",
       "      <td>True</td>\n",
       "    </tr>\n",
       "    <tr>\n",
       "      <th>113491</th>\n",
       "      <td>1433611737367</td>\n",
       "      <td>10162</td>\n",
       "      <td>addtocart</td>\n",
       "      <td>146661</td>\n",
       "      <td>NaN</td>\n",
       "      <td>True</td>\n",
       "    </tr>\n",
       "    <tr>\n",
       "      <th>113571</th>\n",
       "      <td>1433608617930</td>\n",
       "      <td>135091</td>\n",
       "      <td>addtocart</td>\n",
       "      <td>49911</td>\n",
       "      <td>NaN</td>\n",
       "      <td>True</td>\n",
       "    </tr>\n",
       "    <tr>\n",
       "      <th>113827</th>\n",
       "      <td>1433634301251</td>\n",
       "      <td>612160</td>\n",
       "      <td>addtocart</td>\n",
       "      <td>258266</td>\n",
       "      <td>NaN</td>\n",
       "      <td>True</td>\n",
       "    </tr>\n",
       "    <tr>\n",
       "      <th>116071</th>\n",
       "      <td>1433608670607</td>\n",
       "      <td>135091</td>\n",
       "      <td>addtocart</td>\n",
       "      <td>430240</td>\n",
       "      <td>NaN</td>\n",
       "      <td>True</td>\n",
       "    </tr>\n",
       "    <tr>\n",
       "      <th>129739</th>\n",
       "      <td>1433705761045</td>\n",
       "      <td>556317</td>\n",
       "      <td>addtocart</td>\n",
       "      <td>25147</td>\n",
       "      <td>NaN</td>\n",
       "      <td>True</td>\n",
       "    </tr>\n",
       "    <tr>\n",
       "      <th>131066</th>\n",
       "      <td>1433658733456</td>\n",
       "      <td>798809</td>\n",
       "      <td>view</td>\n",
       "      <td>15716</td>\n",
       "      <td>NaN</td>\n",
       "      <td>True</td>\n",
       "    </tr>\n",
       "    <tr>\n",
       "      <th>140380</th>\n",
       "      <td>1433698067900</td>\n",
       "      <td>940804</td>\n",
       "      <td>view</td>\n",
       "      <td>115221</td>\n",
       "      <td>NaN</td>\n",
       "      <td>True</td>\n",
       "    </tr>\n",
       "    <tr>\n",
       "      <th>147440</th>\n",
       "      <td>1433806134972</td>\n",
       "      <td>730336</td>\n",
       "      <td>view</td>\n",
       "      <td>101041</td>\n",
       "      <td>NaN</td>\n",
       "      <td>True</td>\n",
       "    </tr>\n",
       "    <tr>\n",
       "      <th>147648</th>\n",
       "      <td>1433806599054</td>\n",
       "      <td>339347</td>\n",
       "      <td>addtocart</td>\n",
       "      <td>280647</td>\n",
       "      <td>NaN</td>\n",
       "      <td>True</td>\n",
       "    </tr>\n",
       "    <tr>\n",
       "      <th>148536</th>\n",
       "      <td>1433793280604</td>\n",
       "      <td>204781</td>\n",
       "      <td>addtocart</td>\n",
       "      <td>455887</td>\n",
       "      <td>NaN</td>\n",
       "      <td>True</td>\n",
       "    </tr>\n",
       "    <tr>\n",
       "      <th>149680</th>\n",
       "      <td>1433777332205</td>\n",
       "      <td>825548</td>\n",
       "      <td>addtocart</td>\n",
       "      <td>46109</td>\n",
       "      <td>NaN</td>\n",
       "      <td>True</td>\n",
       "    </tr>\n",
       "  </tbody>\n",
       "</table>\n",
       "</div>"
      ],
      "text/plain": [
       "            timestamp  visitorid      event  itemid  transactionid  duplicate\n",
       "13734   1433180781440    1045411  addtocart  379647            NaN       True\n",
       "24476   1433274223925     366538  addtocart  252068            NaN       True\n",
       "25508   1433265100661     198153  addtocart   48715            NaN       True\n",
       "27095   1433270868154    1268755       view   60980            NaN       True\n",
       "34578   1433277134682     555487  addtocart  397642            NaN       True\n",
       "71466   1433463640728     497546  addtocart  278319            NaN       True\n",
       "82954   1433475871737    1159733  addtocart  104116            NaN       True\n",
       "83143   1433463912411     263168  addtocart  436219            NaN       True\n",
       "94054   1433549575965     952199  addtocart   61273            NaN       True\n",
       "113491  1433611737367      10162  addtocart  146661            NaN       True\n",
       "113571  1433608617930     135091  addtocart   49911            NaN       True\n",
       "113827  1433634301251     612160  addtocart  258266            NaN       True\n",
       "116071  1433608670607     135091  addtocart  430240            NaN       True\n",
       "129739  1433705761045     556317  addtocart   25147            NaN       True\n",
       "131066  1433658733456     798809       view   15716            NaN       True\n",
       "140380  1433698067900     940804       view  115221            NaN       True\n",
       "147440  1433806134972     730336       view  101041            NaN       True\n",
       "147648  1433806599054     339347  addtocart  280647            NaN       True\n",
       "148536  1433793280604     204781  addtocart  455887            NaN       True\n",
       "149680  1433777332205     825548  addtocart   46109            NaN       True"
      ]
     },
     "execution_count": 29,
     "metadata": {},
     "output_type": "execute_result"
    }
   ],
   "source": [
    "events[events['duplicate']==True].head(20)"
   ]
  },
  {
   "cell_type": "code",
   "execution_count": 32,
   "id": "cdd076d1",
   "metadata": {},
   "outputs": [
    {
     "data": {
      "text/html": [
       "<div>\n",
       "<style scoped>\n",
       "    .dataframe tbody tr th:only-of-type {\n",
       "        vertical-align: middle;\n",
       "    }\n",
       "\n",
       "    .dataframe tbody tr th {\n",
       "        vertical-align: top;\n",
       "    }\n",
       "\n",
       "    .dataframe thead th {\n",
       "        text-align: right;\n",
       "    }\n",
       "</style>\n",
       "<table border=\"1\" class=\"dataframe\">\n",
       "  <thead>\n",
       "    <tr style=\"text-align: right;\">\n",
       "      <th></th>\n",
       "      <th>timestamp</th>\n",
       "      <th>visitorid</th>\n",
       "      <th>event</th>\n",
       "      <th>itemid</th>\n",
       "      <th>transactionid</th>\n",
       "    </tr>\n",
       "  </thead>\n",
       "  <tbody>\n",
       "    <tr>\n",
       "      <th>0</th>\n",
       "      <td>1433221332117</td>\n",
       "      <td>257597</td>\n",
       "      <td>view</td>\n",
       "      <td>355908</td>\n",
       "      <td>NaN</td>\n",
       "    </tr>\n",
       "    <tr>\n",
       "      <th>1</th>\n",
       "      <td>1433224214164</td>\n",
       "      <td>992329</td>\n",
       "      <td>view</td>\n",
       "      <td>248676</td>\n",
       "      <td>NaN</td>\n",
       "    </tr>\n",
       "    <tr>\n",
       "      <th>2</th>\n",
       "      <td>1433221999827</td>\n",
       "      <td>111016</td>\n",
       "      <td>view</td>\n",
       "      <td>318965</td>\n",
       "      <td>NaN</td>\n",
       "    </tr>\n",
       "  </tbody>\n",
       "</table>\n",
       "</div>"
      ],
      "text/plain": [
       "       timestamp  visitorid event  itemid  transactionid\n",
       "0  1433221332117     257597  view  355908            NaN\n",
       "1  1433224214164     992329  view  248676            NaN\n",
       "2  1433221999827     111016  view  318965            NaN"
      ]
     },
     "execution_count": 32,
     "metadata": {},
     "output_type": "execute_result"
    }
   ],
   "source": [
    "events.drop('duplicate', axis=1, inplace=True)\n",
    "events.head(3)"
   ]
  },
  {
   "cell_type": "markdown",
   "id": "50bd7e54",
   "metadata": {},
   "source": [
    "**Датасет item_properties**"
   ]
  },
  {
   "cell_type": "code",
   "execution_count": 18,
   "id": "6615ff1e",
   "metadata": {},
   "outputs": [
    {
     "data": {
      "text/html": [
       "<div>\n",
       "<style scoped>\n",
       "    .dataframe tbody tr th:only-of-type {\n",
       "        vertical-align: middle;\n",
       "    }\n",
       "\n",
       "    .dataframe tbody tr th {\n",
       "        vertical-align: top;\n",
       "    }\n",
       "\n",
       "    .dataframe thead th {\n",
       "        text-align: right;\n",
       "    }\n",
       "</style>\n",
       "<table border=\"1\" class=\"dataframe\">\n",
       "  <thead>\n",
       "    <tr style=\"text-align: right;\">\n",
       "      <th></th>\n",
       "      <th>timestamp</th>\n",
       "      <th>itemid</th>\n",
       "      <th>property</th>\n",
       "      <th>value</th>\n",
       "    </tr>\n",
       "  </thead>\n",
       "  <tbody>\n",
       "    <tr>\n",
       "      <th>3754249</th>\n",
       "      <td>1433646000000</td>\n",
       "      <td>313198</td>\n",
       "      <td>468</td>\n",
       "      <td>272976</td>\n",
       "    </tr>\n",
       "    <tr>\n",
       "      <th>5646040</th>\n",
       "      <td>1433041200000</td>\n",
       "      <td>163985</td>\n",
       "      <td>202</td>\n",
       "      <td>655083</td>\n",
       "    </tr>\n",
       "    <tr>\n",
       "      <th>5779626</th>\n",
       "      <td>1433646000000</td>\n",
       "      <td>26655</td>\n",
       "      <td>202</td>\n",
       "      <td>150169 820477 437265 556393 871262 183183 2363...</td>\n",
       "    </tr>\n",
       "    <tr>\n",
       "      <th>1429184</th>\n",
       "      <td>1433646000000</td>\n",
       "      <td>5034</td>\n",
       "      <td>283</td>\n",
       "      <td>61706 920988 639039</td>\n",
       "    </tr>\n",
       "    <tr>\n",
       "      <th>8440963</th>\n",
       "      <td>1435460400000</td>\n",
       "      <td>299732</td>\n",
       "      <td>categoryid</td>\n",
       "      <td>1343</td>\n",
       "    </tr>\n",
       "  </tbody>\n",
       "</table>\n",
       "</div>"
      ],
      "text/plain": [
       "             timestamp  itemid    property  \\\n",
       "3754249  1433646000000  313198         468   \n",
       "5646040  1433041200000  163985         202   \n",
       "5779626  1433646000000   26655         202   \n",
       "1429184  1433646000000    5034         283   \n",
       "8440963  1435460400000  299732  categoryid   \n",
       "\n",
       "                                                     value  \n",
       "3754249                                             272976  \n",
       "5646040                                             655083  \n",
       "5779626  150169 820477 437265 556393 871262 183183 2363...  \n",
       "1429184                                61706 920988 639039  \n",
       "8440963                                               1343  "
      ]
     },
     "execution_count": 18,
     "metadata": {},
     "output_type": "execute_result"
    }
   ],
   "source": [
    "item_properties_1 = pd.read_csv('data\\item_properties_part1.csv')\n",
    "item_properties_2 = pd.read_csv('data\\item_properties_part2.csv')\n",
    "item_properties =pd.concat([item_properties_1, item_properties_2], axis=0)\n",
    "item_properties.sample(5)"
   ]
  },
  {
   "cell_type": "code",
   "execution_count": 35,
   "id": "fec2438f",
   "metadata": {},
   "outputs": [
    {
     "name": "stdout",
     "output_type": "stream",
     "text": [
      "<class 'pandas.core.frame.DataFrame'>\n",
      "Index: 20275902 entries, 0 to 9275902\n",
      "Data columns (total 4 columns):\n",
      " #   Column     Dtype \n",
      "---  ------     ----- \n",
      " 0   timestamp  int64 \n",
      " 1   itemid     int64 \n",
      " 2   property   object\n",
      " 3   value      object\n",
      "dtypes: int64(2), object(2)\n",
      "memory usage: 773.5+ MB\n"
     ]
    }
   ],
   "source": [
    "item_properties.info()"
   ]
  },
  {
   "cell_type": "code",
   "execution_count": 36,
   "id": "b916e471",
   "metadata": {},
   "outputs": [
    {
     "data": {
      "text/html": [
       "<div>\n",
       "<style scoped>\n",
       "    .dataframe tbody tr th:only-of-type {\n",
       "        vertical-align: middle;\n",
       "    }\n",
       "\n",
       "    .dataframe tbody tr th {\n",
       "        vertical-align: top;\n",
       "    }\n",
       "\n",
       "    .dataframe thead th {\n",
       "        text-align: right;\n",
       "    }\n",
       "</style>\n",
       "<table border=\"1\" class=\"dataframe\">\n",
       "  <thead>\n",
       "    <tr style=\"text-align: right;\">\n",
       "      <th></th>\n",
       "      <th>timestamp</th>\n",
       "      <th>itemid</th>\n",
       "      <th>property</th>\n",
       "      <th>value</th>\n",
       "    </tr>\n",
       "  </thead>\n",
       "  <tbody>\n",
       "    <tr>\n",
       "      <th>count</th>\n",
       "      <td>2.027590e+07</td>\n",
       "      <td>2.027590e+07</td>\n",
       "      <td>20275902</td>\n",
       "      <td>20275902</td>\n",
       "    </tr>\n",
       "    <tr>\n",
       "      <th>unique</th>\n",
       "      <td>NaN</td>\n",
       "      <td>NaN</td>\n",
       "      <td>1104</td>\n",
       "      <td>1966868</td>\n",
       "    </tr>\n",
       "    <tr>\n",
       "      <th>top</th>\n",
       "      <td>NaN</td>\n",
       "      <td>NaN</td>\n",
       "      <td>888</td>\n",
       "      <td>769062</td>\n",
       "    </tr>\n",
       "    <tr>\n",
       "      <th>freq</th>\n",
       "      <td>NaN</td>\n",
       "      <td>NaN</td>\n",
       "      <td>3000398</td>\n",
       "      <td>1537247</td>\n",
       "    </tr>\n",
       "    <tr>\n",
       "      <th>mean</th>\n",
       "      <td>1.435157e+12</td>\n",
       "      <td>2.333904e+05</td>\n",
       "      <td>NaN</td>\n",
       "      <td>NaN</td>\n",
       "    </tr>\n",
       "    <tr>\n",
       "      <th>std</th>\n",
       "      <td>3.327798e+09</td>\n",
       "      <td>1.348452e+05</td>\n",
       "      <td>NaN</td>\n",
       "      <td>NaN</td>\n",
       "    </tr>\n",
       "    <tr>\n",
       "      <th>min</th>\n",
       "      <td>1.431227e+12</td>\n",
       "      <td>0.000000e+00</td>\n",
       "      <td>NaN</td>\n",
       "      <td>NaN</td>\n",
       "    </tr>\n",
       "    <tr>\n",
       "      <th>25%</th>\n",
       "      <td>1.432436e+12</td>\n",
       "      <td>1.165160e+05</td>\n",
       "      <td>NaN</td>\n",
       "      <td>NaN</td>\n",
       "    </tr>\n",
       "    <tr>\n",
       "      <th>50%</th>\n",
       "      <td>1.433646e+12</td>\n",
       "      <td>2.334830e+05</td>\n",
       "      <td>NaN</td>\n",
       "      <td>NaN</td>\n",
       "    </tr>\n",
       "    <tr>\n",
       "      <th>75%</th>\n",
       "      <td>1.437880e+12</td>\n",
       "      <td>3.503040e+05</td>\n",
       "      <td>NaN</td>\n",
       "      <td>NaN</td>\n",
       "    </tr>\n",
       "    <tr>\n",
       "      <th>max</th>\n",
       "      <td>1.442113e+12</td>\n",
       "      <td>4.668660e+05</td>\n",
       "      <td>NaN</td>\n",
       "      <td>NaN</td>\n",
       "    </tr>\n",
       "  </tbody>\n",
       "</table>\n",
       "</div>"
      ],
      "text/plain": [
       "           timestamp        itemid  property     value\n",
       "count   2.027590e+07  2.027590e+07  20275902  20275902\n",
       "unique           NaN           NaN      1104   1966868\n",
       "top              NaN           NaN       888    769062\n",
       "freq             NaN           NaN   3000398   1537247\n",
       "mean    1.435157e+12  2.333904e+05       NaN       NaN\n",
       "std     3.327798e+09  1.348452e+05       NaN       NaN\n",
       "min     1.431227e+12  0.000000e+00       NaN       NaN\n",
       "25%     1.432436e+12  1.165160e+05       NaN       NaN\n",
       "50%     1.433646e+12  2.334830e+05       NaN       NaN\n",
       "75%     1.437880e+12  3.503040e+05       NaN       NaN\n",
       "max     1.442113e+12  4.668660e+05       NaN       NaN"
      ]
     },
     "execution_count": 36,
     "metadata": {},
     "output_type": "execute_result"
    }
   ],
   "source": [
    "item_properties.describe(include='all')"
   ]
  },
  {
   "cell_type": "markdown",
   "id": "be74e7d9",
   "metadata": {},
   "source": [
    "Проверяем на пропуски."
   ]
  },
  {
   "cell_type": "code",
   "execution_count": 33,
   "id": "8602bc37",
   "metadata": {},
   "outputs": [
    {
     "data": {
      "text/plain": [
       "timestamp    0\n",
       "itemid       0\n",
       "property     0\n",
       "value        0\n",
       "dtype: int64"
      ]
     },
     "execution_count": 33,
     "metadata": {},
     "output_type": "execute_result"
    }
   ],
   "source": [
    "item_properties.isna().sum()"
   ]
  },
  {
   "cell_type": "markdown",
   "id": "921a08af",
   "metadata": {},
   "source": [
    "Проверяем на дублирование строк."
   ]
  },
  {
   "cell_type": "code",
   "execution_count": 34,
   "id": "4f281c83",
   "metadata": {},
   "outputs": [
    {
     "data": {
      "text/plain": [
       "0"
      ]
     },
     "execution_count": 34,
     "metadata": {},
     "output_type": "execute_result"
    }
   ],
   "source": [
    "item_properties.duplicated().sum()"
   ]
  },
  {
   "cell_type": "markdown",
   "id": "cd4de252",
   "metadata": {},
   "source": [
    "**Датасет category_tree**"
   ]
  },
  {
   "cell_type": "code",
   "execution_count": 37,
   "id": "7e89a9aa",
   "metadata": {},
   "outputs": [
    {
     "data": {
      "text/html": [
       "<div>\n",
       "<style scoped>\n",
       "    .dataframe tbody tr th:only-of-type {\n",
       "        vertical-align: middle;\n",
       "    }\n",
       "\n",
       "    .dataframe tbody tr th {\n",
       "        vertical-align: top;\n",
       "    }\n",
       "\n",
       "    .dataframe thead th {\n",
       "        text-align: right;\n",
       "    }\n",
       "</style>\n",
       "<table border=\"1\" class=\"dataframe\">\n",
       "  <thead>\n",
       "    <tr style=\"text-align: right;\">\n",
       "      <th></th>\n",
       "      <th>categoryid</th>\n",
       "      <th>parentid</th>\n",
       "    </tr>\n",
       "  </thead>\n",
       "  <tbody>\n",
       "    <tr>\n",
       "      <th>986</th>\n",
       "      <td>1302</td>\n",
       "      <td>1600.0</td>\n",
       "    </tr>\n",
       "    <tr>\n",
       "      <th>79</th>\n",
       "      <td>186</td>\n",
       "      <td>865.0</td>\n",
       "    </tr>\n",
       "    <tr>\n",
       "      <th>671</th>\n",
       "      <td>672</td>\n",
       "      <td>1120.0</td>\n",
       "    </tr>\n",
       "    <tr>\n",
       "      <th>1645</th>\n",
       "      <td>551</td>\n",
       "      <td>766.0</td>\n",
       "    </tr>\n",
       "    <tr>\n",
       "      <th>553</th>\n",
       "      <td>1</td>\n",
       "      <td>854.0</td>\n",
       "    </tr>\n",
       "  </tbody>\n",
       "</table>\n",
       "</div>"
      ],
      "text/plain": [
       "      categoryid  parentid\n",
       "986         1302    1600.0\n",
       "79           186     865.0\n",
       "671          672    1120.0\n",
       "1645         551     766.0\n",
       "553            1     854.0"
      ]
     },
     "execution_count": 37,
     "metadata": {},
     "output_type": "execute_result"
    }
   ],
   "source": [
    "category_tree = pd.read_csv('data\\category_tree.csv')\n",
    "category_tree.sample(5)"
   ]
  },
  {
   "cell_type": "code",
   "execution_count": 38,
   "id": "f92d07ca",
   "metadata": {},
   "outputs": [
    {
     "name": "stdout",
     "output_type": "stream",
     "text": [
      "<class 'pandas.core.frame.DataFrame'>\n",
      "RangeIndex: 1669 entries, 0 to 1668\n",
      "Data columns (total 2 columns):\n",
      " #   Column      Non-Null Count  Dtype  \n",
      "---  ------      --------------  -----  \n",
      " 0   categoryid  1669 non-null   int64  \n",
      " 1   parentid    1644 non-null   float64\n",
      "dtypes: float64(1), int64(1)\n",
      "memory usage: 26.2 KB\n"
     ]
    }
   ],
   "source": [
    "category_tree.info()"
   ]
  },
  {
   "cell_type": "code",
   "execution_count": 39,
   "id": "8a3a297b",
   "metadata": {},
   "outputs": [
    {
     "data": {
      "text/html": [
       "<div>\n",
       "<style scoped>\n",
       "    .dataframe tbody tr th:only-of-type {\n",
       "        vertical-align: middle;\n",
       "    }\n",
       "\n",
       "    .dataframe tbody tr th {\n",
       "        vertical-align: top;\n",
       "    }\n",
       "\n",
       "    .dataframe thead th {\n",
       "        text-align: right;\n",
       "    }\n",
       "</style>\n",
       "<table border=\"1\" class=\"dataframe\">\n",
       "  <thead>\n",
       "    <tr style=\"text-align: right;\">\n",
       "      <th></th>\n",
       "      <th>categoryid</th>\n",
       "      <th>parentid</th>\n",
       "    </tr>\n",
       "  </thead>\n",
       "  <tbody>\n",
       "    <tr>\n",
       "      <th>count</th>\n",
       "      <td>1669.000000</td>\n",
       "      <td>1644.000000</td>\n",
       "    </tr>\n",
       "    <tr>\n",
       "      <th>mean</th>\n",
       "      <td>849.285201</td>\n",
       "      <td>847.571168</td>\n",
       "    </tr>\n",
       "    <tr>\n",
       "      <th>std</th>\n",
       "      <td>490.195116</td>\n",
       "      <td>505.058485</td>\n",
       "    </tr>\n",
       "    <tr>\n",
       "      <th>min</th>\n",
       "      <td>0.000000</td>\n",
       "      <td>8.000000</td>\n",
       "    </tr>\n",
       "    <tr>\n",
       "      <th>25%</th>\n",
       "      <td>427.000000</td>\n",
       "      <td>381.000000</td>\n",
       "    </tr>\n",
       "    <tr>\n",
       "      <th>50%</th>\n",
       "      <td>848.000000</td>\n",
       "      <td>866.000000</td>\n",
       "    </tr>\n",
       "    <tr>\n",
       "      <th>75%</th>\n",
       "      <td>1273.000000</td>\n",
       "      <td>1291.000000</td>\n",
       "    </tr>\n",
       "    <tr>\n",
       "      <th>max</th>\n",
       "      <td>1698.000000</td>\n",
       "      <td>1698.000000</td>\n",
       "    </tr>\n",
       "  </tbody>\n",
       "</table>\n",
       "</div>"
      ],
      "text/plain": [
       "        categoryid     parentid\n",
       "count  1669.000000  1644.000000\n",
       "mean    849.285201   847.571168\n",
       "std     490.195116   505.058485\n",
       "min       0.000000     8.000000\n",
       "25%     427.000000   381.000000\n",
       "50%     848.000000   866.000000\n",
       "75%    1273.000000  1291.000000\n",
       "max    1698.000000  1698.000000"
      ]
     },
     "execution_count": 39,
     "metadata": {},
     "output_type": "execute_result"
    }
   ],
   "source": [
    "category_tree.describe()"
   ]
  },
  {
   "cell_type": "markdown",
   "id": "9667faf6",
   "metadata": {},
   "source": [
    "Проверяем на пропуски."
   ]
  },
  {
   "cell_type": "code",
   "execution_count": 40,
   "id": "f1b694da",
   "metadata": {},
   "outputs": [
    {
     "data": {
      "text/plain": [
       "categoryid     0\n",
       "parentid      25\n",
       "dtype: int64"
      ]
     },
     "execution_count": 40,
     "metadata": {},
     "output_type": "execute_result"
    }
   ],
   "source": [
    "category_tree.isna().sum()"
   ]
  },
  {
   "cell_type": "markdown",
   "id": "ab30b5a7",
   "metadata": {},
   "source": [
    "Пока предлагаю оставить пропуск так, как это может означать, что и категории нет родительской."
   ]
  },
  {
   "cell_type": "markdown",
   "id": "3524e2fc",
   "metadata": {},
   "source": [
    "Проверяем на дублирование строк."
   ]
  },
  {
   "cell_type": "code",
   "execution_count": 41,
   "id": "33b71e3b",
   "metadata": {},
   "outputs": [
    {
     "data": {
      "text/plain": [
       "0"
      ]
     },
     "execution_count": 41,
     "metadata": {},
     "output_type": "execute_result"
    }
   ],
   "source": [
    "category_tree.duplicated().sum()"
   ]
  },
  {
   "cell_type": "markdown",
   "id": "4560c041",
   "metadata": {},
   "source": [
    "## 2. Исследование данных"
   ]
  },
  {
   "cell_type": "markdown",
   "id": "71b4e57e",
   "metadata": {},
   "source": [
    "### 2.1. Описание структуры данных"
   ]
  },
  {
   "cell_type": "markdown",
   "id": "3bd47df4",
   "metadata": {},
   "source": [
    "**events — датасет с событиями.**   \n",
    "**Колонки:**  \n",
    "*timestamp* — время события  \n",
    "*visitorid* — идентификатор пользователя  \n",
    "*event* — тип события  \n",
    "    Типы событий:  \n",
    "    *view* (просмотр карточки товара)  \n",
    "    *addtocart* (добавление в корзину)  \n",
    "    *transaction* (покупка)\n",
    "*itemid* — идентификатор объекта  \n",
    "*transactionid* — идентификатор транзакции, если она проходила  \n",
    "\n",
    "\n",
    "**category_tree — файл с деревом категорий (можно восстановить дерево).**  \n",
    "**Колонки:**    \n",
    "*category_id* — идентификатор категорий  \n",
    "*parent_id* — идентификатор родительской категории \n",
    "\n",
    "\n",
    "**item_properties — файл с свойствами товаров.**  \n",
    "**Колонки:**  \n",
    "*timestamp* — момент записи значения свойства  \n",
    "*item_id* — идентификатор объекта  \n",
    "*property* — свойство, кажется, они все, кроме категории, захешированы  \n",
    "*value* — значение свойства  "
   ]
  },
  {
   "cell_type": "markdown",
   "id": "e1a3d2e8",
   "metadata": {},
   "source": [
    "### 2.2. Статистический анализ данных"
   ]
  },
  {
   "cell_type": "markdown",
   "id": "bcbb941c",
   "metadata": {},
   "source": [
    "## 3. Создание факторов для модели"
   ]
  },
  {
   "cell_type": "markdown",
   "id": "f3c91d9b",
   "metadata": {},
   "source": [
    "### 3.1. Генерация факторов, связанных с айтемами"
   ]
  },
  {
   "cell_type": "markdown",
   "id": "6caff8b3",
   "metadata": {},
   "source": [
    "### 3.2. Генерация факторов айтем-юзер"
   ]
  },
  {
   "cell_type": "markdown",
   "id": "36ef8ca6",
   "metadata": {},
   "source": [
    "## 4. Проведение экспериментов"
   ]
  },
  {
   "cell_type": "markdown",
   "id": "df1fbd8c",
   "metadata": {},
   "source": [
    "### 4.1. Коллаборативная фильтрация"
   ]
  },
  {
   "cell_type": "markdown",
   "id": "b43500db",
   "metadata": {},
   "source": [
    "### 4.2. Факторизационные машины"
   ]
  },
  {
   "cell_type": "markdown",
   "id": "77caa79e",
   "metadata": {},
   "source": [
    "### 4.3. XGBoost для задачи классификации"
   ]
  },
  {
   "cell_type": "markdown",
   "id": "a1dd48aa",
   "metadata": {},
   "source": [
    "## 5. Создание MVP"
   ]
  },
  {
   "cell_type": "markdown",
   "id": "b9627ae3",
   "metadata": {},
   "source": [
    "### 5.1.Проектирование API сервиса"
   ]
  },
  {
   "cell_type": "markdown",
   "id": "978a8932",
   "metadata": {},
   "source": [
    "### 5.2. Создание веб-сервиса с моделью"
   ]
  },
  {
   "cell_type": "markdown",
   "id": "0badbe88",
   "metadata": {},
   "source": [
    "## 6. Контейнеризация"
   ]
  },
  {
   "cell_type": "markdown",
   "id": "c08229fa",
   "metadata": {},
   "source": [
    "### 6.1. Создание Docker-контейнера с сервисом"
   ]
  }
 ],
 "metadata": {
  "kernelspec": {
   "display_name": ".venv",
   "language": "python",
   "name": "python3"
  },
  "language_info": {
   "codemirror_mode": {
    "name": "ipython",
    "version": 3
   },
   "file_extension": ".py",
   "mimetype": "text/x-python",
   "name": "python",
   "nbconvert_exporter": "python",
   "pygments_lexer": "ipython3",
   "version": "3.11.7"
  }
 },
 "nbformat": 4,
 "nbformat_minor": 5
}
