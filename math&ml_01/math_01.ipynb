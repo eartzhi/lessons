{
 "cells": [
  {
   "cell_type": "code",
   "execution_count": 239,
   "metadata": {},
   "outputs": [],
   "source": [
    "import numpy as np"
   ]
  },
  {
   "cell_type": "code",
   "execution_count": 240,
   "metadata": {},
   "outputs": [
    {
     "data": {
      "text/plain": [
       "array([33, 65, 50, 45])"
      ]
     },
     "execution_count": 240,
     "metadata": {},
     "output_type": "execute_result"
    }
   ],
   "source": [
    "s = np.array([33, 65, 50, 45])\n",
    "s\n",
    "## array([33, 65, 50, 45])"
   ]
  },
  {
   "cell_type": "code",
   "execution_count": 241,
   "metadata": {},
   "outputs": [
    {
     "data": {
      "text/plain": [
       "50"
      ]
     },
     "execution_count": 241,
     "metadata": {},
     "output_type": "execute_result"
    }
   ],
   "source": [
    "s[2]\n",
    "## 50"
   ]
  },
  {
   "cell_type": "code",
   "execution_count": 242,
   "metadata": {},
   "outputs": [
    {
     "data": {
      "text/plain": [
       "4"
      ]
     },
     "execution_count": 242,
     "metadata": {},
     "output_type": "execute_result"
    }
   ],
   "source": [
    "len(s)\n",
    "## 4"
   ]
  },
  {
   "cell_type": "markdown",
   "metadata": {},
   "source": [
    "Задание 2.1\n",
    "1 point possible (graded)\n",
    "Дан вектор в Python вида t = np.array([12, 14, 17, 19, 24, 28, 31, 31, 27, 22, 17, 13]), содержащий информацию о средней температуре воздуха (в градусах Цельсия) в Риме с января по декабрь включительно. Будем считать, что температура в январе — , то есть отсчёт индексов идёт с нуля.\n",
    "\n",
    "Выберите неверное утверждение:\n",
    " — средняя температура воздуха в июне\n",
    "\n",
    "Минимальная средняя температура воздуха в Риме достигается в январе\n",
    "\n",
    " — средняя температура воздуха в феврале\n",
    " \n",
    "Максимальная средняя температура воздуха в Риме достигается в июле"
   ]
  },
  {
   "cell_type": "code",
   "execution_count": 243,
   "metadata": {},
   "outputs": [],
   "source": [
    "t = np.array([12, 14, 17, 19, 24, 28, 31, 31, 27, 22, 17, 13])"
   ]
  },
  {
   "cell_type": "code",
   "execution_count": 244,
   "metadata": {},
   "outputs": [
    {
     "name": "stdout",
     "output_type": "stream",
     "text": [
      "28\n",
      "12\n",
      "14\n",
      "31\n"
     ]
    }
   ],
   "source": [
    "print(t[5])\n",
    "print(min(t))\n",
    "print(t[1])\n",
    "print(max(t))"
   ]
  },
  {
   "cell_type": "code",
   "execution_count": 245,
   "metadata": {},
   "outputs": [
    {
     "name": "stdout",
     "output_type": "stream",
     "text": [
      "[15 23 14  8]\n",
      "[ 5 -7 -4 -6]\n"
     ]
    }
   ],
   "source": [
    "a = np.array([10, 8, 5, 1])\n",
    "b = np.array([5, 15, 9, 7])\n",
    "print(a + b)\n",
    "## array([15, 23, 14,  8])\n",
    "print(a - b)\n",
    "## array([ 5, -7, -4, -6])"
   ]
  },
  {
   "cell_type": "code",
   "execution_count": 246,
   "metadata": {},
   "outputs": [
    {
     "data": {
      "text/plain": [
       "array([24. ,  9. , 13.6])"
      ]
     },
     "execution_count": 246,
     "metadata": {},
     "output_type": "execute_result"
    }
   ],
   "source": [
    "a = np.array([120, 45, 68])\n",
    "omega = 0.2\n",
    "c = a * omega\n",
    "c\n",
    "## array([24. ,  9. , 13.6])"
   ]
  },
  {
   "cell_type": "code",
   "execution_count": 247,
   "metadata": {},
   "outputs": [
    {
     "data": {
      "text/plain": [
       "array([144., 216., 180.])"
      ]
     },
     "execution_count": 247,
     "metadata": {},
     "output_type": "execute_result"
    }
   ],
   "source": [
    "a = np.array([2, 3, 2.5])\n",
    "omega = 72\n",
    "c = a * omega\n",
    "c"
   ]
  },
  {
   "cell_type": "code",
   "execution_count": 248,
   "metadata": {},
   "outputs": [
    {
     "data": {
      "text/plain": [
       "array([394., 496., 500.])"
      ]
     },
     "execution_count": 248,
     "metadata": {},
     "output_type": "execute_result"
    }
   ],
   "source": [
    "d = np.array([120, 150, 190])\n",
    "e = np.array([130, 130, 130])\n",
    "c+d+e"
   ]
  },
  {
   "cell_type": "code",
   "execution_count": 249,
   "metadata": {},
   "outputs": [
    {
     "data": {
      "text/plain": [
       "array([1800, 3000, 2700])"
      ]
     },
     "execution_count": 249,
     "metadata": {},
     "output_type": "execute_result"
    }
   ],
   "source": [
    "p = np.array([2, 4, 5])\n",
    "v = np.array([8, 10, 2])\n",
    "s = np.array([0, 12, 7])\n",
    "omega1 = 500\n",
    "omega2 = 100\n",
    "omega3 = 0\n",
    "u = omega1*p + omega2*v + omega3*s\n",
    "u\n",
    "## array([1800, 3000, 2700])"
   ]
  },
  {
   "cell_type": "markdown",
   "metadata": {},
   "source": [
    "Задание 2.7\n",
    "1 point possible (graded)\n",
    "Найдите линейную комбинацию векторов  с коэффициентами 2, -3 и 5 соответственно."
   ]
  },
  {
   "cell_type": "code",
   "execution_count": 250,
   "metadata": {},
   "outputs": [
    {
     "data": {
      "text/plain": [
       "array([7, 7])"
      ]
     },
     "execution_count": 250,
     "metadata": {},
     "output_type": "execute_result"
    }
   ],
   "source": [
    "a = np.array([4, 5])\n",
    "b = np.array([2, 1])\n",
    "c = np.array([1, 0])\n",
    "\n",
    "2*a-3*b+5*c"
   ]
  },
  {
   "cell_type": "markdown",
   "metadata": {},
   "source": [
    "Задание 2.8\n",
    "1 point possible (graded)\n",
    "Юный предприниматель Вовочка мастерит двигатели на водном топливе и продаёт их. За четыре недели он смастерил 3, 4, 5 и 9 двигателей, а продал 1, 5, 3 и 6 двигателей соответственно.\n",
    "\n",
    "На изготовление одного двигателя Вовочка тратит 200 рублей, а продаёт двигатели по 400 рублейза штуку.\n",
    "\n",
    "Найдите вектор прибыли (разницу между выручкой и затратами) Вовочки за эти четыре недели."
   ]
  },
  {
   "cell_type": "code",
   "execution_count": 251,
   "metadata": {},
   "outputs": [
    {
     "data": {
      "text/plain": [
       "array([-200, 1200,  200,  600])"
      ]
     },
     "execution_count": 251,
     "metadata": {},
     "output_type": "execute_result"
    }
   ],
   "source": [
    "a = np.array([3, 4, 5, 9])\n",
    "b = np.array([1, 5, 3, 6])\n",
    "\n",
    "400*b-200*a"
   ]
  },
  {
   "cell_type": "code",
   "execution_count": 252,
   "metadata": {},
   "outputs": [
    {
     "data": {
      "text/plain": [
       "102.0"
      ]
     },
     "execution_count": 252,
     "metadata": {},
     "output_type": "execute_result"
    }
   ],
   "source": [
    "a = np.array([65, 70, 120, 30])\n",
    "w = np.array([0.4, 0.4, 0.2, 0.8])\n",
    "np.dot(a, w)\n",
    "## 102.0"
   ]
  },
  {
   "cell_type": "code",
   "execution_count": 253,
   "metadata": {},
   "outputs": [
    {
     "data": {
      "text/plain": [
       "7"
      ]
     },
     "execution_count": 253,
     "metadata": {},
     "output_type": "execute_result"
    }
   ],
   "source": [
    "a = np.array([4, 5, -1])\n",
    "b = np.array([2, 0, 1])\n",
    "\n",
    "np.dot(a, b)"
   ]
  },
  {
   "cell_type": "code",
   "execution_count": 254,
   "metadata": {},
   "outputs": [],
   "source": [
    "import pandas as pd\n",
    "\n",
    "Hut_Paradise_DF = pd.DataFrame({\n",
    "    '1.Rent': [65, 70, 120, 35, 40, 50, 100, 90, 85], \n",
    "    '2.Area': [50, 52, 80, 33, 33, 44, 80, 65, 65], \n",
    "    '3.Rooms':[3, 2, 1, 1, 1, 2, 4, 3, 2],\n",
    "    '4.Floor':[5, 12, 10, 3, 6, 13, 8, 21, 5], \n",
    "    '5.Demo two weeks':[8, 4, 5, 10, 20, 12, 5, 1, 10], \n",
    "    '6.Liv.Area': [37, 40, 65, 20, 16, 35, 60, 50, 40]\n",
    "})"
   ]
  },
  {
   "cell_type": "markdown",
   "metadata": {},
   "source": [
    "Найдите вектор параметров квартиры номер 5 (нумерация квартир — с 1). Для преобразования DataFrame в массив numpy можно воспользоваться атрибутом values:\n",
    "\n",
    "Hut_Paradise_values = Hut_Paradise_DF.values\n",
    "  \n",
    "Выберите координаты данного вектора:"
   ]
  },
  {
   "cell_type": "code",
   "execution_count": 255,
   "metadata": {},
   "outputs": [
    {
     "data": {
      "text/plain": [
       "array([40, 33,  1,  6, 20, 16], dtype=int64)"
      ]
     },
     "execution_count": 255,
     "metadata": {},
     "output_type": "execute_result"
    }
   ],
   "source": [
    "Hut_Paradise_values = Hut_Paradise_DF.values\n",
    "Hut_Paradise_values[4]"
   ]
  },
  {
   "cell_type": "code",
   "execution_count": 256,
   "metadata": {},
   "outputs": [
    {
     "data": {
      "text/plain": [
       "array([ 5, 12, 10,  3,  6, 13,  8, 21,  5], dtype=int64)"
      ]
     },
     "execution_count": 256,
     "metadata": {},
     "output_type": "execute_result"
    }
   ],
   "source": [
    "Hut_Paradise_values[:, 3]"
   ]
  },
  {
   "cell_type": "code",
   "execution_count": 257,
   "metadata": {},
   "outputs": [
    {
     "data": {
      "text/plain": [
       "array([13, 12, 15, 13, 17,  9, 20, 15, 25], dtype=int64)"
      ]
     },
     "execution_count": 257,
     "metadata": {},
     "output_type": "execute_result"
    }
   ],
   "source": [
    "Hut_Paradise_values[:, 1] - Hut_Paradise_values[:, 5]"
   ]
  },
  {
   "cell_type": "markdown",
   "metadata": {},
   "source": [
    "Задание 3.6\n",
    "1 point possible (graded)\n",
    "Пусть в первой квартире один просмотр занимает 10 минут, во второй — 20 минут, в третьей — полчаса, в четверой — 15 минут, в пятой — 5 минут, в шестой — 40 минут, в седьмой — 20 минут, в восьмой — 8 минут и в девятой — 20 минут.\n",
    "\n",
    "Найдите продолжительность просмотров в минутах во всех квартирах за две недели."
   ]
  },
  {
   "cell_type": "code",
   "execution_count": 258,
   "metadata": {},
   "outputs": [],
   "source": [
    "view_time = [10, 20, 30, 15, 5, 40, 20, 8, 20]"
   ]
  },
  {
   "cell_type": "code",
   "execution_count": 259,
   "metadata": {},
   "outputs": [
    {
     "data": {
      "text/plain": [
       "1348"
      ]
     },
     "execution_count": 259,
     "metadata": {},
     "output_type": "execute_result"
    }
   ],
   "source": [
    "Hut_Paradise_values[:, 4] @ view_time"
   ]
  },
  {
   "cell_type": "code",
   "execution_count": 260,
   "metadata": {},
   "outputs": [],
   "source": [
    "u=np.array([3,0,1,1,1])\n",
    "v=np.array([0,1,0,2,-2])\n",
    "w=np.array([1,-4,-1,0,-2])"
   ]
  },
  {
   "cell_type": "code",
   "execution_count": 261,
   "metadata": {},
   "outputs": [],
   "source": [
    "c= 2*v - 3*w"
   ]
  },
  {
   "cell_type": "code",
   "execution_count": 262,
   "metadata": {},
   "outputs": [
    {
     "data": {
      "text/plain": [
       "0"
      ]
     },
     "execution_count": 262,
     "metadata": {},
     "output_type": "execute_result"
    }
   ],
   "source": [
    "c@u"
   ]
  },
  {
   "cell_type": "markdown",
   "metadata": {},
   "source": [
    "4/13   4. Основные понятия линейной алгебры: матрицы и базовые действия с ними"
   ]
  },
  {
   "cell_type": "code",
   "execution_count": 263,
   "metadata": {},
   "outputs": [
    {
     "data": {
      "text/plain": [
       "array([[ 1, -5,  3],\n",
       "       [ 2,  2,  1],\n",
       "       [ 0,  3,  1],\n",
       "       [ 2,  4, 12]])"
      ]
     },
     "execution_count": 263,
     "metadata": {},
     "output_type": "execute_result"
    }
   ],
   "source": [
    "A = np.array([\n",
    "    [1, -5, 3], \n",
    "    [2, 2, 1],\n",
    "    [0, 3, 1],\n",
    "    [2, 4, 12]\n",
    "])\n",
    "A"
   ]
  },
  {
   "cell_type": "code",
   "execution_count": 264,
   "metadata": {},
   "outputs": [
    {
     "name": "stdout",
     "output_type": "stream",
     "text": [
      "a_23= 1 a_32= 3 a_33= 1\n"
     ]
    }
   ],
   "source": [
    "A.shape\n",
    "## (4, 3)\n",
    "print('a_23=', A[1, 2], 'a_32=', A[2, 1], 'a_33=', A[2,2])\n",
    "## a_23= 1 a_32= 3 a_33= 1"
   ]
  },
  {
   "cell_type": "code",
   "execution_count": 265,
   "metadata": {},
   "outputs": [],
   "source": [
    "import numpy as np\n",
    "\n",
    "Husband_Income = np.array([100,220,140])\n",
    "Wife_Income = np.array([150,200,130])\n",
    "Mother_In_Law_Income = np.array([90,80,100])\n",
    "\n",
    "Husband_Consumption = np.array([50,50,60])\n",
    "Wife_Consumption = np.array([100,80,140])\n",
    "Mother_In_Law_Consumption = np.array([100,20,140])"
   ]
  },
  {
   "cell_type": "code",
   "execution_count": 266,
   "metadata": {},
   "outputs": [
    {
     "data": {
      "text/plain": [
       "array([[100, 150,  90],\n",
       "       [220, 200,  80],\n",
       "       [140, 130, 100]])"
      ]
     },
     "execution_count": 266,
     "metadata": {},
     "output_type": "execute_result"
    }
   ],
   "source": [
    "inc = np.array([Husband_Income, Wife_Income, Mother_In_Law_Income]).T\n",
    "inc"
   ]
  },
  {
   "cell_type": "code",
   "execution_count": 267,
   "metadata": {},
   "outputs": [
    {
     "data": {
      "text/plain": [
       "array([[ 50, 100, 100],\n",
       "       [ 50,  80,  20],\n",
       "       [ 60, 140, 140]])"
      ]
     },
     "execution_count": 267,
     "metadata": {},
     "output_type": "execute_result"
    }
   ],
   "source": [
    "cons = np.array([Husband_Consumption, Wife_Consumption, Mother_In_Law_Consumption]).T\n",
    "cons"
   ]
  },
  {
   "cell_type": "code",
   "execution_count": 268,
   "metadata": {},
   "outputs": [],
   "source": [
    "inc = inc * 0.87"
   ]
  },
  {
   "cell_type": "code",
   "execution_count": 269,
   "metadata": {},
   "outputs": [
    {
     "data": {
      "text/plain": [
       "array([[ 37. ,  30.5, -21.7],\n",
       "       [141.4,  94. ,  49.6],\n",
       "       [ 61.8, -26.9, -53. ]])"
      ]
     },
     "execution_count": 269,
     "metadata": {},
     "output_type": "execute_result"
    }
   ],
   "source": [
    "inc - cons"
   ]
  },
  {
   "cell_type": "markdown",
   "metadata": {},
   "source": [
    "6/13   6. Матричное умножение"
   ]
  },
  {
   "cell_type": "code",
   "execution_count": 270,
   "metadata": {},
   "outputs": [],
   "source": [
    "A = np.matrix(\"1, -5; 2, 2; 0, 3\")\n",
    "B = np.matrix(\"3, 1, 0; -1, 0, 2\")"
   ]
  },
  {
   "cell_type": "code",
   "execution_count": 271,
   "metadata": {},
   "outputs": [
    {
     "data": {
      "text/plain": [
       "matrix([[ 1, -5],\n",
       "        [ 2,  2],\n",
       "        [ 0,  3]])"
      ]
     },
     "execution_count": 271,
     "metadata": {},
     "output_type": "execute_result"
    }
   ],
   "source": [
    "A"
   ]
  },
  {
   "cell_type": "code",
   "execution_count": 272,
   "metadata": {},
   "outputs": [
    {
     "data": {
      "text/plain": [
       "matrix([[ 3,  1,  0],\n",
       "        [-1,  0,  2]])"
      ]
     },
     "execution_count": 272,
     "metadata": {},
     "output_type": "execute_result"
    }
   ],
   "source": [
    "B"
   ]
  },
  {
   "cell_type": "code",
   "execution_count": 273,
   "metadata": {},
   "outputs": [
    {
     "data": {
      "text/plain": [
       "matrix([[  8,   1, -10],\n",
       "        [  4,   2,   4],\n",
       "        [ -3,   0,   6]])"
      ]
     },
     "execution_count": 273,
     "metadata": {},
     "output_type": "execute_result"
    }
   ],
   "source": [
    "np.dot(A, B)"
   ]
  },
  {
   "cell_type": "code",
   "execution_count": 274,
   "metadata": {},
   "outputs": [
    {
     "data": {
      "text/plain": [
       "matrix([[  5, -13],\n",
       "        [ -1,  11]])"
      ]
     },
     "execution_count": 274,
     "metadata": {},
     "output_type": "execute_result"
    }
   ],
   "source": [
    "np.dot(B, A)"
   ]
  },
  {
   "cell_type": "code",
   "execution_count": 275,
   "metadata": {},
   "outputs": [],
   "source": [
    "c = np.matrix('1, 2, 1; 1, -1, 2')"
   ]
  },
  {
   "cell_type": "code",
   "execution_count": 276,
   "metadata": {},
   "outputs": [
    {
     "data": {
      "text/plain": [
       "matrix([[ 1,  2,  1],\n",
       "        [ 1, -1,  2]])"
      ]
     },
     "execution_count": 276,
     "metadata": {},
     "output_type": "execute_result"
    }
   ],
   "source": [
    "c"
   ]
  },
  {
   "cell_type": "code",
   "execution_count": 277,
   "metadata": {},
   "outputs": [
    {
     "data": {
      "text/plain": [
       "matrix([[2, 1, 3],\n",
       "        [1, 5, 0],\n",
       "        [3, 0, 5]])"
      ]
     },
     "execution_count": 277,
     "metadata": {},
     "output_type": "execute_result"
    }
   ],
   "source": [
    "c.T *c"
   ]
  },
  {
   "cell_type": "markdown",
   "metadata": {},
   "source": [
    "Задание 7.1\n",
    "1 point possible (graded)\n",
    "Даны матрица  и вектор \n",
    "х\n",
    ":\n",
    "\n",
    "A = np.array([[5,-1,3,1,2], [-2,8,5,-1,1]])\n",
    "x = np.array([1,2,3,4,5])\n",
    "Найдите произведение матрицы  и вектора \n",
    "х\n",
    " в том порядке, в котором их можно умножить.\n",
    "\n",
    "В качестве ответа запишите координаты получившегося вектора через запятую, без пробелов. Пример ввода ответа: 1,1."
   ]
  },
  {
   "cell_type": "code",
   "execution_count": 278,
   "metadata": {},
   "outputs": [],
   "source": [
    "A = np.array([[5,-1,3,1,2], [-2,8,5,-1,1]])\n",
    "x = np.array([1,2,3,4,5])"
   ]
  },
  {
   "cell_type": "code",
   "execution_count": 279,
   "metadata": {},
   "outputs": [
    {
     "data": {
      "text/plain": [
       "array([26, 30])"
      ]
     },
     "execution_count": 279,
     "metadata": {},
     "output_type": "execute_result"
    }
   ],
   "source": [
    "A@x"
   ]
  },
  {
   "cell_type": "markdown",
   "metadata": {},
   "source": [
    "Задание 7.2\n",
    "1 point possible (graded)\n",
    "Даны две матрицы:\n",
    "\n",
    "A = np.array([[1,9,8,5], [3,6,3,2], [3,3,3,3], [0,2,5,9], [4,4,1,2]])\n",
    "B = np.array([[1,-1,0,1,1], [-2,0,2,-1,1]])\n",
    "Найдите произведение матриц  и  в том порядке, в котором их можно умножить.\n",
    "\n",
    "В качестве ответа через запятую, без пробелов запишите элемент чётвертого столбца первой строки."
   ]
  },
  {
   "cell_type": "code",
   "execution_count": 280,
   "metadata": {},
   "outputs": [],
   "source": [
    "A = np.array([[1,9,8,5], [3,6,3,2], [3,3,3,3], [0,2,5,9], [4,4,1,2]])\n",
    "B = np.array([[1,-1,0,1,1], [-2,0,2,-1,1]])"
   ]
  },
  {
   "cell_type": "code",
   "execution_count": 281,
   "metadata": {},
   "outputs": [
    {
     "data": {
      "text/plain": [
       "array([[  2,   9,  11,  14],\n",
       "       [  8, -10, -14, -11]])"
      ]
     },
     "execution_count": 281,
     "metadata": {},
     "output_type": "execute_result"
    }
   ],
   "source": [
    "B@A"
   ]
  },
  {
   "cell_type": "markdown",
   "metadata": {},
   "source": [
    "Задание 7.3\n",
    "1 point possible (graded)\n",
    "\n",
    "Дана система векторов:\n",
    "\n",
    "x = np.array([1,2,1,0,4])\n",
    "y = np.array([2,1,-1,1,0])\n",
    "z = np.array([-1,1,-1,0,0])\n",
    "\n",
    "Составьте матрицу , расположив векторы , ,  в строках. Найдите матрицу Грама  (матрицу скалярных произведений столбцов матрицы ) системы векторов , , .\n",
    "\n",
    "Чему равна полученная матрица Грама ?"
   ]
  },
  {
   "cell_type": "code",
   "execution_count": 282,
   "metadata": {},
   "outputs": [],
   "source": [
    "x = np.array([1,2,1,0,4])\n",
    "y = np.array([2,1,-1,1,0])\n",
    "z = np.array([-1,1,-1,0,0])"
   ]
  },
  {
   "cell_type": "code",
   "execution_count": 283,
   "metadata": {},
   "outputs": [],
   "source": [
    "C = np.matrix([x, y, z])"
   ]
  },
  {
   "cell_type": "code",
   "execution_count": 284,
   "metadata": {},
   "outputs": [
    {
     "data": {
      "text/plain": [
       "matrix([[ 6,  3,  0,  2,  4],\n",
       "        [ 3,  6,  0,  1,  8],\n",
       "        [ 0,  0,  3, -1,  4],\n",
       "        [ 2,  1, -1,  1,  0],\n",
       "        [ 4,  8,  4,  0, 16]])"
      ]
     },
     "execution_count": 284,
     "metadata": {},
     "output_type": "execute_result"
    }
   ],
   "source": [
    "C.T*C"
   ]
  },
  {
   "cell_type": "markdown",
   "metadata": {},
   "source": [
    "Условие для заданий 7.4 и 7.5\n",
    "\n",
    "В салоне красоты «Феи ножниц» работают восемь стилистов: Аня, Борис, Вика, Галя, Дима, Егор, Женя и Юра. \n",
    "\n",
    "Вам предоставлены две таблицы (DataFrame): Count_DF и Price_DF.\n",
    "\n",
    "В DataFrame Count_DF содержится информация по количеству услуг, оказанных каждым стилистом за апрель.\n",
    "В DataFrame Price_DF содержится информация по стоимости услуг у каждого стилиста в тысячах рублей.\n",
    "Count_DF = pd.DataFrame({\n",
    "    'Женские стрижки': [10, 2, 12, 4, 6, 10, 22, 7], \n",
    "    'Мужские стрижки': [5, 21, 12, 8, 25, 3, 1, 0], \n",
    "    'Окрашивания':[12, 3, 0, 18, 27, 2, 4, 31],\n",
    "    'Укладка':[15, 25, 30, 14, 25, 17, 25, 31],\n",
    "    'Уход':[10, 6, 4, 5, 18, 12, 20, 28]\n",
    "    }, \n",
    "    index=['Аня', 'Борис', 'Вика', 'Галя', 'Дима', 'Егор', 'Женя','Юра']\n",
    ")\n",
    "Price_DF = pd.DataFrame({\n",
    "    'Женские стрижки': [2, 1.8, 2, 1.8, 2.5, 5, 1.1, 4.5], \n",
    "    'Мужские стрижки': [1.5, 2.5, 2, 1.2, 3.5, 5, 1, 4], \n",
    "    'Окрашивания':[1, 1, 0, 2.8, 2, 3, 1.5, 2.5],\n",
    "    'Укладка':[0.8, 1, 0.5, 0.8, 1, 2, 0.5, 1],\n",
    "    'Уход':[1, 1, 2, 2, 1.5, 2.5, 1.7, 2] \n",
    "    }, \n",
    "    index=['Аня', 'Борис', 'Вика', 'Галя', 'Дима', 'Егор', 'Женя','Юра']\n",
    ")"
   ]
  },
  {
   "cell_type": "code",
   "execution_count": 285,
   "metadata": {},
   "outputs": [],
   "source": [
    "Count_DF = pd.DataFrame({\n",
    "    'Женские стрижки': [10, 2, 12, 4, 6, 10, 22, 7], \n",
    "    'Мужские стрижки': [5, 21, 12, 8, 25, 3, 1, 0], \n",
    "    'Окрашивания':[12, 3, 0, 18, 27, 2, 4, 31],\n",
    "    'Укладка':[15, 25, 30, 14, 25, 17, 25, 31],\n",
    "    'Уход':[10, 6, 4, 5, 18, 12, 20, 28]\n",
    "    }, \n",
    "    index=['Аня', 'Борис', 'Вика', 'Галя', 'Дима', 'Егор', 'Женя','Юра']\n",
    ")\n",
    "Price_DF = pd.DataFrame({\n",
    "    'Женские стрижки': [2, 1.8, 2, 1.8, 2.5, 5, 1.1, 4.5], \n",
    "    'Мужские стрижки': [1.5, 2.5, 2, 1.2, 3.5, 5, 1, 4], \n",
    "    'Окрашивания':[1, 1, 0, 2.8, 2, 3, 1.5, 2.5],\n",
    "    'Укладка':[0.8, 1, 0.5, 0.8, 1, 2, 0.5, 1],\n",
    "    'Уход':[1, 1, 2, 2, 1.5, 2.5, 1.7, 2] \n",
    "    }, \n",
    "    index=['Аня', 'Борис', 'Вика', 'Галя', 'Дима', 'Егор', 'Женя','Юра']\n",
    ")\n",
    "\n",
    "com = np.array([0.2, 0.2, 0.3, 0.1, 0.1])"
   ]
  },
  {
   "cell_type": "code",
   "execution_count": 286,
   "metadata": {},
   "outputs": [
    {
     "name": "stdout",
     "output_type": "stream",
     "text": [
      "       Женские стрижки  Мужские стрижки  Окрашивания  Укладка  Уход\n",
      "Аня                 10                5           12       15    10\n",
      "Борис                2               21            3       25     6\n",
      "Вика                12               12            0       30     4\n",
      "Галя                 4                8           18       14     5\n",
      "Дима                 6               25           27       25    18\n",
      "Егор                10                3            2       17    12\n",
      "Женя                22                1            4       25    20\n",
      "Юра                  7                0           31       31    28\n",
      "       Женские стрижки  Мужские стрижки  Окрашивания  Укладка  Уход\n",
      "Аня                2.0              1.5          1.0      0.8   1.0\n",
      "Борис              1.8              2.5          1.0      1.0   1.0\n",
      "Вика               2.0              2.0          0.0      0.5   2.0\n",
      "Галя               1.8              1.2          2.8      0.8   2.0\n",
      "Дима               2.5              3.5          2.0      1.0   1.5\n",
      "Егор               5.0              5.0          3.0      2.0   2.5\n",
      "Женя               1.1              1.0          1.5      0.5   1.7\n",
      "Юра                4.5              4.0          2.5      1.0   2.0\n"
     ]
    }
   ],
   "source": [
    "print(Count_DF)\n",
    "print(Price_DF)"
   ]
  },
  {
   "cell_type": "code",
   "execution_count": 287,
   "metadata": {},
   "outputs": [
    {
     "data": {
      "text/plain": [
       "array([[10,  2, 12,  4,  6, 10, 22,  7],\n",
       "       [ 5, 21, 12,  8, 25,  3,  1,  0],\n",
       "       [12,  3,  0, 18, 27,  2,  4, 31],\n",
       "       [15, 25, 30, 14, 25, 17, 25, 31],\n",
       "       [10,  6,  4,  5, 18, 12, 20, 28]], dtype=int64)"
      ]
     },
     "execution_count": 287,
     "metadata": {},
     "output_type": "execute_result"
    }
   ],
   "source": [
    "Count_DF.values.T"
   ]
  },
  {
   "cell_type": "code",
   "execution_count": 288,
   "metadata": {},
   "outputs": [
    {
     "data": {
      "text/plain": [
       "array([[2. , 1.5, 1. , 0.8, 1. ],\n",
       "       [1.8, 2.5, 1. , 1. , 1. ],\n",
       "       [2. , 2. , 0. , 0.5, 2. ],\n",
       "       [1.8, 1.2, 2.8, 0.8, 2. ],\n",
       "       [2.5, 3.5, 2. , 1. , 1.5],\n",
       "       [5. , 5. , 3. , 2. , 2.5],\n",
       "       [1.1, 1. , 1.5, 0.5, 1.7],\n",
       "       [4.5, 4. , 2.5, 1. , 2. ]])"
      ]
     },
     "execution_count": 288,
     "metadata": {},
     "output_type": "execute_result"
    }
   ],
   "source": [
    "Price_DF.values "
   ]
  },
  {
   "cell_type": "code",
   "execution_count": 289,
   "metadata": {},
   "outputs": [
    {
     "data": {
      "text/plain": [
       "array([[1., 0., 0., 0., 0.],\n",
       "       [0., 1., 0., 0., 0.],\n",
       "       [0., 0., 1., 0., 0.],\n",
       "       [0., 0., 0., 1., 0.],\n",
       "       [0., 0., 0., 0., 1.]])"
      ]
     },
     "execution_count": 289,
     "metadata": {},
     "output_type": "execute_result"
    }
   ],
   "source": [
    "np.eye(5)"
   ]
  },
  {
   "cell_type": "code",
   "execution_count": 290,
   "metadata": {},
   "outputs": [],
   "source": [
    "c = Count_DF.values * Price_DF.values"
   ]
  },
  {
   "cell_type": "code",
   "execution_count": null,
   "metadata": {},
   "outputs": [],
   "source": []
  },
  {
   "cell_type": "code",
   "execution_count": 291,
   "metadata": {},
   "outputs": [
    {
     "data": {
      "text/plain": [
       "array([11.3 , 15.22, 11.9 , 20.6 , 41.9 , 21.2 , 11.49, 38.25])"
      ]
     },
     "execution_count": 291,
     "metadata": {},
     "output_type": "execute_result"
    }
   ],
   "source": [
    "c_int = c@ com\n",
    "c_int"
   ]
  },
  {
   "cell_type": "markdown",
   "metadata": {},
   "source": [
    "Задание 7.5\n",
    "1 point possible (graded)\n",
    "\n",
    "Найдите вектор дохода стилистов.\n",
    "\n",
    "Выберите координаты полученного вектора:"
   ]
  },
  {
   "cell_type": "code",
   "execution_count": 294,
   "metadata": {},
   "outputs": [
    {
     "data": {
      "text/plain": [
       "array([[20. ,  7.5, 12. , 12. , 10. ],\n",
       "       [ 3.6, 52.5,  3. , 25. ,  6. ],\n",
       "       [24. , 24. ,  0. , 15. ,  8. ],\n",
       "       [ 7.2,  9.6, 50.4, 11.2, 10. ],\n",
       "       [15. , 87.5, 54. , 25. , 27. ],\n",
       "       [50. , 15. ,  6. , 34. , 30. ],\n",
       "       [24.2,  1. ,  6. , 12.5, 34. ],\n",
       "       [31.5,  0. , 77.5, 31. , 56. ]])"
      ]
     },
     "execution_count": 294,
     "metadata": {},
     "output_type": "execute_result"
    }
   ],
   "source": [
    "Count_DF.values * Price_DF.values"
   ]
  },
  {
   "cell_type": "code",
   "execution_count": 295,
   "metadata": {},
   "outputs": [
    {
     "data": {
      "text/plain": [
       "array([ 50.2 ,  74.88,  59.1 ,  67.8 , 166.6 , 113.8 ,  66.21, 157.75])"
      ]
     },
     "execution_count": 295,
     "metadata": {},
     "output_type": "execute_result"
    }
   ],
   "source": [
    "c = Count_DF.values * Price_DF.values\n",
    "(c @ np.array([1, 1, 1, 1, 1])) -c_int"
   ]
  }
 ],
 "metadata": {
  "kernelspec": {
   "display_name": ".venv",
   "language": "python",
   "name": "python3"
  },
  "language_info": {
   "codemirror_mode": {
    "name": "ipython",
    "version": 3
   },
   "file_extension": ".py",
   "mimetype": "text/x-python",
   "name": "python",
   "nbconvert_exporter": "python",
   "pygments_lexer": "ipython3",
   "version": "3.11.7"
  }
 },
 "nbformat": 4,
 "nbformat_minor": 2
}
