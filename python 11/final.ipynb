{
 "cells": [
  {
   "cell_type": "code",
   "execution_count": 1,
   "metadata": {},
   "outputs": [],
   "source": [
    "import pandas as pd \n",
    "import collections as col"
   ]
  },
  {
   "cell_type": "code",
   "execution_count": 2,
   "metadata": {},
   "outputs": [
    {
     "name": "stdout",
     "output_type": "stream",
     "text": [
      "<class 'pandas.core.frame.DataFrame'>\n",
      "RangeIndex: 300000 entries, 0 to 299999\n",
      "Data columns (total 14 columns):\n",
      " #   Column                   Non-Null Count   Dtype  \n",
      "---  ------                   --------------   -----  \n",
      " 0   starttime                300000 non-null  object \n",
      " 1   stoptime                 300000 non-null  object \n",
      " 2   start station id         299831 non-null  float64\n",
      " 3   start station name       299831 non-null  object \n",
      " 4   start station latitude   300000 non-null  float64\n",
      " 5   start station longitude  300000 non-null  float64\n",
      " 6   end station id           299831 non-null  float64\n",
      " 7   end station name         299831 non-null  object \n",
      " 8   end station latitude     300000 non-null  float64\n",
      " 9   end station longitude    300000 non-null  float64\n",
      " 10  bikeid                   300000 non-null  int64  \n",
      " 11  usertype                 300000 non-null  object \n",
      " 12  birth year               300000 non-null  int64  \n",
      " 13  gender                   300000 non-null  int64  \n",
      "dtypes: float64(6), int64(3), object(5)\n",
      "memory usage: 32.0+ MB\n"
     ]
    }
   ],
   "source": [
    "citibike_tripdata = pd.read_csv('data/citibike-tripdata.csv', sep=',')\n",
    "citibike_tripdata.info()"
   ]
  },
  {
   "cell_type": "code",
   "execution_count": 3,
   "metadata": {},
   "outputs": [
    {
     "data": {
      "text/plain": [
       "0         2018-09-01 00:00:05.2690\n",
       "1         2018-09-01 00:00:11.2810\n",
       "2         2018-09-01 00:00:20.6490\n",
       "3         2018-09-01 00:00:21.7460\n",
       "4         2018-09-01 00:00:27.3150\n",
       "                    ...           \n",
       "299995    2018-09-05 19:08:27.8460\n",
       "299996    2018-09-05 19:08:28.3700\n",
       "299997    2018-09-05 19:08:27.5090\n",
       "299998    2018-09-05 19:08:29.2300\n",
       "299999    2018-09-05 19:08:29.7110\n",
       "Name: starttime, Length: 300000, dtype: object"
      ]
     },
     "execution_count": 3,
     "metadata": {},
     "output_type": "execute_result"
    }
   ],
   "source": [
    "citibike_tripdata['starttime']"
   ]
  },
  {
   "cell_type": "code",
   "execution_count": 4,
   "metadata": {},
   "outputs": [
    {
     "data": {
      "text/plain": [
       "Counter({True: 299831, False: 169})"
      ]
     },
     "execution_count": 4,
     "metadata": {},
     "output_type": "execute_result"
    }
   ],
   "source": [
    "col.Counter(citibike_tripdata['start station id'].notna())"
   ]
  },
  {
   "cell_type": "code",
   "execution_count": 5,
   "metadata": {},
   "outputs": [
    {
     "data": {
      "text/plain": [
       "0    281.0\n",
       "Name: start station id, dtype: float64"
      ]
     },
     "execution_count": 5,
     "metadata": {},
     "output_type": "execute_result"
    }
   ],
   "source": [
    "citibike_tripdata['start station id'].mode()"
   ]
  },
  {
   "cell_type": "code",
   "execution_count": 6,
   "metadata": {},
   "outputs": [
    {
     "data": {
      "text/plain": [
       "0    33887\n",
       "Name: bikeid, dtype: int64"
      ]
     },
     "execution_count": 6,
     "metadata": {},
     "output_type": "execute_result"
    }
   ],
   "source": [
    "citibike_tripdata['bikeid'].mode()"
   ]
  },
  {
   "cell_type": "code",
   "execution_count": 7,
   "metadata": {},
   "outputs": [
    {
     "data": {
      "text/plain": [
       "usertype\n",
       "Subscriber    0.774007\n",
       "Customer      0.225993\n",
       "Name: proportion, dtype: float64"
      ]
     },
     "execution_count": 7,
     "metadata": {},
     "output_type": "execute_result"
    }
   ],
   "source": [
    "citibike_tripdata['usertype'].value_counts(normalize=True)"
   ]
  },
  {
   "cell_type": "code",
   "execution_count": 8,
   "metadata": {},
   "outputs": [
    {
     "data": {
      "text/plain": [
       "gender\n",
       "1    183582\n",
       "2     74506\n",
       "0     41912\n",
       "Name: count, dtype: int64"
      ]
     },
     "execution_count": 8,
     "metadata": {},
     "output_type": "execute_result"
    }
   ],
   "source": [
    "citibike_tripdata['gender'].value_counts()"
   ]
  },
  {
   "cell_type": "code",
   "execution_count": 9,
   "metadata": {},
   "outputs": [
    {
     "data": {
      "text/plain": [
       "False"
      ]
     },
     "metadata": {},
     "output_type": "display_data"
    },
    {
     "data": {
      "text/plain": [
       "16"
      ]
     },
     "metadata": {},
     "output_type": "display_data"
    },
    {
     "data": {
      "text/plain": [
       "start station name\n",
       "Eastern Pkwy & Washington Ave    6\n",
       "Name: count, dtype: int64"
      ]
     },
     "metadata": {},
     "output_type": "display_data"
    },
    {
     "data": {
      "text/plain": [
       "end station name\n",
       "West St & Chambers St    1963\n",
       "Name: count, dtype: int64"
      ]
     },
     "metadata": {},
     "output_type": "display_data"
    }
   ],
   "source": [
    "display(citibike_tripdata['start station id'].nunique()==citibike_tripdata['end station id'].nunique())\n",
    "display(abs(citibike_tripdata['birth year'].max()-2018))\n",
    "display(citibike_tripdata['start station name'].value_counts().nsmallest(1))\n",
    "display(citibike_tripdata['end station name'].value_counts().nlargest(1))\n"
   ]
  },
  {
   "cell_type": "code",
   "execution_count": 30,
   "metadata": {},
   "outputs": [],
   "source": [
    "citibike_tripdata=citibike_tripdata.drop(['start station id', 'end station id'], axis=1)"
   ]
  },
  {
   "cell_type": "code",
   "execution_count": 33,
   "metadata": {},
   "outputs": [],
   "source": [
    "citibike_tripdata['age']=citibike_tripdata['birth year'].apply(lambda x: 2018-x)\n",
    "citibike_tripdata['age']\n",
    "citibike_tripdata=citibike_tripdata.drop('birth year', axis=1)"
   ]
  },
  {
   "cell_type": "code",
   "execution_count": 34,
   "metadata": {},
   "outputs": [
    {
     "data": {
      "text/plain": [
       "starttime                  11837\n",
       "stoptime                   11837\n",
       "start station name         11837\n",
       "start station latitude     11837\n",
       "start station longitude    11837\n",
       "end station name           11837\n",
       "end station latitude       11837\n",
       "end station longitude      11837\n",
       "bikeid                     11837\n",
       "usertype                   11837\n",
       "gender                     11837\n",
       "age                        11837\n",
       "dtype: int64"
      ]
     },
     "execution_count": 34,
     "metadata": {},
     "output_type": "execute_result"
    }
   ],
   "source": [
    "citibike_tripdata[citibike_tripdata['age']>60].count()"
   ]
  },
  {
   "cell_type": "code",
   "execution_count": 38,
   "metadata": {},
   "outputs": [],
   "source": [
    "citibike_tripdata['starttime']=pd.to_datetime(citibike_tripdata['starttime'])\n",
    "citibike_tripdata['stoptime']=pd.to_datetime(citibike_tripdata['stoptime'])"
   ]
  },
  {
   "cell_type": "code",
   "execution_count": 39,
   "metadata": {},
   "outputs": [],
   "source": [
    "citibike_tripdata['trip duration']=citibike_tripdata['stoptime']-citibike_tripdata['starttime']"
   ]
  },
  {
   "cell_type": "code",
   "execution_count": 41,
   "metadata": {},
   "outputs": [
    {
     "data": {
      "text/plain": [
       "Timedelta('0 days 00:07:16.837000')"
      ]
     },
     "execution_count": 41,
     "metadata": {},
     "output_type": "execute_result"
    }
   ],
   "source": [
    "citibike_tripdata['trip duration'][3]"
   ]
  },
  {
   "cell_type": "code",
   "execution_count": 42,
   "metadata": {},
   "outputs": [],
   "source": [
    "day_of_week = citibike_tripdata['starttime'].dt.day_of_week"
   ]
  },
  {
   "cell_type": "code",
   "execution_count": 45,
   "metadata": {},
   "outputs": [
    {
     "data": {
      "text/plain": [
       "starttime                  115135\n",
       "stoptime                   115135\n",
       "start station name         115057\n",
       "start station latitude     115135\n",
       "start station longitude    115135\n",
       "end station name           115057\n",
       "end station latitude       115135\n",
       "end station longitude      115135\n",
       "bikeid                     115135\n",
       "usertype                   115135\n",
       "gender                     115135\n",
       "age                        115135\n",
       "trip duration              115135\n",
       "weekend                    115135\n",
       "dtype: int64"
      ]
     },
     "execution_count": 45,
     "metadata": {},
     "output_type": "execute_result"
    }
   ],
   "source": [
    "citibike_tripdata['weekend'] = day_of_week.apply(lambda x: 1 if x in [5,6] else 0)\n",
    "citibike_tripdata[citibike_tripdata['weekend']==1].count()"
   ]
  },
  {
   "cell_type": "code",
   "execution_count": 50,
   "metadata": {},
   "outputs": [],
   "source": [
    "def day_time(t):\n",
    "    t = t.hour\n",
    "    if 0 <= t <=6:\n",
    "        return 'night'\n",
    "    elif 6 < t <=12:\n",
    "       return 'morning' \n",
    "    elif 12 < t <=18:\n",
    "       return 'day' \n",
    "    else:\n",
    "        return 'evening'"
   ]
  },
  {
   "cell_type": "code",
   "execution_count": 51,
   "metadata": {},
   "outputs": [],
   "source": [
    "citibike_tripdata['time_of_day']=citibike_tripdata['starttime'].apply(day_time)"
   ]
  },
  {
   "cell_type": "code",
   "execution_count": 62,
   "metadata": {},
   "outputs": [
    {
     "data": {
      "text/plain": [
       "9.480411004308916"
      ]
     },
     "execution_count": 62,
     "metadata": {},
     "output_type": "execute_result"
    }
   ],
   "source": [
    "citibike_tripdata[citibike_tripdata['time_of_day']=='day'].shape[0]/citibike_tripdata[citibike_tripdata['time_of_day']=='night'].shape[0]"
   ]
  },
  {
   "cell_type": "code",
   "execution_count": 3,
   "metadata": {},
   "outputs": [
    {
     "name": "stdout",
     "output_type": "stream",
     "text": [
      "2^4995*3^2495*5^1249*7^832*11^498*13^415*17^312*19^276*23^226*29^177*31^166*37^138*41^123*43^118*47^108*53^95*59^85*61^82*67^75*71^70*73^68*79^63*83^60*89^56*97^51*101^49*103^48*107^46*109^45*113^44*127^39*131^38*137^36*139^35*149^33*151^33*157^31*163^30*167^29*173^28*179^27*181^27*191^26*193^25*197^25*199^25*211^23*223^22*227^22*229^21*233^21*239^20*241^20*251^19*257^19*263^19*269^18*271^18*277^18*281^17*283^17*293^17*307^16*311^16*313^15*317^15*331^15*337^14*347^14*349^14*353^14*359^13*367^13*373^13*379^13*383^13*389^12*397^12*401^12*409^12*419^11*421^11*431^11*433^11*439^11*443^11*449^11*457^10*461^10*463^10*467^10*479^10*487^10*491^10*499^10*503^9*509^9*521^9*523^9*541^9*547^9*557^8*563^8*569^8*571^8*577^8*587^8*593^8*599^8*601^8*607^8*613^8*617^8*619^8*631^7*641^7*643^7*647^7*653^7*659^7*661^7*673^7*677^7*683^7*691^7*701^7*709^7*719^6*727^6*733^6*739^6*743^6*751^6*757^6*761^6*769^6*773^6*787^6*797^6*809^6*811^6*821^6*823^6*827^6*829^6*839^5*853^5*857^5*859^5*863^5*877^5*881^5*883^5*887^5*907^5*911^5*919^5*929^5*937^5*941^5*947^5*953^5*967^5*971^5*977^5*983^5*991^5*997^5*1009^4*1013^4*1019^4*1021^4*1031^4*1033^4*1039^4*1049^4*1051^4*1061^4*1063^4*1069^4*1087^4*1091^4*1093^4*1097^4*1103^4*1109^4*1117^4*1123^4*1129^4*1151^4*1153^4*1163^4*1171^4*1181^4*1187^4*1193^4*1201^4*1213^4*1217^4*1223^4*1229^4*1231^4*1237^4*1249^4*1259^3*1277^3*1279^3*1283^3*1289^3*1291^3*1297^3*1301^3*1303^3*1307^3*1319^3*1321^3*1327^3*1361^3*1367^3*1373^3*1381^3*1399^3*1409^3*1423^3*1427^3*1429^3*1433^3*1439^3*1447^3*1451^3*1453^3*1459^3*1471^3*1481^3*1483^3*1487^3*1489^3*1493^3*1499^3*1511^3*1523^3*1531^3*1543^3*1549^3*1553^3*1559^3*1567^3*1571^3*1579^3*1583^3*1597^3*1601^3*1607^3*1609^3*1613^3*1619^3*1621^3*1627^3*1637^3*1657^3*1663^3*1667^2*1669^2*1693^2*1697^2*1699^2*1709^2*1721^2*1723^2*1733^2*1741^2*1747^2*1753^2*1759^2*1777^2*1783^2*1787^2*1789^2*1801^2*1811^2*1823^2*1831^2*1847^2*1861^2*1867^2*1871^2*1873^2*1877^2*1879^2*1889^2*1901^2*1907^2*1913^2*1931^2*1933^2*1949^2*1951^2*1973^2*1979^2*1987^2*1993^2*1997^2*1999^2*2003^2*2011^2*2017^2*2027^2*2029^2*2039^2*2053^2*2063^2*2069^2*2081^2*2083^2*2087^2*2089^2*2099^2*2111^2*2113^2*2129^2*2131^2*2137^2*2141^2*2143^2*2153^2*2161^2*2179^2*2203^2*2207^2*2213^2*2221^2*2237^2*2239^2*2243^2*2251^2*2267^2*2269^2*2273^2*2281^2*2287^2*2293^2*2297^2*2309^2*2311^2*2333^2*2339^2*2341^2*2347^2*2351^2*2357^2*2371^2*2377^2*2381^2*2383^2*2389^2*2393^2*2399^2*2411^2*2417^2*2423^2*2437^2*2441^2*2447^2*2459^2*2467^2*2473^2*2477^2*2503^1*2521^1*2531^1*2539^1*2543^1*2549^1*2551^1*2557^1*2579^1*2591^1*2593^1*2609^1*2617^1*2621^1*2633^1*2647^1*2657^1*2659^1*2663^1*2671^1*2677^1*2683^1*2687^1*2689^1*2693^1*2699^1*2707^1*2711^1*2713^1*2719^1*2729^1*2731^1*2741^1*2749^1*2753^1*2767^1*2777^1*2789^1*2791^1*2797^1*2801^1*2803^1*2819^1*2833^1*2837^1*2843^1*2851^1*2857^1*2861^1*2879^1*2887^1*2897^1*2903^1*2909^1*2917^1*2927^1*2939^1*2953^1*2957^1*2963^1*2969^1*2971^1*2999^1*3001^1*3011^1*3019^1*3023^1*3037^1*3041^1*3049^1*3061^1*3067^1*3079^1*3083^1*3089^1*3109^1*3119^1*3121^1*3137^1*3163^1*3167^1*3169^1*3181^1*3187^1*3191^1*3203^1*3209^1*3217^1*3221^1*3229^1*3251^1*3253^1*3257^1*3259^1*3271^1*3299^1*3301^1*3307^1*3313^1*3319^1*3323^1*3329^1*3331^1*3343^1*3347^1*3359^1*3361^1*3371^1*3373^1*3389^1*3391^1*3407^1*3413^1*3433^1*3449^1*3457^1*3461^1*3463^1*3467^1*3469^1*3491^1*3499^1*3511^1*3517^1*3527^1*3529^1*3533^1*3539^1*3541^1*3547^1*3557^1*3559^1*3571^1*3581^1*3583^1*3593^1*3607^1*3613^1*3617^1*3623^1*3631^1*3637^1*3643^1*3659^1*3671^1*3673^1*3677^1*3691^1*3697^1*3701^1*3709^1*3719^1*3727^1*3733^1*3739^1*3761^1*3767^1*3769^1*3779^1*3793^1*3797^1*3803^1*3821^1*3823^1*3833^1*3847^1*3851^1*3853^1*3863^1*3877^1*3881^1*3889^1*3907^1*3911^1*3917^1*3919^1*3923^1*3929^1*3931^1*3943^1*3947^1*3967^1*3989^1*4001^1*4003^1*4007^1*4013^1*4019^1*4021^1*4027^1*4049^1*4051^1*4057^1*4073^1*4079^1*4091^1*4093^1*4099^1*4111^1*4127^1*4129^1*4133^1*4139^1*4153^1*4157^1*4159^1*4177^1*4201^1*4211^1*4217^1*4219^1*4229^1*4231^1*4241^1*4243^1*4253^1*4259^1*4261^1*4271^1*4273^1*4283^1*4289^1*4297^1*4327^1*4337^1*4339^1*4349^1*4357^1*4363^1*4373^1*4391^1*4397^1*4409^1*4421^1*4423^1*4441^1*4447^1*4451^1*4457^1*4463^1*4481^1*4483^1*4493^1*4507^1*4513^1*4517^1*4519^1*4523^1*4547^1*4549^1*4561^1*4567^1*4583^1*4591^1*4597^1*4603^1*4621^1*4637^1*4639^1*4643^1*4649^1*4651^1*4657^1*4663^1*4673^1*4679^1*4691^1*4703^1*4721^1*4723^1*4729^1*4733^1*4751^1*4759^1*4783^1*4787^1*4789^1*4793^1*4799^1*4801^1*4813^1*4817^1*4831^1*4861^1*4871^1*4877^1*4889^1*4903^1*4909^1*4919^1*4931^1*4933^1*4937^1*4943^1*4951^1*4957^1*4967^1*4969^1*4973^1*4987^1*4993^1*4999^1\n"
     ]
    }
   ],
   "source": [
    "def decomp(n):\n",
    "    fact = 1\n",
    "    count = 0\n",
    "    answer = ''\n",
    "    my_dict ={}\n",
    "    for num in range(1, n+1):\n",
    "        fact = fact*num\n",
    "    simple_list = [x for x in range(2, n+1)]\n",
    "    for num in range(2, n+1):\n",
    "        for divider in range(2, num):\n",
    "            if num in simple_list and num % divider == 0:\n",
    "                simple_list.remove(num)\n",
    "    for i in simple_list:\n",
    "        while fact % i == 0 and fact != 1:\n",
    "            count += 1\n",
    "            fact = fact // i\n",
    "        my_dict.update({i: count})\n",
    "        count = 0\n",
    "    for number, rate in my_dict.items():\n",
    "        answer += f'{number}^{rate}*'\n",
    "    return answer[:-1]\n",
    "\n",
    "print(decomp(5000))"
   ]
  }
 ],
 "metadata": {
  "kernelspec": {
   "display_name": ".venv",
   "language": "python",
   "name": "python3"
  },
  "language_info": {
   "codemirror_mode": {
    "name": "ipython",
    "version": 3
   },
   "file_extension": ".py",
   "mimetype": "text/x-python",
   "name": "python",
   "nbconvert_exporter": "python",
   "pygments_lexer": "ipython3",
   "version": "3.12.1"
  }
 },
 "nbformat": 4,
 "nbformat_minor": 2
}
