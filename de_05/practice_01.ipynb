{
 "cells": [
  {
   "cell_type": "code",
   "execution_count": 25,
   "id": "9070ab74",
   "metadata": {},
   "outputs": [],
   "source": [
    "from selenium import webdriver\n",
    "from selenium.webdriver.chrome.service import Service as ChromeService\n",
    "from selenium.webdriver.common.by import By\n",
    "from selenium.webdriver.common.action_chains import ActionChains\n",
    "import time"
   ]
  },
  {
   "cell_type": "code",
   "execution_count": 26,
   "id": "d414f257",
   "metadata": {},
   "outputs": [],
   "source": [
    "executable_path = './chromedriver.exe'\n"
   ]
  },
  {
   "cell_type": "code",
   "execution_count": 27,
   "id": "9bf228b4",
   "metadata": {},
   "outputs": [
    {
     "name": "stdout",
     "output_type": "stream",
     "text": [
      "Тест: а вы точно программист?\n"
     ]
    }
   ],
   "source": [
    "final_dictionary = {'question': [], 'answers': [], 'answers_percentage':[]}\n",
    "\n",
    "driver = webdriver.Chrome(\n",
    "    service=ChromeService(executable_path=executable_path)\n",
    ")\n",
    "driver.get(\"https://tproger.ru/quiz/real-programmer\")\n",
    "driver.set_window_size(1024, 2048)\n",
    "\n",
    "title = driver.title\n",
    "print(title)\n",
    "\n",
    "for i in range(12): \n",
    "    to_scroll = driver.find_element(By.CLASS_NAME, 'tp-post-single-header__title')\n",
    "    ActionChains(driver).scroll_to_element(to_scroll).perform()\n",
    "\n",
    "    # driver.implicitly_wait(10)\n",
    "    time.sleep(5)\n",
    "    question = driver.find_element(By.CLASS_NAME, value='tp-quiz-question__text')\n",
    "    final_dictionary['question'].append(question.text)\n",
    "    to_scroll = driver.find_element(By.CLASS_NAME, 'tp-post-page__actions')\n",
    "\n",
    "  \n",
    "\n",
    "    # driver.implicitly_wait(5)\n",
    "    time.sleep(3)\n",
    "    ActionChains(driver).scroll_to_element(to_scroll).perform()\n",
    "    button = driver.find_element(By.CLASS_NAME, value='tp-answer__radio')\n",
    "    button.click()\n",
    "    \n",
    "    time.sleep(2)\n",
    "    answers_text = driver.find_elements(By.CLASS_NAME, value='tp-answer__text')\n",
    "    answers_percentage = driver.find_elements(By.CLASS_NAME, value='tp-answer__percentage')\n",
    "    \n",
    "    answers_text_list = []\n",
    "    answers_percentage_list = []\n",
    "    for j in range(len(answers_text)):\n",
    "        try:\n",
    "            # print(int(elem.text[:-1]))\n",
    "            answers_text_list.append(answers_text[j].text)\n",
    "            answers_percentage_list.append(int(answers_percentage[j].text[:-1]))\n",
    "        except:\n",
    "            pass\n",
    "    final_dictionary['answers'].append(answers_text_list)\n",
    "    final_dictionary['answers_percentage'].append(answers_percentage_list)\n",
    "\n",
    "    # driver.implicitly_wait(5)\n",
    "    time.sleep(3)\n",
    "    button = driver.find_element(By.CLASS_NAME, value='tp-button__text')\n",
    "    button.click()\n",
    "\n",
    "\n",
    "\n",
    "driver.close()\n",
    "driver.quit()"
   ]
  },
  {
   "cell_type": "code",
   "execution_count": 28,
   "id": "83c0b716",
   "metadata": {},
   "outputs": [
    {
     "name": "stdout",
     "output_type": "stream",
     "text": [
      "{'question': ['Начнём с простого. Какую первую программу обычно пишут программисты?', 'Бывает ли так, что программа скомпилировалась с первого раза и без ошибок?', 'Представим гипотетическую ситуацию, в которой программа всё-таки скомпилировалась с первого раза. Как вы поступите?', 'Движемся дальше. Вопрос на проверку логического мышления. Допустим, вы пишете проект, и заказчик утвердил документ, в котором чётко написано, что он хочет получить в результате. Назовём его ТЗ. Изменятся ли требования в процессе работы над проектом?', 'Какой правильный ответ на вопрос про рекурсию?', 'Представьте, что вы пишете программу и при попытке её сборки компилятор выдал вам одну ошибку. Вы исправили её и пробуете собрать проект ещё раз. Сколько теперь будет ошибок?', 'Вы пришли на проект, над которым раньше работал другой программист. Что можно сказать о его коде?', 'Перед вами три дерева. На том, что посередине, сидит кот. На дереве с каким индексом сидит кот?', 'Теперь чуть сложнее. Что такое Пик Балмера?', 'Что такое стринги?', 'Какое максимальное число из перечисленных можно показать пальцами одной руки?', 'Буратино дали три яблока. Два он съел. Сколько яблок осталось у Буратино?'], 'answers': [['Hello world', 'Сортировку «пузырьком»', 'Для взлома аккаунта «ВКонтакте». Такая программа есть у каждого программиста', 'Это вопрос с подвохом. Начинают они с починки утюгов, программы тут не при чём.'], ['Да, конечно', 'Нет, это фантастика'], ['Выключу комп и спокойно пойду спать — дело сделано', 'Порадуюсь за себя и продолжу писать код', 'Буду искать ошибку в компиляторе, где-то она должна быть'], ['Изменятся, конечно', 'Не изменятся. Вы же сами сказали, что всё чётко зафиксировано'], ['Да', '42', 'Какой правильный ответ на вопрос про рекурсию?'], ['Была одна, теперь ошибок не будет', 'Неизвестно'], ['Надо сначала детально изучить проект, чтобы понять это', 'Его код просто ужасен, ну кто так пишет!'], ['2', '1', '0'], ['Гора в Северной Америке', 'Феномен о том, что при определённой концентрации алкоголя в крови программистские способности резко возрастают', 'Яхта Стива Балмера — бывшего генерального директора Microsoft'], ['Разновидность мини-трусиков', '«Верёвки» на английском', 'Несколько переменных типа «строка»'], ['5', '4', '31', '32'], ['Одно', 'У него не осталось яблок', 'Никто не знает наверняка']], 'answers_percentage': [[91, 3, 2, 4], [31, 69], [10, 18, 71], [80, 20], [14, 13, 73], [13, 87], [28, 72], [14, 75, 10], [14, 59, 27], [15, 6, 79], [32, 12, 23, 33], [22, 8, 70]]}\n"
     ]
    }
   ],
   "source": [
    "print(final_dictionary)"
   ]
  }
 ],
 "metadata": {
  "kernelspec": {
   "display_name": ".venv",
   "language": "python",
   "name": "python3"
  },
  "language_info": {
   "codemirror_mode": {
    "name": "ipython",
    "version": 3
   },
   "file_extension": ".py",
   "mimetype": "text/x-python",
   "name": "python",
   "nbconvert_exporter": "python",
   "pygments_lexer": "ipython3",
   "version": "3.11.7"
  }
 },
 "nbformat": 4,
 "nbformat_minor": 5
}
