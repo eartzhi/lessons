{
 "cells": [
  {
   "cell_type": "code",
   "execution_count": 7,
   "id": "de82609b",
   "metadata": {},
   "outputs": [],
   "source": [
    "import numpy as np\n",
    "\n",
    "from scipy import optimize\n",
    "from scipy import sparse\n",
    "from numpy.random import rand\n"
   ]
  },
  {
   "cell_type": "code",
   "execution_count": 2,
   "id": "a4fc0cdf",
   "metadata": {},
   "outputs": [
    {
     "name": "stdout",
     "output_type": "stream",
     "text": [
      " fmin(func, x0, args=(), xtol=0.0001, ftol=0.0001, maxiter=None, maxfun=None,\n",
      "      full_output=0, disp=1, retall=0, callback=None, initial_simplex=None)\n",
      "\n",
      "Minimize a function using the downhill simplex algorithm.\n",
      "\n",
      "This algorithm only uses function values, not derivatives or second\n",
      "derivatives.\n",
      "\n",
      "Parameters\n",
      "----------\n",
      "func : callable func(x,*args)\n",
      "    The objective function to be minimized.\n",
      "x0 : ndarray\n",
      "    Initial guess.\n",
      "args : tuple, optional\n",
      "    Extra arguments passed to func, i.e., ``f(x,*args)``.\n",
      "xtol : float, optional\n",
      "    Absolute error in xopt between iterations that is acceptable for\n",
      "    convergence.\n",
      "ftol : number, optional\n",
      "    Absolute error in func(xopt) between iterations that is acceptable for\n",
      "    convergence.\n",
      "maxiter : int, optional\n",
      "    Maximum number of iterations to perform.\n",
      "maxfun : number, optional\n",
      "    Maximum number of function evaluations to make.\n",
      "full_output : bool, optional\n",
      "    Set to True if fopt and warnflag outputs are desired.\n",
      "disp : bool, optional\n",
      "    Set to True to print convergence messages.\n",
      "retall : bool, optional\n",
      "    Set to True to return list of solutions at each iteration.\n",
      "callback : callable, optional\n",
      "    Called after each iteration, as callback(xk), where xk is the\n",
      "    current parameter vector.\n",
      "initial_simplex : array_like of shape (N + 1, N), optional\n",
      "    Initial simplex. If given, overrides `x0`.\n",
      "    ``initial_simplex[j,:]`` should contain the coordinates of\n",
      "    the jth vertex of the ``N+1`` vertices in the simplex, where\n",
      "    ``N`` is the dimension.\n",
      "\n",
      "Returns\n",
      "-------\n",
      "xopt : ndarray\n",
      "    Parameter that minimizes function.\n",
      "fopt : float\n",
      "    Value of function at minimum: ``fopt = func(xopt)``.\n",
      "iter : int\n",
      "    Number of iterations performed.\n",
      "funcalls : int\n",
      "    Number of function calls made.\n",
      "warnflag : int\n",
      "    1 : Maximum number of function evaluations made.\n",
      "    2 : Maximum number of iterations reached.\n",
      "allvecs : list\n",
      "    Solution at each iteration.\n",
      "\n",
      "See also\n",
      "--------\n",
      "minimize: Interface to minimization algorithms for multivariate\n",
      "    functions. See the 'Nelder-Mead' `method` in particular.\n",
      "\n",
      "Notes\n",
      "-----\n",
      "Uses a Nelder-Mead simplex algorithm to find the minimum of function of\n",
      "one or more variables.\n",
      "\n",
      "This algorithm has a long history of successful use in applications.\n",
      "But it will usually be slower than an algorithm that uses first or\n",
      "second derivative information. In practice, it can have poor\n",
      "performance in high-dimensional problems and is not robust to\n",
      "minimizing complicated functions. Additionally, there currently is no\n",
      "complete theory describing when the algorithm will successfully\n",
      "converge to the minimum, or how fast it will if it does. Both the ftol and\n",
      "xtol criteria must be met for convergence.\n",
      "\n",
      "Examples\n",
      "--------\n",
      ">>> def f(x):\n",
      "...     return x**2\n",
      "\n",
      ">>> from scipy import optimize\n",
      "\n",
      ">>> minimum = optimize.fmin(f, 1)\n",
      "Optimization terminated successfully.\n",
      "         Current function value: 0.000000\n",
      "         Iterations: 17\n",
      "         Function evaluations: 34\n",
      ">>> minimum[0]\n",
      "-8.8817841970012523e-16\n",
      "\n",
      "References\n",
      "----------\n",
      ".. [1] Nelder, J.A. and Mead, R. (1965), \"A simplex method for function\n",
      "       minimization\", The Computer Journal, 7, pp. 308-313\n",
      "\n",
      ".. [2] Wright, M.H. (1996), \"Direct Search Methods: Once Scorned, Now\n",
      "       Respectable\", in Numerical Analysis 1995, Proceedings of the\n",
      "       1995 Dundee Biennial Conference in Numerical Analysis, D.F.\n",
      "       Griffiths and G.A. Watson (Eds.), Addison Wesley Longman,\n",
      "       Harlow, UK, pp. 191-208.\n"
     ]
    }
   ],
   "source": [
    "np.info(optimize.fmin)"
   ]
  },
  {
   "cell_type": "markdown",
   "id": "5016ebbe",
   "metadata": {},
   "source": [
    "3. Sparse-матрицы. Практика"
   ]
  },
  {
   "cell_type": "code",
   "execution_count": 5,
   "id": "b1dd47ca",
   "metadata": {},
   "outputs": [],
   "source": [
    "# CSR-матрица\n",
    "sample_csr = sparse.csr_matrix([[1, 2, 0], [0, 0, 3], [4, 0, 5]])\n",
    "row = np.array([0, 2, 2, 0, 1, 2])\n",
    "col = np.array([0, 0, 1, 2, 2, 2])\n",
    "data = np.array([1, 2, 3, 4, 5, 6])\n",
    "\n",
    "# CSС-матрица\n",
    "sample_csc = sparse.csc_matrix((data, (row, col)), shape=(3, 3))\n",
    "\n",
    "I = np.array([0,3,1,0])\n",
    "J = np.array([0,3,1,2])\n",
    "V = np.array([4,5,7,9])\n",
    "\n",
    "# COO-матрица\n",
    "sample_coo = sparse.coo_matrix((V,(I,J)),shape=(4,4))\n",
    "# LIL матрица\n",
    "sample_lil = sparse.lil_matrix((3, 3))\n",
    "\n",
    "# DOK-матрица\n",
    "sample_dok = sparse.dok_matrix((5, 5), dtype=np.float32)"
   ]
  },
  {
   "cell_type": "code",
   "execution_count": 8,
   "id": "04d07f5c",
   "metadata": {},
   "outputs": [],
   "source": [
    "sample_lil[0, :3] = np.ones(3)\n",
    "sample_lil[1, :3] = sample_lil[0, :3]\n",
    "sample_lil.setdiag(rand(3))\n",
    "\n",
    "for i in range(5):\n",
    "    for j in range(5):\n",
    "        sample_dok [i, j] = i + j"
   ]
  },
  {
   "cell_type": "code",
   "execution_count": 9,
   "id": "d8686e10",
   "metadata": {},
   "outputs": [
    {
     "data": {
      "text/plain": [
       "<3x3 sparse matrix of type '<class 'numpy.float64'>'\n",
       "\twith 7 stored elements in List of Lists format>"
      ]
     },
     "execution_count": 9,
     "metadata": {},
     "output_type": "execute_result"
    }
   ],
   "source": [
    "sample_lil"
   ]
  },
  {
   "cell_type": "code",
   "execution_count": 10,
   "id": "a8c74dfd",
   "metadata": {},
   "outputs": [],
   "source": [
    "# Переведем в dense и исправим необходимые значения\n",
    "tmp_filled = sample_csr.toarray()\n",
    "tmp_filled[0, 0] = 10\n",
    "sample_csr_new = sparse.csr_matrix(tmp_filled)\n",
    "\n",
    "# Аналогично через сложение двух матриц\n",
    "tmp_csr = sparse.csr_matrix([[5, 0, 0], [0, 0, 0], [0, 0, 0]])\n",
    "sample_csr_new = sample_csr + tmp_csr"
   ]
  },
  {
   "cell_type": "code",
   "execution_count": 11,
   "id": "a6a3c307",
   "metadata": {},
   "outputs": [],
   "source": [
    "v = np.array([1, 0, -1])\n",
    "tmp_csr = sparse.csr_matrix([[5, 0, 0], [0, 0, 0], [0, 0, 0]])\n",
    "sample_csr = sample_csr + tmp_csr\n",
    "sample_csr = sample_csr.dot(v)\n",
    "v = np.array([1, 0, -1])\n",
    "tmp_csc = sparse.csc_matrix([[5, 0, 0], [0, 0, 0], [0, 0, 0]])\n",
    "sample_csc = sample_csc + tmp_csc\n",
    "sample_csc = sample_csc.dot(v)\n",
    "\n",
    "sample_lil_tmp = sparse.lil_matrix((3, 3))\n",
    "sample_lil = sample_lil.dot(v) + sample_lil_tmp"
   ]
  },
  {
   "cell_type": "code",
   "execution_count": 12,
   "id": "f43ee9c7",
   "metadata": {},
   "outputs": [],
   "source": [
    "tmp=sparse.csr_matrix([[1, 0, 4, 0], [1, 0, 4, 0], [1, 0, 4, 0]])\n",
    "tmp = sparse.csr_matrix(([1, 4, 1, 4, 1, 4], [1, 3, 1, 3, 1, 3], [0, 2, 4, 6]), shape=(3, 4))"
   ]
  },
  {
   "cell_type": "code",
   "execution_count": 13,
   "id": "43469a51",
   "metadata": {},
   "outputs": [],
   "source": [
    "tmp = sparse.csr_matrix(([1, 2, 3, 4, 5, 6], [1, 2, 3, 1, 2, 3], [0, 3, 6]), shape=(2, 3))"
   ]
  }
 ],
 "metadata": {
  "kernelspec": {
   "display_name": ".venv",
   "language": "python",
   "name": "python3"
  },
  "language_info": {
   "codemirror_mode": {
    "name": "ipython",
    "version": 3
   },
   "file_extension": ".py",
   "mimetype": "text/x-python",
   "name": "python",
   "nbconvert_exporter": "python",
   "pygments_lexer": "ipython3",
   "version": "3.11.7"
  }
 },
 "nbformat": 4,
 "nbformat_minor": 5
}
