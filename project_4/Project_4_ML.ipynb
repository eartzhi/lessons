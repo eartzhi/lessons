{
 "cells": [
  {
   "cell_type": "markdown",
   "id": "c353de9a",
   "metadata": {},
   "source": [
    "# Проект: классификация"
   ]
  },
  {
   "cell_type": "code",
   "execution_count": 179,
   "id": "4a6e54dc",
   "metadata": {},
   "outputs": [],
   "source": [
    "import pandas as pd\n",
    "import numpy as np\n",
    "import matplotlib.pyplot as plt\n",
    "import seaborn as sns\n",
    "from  sklearn.ensemble import IsolationForest\n",
    "import warnings\n",
    "warnings.filterwarnings('ignore')\n",
    "from sklearn.preprocessing  import LabelEncoder\n",
    "from sklearn import linear_model \n",
    "from sklearn import tree \n",
    "from sklearn import ensemble \n",
    "from sklearn import metrics \n",
    "from sklearn import preprocessing \n",
    "from sklearn.model_selection import train_test_split \n",
    "from sklearn.feature_selection import SelectKBest, f_classif"
   ]
  },
  {
   "cell_type": "markdown",
   "id": "71559b60",
   "metadata": {},
   "source": [
    "## Часть 1. Знакомство с данными, обработка пропусков и выбросов"
   ]
  },
  {
   "cell_type": "markdown",
   "id": "7c5e31b2",
   "metadata": {},
   "source": [
    "### Задание 1"
   ]
  },
  {
   "cell_type": "code",
   "execution_count": 180,
   "id": "20730cd7",
   "metadata": {},
   "outputs": [],
   "source": [
    "df = pd.read_csv('data/bank_fin.zip', sep = ';')"
   ]
  },
  {
   "cell_type": "code",
   "execution_count": 181,
   "id": "ba11dc67",
   "metadata": {},
   "outputs": [
    {
     "name": "stdout",
     "output_type": "stream",
     "text": [
      "<class 'pandas.core.frame.DataFrame'>\n",
      "RangeIndex: 11162 entries, 0 to 11161\n",
      "Data columns (total 17 columns):\n",
      " #   Column     Non-Null Count  Dtype \n",
      "---  ------     --------------  ----- \n",
      " 0   age        11162 non-null  int64 \n",
      " 1   job        11162 non-null  object\n",
      " 2   marital    11162 non-null  object\n",
      " 3   education  11162 non-null  object\n",
      " 4   default    11162 non-null  object\n",
      " 5   balance    11137 non-null  object\n",
      " 6   housing    11162 non-null  object\n",
      " 7   loan       11162 non-null  object\n",
      " 8   contact    11162 non-null  object\n",
      " 9   day        11162 non-null  int64 \n",
      " 10  month      11162 non-null  object\n",
      " 11  duration   11162 non-null  int64 \n",
      " 12  campaign   11162 non-null  int64 \n",
      " 13  pdays      11162 non-null  int64 \n",
      " 14  previous   11162 non-null  int64 \n",
      " 15  poutcome   11162 non-null  object\n",
      " 16  deposit    11162 non-null  object\n",
      "dtypes: int64(6), object(11)\n",
      "memory usage: 1.4+ MB\n",
      "None\n",
      "25\n"
     ]
    }
   ],
   "source": [
    "# исследуйте данные на предмет пропусков. Где есть пропущенные значения? Сколько их?\n",
    "# ваш код\n",
    "print(df.info())\n",
    "print(df.balance.isnull().sum())"
   ]
  },
  {
   "cell_type": "markdown",
   "id": "6366f059",
   "metadata": {},
   "source": [
    "### Задание 2"
   ]
  },
  {
   "cell_type": "code",
   "execution_count": 182,
   "id": "98ea29d4",
   "metadata": {},
   "outputs": [
    {
     "name": "stdout",
     "output_type": "stream",
     "text": [
      "['admin.' 'technician' 'services' 'management' 'retired' 'blue-collar'\n",
      " 'unemployed' 'entrepreneur' 'housemaid' 'unknown' 'self-employed'\n",
      " 'student']\n",
      "['secondary' 'tertiary' 'primary' 'unknown']\n"
     ]
    }
   ],
   "source": [
    "# есть ли в признаке job пропущенные значения? Возможно, они обозначены каким-то специальным словом?\n",
    "# ваш код\n",
    "print(df.job.unique())\n",
    "print(df.education.unique())"
   ]
  },
  {
   "cell_type": "markdown",
   "id": "8fcf4fcd",
   "metadata": {},
   "source": [
    "### Задание 3"
   ]
  },
  {
   "cell_type": "code",
   "execution_count": 183,
   "id": "3a01be5e",
   "metadata": {},
   "outputs": [],
   "source": [
    "# преобразуйте признак balance таким образом, чтобы он корректно считывался, как вещественное число (float)\n",
    "df.balance = df.balance.apply(lambda x: float(str(x).replace(',', '.').replace(' ', '').replace('$', '')))"
   ]
  },
  {
   "cell_type": "code",
   "execution_count": 184,
   "id": "b92c880d",
   "metadata": {},
   "outputs": [
    {
     "data": {
      "text/plain": [
       "1529.129"
      ]
     },
     "execution_count": 184,
     "metadata": {},
     "output_type": "execute_result"
    }
   ],
   "source": [
    "round(df.balance.mean(), 3)"
   ]
  },
  {
   "cell_type": "markdown",
   "id": "6de63fd7",
   "metadata": {},
   "source": [
    "### Задание 4"
   ]
  },
  {
   "cell_type": "code",
   "execution_count": 185,
   "id": "6a684a63",
   "metadata": {},
   "outputs": [],
   "source": [
    "# обработайте пропуски в признаки balance , заменив их на медианные значения по данному признаку\n",
    "# ваш код\n",
    "df.balance.fillna(df.balance.median(), inplace=True)"
   ]
  },
  {
   "cell_type": "code",
   "execution_count": 186,
   "id": "8d51ba77",
   "metadata": {},
   "outputs": [
    {
     "data": {
      "text/plain": [
       "1526.936"
      ]
     },
     "execution_count": 186,
     "metadata": {},
     "output_type": "execute_result"
    }
   ],
   "source": [
    "round(df.balance.mean(), 3)"
   ]
  },
  {
   "cell_type": "markdown",
   "id": "1097ec42",
   "metadata": {},
   "source": [
    "### Задание 5"
   ]
  },
  {
   "cell_type": "code",
   "execution_count": 187,
   "id": "0fa070a6",
   "metadata": {},
   "outputs": [],
   "source": [
    "# обработайте пропуски в категориальных признаках: job и education, заменив их на модальные значения\n",
    "# ваш код\n",
    "df['job'] = df.job.apply(lambda x: df.job.mode()[0] if x == 'unknown' else x )\n",
    "df['education'] = df.education.apply(lambda x: df.education.mode()[0] if x == 'unknown' else x )"
   ]
  },
  {
   "cell_type": "code",
   "execution_count": 188,
   "id": "d0856da7",
   "metadata": {},
   "outputs": [
    {
     "data": {
      "text/plain": [
       "1598.883"
      ]
     },
     "execution_count": 188,
     "metadata": {},
     "output_type": "execute_result"
    }
   ],
   "source": [
    "round(df[(df['job'] == df['job'].mode()[0]) & (df['education'] == df['education'].mode()[0])].balance.mean(),3)"
   ]
  },
  {
   "cell_type": "code",
   "execution_count": 189,
   "id": "706a70f3",
   "metadata": {},
   "outputs": [],
   "source": [
    "def outliers_iqr_mod(data, feature, left=1.5, right=1.5, log_scale=True):\n",
    "    if log_scale:\n",
    "        x = np.log(data[feature]+1)\n",
    "    else:\n",
    "        x = data[feature]\n",
    "    quartile_1, quartile_3 = x.quantile(0.25), x.quantile(0.75),\n",
    "    iqr = quartile_3 - quartile_1\n",
    "    lower_bound = quartile_1 - (iqr * left)\n",
    "    upper_bound = quartile_3 + (iqr * right)\n",
    "    outliers = data[(x < lower_bound) | (x > upper_bound)]\n",
    "    cleaned = data[(x >= lower_bound) & (x <= upper_bound)]\n",
    "    return outliers, cleaned"
   ]
  },
  {
   "cell_type": "markdown",
   "id": "b0643192",
   "metadata": {},
   "source": [
    "Изучите признак, отображающий баланс клиентов, на предмет выбросов.\n",
    "\n",
    "В математической статистике есть несколько подходов, позволяющих определить наличие выбросов. Мы будем считать, что выбросы находятся за пределами отрезка, нижняя граница которого определяется как нижний квартиль, из которого вычли полтора межквартильных размаха () , а верхняя граница — как верхний квартиль, к которому прибавили полтора межквартильных размаха. (). Найдите эти границы, и отфильтруйте значения так, чтобы выбросов в данных не осталось.\n",
    "\n",
    "Примечание. Несмотря на то что существуют более продвинутые методы поиска аномальных значений, для обработки одного числового признака достаточно хорошо подходит метод Тьюки. После решения задачи вы сможете попробовать применить и другие методы, оценив их влияние на качество поиска."
   ]
  },
  {
   "cell_type": "code",
   "execution_count": 190,
   "id": "b44dd170",
   "metadata": {},
   "outputs": [
    {
     "data": {
      "text/plain": [
       "<Axes: xlabel='balance', ylabel='Count'>"
      ]
     },
     "execution_count": 190,
     "metadata": {},
     "output_type": "execute_result"
    },
    {
     "data": {
      "image/png": "[encoded data removed]",
      "text/plain": [
       "<Figure size 640x480 with 1 Axes>"
      ]
     },
     "metadata": {},
     "output_type": "display_data"
    }
   ],
   "source": [
    "sns.histplot(df['balance'])"
   ]
  },
  {
   "cell_type": "code",
   "execution_count": 191,
   "id": "237005bd",
   "metadata": {},
   "outputs": [
    {
     "data": {
      "text/plain": [
       "age          922\n",
       "job          922\n",
       "marital      922\n",
       "education    922\n",
       "default      922\n",
       "balance      922\n",
       "housing      922\n",
       "loan         922\n",
       "contact      922\n",
       "day          922\n",
       "month        922\n",
       "duration     922\n",
       "campaign     922\n",
       "pdays        922\n",
       "previous     922\n",
       "poutcome     922\n",
       "deposit      922\n",
       "dtype: int64"
      ]
     },
     "execution_count": 191,
     "metadata": {},
     "output_type": "execute_result"
    }
   ],
   "source": [
    "outliers, cleaned = outliers_iqr_mod(df, 'balance')\n",
    "outliers.count()"
   ]
  },
  {
   "cell_type": "markdown",
   "id": "02af77c6",
   "metadata": {},
   "source": [
    "### Задание 6"
   ]
  },
  {
   "cell_type": "code",
   "execution_count": 192,
   "id": "3802cdd9",
   "metadata": {},
   "outputs": [
    {
     "data": {
      "text/plain": [
       "<Axes: xlabel='balance', ylabel='Count'>"
      ]
     },
     "execution_count": 192,
     "metadata": {},
     "output_type": "execute_result"
    },
    {
     "data": {
      "image/png": "[encoded data removed]",
      "text/plain": [
       "<Figure size 640x480 with 1 Axes>"
      ]
     },
     "metadata": {},
     "output_type": "display_data"
    }
   ],
   "source": [
    "# удалите все выбросы для признака balance\n",
    "# ваш код\n",
    "sns.histplot(df['balance'])\n"
   ]
  },
  {
   "cell_type": "code",
   "execution_count": 193,
   "id": "d41a52a1",
   "metadata": {},
   "outputs": [],
   "source": [
    "def outliers_iqr_mod(data, feature, left=1.5, right=1.5, log_scale=True):\n",
    "    if log_scale:\n",
    "        x = np.log(data[feature]+1)\n",
    "    else:\n",
    "        x = data[feature]\n",
    "    quartile_1, quartile_3 = x.quantile(0.25), x.quantile(0.75),\n",
    "    iqr = quartile_3 - quartile_1\n",
    "    lower_bound = quartile_1 - (iqr * left)\n",
    "    upper_bound = quartile_3 + (iqr * right)\n",
    "    outliers = data[(x < lower_bound) | (x > upper_bound)]\n",
    "    cleaned = data[(x >= lower_bound) & (x <= upper_bound)]\n",
    "    return outliers, cleaned"
   ]
  },
  {
   "cell_type": "code",
   "execution_count": 194,
   "id": "bdec10bd",
   "metadata": {},
   "outputs": [
    {
     "data": {
      "text/plain": [
       "age          1057\n",
       "job          1057\n",
       "marital      1057\n",
       "education    1057\n",
       "default      1057\n",
       "balance      1057\n",
       "housing      1057\n",
       "loan         1057\n",
       "contact      1057\n",
       "day          1057\n",
       "month        1057\n",
       "duration     1057\n",
       "campaign     1057\n",
       "pdays        1057\n",
       "previous     1057\n",
       "poutcome     1057\n",
       "deposit      1057\n",
       "dtype: int64"
      ]
     },
     "execution_count": 194,
     "metadata": {},
     "output_type": "execute_result"
    }
   ],
   "source": [
    "outliers, cleaned = outliers_iqr_mod(df, 'balance', log_scale=False)\n",
    "outliers.count()"
   ]
  },
  {
   "cell_type": "code",
   "execution_count": 195,
   "id": "6e1a995b",
   "metadata": {},
   "outputs": [
    {
     "name": "stdout",
     "output_type": "stream",
     "text": [
      "-2241.0 4063.0\n"
     ]
    }
   ],
   "source": [
    "quartile_1, quartile_3 = df.balance.quantile(0.25), df.balance.quantile(0.75)\n",
    "iqr = quartile_3 - quartile_1\n",
    "lower_bound = quartile_1 - (iqr * 1.5)\n",
    "upper_bound = quartile_3 + (iqr * 1.5)\n",
    "\n",
    "print(lower_bound, upper_bound)"
   ]
  },
  {
   "cell_type": "code",
   "execution_count": 196,
   "id": "bcf2ca9b",
   "metadata": {},
   "outputs": [
    {
     "data": {
      "text/plain": [
       "age          10105\n",
       "job          10105\n",
       "marital      10105\n",
       "education    10105\n",
       "default      10105\n",
       "balance      10105\n",
       "housing      10105\n",
       "loan         10105\n",
       "contact      10105\n",
       "day          10105\n",
       "month        10105\n",
       "duration     10105\n",
       "campaign     10105\n",
       "pdays        10105\n",
       "previous     10105\n",
       "poutcome     10105\n",
       "deposit      10105\n",
       "dtype: int64"
      ]
     },
     "execution_count": 196,
     "metadata": {},
     "output_type": "execute_result"
    }
   ],
   "source": [
    "cleaned.count()"
   ]
  },
  {
   "cell_type": "code",
   "execution_count": 197,
   "id": "f9b8d494",
   "metadata": {},
   "outputs": [],
   "source": [
    "df = cleaned"
   ]
  },
  {
   "cell_type": "markdown",
   "id": "5d22b8cd",
   "metadata": {},
   "source": [
    "## Часть 2:  Разведывательный анализ"
   ]
  },
  {
   "cell_type": "markdown",
   "id": "21e1f083",
   "metadata": {},
   "source": [
    "### Задание 1"
   ]
  },
  {
   "cell_type": "code",
   "execution_count": 198,
   "id": "6d0cd3a8",
   "metadata": {},
   "outputs": [
    {
     "data": {
      "text/plain": [
       "deposit\n",
       "no     5424\n",
       "yes    4681\n",
       "Name: count, dtype: int64"
      ]
     },
     "execution_count": 198,
     "metadata": {},
     "output_type": "execute_result"
    }
   ],
   "source": [
    "# изучите соотношение классов в ваших данных на предмет несбалансированности, проиллюстрируйте результат\n",
    "# ваш код\n",
    "df.deposit.value_counts()"
   ]
  },
  {
   "cell_type": "markdown",
   "id": "426b1d40",
   "metadata": {},
   "source": [
    "### Задания 2 и 3"
   ]
  },
  {
   "cell_type": "code",
   "execution_count": 199,
   "id": "603cdb3c",
   "metadata": {},
   "outputs": [
    {
     "data": {
      "text/html": [
       "<div>\n",
       "<style scoped>\n",
       "    .dataframe tbody tr th:only-of-type {\n",
       "        vertical-align: middle;\n",
       "    }\n",
       "\n",
       "    .dataframe tbody tr th {\n",
       "        vertical-align: top;\n",
       "    }\n",
       "\n",
       "    .dataframe thead th {\n",
       "        text-align: right;\n",
       "    }\n",
       "</style>\n",
       "<table border=\"1\" class=\"dataframe\">\n",
       "  <thead>\n",
       "    <tr style=\"text-align: right;\">\n",
       "      <th></th>\n",
       "      <th>age</th>\n",
       "      <th>balance</th>\n",
       "      <th>day</th>\n",
       "      <th>duration</th>\n",
       "      <th>campaign</th>\n",
       "      <th>pdays</th>\n",
       "      <th>previous</th>\n",
       "    </tr>\n",
       "  </thead>\n",
       "  <tbody>\n",
       "    <tr>\n",
       "      <th>count</th>\n",
       "      <td>10105.000000</td>\n",
       "      <td>10105.000000</td>\n",
       "      <td>10105.000000</td>\n",
       "      <td>10105.000000</td>\n",
       "      <td>10105.000000</td>\n",
       "      <td>10105.000000</td>\n",
       "      <td>10105.000000</td>\n",
       "    </tr>\n",
       "    <tr>\n",
       "      <th>mean</th>\n",
       "      <td>40.895497</td>\n",
       "      <td>807.653538</td>\n",
       "      <td>15.590302</td>\n",
       "      <td>368.742603</td>\n",
       "      <td>2.517170</td>\n",
       "      <td>51.319644</td>\n",
       "      <td>0.816230</td>\n",
       "    </tr>\n",
       "    <tr>\n",
       "      <th>std</th>\n",
       "      <td>11.734931</td>\n",
       "      <td>994.151966</td>\n",
       "      <td>8.441510</td>\n",
       "      <td>346.651524</td>\n",
       "      <td>2.707159</td>\n",
       "      <td>109.644179</td>\n",
       "      <td>2.243795</td>\n",
       "    </tr>\n",
       "    <tr>\n",
       "      <th>min</th>\n",
       "      <td>18.000000</td>\n",
       "      <td>-2049.000000</td>\n",
       "      <td>1.000000</td>\n",
       "      <td>2.000000</td>\n",
       "      <td>1.000000</td>\n",
       "      <td>-1.000000</td>\n",
       "      <td>0.000000</td>\n",
       "    </tr>\n",
       "    <tr>\n",
       "      <th>25%</th>\n",
       "      <td>32.000000</td>\n",
       "      <td>95.000000</td>\n",
       "      <td>8.000000</td>\n",
       "      <td>137.000000</td>\n",
       "      <td>1.000000</td>\n",
       "      <td>-1.000000</td>\n",
       "      <td>0.000000</td>\n",
       "    </tr>\n",
       "    <tr>\n",
       "      <th>50%</th>\n",
       "      <td>38.000000</td>\n",
       "      <td>445.000000</td>\n",
       "      <td>15.000000</td>\n",
       "      <td>252.000000</td>\n",
       "      <td>2.000000</td>\n",
       "      <td>-1.000000</td>\n",
       "      <td>0.000000</td>\n",
       "    </tr>\n",
       "    <tr>\n",
       "      <th>75%</th>\n",
       "      <td>48.000000</td>\n",
       "      <td>1227.000000</td>\n",
       "      <td>22.000000</td>\n",
       "      <td>490.000000</td>\n",
       "      <td>3.000000</td>\n",
       "      <td>2.000000</td>\n",
       "      <td>1.000000</td>\n",
       "    </tr>\n",
       "    <tr>\n",
       "      <th>max</th>\n",
       "      <td>95.000000</td>\n",
       "      <td>4063.000000</td>\n",
       "      <td>31.000000</td>\n",
       "      <td>3881.000000</td>\n",
       "      <td>43.000000</td>\n",
       "      <td>854.000000</td>\n",
       "      <td>58.000000</td>\n",
       "    </tr>\n",
       "  </tbody>\n",
       "</table>\n",
       "</div>"
      ],
      "text/plain": [
       "                age       balance           day      duration      campaign  \\\n",
       "count  10105.000000  10105.000000  10105.000000  10105.000000  10105.000000   \n",
       "mean      40.895497    807.653538     15.590302    368.742603      2.517170   \n",
       "std       11.734931    994.151966      8.441510    346.651524      2.707159   \n",
       "min       18.000000  -2049.000000      1.000000      2.000000      1.000000   \n",
       "25%       32.000000     95.000000      8.000000    137.000000      1.000000   \n",
       "50%       38.000000    445.000000     15.000000    252.000000      2.000000   \n",
       "75%       48.000000   1227.000000     22.000000    490.000000      3.000000   \n",
       "max       95.000000   4063.000000     31.000000   3881.000000     43.000000   \n",
       "\n",
       "              pdays      previous  \n",
       "count  10105.000000  10105.000000  \n",
       "mean      51.319644      0.816230  \n",
       "std      109.644179      2.243795  \n",
       "min       -1.000000      0.000000  \n",
       "25%       -1.000000      0.000000  \n",
       "50%       -1.000000      0.000000  \n",
       "75%        2.000000      1.000000  \n",
       "max      854.000000     58.000000  "
      ]
     },
     "execution_count": 199,
     "metadata": {},
     "output_type": "execute_result"
    }
   ],
   "source": [
    "#рассчитайте описательные статистики для количественных переменных, проинтерпретируйте результат\n",
    "#ваш код\n",
    "df.describe()"
   ]
  },
  {
   "cell_type": "markdown",
   "id": "d4ccecc8",
   "metadata": {},
   "source": [
    "Предварительно анализируя данные можно сказать следующее:\n",
    "age: В джанных скорее всего нет выбросов и распределены они нормально"
   ]
  },
  {
   "cell_type": "code",
   "execution_count": 200,
   "id": "6afa5033",
   "metadata": {},
   "outputs": [
    {
     "data": {
      "image/png": "[encoded data removed]",
      "text/plain": [
       "<Figure size 1500x1500 with 8 Axes>"
      ]
     },
     "metadata": {},
     "output_type": "display_data"
    }
   ],
   "source": [
    "fig, axes = plt.subplots(4, 2, figsize=(15, 15))\n",
    "\n",
    "histplot = sns.histplot(df['balance'], bins=30, ax=axes[0, 0])\n",
    "# histplot.set_title('balance');\n",
    "\n",
    "histplot = sns.histplot(df['age'], bins=30, ax=axes[0, 1])\n",
    "# histplot.set_title('age');\n",
    "\n",
    "histplot = sns.histplot(df['duration'], bins=30, ax=axes[1, 0])\n",
    "# histplot.set_title('duration')\n",
    "\n",
    "histplot = sns.histplot(df['campaign'], bins=30, ax=axes[1, 1])\n",
    "# histplot.set_title('campaign')\n",
    "\n",
    "histplot = sns.histplot(df['campaign'], bins=30, ax=axes[2, 0])\n",
    "# histplot.set_title('campaign')\n",
    "\n",
    "histplot = sns.histplot(df['pdays'], bins=30, ax=axes[2, 1])\n",
    "# histplot.set_title('pdays')\n",
    "\n",
    "histplot = sns.histplot(df['previous'], bins=30, ax=axes[3, 0])\n",
    "# histplot.set_title('previous')\n",
    "\n",
    "histplot = sns.histplot(df['day'], bins=30, ax=axes[3, 1])"
   ]
  },
  {
   "cell_type": "markdown",
   "id": "ec624d4c",
   "metadata": {},
   "source": [
    "*Предварительные выводы*\n",
    "\n",
    "Предварительно анализируя данные можно сказать следующее:\n",
    "age: В джанных скорее всего нет выбросов и данные распределены нормально\n",
    "balance: Выбросы были удалены данные распределены Логнормально\n",
    "duration и campaing скорее всего имеют выбросы. Данные распределены логнормально\n",
    "day выбросов не имеет имеет примерно равномерное распределение\n",
    "pdays и count скорее всего имеют выбросы арспределение логнормальное\n"
   ]
  },
  {
   "cell_type": "markdown",
   "id": "821dc39e",
   "metadata": {},
   "source": [
    "### Задания 4 и 5"
   ]
  },
  {
   "cell_type": "code",
   "execution_count": 201,
   "id": "bf45afc9",
   "metadata": {},
   "outputs": [
    {
     "data": {
      "text/html": [
       "<div>\n",
       "<style scoped>\n",
       "    .dataframe tbody tr th:only-of-type {\n",
       "        vertical-align: middle;\n",
       "    }\n",
       "\n",
       "    .dataframe tbody tr th {\n",
       "        vertical-align: top;\n",
       "    }\n",
       "\n",
       "    .dataframe thead th {\n",
       "        text-align: right;\n",
       "    }\n",
       "</style>\n",
       "<table border=\"1\" class=\"dataframe\">\n",
       "  <thead>\n",
       "    <tr style=\"text-align: right;\">\n",
       "      <th></th>\n",
       "      <th>job</th>\n",
       "      <th>marital</th>\n",
       "      <th>education</th>\n",
       "      <th>default</th>\n",
       "      <th>housing</th>\n",
       "      <th>loan</th>\n",
       "      <th>contact</th>\n",
       "      <th>month</th>\n",
       "      <th>poutcome</th>\n",
       "      <th>deposit</th>\n",
       "    </tr>\n",
       "  </thead>\n",
       "  <tbody>\n",
       "    <tr>\n",
       "      <th>count</th>\n",
       "      <td>10105</td>\n",
       "      <td>10105</td>\n",
       "      <td>10105</td>\n",
       "      <td>10105</td>\n",
       "      <td>10105</td>\n",
       "      <td>10105</td>\n",
       "      <td>10105</td>\n",
       "      <td>10105</td>\n",
       "      <td>10105</td>\n",
       "      <td>10105</td>\n",
       "    </tr>\n",
       "    <tr>\n",
       "      <th>unique</th>\n",
       "      <td>11</td>\n",
       "      <td>3</td>\n",
       "      <td>3</td>\n",
       "      <td>2</td>\n",
       "      <td>2</td>\n",
       "      <td>2</td>\n",
       "      <td>3</td>\n",
       "      <td>12</td>\n",
       "      <td>4</td>\n",
       "      <td>2</td>\n",
       "    </tr>\n",
       "    <tr>\n",
       "      <th>top</th>\n",
       "      <td>management</td>\n",
       "      <td>married</td>\n",
       "      <td>secondary</td>\n",
       "      <td>no</td>\n",
       "      <td>no</td>\n",
       "      <td>no</td>\n",
       "      <td>cellular</td>\n",
       "      <td>may</td>\n",
       "      <td>unknown</td>\n",
       "      <td>no</td>\n",
       "    </tr>\n",
       "    <tr>\n",
       "      <th>freq</th>\n",
       "      <td>2315</td>\n",
       "      <td>5715</td>\n",
       "      <td>5517</td>\n",
       "      <td>9939</td>\n",
       "      <td>5243</td>\n",
       "      <td>8712</td>\n",
       "      <td>7283</td>\n",
       "      <td>2617</td>\n",
       "      <td>7570</td>\n",
       "      <td>5424</td>\n",
       "    </tr>\n",
       "  </tbody>\n",
       "</table>\n",
       "</div>"
      ],
      "text/plain": [
       "               job  marital  education default housing   loan   contact  \\\n",
       "count        10105    10105      10105   10105   10105  10105     10105   \n",
       "unique          11        3          3       2       2      2         3   \n",
       "top     management  married  secondary      no      no     no  cellular   \n",
       "freq          2315     5715       5517    9939    5243   8712      7283   \n",
       "\n",
       "        month poutcome deposit  \n",
       "count   10105    10105   10105  \n",
       "unique     12        4       2  \n",
       "top       may  unknown      no  \n",
       "freq     2617     7570    5424  "
      ]
     },
     "execution_count": 201,
     "metadata": {},
     "output_type": "execute_result"
    }
   ],
   "source": [
    "#рассчитайте описательные статистики для категориальных переменных, проинтерпретируйте результат\n",
    "#ваш код\n",
    "#постройте визуализации, иллюстрирующие результаты\n",
    "df.describe(exclude=np.number)"
   ]
  },
  {
   "cell_type": "markdown",
   "id": "a26bab26",
   "metadata": {},
   "source": [
    "*Предварительные выводы*\n",
    "\n",
    "Клиенты работающие менеджарами составляют наибольшую часть клиентов сопоставляя по профессиям.\n",
    "Больше половины клиентов состоят в браке.\n",
    "Больше половины клиентов имеют среднее образование.\n",
    "У клиентов почти нет просроченных кредитова.\n",
    "Половина клиентов имеет ипотеку.\n",
    "Подавляющее большинство клиентов имеют кредиты на личныек нужны.\n",
    "С подавляющим большинством клиентов контакт осуществляется по мобильной связи.\n",
    "Компания скорее всего закончилась в мае\n",
    "Для большей части клиентов результат прошлой компании неизвестен.\n",
    "Только половина клиентов имеет депозит в банке.\n"
   ]
  },
  {
   "cell_type": "markdown",
   "id": "472cff5b",
   "metadata": {},
   "source": [
    "### Задание 6"
   ]
  },
  {
   "cell_type": "code",
   "execution_count": 202,
   "id": "2d640ce1",
   "metadata": {},
   "outputs": [
    {
     "data": {
      "text/html": [
       "<div>\n",
       "<style scoped>\n",
       "    .dataframe tbody tr th:only-of-type {\n",
       "        vertical-align: middle;\n",
       "    }\n",
       "\n",
       "    .dataframe tbody tr th {\n",
       "        vertical-align: top;\n",
       "    }\n",
       "\n",
       "    .dataframe thead th {\n",
       "        text-align: right;\n",
       "    }\n",
       "</style>\n",
       "<table border=\"1\" class=\"dataframe\">\n",
       "  <thead>\n",
       "    <tr style=\"text-align: right;\">\n",
       "      <th></th>\n",
       "      <th></th>\n",
       "      <th>age</th>\n",
       "    </tr>\n",
       "    <tr>\n",
       "      <th>poutcome</th>\n",
       "      <th>deposit</th>\n",
       "      <th></th>\n",
       "    </tr>\n",
       "  </thead>\n",
       "  <tbody>\n",
       "    <tr>\n",
       "      <th rowspan=\"2\" valign=\"top\">failure</th>\n",
       "      <th>no</th>\n",
       "      <td>562</td>\n",
       "    </tr>\n",
       "    <tr>\n",
       "      <th>yes</th>\n",
       "      <td>547</td>\n",
       "    </tr>\n",
       "    <tr>\n",
       "      <th rowspan=\"2\" valign=\"top\">other</th>\n",
       "      <th>no</th>\n",
       "      <td>216</td>\n",
       "    </tr>\n",
       "    <tr>\n",
       "      <th>yes</th>\n",
       "      <td>265</td>\n",
       "    </tr>\n",
       "    <tr>\n",
       "      <th rowspan=\"2\" valign=\"top\">success</th>\n",
       "      <th>no</th>\n",
       "      <td>84</td>\n",
       "    </tr>\n",
       "    <tr>\n",
       "      <th>yes</th>\n",
       "      <td>861</td>\n",
       "    </tr>\n",
       "    <tr>\n",
       "      <th rowspan=\"2\" valign=\"top\">unknown</th>\n",
       "      <th>no</th>\n",
       "      <td>4562</td>\n",
       "    </tr>\n",
       "    <tr>\n",
       "      <th>yes</th>\n",
       "      <td>3008</td>\n",
       "    </tr>\n",
       "  </tbody>\n",
       "</table>\n",
       "</div>"
      ],
      "text/plain": [
       "                   age\n",
       "poutcome deposit      \n",
       "failure  no        562\n",
       "         yes       547\n",
       "other    no        216\n",
       "         yes       265\n",
       "success  no         84\n",
       "         yes       861\n",
       "unknown  no       4562\n",
       "         yes      3008"
      ]
     },
     "execution_count": 202,
     "metadata": {},
     "output_type": "execute_result"
    }
   ],
   "source": [
    "# Узнайте, для какого статуса предыдущей маркетинговой кампании успех в текущей превалирует над количеством неудач.\n",
    "# ваш код\n",
    "# pd.pivot_table(df, index=['poutcome', 'deposit'], values='deposit', aggfunc='count')\n",
    "df[['poutcome', 'deposit', 'age']].groupby(by = ['poutcome', 'deposit']).count()"
   ]
  },
  {
   "cell_type": "markdown",
   "id": "9c32e3aa",
   "metadata": {},
   "source": [
    "### Задание 7"
   ]
  },
  {
   "cell_type": "code",
   "execution_count": 203,
   "id": "df437ec3",
   "metadata": {},
   "outputs": [
    {
     "name": "stdout",
     "output_type": "stream",
     "text": [
      "apr    0.3819277108433735\n",
      "aug    0.5595667870036101\n",
      "dec    0.0967741935483871\n",
      "feb    0.45557122708039494\n",
      "jan    0.6081504702194357\n",
      "jul    0.5895627644569816\n",
      "jun    0.5489130434782609\n",
      "mar    0.10126582278481013\n",
      "may    0.6786396637371036\n",
      "nov    0.5846153846153846\n",
      "oct    0.18507462686567164\n",
      "sep    0.16546762589928057\n"
     ]
    }
   ],
   "source": [
    "# узнайте, в каком месяце чаще всего отказывались от предложения открыть депозит\n",
    "# ваш код\n",
    "# month = df[['month', 'deposit', 'age']].groupby(by = ['deposit']).count()\n",
    "\n",
    "month = pd.pivot_table(df[['month', 'deposit', 'age']], index=['deposit'], columns='month', aggfunc='count')\n",
    "\n",
    "for i in month.columns:\n",
    "    print(i[1], '  ', month[i].loc['no']/month[i].sum())\n"
   ]
  },
  {
   "cell_type": "markdown",
   "id": "5f20762f",
   "metadata": {},
   "source": [
    "### Задание 8"
   ]
  },
  {
   "cell_type": "code",
   "execution_count": 204,
   "id": "95d56f1b",
   "metadata": {},
   "outputs": [],
   "source": [
    "# создайте возрастные группы и определите, в каких группах более склонны открывать депозит, чем отказываться от предложения\n",
    "def age(x):\n",
    "    if x < 30:\n",
    "        return '<30'\n",
    "    elif 30 <= x < 40:\n",
    "        return '30-40'\n",
    "    elif 40 <= x < 50:\n",
    "        return '40-50'\n",
    "    elif 50 <= x < 60:\n",
    "        return '50-60'\n",
    "    else:\n",
    "        return '60+'\n",
    "\n",
    "\n",
    "\n",
    "df['age_text'] = df.age.apply(age)"
   ]
  },
  {
   "cell_type": "code",
   "execution_count": 205,
   "id": "8ab5b974",
   "metadata": {},
   "outputs": [
    {
     "data": {
      "text/plain": [
       "{'50-60': campaign    0.405079\n",
       " dtype: float64,\n",
       " '40-50': campaign    0.393787\n",
       " dtype: float64,\n",
       " '60+': campaign    0.759571\n",
       " dtype: float64,\n",
       " '30-40': campaign    0.433224\n",
       " dtype: float64,\n",
       " '<30': campaign    0.591753\n",
       " dtype: float64}"
      ]
     },
     "execution_count": 205,
     "metadata": {},
     "output_type": "execute_result"
    }
   ],
   "source": [
    "age_df = pd.pivot_table(data=df[['campaign', 'age_text', 'deposit']], columns=['age_text', 'deposit'], aggfunc='count')\n",
    "\n",
    "deposit = {}\n",
    "for i in df['age_text'].unique():\n",
    "    deposit[i] =  age_df[i, 'yes']/(age_df[i, 'yes'] + age_df[i, 'no'])\n",
    "    \n",
    "deposit"
   ]
  },
  {
   "cell_type": "code",
   "execution_count": 206,
   "id": "c17e31b2",
   "metadata": {},
   "outputs": [
    {
     "data": {
      "text/plain": [
       "[Text(0.5, 0, 'age_rate'), Text(0, 0.5, 'deposit_percent')]"
      ]
     },
     "execution_count": 206,
     "metadata": {},
     "output_type": "execute_result"
    },
    {
     "data": {
      "image/png": "[encoded data removed]",
      "text/plain": [
       "<Figure size 640x480 with 1 Axes>"
      ]
     },
     "metadata": {},
     "output_type": "display_data"
    }
   ],
   "source": [
    "ax = sns.barplot(deposit)\n",
    "ax.set(xlabel='age_rate', ylabel='deposit_percent')"
   ]
  },
  {
   "cell_type": "markdown",
   "id": "0841c685",
   "metadata": {},
   "source": [
    "### Задания 9 и 10"
   ]
  },
  {
   "cell_type": "code",
   "execution_count": 207,
   "id": "0d84a9e1",
   "metadata": {},
   "outputs": [
    {
     "data": {
      "text/plain": [
       "{'married': campaign    0.422047\n",
       " dtype: float64,\n",
       " 'single': campaign    0.53408\n",
       " dtype: float64,\n",
       " 'divorced': campaign    0.469839\n",
       " dtype: float64}"
      ]
     },
     "execution_count": 207,
     "metadata": {},
     "output_type": "execute_result"
    }
   ],
   "source": [
    "# постройте визуализации для открывших и неоткрывших депозит в зависимости от семейного статуса\n",
    "marital_df = pd.pivot_table(data=df[['campaign', 'marital', 'deposit']], columns=['marital', 'deposit'], aggfunc='count')\n",
    "\n",
    "deposit = {}\n",
    "for i in df['marital'].unique():\n",
    "    deposit[i] =  marital_df[i, 'yes']/(marital_df[i, 'yes'] + marital_df[i, 'no'])\n",
    "\n",
    "deposit"
   ]
  },
  {
   "cell_type": "code",
   "execution_count": 208,
   "id": "528f6745",
   "metadata": {},
   "outputs": [
    {
     "data": {
      "text/plain": [
       "[Text(0.5, 0, 'marital'), Text(0, 0.5, 'deposit_percent')]"
      ]
     },
     "execution_count": 208,
     "metadata": {},
     "output_type": "execute_result"
    },
    {
     "data": {
      "image/png": "[encoded data removed]",
      "text/plain": [
       "<Figure size 640x480 with 1 Axes>"
      ]
     },
     "metadata": {},
     "output_type": "display_data"
    }
   ],
   "source": [
    "ax = sns.barplot(deposit)\n",
    "ax.set(xlabel='marital', ylabel='deposit_percent')"
   ]
  },
  {
   "cell_type": "code",
   "execution_count": 209,
   "id": "16333967",
   "metadata": {},
   "outputs": [],
   "source": [
    "# постройте визуализации для открывших и неоткрывших депозит в зависимости от образования\n",
    "education_df = pd.pivot_table(data=df[['campaign', 'education', 'deposit']], columns=['education', 'deposit'], aggfunc='count')\n",
    "\n",
    "deposit = {}\n",
    "for i in df['education'].unique():\n",
    "    deposit[i] =  education_df[i, 'yes']/(education_df[i, 'yes'] + education_df[i, 'no'])"
   ]
  },
  {
   "cell_type": "code",
   "execution_count": 210,
   "id": "76d800eb",
   "metadata": {},
   "outputs": [
    {
     "data": {
      "text/plain": [
       "[Text(0.5, 0, 'education'), Text(0, 0.5, 'deposit_percent')]"
      ]
     },
     "execution_count": 210,
     "metadata": {},
     "output_type": "execute_result"
    },
    {
     "data": {
      "image/png": "[encoded data removed]",
      "text/plain": [
       "<Figure size 640x480 with 1 Axes>"
      ]
     },
     "metadata": {},
     "output_type": "display_data"
    }
   ],
   "source": [
    "ax = sns.barplot(deposit)\n",
    "ax.set(xlabel='education', ylabel='deposit_percent')"
   ]
  },
  {
   "cell_type": "code",
   "execution_count": 211,
   "id": "738224f8",
   "metadata": {},
   "outputs": [],
   "source": [
    "# постройте визуализации для открывших и неоткрывших депозит в зависимости от вида профессиональной занятости\n",
    "\n",
    "job_df = pd.pivot_table(data=df[['campaign', 'job', 'deposit']], columns=['job', 'deposit'], aggfunc='count')\n",
    "\n",
    "deposit = {}\n",
    "for i in df['job'].unique():\n",
    "    deposit[i] =  job_df[i, 'yes']/(job_df[i, 'yes'] + job_df[i, 'no'])"
   ]
  },
  {
   "cell_type": "code",
   "execution_count": 212,
   "id": "4b88e435",
   "metadata": {},
   "outputs": [
    {
     "data": {
      "image/png": "[encoded data removed]",
      "text/plain": [
       "<Figure size 640x480 with 1 Axes>"
      ]
     },
     "metadata": {},
     "output_type": "display_data"
    }
   ],
   "source": [
    "ax = sns.barplot(deposit, )\n",
    "ax.set(xlabel='job', ylabel='deposit_percent')\n",
    "ax.tick_params(axis='x', rotation=90)"
   ]
  },
  {
   "cell_type": "code",
   "execution_count": 213,
   "id": "d31ad5da",
   "metadata": {},
   "outputs": [
    {
     "data": {
      "image/png": "[encoded data removed]",
      "text/plain": [
       "<Figure size 640x480 with 1 Axes>"
      ]
     },
     "metadata": {},
     "output_type": "display_data"
    }
   ],
   "source": [
    "job_df = pd.pivot_table(data=df[['campaign', 'job']], columns=['job'], aggfunc='count')\n",
    "\n",
    "ax = sns.barplot(job_df, )\n",
    "ax.set(xlabel='job', ylabel='deposit_percent')\n",
    "ax.tick_params(axis='x', rotation=90)"
   ]
  },
  {
   "cell_type": "markdown",
   "id": "a521e204",
   "metadata": {},
   "source": [
    "### Задание 11"
   ]
  },
  {
   "cell_type": "code",
   "execution_count": 214,
   "id": "35ab0413",
   "metadata": {},
   "outputs": [],
   "source": [
    "# постройте сводную таблицу, чтобы определить люди с каким образованием и семейным статусом наиболее многочисленны\n",
    "#(если рассматривать тех, кто открыл депозит)\n",
    "deposit_approved =  df[df['deposit'] == 'yes']\n",
    "deposit_approved = pd.pivot_table(data=deposit_approved[['campaign', 'marital', 'education']], columns='marital', index='education', aggfunc='count')\n",
    "\n",
    "deposit_not_approved  =  df[df['deposit'] == 'no']\n",
    "deposit_not_approved = pd.pivot_table(data=deposit_not_approved[['campaign', 'marital', 'education']], columns='marital', index='education', aggfunc='count')"
   ]
  },
  {
   "cell_type": "code",
   "execution_count": 215,
   "id": "5cd2ff73",
   "metadata": {},
   "outputs": [
    {
     "data": {
      "text/plain": [
       "[Text(0.5, 1.0, 'deposit not approved')]"
      ]
     },
     "execution_count": 215,
     "metadata": {},
     "output_type": "execute_result"
    },
    {
     "data": {
      "image/png": "[encoded data removed]",
      "text/plain": [
       "<Figure size 1500x600 with 4 Axes>"
      ]
     },
     "metadata": {},
     "output_type": "display_data"
    }
   ],
   "source": [
    "fig, axes = plt.subplots(nrows=1, ncols=2, figsize=(15, 6))\n",
    "\n",
    "ax1 = sns.heatmap(deposit_approved['campaign'], annot=True,  ax=axes[0])\n",
    "ax1.set(title='deposit approved')\n",
    "ax2 = sns.heatmap(deposit_not_approved['campaign'], annot=True,  ax=axes[1])\n",
    "ax2.set(title='deposit not approved')"
   ]
  },
  {
   "cell_type": "markdown",
   "id": "dfd805c0",
   "metadata": {},
   "source": [
    "## Часть 3: преобразование данных"
   ]
  },
  {
   "cell_type": "markdown",
   "id": "e44e715b",
   "metadata": {},
   "source": [
    "### Задание 1"
   ]
  },
  {
   "cell_type": "code",
   "execution_count": 216,
   "id": "1e815773",
   "metadata": {},
   "outputs": [],
   "source": [
    "# преобразуйте уровни образования\n",
    "le = LabelEncoder()\n",
    "df['education'] = le.fit_transform(df['education'])"
   ]
  },
  {
   "cell_type": "code",
   "execution_count": 217,
   "id": "b78021e6",
   "metadata": {},
   "outputs": [
    {
     "data": {
      "text/plain": [
       "11995"
      ]
     },
     "execution_count": 217,
     "metadata": {},
     "output_type": "execute_result"
    }
   ],
   "source": [
    "df['education'].sum()"
   ]
  },
  {
   "cell_type": "markdown",
   "id": "8c93e73d",
   "metadata": {},
   "source": [
    "### Задания 2 и 3"
   ]
  },
  {
   "cell_type": "code",
   "execution_count": 218,
   "id": "626a5762",
   "metadata": {},
   "outputs": [],
   "source": [
    "# преобразуйте бинарные переменные в представление из нулей и единиц\n",
    "def binary(x):\n",
    "    return 1 if x == 'yes' else 0"
   ]
  },
  {
   "cell_type": "code",
   "execution_count": 219,
   "id": "4378a662",
   "metadata": {},
   "outputs": [],
   "source": [
    "df['deposit'] = df['deposit'].apply(binary)\n",
    "df['default'] = df['default'].apply(binary)\n",
    "df['housing'] = df['housing'].apply(binary)\n",
    "df['loan'] = df['loan'].apply(binary)"
   ]
  },
  {
   "cell_type": "code",
   "execution_count": 220,
   "id": "3bfab0c9",
   "metadata": {},
   "outputs": [
    {
     "name": "stdout",
     "output_type": "stream",
     "text": [
      "0.6354280059376547\n"
     ]
    }
   ],
   "source": [
    "print(df['default'].mean() + df['housing'].mean() + df['loan'].mean())"
   ]
  },
  {
   "cell_type": "markdown",
   "id": "c40dc02a",
   "metadata": {},
   "source": [
    "### Задание 4"
   ]
  },
  {
   "cell_type": "code",
   "execution_count": 221,
   "id": "b996883f",
   "metadata": {},
   "outputs": [],
   "source": [
    "# создайте дамми-переменные\n",
    "# df['age'] = df['age_text']\n",
    "df = df.drop('age_text', axis=1)"
   ]
  },
  {
   "cell_type": "code",
   "execution_count": 222,
   "id": "8780dfb6",
   "metadata": {},
   "outputs": [],
   "source": [
    "df_dummy = pd.get_dummies(df[['job', 'marital', 'contact', 'month', 'poutcome']])"
   ]
  },
  {
   "cell_type": "code",
   "execution_count": 224,
   "id": "97bb8001",
   "metadata": {},
   "outputs": [
    {
     "data": {
      "text/plain": [
       "50"
      ]
     },
     "execution_count": 224,
     "metadata": {},
     "output_type": "execute_result"
    }
   ],
   "source": [
    "df = pd.concat([df_dummy, df], axis=1)\n",
    "len(df.columns)"
   ]
  },
  {
   "cell_type": "code",
   "execution_count": 225,
   "id": "8c54e10f",
   "metadata": {},
   "outputs": [],
   "source": [
    "df = df.drop(['job', 'marital', 'contact', 'month', 'poutcome'], axis=1)"
   ]
  },
  {
   "cell_type": "markdown",
   "id": "9a23e318",
   "metadata": {},
   "source": [
    "### Задания 5 и 6"
   ]
  },
  {
   "cell_type": "code",
   "execution_count": 230,
   "id": "1c884c1a",
   "metadata": {},
   "outputs": [],
   "source": [
    "# постройте корреляционную матрицу и оцените данные на предмет наличия мультиколлинеарности\n",
    "correlation_matrix = df.corr()"
   ]
  },
  {
   "cell_type": "code",
   "execution_count": 238,
   "id": "224905a8",
   "metadata": {},
   "outputs": [
    {
     "data": {
      "text/plain": [
       "<Axes: >"
      ]
     },
     "execution_count": 238,
     "metadata": {},
     "output_type": "execute_result"
    },
    {
     "data": {
      "image/png": "[encoded data removed]",
      "text/plain": [
       "<Figure size 640x480 with 2 Axes>"
      ]
     },
     "metadata": {},
     "output_type": "display_data"
    }
   ],
   "source": [
    "sns.heatmap(correlation_matrix, )"
   ]
  },
  {
   "cell_type": "code",
   "execution_count": 239,
   "id": "84b9bd0c",
   "metadata": {},
   "outputs": [
    {
     "data": {
      "image/png": "[encoded data removed]",
      "text/plain": [
       "<Figure size 640x480 with 1 Axes>"
      ]
     },
     "metadata": {},
     "output_type": "display_data"
    }
   ],
   "source": [
    "ax = sns.barplot(correlation_matrix['deposit'], )\n",
    "ax.set(xlabel='parameters', ylabel='correlation')\n",
    "ax.tick_params(axis='x', rotation=90)"
   ]
  },
  {
   "cell_type": "code",
   "execution_count": 240,
   "id": "685e6e41",
   "metadata": {},
   "outputs": [
    {
     "data": {
      "text/html": [
       "<div>\n",
       "<style scoped>\n",
       "    .dataframe tbody tr th:only-of-type {\n",
       "        vertical-align: middle;\n",
       "    }\n",
       "\n",
       "    .dataframe tbody tr th {\n",
       "        vertical-align: top;\n",
       "    }\n",
       "\n",
       "    .dataframe thead th {\n",
       "        text-align: right;\n",
       "    }\n",
       "</style>\n",
       "<table border=\"1\" class=\"dataframe\">\n",
       "  <thead>\n",
       "    <tr style=\"text-align: right;\">\n",
       "      <th></th>\n",
       "      <th>job_admin.</th>\n",
       "      <th>job_blue-collar</th>\n",
       "      <th>job_entrepreneur</th>\n",
       "      <th>job_housemaid</th>\n",
       "      <th>job_management</th>\n",
       "      <th>job_retired</th>\n",
       "      <th>job_self-employed</th>\n",
       "      <th>job_services</th>\n",
       "      <th>job_student</th>\n",
       "      <th>job_technician</th>\n",
       "      <th>...</th>\n",
       "      <th>default</th>\n",
       "      <th>balance</th>\n",
       "      <th>housing</th>\n",
       "      <th>loan</th>\n",
       "      <th>day</th>\n",
       "      <th>duration</th>\n",
       "      <th>campaign</th>\n",
       "      <th>pdays</th>\n",
       "      <th>previous</th>\n",
       "      <th>deposit</th>\n",
       "    </tr>\n",
       "  </thead>\n",
       "  <tbody>\n",
       "    <tr>\n",
       "      <th>job_admin.</th>\n",
       "      <td>1.000000</td>\n",
       "      <td>-0.175008</td>\n",
       "      <td>-0.065600</td>\n",
       "      <td>-0.059977</td>\n",
       "      <td>-0.204444</td>\n",
       "      <td>-0.099378</td>\n",
       "      <td>-0.071874</td>\n",
       "      <td>-0.114964</td>\n",
       "      <td>-0.068474</td>\n",
       "      <td>-0.164952</td>\n",
       "      <td>...</td>\n",
       "      <td>-0.022421</td>\n",
       "      <td>-0.028057</td>\n",
       "      <td>0.063547</td>\n",
       "      <td>0.049098</td>\n",
       "      <td>-0.010680</td>\n",
       "      <td>-0.023585</td>\n",
       "      <td>-0.018834</td>\n",
       "      <td>0.046293</td>\n",
       "      <td>0.030985</td>\n",
       "      <td>-0.001927</td>\n",
       "    </tr>\n",
       "    <tr>\n",
       "      <th>job_blue-collar</th>\n",
       "      <td>-0.175008</td>\n",
       "      <td>1.000000</td>\n",
       "      <td>-0.081626</td>\n",
       "      <td>-0.074629</td>\n",
       "      <td>-0.254389</td>\n",
       "      <td>-0.123657</td>\n",
       "      <td>-0.089433</td>\n",
       "      <td>-0.143050</td>\n",
       "      <td>-0.085203</td>\n",
       "      <td>-0.205251</td>\n",
       "      <td>...</td>\n",
       "      <td>0.022989</td>\n",
       "      <td>-0.049484</td>\n",
       "      <td>0.194115</td>\n",
       "      <td>0.056857</td>\n",
       "      <td>-0.019876</td>\n",
       "      <td>0.032253</td>\n",
       "      <td>0.002430</td>\n",
       "      <td>-0.024269</td>\n",
       "      <td>-0.031299</td>\n",
       "      <td>-0.095845</td>\n",
       "    </tr>\n",
       "    <tr>\n",
       "      <th>job_entrepreneur</th>\n",
       "      <td>-0.065600</td>\n",
       "      <td>-0.081626</td>\n",
       "      <td>1.000000</td>\n",
       "      <td>-0.027974</td>\n",
       "      <td>-0.095355</td>\n",
       "      <td>-0.046351</td>\n",
       "      <td>-0.033523</td>\n",
       "      <td>-0.053621</td>\n",
       "      <td>-0.031937</td>\n",
       "      <td>-0.076936</td>\n",
       "      <td>...</td>\n",
       "      <td>0.023264</td>\n",
       "      <td>-0.008727</td>\n",
       "      <td>0.006600</td>\n",
       "      <td>0.038298</td>\n",
       "      <td>-0.005463</td>\n",
       "      <td>0.000594</td>\n",
       "      <td>0.011168</td>\n",
       "      <td>-0.026802</td>\n",
       "      <td>-0.019716</td>\n",
       "      <td>-0.032706</td>\n",
       "    </tr>\n",
       "    <tr>\n",
       "      <th>job_housemaid</th>\n",
       "      <td>-0.059977</td>\n",
       "      <td>-0.074629</td>\n",
       "      <td>-0.027974</td>\n",
       "      <td>1.000000</td>\n",
       "      <td>-0.087181</td>\n",
       "      <td>-0.042378</td>\n",
       "      <td>-0.030649</td>\n",
       "      <td>-0.049024</td>\n",
       "      <td>-0.029200</td>\n",
       "      <td>-0.070341</td>\n",
       "      <td>...</td>\n",
       "      <td>0.019273</td>\n",
       "      <td>0.000907</td>\n",
       "      <td>-0.063824</td>\n",
       "      <td>-0.028973</td>\n",
       "      <td>0.010920</td>\n",
       "      <td>-0.010009</td>\n",
       "      <td>0.008832</td>\n",
       "      <td>-0.023625</td>\n",
       "      <td>-0.021409</td>\n",
       "      <td>-0.022572</td>\n",
       "    </tr>\n",
       "    <tr>\n",
       "      <th>job_management</th>\n",
       "      <td>-0.204444</td>\n",
       "      <td>-0.254389</td>\n",
       "      <td>-0.095355</td>\n",
       "      <td>-0.087181</td>\n",
       "      <td>1.000000</td>\n",
       "      <td>-0.144455</td>\n",
       "      <td>-0.104475</td>\n",
       "      <td>-0.167110</td>\n",
       "      <td>-0.099533</td>\n",
       "      <td>-0.239772</td>\n",
       "      <td>...</td>\n",
       "      <td>-0.000055</td>\n",
       "      <td>0.039205</td>\n",
       "      <td>-0.077697</td>\n",
       "      <td>-0.052683</td>\n",
       "      <td>0.003025</td>\n",
       "      <td>-0.024309</td>\n",
       "      <td>0.018159</td>\n",
       "      <td>0.010868</td>\n",
       "      <td>0.013374</td>\n",
       "      <td>0.029566</td>\n",
       "    </tr>\n",
       "    <tr>\n",
       "      <th>job_retired</th>\n",
       "      <td>-0.099378</td>\n",
       "      <td>-0.123657</td>\n",
       "      <td>-0.046351</td>\n",
       "      <td>-0.042378</td>\n",
       "      <td>-0.144455</td>\n",
       "      <td>1.000000</td>\n",
       "      <td>-0.050784</td>\n",
       "      <td>-0.081231</td>\n",
       "      <td>-0.048382</td>\n",
       "      <td>-0.116551</td>\n",
       "      <td>...</td>\n",
       "      <td>-0.018524</td>\n",
       "      <td>0.091421</td>\n",
       "      <td>-0.168785</td>\n",
       "      <td>-0.045674</td>\n",
       "      <td>-0.005226</td>\n",
       "      <td>0.006052</td>\n",
       "      <td>-0.037189</td>\n",
       "      <td>0.007287</td>\n",
       "      <td>0.017963</td>\n",
       "      <td>0.100090</td>\n",
       "    </tr>\n",
       "    <tr>\n",
       "      <th>job_self-employed</th>\n",
       "      <td>-0.071874</td>\n",
       "      <td>-0.089433</td>\n",
       "      <td>-0.033523</td>\n",
       "      <td>-0.030649</td>\n",
       "      <td>-0.104475</td>\n",
       "      <td>-0.050784</td>\n",
       "      <td>1.000000</td>\n",
       "      <td>-0.058749</td>\n",
       "      <td>-0.034992</td>\n",
       "      <td>-0.084294</td>\n",
       "      <td>...</td>\n",
       "      <td>0.008924</td>\n",
       "      <td>0.009889</td>\n",
       "      <td>-0.019555</td>\n",
       "      <td>0.004113</td>\n",
       "      <td>0.001565</td>\n",
       "      <td>0.014513</td>\n",
       "      <td>0.006299</td>\n",
       "      <td>-0.012057</td>\n",
       "      <td>0.000904</td>\n",
       "      <td>-0.005194</td>\n",
       "    </tr>\n",
       "    <tr>\n",
       "      <th>job_services</th>\n",
       "      <td>-0.114964</td>\n",
       "      <td>-0.143050</td>\n",
       "      <td>-0.053621</td>\n",
       "      <td>-0.049024</td>\n",
       "      <td>-0.167110</td>\n",
       "      <td>-0.081231</td>\n",
       "      <td>-0.058749</td>\n",
       "      <td>1.000000</td>\n",
       "      <td>-0.055970</td>\n",
       "      <td>-0.134830</td>\n",
       "      <td>...</td>\n",
       "      <td>-0.020168</td>\n",
       "      <td>-0.037633</td>\n",
       "      <td>0.080129</td>\n",
       "      <td>0.032109</td>\n",
       "      <td>0.002787</td>\n",
       "      <td>0.013911</td>\n",
       "      <td>0.009145</td>\n",
       "      <td>-0.002427</td>\n",
       "      <td>-0.019909</td>\n",
       "      <td>-0.040433</td>\n",
       "    </tr>\n",
       "    <tr>\n",
       "      <th>job_student</th>\n",
       "      <td>-0.068474</td>\n",
       "      <td>-0.085203</td>\n",
       "      <td>-0.031937</td>\n",
       "      <td>-0.029200</td>\n",
       "      <td>-0.099533</td>\n",
       "      <td>-0.048382</td>\n",
       "      <td>-0.034992</td>\n",
       "      <td>-0.055970</td>\n",
       "      <td>1.000000</td>\n",
       "      <td>-0.080307</td>\n",
       "      <td>...</td>\n",
       "      <td>-0.019190</td>\n",
       "      <td>0.007133</td>\n",
       "      <td>-0.124261</td>\n",
       "      <td>-0.071385</td>\n",
       "      <td>-0.010712</td>\n",
       "      <td>-0.017974</td>\n",
       "      <td>-0.023710</td>\n",
       "      <td>0.025137</td>\n",
       "      <td>0.037421</td>\n",
       "      <td>0.105563</td>\n",
       "    </tr>\n",
       "    <tr>\n",
       "      <th>job_technician</th>\n",
       "      <td>-0.164952</td>\n",
       "      <td>-0.205251</td>\n",
       "      <td>-0.076936</td>\n",
       "      <td>-0.070341</td>\n",
       "      <td>-0.239772</td>\n",
       "      <td>-0.116551</td>\n",
       "      <td>-0.084294</td>\n",
       "      <td>-0.134830</td>\n",
       "      <td>-0.080307</td>\n",
       "      <td>1.000000</td>\n",
       "      <td>...</td>\n",
       "      <td>0.004419</td>\n",
       "      <td>-0.010460</td>\n",
       "      <td>0.004772</td>\n",
       "      <td>0.009501</td>\n",
       "      <td>0.031050</td>\n",
       "      <td>-0.007488</td>\n",
       "      <td>0.022406</td>\n",
       "      <td>-0.017993</td>\n",
       "      <td>-0.007059</td>\n",
       "      <td>-0.011190</td>\n",
       "    </tr>\n",
       "    <tr>\n",
       "      <th>job_unemployed</th>\n",
       "      <td>-0.069123</td>\n",
       "      <td>-0.086010</td>\n",
       "      <td>-0.032240</td>\n",
       "      <td>-0.029476</td>\n",
       "      <td>-0.100476</td>\n",
       "      <td>-0.048840</td>\n",
       "      <td>-0.035323</td>\n",
       "      <td>-0.056500</td>\n",
       "      <td>-0.033652</td>\n",
       "      <td>-0.081068</td>\n",
       "      <td>...</td>\n",
       "      <td>0.011120</td>\n",
       "      <td>0.009689</td>\n",
       "      <td>-0.059712</td>\n",
       "      <td>-0.039883</td>\n",
       "      <td>-0.001380</td>\n",
       "      <td>0.027641</td>\n",
       "      <td>-0.023728</td>\n",
       "      <td>0.005833</td>\n",
       "      <td>-0.000987</td>\n",
       "      <td>0.039196</td>\n",
       "    </tr>\n",
       "    <tr>\n",
       "      <th>marital_divorced</th>\n",
       "      <td>0.024272</td>\n",
       "      <td>-0.057538</td>\n",
       "      <td>0.009191</td>\n",
       "      <td>0.021064</td>\n",
       "      <td>-0.014420</td>\n",
       "      <td>0.088179</td>\n",
       "      <td>-0.014516</td>\n",
       "      <td>0.017502</td>\n",
       "      <td>-0.062802</td>\n",
       "      <td>0.001013</td>\n",
       "      <td>...</td>\n",
       "      <td>0.021028</td>\n",
       "      <td>-0.030406</td>\n",
       "      <td>0.009686</td>\n",
       "      <td>0.028408</td>\n",
       "      <td>0.003626</td>\n",
       "      <td>0.023425</td>\n",
       "      <td>-0.009653</td>\n",
       "      <td>-0.013343</td>\n",
       "      <td>-0.025807</td>\n",
       "      <td>0.004808</td>\n",
       "    </tr>\n",
       "    <tr>\n",
       "      <th>marital_married</th>\n",
       "      <td>-0.046567</td>\n",
       "      <td>0.109424</td>\n",
       "      <td>0.049794</td>\n",
       "      <td>0.044143</td>\n",
       "      <td>-0.003931</td>\n",
       "      <td>0.092753</td>\n",
       "      <td>-0.006989</td>\n",
       "      <td>-0.021308</td>\n",
       "      <td>-0.191375</td>\n",
       "      <td>-0.052216</td>\n",
       "      <td>...</td>\n",
       "      <td>-0.007670</td>\n",
       "      <td>0.032056</td>\n",
       "      <td>0.036857</td>\n",
       "      <td>0.044692</td>\n",
       "      <td>0.001760</td>\n",
       "      <td>-0.037747</td>\n",
       "      <td>0.055415</td>\n",
       "      <td>-0.020003</td>\n",
       "      <td>-0.002291</td>\n",
       "      <td>-0.094246</td>\n",
       "    </tr>\n",
       "    <tr>\n",
       "      <th>marital_single</th>\n",
       "      <td>0.032847</td>\n",
       "      <td>-0.076837</td>\n",
       "      <td>-0.059333</td>\n",
       "      <td>-0.061497</td>\n",
       "      <td>0.014118</td>\n",
       "      <td>-0.159472</td>\n",
       "      <td>0.017439</td>\n",
       "      <td>0.010624</td>\n",
       "      <td>0.246965</td>\n",
       "      <td>0.054882</td>\n",
       "      <td>...</td>\n",
       "      <td>-0.006322</td>\n",
       "      <td>-0.013176</td>\n",
       "      <td>-0.045904</td>\n",
       "      <td>-0.067140</td>\n",
       "      <td>-0.004371</td>\n",
       "      <td>0.024042</td>\n",
       "      <td>-0.052335</td>\n",
       "      <td>0.030483</td>\n",
       "      <td>0.020217</td>\n",
       "      <td>0.097005</td>\n",
       "    </tr>\n",
       "    <tr>\n",
       "      <th>contact_cellular</th>\n",
       "      <td>0.009371</td>\n",
       "      <td>-0.137207</td>\n",
       "      <td>-0.023679</td>\n",
       "      <td>-0.023516</td>\n",
       "      <td>0.105241</td>\n",
       "      <td>-0.026588</td>\n",
       "      <td>-0.009572</td>\n",
       "      <td>-0.024084</td>\n",
       "      <td>0.052483</td>\n",
       "      <td>0.040963</td>\n",
       "      <td>...</td>\n",
       "      <td>-0.028878</td>\n",
       "      <td>0.030039</td>\n",
       "      <td>-0.186832</td>\n",
       "      <td>0.000653</td>\n",
       "      <td>-0.006511</td>\n",
       "      <td>0.022006</td>\n",
       "      <td>-0.068573</td>\n",
       "      <td>0.208006</td>\n",
       "      <td>0.152816</td>\n",
       "      <td>0.223944</td>\n",
       "    </tr>\n",
       "    <tr>\n",
       "      <th>contact_telephone</th>\n",
       "      <td>-0.011570</td>\n",
       "      <td>-0.014833</td>\n",
       "      <td>0.010319</td>\n",
       "      <td>0.037258</td>\n",
       "      <td>-0.037554</td>\n",
       "      <td>0.151352</td>\n",
       "      <td>0.001260</td>\n",
       "      <td>-0.022537</td>\n",
       "      <td>0.021916</td>\n",
       "      <td>-0.046858</td>\n",
       "      <td>...</td>\n",
       "      <td>-0.021596</td>\n",
       "      <td>0.061140</td>\n",
       "      <td>-0.084942</td>\n",
       "      <td>-0.016394</td>\n",
       "      <td>0.013647</td>\n",
       "      <td>-0.022244</td>\n",
       "      <td>0.056650</td>\n",
       "      <td>0.004120</td>\n",
       "      <td>0.021669</td>\n",
       "      <td>0.007064</td>\n",
       "    </tr>\n",
       "    <tr>\n",
       "      <th>contact_unknown</th>\n",
       "      <td>-0.003276</td>\n",
       "      <td>0.159073</td>\n",
       "      <td>0.019686</td>\n",
       "      <td>0.003264</td>\n",
       "      <td>-0.092506</td>\n",
       "      <td>-0.062176</td>\n",
       "      <td>0.009714</td>\n",
       "      <td>0.039943</td>\n",
       "      <td>-0.070642</td>\n",
       "      <td>-0.016565</td>\n",
       "      <td>...</td>\n",
       "      <td>0.044621</td>\n",
       "      <td>-0.069737</td>\n",
       "      <td>0.255649</td>\n",
       "      <td>0.009172</td>\n",
       "      <td>-0.001105</td>\n",
       "      <td>-0.010665</td>\n",
       "      <td>0.040870</td>\n",
       "      <td>-0.230080</td>\n",
       "      <td>-0.180274</td>\n",
       "      <td>-0.249294</td>\n",
       "    </tr>\n",
       "    <tr>\n",
       "      <th>month_apr</th>\n",
       "      <td>0.010586</td>\n",
       "      <td>0.014651</td>\n",
       "      <td>-0.018350</td>\n",
       "      <td>-0.013171</td>\n",
       "      <td>0.001588</td>\n",
       "      <td>0.000790</td>\n",
       "      <td>0.003109</td>\n",
       "      <td>-0.010670</td>\n",
       "      <td>0.014734</td>\n",
       "      <td>-0.011287</td>\n",
       "      <td>...</td>\n",
       "      <td>-0.018812</td>\n",
       "      <td>0.050392</td>\n",
       "      <td>0.031485</td>\n",
       "      <td>-0.040164</td>\n",
       "      <td>0.110547</td>\n",
       "      <td>0.027398</td>\n",
       "      <td>-0.075791</td>\n",
       "      <td>0.080709</td>\n",
       "      <td>0.017112</td>\n",
       "      <td>0.092888</td>\n",
       "    </tr>\n",
       "    <tr>\n",
       "      <th>month_aug</th>\n",
       "      <td>-0.059318</td>\n",
       "      <td>-0.105630</td>\n",
       "      <td>-0.029022</td>\n",
       "      <td>0.019303</td>\n",
       "      <td>0.100450</td>\n",
       "      <td>0.018744</td>\n",
       "      <td>0.007677</td>\n",
       "      <td>-0.068770</td>\n",
       "      <td>-0.002739</td>\n",
       "      <td>0.102669</td>\n",
       "      <td>...</td>\n",
       "      <td>-0.003966</td>\n",
       "      <td>-0.008252</td>\n",
       "      <td>-0.235772</td>\n",
       "      <td>-0.064208</td>\n",
       "      <td>-0.001758</td>\n",
       "      <td>-0.024372</td>\n",
       "      <td>0.149425</td>\n",
       "      <td>-0.066859</td>\n",
       "      <td>-0.033919</td>\n",
       "      <td>-0.018225</td>\n",
       "    </tr>\n",
       "    <tr>\n",
       "      <th>month_dec</th>\n",
       "      <td>-0.004625</td>\n",
       "      <td>-0.026045</td>\n",
       "      <td>-0.010753</td>\n",
       "      <td>-0.002122</td>\n",
       "      <td>0.001712</td>\n",
       "      <td>0.049800</td>\n",
       "      <td>-0.001653</td>\n",
       "      <td>-0.007354</td>\n",
       "      <td>0.029324</td>\n",
       "      <td>-0.011459</td>\n",
       "      <td>...</td>\n",
       "      <td>-0.012456</td>\n",
       "      <td>0.027092</td>\n",
       "      <td>-0.059625</td>\n",
       "      <td>-0.029521</td>\n",
       "      <td>-0.011651</td>\n",
       "      <td>0.007100</td>\n",
       "      <td>-0.014967</td>\n",
       "      <td>0.045581</td>\n",
       "      <td>0.062397</td>\n",
       "      <td>0.085041</td>\n",
       "    </tr>\n",
       "    <tr>\n",
       "      <th>month_feb</th>\n",
       "      <td>0.005393</td>\n",
       "      <td>-0.057413</td>\n",
       "      <td>-0.000112</td>\n",
       "      <td>-0.014115</td>\n",
       "      <td>0.013434</td>\n",
       "      <td>0.033614</td>\n",
       "      <td>-0.000248</td>\n",
       "      <td>-0.021987</td>\n",
       "      <td>0.028783</td>\n",
       "      <td>-0.002026</td>\n",
       "      <td>...</td>\n",
       "      <td>-0.020260</td>\n",
       "      <td>0.010160</td>\n",
       "      <td>-0.079198</td>\n",
       "      <td>-0.012067</td>\n",
       "      <td>-0.236222</td>\n",
       "      <td>-0.025231</td>\n",
       "      <td>-0.039026</td>\n",
       "      <td>0.054450</td>\n",
       "      <td>0.064806</td>\n",
       "      <td>0.044728</td>\n",
       "    </tr>\n",
       "    <tr>\n",
       "      <th>month_jan</th>\n",
       "      <td>-0.000576</td>\n",
       "      <td>-0.031082</td>\n",
       "      <td>-0.011573</td>\n",
       "      <td>0.007421</td>\n",
       "      <td>-0.014924</td>\n",
       "      <td>0.029876</td>\n",
       "      <td>-0.003985</td>\n",
       "      <td>0.015348</td>\n",
       "      <td>-0.000933</td>\n",
       "      <td>0.003518</td>\n",
       "      <td>...</td>\n",
       "      <td>0.003382</td>\n",
       "      <td>-0.011331</td>\n",
       "      <td>-0.090039</td>\n",
       "      <td>0.003325</td>\n",
       "      <td>0.225136</td>\n",
       "      <td>-0.010272</td>\n",
       "      <td>-0.053519</td>\n",
       "      <td>0.015399</td>\n",
       "      <td>0.030680</td>\n",
       "      <td>-0.025847</td>\n",
       "    </tr>\n",
       "    <tr>\n",
       "      <th>month_jul</th>\n",
       "      <td>0.012265</td>\n",
       "      <td>0.004781</td>\n",
       "      <td>0.038446</td>\n",
       "      <td>0.021264</td>\n",
       "      <td>-0.022276</td>\n",
       "      <td>-0.023057</td>\n",
       "      <td>-0.006530</td>\n",
       "      <td>0.039855</td>\n",
       "      <td>-0.017329</td>\n",
       "      <td>-0.022308</td>\n",
       "      <td>...</td>\n",
       "      <td>0.048653</td>\n",
       "      <td>-0.086824</td>\n",
       "      <td>-0.029806</td>\n",
       "      <td>0.163249</td>\n",
       "      <td>0.130897</td>\n",
       "      <td>0.056203</td>\n",
       "      <td>0.118163</td>\n",
       "      <td>-0.108347</td>\n",
       "      <td>-0.085135</td>\n",
       "      <td>-0.042779</td>\n",
       "    </tr>\n",
       "    <tr>\n",
       "      <th>month_jun</th>\n",
       "      <td>-0.001089</td>\n",
       "      <td>0.032766</td>\n",
       "      <td>0.026586</td>\n",
       "      <td>0.049777</td>\n",
       "      <td>-0.026360</td>\n",
       "      <td>-0.010806</td>\n",
       "      <td>0.004955</td>\n",
       "      <td>0.012644</td>\n",
       "      <td>-0.017265</td>\n",
       "      <td>-0.030950</td>\n",
       "      <td>...</td>\n",
       "      <td>0.019626</td>\n",
       "      <td>0.039753</td>\n",
       "      <td>-0.073133</td>\n",
       "      <td>-0.014897</td>\n",
       "      <td>-0.182032</td>\n",
       "      <td>-0.003061</td>\n",
       "      <td>0.046763</td>\n",
       "      <td>-0.093551</td>\n",
       "      <td>-0.050067</td>\n",
       "      <td>-0.008533</td>\n",
       "    </tr>\n",
       "    <tr>\n",
       "      <th>month_mar</th>\n",
       "      <td>0.003533</td>\n",
       "      <td>-0.055255</td>\n",
       "      <td>-0.019403</td>\n",
       "      <td>0.004569</td>\n",
       "      <td>0.036884</td>\n",
       "      <td>0.046085</td>\n",
       "      <td>0.002135</td>\n",
       "      <td>-0.012503</td>\n",
       "      <td>0.023515</td>\n",
       "      <td>-0.016709</td>\n",
       "      <td>...</td>\n",
       "      <td>-0.020028</td>\n",
       "      <td>0.043832</td>\n",
       "      <td>-0.075948</td>\n",
       "      <td>-0.041105</td>\n",
       "      <td>-0.044303</td>\n",
       "      <td>-0.034640</td>\n",
       "      <td>-0.030574</td>\n",
       "      <td>0.024192</td>\n",
       "      <td>0.025225</td>\n",
       "      <td>0.135348</td>\n",
       "    </tr>\n",
       "    <tr>\n",
       "      <th>month_may</th>\n",
       "      <td>0.027696</td>\n",
       "      <td>0.170969</td>\n",
       "      <td>-0.018227</td>\n",
       "      <td>-0.053982</td>\n",
       "      <td>-0.095434</td>\n",
       "      <td>-0.090053</td>\n",
       "      <td>-0.017982</td>\n",
       "      <td>0.066271</td>\n",
       "      <td>-0.032509</td>\n",
       "      <td>-0.009936</td>\n",
       "      <td>...</td>\n",
       "      <td>-0.001761</td>\n",
       "      <td>-0.098073</td>\n",
       "      <td>0.432605</td>\n",
       "      <td>0.002778</td>\n",
       "      <td>-0.014580</td>\n",
       "      <td>0.007983</td>\n",
       "      <td>-0.044348</td>\n",
       "      <td>0.028678</td>\n",
       "      <td>-0.025077</td>\n",
       "      <td>-0.168203</td>\n",
       "    </tr>\n",
       "    <tr>\n",
       "      <th>month_nov</th>\n",
       "      <td>-0.008095</td>\n",
       "      <td>-0.025624</td>\n",
       "      <td>0.045535</td>\n",
       "      <td>-0.005830</td>\n",
       "      <td>0.030269</td>\n",
       "      <td>-0.016737</td>\n",
       "      <td>0.026810</td>\n",
       "      <td>-0.019849</td>\n",
       "      <td>-0.004541</td>\n",
       "      <td>-0.008488</td>\n",
       "      <td>...</td>\n",
       "      <td>0.000544</td>\n",
       "      <td>0.081861</td>\n",
       "      <td>-0.000219</td>\n",
       "      <td>0.017720</td>\n",
       "      <td>0.056471</td>\n",
       "      <td>-0.015655</td>\n",
       "      <td>-0.077307</td>\n",
       "      <td>-0.007350</td>\n",
       "      <td>0.019722</td>\n",
       "      <td>-0.027754</td>\n",
       "    </tr>\n",
       "    <tr>\n",
       "      <th>month_oct</th>\n",
       "      <td>0.006208</td>\n",
       "      <td>-0.051792</td>\n",
       "      <td>-0.019363</td>\n",
       "      <td>0.012923</td>\n",
       "      <td>0.010856</td>\n",
       "      <td>0.071483</td>\n",
       "      <td>0.009364</td>\n",
       "      <td>-0.031120</td>\n",
       "      <td>0.031885</td>\n",
       "      <td>-0.003454</td>\n",
       "      <td>...</td>\n",
       "      <td>-0.023931</td>\n",
       "      <td>0.057041</td>\n",
       "      <td>-0.092026</td>\n",
       "      <td>-0.032357</td>\n",
       "      <td>0.072179</td>\n",
       "      <td>-0.012541</td>\n",
       "      <td>-0.071519</td>\n",
       "      <td>0.079833</td>\n",
       "      <td>0.055077</td>\n",
       "      <td>0.130599</td>\n",
       "    </tr>\n",
       "    <tr>\n",
       "      <th>month_sep</th>\n",
       "      <td>0.006847</td>\n",
       "      <td>-0.045333</td>\n",
       "      <td>-0.008032</td>\n",
       "      <td>-0.007499</td>\n",
       "      <td>0.037880</td>\n",
       "      <td>0.062945</td>\n",
       "      <td>-0.019143</td>\n",
       "      <td>-0.023491</td>\n",
       "      <td>0.027500</td>\n",
       "      <td>-0.024729</td>\n",
       "      <td>...</td>\n",
       "      <td>-0.016977</td>\n",
       "      <td>0.047841</td>\n",
       "      <td>-0.086893</td>\n",
       "      <td>-0.046196</td>\n",
       "      <td>-0.068744</td>\n",
       "      <td>-0.012077</td>\n",
       "      <td>-0.048672</td>\n",
       "      <td>0.110907</td>\n",
       "      <td>0.099795</td>\n",
       "      <td>0.125239</td>\n",
       "    </tr>\n",
       "    <tr>\n",
       "      <th>poutcome_failure</th>\n",
       "      <td>0.038762</td>\n",
       "      <td>-0.015957</td>\n",
       "      <td>0.002007</td>\n",
       "      <td>-0.015545</td>\n",
       "      <td>0.004471</td>\n",
       "      <td>-0.011205</td>\n",
       "      <td>-0.009059</td>\n",
       "      <td>-0.003684</td>\n",
       "      <td>-0.006769</td>\n",
       "      <td>0.005355</td>\n",
       "      <td>...</td>\n",
       "      <td>-0.025450</td>\n",
       "      <td>0.031040</td>\n",
       "      <td>0.085167</td>\n",
       "      <td>0.007458</td>\n",
       "      <td>-0.071175</td>\n",
       "      <td>-0.039476</td>\n",
       "      <td>-0.082282</td>\n",
       "      <td>0.608719</td>\n",
       "      <td>0.347800</td>\n",
       "      <td>0.021124</td>\n",
       "    </tr>\n",
       "    <tr>\n",
       "      <th>poutcome_other</th>\n",
       "      <td>0.008044</td>\n",
       "      <td>0.003622</td>\n",
       "      <td>-0.022674</td>\n",
       "      <td>-0.008928</td>\n",
       "      <td>0.010845</td>\n",
       "      <td>-0.002926</td>\n",
       "      <td>0.004926</td>\n",
       "      <td>-0.015454</td>\n",
       "      <td>0.040725</td>\n",
       "      <td>-0.011311</td>\n",
       "      <td>...</td>\n",
       "      <td>-0.017923</td>\n",
       "      <td>0.028111</td>\n",
       "      <td>0.009830</td>\n",
       "      <td>-0.019289</td>\n",
       "      <td>-0.008806</td>\n",
       "      <td>-0.009497</td>\n",
       "      <td>-0.024854</td>\n",
       "      <td>0.338049</td>\n",
       "      <td>0.318888</td>\n",
       "      <td>0.039319</td>\n",
       "    </tr>\n",
       "    <tr>\n",
       "      <th>poutcome_success</th>\n",
       "      <td>0.004628</td>\n",
       "      <td>-0.074494</td>\n",
       "      <td>-0.034155</td>\n",
       "      <td>-0.005594</td>\n",
       "      <td>0.035995</td>\n",
       "      <td>0.070006</td>\n",
       "      <td>-0.000882</td>\n",
       "      <td>-0.028109</td>\n",
       "      <td>0.060619</td>\n",
       "      <td>-0.018613</td>\n",
       "      <td>...</td>\n",
       "      <td>-0.041510</td>\n",
       "      <td>0.073358</td>\n",
       "      <td>-0.134477</td>\n",
       "      <td>-0.082098</td>\n",
       "      <td>-0.044366</td>\n",
       "      <td>-0.025971</td>\n",
       "      <td>-0.094260</td>\n",
       "      <td>0.326215</td>\n",
       "      <td>0.328978</td>\n",
       "      <td>0.288491</td>\n",
       "    </tr>\n",
       "    <tr>\n",
       "      <th>poutcome_unknown</th>\n",
       "      <td>-0.035007</td>\n",
       "      <td>0.059758</td>\n",
       "      <td>0.032629</td>\n",
       "      <td>0.019350</td>\n",
       "      <td>-0.032725</td>\n",
       "      <td>-0.037501</td>\n",
       "      <td>0.004705</td>\n",
       "      <td>0.029125</td>\n",
       "      <td>-0.055835</td>\n",
       "      <td>0.014196</td>\n",
       "      <td>...</td>\n",
       "      <td>0.055032</td>\n",
       "      <td>-0.085456</td>\n",
       "      <td>0.024082</td>\n",
       "      <td>0.059235</td>\n",
       "      <td>0.085442</td>\n",
       "      <td>0.050571</td>\n",
       "      <td>0.134842</td>\n",
       "      <td>-0.824031</td>\n",
       "      <td>-0.628346</td>\n",
       "      <td>-0.228300</td>\n",
       "    </tr>\n",
       "    <tr>\n",
       "      <th>age</th>\n",
       "      <td>-0.057502</td>\n",
       "      <td>-0.065917</td>\n",
       "      <td>0.028390</td>\n",
       "      <td>0.092661</td>\n",
       "      <td>-0.036163</td>\n",
       "      <td>0.545524</td>\n",
       "      <td>-0.027947</td>\n",
       "      <td>-0.077266</td>\n",
       "      <td>-0.231436</td>\n",
       "      <td>-0.074596</td>\n",
       "      <td>...</td>\n",
       "      <td>-0.009929</td>\n",
       "      <td>0.115164</td>\n",
       "      <td>-0.164196</td>\n",
       "      <td>-0.026357</td>\n",
       "      <td>0.000396</td>\n",
       "      <td>-0.006007</td>\n",
       "      <td>-0.001143</td>\n",
       "      <td>0.006107</td>\n",
       "      <td>0.025383</td>\n",
       "      <td>0.024357</td>\n",
       "    </tr>\n",
       "    <tr>\n",
       "      <th>education</th>\n",
       "      <td>-0.055817</td>\n",
       "      <td>-0.371796</td>\n",
       "      <td>0.024219</td>\n",
       "      <td>-0.144242</td>\n",
       "      <td>0.518735</td>\n",
       "      <td>-0.148800</td>\n",
       "      <td>0.091001</td>\n",
       "      <td>-0.103846</td>\n",
       "      <td>-0.009494</td>\n",
       "      <td>0.047966</td>\n",
       "      <td>...</td>\n",
       "      <td>-0.015692</td>\n",
       "      <td>0.043251</td>\n",
       "      <td>-0.094350</td>\n",
       "      <td>-0.052566</td>\n",
       "      <td>0.008989</td>\n",
       "      <td>-0.016869</td>\n",
       "      <td>-0.012280</td>\n",
       "      <td>0.024123</td>\n",
       "      <td>0.025368</td>\n",
       "      <td>0.098253</td>\n",
       "    </tr>\n",
       "    <tr>\n",
       "      <th>default</th>\n",
       "      <td>-0.022421</td>\n",
       "      <td>0.022989</td>\n",
       "      <td>0.023264</td>\n",
       "      <td>0.019273</td>\n",
       "      <td>-0.000055</td>\n",
       "      <td>-0.018524</td>\n",
       "      <td>0.008924</td>\n",
       "      <td>-0.020168</td>\n",
       "      <td>-0.019190</td>\n",
       "      <td>0.004419</td>\n",
       "      <td>...</td>\n",
       "      <td>1.000000</td>\n",
       "      <td>-0.110928</td>\n",
       "      <td>0.009551</td>\n",
       "      <td>0.074786</td>\n",
       "      <td>0.018724</td>\n",
       "      <td>-0.008162</td>\n",
       "      <td>0.033404</td>\n",
       "      <td>-0.037323</td>\n",
       "      <td>-0.036605</td>\n",
       "      <td>-0.038872</td>\n",
       "    </tr>\n",
       "    <tr>\n",
       "      <th>balance</th>\n",
       "      <td>-0.028057</td>\n",
       "      <td>-0.049484</td>\n",
       "      <td>-0.008727</td>\n",
       "      <td>0.000907</td>\n",
       "      <td>0.039205</td>\n",
       "      <td>0.091421</td>\n",
       "      <td>0.009889</td>\n",
       "      <td>-0.037633</td>\n",
       "      <td>0.007133</td>\n",
       "      <td>-0.010460</td>\n",
       "      <td>...</td>\n",
       "      <td>-0.110928</td>\n",
       "      <td>1.000000</td>\n",
       "      <td>-0.094919</td>\n",
       "      <td>-0.113089</td>\n",
       "      <td>-0.009987</td>\n",
       "      <td>0.025781</td>\n",
       "      <td>-0.042689</td>\n",
       "      <td>0.045155</td>\n",
       "      <td>0.060419</td>\n",
       "      <td>0.135893</td>\n",
       "    </tr>\n",
       "    <tr>\n",
       "      <th>housing</th>\n",
       "      <td>0.063547</td>\n",
       "      <td>0.194115</td>\n",
       "      <td>0.006600</td>\n",
       "      <td>-0.063824</td>\n",
       "      <td>-0.077697</td>\n",
       "      <td>-0.168785</td>\n",
       "      <td>-0.019555</td>\n",
       "      <td>0.080129</td>\n",
       "      <td>-0.124261</td>\n",
       "      <td>0.004772</td>\n",
       "      <td>...</td>\n",
       "      <td>0.009551</td>\n",
       "      <td>-0.094919</td>\n",
       "      <td>1.000000</td>\n",
       "      <td>0.072252</td>\n",
       "      <td>-0.022644</td>\n",
       "      <td>0.038492</td>\n",
       "      <td>0.006257</td>\n",
       "      <td>0.064138</td>\n",
       "      <td>-0.000221</td>\n",
       "      <td>-0.200290</td>\n",
       "    </tr>\n",
       "    <tr>\n",
       "      <th>loan</th>\n",
       "      <td>0.049098</td>\n",
       "      <td>0.056857</td>\n",
       "      <td>0.038298</td>\n",
       "      <td>-0.028973</td>\n",
       "      <td>-0.052683</td>\n",
       "      <td>-0.045674</td>\n",
       "      <td>0.004113</td>\n",
       "      <td>0.032109</td>\n",
       "      <td>-0.071385</td>\n",
       "      <td>0.009501</td>\n",
       "      <td>...</td>\n",
       "      <td>0.074786</td>\n",
       "      <td>-0.113089</td>\n",
       "      <td>0.072252</td>\n",
       "      <td>1.000000</td>\n",
       "      <td>0.019136</td>\n",
       "      <td>0.001476</td>\n",
       "      <td>0.033889</td>\n",
       "      <td>-0.030788</td>\n",
       "      <td>-0.020087</td>\n",
       "      <td>-0.107240</td>\n",
       "    </tr>\n",
       "    <tr>\n",
       "      <th>day</th>\n",
       "      <td>-0.010680</td>\n",
       "      <td>-0.019876</td>\n",
       "      <td>-0.005463</td>\n",
       "      <td>0.010920</td>\n",
       "      <td>0.003025</td>\n",
       "      <td>-0.005226</td>\n",
       "      <td>0.001565</td>\n",
       "      <td>0.002787</td>\n",
       "      <td>-0.010712</td>\n",
       "      <td>0.031050</td>\n",
       "      <td>...</td>\n",
       "      <td>0.018724</td>\n",
       "      <td>-0.009987</td>\n",
       "      <td>-0.022644</td>\n",
       "      <td>0.019136</td>\n",
       "      <td>1.000000</td>\n",
       "      <td>-0.016695</td>\n",
       "      <td>0.142169</td>\n",
       "      <td>-0.078757</td>\n",
       "      <td>-0.059739</td>\n",
       "      <td>-0.056878</td>\n",
       "    </tr>\n",
       "    <tr>\n",
       "      <th>duration</th>\n",
       "      <td>-0.023585</td>\n",
       "      <td>0.032253</td>\n",
       "      <td>0.000594</td>\n",
       "      <td>-0.010009</td>\n",
       "      <td>-0.024309</td>\n",
       "      <td>0.006052</td>\n",
       "      <td>0.014513</td>\n",
       "      <td>0.013911</td>\n",
       "      <td>-0.017974</td>\n",
       "      <td>-0.007488</td>\n",
       "      <td>...</td>\n",
       "      <td>-0.008162</td>\n",
       "      <td>0.025781</td>\n",
       "      <td>0.038492</td>\n",
       "      <td>0.001476</td>\n",
       "      <td>-0.016695</td>\n",
       "      <td>1.000000</td>\n",
       "      <td>-0.042576</td>\n",
       "      <td>-0.033053</td>\n",
       "      <td>-0.034233</td>\n",
       "      <td>0.457818</td>\n",
       "    </tr>\n",
       "    <tr>\n",
       "      <th>campaign</th>\n",
       "      <td>-0.018834</td>\n",
       "      <td>0.002430</td>\n",
       "      <td>0.011168</td>\n",
       "      <td>0.008832</td>\n",
       "      <td>0.018159</td>\n",
       "      <td>-0.037189</td>\n",
       "      <td>0.006299</td>\n",
       "      <td>0.009145</td>\n",
       "      <td>-0.023710</td>\n",
       "      <td>0.022406</td>\n",
       "      <td>...</td>\n",
       "      <td>0.033404</td>\n",
       "      <td>-0.042689</td>\n",
       "      <td>0.006257</td>\n",
       "      <td>0.033889</td>\n",
       "      <td>0.142169</td>\n",
       "      <td>-0.042576</td>\n",
       "      <td>1.000000</td>\n",
       "      <td>-0.105214</td>\n",
       "      <td>-0.052312</td>\n",
       "      <td>-0.130707</td>\n",
       "    </tr>\n",
       "    <tr>\n",
       "      <th>pdays</th>\n",
       "      <td>0.046293</td>\n",
       "      <td>-0.024269</td>\n",
       "      <td>-0.026802</td>\n",
       "      <td>-0.023625</td>\n",
       "      <td>0.010868</td>\n",
       "      <td>0.007287</td>\n",
       "      <td>-0.012057</td>\n",
       "      <td>-0.002427</td>\n",
       "      <td>0.025137</td>\n",
       "      <td>-0.017993</td>\n",
       "      <td>...</td>\n",
       "      <td>-0.037323</td>\n",
       "      <td>0.045155</td>\n",
       "      <td>0.064138</td>\n",
       "      <td>-0.030788</td>\n",
       "      <td>-0.078757</td>\n",
       "      <td>-0.033053</td>\n",
       "      <td>-0.105214</td>\n",
       "      <td>1.000000</td>\n",
       "      <td>0.513708</td>\n",
       "      <td>0.147917</td>\n",
       "    </tr>\n",
       "    <tr>\n",
       "      <th>previous</th>\n",
       "      <td>0.030985</td>\n",
       "      <td>-0.031299</td>\n",
       "      <td>-0.019716</td>\n",
       "      <td>-0.021409</td>\n",
       "      <td>0.013374</td>\n",
       "      <td>0.017963</td>\n",
       "      <td>0.000904</td>\n",
       "      <td>-0.019909</td>\n",
       "      <td>0.037421</td>\n",
       "      <td>-0.007059</td>\n",
       "      <td>...</td>\n",
       "      <td>-0.036605</td>\n",
       "      <td>0.060419</td>\n",
       "      <td>-0.000221</td>\n",
       "      <td>-0.020087</td>\n",
       "      <td>-0.059739</td>\n",
       "      <td>-0.034233</td>\n",
       "      <td>-0.052312</td>\n",
       "      <td>0.513708</td>\n",
       "      <td>1.000000</td>\n",
       "      <td>0.141102</td>\n",
       "    </tr>\n",
       "    <tr>\n",
       "      <th>deposit</th>\n",
       "      <td>-0.001927</td>\n",
       "      <td>-0.095845</td>\n",
       "      <td>-0.032706</td>\n",
       "      <td>-0.022572</td>\n",
       "      <td>0.029566</td>\n",
       "      <td>0.100090</td>\n",
       "      <td>-0.005194</td>\n",
       "      <td>-0.040433</td>\n",
       "      <td>0.105563</td>\n",
       "      <td>-0.011190</td>\n",
       "      <td>...</td>\n",
       "      <td>-0.038872</td>\n",
       "      <td>0.135893</td>\n",
       "      <td>-0.200290</td>\n",
       "      <td>-0.107240</td>\n",
       "      <td>-0.056878</td>\n",
       "      <td>0.457818</td>\n",
       "      <td>-0.130707</td>\n",
       "      <td>0.147917</td>\n",
       "      <td>0.141102</td>\n",
       "      <td>1.000000</td>\n",
       "    </tr>\n",
       "  </tbody>\n",
       "</table>\n",
       "<p>45 rows × 45 columns</p>\n",
       "</div>"
      ],
      "text/plain": [
       "                   job_admin.  job_blue-collar  job_entrepreneur  \\\n",
       "job_admin.           1.000000        -0.175008         -0.065600   \n",
       "job_blue-collar     -0.175008         1.000000         -0.081626   \n",
       "job_entrepreneur    -0.065600        -0.081626          1.000000   \n",
       "job_housemaid       -0.059977        -0.074629         -0.027974   \n",
       "job_management      -0.204444        -0.254389         -0.095355   \n",
       "job_retired         -0.099378        -0.123657         -0.046351   \n",
       "job_self-employed   -0.071874        -0.089433         -0.033523   \n",
       "job_services        -0.114964        -0.143050         -0.053621   \n",
       "job_student         -0.068474        -0.085203         -0.031937   \n",
       "job_technician      -0.164952        -0.205251         -0.076936   \n",
       "job_unemployed      -0.069123        -0.086010         -0.032240   \n",
       "marital_divorced     0.024272        -0.057538          0.009191   \n",
       "marital_married     -0.046567         0.109424          0.049794   \n",
       "marital_single       0.032847        -0.076837         -0.059333   \n",
       "contact_cellular     0.009371        -0.137207         -0.023679   \n",
       "contact_telephone   -0.011570        -0.014833          0.010319   \n",
       "contact_unknown     -0.003276         0.159073          0.019686   \n",
       "month_apr            0.010586         0.014651         -0.018350   \n",
       "month_aug           -0.059318        -0.105630         -0.029022   \n",
       "month_dec           -0.004625        -0.026045         -0.010753   \n",
       "month_feb            0.005393        -0.057413         -0.000112   \n",
       "month_jan           -0.000576        -0.031082         -0.011573   \n",
       "month_jul            0.012265         0.004781          0.038446   \n",
       "month_jun           -0.001089         0.032766          0.026586   \n",
       "month_mar            0.003533        -0.055255         -0.019403   \n",
       "month_may            0.027696         0.170969         -0.018227   \n",
       "month_nov           -0.008095        -0.025624          0.045535   \n",
       "month_oct            0.006208        -0.051792         -0.019363   \n",
       "month_sep            0.006847        -0.045333         -0.008032   \n",
       "poutcome_failure     0.038762        -0.015957          0.002007   \n",
       "poutcome_other       0.008044         0.003622         -0.022674   \n",
       "poutcome_success     0.004628        -0.074494         -0.034155   \n",
       "poutcome_unknown    -0.035007         0.059758          0.032629   \n",
       "age                 -0.057502        -0.065917          0.028390   \n",
       "education           -0.055817        -0.371796          0.024219   \n",
       "default             -0.022421         0.022989          0.023264   \n",
       "balance             -0.028057        -0.049484         -0.008727   \n",
       "housing              0.063547         0.194115          0.006600   \n",
       "loan                 0.049098         0.056857          0.038298   \n",
       "day                 -0.010680        -0.019876         -0.005463   \n",
       "duration            -0.023585         0.032253          0.000594   \n",
       "campaign            -0.018834         0.002430          0.011168   \n",
       "pdays                0.046293        -0.024269         -0.026802   \n",
       "previous             0.030985        -0.031299         -0.019716   \n",
       "deposit             -0.001927        -0.095845         -0.032706   \n",
       "\n",
       "                   job_housemaid  job_management  job_retired  \\\n",
       "job_admin.             -0.059977       -0.204444    -0.099378   \n",
       "job_blue-collar        -0.074629       -0.254389    -0.123657   \n",
       "job_entrepreneur       -0.027974       -0.095355    -0.046351   \n",
       "job_housemaid           1.000000       -0.087181    -0.042378   \n",
       "job_management         -0.087181        1.000000    -0.144455   \n",
       "job_retired            -0.042378       -0.144455     1.000000   \n",
       "job_self-employed      -0.030649       -0.104475    -0.050784   \n",
       "job_services           -0.049024       -0.167110    -0.081231   \n",
       "job_student            -0.029200       -0.099533    -0.048382   \n",
       "job_technician         -0.070341       -0.239772    -0.116551   \n",
       "job_unemployed         -0.029476       -0.100476    -0.048840   \n",
       "marital_divorced        0.021064       -0.014420     0.088179   \n",
       "marital_married         0.044143       -0.003931     0.092753   \n",
       "marital_single         -0.061497        0.014118    -0.159472   \n",
       "contact_cellular       -0.023516        0.105241    -0.026588   \n",
       "contact_telephone       0.037258       -0.037554     0.151352   \n",
       "contact_unknown         0.003264       -0.092506    -0.062176   \n",
       "month_apr              -0.013171        0.001588     0.000790   \n",
       "month_aug               0.019303        0.100450     0.018744   \n",
       "month_dec              -0.002122        0.001712     0.049800   \n",
       "month_feb              -0.014115        0.013434     0.033614   \n",
       "month_jan               0.007421       -0.014924     0.029876   \n",
       "month_jul               0.021264       -0.022276    -0.023057   \n",
       "month_jun               0.049777       -0.026360    -0.010806   \n",
       "month_mar               0.004569        0.036884     0.046085   \n",
       "month_may              -0.053982       -0.095434    -0.090053   \n",
       "month_nov              -0.005830        0.030269    -0.016737   \n",
       "month_oct               0.012923        0.010856     0.071483   \n",
       "month_sep              -0.007499        0.037880     0.062945   \n",
       "poutcome_failure       -0.015545        0.004471    -0.011205   \n",
       "poutcome_other         -0.008928        0.010845    -0.002926   \n",
       "poutcome_success       -0.005594        0.035995     0.070006   \n",
       "poutcome_unknown        0.019350       -0.032725    -0.037501   \n",
       "age                     0.092661       -0.036163     0.545524   \n",
       "education              -0.144242        0.518735    -0.148800   \n",
       "default                 0.019273       -0.000055    -0.018524   \n",
       "balance                 0.000907        0.039205     0.091421   \n",
       "housing                -0.063824       -0.077697    -0.168785   \n",
       "loan                   -0.028973       -0.052683    -0.045674   \n",
       "day                     0.010920        0.003025    -0.005226   \n",
       "duration               -0.010009       -0.024309     0.006052   \n",
       "campaign                0.008832        0.018159    -0.037189   \n",
       "pdays                  -0.023625        0.010868     0.007287   \n",
       "previous               -0.021409        0.013374     0.017963   \n",
       "deposit                -0.022572        0.029566     0.100090   \n",
       "\n",
       "                   job_self-employed  job_services  job_student  \\\n",
       "job_admin.                 -0.071874     -0.114964    -0.068474   \n",
       "job_blue-collar            -0.089433     -0.143050    -0.085203   \n",
       "job_entrepreneur           -0.033523     -0.053621    -0.031937   \n",
       "job_housemaid              -0.030649     -0.049024    -0.029200   \n",
       "job_management             -0.104475     -0.167110    -0.099533   \n",
       "job_retired                -0.050784     -0.081231    -0.048382   \n",
       "job_self-employed           1.000000     -0.058749    -0.034992   \n",
       "job_services               -0.058749      1.000000    -0.055970   \n",
       "job_student                -0.034992     -0.055970     1.000000   \n",
       "job_technician             -0.084294     -0.134830    -0.080307   \n",
       "job_unemployed             -0.035323     -0.056500    -0.033652   \n",
       "marital_divorced           -0.014516      0.017502    -0.062802   \n",
       "marital_married            -0.006989     -0.021308    -0.191375   \n",
       "marital_single              0.017439      0.010624     0.246965   \n",
       "contact_cellular           -0.009572     -0.024084     0.052483   \n",
       "contact_telephone           0.001260     -0.022537     0.021916   \n",
       "contact_unknown             0.009714      0.039943    -0.070642   \n",
       "month_apr                   0.003109     -0.010670     0.014734   \n",
       "month_aug                   0.007677     -0.068770    -0.002739   \n",
       "month_dec                  -0.001653     -0.007354     0.029324   \n",
       "month_feb                  -0.000248     -0.021987     0.028783   \n",
       "month_jan                  -0.003985      0.015348    -0.000933   \n",
       "month_jul                  -0.006530      0.039855    -0.017329   \n",
       "month_jun                   0.004955      0.012644    -0.017265   \n",
       "month_mar                   0.002135     -0.012503     0.023515   \n",
       "month_may                  -0.017982      0.066271    -0.032509   \n",
       "month_nov                   0.026810     -0.019849    -0.004541   \n",
       "month_oct                   0.009364     -0.031120     0.031885   \n",
       "month_sep                  -0.019143     -0.023491     0.027500   \n",
       "poutcome_failure           -0.009059     -0.003684    -0.006769   \n",
       "poutcome_other              0.004926     -0.015454     0.040725   \n",
       "poutcome_success           -0.000882     -0.028109     0.060619   \n",
       "poutcome_unknown            0.004705      0.029125    -0.055835   \n",
       "age                        -0.027947     -0.077266    -0.231436   \n",
       "education                   0.091001     -0.103846    -0.009494   \n",
       "default                     0.008924     -0.020168    -0.019190   \n",
       "balance                     0.009889     -0.037633     0.007133   \n",
       "housing                    -0.019555      0.080129    -0.124261   \n",
       "loan                        0.004113      0.032109    -0.071385   \n",
       "day                         0.001565      0.002787    -0.010712   \n",
       "duration                    0.014513      0.013911    -0.017974   \n",
       "campaign                    0.006299      0.009145    -0.023710   \n",
       "pdays                      -0.012057     -0.002427     0.025137   \n",
       "previous                    0.000904     -0.019909     0.037421   \n",
       "deposit                    -0.005194     -0.040433     0.105563   \n",
       "\n",
       "                   job_technician  ...   default   balance   housing  \\\n",
       "job_admin.              -0.164952  ... -0.022421 -0.028057  0.063547   \n",
       "job_blue-collar         -0.205251  ...  0.022989 -0.049484  0.194115   \n",
       "job_entrepreneur        -0.076936  ...  0.023264 -0.008727  0.006600   \n",
       "job_housemaid           -0.070341  ...  0.019273  0.000907 -0.063824   \n",
       "job_management          -0.239772  ... -0.000055  0.039205 -0.077697   \n",
       "job_retired             -0.116551  ... -0.018524  0.091421 -0.168785   \n",
       "job_self-employed       -0.084294  ...  0.008924  0.009889 -0.019555   \n",
       "job_services            -0.134830  ... -0.020168 -0.037633  0.080129   \n",
       "job_student             -0.080307  ... -0.019190  0.007133 -0.124261   \n",
       "job_technician           1.000000  ...  0.004419 -0.010460  0.004772   \n",
       "job_unemployed          -0.081068  ...  0.011120  0.009689 -0.059712   \n",
       "marital_divorced         0.001013  ...  0.021028 -0.030406  0.009686   \n",
       "marital_married         -0.052216  ... -0.007670  0.032056  0.036857   \n",
       "marital_single           0.054882  ... -0.006322 -0.013176 -0.045904   \n",
       "contact_cellular         0.040963  ... -0.028878  0.030039 -0.186832   \n",
       "contact_telephone       -0.046858  ... -0.021596  0.061140 -0.084942   \n",
       "contact_unknown         -0.016565  ...  0.044621 -0.069737  0.255649   \n",
       "month_apr               -0.011287  ... -0.018812  0.050392  0.031485   \n",
       "month_aug                0.102669  ... -0.003966 -0.008252 -0.235772   \n",
       "month_dec               -0.011459  ... -0.012456  0.027092 -0.059625   \n",
       "month_feb               -0.002026  ... -0.020260  0.010160 -0.079198   \n",
       "month_jan                0.003518  ...  0.003382 -0.011331 -0.090039   \n",
       "month_jul               -0.022308  ...  0.048653 -0.086824 -0.029806   \n",
       "month_jun               -0.030950  ...  0.019626  0.039753 -0.073133   \n",
       "month_mar               -0.016709  ... -0.020028  0.043832 -0.075948   \n",
       "month_may               -0.009936  ... -0.001761 -0.098073  0.432605   \n",
       "month_nov               -0.008488  ...  0.000544  0.081861 -0.000219   \n",
       "month_oct               -0.003454  ... -0.023931  0.057041 -0.092026   \n",
       "month_sep               -0.024729  ... -0.016977  0.047841 -0.086893   \n",
       "poutcome_failure         0.005355  ... -0.025450  0.031040  0.085167   \n",
       "poutcome_other          -0.011311  ... -0.017923  0.028111  0.009830   \n",
       "poutcome_success        -0.018613  ... -0.041510  0.073358 -0.134477   \n",
       "poutcome_unknown         0.014196  ...  0.055032 -0.085456  0.024082   \n",
       "age                     -0.074596  ... -0.009929  0.115164 -0.164196   \n",
       "education                0.047966  ... -0.015692  0.043251 -0.094350   \n",
       "default                  0.004419  ...  1.000000 -0.110928  0.009551   \n",
       "balance                 -0.010460  ... -0.110928  1.000000 -0.094919   \n",
       "housing                  0.004772  ...  0.009551 -0.094919  1.000000   \n",
       "loan                     0.009501  ...  0.074786 -0.113089  0.072252   \n",
       "day                      0.031050  ...  0.018724 -0.009987 -0.022644   \n",
       "duration                -0.007488  ... -0.008162  0.025781  0.038492   \n",
       "campaign                 0.022406  ...  0.033404 -0.042689  0.006257   \n",
       "pdays                   -0.017993  ... -0.037323  0.045155  0.064138   \n",
       "previous                -0.007059  ... -0.036605  0.060419 -0.000221   \n",
       "deposit                 -0.011190  ... -0.038872  0.135893 -0.200290   \n",
       "\n",
       "                       loan       day  duration  campaign     pdays  previous  \\\n",
       "job_admin.         0.049098 -0.010680 -0.023585 -0.018834  0.046293  0.030985   \n",
       "job_blue-collar    0.056857 -0.019876  0.032253  0.002430 -0.024269 -0.031299   \n",
       "job_entrepreneur   0.038298 -0.005463  0.000594  0.011168 -0.026802 -0.019716   \n",
       "job_housemaid     -0.028973  0.010920 -0.010009  0.008832 -0.023625 -0.021409   \n",
       "job_management    -0.052683  0.003025 -0.024309  0.018159  0.010868  0.013374   \n",
       "job_retired       -0.045674 -0.005226  0.006052 -0.037189  0.007287  0.017963   \n",
       "job_self-employed  0.004113  0.001565  0.014513  0.006299 -0.012057  0.000904   \n",
       "job_services       0.032109  0.002787  0.013911  0.009145 -0.002427 -0.019909   \n",
       "job_student       -0.071385 -0.010712 -0.017974 -0.023710  0.025137  0.037421   \n",
       "job_technician     0.009501  0.031050 -0.007488  0.022406 -0.017993 -0.007059   \n",
       "job_unemployed    -0.039883 -0.001380  0.027641 -0.023728  0.005833 -0.000987   \n",
       "marital_divorced   0.028408  0.003626  0.023425 -0.009653 -0.013343 -0.025807   \n",
       "marital_married    0.044692  0.001760 -0.037747  0.055415 -0.020003 -0.002291   \n",
       "marital_single    -0.067140 -0.004371  0.024042 -0.052335  0.030483  0.020217   \n",
       "contact_cellular   0.000653 -0.006511  0.022006 -0.068573  0.208006  0.152816   \n",
       "contact_telephone -0.016394  0.013647 -0.022244  0.056650  0.004120  0.021669   \n",
       "contact_unknown    0.009172 -0.001105 -0.010665  0.040870 -0.230080 -0.180274   \n",
       "month_apr         -0.040164  0.110547  0.027398 -0.075791  0.080709  0.017112   \n",
       "month_aug         -0.064208 -0.001758 -0.024372  0.149425 -0.066859 -0.033919   \n",
       "month_dec         -0.029521 -0.011651  0.007100 -0.014967  0.045581  0.062397   \n",
       "month_feb         -0.012067 -0.236222 -0.025231 -0.039026  0.054450  0.064806   \n",
       "month_jan          0.003325  0.225136 -0.010272 -0.053519  0.015399  0.030680   \n",
       "month_jul          0.163249  0.130897  0.056203  0.118163 -0.108347 -0.085135   \n",
       "month_jun         -0.014897 -0.182032 -0.003061  0.046763 -0.093551 -0.050067   \n",
       "month_mar         -0.041105 -0.044303 -0.034640 -0.030574  0.024192  0.025225   \n",
       "month_may          0.002778 -0.014580  0.007983 -0.044348  0.028678 -0.025077   \n",
       "month_nov          0.017720  0.056471 -0.015655 -0.077307 -0.007350  0.019722   \n",
       "month_oct         -0.032357  0.072179 -0.012541 -0.071519  0.079833  0.055077   \n",
       "month_sep         -0.046196 -0.068744 -0.012077 -0.048672  0.110907  0.099795   \n",
       "poutcome_failure   0.007458 -0.071175 -0.039476 -0.082282  0.608719  0.347800   \n",
       "poutcome_other    -0.019289 -0.008806 -0.009497 -0.024854  0.338049  0.318888   \n",
       "poutcome_success  -0.082098 -0.044366 -0.025971 -0.094260  0.326215  0.328978   \n",
       "poutcome_unknown   0.059235  0.085442  0.050571  0.134842 -0.824031 -0.628346   \n",
       "age               -0.026357  0.000396 -0.006007 -0.001143  0.006107  0.025383   \n",
       "education         -0.052566  0.008989 -0.016869 -0.012280  0.024123  0.025368   \n",
       "default            0.074786  0.018724 -0.008162  0.033404 -0.037323 -0.036605   \n",
       "balance           -0.113089 -0.009987  0.025781 -0.042689  0.045155  0.060419   \n",
       "housing            0.072252 -0.022644  0.038492  0.006257  0.064138 -0.000221   \n",
       "loan               1.000000  0.019136  0.001476  0.033889 -0.030788 -0.020087   \n",
       "day                0.019136  1.000000 -0.016695  0.142169 -0.078757 -0.059739   \n",
       "duration           0.001476 -0.016695  1.000000 -0.042576 -0.033053 -0.034233   \n",
       "campaign           0.033889  0.142169 -0.042576  1.000000 -0.105214 -0.052312   \n",
       "pdays             -0.030788 -0.078757 -0.033053 -0.105214  1.000000  0.513708   \n",
       "previous          -0.020087 -0.059739 -0.034233 -0.052312  0.513708  1.000000   \n",
       "deposit           -0.107240 -0.056878  0.457818 -0.130707  0.147917  0.141102   \n",
       "\n",
       "                    deposit  \n",
       "job_admin.        -0.001927  \n",
       "job_blue-collar   -0.095845  \n",
       "job_entrepreneur  -0.032706  \n",
       "job_housemaid     -0.022572  \n",
       "job_management     0.029566  \n",
       "job_retired        0.100090  \n",
       "job_self-employed -0.005194  \n",
       "job_services      -0.040433  \n",
       "job_student        0.105563  \n",
       "job_technician    -0.011190  \n",
       "job_unemployed     0.039196  \n",
       "marital_divorced   0.004808  \n",
       "marital_married   -0.094246  \n",
       "marital_single     0.097005  \n",
       "contact_cellular   0.223944  \n",
       "contact_telephone  0.007064  \n",
       "contact_unknown   -0.249294  \n",
       "month_apr          0.092888  \n",
       "month_aug         -0.018225  \n",
       "month_dec          0.085041  \n",
       "month_feb          0.044728  \n",
       "month_jan         -0.025847  \n",
       "month_jul         -0.042779  \n",
       "month_jun         -0.008533  \n",
       "month_mar          0.135348  \n",
       "month_may         -0.168203  \n",
       "month_nov         -0.027754  \n",
       "month_oct          0.130599  \n",
       "month_sep          0.125239  \n",
       "poutcome_failure   0.021124  \n",
       "poutcome_other     0.039319  \n",
       "poutcome_success   0.288491  \n",
       "poutcome_unknown  -0.228300  \n",
       "age                0.024357  \n",
       "education          0.098253  \n",
       "default           -0.038872  \n",
       "balance            0.135893  \n",
       "housing           -0.200290  \n",
       "loan              -0.107240  \n",
       "day               -0.056878  \n",
       "duration           0.457818  \n",
       "campaign          -0.130707  \n",
       "pdays              0.147917  \n",
       "previous           0.141102  \n",
       "deposit            1.000000  \n",
       "\n",
       "[45 rows x 45 columns]"
      ]
     },
     "execution_count": 240,
     "metadata": {},
     "output_type": "execute_result"
    }
   ],
   "source": [
    "correlation_matrix"
   ]
  },
  {
   "cell_type": "markdown",
   "id": "b5b4c1a5",
   "metadata": {},
   "source": [
    "### Задания 7 и 8"
   ]
  },
  {
   "cell_type": "code",
   "execution_count": 241,
   "id": "79f3e432",
   "metadata": {},
   "outputs": [],
   "source": [
    "X = df.drop(['deposit'], axis=1)\n",
    "y = df['deposit']\n",
    " \n",
    "X_train, X_test, y_train, y_test = train_test_split(X, y, stratify=y, random_state = 42, test_size = 0.33)"
   ]
  },
  {
   "cell_type": "code",
   "execution_count": 248,
   "id": "e3a097a4",
   "metadata": {},
   "outputs": [
    {
     "name": "stdout",
     "output_type": "stream",
     "text": [
      "3335\n",
      "0.46\n"
     ]
    }
   ],
   "source": [
    "# рассчитайте необходимые показатели\n",
    "print(y_test.size)\n",
    "print(round(y_test.mean(), 2))"
   ]
  },
  {
   "cell_type": "markdown",
   "id": "2e381a4f",
   "metadata": {},
   "source": [
    "### Задание 9"
   ]
  },
  {
   "cell_type": "code",
   "execution_count": 38,
   "id": "0f6e03e0",
   "metadata": {},
   "outputs": [],
   "source": [
    "# с помощью SelectKBest отберите 15 наиболее подходящих признаков"
   ]
  },
  {
   "cell_type": "markdown",
   "id": "60132ef3",
   "metadata": {},
   "source": [
    "### Задание 10"
   ]
  },
  {
   "cell_type": "code",
   "execution_count": 39,
   "id": "e91b06f3",
   "metadata": {},
   "outputs": [],
   "source": [
    "# нормализуйте данные с помощью minmaxsxaler"
   ]
  },
  {
   "cell_type": "markdown",
   "id": "0894c632",
   "metadata": {},
   "source": [
    "# Часть 4: Решение задачи классификации: логистическая регрессия и решающие деревья"
   ]
  },
  {
   "cell_type": "markdown",
   "id": "41b8ff06",
   "metadata": {},
   "source": [
    "### Задание 1"
   ]
  },
  {
   "cell_type": "code",
   "execution_count": 40,
   "id": "8acc0166",
   "metadata": {},
   "outputs": [],
   "source": [
    "# обучите логистическую регрессию и рассчитайте метрики качества"
   ]
  },
  {
   "cell_type": "markdown",
   "id": "29b7e0ba",
   "metadata": {},
   "source": [
    "### Задания 2,3,4"
   ]
  },
  {
   "cell_type": "code",
   "execution_count": 41,
   "id": "c91a588b",
   "metadata": {},
   "outputs": [],
   "source": [
    "# обучите решающие деревья, настройте максимальную глубину"
   ]
  },
  {
   "cell_type": "markdown",
   "id": "fe823c18",
   "metadata": {},
   "source": [
    "### Задание 5"
   ]
  },
  {
   "cell_type": "code",
   "execution_count": 42,
   "id": "63574943",
   "metadata": {},
   "outputs": [],
   "source": [
    "# подберите оптимальные параметры с помощью gridsearch"
   ]
  },
  {
   "cell_type": "markdown",
   "id": "ed0fc831",
   "metadata": {},
   "source": [
    "# Часть 5: Решение задачи классификации: ансамбли моделей и построение прогноза"
   ]
  },
  {
   "cell_type": "markdown",
   "id": "f9e36ff2",
   "metadata": {},
   "source": [
    "### Задание 1"
   ]
  },
  {
   "cell_type": "code",
   "execution_count": 43,
   "id": "e708e3fe",
   "metadata": {},
   "outputs": [],
   "source": [
    "# обучите на ваших данных случайный лес"
   ]
  },
  {
   "cell_type": "markdown",
   "id": "71d7b13d",
   "metadata": {},
   "source": [
    "### Задания 2 и 3"
   ]
  },
  {
   "cell_type": "code",
   "execution_count": 44,
   "id": "99f12dfe",
   "metadata": {},
   "outputs": [],
   "source": [
    "# используйте для классификации градиентный бустинг и сравните качество со случайным лесом"
   ]
  },
  {
   "cell_type": "markdown",
   "id": "b08718ae",
   "metadata": {},
   "source": [
    "### Задание 4"
   ]
  },
  {
   "cell_type": "code",
   "execution_count": 45,
   "id": "0bd42fb0",
   "metadata": {},
   "outputs": [],
   "source": [
    "# объедините уже известные вам алгоритмы с помощью стекинга "
   ]
  },
  {
   "cell_type": "markdown",
   "id": "6247a5fb",
   "metadata": {},
   "source": [
    "### Задание 5"
   ]
  },
  {
   "cell_type": "code",
   "execution_count": 46,
   "id": "35de769c",
   "metadata": {},
   "outputs": [],
   "source": [
    "# оцените, какие признаки демонстрируют наибольшую  важность в модели градиентного бустинга"
   ]
  },
  {
   "cell_type": "markdown",
   "id": "96974dda",
   "metadata": {},
   "source": [
    "### Задания 6,7,8"
   ]
  },
  {
   "cell_type": "code",
   "execution_count": 47,
   "id": "c48e29e9",
   "metadata": {},
   "outputs": [],
   "source": [
    "# реализуйте оптимизацию гиперпараметров с помощью Optuna"
   ]
  }
 ],
 "metadata": {
  "kernelspec": {
   "display_name": "Python 3 (ipykernel)",
   "language": "python",
   "name": "python3"
  },
  "language_info": {
   "codemirror_mode": {
    "name": "ipython",
    "version": 3
   },
   "file_extension": ".py",
   "mimetype": "text/x-python",
   "name": "python",
   "nbconvert_exporter": "python",
   "pygments_lexer": "ipython3",
   "version": "3.11.7"
  }
 },
 "nbformat": 4,
 "nbformat_minor": 5
}
